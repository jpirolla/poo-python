{
 "cells": [
  {
   "attachments": {},
   "cell_type": "markdown",
   "metadata": {},
   "source": [
    "# Revisão Sobrecarga de operadores"
   ]
  },
  {
   "attachments": {},
   "cell_type": "markdown",
   "metadata": {},
   "source": [
    "Recorremos à sobrecarga de operadores para reimplementar a forma que operações basicas acontecem e/ou habilitar certas operações no novo tipo de dado que estamos criando."
   ]
  },
  {
   "attachments": {},
   "cell_type": "markdown",
   "metadata": {},
   "source": [
    "## Operadores aritméticos "
   ]
  },
  {
   "attachments": {},
   "cell_type": "markdown",
   "metadata": {},
   "source": [
    "### Soma \n",
    "quando fazemos `a+b` o que é interpretado consiste na sentença `a.__add__(b)`."
   ]
  },
  {
   "attachments": {},
   "cell_type": "markdown",
   "metadata": {},
   "source": [
    "Quando os dois objetos são da mesma classe"
   ]
  },
  {
   "cell_type": "code",
   "execution_count": 89,
   "metadata": {},
   "outputs": [],
   "source": [
    "class SomaPelaMetade: \n",
    "    def __init__(self, valor):\n",
    "        self._valor = valor\n",
    "\n",
    "    def get_value(self): \n",
    "        return self._valor \n",
    "\n",
    "    def set_value(self, new_value): \n",
    "        self._value = new_value\n",
    "\n",
    "    def __add__(self, other): \n",
    "        soma = self._valor + (other._valor)/2\n",
    "        return soma\n"
   ]
  },
  {
   "cell_type": "code",
   "execution_count": 90,
   "metadata": {},
   "outputs": [],
   "source": [
    "a = SomaPelaMetade(1)\n",
    "b = SomaPelaMetade(10)"
   ]
  },
  {
   "cell_type": "code",
   "execution_count": 91,
   "metadata": {},
   "outputs": [
    {
     "data": {
      "text/plain": [
       "6.0"
      ]
     },
     "execution_count": 91,
     "metadata": {},
     "output_type": "execute_result"
    }
   ],
   "source": [
    "a+b"
   ]
  },
  {
   "cell_type": "code",
   "execution_count": 92,
   "metadata": {},
   "outputs": [
    {
     "data": {
      "text/plain": [
       "10.5"
      ]
     },
     "execution_count": 92,
     "metadata": {},
     "output_type": "execute_result"
    }
   ],
   "source": [
    "b+a"
   ]
  },
  {
   "cell_type": "code",
   "execution_count": 93,
   "metadata": {},
   "outputs": [
    {
     "data": {
      "text/plain": [
       "6.0"
      ]
     },
     "execution_count": 93,
     "metadata": {},
     "output_type": "execute_result"
    }
   ],
   "source": [
    "a.__add__(b)"
   ]
  },
  {
   "attachments": {},
   "cell_type": "markdown",
   "metadata": {},
   "source": [
    "Quando apenas 1 dos objetos são da mesma classe "
   ]
  },
  {
   "cell_type": "code",
   "execution_count": 94,
   "metadata": {},
   "outputs": [
    {
     "ename": "AttributeError",
     "evalue": "'int' object has no attribute '_valor'",
     "output_type": "error",
     "traceback": [
      "\u001b[0;31m---------------------------------------------------------------------------\u001b[0m",
      "\u001b[0;31mAttributeError\u001b[0m                            Traceback (most recent call last)",
      "Cell \u001b[0;32mIn[94], line 1\u001b[0m\n\u001b[0;32m----> 1\u001b[0m a \u001b[39m+\u001b[39;49m \u001b[39m2\u001b[39;49m\n",
      "Cell \u001b[0;32mIn[89], line 12\u001b[0m, in \u001b[0;36mSomaPelaMetade.__add__\u001b[0;34m(self, other)\u001b[0m\n\u001b[1;32m     11\u001b[0m \u001b[39mdef\u001b[39;00m \u001b[39m__add__\u001b[39m(\u001b[39mself\u001b[39m, other): \n\u001b[0;32m---> 12\u001b[0m     soma \u001b[39m=\u001b[39m \u001b[39mself\u001b[39m\u001b[39m.\u001b[39m_valor \u001b[39m+\u001b[39m (other\u001b[39m.\u001b[39;49m_valor)\u001b[39m/\u001b[39m\u001b[39m2\u001b[39m\n\u001b[1;32m     13\u001b[0m     \u001b[39mreturn\u001b[39;00m soma\n",
      "\u001b[0;31mAttributeError\u001b[0m: 'int' object has no attribute '_valor'"
     ]
    }
   ],
   "source": [
    "a + 2"
   ]
  },
  {
   "cell_type": "code",
   "execution_count": null,
   "metadata": {},
   "outputs": [
    {
     "ename": "TypeError",
     "evalue": "unsupported operand type(s) for +: 'int' and 'SomaPelaMetade'",
     "output_type": "error",
     "traceback": [
      "\u001b[0;31m---------------------------------------------------------------------------\u001b[0m",
      "\u001b[0;31mTypeError\u001b[0m                                 Traceback (most recent call last)",
      "Cell \u001b[0;32mIn[9], line 1\u001b[0m\n\u001b[0;32m----> 1\u001b[0m \u001b[39m2\u001b[39;49m\u001b[39m+\u001b[39;49ma\n",
      "\u001b[0;31mTypeError\u001b[0m: unsupported operand type(s) for +: 'int' and 'SomaPelaMetade'"
     ]
    }
   ],
   "source": [
    "2+a"
   ]
  },
  {
   "attachments": {},
   "cell_type": "markdown",
   "metadata": {},
   "source": [
    "Note que definimos a soma apenas para objetos da mesma classe. Se tentarmos somar com um objeto da classe int, precisamos redefinir nosso código. \n",
    "\n",
    "Convenções\n",
    "- **add**: objeto da classe à esquerda (método base)\n",
    "- **radd**: objeto da classe à direita\n",
    "- **iadd**: acrescenta-se o um valor a um objeto da classe ja existente "
   ]
  },
  {
   "cell_type": "code",
   "execution_count": null,
   "metadata": {},
   "outputs": [],
   "source": [
    "class SomaPelaMetade2: \n",
    "    def __init__(self, valor):\n",
    "        self._valor = valor\n",
    "\n",
    "    def get_value(self): \n",
    "        return self._valor \n",
    "\n",
    "    def set_value(self, new_value): \n",
    "        self._value = new_value\n",
    "\n",
    "    def __add__(self, other): \n",
    "        if isinstance(other, SomaPelaMetade2): \n",
    "            soma = SomaPelaMetade2(self._valor + (other._valor)/2) #tenho que chamar a classe \n",
    "        else: \n",
    "            soma = SomaPelaMetade2(self._valor + other/2)\n",
    "        return soma\n",
    "\n",
    "    def __radd__(self, other): \n",
    "        return self.__add__(other) # apenas inverto a ordem e retorno certo \n",
    "    \n",
    "    def __iadd__(self, other):\n",
    "        if isinstance(other, SomaPelaMetade): \n",
    "            self._valor += other._valor\n",
    "        else: \n",
    "            self._valor += other\n",
    "        return self \n",
    "    \n"
   ]
  },
  {
   "cell_type": "code",
   "execution_count": null,
   "metadata": {},
   "outputs": [],
   "source": [
    "a = SomaPelaMetade2(1)"
   ]
  },
  {
   "cell_type": "code",
   "execution_count": null,
   "metadata": {},
   "outputs": [
    {
     "data": {
      "text/plain": [
       "1"
      ]
     },
     "execution_count": 28,
     "metadata": {},
     "output_type": "execute_result"
    }
   ],
   "source": [
    "a.get_value()"
   ]
  },
  {
   "cell_type": "code",
   "execution_count": null,
   "metadata": {},
   "outputs": [],
   "source": [
    "d = a+10 "
   ]
  },
  {
   "cell_type": "code",
   "execution_count": null,
   "metadata": {},
   "outputs": [
    {
     "data": {
      "text/plain": [
       "6.0"
      ]
     },
     "execution_count": 33,
     "metadata": {},
     "output_type": "execute_result"
    }
   ],
   "source": [
    "d.get_value()"
   ]
  },
  {
   "cell_type": "code",
   "execution_count": null,
   "metadata": {},
   "outputs": [
    {
     "data": {
      "text/plain": [
       "6.0"
      ]
     },
     "execution_count": 34,
     "metadata": {},
     "output_type": "execute_result"
    }
   ],
   "source": [
    "h =10+a\n",
    "h.get_value()"
   ]
  },
  {
   "cell_type": "code",
   "execution_count": null,
   "metadata": {},
   "outputs": [],
   "source": [
    "a += 1"
   ]
  },
  {
   "cell_type": "code",
   "execution_count": null,
   "metadata": {},
   "outputs": [
    {
     "data": {
      "text/plain": [
       "2"
      ]
     },
     "execution_count": 37,
     "metadata": {},
     "output_type": "execute_result"
    }
   ],
   "source": [
    "a.get_value()"
   ]
  },
  {
   "attachments": {},
   "cell_type": "markdown",
   "metadata": {},
   "source": [
    "Uma diferença do __iadd__ para o __add__ é que o iadd não cria um novo objeto (exceto em tipos imutaveis).\n",
    "\n",
    "O objetivo do __iadd__ é modificar o objeto atual, em vez de criar um novo objeto para armazenar o resultado da adição."
   ]
  },
  {
   "attachments": {},
   "cell_type": "markdown",
   "metadata": {},
   "source": [
    "## Multiplicação "
   ]
  },
  {
   "cell_type": "code",
   "execution_count": null,
   "metadata": {},
   "outputs": [],
   "source": [
    "class Multiplica: \n",
    "    def __init__(self, valor): \n",
    "        self._valor = valor \n",
    "\n",
    "    def get_value(self): \n",
    "        return self._valor\n",
    "\n",
    "    def __mul__(self, other): \n",
    "        if isinstance(other,Multiplica): \n",
    "            mult = Multiplica(self._valor * other._valor)\n",
    "        else: \n",
    "            mult = Multiplica(self._valor * other)\n",
    "        return mult \n",
    "    \n",
    "    def __rmul__(self, other): \n",
    "        return self.__mul__(other)\n",
    "    \n",
    "    def __imul__(self, other):\n",
    "        if isinstance(other, Multiplica): \n",
    "            self._valor *= other._valor\n",
    "        else: \n",
    "            self._valor *= other._valor\n",
    "\n",
    "        return self "
   ]
  },
  {
   "cell_type": "code",
   "execution_count": null,
   "metadata": {},
   "outputs": [],
   "source": [
    "a = Multiplica(5)"
   ]
  },
  {
   "cell_type": "code",
   "execution_count": null,
   "metadata": {},
   "outputs": [],
   "source": [
    "b = Multiplica(2)"
   ]
  },
  {
   "cell_type": "code",
   "execution_count": null,
   "metadata": {},
   "outputs": [],
   "source": [
    "teste = a*b"
   ]
  },
  {
   "cell_type": "code",
   "execution_count": null,
   "metadata": {},
   "outputs": [
    {
     "data": {
      "text/plain": [
       "10"
      ]
     },
     "execution_count": 53,
     "metadata": {},
     "output_type": "execute_result"
    }
   ],
   "source": [
    "teste.get_value()"
   ]
  },
  {
   "cell_type": "code",
   "execution_count": null,
   "metadata": {},
   "outputs": [],
   "source": [
    "teste2 = a * 5"
   ]
  },
  {
   "cell_type": "code",
   "execution_count": null,
   "metadata": {},
   "outputs": [
    {
     "data": {
      "text/plain": [
       "25"
      ]
     },
     "execution_count": 59,
     "metadata": {},
     "output_type": "execute_result"
    }
   ],
   "source": [
    "teste2.get_value()"
   ]
  },
  {
   "cell_type": "code",
   "execution_count": null,
   "metadata": {},
   "outputs": [
    {
     "data": {
      "text/plain": [
       "5"
      ]
     },
     "execution_count": 61,
     "metadata": {},
     "output_type": "execute_result"
    }
   ],
   "source": [
    "a.get_value()"
   ]
  },
  {
   "cell_type": "code",
   "execution_count": null,
   "metadata": {},
   "outputs": [
    {
     "data": {
      "text/plain": [
       "15"
      ]
     },
     "execution_count": 62,
     "metadata": {},
     "output_type": "execute_result"
    }
   ],
   "source": [
    "teste3 = 3*a\n",
    "teste3.get_value()"
   ]
  },
  {
   "attachments": {},
   "cell_type": "markdown",
   "metadata": {},
   "source": [
    "## Divisão  "
   ]
  },
  {
   "cell_type": "code",
   "execution_count": null,
   "metadata": {},
   "outputs": [],
   "source": [
    "class Divisao: \n",
    "    def __init__(self, val): \n",
    "        self._valor = val \n",
    "\n",
    "    def get_val(self): \n",
    "        return self._valor\n",
    "\n",
    "    def __truediv__(self, other): \n",
    "        if other != 0: \n",
    "            if isinstance(other, Divisao): \n",
    "                div = Divisao(self._valor / other._valor)\n",
    "            else: \n",
    "                div = Divisao(self._valor / other)\n",
    "            return div\n",
    "        else: \n",
    "            print('Não é possível executar uma divisão por zero')\n",
    "\n",
    "    def __rtruediv__(self, other): \n",
    "        return self.__truediv__(other)\n",
    "    \n",
    "    def __itruediv__(self, other):\n",
    "        if isinstance(other, Divisao): \n",
    "            self._valor /= other._valor\n",
    "        else: \n",
    "            self._valor /= other"
   ]
  },
  {
   "cell_type": "code",
   "execution_count": null,
   "metadata": {},
   "outputs": [],
   "source": [
    "d = Divisao(10)"
   ]
  },
  {
   "cell_type": "code",
   "execution_count": null,
   "metadata": {},
   "outputs": [],
   "source": [
    "e = Divisao(2)"
   ]
  },
  {
   "cell_type": "code",
   "execution_count": null,
   "metadata": {},
   "outputs": [],
   "source": [
    "teste = d/e"
   ]
  },
  {
   "cell_type": "code",
   "execution_count": null,
   "metadata": {},
   "outputs": [
    {
     "data": {
      "text/plain": [
       "5.0"
      ]
     },
     "execution_count": 5,
     "metadata": {},
     "output_type": "execute_result"
    }
   ],
   "source": [
    "teste.get_val()"
   ]
  },
  {
   "attachments": {},
   "cell_type": "markdown",
   "metadata": {},
   "source": [
    "## Divisão inteira "
   ]
  },
  {
   "cell_type": "code",
   "execution_count": null,
   "metadata": {},
   "outputs": [],
   "source": [
    "class DivInteira: \n",
    "    def __init__(self, val):\n",
    "        self._val = val\n",
    "\n",
    "    def get_values(self): \n",
    "        return self._val\n",
    "\n",
    "    def __floordiv__(self, other): \n",
    "        if isinstance(other, DivInteira): \n",
    "            div = DivInteira(self._val // other._val)\n",
    "        else: \n",
    "            div = DivInteira(self._val // other) \n",
    "        return div\n",
    "    \n",
    "    def __rfloordiv__(self, other):\n",
    "        return self.__floordiv__(other)\n",
    "    \n",
    "    def __ifloordiv__(self, other): \n",
    "        if isinstance(other, DivInteira): \n",
    "            self._val //= self._other\n",
    "        else: \n",
    "            self._val //= other\n",
    "        return self\n"
   ]
  },
  {
   "attachments": {},
   "cell_type": "markdown",
   "metadata": {},
   "source": [
    "\n"
   ]
  },
  {
   "cell_type": "code",
   "execution_count": null,
   "metadata": {},
   "outputs": [],
   "source": [
    "a = DivInteira(50)"
   ]
  },
  {
   "cell_type": "code",
   "execution_count": null,
   "metadata": {},
   "outputs": [],
   "source": [
    "b = DivInteira(7)"
   ]
  },
  {
   "cell_type": "code",
   "execution_count": null,
   "metadata": {},
   "outputs": [],
   "source": [
    "teste4 = a//b"
   ]
  },
  {
   "cell_type": "code",
   "execution_count": null,
   "metadata": {},
   "outputs": [
    {
     "data": {
      "text/plain": [
       "7"
      ]
     },
     "execution_count": 47,
     "metadata": {},
     "output_type": "execute_result"
    }
   ],
   "source": [
    "teste4.get_values()"
   ]
  },
  {
   "cell_type": "code",
   "execution_count": null,
   "metadata": {},
   "outputs": [
    {
     "data": {
      "text/plain": [
       "16"
      ]
     },
     "execution_count": 48,
     "metadata": {},
     "output_type": "execute_result"
    }
   ],
   "source": [
    "teste5 = a // 3\n",
    "teste5.get_values()"
   ]
  },
  {
   "cell_type": "code",
   "execution_count": null,
   "metadata": {},
   "outputs": [
    {
     "data": {
      "text/plain": [
       "8"
      ]
     },
     "execution_count": 49,
     "metadata": {},
     "output_type": "execute_result"
    }
   ],
   "source": [
    "a = DivInteira(50)\n",
    "teste6 = 6 // a\n",
    "teste6.get_values()"
   ]
  },
  {
   "cell_type": "code",
   "execution_count": null,
   "metadata": {},
   "outputs": [],
   "source": [
    "a //= 5"
   ]
  },
  {
   "cell_type": "code",
   "execution_count": null,
   "metadata": {},
   "outputs": [
    {
     "data": {
      "text/plain": [
       "10"
      ]
     },
     "execution_count": 51,
     "metadata": {},
     "output_type": "execute_result"
    }
   ],
   "source": [
    "a.get_values()"
   ]
  },
  {
   "cell_type": "code",
   "execution_count": null,
   "metadata": {},
   "outputs": [
    {
     "ename": "AttributeError",
     "evalue": "'int' object has no attribute 'get_value'",
     "output_type": "error",
     "traceback": [
      "\u001b[0;31m---------------------------------------------------------------------------\u001b[0m",
      "\u001b[0;31mAttributeError\u001b[0m                            Traceback (most recent call last)",
      "Cell \u001b[0;32mIn[69], line 2\u001b[0m\n\u001b[1;32m      1\u001b[0m ss \u001b[39m=\u001b[39m \u001b[39m6\u001b[39m\u001b[39m/\u001b[39m\u001b[39m/\u001b[39m\u001b[39m50\u001b[39m\n\u001b[0;32m----> 2\u001b[0m ss\u001b[39m.\u001b[39;49mget_value()\n",
      "\u001b[0;31mAttributeError\u001b[0m: 'int' object has no attribute 'get_value'"
     ]
    }
   ],
   "source": [
    "ss = 6//50\n",
    "ss.get_value()"
   ]
  },
  {
   "attachments": {},
   "cell_type": "markdown",
   "metadata": {},
   "source": [
    "## Resto da divisão %"
   ]
  },
  {
   "cell_type": "code",
   "execution_count": null,
   "metadata": {},
   "outputs": [],
   "source": [
    "class Resto: \n",
    "    def __init__(self, val): \n",
    "        self._val = val\n",
    "\n",
    "    def get_value(self): \n",
    "        return self._val\n",
    "\n",
    "    def __mod__(self,other): \n",
    "        if isinstance(other, Resto):\n",
    "            resto = Resto(self._val % other._val)\n",
    "        else: \n",
    "            resto = Resto(self._val % other)\n",
    "        return resto \n",
    "    \n",
    "    def __rmod__(self, other): \n",
    "        return self.__mod__(other)\n",
    "    \n",
    "    def __imod__(self, other): \n",
    "        if isinstance(other, Resto): \n",
    "            self._val %= other._val\n",
    "        else: \n",
    "            self._val %= other\n",
    "        return self "
   ]
  },
  {
   "cell_type": "code",
   "execution_count": null,
   "metadata": {},
   "outputs": [],
   "source": [
    "a = Resto(10)\n",
    "b = Resto(8)"
   ]
  },
  {
   "cell_type": "code",
   "execution_count": null,
   "metadata": {},
   "outputs": [
    {
     "data": {
      "text/plain": [
       "2"
      ]
     },
     "execution_count": 66,
     "metadata": {},
     "output_type": "execute_result"
    }
   ],
   "source": [
    "teste7 = a % b\n",
    "teste7.get_value()"
   ]
  },
  {
   "cell_type": "code",
   "execution_count": null,
   "metadata": {},
   "outputs": [
    {
     "data": {
      "text/plain": [
       "2"
      ]
     },
     "execution_count": 67,
     "metadata": {},
     "output_type": "execute_result"
    }
   ],
   "source": [
    "teste8 = a % 4 \n",
    "teste8.get_value()"
   ]
  },
  {
   "cell_type": "code",
   "execution_count": null,
   "metadata": {},
   "outputs": [
    {
     "ename": "AttributeError",
     "evalue": "'int' object has no attribute 'get_value'",
     "output_type": "error",
     "traceback": [
      "\u001b[0;31m---------------------------------------------------------------------------\u001b[0m",
      "\u001b[0;31mAttributeError\u001b[0m                            Traceback (most recent call last)",
      "Cell \u001b[0;32mIn[68], line 2\u001b[0m\n\u001b[1;32m      1\u001b[0m teste9 \u001b[39m=\u001b[39m \u001b[39m9\u001b[39m \u001b[39m%\u001b[39m \u001b[39m4\u001b[39m\n\u001b[0;32m----> 2\u001b[0m teste9\u001b[39m.\u001b[39;49mget_value()\n",
      "\u001b[0;31mAttributeError\u001b[0m: 'int' object has no attribute 'get_value'"
     ]
    }
   ],
   "source": [
    "teste9 = 9 % 4\n",
    "teste9.get_value()"
   ]
  },
  {
   "cell_type": "code",
   "execution_count": null,
   "metadata": {},
   "outputs": [],
   "source": [
    "class Resto: \n",
    "    def __init__(self, val): \n",
    "        self._val = val\n",
    "\n",
    "    def get_value(self): \n",
    "        return self._val\n",
    "\n",
    "    def __mod__(self, other): \n",
    "        if isinstance(other, Resto):\n",
    "            resto = Resto(self._val % other._val)\n",
    "        elif isinstance(other, int):\n",
    "            resto = Resto(self._val % other)\n",
    "        else:\n",
    "            raise ValueError(\"Unsupported operand type for %: 'Resto' and '{}'\".format(type(other).__name__))\n",
    "        return resto \n",
    "    \n",
    "    def __rmod__(self, other): \n",
    "        return Resto(other % self._val)\n",
    "    \n",
    "    def __imod__(self, other): \n",
    "        if isinstance(other, Resto): \n",
    "            self._val %= other._val\n",
    "        elif isinstance(other, int):\n",
    "            self._val %= other\n",
    "        else:\n",
    "            raise ValueError(\"Unsupported operand type for %=: 'Resto' and '{}'\".format(type(other).__name__))\n",
    "        return self\n"
   ]
  },
  {
   "cell_type": "code",
   "execution_count": null,
   "metadata": {},
   "outputs": [],
   "source": [
    "c = 90 % 87"
   ]
  },
  {
   "cell_type": "code",
   "execution_count": null,
   "metadata": {},
   "outputs": [
    {
     "ename": "AttributeError",
     "evalue": "'int' object has no attribute 'get_value'",
     "output_type": "error",
     "traceback": [
      "\u001b[0;31m---------------------------------------------------------------------------\u001b[0m",
      "\u001b[0;31mAttributeError\u001b[0m                            Traceback (most recent call last)",
      "Cell \u001b[0;32mIn[23], line 2\u001b[0m\n\u001b[1;32m      1\u001b[0m c \u001b[39m=\u001b[39m \u001b[39m90\u001b[39m \u001b[39m%\u001b[39m \u001b[39m87\u001b[39m\n\u001b[0;32m----> 2\u001b[0m c\u001b[39m.\u001b[39;49mget_value()\n",
      "\u001b[0;31mAttributeError\u001b[0m: 'int' object has no attribute 'get_value'"
     ]
    }
   ],
   "source": [
    "c = 90 % 87\n",
    "c.get_value()"
   ]
  },
  {
   "attachments": {},
   "cell_type": "markdown",
   "metadata": {},
   "source": [
    "Note que c get value pois  c não é da classe Resto!!!\n"
   ]
  },
  {
   "cell_type": "code",
   "execution_count": null,
   "metadata": {},
   "outputs": [
    {
     "data": {
      "text/plain": [
       "5"
      ]
     },
     "execution_count": 24,
     "metadata": {},
     "output_type": "execute_result"
    }
   ],
   "source": [
    "a = Resto(50)\n",
    "b = Resto(49)\n",
    "\n",
    "teste10 = 5%a\n",
    "teste10.get_value()"
   ]
  },
  {
   "cell_type": "code",
   "execution_count": null,
   "metadata": {},
   "outputs": [
    {
     "data": {
      "text/plain": [
       "0"
      ]
     },
     "execution_count": 27,
     "metadata": {},
     "output_type": "execute_result"
    }
   ],
   "source": [
    "teste11 = a % 5\n",
    "teste11.get_value()"
   ]
  },
  {
   "attachments": {},
   "cell_type": "markdown",
   "metadata": {},
   "source": [
    "## Potência "
   ]
  },
  {
   "cell_type": "code",
   "execution_count": null,
   "metadata": {},
   "outputs": [],
   "source": [
    "class Potencia: \n",
    "    def __init__(self, val): \n",
    "        self._val = val\n",
    "\n",
    "    def get_value(self): \n",
    "        return self._val \n",
    "    \n",
    "    def __pow__(self, other): \n",
    "        if isinstance(other, Potencia): \n",
    "            pot = Potencia(self._val ** other._val)\n",
    "        else: \n",
    "            pot = Potencia(self._val ** other) \n",
    "        return pot\n",
    "    \n",
    "    def __rpow__(self, other): \n",
    "        return Potencia(other ** self._val)\n",
    "    \n",
    "    def __ipow__(self, other): \n",
    "        if isinstance(other, Potencia): \n",
    "            self._val **= other._val\n",
    "        else :\n",
    "            self._val **= other\n",
    "        return self"
   ]
  },
  {
   "cell_type": "code",
   "execution_count": null,
   "metadata": {},
   "outputs": [],
   "source": [
    "a = Potencia(5)\n",
    "b = Potencia(2)"
   ]
  },
  {
   "cell_type": "code",
   "execution_count": null,
   "metadata": {},
   "outputs": [
    {
     "data": {
      "text/plain": [
       "25"
      ]
     },
     "execution_count": 18,
     "metadata": {},
     "output_type": "execute_result"
    }
   ],
   "source": [
    "t = a ** b\n",
    "t.get_value()"
   ]
  },
  {
   "cell_type": "code",
   "execution_count": null,
   "metadata": {},
   "outputs": [
    {
     "data": {
      "text/plain": [
       "3125"
      ]
     },
     "execution_count": 19,
     "metadata": {},
     "output_type": "execute_result"
    }
   ],
   "source": [
    "t2 = a**5\n",
    "t2.get_value()"
   ]
  },
  {
   "cell_type": "code",
   "execution_count": null,
   "metadata": {},
   "outputs": [
    {
     "data": {
      "text/plain": [
       "32"
      ]
     },
     "execution_count": 20,
     "metadata": {},
     "output_type": "execute_result"
    }
   ],
   "source": [
    "t3 = 2 ** a\n",
    "t3.get_value()"
   ]
  },
  {
   "attachments": {},
   "cell_type": "markdown",
   "metadata": {},
   "source": [
    "## Operadores lógicos\n",
    "and or "
   ]
  },
  {
   "cell_type": "code",
   "execution_count": null,
   "metadata": {},
   "outputs": [],
   "source": [
    "class And: \n",
    "    def __init__(self, val): \n",
    "        self._val = val \n",
    "\n",
    "    def get_values(self): \n",
    "        return self._val\n",
    "    \n",
    "    def __and__(self, other): \n",
    "        if isinstance(other, And): \n",
    "            result = And(self._val & other._val)\n",
    "        else: \n",
    "            result = And(self._val & other) \n",
    "        return result \n",
    "    \n",
    "    def __rand__(self, other): \n",
    "        return self._val__and__(other)\n",
    "    "
   ]
  },
  {
   "cell_type": "code",
   "execution_count": null,
   "metadata": {},
   "outputs": [
    {
     "data": {
      "text/plain": [
       "4"
      ]
     },
     "execution_count": 31,
     "metadata": {},
     "output_type": "execute_result"
    }
   ],
   "source": [
    "a = And(5)\n",
    "b = And(6)\n",
    "\n",
    "ab = a & b\n",
    "ab.get_values()"
   ]
  },
  {
   "cell_type": "code",
   "execution_count": null,
   "metadata": {},
   "outputs": [
    {
     "data": {
      "text/plain": [
       "4"
      ]
     },
     "execution_count": 32,
     "metadata": {},
     "output_type": "execute_result"
    }
   ],
   "source": [
    "5 & 6"
   ]
  },
  {
   "attachments": {},
   "cell_type": "markdown",
   "metadata": {},
   "source": [
    "## Comparação "
   ]
  },
  {
   "cell_type": "code",
   "execution_count": null,
   "metadata": {},
   "outputs": [],
   "source": [
    "class Compara: \n",
    "    def __init__(self, val): \n",
    "        self._val = val \n",
    "\n",
    "    def __eq__(self, other): \n",
    "        return self._val == other._val\n",
    "    \n",
    "    def __lt__(self, other): \n",
    "        return self._val < other._val \n",
    "    \n",
    "    def __le__(self, other): \n",
    "        return self._val <= other._val \n",
    "    "
   ]
  },
  {
   "cell_type": "code",
   "execution_count": null,
   "metadata": {},
   "outputs": [],
   "source": [
    "a = Compara(5)\n",
    "b = Compara(6)"
   ]
  },
  {
   "cell_type": "code",
   "execution_count": null,
   "metadata": {},
   "outputs": [
    {
     "data": {
      "text/plain": [
       "True"
      ]
     },
     "execution_count": 79,
     "metadata": {},
     "output_type": "execute_result"
    }
   ],
   "source": [
    "a < b"
   ]
  },
  {
   "cell_type": "code",
   "execution_count": null,
   "metadata": {},
   "outputs": [
    {
     "data": {
      "text/plain": [
       "True"
      ]
     },
     "execution_count": 80,
     "metadata": {},
     "output_type": "execute_result"
    }
   ],
   "source": [
    "b > a"
   ]
  },
  {
   "cell_type": "code",
   "execution_count": null,
   "metadata": {},
   "outputs": [
    {
     "data": {
      "text/plain": [
       "False"
      ]
     },
     "execution_count": 81,
     "metadata": {},
     "output_type": "execute_result"
    }
   ],
   "source": [
    "a > b"
   ]
  },
  {
   "cell_type": "code",
   "execution_count": null,
   "metadata": {},
   "outputs": [
    {
     "data": {
      "text/plain": [
       "True"
      ]
     },
     "execution_count": 82,
     "metadata": {},
     "output_type": "execute_result"
    }
   ],
   "source": [
    "a != b"
   ]
  },
  {
   "attachments": {},
   "cell_type": "markdown",
   "metadata": {},
   "source": [
    "## Total ordering"
   ]
  },
  {
   "cell_type": "code",
   "execution_count": 2,
   "metadata": {},
   "outputs": [],
   "source": [
    "from functools import total_ordering"
   ]
  },
  {
   "attachments": {},
   "cell_type": "markdown",
   "metadata": {},
   "source": [
    "Se o sistemas que estamos trabalhando possuem ordem total (respeitam as condições do operador de ordenação), podemos recorrer ao total_ordering do functools e ao invés de determinar todos os operadores aritméticos, mas sim o eq e um dos operadores de comparação "
   ]
  },
  {
   "cell_type": "code",
   "execution_count": 3,
   "metadata": {},
   "outputs": [],
   "source": [
    "@total_ordering\n",
    "class TotalOrdering: \n",
    "    def __init__(self, x): \n",
    "        self._x = x \n",
    "\n",
    "    def __eq__(self, other): \n",
    "        if isinstance(other, TotalOrdering): \n",
    "            iguald = (self._x == other._x)\n",
    "        else: \n",
    "            iguald = (self._x == other) \n",
    "        return iguald\n",
    "\n",
    "    def __lt__(self, other): \n",
    "        if isinstance(other, TotalOrdering): \n",
    "            menor = (self._x < other._x)\n",
    "        else: \n",
    "            menor = (self._x < other)\n",
    "        return menor"
   ]
  },
  {
   "cell_type": "code",
   "execution_count": 4,
   "metadata": {},
   "outputs": [],
   "source": [
    "tot1 = TotalOrdering(5)\n",
    "tot2 = TotalOrdering(6)\n"
   ]
  },
  {
   "cell_type": "code",
   "execution_count": 5,
   "metadata": {},
   "outputs": [
    {
     "data": {
      "text/plain": [
       "False"
      ]
     },
     "execution_count": 5,
     "metadata": {},
     "output_type": "execute_result"
    }
   ],
   "source": [
    "tot1 == tot2 "
   ]
  },
  {
   "cell_type": "code",
   "execution_count": 6,
   "metadata": {},
   "outputs": [
    {
     "data": {
      "text/plain": [
       "True"
      ]
     },
     "execution_count": 6,
     "metadata": {},
     "output_type": "execute_result"
    }
   ],
   "source": [
    "tot1 < tot2"
   ]
  },
  {
   "cell_type": "code",
   "execution_count": 7,
   "metadata": {},
   "outputs": [
    {
     "data": {
      "text/plain": [
       "False"
      ]
     },
     "execution_count": 7,
     "metadata": {},
     "output_type": "execute_result"
    }
   ],
   "source": [
    "tot1 > tot2 "
   ]
  },
  {
   "cell_type": "code",
   "execution_count": 8,
   "metadata": {},
   "outputs": [
    {
     "data": {
      "text/plain": [
       "False"
      ]
     },
     "execution_count": 8,
     "metadata": {},
     "output_type": "execute_result"
    }
   ],
   "source": [
    "tot1 >= tot2"
   ]
  },
  {
   "cell_type": "code",
   "execution_count": 9,
   "metadata": {},
   "outputs": [
    {
     "data": {
      "text/plain": [
       "True"
      ]
     },
     "execution_count": 9,
     "metadata": {},
     "output_type": "execute_result"
    }
   ],
   "source": [
    "tot1 <= tot2"
   ]
  },
  {
   "attachments": {},
   "cell_type": "markdown",
   "metadata": {},
   "source": [
    "## Conversão booleano"
   ]
  },
  {
   "attachments": {},
   "cell_type": "markdown",
   "metadata": {},
   "source": [
    "Converter nosso objetos para booleano para poder comparar "
   ]
  },
  {
   "cell_type": "code",
   "execution_count": null,
   "metadata": {},
   "outputs": [],
   "source": [
    "        "
   ]
  },
  {
   "attachments": {},
   "cell_type": "markdown",
   "metadata": {},
   "source": []
  },
  {
   "attachments": {},
   "cell_type": "markdown",
   "metadata": {},
   "source": [
    "---"
   ]
  },
  {
   "attachments": {},
   "cell_type": "markdown",
   "metadata": {},
   "source": [
    "## Exercício\n",
    "implementar uma classe chamada Vetores e sobrecarregue os operadores que julgar úteis para definir as operações com vetores "
   ]
  },
  {
   "cell_type": "code",
   "execution_count": null,
   "metadata": {},
   "outputs": [],
   "source": []
  },
  {
   "cell_type": "code",
   "execution_count": 53,
   "metadata": {},
   "outputs": [],
   "source": [
    "class Vector: \n",
    "    def __init__(self,x, y): \n",
    "        self._x = x\n",
    "        self._y = y\n",
    "\n",
    "    def get_val(self): \n",
    "        return f'(x,y) = ({self._x}, {self._y})'\n",
    "    \n",
    "    ############## Implementa a sobrecarga da soma ###########\n",
    "\n",
    "    def __add__(self, other):\n",
    "        if isinstance(other, Vector):\n",
    "            soma = Vector(self._x + other._x, self._y + other._y)\n",
    "        elif isinstance(other, tuple) and len(other) == 2:\n",
    "            soma = Vector(self._x + other[0], self._y + other[1])\n",
    "        else:\n",
    "            raise ValueError('A soma deve ser realizada entre objetos de mesma estrutura')\n",
    "        return soma    \n",
    "\n",
    "    \n",
    "    def __radd__(self, other): \n",
    "        return Vector(self._value__add__(other))\n",
    "    \n",
    "    def __iadd__(self, other): \n",
    "        if isinstance(other, Vector): \n",
    "            self._x += other._x\n",
    "            self._y  += other._y \n",
    "        elif other == tuple and len(other) == 2:\n",
    "            self._x += other[0]\n",
    "            self._y += other[1]\n",
    "        return self \n",
    "    \n",
    "############## Implementa a multiplicação escalar ###########\n",
    "    def __mul__(self, alpha): \n",
    "        if isinstance(alpha, (int, float)):\n",
    "            return Vector(self._x * alpha, self._y *alpha)\n",
    "    def __rmul__(self, alpha): \n",
    "        return Vector(alpha * self._x, alpha * self._y)\n",
    "    \n",
    "    def __imul__(self, alpha): \n",
    "        if isinstance(alpha, (int,float)):\n",
    "            self._x *= alpha \n",
    "            self._y *= alpha \n",
    "        return self \n",
    "     \n"
   ]
  },
  {
   "cell_type": "code",
   "execution_count": 54,
   "metadata": {},
   "outputs": [],
   "source": [
    "a = Vector(10,20)"
   ]
  },
  {
   "cell_type": "code",
   "execution_count": 55,
   "metadata": {},
   "outputs": [],
   "source": [
    "b = Vector(20,30)"
   ]
  },
  {
   "cell_type": "code",
   "execution_count": 56,
   "metadata": {},
   "outputs": [
    {
     "data": {
      "text/plain": [
       "'(x,y) = (30, 50)'"
      ]
     },
     "execution_count": 56,
     "metadata": {},
     "output_type": "execute_result"
    }
   ],
   "source": [
    "somaAB = a+b\n",
    "\n",
    "somaAB.get_val()"
   ]
  },
  {
   "cell_type": "code",
   "execution_count": 57,
   "metadata": {},
   "outputs": [
    {
     "data": {
      "text/plain": [
       "'(x,y) = (40, 60)'"
      ]
     },
     "execution_count": 57,
     "metadata": {},
     "output_type": "execute_result"
    }
   ],
   "source": [
    "soma2 = a + (30,40)\n",
    "soma2.get_val()"
   ]
  },
  {
   "cell_type": "code",
   "execution_count": 58,
   "metadata": {},
   "outputs": [
    {
     "data": {
      "text/plain": [
       "'(x,y) = (20, 40)'"
      ]
     },
     "execution_count": 58,
     "metadata": {},
     "output_type": "execute_result"
    }
   ],
   "source": [
    "mult_alpha = a * 2\n",
    "mult_alpha.get_val()"
   ]
  },
  {
   "cell_type": "code",
   "execution_count": 59,
   "metadata": {},
   "outputs": [
    {
     "data": {
      "text/plain": [
       "'(x,y) = (20, 40)'"
      ]
     },
     "execution_count": 59,
     "metadata": {},
     "output_type": "execute_result"
    }
   ],
   "source": [
    "mult_alpha2 = 2 * a\n",
    "mult_alpha2.get_val()"
   ]
  },
  {
   "cell_type": "code",
   "execution_count": 60,
   "metadata": {},
   "outputs": [
    {
     "data": {
      "text/plain": [
       "'(x,y) = (200, 400)'"
      ]
     },
     "execution_count": 60,
     "metadata": {},
     "output_type": "execute_result"
    }
   ],
   "source": [
    "mult_alpha2 *= 10\n",
    "mult_alpha2.get_val()"
   ]
  },
  {
   "attachments": {},
   "cell_type": "markdown",
   "metadata": {},
   "source": [
    "Escreva uma classe `Multiples` cujos objetos quando criados com `Multiples(a, n)` representam a sequência dos `n` primeiros múltiplos de `a` começando de 0. Isto é, se `m3 = Multiples(3, 10)`, então `m3[0]` deve ser 0, `m3[1]` dever ser 3, etc, até `m3[9]` que deve ser 27. Fora dessa faixa (incluindo negativos) os índices devem ser inválidos. O objeto deve também funcionar com *slice*, com por exemplo `m3[1:5]` devendo retornar um gerador que fornece os valores múltiplos de 3 de 3 (incluido) a 15 (excluido)."
   ]
  },
  {
   "cell_type": "code",
   "execution_count": 72,
   "metadata": {},
   "outputs": [],
   "source": [
    "class Multiples: \n",
    "    def __init__(self, a, n): \n",
    "        if a <= 1: \n",
    "            raise IndexError('Só são permitidos multiplos de numeros maiores que 1')\n",
    "        self._a = a\n",
    "        if not isinstance(n, int):\n",
    "            raise ValueError('n deve ser um valor inteiro')\n",
    "        self._qtmultiplos = n \n",
    "        self._multiplos = None\n",
    "\n",
    "    def calcula_multiplos(self):\n",
    "        self._multiplos = [i for i in range(0,self._qtmultiplos, self._a)]\n",
    "    \n",
    "    def get_val(self): \n",
    "        print('oi')\n",
    "        return self._multiplos"
   ]
  },
  {
   "cell_type": "code",
   "execution_count": null,
   "metadata": {},
   "outputs": [],
   "source": [
    "class Multiples:\n",
    "    def __init__(self, a, n):\n",
    "        if n < 0:\n",
    "            raise ValueError(\"O número de múltiplos deve ser não negativo.\")\n",
    "        \n",
    "        self._a = a\n",
    "        self._n = n\n",
    "\n",
    "    def __getitem__(self, index):\n",
    "        if isinstance(index, int):\n",
    "            if index < 0 or index >= self._n:\n",
    "                raise IndexError(\"O índice está fora da faixa válida.\")\n",
    "            return self._a * index\n",
    "        elif isinstance(index, slice):\n",
    "            start = index.start or 0\n",
    "            stop = index.stop or self._n\n",
    "            step = index.step or 1\n",
    "            if start < 0 or stop < 0 or step <= 0 or start >= self._n or stop > self._n:\n",
    "                raise IndexError(\"O índice do slice está fora da faixa válida.\")\n",
    "            return (self._a * i for i in range(start, stop, step))\n",
    "        else:\n",
    "            raise TypeError(\"Índice inválido.\")\n",
    "\n",
    "# Exemplo de uso\n",
    "m3 = Multiples(3, 10)\n",
    "print(m3[0])  # Saída: 0\n",
    "print(m3[1])  # Saída: 3\n",
    "print(m3[9])  # Saída: 27\n",
    "\n",
    "# Uso do slice\n",
    "values = m3[1:5]\n",
    "for value in values:\n",
    "    print(value)  # Saída: 3, 6, 9, 12\n"
   ]
  },
  {
   "cell_type": "code",
   "execution_count": 73,
   "metadata": {},
   "outputs": [
    {
     "name": "stdout",
     "output_type": "stream",
     "text": [
      "oi\n"
     ]
    }
   ],
   "source": [
    "teste1 = Multiples(3,10)\n",
    "teste1.get_val()"
   ]
  }
 ],
 "metadata": {
  "kernelspec": {
   "display_name": "base",
   "language": "python",
   "name": "python3"
  },
  "language_info": {
   "codemirror_mode": {
    "name": "ipython",
    "version": 3
   },
   "file_extension": ".py",
   "mimetype": "text/x-python",
   "name": "python",
   "nbconvert_exporter": "python",
   "pygments_lexer": "ipython3",
   "version": "3.10.9"
  },
  "orig_nbformat": 4
 },
 "nbformat": 4,
 "nbformat_minor": 2
}
