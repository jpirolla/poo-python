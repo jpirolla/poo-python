{
 "cells": [
  {
   "attachments": {},
   "cell_type": "markdown",
   "metadata": {},
   "source": [
    "# Resolução exercícios complementares Sobrecarga de Operadores"
   ]
  },
  {
   "attachments": {},
   "cell_type": "markdown",
   "metadata": {},
   "source": [
    "##  Exercício 1"
   ]
  },
  {
   "cell_type": "code",
   "execution_count": 17,
   "metadata": {},
   "outputs": [],
   "source": [
    "class ControleEvento: \n",
    "    def __init__(self, nome, idade): \n",
    "        self._nome = nome\n",
    "        self._idade = idade\n",
    "    \n",
    "    def get_idade(self): \n",
    "        return self._idade\n",
    "    \n",
    "    def get_nome(self): \n",
    "        return self._nome\n",
    "    \n",
    "    def __bool__(self): \n",
    "        if self._idade > 18 and self._idade < 65: \n",
    "            return True\n",
    "        else: \n",
    "            return False"
   ]
  },
  {
   "cell_type": "code",
   "execution_count": 18,
   "metadata": {},
   "outputs": [
    {
     "name": "stdout",
     "output_type": "stream",
     "text": [
      "True\n"
     ]
    }
   ],
   "source": [
    "obj1 = ControleEvento('Juliana', 23)\n",
    "print(bool(obj1))"
   ]
  },
  {
   "cell_type": "code",
   "execution_count": 19,
   "metadata": {},
   "outputs": [],
   "source": [
    "lista_pessoas = [ControleEvento('Juliana', 23), ControleEvento('Matheuszinho', 26), ControleEvento('Velloso', 61 )]"
   ]
  },
  {
   "cell_type": "code",
   "execution_count": 20,
   "metadata": {},
   "outputs": [
    {
     "name": "stdout",
     "output_type": "stream",
     "text": [
      "Juliana pode entrar\n",
      "Matheuszinho pode entrar\n",
      "Velloso pode entrar\n"
     ]
    }
   ],
   "source": [
    "# Itera pela lista de pessoas e verifica se podem entrar ou não\n",
    "for pessoa in lista_pessoas:\n",
    "    if bool(pessoa):\n",
    "        print(pessoa.get_nome() + \" pode entrar\")\n",
    "    else:\n",
    "        print(pessoa.get_nome() + \" não pode entrar\")"
   ]
  }
 ],
 "metadata": {
  "kernelspec": {
   "display_name": "base",
   "language": "python",
   "name": "python3"
  },
  "language_info": {
   "codemirror_mode": {
    "name": "ipython",
    "version": 3
   },
   "file_extension": ".py",
   "mimetype": "text/x-python",
   "name": "python",
   "nbconvert_exporter": "python",
   "pygments_lexer": "ipython3",
   "version": "3.10.9"
  },
  "orig_nbformat": 4
 },
 "nbformat": 4,
 "nbformat_minor": 2
}
