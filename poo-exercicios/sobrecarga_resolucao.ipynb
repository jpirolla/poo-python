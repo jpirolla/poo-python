{
 "cells": [
  {
   "attachments": {},
   "cell_type": "markdown",
   "metadata": {},
   "source": [
    "## Resolução Teste 1 "
   ]
  },
  {
   "cell_type": "code",
   "execution_count": 2,
   "metadata": {},
   "outputs": [],
   "source": [
    "import math "
   ]
  },
  {
   "attachments": {},
   "cell_type": "markdown",
   "metadata": {},
   "source": [
    "## Exercício 1 - Triangulo"
   ]
  },
  {
   "attachments": {},
   "cell_type": "markdown",
   "metadata": {},
   "source": [
    "Sobrecarregar o operador (+) para calcular a hipotenusa do triangulo resultante. "
   ]
  },
  {
   "cell_type": "code",
   "execution_count": 54,
   "metadata": {},
   "outputs": [],
   "source": [
    "class Triangulo: \n",
    "    \"\"\"\n",
    "    Essa classe representa um triangulo retângulo. \n",
    "    Nela está definida a operação add como sendo a soma das hipotenusas dos 2 objetos do tipo Triangulo.\n",
    "    \"\"\"\n",
    "    def __init__(self, cateto1: int, cateto2: int) -> None:\n",
    "        self._cat1 = cateto1\n",
    "        self._cat2 = cateto2 \n",
    "\n",
    "    def __add__(self, other) -> int:\n",
    "        if isinstance(other, Triangulo):\n",
    "            soma_quadrado_catetos = (self._cat1 + other._cat1)**2 + (self._cat2 + other._cat2)**2\n",
    "            #hipot = math.sqrt(soma_quadrado_catetos)\n",
    "            #return hipot\n",
    "        elif isinstance(other, tuple) and len(other) == 2:\n",
    "            soma_quadrado_catetos = (self._cat1 + other[0])**2 + (self._cat2 + other[1])**2\n",
    "            \n",
    "            #return hipot\n",
    "        else: \n",
    "            raise TypeError(\"Operação de adição permitida apenas entre objetos Triangulo ou tuplas no formato (cateto1, cateto2)\")\n",
    "        hipot = math.sqrt(soma_quadrado_catetos)\n",
    "        return hipot"
   ]
  },
  {
   "cell_type": "code",
   "execution_count": 55,
   "metadata": {},
   "outputs": [
    {
     "name": "stdout",
     "output_type": "stream",
     "text": [
      "17.88854381999832\n"
     ]
    }
   ],
   "source": [
    "obj1 = Triangulo(3,4)\n",
    "obj2 = Triangulo(5,12)\n",
    "\n",
    "soma_hipot = obj1 + obj2\n",
    "print(soma_hipot)"
   ]
  },
  {
   "cell_type": "code",
   "execution_count": 56,
   "metadata": {},
   "outputs": [
    {
     "data": {
      "text/plain": [
       "8.602325267042627"
      ]
     },
     "execution_count": 56,
     "metadata": {},
     "output_type": "execute_result"
    }
   ],
   "source": [
    "obj1 + (2,3)"
   ]
  },
  {
   "cell_type": "code",
   "execution_count": 57,
   "metadata": {},
   "outputs": [
    {
     "ename": "TypeError",
     "evalue": "Operação de adição permitida apenas entre objetos Triangulo ou tuplas no formato (cateto1, cateto2)",
     "output_type": "error",
     "traceback": [
      "\u001b[0;31m---------------------------------------------------------------------------\u001b[0m",
      "\u001b[0;31mTypeError\u001b[0m                                 Traceback (most recent call last)",
      "Cell \u001b[0;32mIn[57], line 1\u001b[0m\n\u001b[0;32m----> 1\u001b[0m obj1 \u001b[39m+\u001b[39;49m \u001b[39m2\u001b[39;49m\n",
      "Cell \u001b[0;32mIn[54], line 20\u001b[0m, in \u001b[0;36mTriangulo.__add__\u001b[0;34m(self, other)\u001b[0m\n\u001b[1;32m     16\u001b[0m     soma_quadrado_catetos \u001b[39m=\u001b[39m (\u001b[39mself\u001b[39m\u001b[39m.\u001b[39m_cat1 \u001b[39m+\u001b[39m other[\u001b[39m0\u001b[39m])\u001b[39m*\u001b[39m\u001b[39m*\u001b[39m\u001b[39m2\u001b[39m \u001b[39m+\u001b[39m (\u001b[39mself\u001b[39m\u001b[39m.\u001b[39m_cat2 \u001b[39m+\u001b[39m other[\u001b[39m1\u001b[39m])\u001b[39m*\u001b[39m\u001b[39m*\u001b[39m\u001b[39m2\u001b[39m\n\u001b[1;32m     18\u001b[0m     \u001b[39m#return hipot\u001b[39;00m\n\u001b[1;32m     19\u001b[0m \u001b[39melse\u001b[39;00m: \n\u001b[0;32m---> 20\u001b[0m     \u001b[39mraise\u001b[39;00m \u001b[39mTypeError\u001b[39;00m(\u001b[39m\"\u001b[39m\u001b[39mOperação de adição permitida apenas entre objetos Triangulo ou tuplas no formato (cateto1, cateto2)\u001b[39m\u001b[39m\"\u001b[39m)\n\u001b[1;32m     21\u001b[0m hipot \u001b[39m=\u001b[39m math\u001b[39m.\u001b[39msqrt(soma_quadrado_catetos)\n\u001b[1;32m     22\u001b[0m \u001b[39mreturn\u001b[39;00m hipot\n",
      "\u001b[0;31mTypeError\u001b[0m: Operação de adição permitida apenas entre objetos Triangulo ou tuplas no formato (cateto1, cateto2)"
     ]
    }
   ],
   "source": [
    "obj1 + 2"
   ]
  },
  {
   "attachments": {},
   "cell_type": "markdown",
   "metadata": {},
   "source": [
    "## Exercício 2 - Time"
   ]
  },
  {
   "cell_type": "code",
   "execution_count": 111,
   "metadata": {},
   "outputs": [],
   "source": [
    "class Time: \n",
    "    def __init__(self, h, m, s) -> None:\n",
    "        self._h = h\n",
    "        self._m = m\n",
    "        self._s = s\n",
    "\n",
    "    def get_hour(self): \n",
    "        if self._s >= 60: \n",
    "            self._m  += 1\n",
    "            self._s -= 60\n",
    "        if self._m >= 60:\n",
    "            self._h += 1\n",
    "            self._m  -= 60\n",
    "        if self._h >= 24: \n",
    "            self._h = 0\n",
    "        \n",
    "        return(f'{self._h} horas, {self._m} minutos, {self._s} segundos')\n",
    "    \n",
    "    def __add__(self, other):\n",
    "        # lembrar que o add soma self com other\n",
    "        if isinstance(other, Time): \n",
    "            # se other for da classe Time, tem os atributos ._h, ._m, ._s\n",
    "            h = self._h + other._h\n",
    "            m = self._m + other._m\n",
    "            s = self._s + other._s\n",
    "        else: \n",
    "            h = self._h + other\n",
    "            m = self._m + other\n",
    "            s = self._s + other\n",
    "\n",
    "        if s >= 60: \n",
    "            m  += 1\n",
    "            s -= 60\n",
    "        if m >= 60:\n",
    "            h += 1\n",
    "            m  -= 60\n",
    "        if h >= 24: \n",
    "            h -= 24\n",
    "\n",
    "        return Time(h,m,s)\n",
    "\n",
    "\n",
    "    def __radd__(self, other): \n",
    "        return self.__add__(other)\n",
    "\n",
    "    def __iadd__(self, other):\n",
    "        if isinstance(other, Time): \n",
    "            s = self._s + other._s\n",
    "            m = self._m + other._m\n",
    "            h = self._h + other._h\n",
    "        else: \n",
    "            s = self._s + other\n",
    "            m = self._m + other\n",
    "            h = self._h + other \n",
    "\n",
    "        if s >= 60: \n",
    "            m  += 1\n",
    "            s -= 60\n",
    "        if m >= 60:\n",
    "            h += 1\n",
    "            m  -= 60\n",
    "        if h >= 24: \n",
    "            h -= 24\n",
    "        return Time(h,m,s)\n",
    "\n"
   ]
  },
  {
   "cell_type": "code",
   "execution_count": 112,
   "metadata": {},
   "outputs": [
    {
     "data": {
      "text/plain": [
       "'1 horas, 2 minutos, 3 segundos'"
      ]
     },
     "execution_count": 112,
     "metadata": {},
     "output_type": "execute_result"
    }
   ],
   "source": [
    "h1 = Time(1,2,3)\n",
    "h1.get_hour()"
   ]
  },
  {
   "cell_type": "code",
   "execution_count": 113,
   "metadata": {},
   "outputs": [
    {
     "data": {
      "text/plain": [
       "'1 horas, 3 minutos, 1 segundos'"
      ]
     },
     "execution_count": 113,
     "metadata": {},
     "output_type": "execute_result"
    }
   ],
   "source": [
    "h2 = Time(1,2,61)\n",
    "h2.get_hour()"
   ]
  },
  {
   "cell_type": "code",
   "execution_count": 114,
   "metadata": {},
   "outputs": [
    {
     "data": {
      "text/plain": [
       "'13 horas, 6 minutos, 2 segundos'"
      ]
     },
     "execution_count": 114,
     "metadata": {},
     "output_type": "execute_result"
    }
   ],
   "source": [
    "h3 = Time(12, 65, 62)\n",
    "h3.get_hour()"
   ]
  },
  {
   "cell_type": "code",
   "execution_count": 115,
   "metadata": {},
   "outputs": [
    {
     "data": {
      "text/plain": [
       "'14 horas, 9 minutos, 3 segundos'"
      ]
     },
     "execution_count": 115,
     "metadata": {},
     "output_type": "execute_result"
    }
   ],
   "source": [
    "teste_add = h2 + h3\n",
    "teste_add.get_hour()"
   ]
  },
  {
   "attachments": {},
   "cell_type": "markdown",
   "metadata": {},
   "source": [
    "## Exercício 3 - Point"
   ]
  },
  {
   "cell_type": "code",
   "execution_count": 137,
   "metadata": {},
   "outputs": [],
   "source": [
    "class Point: \n",
    "    def __init__(self, x, y): \n",
    "        self._x = x\n",
    "        self._y = y \n",
    "\n",
    "    def get_point(self) -> tuple: \n",
    "        return (self._x, self._y)\n",
    "    \n",
    "    def __add__(self, other): \n",
    "        if isinstance(other, Point): \n",
    "            soma = (self._x + other._x, self._y + other._y)\n",
    "        elif isinstance(other, tuple) and len(other) == 2:  \n",
    "            soma = (self._x + other[0], self._y[1])\n",
    "        else: \n",
    "            raise TypeError('Esse objeto não está definido para soma.')\n",
    "        return soma\n",
    "    \n",
    "    def __mul__(self,other): \n",
    "        if isinstance(self, Point):\n",
    "            mult = (self._x * other._x, self._y * other._y)\n",
    "        elif isinstance(other, tuple) and len(other) == 2:\n",
    "            mult = (self._x * other[0], self._y * other[1])\n",
    "        elif isinstance(other, int) or isinstance(other, float):\n",
    "            mult = (self._x * other, self._y *other)\n",
    "        else: \n",
    "            raise TypeError('Esse objeto naão está definido para multiplicação')\n",
    "        return mult "
   ]
  },
  {
   "cell_type": "code",
   "execution_count": 138,
   "metadata": {},
   "outputs": [
    {
     "data": {
      "text/plain": [
       "(5, 10)"
      ]
     },
     "execution_count": 138,
     "metadata": {},
     "output_type": "execute_result"
    }
   ],
   "source": [
    "p1 = Point(5,10)\n",
    "p1.get_point()"
   ]
  },
  {
   "cell_type": "code",
   "execution_count": 139,
   "metadata": {},
   "outputs": [
    {
     "data": {
      "text/plain": [
       "(10, 20)"
      ]
     },
     "execution_count": 139,
     "metadata": {},
     "output_type": "execute_result"
    }
   ],
   "source": [
    "p2 = Point(10,20)\n",
    "p2.get_point()"
   ]
  },
  {
   "cell_type": "code",
   "execution_count": 140,
   "metadata": {},
   "outputs": [
    {
     "data": {
      "text/plain": [
       "(15, 30)"
      ]
     },
     "execution_count": 140,
     "metadata": {},
     "output_type": "execute_result"
    }
   ],
   "source": [
    "p1 + p2"
   ]
  },
  {
   "cell_type": "code",
   "execution_count": 141,
   "metadata": {},
   "outputs": [
    {
     "data": {
      "text/plain": [
       "(50, 200)"
      ]
     },
     "execution_count": 141,
     "metadata": {},
     "output_type": "execute_result"
    }
   ],
   "source": [
    "p1 * p2"
   ]
  },
  {
   "attachments": {},
   "cell_type": "markdown",
   "metadata": {},
   "source": [
    "## Exercício 4 - Frações "
   ]
  }
 ],
 "metadata": {
  "kernelspec": {
   "display_name": "base",
   "language": "python",
   "name": "python3"
  },
  "language_info": {
   "codemirror_mode": {
    "name": "ipython",
    "version": 3
   },
   "file_extension": ".py",
   "mimetype": "text/x-python",
   "name": "python",
   "nbconvert_exporter": "python",
   "pygments_lexer": "ipython3",
   "version": "3.10.9"
  },
  "orig_nbformat": 4
 },
 "nbformat": 4,
 "nbformat_minor": 2
}
