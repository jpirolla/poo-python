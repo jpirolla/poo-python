{
 "cells": [
  {
   "attachments": {},
   "cell_type": "markdown",
   "metadata": {},
   "source": [
    "# Resolução dos exercícios referentes à classes e métodos abstratos"
   ]
  },
  {
   "attachments": {},
   "cell_type": "markdown",
   "metadata": {},
   "source": [
    "## Exercício 1 - Polígonos"
   ]
  },
  {
   "cell_type": "code",
   "execution_count": 1,
   "metadata": {},
   "outputs": [],
   "source": [
    "from abc import ABC, abstractclassmethod"
   ]
  },
  {
   "cell_type": "code",
   "execution_count": 2,
   "metadata": {},
   "outputs": [],
   "source": [
    "class Poligono(ABC): \n",
    "    @abstractclassmethod\n",
    "    def noofsides(self): \n",
    "        pass"
   ]
  },
  {
   "cell_type": "code",
   "execution_count": 12,
   "metadata": {},
   "outputs": [],
   "source": [
    "class Triangulo(Poligono): \n",
    "    def __init__(self, qtd_lados) -> None:\n",
    "        super().__init__()\n",
    "        if qtd_lados == 3: \n",
    "            self._qtd_lados = qtd_lados\n",
    "        else: \n",
    "            raise TypeError('Seu triângulo está estranho...')\n",
    "    \n",
    "    def noofsides(self):\n",
    "        return (f'A quantidade de lados de um Triangulo é : {self._qtd_lados}')\n",
    "    \n",
    "        \n",
    "class Pentagono(Poligono): \n",
    "    def __init__(self, qtd_lados) -> None:\n",
    "        super().__init__()\n",
    "        if qtd_lados == 5: \n",
    "            self._qtd_lados = qtd_lados\n",
    "        else: \n",
    "            raise TypeError('Seu pentagono está estranho...')\n",
    "    \n",
    "    def noofsides(self):\n",
    "        return (f'A quantidade de lados de um pentagono é : {self._qtd_lados}')\n",
    "        \n",
    "\n",
    "\n",
    "class Hexagono(Poligono): \n",
    "    def __init__(self, qtd_lados) -> None:\n",
    "        super().__init__()\n",
    "        if qtd_lados == 6: \n",
    "            self._qtd_lados = qtd_lados\n",
    "        else: \n",
    "            raise TypeError('Seu hexagono está estranho...')\n",
    "\n",
    "    def noofsides(self):\n",
    "        return (f'A quantidade de lados de um hexagono é : {self._qtd_lados}')\n",
    "    \n",
    "\n",
    "class Quadrilatero(Poligono): \n",
    "    def __init__(self, qtd_lados) -> None:\n",
    "        super().__init__()\n",
    "        if qtd_lados == 4: \n",
    "            self._qtd_lados = qtd_lados\n",
    "        else: \n",
    "            raise TypeError('Seu quadrilatero está estranho...')\n",
    "        \n",
    "    def noofsides(self):\n",
    "        return (f'A quantidade de lados de um quadrilatero é : {self._qtd_lados}')"
   ]
  },
  {
   "attachments": {},
   "cell_type": "markdown",
   "metadata": {},
   "source": [
    "### Testes "
   ]
  },
  {
   "cell_type": "code",
   "execution_count": 13,
   "metadata": {},
   "outputs": [
    {
     "data": {
      "text/plain": [
       "'A quantidade de lados de um Triangulo é : 3'"
      ]
     },
     "execution_count": 13,
     "metadata": {},
     "output_type": "execute_result"
    }
   ],
   "source": [
    "triangulo1 = Triangulo(3)\n",
    "triangulo1.noofsides()"
   ]
  },
  {
   "cell_type": "code",
   "execution_count": 14,
   "metadata": {},
   "outputs": [
    {
     "ename": "TypeError",
     "evalue": "Seu triângulo está estranho...",
     "output_type": "error",
     "traceback": [
      "\u001b[0;31m---------------------------------------------------------------------------\u001b[0m",
      "\u001b[0;31mTypeError\u001b[0m                                 Traceback (most recent call last)",
      "Cell \u001b[0;32mIn[14], line 1\u001b[0m\n\u001b[0;32m----> 1\u001b[0m triangulo2 \u001b[39m=\u001b[39m Triangulo(\u001b[39m5\u001b[39;49m)\n\u001b[1;32m      2\u001b[0m triangulo2\u001b[39m.\u001b[39mnoofsides()\n",
      "Cell \u001b[0;32mIn[12], line 7\u001b[0m, in \u001b[0;36mTriangulo.__init__\u001b[0;34m(self, qtd_lados)\u001b[0m\n\u001b[1;32m      5\u001b[0m     \u001b[39mself\u001b[39m\u001b[39m.\u001b[39m_qtd_lados \u001b[39m=\u001b[39m qtd_lados\n\u001b[1;32m      6\u001b[0m \u001b[39melse\u001b[39;00m: \n\u001b[0;32m----> 7\u001b[0m     \u001b[39mraise\u001b[39;00m \u001b[39mTypeError\u001b[39;00m(\u001b[39m'\u001b[39m\u001b[39mSeu triângulo está estranho...\u001b[39m\u001b[39m'\u001b[39m)\n",
      "\u001b[0;31mTypeError\u001b[0m: Seu triângulo está estranho..."
     ]
    }
   ],
   "source": [
    "triangulo2 = Triangulo(5)\n",
    "triangulo2.noofsides()\n"
   ]
  },
  {
   "cell_type": "code",
   "execution_count": 17,
   "metadata": {},
   "outputs": [
    {
     "data": {
      "text/plain": [
       "'A quantidade de lados de um pentagono é : 5'"
      ]
     },
     "execution_count": 17,
     "metadata": {},
     "output_type": "execute_result"
    }
   ],
   "source": [
    "pent = Pentagono(5)\n",
    "pent.noofsides()"
   ]
  },
  {
   "cell_type": "code",
   "execution_count": 18,
   "metadata": {},
   "outputs": [
    {
     "ename": "TypeError",
     "evalue": "Seu pentagono está estranho...",
     "output_type": "error",
     "traceback": [
      "\u001b[0;31m---------------------------------------------------------------------------\u001b[0m",
      "\u001b[0;31mTypeError\u001b[0m                                 Traceback (most recent call last)",
      "Cell \u001b[0;32mIn[18], line 1\u001b[0m\n\u001b[0;32m----> 1\u001b[0m pent2 \u001b[39m=\u001b[39m Pentagono(\u001b[39m77\u001b[39;49m)\n\u001b[1;32m      2\u001b[0m pent2\u001b[39m.\u001b[39mnoofsides()\n",
      "Cell \u001b[0;32mIn[12], line 19\u001b[0m, in \u001b[0;36mPentagono.__init__\u001b[0;34m(self, qtd_lados)\u001b[0m\n\u001b[1;32m     17\u001b[0m     \u001b[39mself\u001b[39m\u001b[39m.\u001b[39m_qtd_lados \u001b[39m=\u001b[39m qtd_lados\n\u001b[1;32m     18\u001b[0m \u001b[39melse\u001b[39;00m: \n\u001b[0;32m---> 19\u001b[0m     \u001b[39mraise\u001b[39;00m \u001b[39mTypeError\u001b[39;00m(\u001b[39m'\u001b[39m\u001b[39mSeu pentagono está estranho...\u001b[39m\u001b[39m'\u001b[39m)\n",
      "\u001b[0;31mTypeError\u001b[0m: Seu pentagono está estranho..."
     ]
    }
   ],
   "source": [
    "pent2 = Pentagono(77)\n",
    "pent2.noofsides()"
   ]
  },
  {
   "cell_type": "code",
   "execution_count": 15,
   "metadata": {},
   "outputs": [
    {
     "data": {
      "text/plain": [
       "'A quantidade de lados de um hexagono é : 6'"
      ]
     },
     "execution_count": 15,
     "metadata": {},
     "output_type": "execute_result"
    }
   ],
   "source": [
    "hexag1 = Hexagono(6)\n",
    "hexag1.noofsides()"
   ]
  },
  {
   "cell_type": "code",
   "execution_count": 16,
   "metadata": {},
   "outputs": [
    {
     "ename": "TypeError",
     "evalue": "Seu hexagono está estranho...",
     "output_type": "error",
     "traceback": [
      "\u001b[0;31m---------------------------------------------------------------------------\u001b[0m",
      "\u001b[0;31mTypeError\u001b[0m                                 Traceback (most recent call last)",
      "Cell \u001b[0;32mIn[16], line 1\u001b[0m\n\u001b[0;32m----> 1\u001b[0m hexag2 \u001b[39m=\u001b[39m Hexagono(\u001b[39m20\u001b[39;49m)\n\u001b[1;32m      2\u001b[0m hexag2\u001b[39m.\u001b[39mnoofsides()\n",
      "Cell \u001b[0;32mIn[12], line 32\u001b[0m, in \u001b[0;36mHexagono.__init__\u001b[0;34m(self, qtd_lados)\u001b[0m\n\u001b[1;32m     30\u001b[0m     \u001b[39mself\u001b[39m\u001b[39m.\u001b[39m_qtd_lados \u001b[39m=\u001b[39m qtd_lados\n\u001b[1;32m     31\u001b[0m \u001b[39melse\u001b[39;00m: \n\u001b[0;32m---> 32\u001b[0m     \u001b[39mraise\u001b[39;00m \u001b[39mTypeError\u001b[39;00m(\u001b[39m'\u001b[39m\u001b[39mSeu hexagono está estranho...\u001b[39m\u001b[39m'\u001b[39m)\n",
      "\u001b[0;31mTypeError\u001b[0m: Seu hexagono está estranho..."
     ]
    }
   ],
   "source": [
    "hexag2 = Hexagono(20)\n",
    "hexag2.noofsides()"
   ]
  },
  {
   "cell_type": "code",
   "execution_count": 19,
   "metadata": {},
   "outputs": [
    {
     "data": {
      "text/plain": [
       "'A quantidade de lados de um quadrilatero é : 4'"
      ]
     },
     "execution_count": 19,
     "metadata": {},
     "output_type": "execute_result"
    }
   ],
   "source": [
    "quadrado1 = Quadrilatero(4)\n",
    "quadrado1.noofsides()"
   ]
  },
  {
   "cell_type": "code",
   "execution_count": 20,
   "metadata": {},
   "outputs": [
    {
     "ename": "TypeError",
     "evalue": "Seu quadrilatero está estranho...",
     "output_type": "error",
     "traceback": [
      "\u001b[0;31m---------------------------------------------------------------------------\u001b[0m",
      "\u001b[0;31mTypeError\u001b[0m                                 Traceback (most recent call last)",
      "Cell \u001b[0;32mIn[20], line 1\u001b[0m\n\u001b[0;32m----> 1\u001b[0m quadrado2 \u001b[39m=\u001b[39m Quadrilatero(\u001b[39m90\u001b[39;49m)\n\u001b[1;32m      2\u001b[0m quadrado1\u001b[39m.\u001b[39mnoofsides()\n",
      "Cell \u001b[0;32mIn[12], line 44\u001b[0m, in \u001b[0;36mQuadrilatero.__init__\u001b[0;34m(self, qtd_lados)\u001b[0m\n\u001b[1;32m     42\u001b[0m     \u001b[39mself\u001b[39m\u001b[39m.\u001b[39m_qtd_lados \u001b[39m=\u001b[39m qtd_lados\n\u001b[1;32m     43\u001b[0m \u001b[39melse\u001b[39;00m: \n\u001b[0;32m---> 44\u001b[0m     \u001b[39mraise\u001b[39;00m \u001b[39mTypeError\u001b[39;00m(\u001b[39m'\u001b[39m\u001b[39mSeu quadrilatero está estranho...\u001b[39m\u001b[39m'\u001b[39m)\n",
      "\u001b[0;31mTypeError\u001b[0m: Seu quadrilatero está estranho..."
     ]
    }
   ],
   "source": [
    "quadrado2 = Quadrilatero(90)\n",
    "quadrado1.noofsides()"
   ]
  },
  {
   "attachments": {},
   "cell_type": "markdown",
   "metadata": {},
   "source": [
    "## Exercício 2 - Salario "
   ]
  },
  {
   "attachments": {},
   "cell_type": "markdown",
   "metadata": {},
   "source": [
    "- Escrituário\n",
    "    - sem comissão \n",
    "- Vendedores\n",
    "    - comissão: 0.1 do bruto\n",
    "- Gerentes\n",
    "    - comissão: 0.05 do liquido do departamento\n",
    "    - desconta 0.1 do social\n",
    "    - desconta 0.15 do imposto "
   ]
  },
  {
   "cell_type": "code",
   "execution_count": 21,
   "metadata": {},
   "outputs": [],
   "source": [
    "class Colaborator(ABC): \n",
    "    TAXA_SOCIAL = 0.1\n",
    "    TAXA_IMPOSTO = 0.15\n",
    "\n",
    "    def __init__(self, nome) -> None:\n",
    "        self._name = nome \n",
    "        self._base_salary = None\n",
    "\n",
    "    # métodos para acessar os atributos privados e garantir encapsulação \n",
    "    def get_name(self): \n",
    "        return self._name\n",
    "\n",
    "    # metodo para configurar a base salarial garantindo encapsulação\n",
    "    # útil para alterações dinamicas, por ex, implementar aumentos etc\n",
    "    def set_salary(self,salary): \n",
    "        self._base_salary = salary\n",
    "\n",
    "    @abstractclassmethod\n",
    "    def calcula_salario_bruto(self): \n",
    "        pass\n",
    "\n",
    "    def calcula_salario_liquido(self): \n",
    "        pass\n",
    "\n",
    "    def calcula_salario_liquido(self): \n",
    "        base = self.calcula_salario_bruto() * (1-Colaborator.TAXA_SOCIAL)\n",
    "        liquido = base *(1-Colaborator.TAXA_IMPOSTO)\n",
    "        return liquido"
   ]
  },
  {
   "cell_type": "code",
   "execution_count": 22,
   "metadata": {},
   "outputs": [],
   "source": [
    "class Escrituario(Colaborator):\n",
    "    def __init__(self, nome) -> None:\n",
    "        super().__init__(nome)\n",
    "\n",
    "    def calcula_salario_bruto(self): \n",
    "        return self._base_salary"
   ]
  },
  {
   "cell_type": "code",
   "execution_count": 23,
   "metadata": {},
   "outputs": [],
   "source": [
    "class Vendedor(Colaborator): \n",
    "    TAXA_COMISSAO = 0.1\n",
    "\n",
    "    def __init__(self, nome=None) -> None:\n",
    "        super().__init__(nome)\n",
    "        self._vendas = None\n",
    "\n",
    "    def get_vendas(self): \n",
    "        return self._vendas\n",
    "\n",
    "    def set_vendas(self, volume_vendas): \n",
    "        self._vendas = volume_vendas\n",
    "\n",
    "    def calcula_salario_bruto(self): \n",
    "        return (self._base_salary + self._vendas*Vendedor.TAXA_COMISSAO)"
   ]
  },
  {
   "cell_type": "code",
   "execution_count": 25,
   "metadata": {},
   "outputs": [],
   "source": [
    "class Gerente(Colaborator): \n",
    "    TAXA_VENDAS = 0.05\n",
    "\n",
    "    def __init__(self, nome=None) -> None:\n",
    "        super().__init__(nome)\n",
    "        self._lucro_depto = None\n",
    "\n",
    "    def get_lucro_depto(self): \n",
    "        return self._lucro_depto\n",
    "    \n",
    "    def set_lucro_depto(self, lucro_liq):\n",
    "        self._lucro_depto = lucro_liq\n",
    "\n",
    "    def calcula_salario_bruto(self): \n",
    "        return (self._base_salary + (self._lucro_depto * Gerente.TAXA_VENDAS))"
   ]
  },
  {
   "attachments": {},
   "cell_type": "markdown",
   "metadata": {},
   "source": [
    "Testando com alguns dados "
   ]
  },
  {
   "cell_type": "code",
   "execution_count": 26,
   "metadata": {},
   "outputs": [],
   "source": [
    "EMPLOYEE_DATABASE = '''\n",
    "Carlos Pedrosa, manager, 10000, 1000000\n",
    "Paola Teixeira, sales, 2000, 30000\n",
    "José Prado, sales, 2000, 27500\n",
    "Tadeu Costa, sales, 2200, 20000\n",
    "Victor Duarte, clerk, 1500\n",
    "Angelo Rodrigues, clerk, 1700\n",
    "Marta Cardoso, clerk, 1800\n",
    "'''"
   ]
  },
  {
   "cell_type": "code",
   "execution_count": 31,
   "metadata": {},
   "outputs": [],
   "source": [
    "employees = []\n",
    "for line in EMPLOYEE_DATABASE.strip().split('\\n'):\n",
    "    fields = [field.strip() for field in line.split(',')]\n",
    "    name = fields[0]\n",
    "    position = fields[1]\n",
    "    salary = float(fields[2])\n",
    "    if position == 'manager':\n",
    "        employee = Gerente(name)\n",
    "        profit = float(fields[3])\n",
    "        employee.set_lucro_depto(profit)\n",
    "    elif position == 'sales':\n",
    "        employee = Vendedor(name)\n",
    "        sales = float(fields[3])\n",
    "        employee.set_vendas(sales)\n",
    "    elif position == 'clerk':\n",
    "        employee = Escrituario(name)\n",
    "    else:\n",
    "        raise RuntimeError(f'{position} is not a valid job description')\n",
    "    employee.set_salary(salary)\n",
    "    employees.append(employee)"
   ]
  },
  {
   "cell_type": "code",
   "execution_count": 33,
   "metadata": {},
   "outputs": [
    {
     "name": "stdout",
     "output_type": "stream",
     "text": [
      "Carlos Pedrosa receives 45900.0\n",
      "Paola Teixeira receives 3825.0\n",
      "José Prado receives 3633.75\n",
      "Tadeu Costa receives 3213.0\n",
      "Victor Duarte receives 1147.5\n",
      "Angelo Rodrigues receives 1300.5\n",
      "Marta Cardoso receives 1377.0\n"
     ]
    }
   ],
   "source": [
    "for e in employees:\n",
    "    print(e.get_name(),'receives', e.calcula_salario_liquido())"
   ]
  },
  {
   "cell_type": "code",
   "execution_count": 34,
   "metadata": {},
   "outputs": [
    {
     "data": {
      "text/plain": [
       "[<__main__.Gerente at 0x7f86145857e0>,\n",
       " <__main__.Vendedor at 0x7f86145856f0>,\n",
       " <__main__.Vendedor at 0x7f86145860b0>,\n",
       " <__main__.Vendedor at 0x7f8614584e50>,\n",
       " <__main__.Escrituario at 0x7f8614585a50>,\n",
       " <__main__.Escrituario at 0x7f86145859c0>,\n",
       " <__main__.Escrituario at 0x7f8614585930>]"
      ]
     },
     "execution_count": 34,
     "metadata": {},
     "output_type": "execute_result"
    }
   ],
   "source": [
    "employees"
   ]
  },
  {
   "attachments": {},
   "cell_type": "markdown",
   "metadata": {},
   "source": [
    "## Exercício 3\n",
    "Reescrever o script usando classes e métodos abstratos"
   ]
  },
  {
   "cell_type": "code",
   "execution_count": 55,
   "metadata": {},
   "outputs": [],
   "source": [
    "from abc import ABC, abstractclassmethod\n",
    "import math "
   ]
  },
  {
   "cell_type": "code",
   "execution_count": 56,
   "metadata": {},
   "outputs": [],
   "source": [
    "class Solid(ABC):\n",
    "    def __init__(self, mass): \n",
    "        self._mass = mass\n",
    "\n",
    "    def get_mass(self):\n",
    "        return self._mass \n",
    "    \n",
    "    @abstractclassmethod\n",
    "    def volume(self): \n",
    "        pass\n",
    "\n",
    "    def density(self): \n",
    "        return self._mass / self.volume()"
   ]
  },
  {
   "cell_type": "code",
   "execution_count": 57,
   "metadata": {},
   "outputs": [],
   "source": [
    "class RectangularParallelepiped(Solid): \n",
    "    def __init__(self, mass, x, y, z): \n",
    "        super().__init__(mass) \n",
    "        self._x = x\n",
    "        self._y = y\n",
    "        self._z = z\n",
    "\n",
    "    def volume(self): \n",
    "        return self._x * self._y * self._z"
   ]
  },
  {
   "cell_type": "code",
   "execution_count": 58,
   "metadata": {},
   "outputs": [],
   "source": [
    "class Sphere(Solid): \n",
    "    def __init__(self, mass, r):\n",
    "        super().__init__(mass)\n",
    "        self._r = r\n",
    "\n",
    "    def volume(self): \n",
    "        return 4 / 3 * math.pi * self._r ** 3"
   ]
  },
  {
   "cell_type": "code",
   "execution_count": 61,
   "metadata": {},
   "outputs": [
    {
     "name": "stdout",
     "output_type": "stream",
     "text": [
      "100\n",
      "5.0\n"
     ]
    }
   ],
   "source": [
    "objeto1 = RectangularParallelepiped(500, 5,10,2)\n",
    "print(objeto1.volume())\n",
    "print(objeto1.density())"
   ]
  },
  {
   "cell_type": "code",
   "execution_count": 62,
   "metadata": {},
   "outputs": [
    {
     "name": "stdout",
     "output_type": "stream",
     "text": [
      "1436.7550402417319\n",
      "0.3480064353321327\n"
     ]
    }
   ],
   "source": [
    "objeto2 = Sphere(500, 7)\n",
    "print(objeto2.volume())\n",
    "print(objeto2.density())"
   ]
  }
 ],
 "metadata": {
  "kernelspec": {
   "display_name": "base",
   "language": "python",
   "name": "python3"
  },
  "language_info": {
   "codemirror_mode": {
    "name": "ipython",
    "version": 3
   },
   "file_extension": ".py",
   "mimetype": "text/x-python",
   "name": "python",
   "nbconvert_exporter": "python",
   "pygments_lexer": "ipython3",
   "version": "3.10.9"
  },
  "orig_nbformat": 4
 },
 "nbformat": 4,
 "nbformat_minor": 2
}
