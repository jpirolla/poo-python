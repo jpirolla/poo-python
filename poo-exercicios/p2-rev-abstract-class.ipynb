{
 "cells": [
  {
   "attachments": {},
   "cell_type": "markdown",
   "metadata": {},
   "source": [
    "# Revisão classes e métodos abstratos"
   ]
  },
  {
   "attachments": {},
   "cell_type": "markdown",
   "metadata": {},
   "source": [
    "Criamos classes abstratas para forçar que as subclasses obrigatoriamente implementem determinados métodos marcados como abstratos. A classe abstrata pode ter todos os métodos abstratos, ou métodos normais e alguns abstratos. \n",
    "\n",
    "Metodos abstratos, por sua vez, são métodos que não possuem uma implementação de fato, mas apenas indicam que é o método que deverá ser reimplementado nas classes que herdarao a superclasse abstrata"
   ]
  },
  {
   "attachments": {},
   "cell_type": "markdown",
   "metadata": {},
   "source": [
    "Para fazer isso de forma clara e correta, devemos mportar o módilo abc e indicar o metodo abstrado com um decorador @abstractmethod"
   ]
  },
  {
   "cell_type": "code",
   "execution_count": 1,
   "metadata": {},
   "outputs": [],
   "source": [
    "from abc import ABC, abstractmethod"
   ]
  },
  {
   "cell_type": "code",
   "execution_count": 2,
   "metadata": {},
   "outputs": [],
   "source": [
    "# a classe abstrata herda ABC\n",
    "class Base(ABC):\n",
    "    def __init__(self):\n",
    "        print('Classe base criada')\n",
    "    \n",
    "    def f(self): \n",
    "        print('método f da Base')\n",
    "\n",
    "    def h(self):\n",
    "        self.m()\n",
    "\n",
    "    @abstractmethod\n",
    "    def m(self): \n",
    "        pass"
   ]
  },
  {
   "attachments": {},
   "cell_type": "markdown",
   "metadata": {},
   "source": [
    "Um aspecto importante da classe base é que ela serve apenas para garantir que suas subclasses vao de fato implementar o método abstrato e também não é possível criar objetos a partir dela. "
   ]
  },
  {
   "cell_type": "code",
   "execution_count": 3,
   "metadata": {},
   "outputs": [
    {
     "ename": "TypeError",
     "evalue": "Can't instantiate abstract class Base with abstract method m",
     "output_type": "error",
     "traceback": [
      "\u001b[0;31m---------------------------------------------------------------------------\u001b[0m",
      "\u001b[0;31mTypeError\u001b[0m                                 Traceback (most recent call last)",
      "Cell \u001b[0;32mIn[3], line 1\u001b[0m\n\u001b[0;32m----> 1\u001b[0m b \u001b[39m=\u001b[39m Base()\n",
      "\u001b[0;31mTypeError\u001b[0m: Can't instantiate abstract class Base with abstract method m"
     ]
    }
   ],
   "source": [
    "b = Base()"
   ]
  },
  {
   "attachments": {},
   "cell_type": "markdown",
   "metadata": {},
   "source": [
    "Também não vamos conseguir criar objetos das subclasses que não definirem o método abstrato"
   ]
  },
  {
   "cell_type": "code",
   "execution_count": 4,
   "metadata": {},
   "outputs": [],
   "source": [
    "class Deriva1(Base): \n",
    "    def g(self): \n",
    "        print('g de Deriva1')"
   ]
  },
  {
   "cell_type": "code",
   "execution_count": 5,
   "metadata": {},
   "outputs": [
    {
     "ename": "TypeError",
     "evalue": "Can't instantiate abstract class Deriva1 with abstract method m",
     "output_type": "error",
     "traceback": [
      "\u001b[0;31m---------------------------------------------------------------------------\u001b[0m",
      "\u001b[0;31mTypeError\u001b[0m                                 Traceback (most recent call last)",
      "Cell \u001b[0;32mIn[5], line 1\u001b[0m\n\u001b[0;32m----> 1\u001b[0m a \u001b[39m=\u001b[39m Deriva1()\n",
      "\u001b[0;31mTypeError\u001b[0m: Can't instantiate abstract class Deriva1 with abstract method m"
     ]
    }
   ],
   "source": [
    "a = Deriva1()"
   ]
  },
  {
   "attachments": {},
   "cell_type": "markdown",
   "metadata": {},
   "source": [
    "Isso garante que vamos implementar o metodo abstrado nas classes filhas"
   ]
  },
  {
   "cell_type": "code",
   "execution_count": 6,
   "metadata": {},
   "outputs": [],
   "source": [
    "class Deriva2(Base): \n",
    "    def m(self): \n",
    "        print('método abstrato definido')"
   ]
  },
  {
   "cell_type": "code",
   "execution_count": 7,
   "metadata": {},
   "outputs": [],
   "source": [
    "a = Deriva2"
   ]
  },
  {
   "cell_type": "code",
   "execution_count": 8,
   "metadata": {},
   "outputs": [
    {
     "data": {
      "text/plain": [
       "<function __main__.Base.h(self)>"
      ]
     },
     "execution_count": 8,
     "metadata": {},
     "output_type": "execute_result"
    }
   ],
   "source": [
    "a.h"
   ]
  },
  {
   "attachments": {},
   "cell_type": "markdown",
   "metadata": {},
   "source": [
    "## Exemplo\n",
    "Como exemplo, vamos agora considerar um caso excessivamente simplificado de cálculo do salário líquido a ser pago em uma empresa.\n",
    "\n",
    "Nessa empresa simplificada desse país simplificado, temos três tipos de colaboradores: \n",
    "escriturários, vendedores e gerentes. \n",
    "\n",
    "Os escriturários recebem um salário bruto fixo, os vendedores, além de uma base fixa, recebem uma comissão de 10% sobre o total de vendas realizadas por eles, por fim, os gerentes, além de uma base fixa, recebem uma comissão de 5% sobre o lucro líquido do seu departamento.\n",
    "\n",
    "Por outro lado, do valor do salário bruto são descontados 10% para segurança social e do restante são descontados 15% de imposto de renda na fonte.\n",
    "\n",
    "Para os cálculos, os dados sobre cada colaborador são fornecidos em um arquivo (aqui usaremos apenas uma cadeia de caracteres fixa, para simplificar) com o seguinte formato:\n",
    "- Cada linha corresponde a um colaborador\n",
    "- Cada linha é constituída de campos separados por vírgulas:\n",
    "  - O primeiro campo é o nome do colaborador\n",
    "  - O segundo campo é o seu cargo (manager, sales ou clerk)\n",
    "  - O terceiro campo é o salário base\n",
    "  - No caso de um vendedor, há um quarto campo com o total de vendas que ele realizou\n",
    "  - No caso de um gerente, há um quarto campo com o lucro líquido do seu departamento\n",
    "  \n",
    "Primeiro, vamos definir uma classe base com o comportamento comum a todos os tipos de colaboradores:"
   ]
  },
  {
   "attachments": {},
   "cell_type": "markdown",
   "metadata": {},
   "source": [
    "- escrituarios: bruto fixo \n",
    "- vendedor: bruto = base + 0.1 da venda \n",
    "- gerentes: bruto = base + 0.05 do lucro do dpto\n",
    "\n",
    "pra todos \n",
    "- bruto - 0.10 inss\n",
    "- liquido -0.15 imposto"
   ]
  },
  {
   "cell_type": "code",
   "execution_count": 9,
   "metadata": {},
   "outputs": [],
   "source": [
    "class Empresa(ABC): \n",
    "    INSS = 0.1\n",
    "    IMPOSTO = 0.15\n",
    "\n",
    "    def __init__(self, name): \n",
    "        self._name = name \n",
    "        self._base_salarial = None\n",
    "\n",
    "    def get_name(self):\n",
    "        return self._name\n",
    "    \n",
    "    def set_salario(self, salario): \n",
    "        self._base_salarial = salario\n",
    "\n",
    "    @abstractmethod\n",
    "    def salario_bruto(self): \n",
    "        pass\n",
    "\n",
    "    def salario_liquido(self):\n",
    "        base = self.salario_bruto() - self.salario_bruto()*Empresa.INSS\n",
    "        liquido = base - base*Empresa.IMPOSTO\n",
    "        return liquido\n"
   ]
  },
  {
   "attachments": {},
   "cell_type": "markdown",
   "metadata": {},
   "source": [
    "Agora vamos definir os empregados"
   ]
  },
  {
   "cell_type": "code",
   "execution_count": 10,
   "metadata": {},
   "outputs": [],
   "source": [
    "class Escrevente(Empresa): \n",
    "    def salario_bruto(self):\n",
    "        return self._base_salarial"
   ]
  },
  {
   "cell_type": "code",
   "execution_count": 16,
   "metadata": {},
   "outputs": [],
   "source": [
    "class Vendedor(Empresa):\n",
    "    def __init__(self, name=None):\n",
    "        super().__init__(self, name)\n",
    "        self._qtvendas = None\n",
    "\n",
    "    def set_vendas(self, vendas):\n",
    "        self._qtvendas = vendas\n",
    "\n",
    "    def salario_bruto(self):\n",
    "        bruto = self._base_salarial + 0.1*self._qtvendas\n",
    "        return bruto \n"
   ]
  },
  {
   "cell_type": "code",
   "execution_count": null,
   "metadata": {},
   "outputs": [],
   "source": [
    "import math\n",
    "class Solid:\n",
    "    def __init__(self, mass):\n",
    "        self._mass = mass\n",
    "    def mass(self):\n",
    "        return self._mass\n",
    "    def volume(self):\n",
    "        pass\n",
    "    def density(self):\n",
    "        return self._mass / self.volume()\n",
    "\n",
    "class RectangularParallelepiped(Solid):\n",
    "    def __init__(self, mass, lx, ly, lz):\n",
    "        Solid.__init__(self, mass)\n",
    "        self._x = lx\n",
    "        self._y = ly\n",
    "        self._z = lz\n",
    "    def volume(self):\n",
    "        return self._x * self._y * self._z\n",
    "\n",
    "class Sphere(Solid):\n",
    "    def __init__(self, mass, r):\n",
    "        Solid.__init__(self, mass)\n",
    "        self._r = r\n",
    "    def volume(self):\n",
    "        return 4 / 3 * math.pi * self._r ** 3"
   ]
  },
  {
   "cell_type": "code",
   "execution_count": 17,
   "metadata": {},
   "outputs": [],
   "source": [
    "class Solid(ABC): \n",
    "    def __init__(self, mass):\n",
    "        self._mass = mass\n",
    "\n",
    "    def get_mass(self): \n",
    "        return self._mass\n",
    "    \n",
    "    @abstractmethod\n",
    "    def volume(self):\n",
    "        pass\n",
    "\n",
    "    @abstractmethod\n",
    "    def densidade(self):\n",
    "        pass    "
   ]
  },
  {
   "cell_type": "code",
   "execution_count": 26,
   "metadata": {},
   "outputs": [],
   "source": [
    "import math"
   ]
  },
  {
   "cell_type": "code",
   "execution_count": 27,
   "metadata": {},
   "outputs": [],
   "source": [
    "class Esfera(Solid): \n",
    "    def __init__(self, mass, raio):\n",
    "        super().__init__(mass)\n",
    "        self._mass = mass\n",
    "        self._raio = raio \n",
    "\n",
    "    def volume(self):\n",
    "        vol = 4/3 *(math.pi*self._raio*3)\n",
    "        return vol \n",
    "    \n",
    "    def densidade(self):\n",
    "        d = self._mass/(self.volume())\n",
    "        return d\n"
   ]
  },
  {
   "cell_type": "code",
   "execution_count": 28,
   "metadata": {},
   "outputs": [],
   "source": [
    "a = Esfera(500, 3)"
   ]
  },
  {
   "cell_type": "code",
   "execution_count": 29,
   "metadata": {},
   "outputs": [
    {
     "data": {
      "text/plain": [
       "13.262911924324612"
      ]
     },
     "execution_count": 29,
     "metadata": {},
     "output_type": "execute_result"
    }
   ],
   "source": [
    "a.densidade()"
   ]
  },
  {
   "cell_type": "code",
   "execution_count": 30,
   "metadata": {},
   "outputs": [
    {
     "data": {
      "text/plain": [
       "37.69911184307752"
      ]
     },
     "execution_count": 30,
     "metadata": {},
     "output_type": "execute_result"
    }
   ],
   "source": [
    "a.volume()"
   ]
  },
  {
   "cell_type": "code",
   "execution_count": null,
   "metadata": {},
   "outputs": [],
   "source": []
  }
 ],
 "metadata": {
  "kernelspec": {
   "display_name": "base",
   "language": "python",
   "name": "python3"
  },
  "language_info": {
   "codemirror_mode": {
    "name": "ipython",
    "version": 3
   },
   "file_extension": ".py",
   "mimetype": "text/x-python",
   "name": "python",
   "nbconvert_exporter": "python",
   "pygments_lexer": "ipython3",
   "version": "3.10.9"
  },
  "orig_nbformat": 4
 },
 "nbformat": 4,
 "nbformat_minor": 2
}
