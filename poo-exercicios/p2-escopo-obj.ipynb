{
 "cells": [
  {
   "attachments": {},
   "cell_type": "markdown",
   "metadata": {},
   "source": [
    "# Revisão escopo de objetos"
   ]
  },
  {
   "attachments": {},
   "cell_type": "markdown",
   "metadata": {},
   "source": [
    "Tudo no python são objetos, logo, classes também são objetos. Podemos chamar uma classe como função"
   ]
  },
  {
   "cell_type": "code",
   "execution_count": 1,
   "metadata": {},
   "outputs": [],
   "source": [
    "class Teste1: \n",
    "    x=1 \n",
    "    def sauda(self): \n",
    "        print('Hi')"
   ]
  },
  {
   "cell_type": "code",
   "execution_count": 2,
   "metadata": {},
   "outputs": [],
   "source": [
    "a = Teste1()"
   ]
  },
  {
   "attachments": {},
   "cell_type": "markdown",
   "metadata": {},
   "source": [
    "Quando executamos a linha anterior estamos criando o objeto Teste1 e passando a referência da classe para a variável a. \n",
    "Além disso, assim que criamos o objeto Teste1, o construtor __init__ da classe já é chamado para inicializar o objeto da forma correta."
   ]
  },
  {
   "attachments": {},
   "cell_type": "markdown",
   "metadata": {},
   "source": [
    "Tal como em funções em que as variáveis definidas no escopo de funções, o mesmo raciocínio se aplica quando estamos trabalhando com classes. Tudo que for definido dentro de uma classe é do escopo da classe. "
   ]
  },
  {
   "cell_type": "code",
   "execution_count": 4,
   "metadata": {},
   "outputs": [],
   "source": [
    "class Teste2: \n",
    "    x = 2 \n",
    "    def se_despede(self: \n",
    "        print('Tchau')"
   ]
  },
  {
   "attachments": {},
   "cell_type": "markdown",
   "metadata": {},
   "source": [
    "O método se_despede está definido no escopo da classe. Para acessá-lo chamamos a classe . nome do método. "
   ]
  },
  {
   "cell_type": "code",
   "execution_count": 6,
   "metadata": {},
   "outputs": [
    {
     "data": {
      "text/plain": [
       "<function __main__.Teste2.se_despede(self)>"
      ]
     },
     "execution_count": 6,
     "metadata": {},
     "output_type": "execute_result"
    }
   ],
   "source": [
    "Teste2.se_despede"
   ]
  },
  {
   "attachments": {},
   "cell_type": "markdown",
   "metadata": {},
   "source": [
    "Da mesma forma, a variável x está no escopo da classe e seu acesso é idêntico ao do método"
   ]
  },
  {
   "cell_type": "code",
   "execution_count": 7,
   "metadata": {},
   "outputs": [
    {
     "data": {
      "text/plain": [
       "2"
      ]
     },
     "execution_count": 7,
     "metadata": {},
     "output_type": "execute_result"
    }
   ],
   "source": [
    "Teste2.x"
   ]
  },
  {
   "attachments": {},
   "cell_type": "markdown",
   "metadata": {},
   "source": [
    "Esses atributos da classe também podem ser acessados pelos **objetos da classe*, que são as variáveis que recebem a classe como referência. Por exemplo,"
   ]
  },
  {
   "cell_type": "code",
   "execution_count": 8,
   "metadata": {},
   "outputs": [],
   "source": [
    "obj2 = Teste2()"
   ]
  },
  {
   "cell_type": "code",
   "execution_count": 9,
   "metadata": {},
   "outputs": [
    {
     "data": {
      "text/plain": [
       "2"
      ]
     },
     "execution_count": 9,
     "metadata": {},
     "output_type": "execute_result"
    }
   ],
   "source": [
    "obj2.x"
   ]
  },
  {
   "cell_type": "code",
   "execution_count": 11,
   "metadata": {},
   "outputs": [
    {
     "name": "stdout",
     "output_type": "stream",
     "text": [
      "Tchau\n"
     ]
    }
   ],
   "source": [
    "obj2.se_despede()"
   ]
  },
  {
   "attachments": {},
   "cell_type": "markdown",
   "metadata": {},
   "source": [
    "Vejamos o seguinte cenário"
   ]
  },
  {
   "cell_type": "code",
   "execution_count": 12,
   "metadata": {},
   "outputs": [],
   "source": [
    "class C: \n",
    "    x = 1\n",
    "    def __init__(self): \n",
    "        self.y = 2\n",
    "\n",
    "    def sauda(self):\n",
    "        print('Hi')"
   ]
  },
  {
   "attachments": {},
   "cell_type": "markdown",
   "metadata": {},
   "source": [
    "Atributos da classe podem sem acessados tanto pela classe (C.x), quanto pelo objeto (objeto é a variável que passamos a referencia da classe C, ou seja, c=C(), e o objeto acessando o atributo da classe é c.x). \n",
    "\n",
    "Os atributos dos objetos (y por exemplo) só podem ser acessados pelos objetos (c.y por exemplo) e não pela classe"
   ]
  },
  {
   "cell_type": "code",
   "execution_count": 14,
   "metadata": {},
   "outputs": [
    {
     "data": {
      "text/plain": [
       "1"
      ]
     },
     "execution_count": 14,
     "metadata": {},
     "output_type": "execute_result"
    }
   ],
   "source": [
    "# classe acessando atributo da classe\n",
    "C.x "
   ]
  },
  {
   "cell_type": "code",
   "execution_count": 16,
   "metadata": {},
   "outputs": [],
   "source": [
    "c = C() # crio o obj c"
   ]
  },
  {
   "cell_type": "code",
   "execution_count": 17,
   "metadata": {},
   "outputs": [
    {
     "data": {
      "text/plain": [
       "1"
      ]
     },
     "execution_count": 17,
     "metadata": {},
     "output_type": "execute_result"
    }
   ],
   "source": [
    "# objeto acessando atributo da classe \n",
    "c.x"
   ]
  },
  {
   "cell_type": "code",
   "execution_count": 18,
   "metadata": {},
   "outputs": [
    {
     "data": {
      "text/plain": [
       "2"
      ]
     },
     "execution_count": 18,
     "metadata": {},
     "output_type": "execute_result"
    }
   ],
   "source": [
    "# obj acessando atributo do obj\n",
    "c.y"
   ]
  },
  {
   "cell_type": "code",
   "execution_count": 19,
   "metadata": {},
   "outputs": [
    {
     "ename": "AttributeError",
     "evalue": "type object 'C' has no attribute 'y'",
     "output_type": "error",
     "traceback": [
      "\u001b[0;31m---------------------------------------------------------------------------\u001b[0m",
      "\u001b[0;31mAttributeError\u001b[0m                            Traceback (most recent call last)",
      "Cell \u001b[0;32mIn[19], line 2\u001b[0m\n\u001b[1;32m      1\u001b[0m \u001b[39m# classe tentando acessar atributo do obj -> erro\u001b[39;00m\n\u001b[0;32m----> 2\u001b[0m C\u001b[39m.\u001b[39;49my\n",
      "\u001b[0;31mAttributeError\u001b[0m: type object 'C' has no attribute 'y'"
     ]
    }
   ],
   "source": [
    "# classe tentando acessar atributo do obj -> erro\n",
    "C.y "
   ]
  },
  {
   "attachments": {},
   "cell_type": "markdown",
   "metadata": {},
   "source": [
    "Isso se dá pelo escopo em que estão definido as coisas. Veja que x está no escopo mais geral (da classe) e fica acessível a todo mundo. O y por sua vez está definido no escopo do init e, portanto, no escopo dos objetos. "
   ]
  },
  {
   "attachments": {},
   "cell_type": "markdown",
   "metadata": {},
   "source": [
    "Importante, se um objeto tentar acessar uma variável de classe, se ela existir, seu valor será retornado. Mas se tentarmos acessar pelo objeto uma variável que não existe na classe nós automaticamente **CRIAMOS UMA VARIÁVEL DO ESCOPO DO OBJETO**, que ficará acessível apenas para o objeto. "
   ]
  },
  {
   "cell_type": "code",
   "execution_count": 21,
   "metadata": {},
   "outputs": [
    {
     "data": {
      "text/plain": [
       "1"
      ]
     },
     "execution_count": 21,
     "metadata": {},
     "output_type": "execute_result"
    }
   ],
   "source": [
    "c.x # obj acessando escopo da classe"
   ]
  },
  {
   "cell_type": "code",
   "execution_count": 25,
   "metadata": {},
   "outputs": [],
   "source": [
    "c.ola = 88 # atributo que nao existia, criamos no escopo do obj "
   ]
  },
  {
   "cell_type": "code",
   "execution_count": 26,
   "metadata": {},
   "outputs": [
    {
     "data": {
      "text/plain": [
       "88"
      ]
     },
     "execution_count": 26,
     "metadata": {},
     "output_type": "execute_result"
    }
   ],
   "source": [
    "c.ola "
   ]
  },
  {
   "cell_type": "code",
   "execution_count": 27,
   "metadata": {},
   "outputs": [
    {
     "ename": "AttributeError",
     "evalue": "type object 'C' has no attribute 'ola'",
     "output_type": "error",
     "traceback": [
      "\u001b[0;31m---------------------------------------------------------------------------\u001b[0m",
      "\u001b[0;31mAttributeError\u001b[0m                            Traceback (most recent call last)",
      "Cell \u001b[0;32mIn[27], line 1\u001b[0m\n\u001b[0;32m----> 1\u001b[0m C\u001b[39m.\u001b[39;49mola\n",
      "\u001b[0;31mAttributeError\u001b[0m: type object 'C' has no attribute 'ola'"
     ]
    }
   ],
   "source": [
    "C.ola # nao fica disponível para a classe, apenas p obj"
   ]
  },
  {
   "attachments": {},
   "cell_type": "markdown",
   "metadata": {},
   "source": [
    "Note que isso também é importante quando formos alterar o valor de variaveis"
   ]
  },
  {
   "cell_type": "code",
   "execution_count": 28,
   "metadata": {},
   "outputs": [
    {
     "data": {
      "text/plain": [
       "1"
      ]
     },
     "execution_count": 28,
     "metadata": {},
     "output_type": "execute_result"
    }
   ],
   "source": [
    "C.x "
   ]
  },
  {
   "cell_type": "code",
   "execution_count": 29,
   "metadata": {},
   "outputs": [
    {
     "data": {
      "text/plain": [
       "1"
      ]
     },
     "execution_count": 29,
     "metadata": {},
     "output_type": "execute_result"
    }
   ],
   "source": [
    "c.x"
   ]
  },
  {
   "cell_type": "code",
   "execution_count": 30,
   "metadata": {},
   "outputs": [],
   "source": [
    "c.x += 10"
   ]
  },
  {
   "cell_type": "code",
   "execution_count": 31,
   "metadata": {},
   "outputs": [
    {
     "data": {
      "text/plain": [
       "11"
      ]
     },
     "execution_count": 31,
     "metadata": {},
     "output_type": "execute_result"
    }
   ],
   "source": [
    "c.x"
   ]
  },
  {
   "cell_type": "code",
   "execution_count": 32,
   "metadata": {},
   "outputs": [
    {
     "data": {
      "text/plain": [
       "(1, 11)"
      ]
     },
     "execution_count": 32,
     "metadata": {},
     "output_type": "execute_result"
    }
   ],
   "source": [
    "C.x, c.x"
   ]
  },
  {
   "attachments": {},
   "cell_type": "markdown",
   "metadata": {},
   "source": [
    "note que quando alteramos a variavel x acessando-a pelo objeto, nós não alteramos a variavel da classe, mas sim criamos uma no escopo do obj e atribuimos o valor a ele. Isso pode ser visto quando acessamos o atributo pela classe, que mantem seu valor inicial "
   ]
  },
  {
   "attachments": {},
   "cell_type": "markdown",
   "metadata": {},
   "source": [
    "Por que isso acontece? \n",
    "\n",
    "Trata-se dos escopos que as coisas estão definidas. Cada objeto no python tem seu próprio escopo. E como tudo é um objeto no python, tudo tem seu próprio escopo."
   ]
  },
  {
   "attachments": {},
   "cell_type": "markdown",
   "metadata": {},
   "source": [
    "Dado um objeto já existente, podemos acrescentar atributos novos a ele e tais atributos estarão disponíveis apenas a ele. "
   ]
  },
  {
   "cell_type": "code",
   "execution_count": 34,
   "metadata": {},
   "outputs": [],
   "source": [
    "c2 = C()"
   ]
  },
  {
   "cell_type": "code",
   "execution_count": 35,
   "metadata": {},
   "outputs": [],
   "source": [
    "c2.novo_atr = \"novo atributo de c2\""
   ]
  },
  {
   "cell_type": "code",
   "execution_count": 36,
   "metadata": {},
   "outputs": [
    {
     "data": {
      "text/plain": [
       "'novo atributo de c2'"
      ]
     },
     "execution_count": 36,
     "metadata": {},
     "output_type": "execute_result"
    }
   ],
   "source": [
    "c2.novo_atr"
   ]
  },
  {
   "attachments": {},
   "cell_type": "markdown",
   "metadata": {},
   "source": [
    "Criei um novo atributo para o objeto c2 da classe C. Se tentarmos acessar esse atributo pela classe ou por outros objetos de C, não conseguiremos"
   ]
  },
  {
   "cell_type": "code",
   "execution_count": 37,
   "metadata": {},
   "outputs": [
    {
     "ename": "AttributeError",
     "evalue": "'C' object has no attribute 'novo_atr'",
     "output_type": "error",
     "traceback": [
      "\u001b[0;31m---------------------------------------------------------------------------\u001b[0m",
      "\u001b[0;31mAttributeError\u001b[0m                            Traceback (most recent call last)",
      "Cell \u001b[0;32mIn[37], line 1\u001b[0m\n\u001b[0;32m----> 1\u001b[0m c\u001b[39m.\u001b[39;49mnovo_atr\n",
      "\u001b[0;31mAttributeError\u001b[0m: 'C' object has no attribute 'novo_atr'"
     ]
    }
   ],
   "source": [
    "c.novo_atr"
   ]
  },
  {
   "cell_type": "code",
   "execution_count": 38,
   "metadata": {},
   "outputs": [
    {
     "ename": "AttributeError",
     "evalue": "type object 'C' has no attribute 'novo_atr'",
     "output_type": "error",
     "traceback": [
      "\u001b[0;31m---------------------------------------------------------------------------\u001b[0m",
      "\u001b[0;31mAttributeError\u001b[0m                            Traceback (most recent call last)",
      "Cell \u001b[0;32mIn[38], line 1\u001b[0m\n\u001b[0;32m----> 1\u001b[0m C\u001b[39m.\u001b[39;49mnovo_atr\n",
      "\u001b[0;31mAttributeError\u001b[0m: type object 'C' has no attribute 'novo_atr'"
     ]
    }
   ],
   "source": [
    "C.novo_atr"
   ]
  },
  {
   "attachments": {},
   "cell_type": "markdown",
   "metadata": {},
   "source": [
    "Podemos também criar novos atributos da classe"
   ]
  },
  {
   "cell_type": "code",
   "execution_count": 39,
   "metadata": {},
   "outputs": [],
   "source": [
    "C.atr_classe = \"novo atr da classe\""
   ]
  },
  {
   "attachments": {},
   "cell_type": "markdown",
   "metadata": {},
   "source": [
    "Esse atributo da classe, no entanto, estará disponível para os objetos da classe."
   ]
  },
  {
   "cell_type": "code",
   "execution_count": 40,
   "metadata": {},
   "outputs": [
    {
     "data": {
      "text/plain": [
       "'novo atr da classe'"
      ]
     },
     "execution_count": 40,
     "metadata": {},
     "output_type": "execute_result"
    }
   ],
   "source": [
    "C.atr_classe"
   ]
  },
  {
   "cell_type": "code",
   "execution_count": 41,
   "metadata": {},
   "outputs": [
    {
     "data": {
      "text/plain": [
       "'novo atr da classe'"
      ]
     },
     "execution_count": 41,
     "metadata": {},
     "output_type": "execute_result"
    }
   ],
   "source": [
    "c2.atr_classe"
   ]
  },
  {
   "attachments": {},
   "cell_type": "markdown",
   "metadata": {},
   "source": [
    "Por que novos atributos da classe ficam disponíveis aos objetos, mas novos atributos de objetos não ficam disponíveis para a classe? \n",
    "\n",
    "Isso se dá pela hierarquia na busca dos escopos no python. \n",
    "1. Primeiro busca no escopo do objeto\n",
    "2. Depois busca no escopo da classe atual\n",
    "3. Depois busca no escopo das suberclasses\n",
    "\n",
    "Portanto, se definirmos um atributo do obj com o mesmo nome de um atributo da classe, quando for acessado atraves do objeto, este atributo \"esconde\" o atributo da classe (uma vez que o encontrou no escopo do objeto, não procura na classe)."
   ]
  },
  {
   "cell_type": "code",
   "execution_count": 42,
   "metadata": {},
   "outputs": [],
   "source": [
    "class Teste3: \n",
    "    x = 1\n",
    "    def __init__(self):\n",
    "        self.x = 13\n",
    "\n",
    "    def get_x(self): \n",
    "        return self.x"
   ]
  },
  {
   "cell_type": "code",
   "execution_count": 43,
   "metadata": {},
   "outputs": [],
   "source": [
    "t = Teste3()"
   ]
  },
  {
   "cell_type": "code",
   "execution_count": 44,
   "metadata": {},
   "outputs": [
    {
     "data": {
      "text/plain": [
       "1"
      ]
     },
     "execution_count": 44,
     "metadata": {},
     "output_type": "execute_result"
    }
   ],
   "source": [
    "Teste3.x"
   ]
  },
  {
   "cell_type": "code",
   "execution_count": 46,
   "metadata": {},
   "outputs": [
    {
     "data": {
      "text/plain": [
       "13"
      ]
     },
     "execution_count": 46,
     "metadata": {},
     "output_type": "execute_result"
    }
   ],
   "source": [
    "t.get_x()"
   ]
  },
  {
   "cell_type": "code",
   "execution_count": 47,
   "metadata": {},
   "outputs": [
    {
     "data": {
      "text/plain": [
       "13"
      ]
     },
     "execution_count": 47,
     "metadata": {},
     "output_type": "execute_result"
    }
   ],
   "source": [
    "t.x"
   ]
  },
  {
   "attachments": {},
   "cell_type": "markdown",
   "metadata": {},
   "source": [
    "Classes derivadas também tem acesso a atributos da classe base. "
   ]
  },
  {
   "cell_type": "code",
   "execution_count": 48,
   "metadata": {},
   "outputs": [],
   "source": [
    "class New(Teste3): \n",
    "    z = 2\n",
    "\n",
    "    def g(self):\n",
    "        print('nova mensagem')"
   ]
  },
  {
   "cell_type": "code",
   "execution_count": 49,
   "metadata": {},
   "outputs": [],
   "source": [
    "nova = New()"
   ]
  },
  {
   "cell_type": "code",
   "execution_count": 50,
   "metadata": {},
   "outputs": [
    {
     "data": {
      "text/plain": [
       "1"
      ]
     },
     "execution_count": 50,
     "metadata": {},
     "output_type": "execute_result"
    }
   ],
   "source": [
    "New.x"
   ]
  },
  {
   "cell_type": "code",
   "execution_count": 51,
   "metadata": {},
   "outputs": [
    {
     "data": {
      "text/plain": [
       "13"
      ]
     },
     "execution_count": 51,
     "metadata": {},
     "output_type": "execute_result"
    }
   ],
   "source": [
    "nova.x"
   ]
  },
  {
   "cell_type": "code",
   "execution_count": 52,
   "metadata": {},
   "outputs": [
    {
     "data": {
      "text/plain": [
       "2"
      ]
     },
     "execution_count": 52,
     "metadata": {},
     "output_type": "execute_result"
    }
   ],
   "source": [
    "nova.z"
   ]
  },
  {
   "attachments": {},
   "cell_type": "markdown",
   "metadata": {},
   "source": [
    "sabemos que o que acontece é que o Python cria o objeto e então chama o `__init__` da classe X para iniciar esse objeto. Quando esse método é chamado, `self` é uma referência para o objeto criado, e portanto `self._x = a` irá criar um novo atributo chamado `_x` nesse objeto, com o valor especificado pelo parâmetro de inicialização!\n",
    "\n",
    "O que acontece é que, como `__init__` é garantidamente chamado para todos os objetos da classe, então garantimos que esse atributo realmente existirá em todos os objetos da classe.\n",
    "\n",
    "Nos exemplos acima, como estamos criando separadamente atributos para objetos específicos, então não temos garantia de que o atributo existirá em todos os objetos da classe.\n",
    "\n",
    "O mesmo vale para criação de novos atributos do objeto em outros métodos da classe (que não o `__init__`): é possíbel fazer, mas é melhor evitar pois, ao contrário do `__init__`, não podemos garantir que o método que cria o atributo tenha sido chamado antes de querermos usar o atributo. Por isso temos a regra de **sempre criar todos os atributos do objeto no método `__init__`**. Se você ainda não tiver valores para colocar nesse atributo, use `None`."
   ]
  },
  {
   "attachments": {},
   "cell_type": "markdown",
   "metadata": {},
   "source": [
    "## Exemplo\n",
    "Criar um atributo da classe para contar o numero de objetos que ja foram criados "
   ]
  },
  {
   "cell_type": "code",
   "execution_count": 54,
   "metadata": {},
   "outputs": [],
   "source": [
    "class Contador: \n",
    "    numero_objetos = 0 \n",
    "    def __init__(self): \n",
    "        Contador.numero_objetos +=1\n",
    "        print(Contador.numero_objetos)"
   ]
  },
  {
   "cell_type": "code",
   "execution_count": 55,
   "metadata": {},
   "outputs": [
    {
     "name": "stdout",
     "output_type": "stream",
     "text": [
      "1\n"
     ]
    }
   ],
   "source": [
    "a1 = Contador()"
   ]
  },
  {
   "cell_type": "code",
   "execution_count": 56,
   "metadata": {},
   "outputs": [
    {
     "name": "stdout",
     "output_type": "stream",
     "text": [
      "2\n"
     ]
    }
   ],
   "source": [
    "a2 = Contador()"
   ]
  },
  {
   "cell_type": "code",
   "execution_count": 57,
   "metadata": {},
   "outputs": [
    {
     "name": "stdout",
     "output_type": "stream",
     "text": [
      "3\n"
     ]
    }
   ],
   "source": [
    "a3 = Contador()"
   ]
  },
  {
   "cell_type": "code",
   "execution_count": 58,
   "metadata": {},
   "outputs": [
    {
     "name": "stdout",
     "output_type": "stream",
     "text": [
      "4\n",
      "5\n",
      "6\n",
      "7\n",
      "8\n",
      "9\n",
      "10\n",
      "11\n",
      "12\n",
      "13\n"
     ]
    }
   ],
   "source": [
    "for i in range(10): \n",
    "    Contador()"
   ]
  },
  {
   "cell_type": "code",
   "execution_count": 59,
   "metadata": {},
   "outputs": [
    {
     "data": {
      "text/plain": [
       "13"
      ]
     },
     "execution_count": 59,
     "metadata": {},
     "output_type": "execute_result"
    }
   ],
   "source": [
    "Contador.numero_objetos"
   ]
  },
  {
   "cell_type": "code",
   "execution_count": 61,
   "metadata": {},
   "outputs": [
    {
     "data": {
      "text/plain": [
       "13"
      ]
     },
     "execution_count": 61,
     "metadata": {},
     "output_type": "execute_result"
    }
   ],
   "source": [
    "a1.numero_objetos"
   ]
  },
  {
   "cell_type": "code",
   "execution_count": 109,
   "metadata": {},
   "outputs": [],
   "source": [
    "class Juliana:\n",
    "    cabelo = 'marrom'\n",
    "\n",
    "    def __init__(self): \n",
    "        self._primeiro = 'tomar cafe'\n",
    "        self._segundo = None\n",
    "\n",
    "    def get_atividades(self): \n",
    "        return self._primeiro, self._segundo"
   ]
  },
  {
   "cell_type": "code",
   "execution_count": 102,
   "metadata": {},
   "outputs": [
    {
     "data": {
      "text/plain": [
       "'marrom'"
      ]
     },
     "execution_count": 102,
     "metadata": {},
     "output_type": "execute_result"
    }
   ],
   "source": [
    "Juliana.cabelo"
   ]
  },
  {
   "cell_type": "code",
   "execution_count": 103,
   "metadata": {},
   "outputs": [
    {
     "ename": "AttributeError",
     "evalue": "type object 'Juliana' has no attribute 'primeiro'",
     "output_type": "error",
     "traceback": [
      "\u001b[0;31m---------------------------------------------------------------------------\u001b[0m",
      "\u001b[0;31mAttributeError\u001b[0m                            Traceback (most recent call last)",
      "Cell \u001b[0;32mIn[103], line 1\u001b[0m\n\u001b[0;32m----> 1\u001b[0m Juliana\u001b[39m.\u001b[39;49mprimeiro\n",
      "\u001b[0;31mAttributeError\u001b[0m: type object 'Juliana' has no attribute 'primeiro'"
     ]
    }
   ],
   "source": [
    "Juliana.primeiro"
   ]
  },
  {
   "cell_type": "code",
   "execution_count": 110,
   "metadata": {},
   "outputs": [],
   "source": [
    "j = Juliana()"
   ]
  },
  {
   "cell_type": "code",
   "execution_count": 105,
   "metadata": {},
   "outputs": [
    {
     "ename": "AttributeError",
     "evalue": "'Juliana' object has no attribute 'primeiro'",
     "output_type": "error",
     "traceback": [
      "\u001b[0;31m---------------------------------------------------------------------------\u001b[0m",
      "\u001b[0;31mAttributeError\u001b[0m                            Traceback (most recent call last)",
      "Cell \u001b[0;32mIn[105], line 1\u001b[0m\n\u001b[0;32m----> 1\u001b[0m j\u001b[39m.\u001b[39;49mprimeiro\n",
      "\u001b[0;31mAttributeError\u001b[0m: 'Juliana' object has no attribute 'primeiro'"
     ]
    }
   ],
   "source": [
    "j.primeiro"
   ]
  },
  {
   "cell_type": "code",
   "execution_count": 106,
   "metadata": {},
   "outputs": [
    {
     "ename": "AttributeError",
     "evalue": "'Juliana' object has no attribute 'primeiro'",
     "output_type": "error",
     "traceback": [
      "\u001b[0;31m---------------------------------------------------------------------------\u001b[0m",
      "\u001b[0;31mAttributeError\u001b[0m                            Traceback (most recent call last)",
      "Cell \u001b[0;32mIn[106], line 1\u001b[0m\n\u001b[0;32m----> 1\u001b[0m \u001b[39mprint\u001b[39m(j\u001b[39m.\u001b[39;49mprimeiro)\n",
      "\u001b[0;31mAttributeError\u001b[0m: 'Juliana' object has no attribute 'primeiro'"
     ]
    }
   ],
   "source": [
    "print(j.primeiro)"
   ]
  },
  {
   "cell_type": "code",
   "execution_count": 112,
   "metadata": {},
   "outputs": [
    {
     "data": {
      "text/plain": [
       "('tomar cafe', None)"
      ]
     },
     "execution_count": 112,
     "metadata": {},
     "output_type": "execute_result"
    }
   ],
   "source": [
    "j.get_atividades()"
   ]
  },
  {
   "cell_type": "code",
   "execution_count": 115,
   "metadata": {},
   "outputs": [],
   "source": [
    "class A:\n",
    "    x = 1\n",
    "    def __init__(self):\n",
    "        self.y = 2\n",
    "    def f(self):\n",
    "        return self.x + self.y\n",
    "\n"
   ]
  },
  {
   "cell_type": "code",
   "execution_count": 116,
   "metadata": {},
   "outputs": [
    {
     "name": "stdout",
     "output_type": "stream",
     "text": [
      "3 11\n"
     ]
    }
   ],
   "source": [
    "a = A()\n",
    "b = A()\n",
    "b.y = 10\n",
    "print(a.f(), b.f())"
   ]
  },
  {
   "cell_type": "code",
   "execution_count": 113,
   "metadata": {},
   "outputs": [],
   "source": [
    "class A:\n",
    "    x = 1\n",
    "    def __init__(self):\n",
    "        self.y = 2\n",
    "    def f(self):\n",
    "        return self.x + self.y\n"
   ]
  },
  {
   "cell_type": "code",
   "execution_count": 114,
   "metadata": {},
   "outputs": [
    {
     "name": "stdout",
     "output_type": "stream",
     "text": [
      "12 12\n"
     ]
    }
   ],
   "source": [
    "a = A()\n",
    "b = A()\n",
    "A.x = 10\n",
    "print(a.f(), b.f())"
   ]
  },
  {
   "cell_type": "code",
   "execution_count": 117,
   "metadata": {},
   "outputs": [
    {
     "name": "stdout",
     "output_type": "stream",
     "text": [
      "3 12\n"
     ]
    }
   ],
   "source": [
    "class A:\n",
    "    x = 1\n",
    "    def __init__(self):\n",
    "        self.y = 2\n",
    "    def f(self):\n",
    "        return self.x + self.y\n",
    "\n",
    "a = A()\n",
    "b = A()\n",
    "b.x = 10\n",
    "print(a.f(), b.f())"
   ]
  },
  {
   "cell_type": "code",
   "execution_count": 122,
   "metadata": {},
   "outputs": [
    {
     "name": "stdout",
     "output_type": "stream",
     "text": [
      "2 122 212\n"
     ]
    }
   ],
   "source": [
    "class A:\n",
    "    x = 1\n",
    "    def f(self):\n",
    "        return self.x\n",
    "\n",
    "class B(A):\n",
    "    y = 10\n",
    "    def __init__(self):\n",
    "        self.z = 100\n",
    "    def f(self):\n",
    "        return self.x + self.y + self.z\n",
    "\n",
    "a = A()\n",
    "b = B()\n",
    "c = B()\n",
    "A.x = 2\n",
    "b.y = 20\n",
    "c.z = 200\n",
    "print(a.f(), b.f(), c.f())"
   ]
  },
  {
   "cell_type": "code",
   "execution_count": null,
   "metadata": {},
   "outputs": [],
   "source": [
    "112, 212"
   ]
  }
 ],
 "metadata": {
  "kernelspec": {
   "display_name": "base",
   "language": "python",
   "name": "python3"
  },
  "language_info": {
   "codemirror_mode": {
    "name": "ipython",
    "version": 3
   },
   "file_extension": ".py",
   "mimetype": "text/x-python",
   "name": "python",
   "nbconvert_exporter": "python",
   "pygments_lexer": "ipython3",
   "version": "3.10.9"
  },
  "orig_nbformat": 4
 },
 "nbformat": 4,
 "nbformat_minor": 2
}
