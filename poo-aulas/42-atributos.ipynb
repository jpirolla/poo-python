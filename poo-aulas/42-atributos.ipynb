{
 "cells": [
  {
   "cell_type": "markdown",
   "metadata": {},
   "source": [
    "# Acesso genérico a atributos"
   ]
  },
  {
   "cell_type": "markdown",
   "metadata": {},
   "source": [
    "Dois métodos poderosos são `__getattr__` e `__setattr__`. Eles permitem lidar de forma especial com acessos a atributos de objetos.\n",
    "\n",
    "O método `__getattr__` é chamado sempre que se tenta _acessar para leitura_ um atributo _que não foi definido_ para o objeto.\n",
    "\n",
    "O método `__setattr__` é chamado sempre que se deseja _alterar o valor_ de um atributo, _seja ele definido ou não_. Neste caso, como ele sempre é chamado, **deve-se ter cuidado com o acesso a atributos dentro do próprio `__setattr__`**: os acessos devem ser feitos através do dicionário do objeto, `__dict__`, que contém os pares nome/valor dos atributos."
   ]
  },
  {
   "cell_type": "code",
   "execution_count": null,
   "metadata": {},
   "outputs": [],
   "source": [
    "class Empty:\n",
    "    def __init__(self):\n",
    "        self.a = 1\n",
    "        self.b = 2\n",
    "        \n",
    "    def __getattr__(self, name):\n",
    "        print(f'Accessing new attribute {name}, of object {self}')\n",
    "        self.__dict__[name] = 0\n",
    "        return 0\n",
    "        \n",
    "    def __setattr__(self, name, val):\n",
    "        print(f'Setting value of attribute {name} of object {self} to {val}')\n",
    "        self.__dict__[name] = val"
   ]
  },
  {
   "cell_type": "code",
   "execution_count": null,
   "metadata": {},
   "outputs": [],
   "source": [
    "v = Empty()"
   ]
  },
  {
   "cell_type": "markdown",
   "metadata": {},
   "source": [
    "Note como os acessos aos atributos `a` e `b` no construtor passam pelo `__setattr__`.\n",
    "\n",
    "O código abaixo mostra que o atributo `__dict__` contém os pares chave/valor correspondentes aos atributos criados para o objeto pelo `__init__`."
   ]
  },
  {
   "cell_type": "code",
   "execution_count": null,
   "metadata": {},
   "outputs": [],
   "source": [
    "v"
   ]
  },
  {
   "cell_type": "code",
   "execution_count": null,
   "metadata": {},
   "outputs": [],
   "source": [
    "v.__dict__"
   ]
  },
  {
   "cell_type": "markdown",
   "metadata": {},
   "source": [
    "O acesso a esses atributos existente para leitura é normal:"
   ]
  },
  {
   "cell_type": "code",
   "execution_count": null,
   "metadata": {},
   "outputs": [],
   "source": [
    "v.b"
   ]
  },
  {
   "cell_type": "markdown",
   "metadata": {},
   "source": [
    "Mas se acessarmos um atributo inexistente, o `__getattr__` será executado."
   ]
  },
  {
   "cell_type": "code",
   "execution_count": null,
   "metadata": {},
   "outputs": [],
   "source": [
    "v.c"
   ]
  },
  {
   "cell_type": "markdown",
   "metadata": {},
   "source": [
    "Agora o atributo `c` já existe, portanto novos acessos de leitura não passam por `__getattr__`."
   ]
  },
  {
   "cell_type": "code",
   "execution_count": null,
   "metadata": {},
   "outputs": [],
   "source": [
    "v.__dict__"
   ]
  },
  {
   "cell_type": "code",
   "execution_count": null,
   "metadata": {},
   "outputs": [],
   "source": [
    "v.c"
   ]
  },
  {
   "cell_type": "markdown",
   "metadata": {},
   "source": [
    "Agora se tentarmos mudar o valor de um atributo existente ou não, será executado o código de `__setattr__`."
   ]
  },
  {
   "cell_type": "code",
   "execution_count": null,
   "metadata": {},
   "outputs": [],
   "source": [
    "v.a = 5"
   ]
  },
  {
   "cell_type": "code",
   "execution_count": null,
   "metadata": {},
   "outputs": [],
   "source": [
    "v.d = 3"
   ]
  },
  {
   "cell_type": "code",
   "execution_count": null,
   "metadata": {},
   "outputs": [],
   "source": [
    "v.__dict__"
   ]
  },
  {
   "cell_type": "markdown",
   "metadata": {},
   "source": [
    "Um outro método denominado `__getattribute__` permite que **todos** os acessos de leitura (mesmo para atributos já existentes) passem por uma chamada a esse método. Veja a nova versão do exemplo abaixo:"
   ]
  },
  {
   "cell_type": "code",
   "execution_count": null,
   "metadata": {},
   "outputs": [],
   "source": [
    "class Empty2:\n",
    "    def __init__(self):\n",
    "        self.a = 1\n",
    "        self.b = 2\n",
    "        \n",
    "    def __getattr__(self, name):\n",
    "        print(f'The attribute {name} is new in object {self}')\n",
    "        super().__getattribute__('__dict__')[name] = 0\n",
    "        return 0\n",
    "        \n",
    "    def __getattribute__(self, name):\n",
    "        print(f'Accessing attribute {name}, of object {self}')\n",
    "        return super().__getattribute__(name)\n",
    "        \n",
    "    def __setattr__(self, name, val):\n",
    "        print(f'Setting value of attribute {name} of object {self} to {val}')\n",
    "        self.__dict__[name] = val"
   ]
  },
  {
   "cell_type": "code",
   "execution_count": null,
   "metadata": {},
   "outputs": [],
   "source": [
    "e2 = Empty2()"
   ]
  },
  {
   "cell_type": "code",
   "execution_count": null,
   "metadata": {},
   "outputs": [],
   "source": [
    "e2.c"
   ]
  },
  {
   "cell_type": "code",
   "execution_count": null,
   "metadata": {},
   "outputs": [],
   "source": [
    "e2.c"
   ]
  },
  {
   "cell_type": "markdown",
   "metadata": {},
   "source": [
    "Note como aqui fizemos uso de `super()` para chamar a implementação de acesso a atributo da classe base. Isso deve sempre ser feito quando implementamos `__getattribute__` numa classe, para evitar recursão infinita!\n",
    "\n",
    "Veja que se por exemplo na implementação de `__getattribute__` ao invés de\n",
    "```python\n",
    "return super().__getattribute__(name)\n",
    "```\n",
    "tivessemos escrito\n",
    "```python\n",
    "return self.__dict__[name]\n",
    "```\n",
    "então o acesso a `__dict__` indicado neste último trecho de código provocaria uma chamada a `__getattribute__`, gerando uma recursão que nunca terminaria!"
   ]
  },
  {
   "cell_type": "markdown",
   "metadata": {
    "collapsed": true,
    "jupyter": {
     "outputs_hidden": true
    }
   },
   "source": [
    "Esses métodos são necessários apenas em situações muito especiais, mas são muito úteis nesses casos!"
   ]
  }
 ],
 "metadata": {
  "kernelspec": {
   "display_name": "Python 3 (ipykernel)",
   "language": "python",
   "name": "python3"
  },
  "language_info": {
   "codemirror_mode": {
    "name": "ipython",
    "version": 3
   },
   "file_extension": ".py",
   "mimetype": "text/x-python",
   "name": "python",
   "nbconvert_exporter": "python",
   "pygments_lexer": "ipython3",
   "version": "3.11.2"
  }
 },
 "nbformat": 4,
 "nbformat_minor": 4
}
