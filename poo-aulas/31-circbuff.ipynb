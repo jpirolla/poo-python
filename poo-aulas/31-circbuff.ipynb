{
 "cells": [
  {
   "cell_type": "markdown",
   "metadata": {},
   "source": [
    "# Exemplo: _buffer_ circular"
   ]
  },
  {
   "cell_type": "markdown",
   "metadata": {},
   "source": [
    "Para exemplificar a forma de uso de classes, vamos definir uma estrutura de dados para implementar uma fila limitada. Esta fila permite armazenar até um número máximo (especificado na criação) de elementos. Ao retirar um elemento, retiramos o mais antigo (inserido há mais tempo) que ainda está na fila; ao inserir um elemento, se há espaço, colocamos o elemento após o último, se não há espaço, então o mais antigo elemento ainda na fila é descartado antes da inserção do novo.\n",
    "\n",
    "Para implementar essa fila, usaremos uma estrutura de **buffer circular** em uma lista com espaço para o número máximo de elementos, um variável indicando o índice nessa lista do próximo elemento a retirar e uma variável dizendo o número de elementos correntemente no buffer. Os elementos serão armazenados \"circularmente\" na lista, começando no próximo a retirar e considerando que o primeiro elemento da lista (de índice 0) é posterior ao último.\n",
    "\n",
    "Por exemplo, suponha um *buffer* com espaço para 5 elementos. Representando um elemento armazenado por `O` e um elemento livre por `-` e marcando o primeiro elemento da lista com um `^`, a lista estaria inicialmente com a seguinte configuração:\n",
    "\n",
    "    - - - - -\n",
    "    \n",
    "Após inserir um elemento teremos:\n",
    "\n",
    "    O - - - -\n",
    "    ^\n",
    "    \n",
    "Após inserir mais 3 elementos:\n",
    "\n",
    "    O O O O -\n",
    "    ^\n",
    "\n",
    "Se retiramos dois elementos:\n",
    "\n",
    "    - - 0 0 -\n",
    "        ^\n",
    "    \n",
    "E agora inserindo mais dois elementos:\n",
    "\n",
    "    O - O O O\n",
    "        ^\n",
    "\n",
    "Se inserimos mais um elemento, a lista fica cheia:\n",
    "\n",
    "    O O O O O\n",
    "        ^\n",
    "        \n",
    "Para inserir mais um elemento, devemos inserir depois do último, depois de descartar o primeiro. Marcando o novo elemento inserido como `N`, para diferenciar dos outros:\n",
    "\n",
    "    O O N O O\n",
    "          ^"
   ]
  },
  {
   "cell_type": "code",
   "execution_count": 19,
   "metadata": {
    "tags": []
   },
   "outputs": [],
   "source": [
    "class LimitedQueue:\n",
    "    def __init__(self, size):\n",
    "        self._buffer = [None for i in range(size)] # Esta é a lista para guardar os valores\n",
    "        self._n = 0                                # _n é o número de valores no buffer\n",
    "        self._max_size = size                      # _max_size é o máximo aceito de elementos\n",
    "        self._first = 0                            # _first é índice do primeiro ocupado na lista\n",
    "    \n",
    "    # Verifica se a fila está vazia\n",
    "    def empty(self):\n",
    "        return self._n == 0  # pq defino isso? não uso em lugar nenhum \n",
    "        \n",
    "    # Pega referência para o próximo na frente da fila.\n",
    "    # A fila não pode estar vazia.\n",
    "    def get_first(self):\n",
    "        # Se a fila está vazia, é um erro.\n",
    "        assert self._n > 0, 'Trying to access an empty queue'\n",
    "        # Se há elementos, simplesmente retorna o apontado pelo ponto de leitura.\n",
    "        return self._buffer[self._first]\n",
    "    \n",
    "    # Insere um elemento na fila.\n",
    "    def insert(self, value):\n",
    "        # O ponto de inserção é o ponto de leitura + número de elementos (calculado circularmente)\n",
    "        i = (self._first + self._n) % self._max_size\n",
    "        # Coloca o valor no ponto de inserção\n",
    "        self._buffer[i] = value\n",
    "        if self._n < self._max_size:\n",
    "            # Se havia espaço, incrementa número de elementos no buffer\n",
    "            self._n += 1\n",
    "        else:\n",
    "            # Se não havia espaço, então foi inserido no antigo primeiro. Atualiza primeiro.\n",
    "            self._first = (self._first + 1) % self._max_size\n",
    "            \n",
    "    # Descarta objeto na frente da fila.\n",
    "    # A fila não pode estar vazia.\n",
    "    def drop_first(self):\n",
    "        # Se a fila está vazia, é um erro.\n",
    "        assert self._n > 0, 'Trying to remove from an empty queue'\n",
    "        # Se tinha algo, atualiza ponto de leitura para o próximo e decrementa número de elementos no buffer.\n",
    "        self._first = (self._first + 1) % self._max_size\n",
    "        self._n -= 1\n"
   ]
  },
  {
   "cell_type": "markdown",
   "metadata": {},
   "source": [
    "No código abaixo, quando um objeto do tipo `LimitedQueue` é criado, o método `__init__` é chamado com o valor 5 passado para o parâmetro `size` e uma referência para esse objeto na variável `self`."
   ]
  },
  {
   "cell_type": "code",
   "execution_count": 20,
   "metadata": {
    "tags": []
   },
   "outputs": [],
   "source": [
    "b = LimitedQueue(5)"
   ]
  },
  {
   "cell_type": "markdown",
   "metadata": {},
   "source": [
    "Vamos agora fazer alguns testes na classe.\n",
    "\n",
    "Em primeiro lugar, não é possível ler valor de um buffer vazio."
   ]
  },
  {
   "cell_type": "code",
   "execution_count": 21,
   "metadata": {
    "tags": []
   },
   "outputs": [
    {
     "ename": "AssertionError",
     "evalue": "Trying to access an empty queue",
     "output_type": "error",
     "traceback": [
      "\u001b[0;31m---------------------------------------------------------------------------\u001b[0m",
      "\u001b[0;31mAssertionError\u001b[0m                            Traceback (most recent call last)",
      "Cell \u001b[0;32mIn[21], line 1\u001b[0m\n\u001b[0;32m----> 1\u001b[0m \u001b[43mb\u001b[49m\u001b[38;5;241;43m.\u001b[39;49m\u001b[43mget_first\u001b[49m\u001b[43m(\u001b[49m\u001b[43m)\u001b[49m\n",
      "Cell \u001b[0;32mIn[19], line 16\u001b[0m, in \u001b[0;36mLimitedQueue.get_first\u001b[0;34m(self)\u001b[0m\n\u001b[1;32m     14\u001b[0m \u001b[38;5;28;01mdef\u001b[39;00m \u001b[38;5;21mget_first\u001b[39m(\u001b[38;5;28mself\u001b[39m):\n\u001b[1;32m     15\u001b[0m     \u001b[38;5;66;03m# Se a fila está vazia, é um erro.\u001b[39;00m\n\u001b[0;32m---> 16\u001b[0m     \u001b[38;5;28;01massert\u001b[39;00m \u001b[38;5;28mself\u001b[39m\u001b[38;5;241m.\u001b[39m_n \u001b[38;5;241m>\u001b[39m \u001b[38;5;241m0\u001b[39m, \u001b[38;5;124m'\u001b[39m\u001b[38;5;124mTrying to access an empty queue\u001b[39m\u001b[38;5;124m'\u001b[39m\n\u001b[1;32m     17\u001b[0m     \u001b[38;5;66;03m# Se há elementos, simplesmente retorna o apontado pelo ponto de leitura.\u001b[39;00m\n\u001b[1;32m     18\u001b[0m     \u001b[38;5;28;01mreturn\u001b[39;00m \u001b[38;5;28mself\u001b[39m\u001b[38;5;241m.\u001b[39m_buffer[\u001b[38;5;28mself\u001b[39m\u001b[38;5;241m.\u001b[39m_first]\n",
      "\u001b[0;31mAssertionError\u001b[0m: Trying to access an empty queue"
     ]
    }
   ],
   "source": [
    "b.get_first()"
   ]
  },
  {
   "cell_type": "code",
   "execution_count": null,
   "metadata": {},
   "outputs": [],
   "source": []
  },
  {
   "cell_type": "code",
   "execution_count": 22,
   "metadata": {
    "tags": []
   },
   "outputs": [],
   "source": [
    "b.insert(1)"
   ]
  },
  {
   "cell_type": "code",
   "execution_count": 23,
   "metadata": {
    "tags": []
   },
   "outputs": [],
   "source": [
    "b.insert(2)"
   ]
  },
  {
   "cell_type": "code",
   "execution_count": 24,
   "metadata": {
    "tags": []
   },
   "outputs": [],
   "source": [
    "b.insert(3)"
   ]
  },
  {
   "cell_type": "markdown",
   "metadata": {},
   "source": [
    "Agora o buffer circular `b` tem os valores\n",
    "\n",
    "    1 2 3"
   ]
  },
  {
   "cell_type": "code",
   "execution_count": 25,
   "metadata": {
    "tags": []
   },
   "outputs": [
    {
     "data": {
      "text/plain": [
       "1"
      ]
     },
     "execution_count": 25,
     "metadata": {},
     "output_type": "execute_result"
    }
   ],
   "source": [
    "b.get_first()"
   ]
  },
  {
   "cell_type": "code",
   "execution_count": 26,
   "metadata": {
    "tags": []
   },
   "outputs": [],
   "source": [
    "b.drop_first()"
   ]
  },
  {
   "cell_type": "markdown",
   "metadata": {},
   "source": [
    "Ficamos agora com\n",
    "\n",
    "    2 3"
   ]
  },
  {
   "cell_type": "code",
   "execution_count": 27,
   "metadata": {
    "tags": []
   },
   "outputs": [
    {
     "data": {
      "text/plain": [
       "2"
      ]
     },
     "execution_count": 27,
     "metadata": {},
     "output_type": "execute_result"
    }
   ],
   "source": [
    "b.get_first()"
   ]
  },
  {
   "cell_type": "code",
   "execution_count": 28,
   "metadata": {
    "tags": []
   },
   "outputs": [],
   "source": [
    "b.insert(4)"
   ]
  },
  {
   "cell_type": "code",
   "execution_count": 29,
   "metadata": {
    "tags": []
   },
   "outputs": [],
   "source": [
    "b.insert(5)"
   ]
  },
  {
   "cell_type": "code",
   "execution_count": 30,
   "metadata": {
    "tags": []
   },
   "outputs": [],
   "source": [
    "b.insert(6)"
   ]
  },
  {
   "cell_type": "markdown",
   "metadata": {},
   "source": [
    "E agora temos\n",
    "\n",
    "    2 3 4 5 6"
   ]
  },
  {
   "cell_type": "code",
   "execution_count": 31,
   "metadata": {
    "tags": []
   },
   "outputs": [
    {
     "data": {
      "text/plain": [
       "2"
      ]
     },
     "execution_count": 31,
     "metadata": {},
     "output_type": "execute_result"
    }
   ],
   "source": [
    "b.get_first()"
   ]
  },
  {
   "cell_type": "code",
   "execution_count": null,
   "metadata": {},
   "outputs": [],
   "source": [
    "b.insert(7)"
   ]
  },
  {
   "cell_type": "markdown",
   "metadata": {},
   "source": [
    "O 7 não cabe, então o mais antigo (2) é jogado fora:\n",
    "\n",
    "    3 4 5 6 7"
   ]
  },
  {
   "cell_type": "code",
   "execution_count": null,
   "metadata": {},
   "outputs": [],
   "source": [
    "b.get_first()"
   ]
  },
  {
   "cell_type": "markdown",
   "metadata": {},
   "source": [
    "# Exercício"
   ]
  },
  {
   "cell_type": "markdown",
   "metadata": {},
   "source": [
    "Implemente para a classe `LimitedQueue` métodos `get_last` e `drop_last`, similares a `get_first` e `drop_first`, mas que operam sobre o último elemento da fila."
   ]
  },
  {
   "cell_type": "code",
   "execution_count": 3,
   "metadata": {
    "tags": []
   },
   "outputs": [
    {
     "data": {
      "text/plain": [
       "3"
      ]
     },
     "execution_count": 3,
     "metadata": {},
     "output_type": "execute_result"
    }
   ],
   "source": [
    "3 % 4"
   ]
  },
  {
   "cell_type": "code",
   "execution_count": 4,
   "metadata": {
    "tags": []
   },
   "outputs": [
    {
     "data": {
      "text/plain": [
       "0"
      ]
     },
     "execution_count": 4,
     "metadata": {},
     "output_type": "execute_result"
    }
   ],
   "source": [
    "4%4"
   ]
  },
  {
   "cell_type": "code",
   "execution_count": 5,
   "metadata": {
    "tags": []
   },
   "outputs": [
    {
     "data": {
      "text/plain": [
       "1"
      ]
     },
     "execution_count": 5,
     "metadata": {},
     "output_type": "execute_result"
    }
   ],
   "source": [
    "5%4"
   ]
  },
  {
   "cell_type": "code",
   "execution_count": 6,
   "metadata": {
    "tags": []
   },
   "outputs": [
    {
     "data": {
      "text/plain": [
       "3"
      ]
     },
     "execution_count": 6,
     "metadata": {},
     "output_type": "execute_result"
    }
   ],
   "source": [
    "7%4"
   ]
  },
  {
   "cell_type": "code",
   "execution_count": 7,
   "metadata": {
    "tags": []
   },
   "outputs": [
    {
     "data": {
      "text/plain": [
       "1"
      ]
     },
     "execution_count": 7,
     "metadata": {},
     "output_type": "execute_result"
    }
   ],
   "source": [
    "1%4 "
   ]
  },
  {
   "cell_type": "code",
   "execution_count": 8,
   "metadata": {
    "tags": []
   },
   "outputs": [],
   "source": [
    "class FilaLimitada: \n",
    "\t\"\"\" \n",
    "\tClasse que definirá o novo objeto \"Fila limitada\". \n",
    "\tCaracterísticas: \n",
    "\t\t- Fila de tamanho limitado\n",
    "\t\t- Estrutura circular\n",
    "\t\t- O próximo elemento é inserido após o último\n",
    "\t\t- Quando cheia, emove-se o elemento mais antigo para inserir um novo\n",
    "\tEstrutura init: \n",
    "\t\t- Lista com tamanho limitado\n",
    "\t\t- Variável que atua tal como ponteiro para indicar o índice do próximo elemento\n",
    "\t\t- Variável para guardar o número corrente de elementos\n",
    "\tMétodos necessários: \n",
    "\t\t- Retornar o primeiro elemento da lista \n",
    "\t\t- Inserir um novo elemento\n",
    "\t\t\t- Necessário saber onde vou inserir o elemento\n",
    "\t\t\t- Necessário verificar se está cheia ou não\n",
    "\t\t- Descarta o elemento mais antigo\n",
    "\t\"\"\"\n",
    "\n",
    "\tdef __init__(self, size):  # só preciso pre definir o tamanho\n",
    "\t\tself._buffer = [None for i in range(size)]  # buffer é uma variável que guarda a lista do tamanho especficado\n",
    "\t\tself._numElementos = 0  # a lista começa com zero elementos preenchidos\n",
    "\t\tself._maxSize = size \n",
    "\t\tself._first = 0  # começo meu ponteiro no primeiro índex da lista\n",
    "\n",
    "\tdef verifica_fila_vazia(self):  # não é necessária para a execução, mas garante ao usuário que ta vazia\n",
    "\t\treturn self._n == 0\n",
    "\n",
    "\tdef primeiro_elemento(self):\n",
    "\t\t# para retornar o primeiro elemento é necessário que a fila não esteja vazia\n",
    "\t\tassert self._numElementos > 0, \"Não é posivel acessar uma fila vazia\"\n",
    "\t\treturn self._buffer[self._first]  # se a lista não está vazia, retorna buffer[primeiro]\n",
    "\n",
    "\tdef insere_elementos(self, valor):\n",
    "\t\t# é necessário levar em consideração que segue uma inserção circular. O tamanho é limitado, mas sempre dá para inserir\n",
    "\t\tlocalInserir = (self._first + self._numElementos) % self._maxSize  # o %maxsize garante que fica circular (se desenhar fica +fácil de ver)\n",
    "\t\tself._buffer[localInserir] = valor\n",
    "\t\tif self._numElementos < self._maxSize:  # se há espaço vazio na lista\n",
    "\t\t\tself._numElementos += 1  # incremento em 1 o número de elementos preenchidos\n",
    "\t\telse:  # se todos os espaços já estão preenchidos temos self_first = 3\n",
    "\t\t\tself._first = (self._first + 1) % self._maxSize # garante que o prox seja inserido em 0\n",
    "\t\n",
    "\tdef drop_first(self): \n",
    "\t\tassert self._numElementos > 0 , 'Trying to remove from an empty queue'\n",
    "\t\tself._first = (self._first + 1) % self._maxSize  # atualiza o ponteiro para o pŕoximo\n",
    "\t\tself._numElementos -= 1  # decrementa o num de elementos no buffer (pois removi 1)"
   ]
  },
  {
   "cell_type": "code",
   "execution_count": 32,
   "metadata": {
    "tags": []
   },
   "outputs": [],
   "source": [
    "c = FilaLimitada(5)"
   ]
  },
  {
   "cell_type": "code",
   "execution_count": 33,
   "metadata": {
    "tags": []
   },
   "outputs": [],
   "source": [
    "c.insere_elementos(1)\n",
    "c.insere_elementos(2)\n",
    "c.insere_elementos(3)\n",
    "c.insere_elementos(4)"
   ]
  },
  {
   "cell_type": "code",
   "execution_count": 34,
   "metadata": {
    "tags": []
   },
   "outputs": [
    {
     "data": {
      "text/plain": [
       "1"
      ]
     },
     "execution_count": 34,
     "metadata": {},
     "output_type": "execute_result"
    }
   ],
   "source": [
    "c.primeiro_elemento()"
   ]
  },
  {
   "cell_type": "code",
   "execution_count": 35,
   "metadata": {
    "tags": []
   },
   "outputs": [],
   "source": [
    "c.drop_first()"
   ]
  },
  {
   "cell_type": "code",
   "execution_count": 36,
   "metadata": {
    "tags": []
   },
   "outputs": [
    {
     "data": {
      "text/plain": [
       "2"
      ]
     },
     "execution_count": 36,
     "metadata": {},
     "output_type": "execute_result"
    }
   ],
   "source": [
    "c.primeiro_elemento()"
   ]
  }
 ],
 "metadata": {
  "kernelspec": {
   "display_name": "Python 3 (ipykernel)",
   "language": "python",
   "name": "python3"
  },
  "language_info": {
   "codemirror_mode": {
    "name": "ipython",
    "version": 3
   },
   "file_extension": ".py",
   "mimetype": "text/x-python",
   "name": "python",
   "nbconvert_exporter": "python",
   "pygments_lexer": "ipython3",
   "version": "3.10.6"
  }
 },
 "nbformat": 4,
 "nbformat_minor": 4
}
