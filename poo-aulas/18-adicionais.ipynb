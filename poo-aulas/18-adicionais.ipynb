{
 "cells": [
  {
   "cell_type": "markdown",
   "metadata": {},
   "source": [
    "# Algumas funções úteis adicionais"
   ]
  },
  {
   "cell_type": "markdown",
   "metadata": {
    "tags": []
   },
   "source": [
    "## 1. `abs`"
   ]
  },
  {
   "cell_type": "markdown",
   "metadata": {},
   "source": [
    "Em primeiro lugar, `abs` pode ser usado para encontrar o valor absoluto, adaptado para os diversos tipos de números."
   ]
  },
  {
   "cell_type": "code",
   "execution_count": 3,
   "metadata": {
    "collapsed": false,
    "jupyter": {
     "outputs_hidden": false
    },
    "tags": []
   },
   "outputs": [
    {
     "data": {
      "text/plain": [
       "2"
      ]
     },
     "execution_count": 3,
     "metadata": {},
     "output_type": "execute_result"
    }
   ],
   "source": [
    "abs(2)"
   ]
  },
  {
   "cell_type": "code",
   "execution_count": 4,
   "metadata": {
    "collapsed": false,
    "jupyter": {
     "outputs_hidden": false
    },
    "tags": []
   },
   "outputs": [
    {
     "data": {
      "text/plain": [
       "2"
      ]
     },
     "execution_count": 4,
     "metadata": {},
     "output_type": "execute_result"
    }
   ],
   "source": [
    "abs(-2)"
   ]
  },
  {
   "cell_type": "code",
   "execution_count": 5,
   "metadata": {
    "collapsed": false,
    "jupyter": {
     "outputs_hidden": false
    },
    "tags": []
   },
   "outputs": [
    {
     "data": {
      "text/plain": [
       "0.00123"
      ]
     },
     "execution_count": 5,
     "metadata": {},
     "output_type": "execute_result"
    }
   ],
   "source": [
    "abs(-.00123)"
   ]
  },
  {
   "cell_type": "code",
   "execution_count": 6,
   "metadata": {
    "collapsed": false,
    "jupyter": {
     "outputs_hidden": false
    },
    "tags": []
   },
   "outputs": [
    {
     "data": {
      "text/plain": [
       "5.0"
      ]
     },
     "execution_count": 6,
     "metadata": {},
     "output_type": "execute_result"
    }
   ],
   "source": [
    "abs(3+4j)"
   ]
  },
  {
   "cell_type": "markdown",
   "metadata": {},
   "source": [
    "## 2. `min` e `max`"
   ]
  },
  {
   "cell_type": "markdown",
   "metadata": {},
   "source": [
    "`min` e `max` podem ser usados para achar o mínimo ou máximo, respectivamente, de diversos valores (adaptadas a diversos tipos)."
   ]
  },
  {
   "cell_type": "code",
   "execution_count": 7,
   "metadata": {
    "collapsed": false,
    "jupyter": {
     "outputs_hidden": false
    },
    "tags": []
   },
   "outputs": [
    {
     "data": {
      "text/plain": [
       "1"
      ]
     },
     "execution_count": 7,
     "metadata": {},
     "output_type": "execute_result"
    }
   ],
   "source": [
    "min(2, 4, 5, 1, 8, 9)"
   ]
  },
  {
   "cell_type": "code",
   "execution_count": 8,
   "metadata": {
    "collapsed": false,
    "jupyter": {
     "outputs_hidden": false
    },
    "tags": []
   },
   "outputs": [
    {
     "data": {
      "text/plain": [
       "9"
      ]
     },
     "execution_count": 8,
     "metadata": {},
     "output_type": "execute_result"
    }
   ],
   "source": [
    "max(2, 4, 5, 1, 8, 9)"
   ]
  },
  {
   "cell_type": "markdown",
   "metadata": {},
   "source": [
    "No caso de cadeias de caracteres, a ordem é lexicográfica."
   ]
  },
  {
   "cell_type": "code",
   "execution_count": 9,
   "metadata": {
    "collapsed": false,
    "jupyter": {
     "outputs_hidden": false
    },
    "tags": []
   },
   "outputs": [
    {
     "data": {
      "text/plain": [
       "'agora'"
      ]
     },
     "execution_count": 9,
     "metadata": {},
     "output_type": "execute_result"
    }
   ],
   "source": [
    "min('agora', 'isso', 'é', 'estranho')"
   ]
  },
  {
   "cell_type": "markdown",
   "metadata": {},
   "source": [
    "As funções também operam com listas:"
   ]
  },
  {
   "cell_type": "code",
   "execution_count": 10,
   "metadata": {
    "collapsed": false,
    "jupyter": {
     "outputs_hidden": false
    },
    "tags": []
   },
   "outputs": [
    {
     "data": {
      "text/plain": [
       "-2"
      ]
     },
     "execution_count": 10,
     "metadata": {},
     "output_type": "execute_result"
    }
   ],
   "source": [
    "min([1, 4, 6, 0, 10, -2, 6])"
   ]
  },
  {
   "cell_type": "code",
   "execution_count": 11,
   "metadata": {
    "collapsed": false,
    "jupyter": {
     "outputs_hidden": false
    },
    "tags": []
   },
   "outputs": [
    {
     "data": {
      "text/plain": [
       "10"
      ]
     },
     "execution_count": 11,
     "metadata": {},
     "output_type": "execute_result"
    }
   ],
   "source": [
    "max([1, 4, 6, 0, 10, -2, 6])"
   ]
  },
  {
   "cell_type": "markdown",
   "metadata": {},
   "source": [
    "## 3. `zip`"
   ]
  },
  {
   "cell_type": "markdown",
   "metadata": {},
   "source": [
    "Frequentemente, queremos operar em elementos de listas correspondentes (isto é, o primeiro elemento da primeira lista com o primeiro da segunda, o segundo da primeira com o segundo da segunda, etc.)\n",
    "\n",
    "Para isso, a forma mais fácil é usar a função `zip`, que percorre esses elementos retornando tuplas com os objetos correspondentes."
   ]
  },
  {
   "cell_type": "code",
   "execution_count": 12,
   "metadata": {
    "collapsed": false,
    "jupyter": {
     "outputs_hidden": false
    },
    "tags": []
   },
   "outputs": [
    {
     "data": {
      "text/plain": [
       "[(1, 3), (2, 4), (3, 5)]"
      ]
     },
     "execution_count": 12,
     "metadata": {},
     "output_type": "execute_result"
    }
   ],
   "source": [
    "list(zip([1,2,3], [3,4,5]))"
   ]
  },
  {
   "cell_type": "markdown",
   "metadata": {},
   "source": [
    "Isso é especialmente útil em operações com `for`:"
   ]
  },
  {
   "cell_type": "code",
   "execution_count": 13,
   "metadata": {
    "tags": []
   },
   "outputs": [
    {
     "name": "stdout",
     "output_type": "stream",
     "text": [
      "1 corresponds to a\n",
      "2 corresponds to b\n",
      "3 corresponds to c\n"
     ]
    }
   ],
   "source": [
    "x = [1, 2, 3]\n",
    "y = ['a', 'b', 'c']\n",
    "for i, s in zip(x, y):\n",
    "    print(i, 'corresponds to', s)"
   ]
  },
  {
   "cell_type": "markdown",
   "metadata": {},
   "source": [
    "O código acima cria, com `zip`, uma coleção com os elementos `(1, 'a')`, `(2, 'b')` e `(3, 'c')`. Cada uma dessas tuplas é então, uma por vez, desempacotada colocando o primeiro elemento em `i` e o segundo em `s`. Esses valores de `i` e `s` são então usados nao `print`.\n",
    "\n",
    "Se uma das listas for menor que a outra, o `zip` termina quando a menor termina."
   ]
  },
  {
   "cell_type": "code",
   "execution_count": 14,
   "metadata": {
    "collapsed": false,
    "jupyter": {
     "outputs_hidden": false
    },
    "tags": []
   },
   "outputs": [
    {
     "data": {
      "text/plain": [
       "([(10, 5), (20, 15)], [(5, 10), (15, 20)])"
      ]
     },
     "execution_count": 14,
     "metadata": {},
     "output_type": "execute_result"
    }
   ],
   "source": [
    "a = [10, 20, 30]\n",
    "b = [5, 15]\n",
    "list(zip(a,b)), list(zip(b,a))"
   ]
  },
  {
   "cell_type": "code",
   "execution_count": 15,
   "metadata": {
    "tags": []
   },
   "outputs": [
    {
     "data": {
      "text/plain": [
       "[(0, 0, 0),\n",
       " (1, 10, 100),\n",
       " (2, 20, 200),\n",
       " (3, 30, 300),\n",
       " (4, 40, 400),\n",
       " (5, 50, 500),\n",
       " (6, 60, 600),\n",
       " (7, 70, 700),\n",
       " (8, 80, 800),\n",
       " (9, 90, 900)]"
      ]
     },
     "execution_count": 15,
     "metadata": {},
     "output_type": "execute_result"
    }
   ],
   "source": [
    "list(zip(range(10), range(0, 100, 10), range(0, 1000, 100)))"
   ]
  },
  {
   "cell_type": "markdown",
   "metadata": {},
   "source": [
    "## 4. `enumerate`"
   ]
  },
  {
   "cell_type": "markdown",
   "metadata": {},
   "source": [
    "Uma outra função interessante, que já usamos em exemplos anteriores, é o `enumerate`, que permite percorrer uma lista verificando simultaneamente o índice e o valor de cada elemento (numa tupla)."
   ]
  },
  {
   "cell_type": "code",
   "execution_count": 16,
   "metadata": {
    "tags": []
   },
   "outputs": [],
   "source": [
    "lista = [10, 11, 12, 13]"
   ]
  },
  {
   "cell_type": "code",
   "execution_count": 17,
   "metadata": {
    "collapsed": false,
    "jupyter": {
     "outputs_hidden": false
    },
    "tags": []
   },
   "outputs": [
    {
     "data": {
      "text/plain": [
       "[(0, 10), (1, 11), (2, 12), (3, 13)]"
      ]
     },
     "execution_count": 17,
     "metadata": {},
     "output_type": "execute_result"
    }
   ],
   "source": [
    "list(enumerate(lista))"
   ]
  },
  {
   "cell_type": "markdown",
   "metadata": {},
   "source": [
    "Isso é bastante útil quando queremos varrer uma lista acessando tanto o valor dos seus elementos quanto o índice em um `for`:"
   ]
  },
  {
   "cell_type": "code",
   "execution_count": 18,
   "metadata": {
    "tags": []
   },
   "outputs": [
    {
     "name": "stdout",
     "output_type": "stream",
     "text": [
      "A posição 0 tem valor 10\n",
      "A posição 1 tem valor 11\n",
      "A posição 2 tem valor 12\n",
      "A posição 3 tem valor 13\n"
     ]
    }
   ],
   "source": [
    "for i, v in enumerate(lista):\n",
    "    print('A posição', i, 'tem valor', v)"
   ]
  },
  {
   "cell_type": "markdown",
   "metadata": {},
   "source": [
    "Note que aqui, a tupla retornada pelo `enumerate` é descompactada nas duas variáveis `i` e `v`, usadas na tupla que recebe os valores."
   ]
  },
  {
   "cell_type": "markdown",
   "metadata": {},
   "source": [
    "## 5. `reversed`"
   ]
  },
  {
   "cell_type": "markdown",
   "metadata": {},
   "source": [
    "A função `reversed` permite percorrer os elementos de uma sequência em ordem reversa:"
   ]
  },
  {
   "cell_type": "code",
   "execution_count": null,
   "metadata": {},
   "outputs": [],
   "source": [
    "for i in reversed([1, 10, 100, 1000]):\n",
    "    print(i)"
   ]
  },
  {
   "cell_type": "markdown",
   "metadata": {},
   "source": [
    "Isso serve não só para listas, mas para para qualquer tipo de sequência de valores. Note que os valores na lista original não são alterados:"
   ]
  },
  {
   "cell_type": "code",
   "execution_count": 19,
   "metadata": {
    "tags": []
   },
   "outputs": [
    {
     "name": "stdout",
     "output_type": "stream",
     "text": [
      "[1, 10, 100, 1000]\n",
      "[1000, 100, 10, 1]\n"
     ]
    }
   ],
   "source": [
    "p10 = [1, 10, 100, 1000]\n",
    "p10r = list(reversed(p10))\n",
    "print(p10)\n",
    "print(p10r)"
   ]
  },
  {
   "cell_type": "markdown",
   "metadata": {},
   "source": [
    "Acima convertemos para `list` o resultado de `reversed` pois ela retorna um gerador. Isto é, `reversed` retorna um gerador que percorre os valores da sequência original em ordem reversa. Veremos em uma aula posterior o que é um gerador. Por enquanto, basta saber que um gerador fornece uma sequência de objetos."
   ]
  },
  {
   "cell_type": "code",
   "execution_count": null,
   "metadata": {},
   "outputs": [],
   "source": [
    "one_to_twenty = range(1, 21)\n",
    "twenty_to_one = reversed(one_to_twenty)"
   ]
  },
  {
   "cell_type": "code",
   "execution_count": null,
   "metadata": {},
   "outputs": [],
   "source": [
    "one_to_twenty"
   ]
  },
  {
   "cell_type": "code",
   "execution_count": null,
   "metadata": {},
   "outputs": [],
   "source": [
    "twenty_to_one"
   ]
  },
  {
   "cell_type": "code",
   "execution_count": null,
   "metadata": {},
   "outputs": [],
   "source": [
    "for i, j in zip(one_to_twenty, twenty_to_one):\n",
    "    print(i, 'and', j)"
   ]
  },
  {
   "cell_type": "markdown",
   "metadata": {},
   "source": [
    "## 6. `sorted`"
   ]
  },
  {
   "cell_type": "markdown",
   "metadata": {},
   "source": [
    "A função `sorted` retorna os valores de uma sequência em ordem. Ao contrário de `reversed`, ela retorna uma nova **lista** com os valores da sequência original na ordem desejada, não importa o tipo de sequência fornecida."
   ]
  },
  {
   "cell_type": "code",
   "execution_count": 20,
   "metadata": {
    "tags": []
   },
   "outputs": [],
   "source": [
    "from random import randint\n",
    "\n",
    "surprise = [randint(0, 100) for _ in range(10)]"
   ]
  },
  {
   "cell_type": "code",
   "execution_count": 21,
   "metadata": {
    "tags": []
   },
   "outputs": [
    {
     "data": {
      "text/plain": [
       "[52, 35, 0, 45, 50, 40, 37, 96, 49, 11]"
      ]
     },
     "execution_count": 21,
     "metadata": {},
     "output_type": "execute_result"
    }
   ],
   "source": [
    "surprise"
   ]
  },
  {
   "cell_type": "code",
   "execution_count": 22,
   "metadata": {
    "tags": []
   },
   "outputs": [
    {
     "data": {
      "text/plain": [
       "[0, 11, 35, 37, 40, 45, 49, 50, 52, 96]"
      ]
     },
     "execution_count": 22,
     "metadata": {},
     "output_type": "execute_result"
    }
   ],
   "source": [
    "sorted(surprise)"
   ]
  },
  {
   "cell_type": "code",
   "execution_count": null,
   "metadata": {},
   "outputs": [],
   "source": [
    "surprise"
   ]
  },
  {
   "cell_type": "code",
   "execution_count": null,
   "metadata": {},
   "outputs": [],
   "source": [
    "sorted(range(10, 0, -1))"
   ]
  },
  {
   "cell_type": "markdown",
   "metadata": {},
   "source": [
    "Podemos também fornecer o parâmetro opcional `reverse`, com valor booleano e significado óbvio (o _default_ é `reverse=False`)."
   ]
  },
  {
   "cell_type": "code",
   "execution_count": null,
   "metadata": {},
   "outputs": [],
   "source": [
    "sorted(surprise, reverse=True)"
   ]
  },
  {
   "cell_type": "markdown",
   "metadata": {},
   "source": [
    "Outro parâmetro opcional é o `key`. Esse parâmetro deve receber uma **função** que aceita um parâmetro. Essa função será chamada para cada elemento da sequência original e o valor retornado por essa função será usado para determinar a ordem de ordenação.\n",
    "\n",
    "Por exemplo, se queremos separar os pares antes dos ímpares podemos fazer:"
   ]
  },
  {
   "cell_type": "code",
   "execution_count": null,
   "metadata": {},
   "outputs": [],
   "source": [
    "surprise"
   ]
  },
  {
   "cell_type": "code",
   "execution_count": null,
   "metadata": {},
   "outputs": [],
   "source": [
    "def mod2(x):\n",
    "    return x % 2\n",
    "\n",
    "sorted(surprise, key=mod2)"
   ]
  },
  {
   "cell_type": "markdown",
   "metadata": {},
   "source": [
    "O que está acontecendo aí é que `mod2` retorna 0 para valores pares e 1 para valores ímpares. Portanto os pares são colocados antes dos ímapres.\n",
    "\n",
    "Num exemplo mais útil:"
   ]
  },
  {
   "cell_type": "code",
   "execution_count": null,
   "metadata": {},
   "outputs": [],
   "source": [
    "many = ['abc', 'bCd', 'Cde', 'DEF']\n",
    "sorted(many)"
   ]
  },
  {
   "cell_type": "markdown",
   "metadata": {},
   "source": [
    "Não exatamento o esperado (provavelmente)! Essa ordem ocorre porque as letras maiúsculas têm valor numérico menor do que as minúsculas. Se queremos desconsiderar maiúsculas e minúsculas, podemos usar `key`:"
   ]
  },
  {
   "cell_type": "code",
   "execution_count": null,
   "metadata": {},
   "outputs": [],
   "source": [
    "def uppercase(s):\n",
    "    return s.upper()\n",
    "\n",
    "sorted(many, key=uppercase)"
   ]
  },
  {
   "cell_type": "markdown",
   "metadata": {},
   "source": [
    "Note como a função `key` é usada para determinar a ordem, mas depois disso os valores retornados por `key` são descartados, e os valores da sequência original são usados.\n",
    "\n",
    "A necessidade de definir funções simples como `mod2` e `uppercase` acima é uma das razões pelas quais Python tem funções lambda, que serão estudadas mais tarde."
   ]
  },
  {
   "cell_type": "markdown",
   "metadata": {},
   "source": [
    "# Exercícios"
   ]
  },
  {
   "cell_type": "markdown",
   "metadata": {},
   "source": [
    "Qual a saída produzida pelos seguintes trechos de código?\n",
    "\n",
    "1. \n",
    "```python\n",
    "a = [15, 20, 16, 13, 25, 30, 27, 0, 11, 16]\n",
    "b = [6, 13, 7, 16, 15, 8, 28, 14]\n",
    "for x, y in zip(a, b):\n",
    "    print(x - y)\n",
    "```\n",
    "2. \n",
    "```python\n",
    "a = [15, 20, 16, 13, 25, 30, 27, 0, 11, 16]\n",
    "b = [6, 13, 7, 16, 15, 8, 28, 14]\n",
    "for x, y in zip(b, reversed(a)):\n",
    "    print(x - y)\n",
    "```\n",
    "3. \n",
    "```python\n",
    "a = [15, 20, 16, 13, 25, 30, 27, 0, 11, 16]\n",
    "b = [6, 13, 7, 16, 15, 8, 28, 14]\n",
    "for i, x in enumerate(b):\n",
    "    print(x - a[-i-1])\n",
    "```\n",
    "4. \n",
    "```python\n",
    "def mistery(x):\n",
    "    return (x - 10) if x > 10 else (x + 10)\n",
    "\n",
    "a = [0, 29, 24, 20, 1, 8, 23, 20, 11, 9]\n",
    "sorted(a, key=mistery, reverse=True)\n",
    "```"
   ]
  },
  {
   "cell_type": "code",
   "execution_count": 23,
   "metadata": {
    "tags": []
   },
   "outputs": [
    {
     "name": "stdout",
     "output_type": "stream",
     "text": [
      "9\n",
      "7\n",
      "9\n",
      "-3\n",
      "10\n",
      "22\n",
      "-1\n",
      "-14\n"
     ]
    }
   ],
   "source": [
    "a = [15, 20, 16, 13, 25, 30, 27, 0, 11, 16]\n",
    "b = [6, 13, 7, 16, 15, 8, 28, 14]\n",
    "for x, y in zip(a, b):\n",
    "    print(x - y)"
   ]
  },
  {
   "cell_type": "code",
   "execution_count": 24,
   "metadata": {
    "tags": []
   },
   "outputs": [
    {
     "name": "stdout",
     "output_type": "stream",
     "text": [
      "-10\n",
      "2\n",
      "7\n",
      "-11\n",
      "-15\n",
      "-17\n",
      "15\n",
      "-2\n"
     ]
    }
   ],
   "source": [
    "a = [15, 20, 16, 13, 25, 30, 27, 0, 11, 16]\n",
    "b = [6, 13, 7, 16, 15, 8, 28, 14]\n",
    "for i, x in enumerate(b):\n",
    "    print(x - a[-i-1])  #o primeiro elemento de b (6) é subtraído do último elemento de a (16), o segundo elemento de b (13) é subtraído do penúltimo elemento de a (11), "
   ]
  }
 ],
 "metadata": {
  "kernelspec": {
   "display_name": "Python 3 (ipykernel)",
   "language": "python",
   "name": "python3"
  },
  "language_info": {
   "codemirror_mode": {
    "name": "ipython",
    "version": 3
   },
   "file_extension": ".py",
   "mimetype": "text/x-python",
   "name": "python",
   "nbconvert_exporter": "python",
   "pygments_lexer": "ipython3",
   "version": "3.10.6"
  }
 },
 "nbformat": 4,
 "nbformat_minor": 4
}
