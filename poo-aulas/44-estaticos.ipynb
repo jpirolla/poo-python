{
 "cells": [
  {
   "cell_type": "markdown",
   "metadata": {},
   "source": [
    "# Métodos estáticos"
   ]
  },
  {
   "cell_type": "markdown",
   "metadata": {},
   "source": [
    "Já vimos anteriormente que podemos definir atributos associados à classe (isto é, ao objeto que representa a classe).\n",
    "\n",
    "Da mesma forma, podemos definir métodos que se associam com a classe, ao invés de com os objetos dessa classe. Esses são denominados **métodos estáticos** ou **métodos de classe**.\n",
    "\n",
    "Obviamente, esses métodos não podem acessar atributos dos objetos da classe, mas apenas atributos da classe.\n",
    "\n",
    "No exemplo abaixo, `x` é um atributo da classe (criado na definição da classe), enquanto `y` é um atributo dos objetos da classe (criado quando `__init__` é executado).\n",
    "\n",
    "O método `normal_method` é um método associado aos objetos, como costumamos usar. Já os métodos `static_method` e `class_method` são associados à classe. A diferença entre métodos estáticos e de classe é que **métodos estáticos recebem apenas os parâmetros que são explicitamente passados a eles**, enquanto que os **métodos de classe recebem a classe do objeto sobre o qual foram chamados** (mais precisamente, uma referência para o objeto que representa a classe). Veja o código abaixo."
   ]
  },
  {
   "cell_type": "code",
   "execution_count": null,
   "metadata": {},
   "outputs": [],
   "source": [
    "class A:\n",
    "    x = 0\n",
    "    \n",
    "    def __init__(self, y):\n",
    "        self.y = y\n",
    "        \n",
    "    def normal_method(self):\n",
    "        return self, self.x, self.y\n",
    "    \n",
    "    def static_method():\n",
    "        return A, A.x\n",
    "    static_method = staticmethod(static_method)\n",
    "    \n",
    "    def class_method(cls, z):\n",
    "        return cls, cls.x + z\n",
    "    class_method = classmethod(class_method)"
   ]
  },
  {
   "cell_type": "markdown",
   "metadata": {},
   "source": [
    "As chamadas a `staticmethod` e `classmethod` são necessárias para definir corretamente esses métodos. Veja exemplos de uso abaixo."
   ]
  },
  {
   "cell_type": "code",
   "execution_count": null,
   "metadata": {},
   "outputs": [],
   "source": [
    "a = A(2)"
   ]
  },
  {
   "cell_type": "code",
   "execution_count": null,
   "metadata": {},
   "outputs": [],
   "source": [
    "a.y, a.x"
   ]
  },
  {
   "cell_type": "markdown",
   "metadata": {},
   "source": [
    "O objeto `a` é da classe `A`, então podemos chamar métodos normais sobre ele. Note como o método normal recebe em `self` o objeto sobre o qual a chamada foi feita, e tem acesso tanto ao atributo próprio `y` como ao atributo da classe `x`."
   ]
  },
  {
   "cell_type": "code",
   "execution_count": null,
   "metadata": {},
   "outputs": [],
   "source": [
    "a.normal_method()"
   ]
  },
  {
   "cell_type": "code",
   "execution_count": null,
   "metadata": {},
   "outputs": [],
   "source": [
    "a"
   ]
  },
  {
   "cell_type": "markdown",
   "metadata": {},
   "source": [
    "Já o método `static_method` não recebe nenhum parâmetro (apesar de ter sido chamado no formato `a.static_method()`) e tem acesso apenas ao atributo `x` da classe."
   ]
  },
  {
   "cell_type": "code",
   "execution_count": null,
   "metadata": {},
   "outputs": [],
   "source": [
    "a.static_method()"
   ]
  },
  {
   "cell_type": "markdown",
   "metadata": {},
   "source": [
    "O método `class_method`, por outro lado, ao ser chamado como `a.class_method(4)`, recebe como primeiro parâmetro a classe do objeto à esquerda do ponto:"
   ]
  },
  {
   "cell_type": "code",
   "execution_count": null,
   "metadata": {},
   "outputs": [],
   "source": [
    "a.class_method(4)"
   ]
  },
  {
   "cell_type": "code",
   "execution_count": null,
   "metadata": {},
   "outputs": [],
   "source": [
    "A"
   ]
  },
  {
   "cell_type": "markdown",
   "metadata": {},
   "source": [
    "Para entender melhor a diferença entre métodos estáticos e de classe, veja o que ocorre em caso de herança. Note como o método de classe tem acesso à classe exata do objeto, mesmo que ele seja chamado para objeto de classe derivada."
   ]
  },
  {
   "cell_type": "code",
   "execution_count": null,
   "metadata": {},
   "outputs": [],
   "source": [
    "class B(A):\n",
    "    pass"
   ]
  },
  {
   "cell_type": "code",
   "execution_count": null,
   "metadata": {},
   "outputs": [],
   "source": [
    "b = B(5)"
   ]
  },
  {
   "cell_type": "code",
   "execution_count": null,
   "metadata": {},
   "outputs": [],
   "source": [
    "b.normal_method()"
   ]
  },
  {
   "cell_type": "code",
   "execution_count": null,
   "metadata": {},
   "outputs": [],
   "source": [
    "b.static_method()"
   ]
  },
  {
   "cell_type": "code",
   "execution_count": null,
   "metadata": {},
   "outputs": [],
   "source": [
    "b.class_method(8)"
   ]
  },
  {
   "cell_type": "code",
   "execution_count": null,
   "metadata": {},
   "outputs": [],
   "source": [
    "A.static_method()"
   ]
  },
  {
   "cell_type": "code",
   "execution_count": null,
   "metadata": {},
   "outputs": [],
   "source": [
    "B.static_method()"
   ]
  },
  {
   "cell_type": "code",
   "execution_count": null,
   "metadata": {},
   "outputs": [],
   "source": [
    "A.class_method(3)"
   ]
  },
  {
   "cell_type": "code",
   "execution_count": null,
   "metadata": {},
   "outputs": [],
   "source": [
    "B.class_method(3)"
   ]
  }
 ],
 "metadata": {
  "kernelspec": {
   "display_name": "Python 3 (ipykernel)",
   "language": "python",
   "name": "python3"
  },
  "language_info": {
   "codemirror_mode": {
    "name": "ipython",
    "version": 3
   },
   "file_extension": ".py",
   "mimetype": "text/x-python",
   "name": "python",
   "nbconvert_exporter": "python",
   "pygments_lexer": "ipython3",
   "version": "3.11.2"
  }
 },
 "nbformat": 4,
 "nbformat_minor": 4
}
