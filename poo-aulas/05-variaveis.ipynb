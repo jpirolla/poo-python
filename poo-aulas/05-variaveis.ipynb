{
  "cells": [
    {
      "cell_type": "markdown",
      "metadata": {
        "id": "NSEROMvafnkY"
      },
      "source": [
        "# Tipos, valores, objetos e variáveis"
      ]
    },
    {
      "cell_type": "markdown",
      "metadata": {
        "id": "G1Kdvip4fnkb"
      },
      "source": [
        "## 1. Tipos"
      ]
    },
    {
      "cell_type": "markdown",
      "metadata": {
        "id": "QYObvtRkfnkd"
      },
      "source": [
        "Pelo que já foi apresentado é clara a importância de *tipos* de dados em computação. Um mesmo padrão de bits pode significar diversas coisas diferentes. Com isso, se um programa vai manipular alguns dados, é essencial que ele saiba qual o tipo desses dados.\n",
        "\n",
        "O tipo vai especificar:\n",
        "- A **interpretação dos dados**, isto é, c**omo entender o padrão de bits dos dados.** Por exemplo, se 8 bytes são um inteiro de 64 bits em complemento de dois ou um número de ponto flutuante IEEE-754 de 64 bits. Dependendo do tipo, o mesmo padrão de bits pode representar valores diferentes.\n",
        "- As **operações** que podem ser feitas sobre esses dados. Por exemplo, se temos dois inteiros em complemento de dois podemos realizar a soma em complemento de dois; se os dois valores foram número de ponto flutuante IEEE-754 então podemos realizar a soma de números de ponto flutuante, de acordo com as regras especificadas pelo padrão IEEE-754."
      ]
    },
    {
      "cell_type": "markdown",
      "metadata": {
        "id": "ByTz5enxfnkg"
      },
      "source": [
        "## 2. Valores"
      ]
    },
    {
      "cell_type": "markdown",
      "metadata": {
        "id": "CyrcIZgFfnkj"
      },
      "source": [
        "Sendo especificado um tipo, temos um conjunto de valores possíveis. Obviamente, só faz sentido falar em valor depois de especificado um tipo, pois é o tipo que determina as regras de como um padrão de bits será interpretado para fornecer um dado valor."
      ]
    },
    {
      "cell_type": "markdown",
      "metadata": {
        "id": "BP4wAJCMfnkk"
      },
      "source": [
        "## 3. Objetos"
      ]
    },
    {
      "cell_type": "markdown",
      "metadata": {
        "id": "Un998AoKfnkl"
      },
      "source": [
        "Quando um programa está executando, os valores dos dados sendo processados têm que estar disponíveis em algum lugar.\n",
        "\n",
        "Denominamos o local onde um valor pode ser colocado de **objeto**.\n",
        "\n",
        "Pelo dito acima, fica claro que para usarmos um objeto, precisamos saber:\n",
        "- O tipo do valor guardado nesse objeto.\n",
        "- O valor que ele tem.\n",
        "\n",
        "Em Python, cada objeto carrega em si essas duas informações.\n",
        "\n",
        "![obj.png](attachment:0a2a7722-59a9-485b-b319-df5a93505c79.png)"
      ]
    },
    {
      "cell_type": "markdown",
      "metadata": {
        "ein.tags": [
          "worksheet-0"
        ],
        "id": "u8WK_ar7fnkm"
      },
      "source": [
        "## 4. Variáveis"
      ]
    },
    {
      "cell_type": "markdown",
      "metadata": {
        "ein.tags": [
          "worksheet-0"
        ],
        "id": "XWu5y3-xfnkn"
      },
      "source": [
        "Variáveis guardam **referências** para objetos. Elas não possuem tipos, pois os tipos são associados aos objetos. Uma variável pode portanto se referir a objetos de diversos tipos em instantes distintos da execução do código.\n",
        "\n",
        "Não é necessária a declaração de variáveis. Elas são criadas quando recebem um objeto por atribuição pela primeira vez durante a execução do código."
      ]
    },
    {
      "cell_type": "code",
      "execution_count": null,
      "metadata": {
        "autoscroll": "json-false",
        "ein.tags": [
          "worksheet-0"
        ],
        "jupyter": {
          "outputs_hidden": false
        },
        "id": "JxJG4jFcfnko"
      },
      "outputs": [],
      "source": [
        "a = 1"
      ]
    },
    {
      "cell_type": "markdown",
      "metadata": {
        "id": "d8ASxZRyfnkr"
      },
      "source": [
        "Agora `a` é um `int`"
      ]
    },
    {
      "cell_type": "code",
      "execution_count": null,
      "metadata": {
        "id": "5nvMbGhofnks"
      },
      "outputs": [],
      "source": [
        "a"
      ]
    },
    {
      "cell_type": "markdown",
      "metadata": {
        "id": "x9TWDeBhfnkt"
      },
      "source": [
        "![var1.png](attachment:245db668-85a5-4fde-b7d4-6f432a8e719a.png)"
      ]
    },
    {
      "cell_type": "code",
      "execution_count": null,
      "metadata": {
        "autoscroll": "json-false",
        "ein.tags": [
          "worksheet-0"
        ],
        "jupyter": {
          "outputs_hidden": false
        },
        "id": "gNmu4XIgfnku"
      },
      "outputs": [],
      "source": [
        "a = 2"
      ]
    },
    {
      "cell_type": "markdown",
      "metadata": {
        "id": "5fIRTKLBfnku"
      },
      "source": [
        "![var2.png](attachment:b057d419-fb39-42cb-bdb9-4d9e30fea783.png)"
      ]
    },
    {
      "cell_type": "code",
      "execution_count": null,
      "metadata": {
        "id": "5AOLzh4sfnkv"
      },
      "outputs": [],
      "source": [
        "a"
      ]
    },
    {
      "cell_type": "code",
      "execution_count": null,
      "metadata": {
        "autoscroll": "json-false",
        "ein.tags": [
          "worksheet-0"
        ],
        "jupyter": {
          "outputs_hidden": false
        },
        "id": "QpqxAhevfnkv"
      },
      "outputs": [],
      "source": [
        "a = 3.14"
      ]
    },
    {
      "cell_type": "markdown",
      "source": [],
      "metadata": {
        "id": "ACE2eVGkVjBL"
      }
    },
    {
      "cell_type": "markdown",
      "metadata": {
        "id": "IyYLePFefnkw"
      },
      "source": [
        "Agora `a` é um `float`"
      ]
    },
    {
      "cell_type": "code",
      "execution_count": null,
      "metadata": {
        "autoscroll": "json-false",
        "ein.tags": [
          "worksheet-0"
        ],
        "jupyter": {
          "outputs_hidden": false
        },
        "id": "frKnGtCGfnkw"
      },
      "outputs": [],
      "source": [
        "a"
      ]
    },
    {
      "cell_type": "markdown",
      "metadata": {
        "ein.tags": [
          "worksheet-0"
        ],
        "id": "YQzdbfITfnkx"
      },
      "source": [
        "![var3.png](attachment:0d3b5484-a299-4723-a1bd-94782562b539.png)\n",
        "\n",
        "É um erro tentar acessar uma variável que ainda não recebeu referência para um objeto, pois ela ainda não existe."
      ]
    },
    {
      "cell_type": "code",
      "execution_count": null,
      "metadata": {
        "autoscroll": "json-false",
        "ein.tags": [
          "worksheet-0"
        ],
        "jupyter": {
          "outputs_hidden": false
        },
        "id": "UfsQkYkcfnkx"
      },
      "outputs": [],
      "source": [
        "b"
      ]
    },
    {
      "cell_type": "markdown",
      "metadata": {
        "ein.tags": [
          "worksheet-0"
        ],
        "id": "m7hg1sN_fnky"
      },
      "source": [
        "Diversas variáveis podem se referir ao mesmo objeto."
      ]
    },
    {
      "cell_type": "code",
      "execution_count": null,
      "metadata": {
        "autoscroll": "json-false",
        "ein.tags": [
          "worksheet-0"
        ],
        "jupyter": {
          "outputs_hidden": false
        },
        "id": "jDAQ6ASafnky",
        "colab": {
          "base_uri": "https://localhost:8080/"
        },
        "outputId": "d68bcf6f-ce2b-48a9-cc26-3bd1f6cd66c0"
      },
      "outputs": [
        {
          "output_type": "execute_result",
          "data": {
            "text/plain": [
              "1"
            ]
          },
          "metadata": {},
          "execution_count": 2
        }
      ],
      "source": [
        "a"
      ]
    },
    {
      "cell_type": "code",
      "execution_count": null,
      "metadata": {
        "autoscroll": "json-false",
        "ein.tags": [
          "worksheet-0"
        ],
        "jupyter": {
          "outputs_hidden": false
        },
        "id": "FfXpl-sGfnkz"
      },
      "outputs": [],
      "source": [
        "b = a"
      ]
    },
    {
      "cell_type": "code",
      "execution_count": null,
      "metadata": {
        "autoscroll": "json-false",
        "ein.tags": [
          "worksheet-0"
        ],
        "jupyter": {
          "outputs_hidden": false
        },
        "id": "u7_NfSESfnkz",
        "colab": {
          "base_uri": "https://localhost:8080/"
        },
        "outputId": "eca2a5ef-9f16-4f4e-a1bd-ea7bf97fcfc4"
      },
      "outputs": [
        {
          "output_type": "execute_result",
          "data": {
            "text/plain": [
              "1"
            ]
          },
          "metadata": {},
          "execution_count": 4
        }
      ],
      "source": [
        "b"
      ]
    },
    {
      "cell_type": "markdown",
      "metadata": {
        "id": "6ypX-EuGfnk0"
      },
      "source": [
        "![var4.png](attachment:3a3b73c1-f3d8-4aa1-a629-4f438db98d6a.png)"
      ]
    },
    {
      "cell_type": "markdown",
      "metadata": {
        "id": "L-4mz9bufnk0"
      },
      "source": [
        "Quando atribuimos **um novo objeto** a uma variável, isso não afeta o objeto referenciado por outras variáveis."
      ]
    },
    {
      "cell_type": "code",
      "execution_count": null,
      "metadata": {
        "autoscroll": "json-false",
        "ein.tags": [
          "worksheet-0"
        ],
        "jupyter": {
          "outputs_hidden": false
        },
        "id": "skN2_f1wfnk0"
      },
      "outputs": [],
      "source": [
        "a = 2"
      ]
    },
    {
      "cell_type": "code",
      "source": [
        "a,b"
      ],
      "metadata": {
        "id": "uw67sMQaYnaR",
        "outputId": "9e7aaa14-0f80-4094-91dc-768f78638105",
        "colab": {
          "base_uri": "https://localhost:8080/"
        }
      },
      "execution_count": null,
      "outputs": [
        {
          "output_type": "execute_result",
          "data": {
            "text/plain": [
              "(2, 1)"
            ]
          },
          "metadata": {},
          "execution_count": 10
        }
      ]
    },
    {
      "cell_type": "code",
      "execution_count": null,
      "metadata": {
        "autoscroll": "json-false",
        "ein.tags": [
          "worksheet-0"
        ],
        "jupyter": {
          "outputs_hidden": false
        },
        "id": "zE33Tzedfnk1"
      },
      "outputs": [],
      "source": [
        "c = a, b"
      ]
    },
    {
      "cell_type": "code",
      "source": [
        "type(c)"
      ],
      "metadata": {
        "id": "hmyI3fGeYlGf",
        "outputId": "399a1d99-2e1a-4042-a287-979d1c37e1a9",
        "colab": {
          "base_uri": "https://localhost:8080/"
        }
      },
      "execution_count": null,
      "outputs": [
        {
          "output_type": "execute_result",
          "data": {
            "text/plain": [
              "tuple"
            ]
          },
          "metadata": {},
          "execution_count": 9
        }
      ]
    },
    {
      "cell_type": "markdown",
      "metadata": {
        "id": "Ovv7GSdrfnk1"
      },
      "source": [
        "![var5.png](attachment:4bbcff62-1d16-4375-92aa-320ddb58d187.png)"
      ]
    },
    {
      "cell_type": "markdown",
      "metadata": {
        "id": "buKykIGifnk2"
      },
      "source": [
        "## 5. Verificando tipos"
      ]
    },
    {
      "cell_type": "markdown",
      "metadata": {
        "id": "5xQV-VAgfnk3"
      },
      "source": [
        "Podemos verificar o tipo de um objeto usando a função `type`:"
      ]
    },
    {
      "cell_type": "code",
      "execution_count": null,
      "metadata": {
        "id": "sINKLgRJfnk3",
        "colab": {
          "base_uri": "https://localhost:8080/"
        },
        "outputId": "c4116541-02a6-42d1-f270-76387d24d804"
      },
      "outputs": [
        {
          "output_type": "execute_result",
          "data": {
            "text/plain": [
              "int"
            ]
          },
          "metadata": {},
          "execution_count": 11
        }
      ],
      "source": [
        "type(1)"
      ]
    },
    {
      "cell_type": "code",
      "execution_count": null,
      "metadata": {
        "id": "i9EWrFdPfnk4",
        "colab": {
          "base_uri": "https://localhost:8080/"
        },
        "outputId": "b4a3f15d-bc17-4da3-cb0f-f27cfa2aac7d"
      },
      "outputs": [
        {
          "output_type": "execute_result",
          "data": {
            "text/plain": [
              "float"
            ]
          },
          "metadata": {},
          "execution_count": 12
        }
      ],
      "source": [
        "type(1.0)"
      ]
    },
    {
      "cell_type": "code",
      "execution_count": null,
      "metadata": {
        "id": "GoHYcvfrfnk4",
        "colab": {
          "base_uri": "https://localhost:8080/"
        },
        "outputId": "69e4766a-615d-41f6-b164-eb16ba8fb698"
      },
      "outputs": [
        {
          "output_type": "execute_result",
          "data": {
            "text/plain": [
              "int"
            ]
          },
          "metadata": {},
          "execution_count": 13
        }
      ],
      "source": [
        "a = 10 // 2\n",
        "type(a)"
      ]
    },
    {
      "cell_type": "code",
      "execution_count": null,
      "metadata": {
        "id": "l1XNj147fnk4",
        "colab": {
          "base_uri": "https://localhost:8080/"
        },
        "outputId": "051532f9-98cd-49d8-9a57-698c9161ed7a"
      },
      "outputs": [
        {
          "output_type": "execute_result",
          "data": {
            "text/plain": [
              "float"
            ]
          },
          "metadata": {},
          "execution_count": 14
        }
      ],
      "source": [
        "a = 10 / 2\n",
        "type(a)"
      ]
    },
    {
      "cell_type": "code",
      "execution_count": null,
      "metadata": {
        "id": "SCeluVjafnk5",
        "colab": {
          "base_uri": "https://localhost:8080/"
        },
        "outputId": "4dc871de-b444-4821-c998-678bfb2ec0e4"
      },
      "outputs": [
        {
          "output_type": "execute_result",
          "data": {
            "text/plain": [
              "str"
            ]
          },
          "metadata": {},
          "execution_count": 15
        }
      ],
      "source": [
        "type('Oi')"
      ]
    },
    {
      "cell_type": "markdown",
      "metadata": {
        "id": "bnBoUs-3fnk6"
      },
      "source": [
        "## 6. Removendo variáveis"
      ]
    },
    {
      "cell_type": "markdown",
      "metadata": {
        "id": "Jfsm5CZdfnk7"
      },
      "source": [
        "Se não necessitamos mais de uma variável, podemos removê-la usando o comando `del`:"
      ]
    },
    {
      "cell_type": "code",
      "execution_count": null,
      "metadata": {
        "id": "_2X3glO7fnk8",
        "colab": {
          "base_uri": "https://localhost:8080/"
        },
        "outputId": "cd070faf-d32c-4786-a789-a36089d27825"
      },
      "outputs": [
        {
          "output_type": "stream",
          "name": "stdout",
          "text": [
            "10\n"
          ]
        }
      ],
      "source": [
        "lixo = 10\n",
        "print(lixo)"
      ]
    },
    {
      "cell_type": "code",
      "execution_count": null,
      "metadata": {
        "id": "Q5RkmnQQfnk8"
      },
      "outputs": [],
      "source": [
        "del lixo"
      ]
    },
    {
      "cell_type": "code",
      "execution_count": null,
      "metadata": {
        "id": "U_yPpw5nfnk9",
        "colab": {
          "base_uri": "https://localhost:8080/",
          "height": 167
        },
        "outputId": "9b014d2a-dcba-4410-91b4-d281903490d3"
      },
      "outputs": [
        {
          "output_type": "error",
          "ename": "NameError",
          "evalue": "ignored",
          "traceback": [
            "\u001b[0;31m---------------------------------------------------------------------------\u001b[0m",
            "\u001b[0;31mNameError\u001b[0m                                 Traceback (most recent call last)",
            "\u001b[0;32m<ipython-input-18-28fa8409dfd8>\u001b[0m in \u001b[0;36m<module>\u001b[0;34m\u001b[0m\n\u001b[0;32m----> 1\u001b[0;31m \u001b[0mprint\u001b[0m\u001b[0;34m(\u001b[0m\u001b[0mlixo\u001b[0m\u001b[0;34m)\u001b[0m\u001b[0;34m\u001b[0m\u001b[0;34m\u001b[0m\u001b[0m\n\u001b[0m",
            "\u001b[0;31mNameError\u001b[0m: name 'lixo' is not defined"
          ]
        }
      ],
      "source": [
        "print(lixo)"
      ]
    },
    {
      "cell_type": "markdown",
      "metadata": {
        "id": "nlB9oDhQfnk9"
      },
      "source": [
        "Isso raramente é necessário, mas pode ser útil em certas situações especiais."
      ]
    }
  ],
  "metadata": {
    "kernelspec": {
      "display_name": "Python 3 (ipykernel)",
      "language": "python",
      "name": "python3"
    },
    "language_info": {
      "codemirror_mode": {
        "name": "ipython",
        "version": 3
      },
      "file_extension": ".py",
      "mimetype": "text/x-python",
      "name": "python",
      "nbconvert_exporter": "python",
      "pygments_lexer": "ipython3",
      "version": "3.10.7"
    },
    "colab": {
      "provenance": []
    }
  },
  "nbformat": 4,
  "nbformat_minor": 0
}