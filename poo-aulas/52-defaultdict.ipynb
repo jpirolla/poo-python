{
 "cells": [
  {
   "cell_type": "markdown",
   "metadata": {},
   "source": [
    "# Dicionários com *default*"
   ]
  },
  {
   "cell_type": "markdown",
   "metadata": {},
   "source": [
    "Sabemos que nos dicionários Python normais (`dict`), o acesso a uma chave inexistente gera um erro:"
   ]
  },
  {
   "cell_type": "code",
   "execution_count": null,
   "metadata": {},
   "outputs": [],
   "source": [
    "d = {'a': 1, 'b': 2, 'c': 3}\n",
    "print(d['a'])\n",
    "print(d['e'])"
   ]
  },
  {
   "cell_type": "markdown",
   "metadata": {},
   "source": [
    "Isso é bom para garantir que não estamos pegando informações sobre chaves inexistentes, no entanto é desconfortável em algumas situações.\n",
    "\n",
    "Por exemplo, vamos supor que temos uma base de dados de vendas em uma loja com o nome do produto e o número de unidades em cada venda. Para nosso exemplo, vamos ter essa base de dados em uma lista com pares `(nome, quantidade)`."
   ]
  },
  {
   "cell_type": "code",
   "execution_count": null,
   "metadata": {},
   "outputs": [],
   "source": [
    "sales = [('prod1', 1), ('prod5', 3), ('prod1', 2), ('prod2', 10), ('prod3', 4), ('prod1', 1), ('prod5', 4)]"
   ]
  },
  {
   "cell_type": "markdown",
   "metadata": {},
   "source": [
    "Agora, queremos contar o total de produtos vendidos de cada tipo. Podemos criar um dicionário com a chave sendo o nome do produto e o valor sendo o total vendido, e atualizamos esse dicionário para cada elementos da lista de vendas:"
   ]
  },
  {
   "cell_type": "code",
   "execution_count": null,
   "metadata": {},
   "outputs": [],
   "source": [
    "def count_sales_v0(sales_list):\n",
    "    total_sales = dict()\n",
    "    for prod, count in sales_list:\n",
    "        total_sales[prod] += count\n",
    "    return total_sales"
   ]
  },
  {
   "cell_type": "markdown",
   "metadata": {},
   "source": [
    "Infelizmente, esse código não funciona, pois está tentando (ao fazer `total_sales[prod] += count`) ler o valor da chave `prod` nesse dicionário, que vai falhar na primeira vez que um produto for encontrado na lista:"
   ]
  },
  {
   "cell_type": "code",
   "execution_count": null,
   "metadata": {},
   "outputs": [],
   "source": [
    "count_sales_v0(sales)"
   ]
  },
  {
   "cell_type": "markdown",
   "metadata": {},
   "source": [
    "Podemos resolver esse problema usando dicionários normais, tomando cuidado de verificar que a chave existe antes de usá-la:"
   ]
  },
  {
   "cell_type": "code",
   "execution_count": null,
   "metadata": {},
   "outputs": [],
   "source": [
    "def count_sales_v1(sales_list):\n",
    "    total_sales = dict()\n",
    "    for prod, count in sales_list:\n",
    "        if prod not in total_sales.keys():\n",
    "            total_sales[prod] = 0\n",
    "        total_sales[prod] += count\n",
    "    return total_sales"
   ]
  },
  {
   "cell_type": "code",
   "execution_count": null,
   "metadata": {},
   "outputs": [],
   "source": [
    "count_sales_v1(sales)"
   ]
  },
  {
   "cell_type": "markdown",
   "metadata": {},
   "source": [
    "No entanto, para essas situações é mais conveniente usar o `defaultdict`, do módulo `collections`, que é uma classe derivada de `dict` que altera o método de acesso ao dicionário de forma que, se uma chave inexistente for acessada, ela será inicializada com um valor *default*."
   ]
  },
  {
   "cell_type": "code",
   "execution_count": null,
   "metadata": {},
   "outputs": [],
   "source": [
    "from collections import defaultdict\n",
    "def count_sales(sales_list):\n",
    "    total_sales = defaultdict(int)\n",
    "    for prod, count in sales_list:\n",
    "        total_sales[prod] += count\n",
    "    return total_sales"
   ]
  },
  {
   "cell_type": "code",
   "execution_count": null,
   "metadata": {},
   "outputs": [],
   "source": [
    "count_sales(sales)"
   ]
  },
  {
   "cell_type": "markdown",
   "metadata": {},
   "source": [
    "Veja que nesse código, o `total_sales` é um `defaultdict`, ao invés de um `dict`.\n",
    "\n",
    "O primeiro parâmetro passado para o construtor de um `defauldict` é denominado uma **função de fábrica** (_factory function_). Quer dizer, esse parâmetro deve ser uma função, que quando chamada sem passagem de parâmetro, retorna o valor a ser usado como *default* para chaves inexistentes.\n",
    "\n",
    "No nosso código, usamos o fato de que o `int`, quando chamado como uma função sem parâmetros, retorna o valor inteiro 0:"
   ]
  },
  {
   "cell_type": "code",
   "execution_count": null,
   "metadata": {},
   "outputs": [],
   "source": [
    "int()"
   ]
  },
  {
   "cell_type": "markdown",
   "metadata": {},
   "source": [
    "Isso funciona de forma similar para outros tipos:"
   ]
  },
  {
   "cell_type": "code",
   "execution_count": null,
   "metadata": {},
   "outputs": [],
   "source": [
    "float(), complex(), str()"
   ]
  },
  {
   "cell_type": "markdown",
   "metadata": {},
   "source": [
    "Como outro exemplo, vamos fazer um código para contar o número de vezes que cada \"palavra\" aparece em um arquivo texto, aqui definindo como \"palavra\", para simplificar, qualquer sequência de caracteres separados por espaços em braco, tabulações ou mudanças de linha (isto é, os separadores *default* do método `split`)."
   ]
  },
  {
   "cell_type": "code",
   "execution_count": null,
   "metadata": {},
   "outputs": [],
   "source": [
    "def count_words(text):\n",
    "    words = text.split()\n",
    "    word_count = defaultdict(int)\n",
    "    for word in words:\n",
    "        word_count[word] += 1\n",
    "    return word_count"
   ]
  },
  {
   "cell_type": "code",
   "execution_count": null,
   "metadata": {},
   "outputs": [],
   "source": [
    "with open('teste.txt', encoding='utf8') as f:\n",
    "    text = f.read()\n",
    "counts = count_words(text)\n",
    "sorted_words = sorted(counts.items(), \n",
    "                      key=lambda pair: (-pair[1], pair[0].lower())) \n",
    "for word, count in sorted_words:\n",
    "    print(f'\"{word}\" appeared ' + \n",
    "          ('once' if count == 1 else f'{count} times'))"
   ]
  },
  {
   "cell_type": "markdown",
   "metadata": {},
   "source": [
    "# Exercício"
   ]
  },
  {
   "cell_type": "markdown",
   "metadata": {},
   "source": [
    "Altere o código acima considerando os dois pontos abaixo:\n",
    "- Os sinais de pontuação `.`, `,`, `;`, `:`, `!` e `?` no final das palavras (como aparece por exemplo em `branco.` devem ser eliminados.\n",
    "- Não deve haver diferenciação entre minúsculas e maiúsculas na contagem das palavras. Por exemplo, `em` e `Em` devem ser a mesma palavra, contada como aparecendo duas vezes.\n",
    "- Ao mostrar os resultados, inclua também o caso especial **twice** ao invés de **2 times**."
   ]
  }
 ],
 "metadata": {
  "kernelspec": {
   "display_name": "Python 3 (ipykernel)",
   "language": "python",
   "name": "python3"
  },
  "language_info": {
   "codemirror_mode": {
    "name": "ipython",
    "version": 3
   },
   "file_extension": ".py",
   "mimetype": "text/x-python",
   "name": "python",
   "nbconvert_exporter": "python",
   "pygments_lexer": "ipython3",
   "version": "3.11.2"
  }
 },
 "nbformat": 4,
 "nbformat_minor": 4
}
