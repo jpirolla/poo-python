{
 "cells": [
  {
   "cell_type": "markdown",
   "metadata": {},
   "source": [
    "# Escopo e _closures_"
   ]
  },
  {
   "cell_type": "markdown",
   "metadata": {},
   "source": [
    "## 1. Escopo"
   ]
  },
  {
   "cell_type": "markdown",
   "metadata": {},
   "source": [
    "Escopo é o nome dado à parte do código onde um *identificador* é válido.\n",
    "\n",
    "O Python define três tipos de escopo:\n",
    "\n",
    "- **Escopo de identificadores pré-definidos:** engloba todos os identificadores já definidos na linguagem Python, isto é, identificadores que você pode usar diretamente, sem ter que defini-los ou sem ter que importar algum módulo. Exemplos são os `int`, `float`, `str`, `if`, `for`, `print`, etc.\n",
    "- **Escopo global:** se aplica a todos os identificadores que são definidos *no módulo em execução*. Veremos módulos mais adiante. Por enquanto, basta saber que todos os identificadores criados diretamente no interpretador fazem parte de um módulo (denominado `__main__`).\n",
    "- **Escopo local:** se aplica a identificadores criados dentro de um bloco de código. Um bloco de código é definido em Python para cada função, módulo ou classe. Por enquanto não estudamos módulos ou classes, então vamos nos restringir a funções.\n",
    "\n",
    "Identificadores nos escopos global e de pré-definidos podem ser referenciados em qualquer lugar no módulo, enquanto identificadores locais somente podem ser referenciados no bloco de código onde foram criados, mas não são válidos fora dele.\n",
    "\n",
    "Assim, no código abaixo, `global_var` e `f` (o nome da função) são identificadores globais, enquanto `local_var`, `par1` e `par2` (os parâmetros) são identificadores locais da função `f`."
   ]
  },
  {
   "cell_type": "code",
   "execution_count": null,
   "metadata": {},
   "outputs": [],
   "source": [
    "global_var = 10\n",
    "def f(par1, par2):\n",
    "    local_var = 12\n",
    "    return par1 + par2 - global_var + local_var"
   ]
  },
  {
   "cell_type": "markdown",
   "metadata": {},
   "source": [
    "Os identificadores globais são acessíveis no escopo do módulo (direto no interpretador, neste caso), mas os locais não."
   ]
  },
  {
   "cell_type": "code",
   "execution_count": null,
   "metadata": {},
   "outputs": [],
   "source": [
    "global_var"
   ]
  },
  {
   "cell_type": "code",
   "execution_count": null,
   "metadata": {},
   "outputs": [],
   "source": [
    "f"
   ]
  },
  {
   "cell_type": "code",
   "execution_count": null,
   "metadata": {},
   "outputs": [],
   "source": [
    "local_var"
   ]
  },
  {
   "cell_type": "code",
   "execution_count": null,
   "metadata": {},
   "outputs": [],
   "source": [
    "par1"
   ]
  },
  {
   "cell_type": "markdown",
   "metadata": {},
   "source": [
    "Cada função define um novo escopo local. Assim, quando uma função é definida dentro da outra, os identificadores locais da função externa são acessíveis na função interna (mas não o contrário)."
   ]
  },
  {
   "cell_type": "code",
   "execution_count": null,
   "metadata": {},
   "outputs": [],
   "source": [
    "def g(x):\n",
    "    def h(y):\n",
    "        return y ** x\n",
    "    return x + h(2)"
   ]
  },
  {
   "cell_type": "code",
   "execution_count": null,
   "metadata": {},
   "outputs": [],
   "source": [
    "g(3)"
   ]
  },
  {
   "cell_type": "markdown",
   "metadata": {},
   "source": [
    "Por outro lado, como a função define um novo escopo, **se criarmos uma variável (através de uma atribuição) com o mesmo identificador de uma variável externa, ela irá esconder o valor da variável externa.**"
   ]
  },
  {
   "cell_type": "code",
   "execution_count": null,
   "metadata": {},
   "outputs": [],
   "source": [
    "global_var = 10\n",
    "def f(par1, par2):\n",
    "    local_var = 12\n",
    "    global_var = 8 # Esta é uma nova variável no escopo de f\n",
    "    return par1 + par2 - global_var + local_var"
   ]
  },
  {
   "cell_type": "code",
   "execution_count": null,
   "metadata": {},
   "outputs": [],
   "source": [
    "f(2, 3)"
   ]
  },
  {
   "cell_type": "markdown",
   "metadata": {},
   "source": [
    "O valor de `global_var` não foi afetado pela execução de `f`."
   ]
  },
  {
   "cell_type": "code",
   "execution_count": null,
   "metadata": {},
   "outputs": [],
   "source": [
    "global_var"
   ]
  },
  {
   "cell_type": "markdown",
   "metadata": {},
   "source": [
    "O efeito dessas regras é que as variáveis externas podem ser acessíveis dentro de escopos internos, desde que queiramos apenas acessar os objetos a que essas variáveis se referenciam, mas sem atribuir novos objetos a essas variáveis.\n",
    "\n",
    "Se quisermos mudar o objeto referenciado por uma variável externa, devemos declarar isso explicitamente usando a palavra-chave `global` (para acesso a variáveis globais):"
   ]
  },
  {
   "cell_type": "code",
   "execution_count": null,
   "metadata": {},
   "outputs": [],
   "source": [
    "global_var = 10\n",
    "def f(par1, par2):\n",
    "    global global_var\n",
    "    local_var = 12\n",
    "    global_var = 8\n",
    "    return par1 + par2 - global_var + local_var"
   ]
  },
  {
   "cell_type": "markdown",
   "metadata": {},
   "source": [
    "Neste caso, qualquer alteraço do objeto associado a `variavel_global` feita dentro de `f` será refletida na variável global:"
   ]
  },
  {
   "cell_type": "code",
   "execution_count": null,
   "metadata": {},
   "outputs": [],
   "source": [
    "f(2, 3)"
   ]
  },
  {
   "cell_type": "code",
   "execution_count": null,
   "metadata": {},
   "outputs": [],
   "source": [
    "global_var"
   ]
  },
  {
   "cell_type": "markdown",
   "metadata": {},
   "source": [
    "Mas não se confunda: sem o uso de `global`, não podemos **mudar o objeto** a que a variável global se referencia, mas podemos, se o objeto for de um tipo mutável, **alterar seu valor**:"
   ]
  },
  {
   "cell_type": "code",
   "execution_count": null,
   "metadata": {},
   "outputs": [],
   "source": [
    "my_list = []\n",
    "def damage_my_list(x):\n",
    "    my_list.append(x)"
   ]
  },
  {
   "cell_type": "markdown",
   "metadata": {},
   "source": [
    "Ao executar essa função, adicionamos um elemento à lista referenciada pela variável global `my_list`, mudando portanto seu valor."
   ]
  },
  {
   "cell_type": "code",
   "execution_count": null,
   "metadata": {},
   "outputs": [],
   "source": [
    "damage_my_list(2)\n",
    "my_list"
   ]
  },
  {
   "cell_type": "code",
   "execution_count": null,
   "metadata": {},
   "outputs": [],
   "source": [
    "damage_my_list(3)\n",
    "my_list"
   ]
  },
  {
   "cell_type": "markdown",
   "metadata": {},
   "source": [
    "Quando uma nova variável é declarada em escopo mais interno com o mesmo nome de uma variável existente em escopo externo, ela \"esconde\" a variável externa."
   ]
  },
  {
   "cell_type": "code",
   "execution_count": null,
   "metadata": {},
   "outputs": [],
   "source": [
    "x = 1\n",
    "def f():\n",
    "    x = 2\n",
    "    def g():\n",
    "        x = 3\n",
    "        def h():\n",
    "            print('x in h:', x)\n",
    "        h()\n",
    "        print('x in g:', x)\n",
    "    g()\n",
    "    print('x in f:', x)\n",
    "print('x outside:', x)"
   ]
  },
  {
   "cell_type": "code",
   "execution_count": null,
   "metadata": {},
   "outputs": [],
   "source": [
    "f()"
   ]
  },
  {
   "cell_type": "markdown",
   "metadata": {},
   "source": [
    "Se quisermos nos referir em um escopo mais interno a uma variável de **escopo local** mais externo, devemos usar a palavra-chave `nonlocal`, que tem efeito similar, para esses casos, ao que `global` faz para variáveis globais."
   ]
  },
  {
   "cell_type": "code",
   "execution_count": null,
   "metadata": {},
   "outputs": [],
   "source": [
    "def f():\n",
    "    x = 2\n",
    "    def g():\n",
    "        nonlocal x\n",
    "        x = 3\n",
    "        print('x in g:', x)\n",
    "    print('x in f (before g):', x)\n",
    "    g()\n",
    "    print('x in f (after g):', x)"
   ]
  },
  {
   "cell_type": "code",
   "execution_count": null,
   "metadata": {},
   "outputs": [],
   "source": [
    "f()"
   ]
  },
  {
   "cell_type": "markdown",
   "metadata": {},
   "source": [
    "## 2. Closures"
   ]
  },
  {
   "cell_type": "markdown",
   "metadata": {},
   "source": [
    "Uma característica interessante de funções em Python é que elas podem **guardar informações sobre o ambiente onde foram definidas**. Assim, se uma função `g` é definida dentro de outra função `f`, `g` pode guardar referência para os objetos locais de `f` de quando ela foi definida.\n",
    "\n",
    "O termo técnico para isso é **closure**.\n",
    "\n",
    "Como funções são objetos, elas podem ser retornadas por outra funções. Por exemplo, no código abaixo, a função `f`, quando chamada, retorna uma *closure* que lembra o objeto `x` usado em sua definição:"
   ]
  },
  {
   "cell_type": "code",
   "execution_count": null,
   "metadata": {},
   "outputs": [],
   "source": [
    "def f(x):\n",
    "    def g(y):\n",
    "        return x + y\n",
    "    return g"
   ]
  },
  {
   "cell_type": "code",
   "execution_count": null,
   "metadata": {},
   "outputs": [],
   "source": [
    "a = f(2)"
   ]
  },
  {
   "cell_type": "markdown",
   "metadata": {},
   "source": [
    "Note que agora `a` é uma função:"
   ]
  },
  {
   "cell_type": "code",
   "execution_count": null,
   "metadata": {},
   "outputs": [],
   "source": [
    "a"
   ]
  },
  {
   "cell_type": "markdown",
   "metadata": {},
   "source": [
    "Podemos usá-la então passando o parâmetro que ela precisa:"
   ]
  },
  {
   "cell_type": "code",
   "execution_count": null,
   "metadata": {},
   "outputs": [],
   "source": [
    "a(1)"
   ]
  },
  {
   "cell_type": "markdown",
   "metadata": {},
   "source": [
    "O resultado aqui foi 3, pois a função `a` soma ao valor passado para ela o valor 2, que foi passado a `f` para a criação de `a`."
   ]
  },
  {
   "cell_type": "code",
   "execution_count": null,
   "metadata": {},
   "outputs": [],
   "source": [
    "b = f(5)\n",
    "b(1)"
   ]
  },
  {
   "cell_type": "code",
   "execution_count": null,
   "metadata": {},
   "outputs": [],
   "source": [
    "a(1)"
   ]
  },
  {
   "cell_type": "markdown",
   "metadata": {},
   "source": [
    "Abaixo uma função que \"memoriza\" uma lista de números passados em execuções sucessivas:"
   ]
  },
  {
   "cell_type": "code",
   "execution_count": null,
   "metadata": {},
   "outputs": [],
   "source": [
    "def f(used):\n",
    "    def g(x):\n",
    "        used.append(x)\n",
    "        print('Used until now:', used)\n",
    "        return len(used)\n",
    "    return g"
   ]
  },
  {
   "cell_type": "code",
   "execution_count": null,
   "metadata": {},
   "outputs": [],
   "source": [
    "a = f([])"
   ]
  },
  {
   "cell_type": "code",
   "execution_count": null,
   "metadata": {},
   "outputs": [],
   "source": [
    "a(1)"
   ]
  },
  {
   "cell_type": "code",
   "execution_count": null,
   "metadata": {},
   "outputs": [],
   "source": [
    "a(2)"
   ]
  },
  {
   "cell_type": "code",
   "execution_count": null,
   "metadata": {},
   "outputs": [],
   "source": [
    "a(0)"
   ]
  },
  {
   "cell_type": "code",
   "execution_count": null,
   "metadata": {},
   "outputs": [],
   "source": [
    "b = f([])\n",
    "b(10)\n",
    "b(20)\n",
    "b(30)"
   ]
  },
  {
   "cell_type": "code",
   "execution_count": null,
   "metadata": {},
   "outputs": [],
   "source": [
    "a(4)"
   ]
  },
  {
   "cell_type": "markdown",
   "metadata": {},
   "source": [
    "Função são objetos como quaisquer outros, e portanto também podem ser passadas como parâmetro para outras funções, criando o que são chamadas **funções de mais alto nível**."
   ]
  },
  {
   "cell_type": "code",
   "execution_count": null,
   "metadata": {},
   "outputs": [],
   "source": [
    "def f(x):\n",
    "    print('Running f with', x)\n",
    "    return x ** 2 - 1\n",
    "\n",
    "def g(x):\n",
    "    print('Running g with', x)\n",
    "    return x ** 3 + 1\n",
    "\n",
    "def h(func, y):\n",
    "    print('Running h with', func.__name__, 'and', y)\n",
    "    return 5 * func(y)"
   ]
  },
  {
   "cell_type": "code",
   "execution_count": null,
   "metadata": {},
   "outputs": [],
   "source": [
    "h(f, 2)"
   ]
  },
  {
   "cell_type": "code",
   "execution_count": null,
   "metadata": {},
   "outputs": [],
   "source": [
    "h(g, 2)"
   ]
  },
  {
   "cell_type": "markdown",
   "metadata": {},
   "source": [
    "Agora um exemplo recebendo e retornando uma função:"
   ]
  },
  {
   "cell_type": "code",
   "execution_count": null,
   "metadata": {},
   "outputs": [],
   "source": [
    "def loudify(func):\n",
    "    def loud_func(x):\n",
    "        print('I will call', func.__name__, 'with', x)\n",
    "        result = func(x)\n",
    "        print('I did it, and the result is', result)\n",
    "        return result\n",
    "    return loud_func"
   ]
  },
  {
   "cell_type": "code",
   "execution_count": null,
   "metadata": {},
   "outputs": [],
   "source": [
    "loud_f = loudify(f)"
   ]
  },
  {
   "cell_type": "code",
   "execution_count": null,
   "metadata": {},
   "outputs": [],
   "source": [
    "f(3)"
   ]
  },
  {
   "cell_type": "code",
   "execution_count": null,
   "metadata": {},
   "outputs": [],
   "source": [
    "loud_f(3)"
   ]
  },
  {
   "cell_type": "code",
   "execution_count": null,
   "metadata": {},
   "outputs": [],
   "source": [
    "loud_g = loudify(g)"
   ]
  },
  {
   "cell_type": "code",
   "execution_count": null,
   "metadata": {},
   "outputs": [],
   "source": [
    "print(g(3))"
   ]
  },
  {
   "cell_type": "code",
   "execution_count": null,
   "metadata": {},
   "outputs": [],
   "source": [
    "print(loud_g(3))"
   ]
  },
  {
   "cell_type": "markdown",
   "metadata": {},
   "source": [
    "Esse tipo de técnica para alterar o comportamento de uma função é bastante usada nos chamados **decoradores**, que vamos estudar futuramente.\n",
    "\n",
    "Os conceitos de passagem de funções como parâmetros, retorno de funções e closures são bastante usados numa técnica de programação conhecida como **programação funcional**."
   ]
  },
  {
   "cell_type": "markdown",
   "metadata": {},
   "source": [
    "# Exercícios"
   ]
  },
  {
   "cell_type": "markdown",
   "metadata": {},
   "source": [
    "## Escopo"
   ]
  },
  {
   "cell_type": "markdown",
   "metadata": {},
   "source": [
    "Qual o resultado da execução dos seguintes códigos?\n",
    "1. \n",
    "```python\n",
    "x = 1\n",
    "\n",
    "def f():\n",
    "    x = 2\n",
    "    print(x)\n",
    "\n",
    "f()\n",
    "print(x)\n",
    "```\n",
    "\n",
    "2. \n",
    "```python\n",
    "x = 1\n",
    "\n",
    "def g(x):\n",
    "    print(x)\n",
    "    x = 2\n",
    "    print(x)\n",
    "\n",
    "g(x)\n",
    "print(x)\n",
    "```\n",
    "\n",
    "3. \n",
    "```python\n",
    "x = 1\n",
    "\n",
    "def h():\n",
    "    global x\n",
    "    x = 2\n",
    "    print(x)\n",
    "\n",
    "h()\n",
    "print(x)\n",
    "```\n",
    "\n",
    "4. \n",
    "```python\n",
    "x = 1\n",
    "\n",
    "def f():\n",
    "    x = 2\n",
    "    def g():\n",
    "        x = 3\n",
    "        print(x)\n",
    "    g()\n",
    "    print(x)\n",
    "\n",
    "f()\n",
    "print(x)\n",
    "```\n",
    "\n",
    "5. \n",
    "```python\n",
    "x = 1\n",
    "\n",
    "def f():\n",
    "    global x = 2\n",
    "    def g():\n",
    "        x = 3\n",
    "        print(x)\n",
    "    g()\n",
    "    print(x)\n",
    "\n",
    "f()\n",
    "print(x)\n",
    "```\n",
    "\n",
    "6. \n",
    "```python\n",
    "x = 1\n",
    "\n",
    "def f():\n",
    "    x = 2\n",
    "    def g():\n",
    "        global x = 3\n",
    "        print(x)\n",
    "    g()\n",
    "    print(x)\n",
    "\n",
    "f()\n",
    "print(x)\n",
    "```\n",
    "\n",
    "7. \n",
    "```python\n",
    "x = 1\n",
    "\n",
    "def f():\n",
    "    x = 2\n",
    "    def g():\n",
    "        nonlocal x = 3\n",
    "        print(x)\n",
    "    g()\n",
    "    print(x)\n",
    "\n",
    "f()\n",
    "print(x)\n",
    "```"
   ]
  },
  {
   "cell_type": "markdown",
   "metadata": {},
   "source": [
    "## Closures"
   ]
  },
  {
   "cell_type": "markdown",
   "metadata": {},
   "source": [
    "1. Qual a saída produzida pelo seguinte código:\n",
    "```python\n",
    "def up(n):\n",
    "    def f(x):\n",
    "        return x + n\n",
    "    return f\n",
    "\n",
    "def times(n):\n",
    "    def f(x):\n",
    "        return x * n\n",
    "    return f\n",
    "\n",
    "a = up(2)\n",
    "b = times(3)\n",
    "print(a(b(10)))\n",
    "```"
   ]
  },
  {
   "cell_type": "markdown",
   "metadata": {},
   "source": [
    "2. Defina uma função decorate(s1, s2) que recebe duas cadeias s1 e s2 e retorna uma função que, quando recebe uma cadeia qualquer s, retorna a cadeia composta s1+s+s2. Por exemplo:\n",
    "```python\n",
    "inparenthesis = decorate('(', ')')\n",
    "print(inparenthesis('sometimes'))\n",
    "```\n",
    "    imprimiria `(sometimes)`, enquanto\n",
    "```python\n",
    "inbraces = decorate('{', '}')\n",
    "print(inbraces('not always'))\n",
    "```\n",
    "    imprimiria `{not always}`."
   ]
  }
 ],
 "metadata": {
  "kernelspec": {
   "display_name": "Python 3 (ipykernel)",
   "language": "python",
   "name": "python3"
  },
  "language_info": {
   "codemirror_mode": {
    "name": "ipython",
    "version": 3
   },
   "file_extension": ".py",
   "mimetype": "text/x-python",
   "name": "python",
   "nbconvert_exporter": "python",
   "pygments_lexer": "ipython3",
   "version": "3.10.7"
  }
 },
 "nbformat": 4,
 "nbformat_minor": 4
}
