{
 "cells": [
  {
   "cell_type": "markdown",
   "metadata": {
    "ein.tags": [
     "worksheet-0"
    ]
   },
   "source": [
    "# Mais sobre atribuições"
   ]
  },
  {
   "cell_type": "markdown",
   "metadata": {},
   "source": [
    "## 1. Operadores da atualização"
   ]
  },
  {
   "cell_type": "markdown",
   "metadata": {},
   "source": [
    "O Python coloca à disposição um conjunto de operadores que eu denomino de *operadores de atualização*, que servem para alterar o valor referenciado por uma variável através do uso de um operador.\n",
    "\n",
    "Eles têm uma sintaxe da forma `@=`, onde `@` precisa ser substituido pelo operador que queremos usar para a atualização, e a semântica é a seguinte: `a @= b` tem o mesmo significado que `a = a @ b` (com isso queremos dizer que o resultado das duas operações é o mesmo, mas a versão `@=` pode ser mais eficiente em alguns casos).\n",
    "\n",
    "Por exemplo, podemos fazer isso com operadores aritméticos:"
   ]
  },
  {
   "cell_type": "code",
   "execution_count": null,
   "metadata": {},
   "outputs": [],
   "source": [
    "a = 11\n",
    "b = 3\n",
    "print('a=', a, 'b=', b)\n",
    "a += b # O mesmo que a = a + b\n",
    "print('a=', a, 'b=', b)\n",
    "a *= b # O mesmo que a = a * b\n",
    "print('a=', a, 'b=', b)\n",
    "a -= b # etc...\n",
    "print('a=', a, 'b=', b)\n",
    "a //= b\n",
    "print('a=', a, 'b=', b)\n",
    "a %= b\n",
    "print('a=', a, 'b=', b)\n",
    "a /= b\n",
    "print('a=', a, 'b=', b)\n",
    "a **= b\n",
    "print('a=', a, 'b=', b)"
   ]
  },
  {
   "cell_type": "markdown",
   "metadata": {},
   "source": [
    "Também podemos fazer isso com os operadores bit a bit:"
   ]
  },
  {
   "cell_type": "code",
   "execution_count": null,
   "metadata": {},
   "outputs": [],
   "source": [
    "a = 0b1100\n",
    "b = 0b1010\n",
    "print('a=', bin(a), 'b=', bin(b))\n",
    "a ^= b\n",
    "print('a=', bin(a), 'b=', bin(b))\n",
    "a &= b\n",
    "print('a=', bin(a), 'b=', bin(b))\n",
    "a |= b\n",
    "print('a=', bin(a), 'b=', bin(b))\n",
    "a <<= 2\n",
    "print('a=', bin(a), 'b=', bin(b))\n",
    "a >>= 3\n",
    "print('a=', bin(a), 'b=', bin(b))"
   ]
  },
  {
   "cell_type": "code",
   "execution_count": null,
   "metadata": {},
   "outputs": [],
   "source": [
    "s = 'Hip'\n",
    "s *= 3"
   ]
  },
  {
   "cell_type": "code",
   "execution_count": null,
   "metadata": {},
   "outputs": [],
   "source": [
    "s"
   ]
  },
  {
   "cell_type": "markdown",
   "metadata": {},
   "source": [
    "## 2. Atribuições múltiplas"
   ]
  },
  {
   "cell_type": "markdown",
   "metadata": {
    "ein.tags": [
     "worksheet-0"
    ]
   },
   "source": [
    "Atribuições são bastante versáteis em Python. Podemos usar uma sintaxe de tuplas para atribuir a múltiplas variáveis de uma vez."
   ]
  },
  {
   "cell_type": "code",
   "execution_count": null,
   "metadata": {
    "autoscroll": "json-false",
    "collapsed": false,
    "ein.tags": [
     "worksheet-0"
    ],
    "jupyter": {
     "outputs_hidden": false
    }
   },
   "outputs": [],
   "source": [
    "a, b = 1, 3"
   ]
  },
  {
   "cell_type": "code",
   "execution_count": null,
   "metadata": {
    "autoscroll": "json-false",
    "collapsed": false,
    "ein.tags": [
     "worksheet-0"
    ],
    "jupyter": {
     "outputs_hidden": false
    }
   },
   "outputs": [],
   "source": [
    "a"
   ]
  },
  {
   "cell_type": "code",
   "execution_count": null,
   "metadata": {
    "autoscroll": "json-false",
    "collapsed": false,
    "ein.tags": [
     "worksheet-0"
    ],
    "jupyter": {
     "outputs_hidden": false
    }
   },
   "outputs": [],
   "source": [
    "b"
   ]
  },
  {
   "cell_type": "code",
   "execution_count": null,
   "metadata": {
    "autoscroll": "json-false",
    "collapsed": false,
    "ein.tags": [
     "worksheet-0"
    ],
    "jupyter": {
     "outputs_hidden": false
    }
   },
   "outputs": [],
   "source": [
    "a, b, c, d = 10, 20, 30, 40"
   ]
  },
  {
   "cell_type": "markdown",
   "metadata": {
    "ein.tags": [
     "worksheet-0"
    ]
   },
   "source": [
    "O número de valores atribuídos deve ser igual ao número de variáveis."
   ]
  },
  {
   "cell_type": "code",
   "execution_count": null,
   "metadata": {
    "autoscroll": "json-false",
    "collapsed": false,
    "ein.tags": [
     "worksheet-0"
    ],
    "jupyter": {
     "outputs_hidden": false
    }
   },
   "outputs": [],
   "source": [
    "a, b, c, d = 1, 2, 3"
   ]
  },
  {
   "cell_type": "markdown",
   "metadata": {
    "ein.tags": [
     "worksheet-0"
    ]
   },
   "source": [
    "A sintaxe funciona não apenas com tuplas, mas também com listas."
   ]
  },
  {
   "cell_type": "code",
   "execution_count": null,
   "metadata": {
    "autoscroll": "json-false",
    "collapsed": false,
    "ein.tags": [
     "worksheet-0"
    ],
    "jupyter": {
     "outputs_hidden": false
    }
   },
   "outputs": [],
   "source": [
    "[e, f, g] = [4, 5, 6]"
   ]
  },
  {
   "cell_type": "code",
   "execution_count": null,
   "metadata": {
    "autoscroll": "json-false",
    "collapsed": false,
    "ein.tags": [
     "worksheet-0"
    ],
    "jupyter": {
     "outputs_hidden": false
    }
   },
   "outputs": [],
   "source": [
    "e"
   ]
  },
  {
   "cell_type": "code",
   "execution_count": null,
   "metadata": {
    "autoscroll": "json-false",
    "collapsed": false,
    "ein.tags": [
     "worksheet-0"
    ],
    "jupyter": {
     "outputs_hidden": false
    }
   },
   "outputs": [],
   "source": [
    "f"
   ]
  },
  {
   "cell_type": "code",
   "execution_count": null,
   "metadata": {
    "autoscroll": "json-false",
    "collapsed": false,
    "ein.tags": [
     "worksheet-0"
    ],
    "jupyter": {
     "outputs_hidden": false
    }
   },
   "outputs": [],
   "source": [
    "g"
   ]
  },
  {
   "cell_type": "markdown",
   "metadata": {
    "ein.tags": [
     "worksheet-0"
    ]
   },
   "source": [
    "Podemos também misturar tuplas e listas. Desde que o número de elementos seja correto."
   ]
  },
  {
   "cell_type": "code",
   "execution_count": null,
   "metadata": {
    "autoscroll": "json-false",
    "collapsed": false,
    "ein.tags": [
     "worksheet-0"
    ],
    "jupyter": {
     "outputs_hidden": false
    }
   },
   "outputs": [],
   "source": [
    "a, b, c = [1, 2, 3]"
   ]
  },
  {
   "cell_type": "code",
   "execution_count": null,
   "metadata": {
    "autoscroll": "json-false",
    "collapsed": false,
    "ein.tags": [
     "worksheet-0"
    ],
    "jupyter": {
     "outputs_hidden": false
    }
   },
   "outputs": [],
   "source": [
    "[a, b, c] = (1, 2, 3)"
   ]
  },
  {
   "cell_type": "markdown",
   "metadata": {
    "ein.tags": [
     "worksheet-0"
    ]
   },
   "source": [
    "Estruturas aninhadas (tuplas dentro de tuplas, listas dentro de listas, ou misturas) também são possíveis. Cada estrutura aninhada é um elemento."
   ]
  },
  {
   "cell_type": "code",
   "execution_count": null,
   "metadata": {
    "autoscroll": "json-false",
    "collapsed": false,
    "ein.tags": [
     "worksheet-0"
    ],
    "jupyter": {
     "outputs_hidden": false
    }
   },
   "outputs": [],
   "source": [
    "((a, b), c) = ((-1, -2), -3)"
   ]
  },
  {
   "cell_type": "code",
   "execution_count": null,
   "metadata": {
    "autoscroll": "json-false",
    "collapsed": false,
    "ein.tags": [
     "worksheet-0"
    ],
    "jupyter": {
     "outputs_hidden": false
    }
   },
   "outputs": [],
   "source": [
    "a, b, c"
   ]
  },
  {
   "cell_type": "markdown",
   "metadata": {
    "ein.tags": [
     "worksheet-0"
    ]
   },
   "source": [
    "A estrutura tem que ser similar dos dois lados."
   ]
  },
  {
   "cell_type": "code",
   "execution_count": null,
   "metadata": {
    "autoscroll": "json-false",
    "collapsed": false,
    "ein.tags": [
     "worksheet-0"
    ],
    "jupyter": {
     "outputs_hidden": false
    }
   },
   "outputs": [],
   "source": [
    "((a, b), c) = (1, (2, 3))"
   ]
  },
  {
   "cell_type": "markdown",
   "metadata": {},
   "source": [
    "### 2.1. Ordem de execução"
   ]
  },
  {
   "cell_type": "markdown",
   "metadata": {},
   "source": [
    "Na atribuição múltipla, é importante notar que **todas os cálculos de expressão no lado direito são realizados antes de qualquer atribuição a variáveis do lado esquerdo**.\n",
    "\n",
    "Isso é bastante conveniente."
   ]
  },
  {
   "cell_type": "code",
   "execution_count": null,
   "metadata": {},
   "outputs": [],
   "source": [
    "a = 10\n",
    "b = 7\n",
    "\n",
    "a, b = a + b, a - b\n",
    "print('a =', a, 'b =', b)"
   ]
  },
  {
   "cell_type": "markdown",
   "metadata": {},
   "source": [
    "Note como primeiro foram calculados `a+b` e `a-b` com os valores correntes de `a` de `b`, e só depois novos valores foram atribuídos às variáveis.\n",
    "\n",
    "Isso signfica que podemos trocar o valor de duas variáveis em uma única atribuição:"
   ]
  },
  {
   "cell_type": "code",
   "execution_count": null,
   "metadata": {},
   "outputs": [],
   "source": [
    "a = 10\n",
    "b = 7\n",
    "print('a =', a, 'b =', b)\n",
    "a, b = b, a\n",
    "print('a =', a, 'b =', b)"
   ]
  },
  {
   "cell_type": "code",
   "execution_count": null,
   "metadata": {},
   "outputs": [],
   "source": [
    "a, b, c = 1, 2, 3\n",
    "b, c, a = a, b, c\n",
    "(a, b, c)"
   ]
  },
  {
   "cell_type": "markdown",
   "metadata": {},
   "source": [
    "### 2.2. Coleta de restante"
   ]
  },
  {
   "cell_type": "markdown",
   "metadata": {
    "ein.tags": [
     "worksheet-0"
    ]
   },
   "source": [
    "Também existe uma forma de separar uma parte e coletar o resto em uma variável, como uma lista (com o uso de um asterisco)."
   ]
  },
  {
   "cell_type": "code",
   "execution_count": null,
   "metadata": {
    "autoscroll": "json-false",
    "collapsed": false,
    "ein.tags": [
     "worksheet-0"
    ],
    "jupyter": {
     "outputs_hidden": false
    }
   },
   "outputs": [],
   "source": [
    "primeiro, *resto = [1, 2, 3, 4, 5, 6]"
   ]
  },
  {
   "cell_type": "code",
   "execution_count": null,
   "metadata": {
    "autoscroll": "json-false",
    "collapsed": false,
    "ein.tags": [
     "worksheet-0"
    ],
    "jupyter": {
     "outputs_hidden": false
    }
   },
   "outputs": [],
   "source": [
    "primeiro"
   ]
  },
  {
   "cell_type": "code",
   "execution_count": null,
   "metadata": {
    "autoscroll": "json-false",
    "collapsed": false,
    "ein.tags": [
     "worksheet-0"
    ],
    "jupyter": {
     "outputs_hidden": false
    }
   },
   "outputs": [],
   "source": [
    "resto"
   ]
  },
  {
   "cell_type": "code",
   "execution_count": null,
   "metadata": {
    "autoscroll": "json-false",
    "collapsed": false,
    "ein.tags": [
     "worksheet-0"
    ],
    "jupyter": {
     "outputs_hidden": false
    }
   },
   "outputs": [],
   "source": [
    "primeiro, *resto = (1, 2, 3, 4)"
   ]
  },
  {
   "cell_type": "code",
   "execution_count": null,
   "metadata": {
    "autoscroll": "json-false",
    "collapsed": false,
    "ein.tags": [
     "worksheet-0"
    ],
    "jupyter": {
     "outputs_hidden": false
    }
   },
   "outputs": [],
   "source": [
    "primeiro"
   ]
  },
  {
   "cell_type": "code",
   "execution_count": null,
   "metadata": {
    "autoscroll": "json-false",
    "collapsed": false,
    "ein.tags": [
     "worksheet-0"
    ],
    "jupyter": {
     "outputs_hidden": false
    }
   },
   "outputs": [],
   "source": [
    "resto"
   ]
  },
  {
   "cell_type": "code",
   "execution_count": null,
   "metadata": {},
   "outputs": [],
   "source": [
    "primeiro, segundo, *resto = (1, 2, 3, 4, 5, 6)\n",
    "primeiro, segundo, resto"
   ]
  },
  {
   "cell_type": "markdown",
   "metadata": {
    "ein.tags": [
     "worksheet-0"
    ]
   },
   "source": [
    "Python lida corretamente com casos especiais."
   ]
  },
  {
   "cell_type": "code",
   "execution_count": null,
   "metadata": {
    "autoscroll": "json-false",
    "collapsed": false,
    "ein.tags": [
     "worksheet-0"
    ],
    "jupyter": {
     "outputs_hidden": false
    }
   },
   "outputs": [],
   "source": [
    "primeiro, *resto = (1,)"
   ]
  },
  {
   "cell_type": "code",
   "execution_count": null,
   "metadata": {
    "autoscroll": "json-false",
    "collapsed": false,
    "ein.tags": [
     "worksheet-0"
    ],
    "jupyter": {
     "outputs_hidden": false
    }
   },
   "outputs": [],
   "source": [
    "primeiro"
   ]
  },
  {
   "cell_type": "code",
   "execution_count": null,
   "metadata": {
    "autoscroll": "json-false",
    "collapsed": false,
    "ein.tags": [
     "worksheet-0"
    ],
    "jupyter": {
     "outputs_hidden": false
    }
   },
   "outputs": [],
   "source": [
    "resto"
   ]
  },
  {
   "cell_type": "markdown",
   "metadata": {
    "ein.tags": [
     "worksheet-0"
    ]
   },
   "source": [
    "O Python também permite coletar elementos no final ou no começo."
   ]
  },
  {
   "cell_type": "code",
   "execution_count": null,
   "metadata": {
    "autoscroll": "json-false",
    "collapsed": false,
    "ein.tags": [
     "worksheet-0"
    ],
    "jupyter": {
     "outputs_hidden": false
    }
   },
   "outputs": [],
   "source": [
    "*resto, ultimo = [1, 2, 3, 4, 5]"
   ]
  },
  {
   "cell_type": "code",
   "execution_count": null,
   "metadata": {
    "autoscroll": "json-false",
    "collapsed": false,
    "ein.tags": [
     "worksheet-0"
    ],
    "jupyter": {
     "outputs_hidden": false
    }
   },
   "outputs": [],
   "source": [
    "ultimo"
   ]
  },
  {
   "cell_type": "code",
   "execution_count": null,
   "metadata": {
    "autoscroll": "json-false",
    "collapsed": false,
    "ein.tags": [
     "worksheet-0"
    ],
    "jupyter": {
     "outputs_hidden": false
    }
   },
   "outputs": [],
   "source": [
    "resto"
   ]
  },
  {
   "cell_type": "markdown",
   "metadata": {
    "ein.tags": [
     "worksheet-0"
    ]
   },
   "source": [
    "Ou mesmo no meio..."
   ]
  },
  {
   "cell_type": "code",
   "execution_count": null,
   "metadata": {
    "autoscroll": "json-false",
    "collapsed": false,
    "ein.tags": [
     "worksheet-0"
    ],
    "jupyter": {
     "outputs_hidden": false
    }
   },
   "outputs": [],
   "source": [
    "primeiro, *resto, ultimo = [1, 2, 3, 4, 5]"
   ]
  },
  {
   "cell_type": "code",
   "execution_count": null,
   "metadata": {
    "autoscroll": "json-false",
    "collapsed": false,
    "ein.tags": [
     "worksheet-0"
    ],
    "jupyter": {
     "outputs_hidden": false
    }
   },
   "outputs": [],
   "source": [
    "primeiro"
   ]
  },
  {
   "cell_type": "code",
   "execution_count": null,
   "metadata": {
    "autoscroll": "json-false",
    "collapsed": false,
    "ein.tags": [
     "worksheet-0"
    ],
    "jupyter": {
     "outputs_hidden": false
    }
   },
   "outputs": [],
   "source": [
    "ultimo"
   ]
  },
  {
   "cell_type": "code",
   "execution_count": null,
   "metadata": {
    "autoscroll": "json-false",
    "collapsed": false,
    "ein.tags": [
     "worksheet-0"
    ],
    "jupyter": {
     "outputs_hidden": false
    }
   },
   "outputs": [],
   "source": [
    "resto"
   ]
  },
  {
   "cell_type": "markdown",
   "metadata": {},
   "source": [
    "### 3. O operador \"morsa\" (*walrus*)"
   ]
  },
  {
   "cell_type": "markdown",
   "metadata": {},
   "source": [
    "Uma outra forma de operador de atribuição é o chamado *walrus operator* (operador morsa), `:=`, que tem esse nome por semelhança gráfica.\n",
    "\n",
    "A diferença é que o operador `:=` é uma **expressão**, isto é, algo que tem um valor.\n",
    "\n",
    "Isto não acontece com o operador de atribuição normal `=`:"
   ]
  },
  {
   "cell_type": "code",
   "execution_count": null,
   "metadata": {},
   "outputs": [],
   "source": [
    "a = 2"
   ]
  },
  {
   "cell_type": "markdown",
   "metadata": {},
   "source": [
    "Note como nada é impresso ao executar essa célula, pois não existe nenhum valor resultante, ao contrário de quanto usamos uma expressão:"
   ]
  },
  {
   "cell_type": "code",
   "execution_count": null,
   "metadata": {},
   "outputs": [],
   "source": [
    "2 + 3"
   ]
  },
  {
   "cell_type": "markdown",
   "metadata": {},
   "source": [
    "O operador `:=` é uma expressão que tem como resultado o valor do objeto atribuído:"
   ]
  },
  {
   "cell_type": "code",
   "execution_count": null,
   "metadata": {},
   "outputs": [],
   "source": [
    "(a := 2)"
   ]
  },
  {
   "cell_type": "markdown",
   "metadata": {},
   "source": [
    "Esse operador deve ser usado apenas quando necessário, e por essa razão o Python desencoraja seu uso quando desnecessário. Por exemplo, o seguinte é um erro:"
   ]
  },
  {
   "cell_type": "code",
   "execution_count": null,
   "metadata": {},
   "outputs": [],
   "source": [
    "a := 2"
   ]
  },
  {
   "cell_type": "markdown",
   "metadata": {},
   "source": [
    "Pois neste caso não há razão especial para não usar o operador `=`.\n",
    "\n",
    "A utilidade desse operador ocorre quando queremos simultaneamente fazer uma atribuição e usar o valor atribuído.\n",
    "\n",
    "Por exemplo, se temos dois pontos em espaço bidimensional representados por duas tuplas:"
   ]
  },
  {
   "cell_type": "code",
   "execution_count": null,
   "metadata": {},
   "outputs": [],
   "source": [
    "p1 = (2, 5)\n",
    "p2 = (6, 2)"
   ]
  },
  {
   "cell_type": "markdown",
   "metadata": {},
   "source": [
    "e queremos calcular as diferenças, em x, em y e a disância, podemos fazer isso por partes:"
   ]
  },
  {
   "cell_type": "code",
   "execution_count": null,
   "metadata": {},
   "outputs": [],
   "source": [
    "import math\n",
    "dx = p2[0] - p1[0]\n",
    "dy = p2[1] - p1[1]\n",
    "dist = math.hypot(dx, dy)\n",
    "print(dist, dx, dy)"
   ]
  },
  {
   "cell_type": "markdown",
   "metadata": {},
   "source": [
    "Ou então podemos fazer tudo em uma única expressão usando `:=`:"
   ]
  },
  {
   "cell_type": "code",
   "execution_count": null,
   "metadata": {},
   "outputs": [],
   "source": [
    "dist = math.hypot(dx := p2[0] - p1[0], dy := p2[1] - p1[1])\n",
    "print(dist, dx, dy)"
   ]
  },
  {
   "cell_type": "markdown",
   "metadata": {},
   "source": [
    "Note como as diferenças em cada direção são calculadas, o valor guardado nas variáveis `dx` e `dy` e também passado como argumento para a função `hypot`.\n",
    "\n",
    "Neste exemplo, eu argumentaria que o uso de `:=` é na verdade prejudicial, pois a compreensão do código fica mais difícil do que na versão anterior sem `:=`.\n",
    "\n",
    "Em alguma situações, entretando, esse operador é muito útil. Veja o código abaixo, onde queremos ler um reposta do usário se o programa deve prosseguir ou não:"
   ]
  },
  {
   "cell_type": "code",
   "execution_count": null,
   "metadata": {},
   "outputs": [],
   "source": [
    "response = input('Do you want to continue (yes or no)?')\n",
    "while response != 'yes' and response != 'no':\n",
    "    print('Please, answer yes or no.')\n",
    "    response = input('Do you want to continue (yes or no)?')\n",
    "\n",
    "if response == 'yes':\n",
    "    print('Continuing')\n",
    "else:\n",
    "    print('Bye')"
   ]
  },
  {
   "cell_type": "markdown",
   "metadata": {},
   "source": [
    "Note como precisamos colocar duas vezes a leitura da entrada com a pergunta no código. Podemos evitar isso reescrevendo um pouco:"
   ]
  },
  {
   "cell_type": "code",
   "execution_count": null,
   "metadata": {},
   "outputs": [],
   "source": [
    "while True:\n",
    "    response = input('Do you want to continue (yes or no)?')\n",
    "    if response == 'yes' or response == 'no':\n",
    "        break\n",
    "    print('Please, answer yes or no.')\n",
    "\n",
    "if response == 'yes':\n",
    "    print('Continuing')\n",
    "else:\n",
    "    print('Bye')"
   ]
  },
  {
   "cell_type": "markdown",
   "metadata": {},
   "source": [
    "Mas isso também é insatisfatório. Podemos resolver esse problema e criar um código mais simples e mais fácil de entender usando `:=`:"
   ]
  },
  {
   "cell_type": "code",
   "execution_count": null,
   "metadata": {},
   "outputs": [],
   "source": [
    "while ((response := input('Do you want to continue (yes or no)?')) != 'yes' \n",
    "       and response != 'no'):\n",
    "    print('Please, answer yes or no.')\n",
    "\n",
    "if response == 'yes':\n",
    "    print('Continuing')\n",
    "else:\n",
    "    print('Bye')"
   ]
  },
  {
   "cell_type": "markdown",
   "metadata": {
    "tags": []
   },
   "source": [
    "# Exercícios"
   ]
  },
  {
   "cell_type": "markdown",
   "metadata": {},
   "source": [
    "Qual a saída produzida por cada um dos seguintes códigos:\n",
    "\n",
    "1. \n",
    "```python\n",
    "a = 3\n",
    "b = 5\n",
    "a += 10\n",
    "b //= 2\n",
    "print(a, b)\n",
    "```\n",
    "2. \n",
    "```python\n",
    "a, b = 5, 2\n",
    "a, b = a + b, a - b\n",
    "print(a, b)\n",
    "```\n",
    "3. \n",
    "```python\n",
    "a = [1, 3, 7, 15, 31]\n",
    "b, c, *d = a\n",
    "print(b, c, d)\n",
    "```\n",
    "4. \n",
    "```python\n",
    "a = [1, 3, 7, 15, 31]\n",
    "b, *c, d = a\n",
    "print(b, c, d)\n",
    "```\n",
    "5. \n",
    "```python\n",
    "a = [1, 3, 7, 15, 31]\n",
    "*b, c, d = a\n",
    "print(b, c, d)\n",
    "```\n",
    "6. \n",
    "```python\n",
    "a = [1, 3]\n",
    "b, c, *d = a\n",
    "print(b, c, d)\n",
    "```\n",
    "7. \n",
    "```python\n",
    "a = [1, 3]\n",
    "b, *c, d = a\n",
    "print(b, c, d)\n",
    "```\n",
    "8. \n",
    "```python\n",
    "a = [1, 3]\n",
    "*b, c, d = a\n",
    "print(b, c, d)\n",
    "```\n",
    "9. \n",
    "```python\n",
    "i, s = 1, 0\n",
    "while (i2 := i * i) < 100:\n",
    "    i, s = i + 1, s + i2\n",
    "print(s)\n",
    "```"
   ]
  }
 ],
 "metadata": {
  "kernelspec": {
   "display_name": "Python 3 (ipykernel)",
   "language": "python",
   "name": "python3"
  },
  "language_info": {
   "codemirror_mode": {
    "name": "ipython",
    "version": 3
   },
   "file_extension": ".py",
   "mimetype": "text/x-python",
   "name": "python",
   "nbconvert_exporter": "python",
   "pygments_lexer": "ipython3",
   "version": "3.10.7"
  }
 },
 "nbformat": 4,
 "nbformat_minor": 4
}
