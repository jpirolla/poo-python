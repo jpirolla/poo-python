{
 "cells": [
  {
   "cell_type": "markdown",
   "metadata": {},
   "source": [
    "## *Comprehension*"
   ]
  },
  {
   "cell_type": "markdown",
   "metadata": {},
   "source": [
    "O Python tem uma forma abreviada de se criar objetos como listas, dicionários e conjuntos, denominado _comprehension_.\n",
    "\n",
    "Suponhamos que você deseja uma lista com todos os pares entre 0 e 10 (inclusive).\n",
    "\n",
    "Você pode usar um loop para criar a lista:"
   ]
  },
  {
   "cell_type": "code",
   "execution_count": null,
   "metadata": {},
   "outputs": [],
   "source": [
    "even = []\n",
    "for i in range(0, 11, 2):\n",
    "    even.append(i)"
   ]
  },
  {
   "cell_type": "code",
   "execution_count": null,
   "metadata": {
    "collapsed": false,
    "jupyter": {
     "outputs_hidden": false
    }
   },
   "outputs": [],
   "source": [
    "even"
   ]
  },
  {
   "cell_type": "markdown",
   "metadata": {},
   "source": [
    "Neste caso, que não envolve cálculos, a forma mais simples é converter a `range` usada no for para lista:"
   ]
  },
  {
   "cell_type": "code",
   "execution_count": null,
   "metadata": {
    "collapsed": false,
    "jupyter": {
     "outputs_hidden": false
    }
   },
   "outputs": [],
   "source": [
    "list(range(0,11,2))"
   ]
  },
  {
   "cell_type": "markdown",
   "metadata": {},
   "source": [
    "Mas vamos supor que o que você quer é uma lista com o **quadrado** dos pares entre 0 e 10 (inclusive).\n",
    "\n",
    "Novamente, um for resolve isso:"
   ]
  },
  {
   "cell_type": "code",
   "execution_count": null,
   "metadata": {
    "collapsed": false,
    "jupyter": {
     "outputs_hidden": false
    }
   },
   "outputs": [],
   "source": [
    "even_sqr = []\n",
    "for i in range(0, 11, 2):\n",
    "    even_sqr.append(i * i)"
   ]
  },
  {
   "cell_type": "code",
   "execution_count": null,
   "metadata": {
    "collapsed": false,
    "jupyter": {
     "outputs_hidden": false
    }
   },
   "outputs": [],
   "source": [
    "even_sqr"
   ]
  },
  {
   "cell_type": "markdown",
   "metadata": {},
   "source": [
    "Neste caso, como os valores não são igualmente espaçados, não podemos usar o truque de converter uma `range` para uma lista.\n",
    "\n",
    "Para esses casos, usamos a sintaxe _list comprehension_:"
   ]
  },
  {
   "cell_type": "code",
   "execution_count": null,
   "metadata": {
    "collapsed": false,
    "jupyter": {
     "outputs_hidden": false
    }
   },
   "outputs": [],
   "source": [
    "[i * i for i in range(0, 11, 2)]"
   ]
  },
  {
   "cell_type": "markdown",
   "metadata": {},
   "source": [
    "A sintaxe é `[ expressao for var in col ]` onde `col` é uma coleção de valores (que pode ser varrida por um `for`), `var` é um nome de variável e `expressao` é uma expressão (que em geral usa o valor de `var`). \n",
    "\n",
    "A lista será formada colocando em `var` cada um dos valores de `col`, calculando a expressao para esse valor e inserindo o resultado em uma lista.\n",
    "\n",
    "No exemplo acima, `i` recebe sucessivamente os pares de 0 a 10 (inclusive) e na lista são inseridos os correspondente valores do quadrado de `i`.\n",
    "\n",
    "Os colchetes em volta dizem que queremos formar uma **lista**. Se usarmos chaves, então queremos um conjunto:"
   ]
  },
  {
   "cell_type": "code",
   "execution_count": null,
   "metadata": {
    "collapsed": false,
    "jupyter": {
     "outputs_hidden": false
    }
   },
   "outputs": [],
   "source": [
    "{ i * i for i in range(0, 11, 2) }"
   ]
  },
  {
   "cell_type": "markdown",
   "metadata": {},
   "source": [
    "Se usamos `:` dentro das chaves, formamos pares chave/valor de um dicionário."
   ]
  },
  {
   "cell_type": "code",
   "execution_count": null,
   "metadata": {},
   "outputs": [],
   "source": [
    "{ i: str(10 * i) for i in range(0, 11, 2)}"
   ]
  },
  {
   "cell_type": "markdown",
   "metadata": {},
   "source": [
    "É possível também termos mais do que um `for` para a geração da lista."
   ]
  },
  {
   "cell_type": "code",
   "execution_count": null,
   "metadata": {
    "collapsed": false,
    "jupyter": {
     "outputs_hidden": false
    }
   },
   "outputs": [],
   "source": [
    "[ (i, j) for i in range(0, 4) for j in range(0,4)]"
   ]
  },
  {
   "cell_type": "markdown",
   "metadata": {},
   "source": [
    "Neste caso, tanto `i` quanto `j` estão sendo variados de 0 a 3, com `j` variando _mais rapidamente_ que `i` (isto é, para cada valor de `i` consideramos todos os valores de `j`, na ordem).\n",
    "\n",
    "Outra possibilidade é incluir um _filtro_, quer dizer, uma condição que será usada para testar se o valor deve ser inserido na lista ou não. Se a condição for verdadeira, o correspondente valor será inserido, senão ele será ignorado (a expressão não será avaliada).\n",
    "\n",
    "Por exemplo, a lista abaixo tem os quadrados dos valores de `i` de 2 a 29, mas apenas se `i` for múltiplo de 3 ou de 5."
   ]
  },
  {
   "cell_type": "code",
   "execution_count": null,
   "metadata": {
    "collapsed": false,
    "jupyter": {
     "outputs_hidden": false
    }
   },
   "outputs": [],
   "source": [
    "[i * i for i in range(2,30) if i % 3 == 0 or i % 5 == 0]"
   ]
  },
  {
   "cell_type": "markdown",
   "metadata": {},
   "source": [
    "# Exercícios"
   ]
  },
  {
   "cell_type": "markdown",
   "metadata": {},
   "source": [
    "Responda a todos os exercícios nesta seção usando comprehensions.\n",
    "\n",
    "1. Crie uma lista com os valores de $x^2 − 3x$ para todos os valores de x inteiros entre 1 e 10, inclusive.\n",
    "\n",
    "2. Crie uma lista com todas as potências de 2 entre $2^0$ e $2^{20}$ (inclusive).\n",
    "\n",
    "3. Crie uma lista com os valores de $\\sqrt{x}$ para os valores de $x$ inteiros pares entre 0 e 20 inclusive.\n",
    "\n",
    "4. Crie uma lista dos valores inteiros entre 0 e 30 que não são múltiplos nem de 3 nem de 5.\n",
    "\n",
    "5. Crie um conjunto com todos os valores inteiros positivos menores que 25 que são múltiplos de 3 mas não de 5.\n",
    "\n",
    "6. Crie um dicionário que associe a cada potência de 10 entre $10^0$ e $10^{20}$ o valor de seu logaritmo base $10$, isto é, para a chave $10^n$ o valor deve ser $n$."
   ]
  }
 ],
 "metadata": {
  "kernelspec": {
   "display_name": "Python 3 (ipykernel)",
   "language": "python",
   "name": "python3"
  },
  "language_info": {
   "codemirror_mode": {
    "name": "ipython",
    "version": 3
   },
   "file_extension": ".py",
   "mimetype": "text/x-python",
   "name": "python",
   "nbconvert_exporter": "python",
   "pygments_lexer": "ipython3",
   "version": "3.10.7"
  }
 },
 "nbformat": 4,
 "nbformat_minor": 4
}
