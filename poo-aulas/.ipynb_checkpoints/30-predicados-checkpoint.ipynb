{
 "cells": [
  {
   "cell_type": "markdown",
   "id": "8ad5902f-1541-4c93-9d2e-6726420f4ee5",
   "metadata": {},
   "source": [
    "# Predicados"
   ]
  },
  {
   "cell_type": "markdown",
   "id": "ea20c7da-1a25-48f1-9de4-fafc9bcd67e4",
   "metadata": {},
   "source": [
    "Vou fazer aqui uma breve introdução à técnica de uso de predicados lógicos para análise e documentação de código."
   ]
  },
  {
   "cell_type": "markdown",
   "id": "353cbc46-b6b0-4ae8-9cc2-26d05b4de279",
   "metadata": {},
   "source": [
    "## 1. Estado"
   ]
  },
  {
   "cell_type": "markdown",
   "id": "c72b2fa6-cc5b-43b5-9303-3cb99a7320e8",
   "metadata": {},
   "source": [
    "O primeiro conceito importante é o de **estado** de um programa. *Em um ponto específico* da execução do programa, o seu estado consiste nos valores de todos os objetos acessíveis direta ou indiretamente pelo programa.\n",
    "\n",
    "Veja por exemplo o código abaixo (considerando que nada foi executado antes disso):"
   ]
  },
  {
   "cell_type": "code",
   "execution_count": null,
   "id": "5f345fba-5f3e-442f-8378-5bfb2dcc4884",
   "metadata": {},
   "outputs": [],
   "source": [
    "a = 42\n",
    "# 1\n",
    "b = 12\n",
    "# 2\n",
    "c = a / b\n",
    "# 3\n",
    "d = [10, 20, 30, [100, 200, 300]]\n",
    "# 4"
   ]
  },
  {
   "cell_type": "markdown",
   "id": "a4de685b-5375-4050-b46a-c0c3afa0e19f",
   "metadata": {},
   "source": [
    "No ponto marcado 1, o estado consiste apenas no objeto referenciado pela variável `a`, do tipo `int` con valor 42.\n",
    "\n",
    "No ponto marcado 2, o estado agora tem dois objetos `int`, o referenciado por `a`, com valor 42, e o referenciado por `b`, com valor 12.\n",
    "\n",
    "No ponto marcado 3, temos agora os dois objetos anteriores e mais um terceiro, referenciado por `c`, com valor 3.5, do tipo `float`.\n",
    "\n",
    "No ponto marcado 4 agora temos um estado que inclui, além dos objetos anteriores e seus valores:\n",
    "- um objeto do tipo `list`, referenciado por `d`;\n",
    "- três objetos do tipo `int`, referenciados por `d[0], d[1], d[2]`, com valores 10, 20 e 30, respectivamente;\n",
    "- um objeto do tipo `list` referenciado por `d[3]`;\n",
    "- três objetos do tipo `int` referenciados por `d[3][0]`, `d[3][1], d[3][2]`, com valores 100, 200 e 300, respectivamente."
   ]
  },
  {
   "cell_type": "markdown",
   "id": "d4c9b4f2-9b64-4d70-a187-fdcfc917582a",
   "metadata": {},
   "source": [
    "## 2. Predicados"
   ]
  },
  {
   "cell_type": "markdown",
   "id": "1dcec307-9e95-4f67-b2db-4e9de769ffbd",
   "metadata": {},
   "source": [
    "Usamos o termo **predicado** para indicar uma afirmação lógica (portanto que pode ser verdadeira ou falsa) sobre o estado do programa, **num específico ponto da execução**.\n",
    "\n",
    "Em princípio, o predicado se refere a todo o estado, mas como usamos predicados para analisar e comentar trechos de código, o costume é que o predicado se refira apenas à parte do estado de interesse para esse trecho de código, assumindo-se que o restante do estado é irrelevante para o trecho de código em questão **e será mantido inalterado**. Isso é importante pois o estado pode ser muito grande.\n",
    "\n",
    "O ponto importante é que os predicados indicados **devem ser verdadeiros**. Para qualquer estado dado, podemos criar uma grande quantidade de predicados verdadeiros distintos. Devemos escolher predicados que ajudem a entender o funcionamento do código.\n",
    "\n",
    "Vamos ver alguns exemplos. Novamente, consideramos que em cada exemplo nenhum código anterior foi executado."
   ]
  },
  {
   "cell_type": "code",
   "execution_count": null,
   "id": "fcd3e8de-b8f4-40fe-9b95-8ebd96b3a1a2",
   "metadata": {},
   "outputs": [],
   "source": [
    "a = 42\n",
    "b = 12"
   ]
  },
  {
   "cell_type": "markdown",
   "id": "55c09b56-e801-4aa4-8375-aa0539972a0e",
   "metadata": {},
   "source": [
    "Depois da execuçõa desse código, podemos escrever diversos predicados. Alguns possíveis são:\n",
    "1. `True`\n",
    "1. `a == 42 and b == 12`\n",
    "1. `a > 0 and b > 0`\n",
    "1. `a == 42`\n",
    "1. `b == 12`\n",
    "1. `a > 1 and a < 100`\n",
    "1. `b > 0 and b % 2 == 0`\n",
    "\n",
    "O primeiro, apesar de ser um predicado válido, é inútil, pois não diz nada sobre o estado atual. O segundo predicado listado é o mais restritivo: ele apenas permite os valores dados de `a` e `b`. Ou outros permitem outros valores, mas também aceitam os valores dados. O primeiro e o segundo predicados se referem aos dois objetos, enquanto os outros se referem a apenas um deles."
   ]
  },
  {
   "cell_type": "markdown",
   "id": "57e061eb-636a-47a7-af0a-a92c5daffab1",
   "metadata": {},
   "source": [
    "## 3. Pré-condições e pós-condições"
   ]
  },
  {
   "cell_type": "markdown",
   "id": "dac1c98b-0179-48e7-bff6-1837e127d15e",
   "metadata": {},
   "source": [
    "Como eu disse, os predicados são usado para análise e documentação de pedaços de código. Na análise de blocos de código, isto é, sequências de operações, os predicados usados são chamados *pré-condições* e *pós-condições*.\n",
    "\n",
    "Dado um grupo de operações num código:\n",
    "- A **pré-condição** é um predicado válido **antes** da início das operações que diz em que condições as operações podem ser executadas sem causar erros e permitindo a execução correta do código.\n",
    "- A **pós-condição** é um predicado válido **depois** do final das operações que diz como estará o estado depois da execução das operações **caso a pré-condição tenha sido satisfeita**.\n",
    "\n",
    "Vejamos um exemplo simples:"
   ]
  },
  {
   "cell_type": "code",
   "execution_count": null,
   "id": "6a95afd7-710c-475a-81ef-46c53777fe3c",
   "metadata": {},
   "outputs": [],
   "source": [
    "n = int(input('Numerador:   '))\n",
    "d = int(input('Denominador: '))\n",
    "# 1: d != 0\n",
    "r = n % d\n",
    "q = n // d\n",
    "# 2: q * d + r == n\n",
    "print(q, r)"
   ]
  },
  {
   "cell_type": "markdown",
   "id": "28bb6384-0f24-4ac8-babb-b26dc426e08d",
   "metadata": {},
   "source": [
    "Neste caso, o predicado marcado com 1 é a pré-condição para a execução correta dos dois comandos que seguem (o denominador tem que ser diferente de zero). O predicado marcado com 2 é a pós-condição, quer dizer que o nosso código criou objetos `r` e `q` que satisfazem esse predicado, se a pré-condição foi satisfeita.\n",
    "\n",
    "Importante notar que a pós-condição deve ser escrita de forma a indicar o que desejamos que o trecho de código realize. Isto é, ela é uma formalização do **objetivo** do trecho de código indicado. A pré-condição, por outro lado, indica o que precisa ser estabelecido antes que possamos executar o código. A responsabilidade por estabeler a pré-condição é do código que executa antes do trecho de código que estamos analisando. Portanto, a pós-condição do trecho de código anterior deve *implicar* logicamente a pré-condição do trecho de código em análise."
   ]
  },
  {
   "cell_type": "markdown",
   "id": "1fbad528-8d97-458c-9792-49a61b99adda",
   "metadata": {},
   "source": [
    "## 4. Semântica da execução condicional"
   ]
  },
  {
   "cell_type": "markdown",
   "id": "0d2bc103-d543-4502-9429-8fd09389709a",
   "metadata": {},
   "source": [
    "Predicados podem ser usados para deixar claro o significado (semântica) das comandos de controle de fluxo do programa.\n",
    "\n",
    "Vejamos o caso da execução condicional. Vamos ver inicialmente o `if` sem o `else`.\n",
    "\n",
    "```\n",
    "# P1\n",
    "if C:\n",
    "    # P2\n",
    "    S\n",
    "    # Q2\n",
    "# Q1\n",
    "```\n",
    "\n",
    "Aqui representamos por `C` a condição (que é um predicado), por `S` o conjunto de comandos a serem executados caso a condição seja verdadeira, por `P1` a pré-condição do `if`, por `Q1` a pós-condição do `if`, por `P2` a pré-condição do bloco `S` e por `Q2` a pós-condição do bloco `S`. \n",
    "\n",
    "A semântica do `if` pode ser então descrita como:\n",
    "1. `P1 and C` implica `P2`;\n",
    "1. `P1 and not C` implica `Q1`;\n",
    "1. `Q2` implica `Q1`.\n",
    "\n",
    "A primeira regra vem do fato de que se `P1` não for verdadeira, então o comando `if` inteiro não garante a execução correta, portanto `P1` deve ser verdadeira. Neste caso, se `C` for verdadeira o bloco `S` irá executar, então sua pré-condição tem que ser verdadeira. Agora, caso `C` não seja verdadeira, então `S` não será executado, e portanto `Q1` tem que já ser válido (segunda regra). Já a terceira regra indica que se `S` foi executado quando devia, sua execução garante `Q2`, mas isso tem que garantir `Q1`, pois nada mais é executado entre `Q2` e `Q1`.\n",
    "\n",
    "Notem que falamos de *implicar* e não ser igual, Quer dizer, por exemplo, que `P1 and C` não precisa ser equivalente a `P2`, ela precisa apenas garantir que `P2` seja válida.\n",
    "\n",
    "**Nota:** Frequentemente ao escrever pós-condições, se o bloco altera valores de algumas variáveis, precisamos fazer referëncia ao valor anterior de uma variável, isto é, seu valor antes da execução do bloco de comandos em análise. Para isso, vou usar aqui a convenção de indicar por `@x` o valor inicial da variável `x`, antes de sofrer alteração.\n",
    "\n",
    "Vejamos um exemplo simples."
   ]
  },
  {
   "cell_type": "code",
   "execution_count": null,
   "id": "ceb8424e-41d4-429b-8855-081027d82d86",
   "metadata": {},
   "outputs": [],
   "source": [
    "n = 1\n",
    "d = -1\n",
    "\n",
    "# Muito código...\n",
    "\n",
    "\n",
    "# d != 0\n",
    "if d < 0:\n",
    "    # d < 0\n",
    "    n = -n\n",
    "    d = -d\n",
    "    # d > 0 and n / d == @n / @d\n",
    "# n / d == @n / @d and d > 0"
   ]
  },
  {
   "cell_type": "markdown",
   "id": "20533a6e-f061-47eb-8d03-4a2d55bf6db3",
   "metadata": {},
   "source": [
    "Agora é fácil de entender o caso do `if` com `else`:\n",
    "\n",
    "```\n",
    "# P1\n",
    "if C:\n",
    "    # P2\n",
    "    S1\n",
    "    # Q2\n",
    "else:\n",
    "    # P3\n",
    "    S2\n",
    "    # Q3\n",
    "# Q1\n",
    "```\n",
    "\n",
    "Onde os predicados indicados tëm significado facilmente discernível.\n",
    "\n",
    "A semântica é definida por:\n",
    "- `P1 and C` implica `P2`\n",
    "- `P1 and not C` implica `P3`\n",
    "- `Q2` implica `Q1`\n",
    "- `Q3` implica `Q1`\n",
    "\n",
    "Vejamos um exemplo."
   ]
  },
  {
   "cell_type": "code",
   "execution_count": null,
   "id": "a6382c70-a979-407c-86ae-ab4b9b73168f",
   "metadata": {},
   "outputs": [],
   "source": [
    "N = 4\n",
    "player = 0\n",
    "\n",
    "# Muito código...\n",
    "\n",
    "# 0 <= player < N\n",
    "if player < N - 1:\n",
    "    # 0 <= player < N - 1\n",
    "    player += 1\n",
    "    # 0 < player < N and @player < N - 1 and player = @player + 1\n",
    "else:\n",
    "    # player == N - 1\n",
    "    player = 0\n",
    "    # @player == N - 1 and player == 0\n",
    "# 0 <= player < N and \n",
    "#   ((@player < N - 1 and player = @player + 1) or \n",
    "#    (@player == N - 1 and player == 0))"
   ]
  },
  {
   "cell_type": "markdown",
   "id": "13adce5c-e658-4990-986c-c472891abb01",
   "metadata": {},
   "source": [
    "Quando existe também `elif`, basta lembrar que isso é apenas uma abrevisção para um `else` seguido de um `if`.\n",
    "\n",
    "Por exemplo:\n",
    "\n",
    "```\n",
    "# P1\n",
    "if C1:\n",
    "    # P2\n",
    "    S1\n",
    "    # Q2\n",
    "elif C2:\n",
    "    # P3\n",
    "    S2\n",
    "    # Q3\n",
    "elif C3:\n",
    "    # P4\n",
    "    S3\n",
    "    # Q4\n",
    "else:\n",
    "    # P5\n",
    "    S4\n",
    "    # Q5\n",
    "# Q1\n",
    "```\n",
    "Tem semântica\n",
    "\n",
    "A semântica é definida por:\n",
    "- `P1 and C1` implica `P2`\n",
    "- `P1 and not C1 and C2` implica `P3`\n",
    "- `P1 and not C1 and not C2 and C3` implica `P4`\n",
    "- `P1 and not C1 and not C2 and not C3` implica `P5`\n",
    "- `Q2` implica `Q1`\n",
    "- `Q3` implica `Q1`\n",
    "- `Q4` implica `Q1`\n",
    "- `Q5` implica `Q1`\n",
    "\n",
    "Exemplo: um código para calcular a função ${\\rm sign}(x)$ que vale -1 se $x<0$, 1 se $x>0$ e 0 se $x=0$:"
   ]
  },
  {
   "cell_type": "code",
   "execution_count": null,
   "id": "bdf96cda-d34a-48a2-94fd-8e4459738371",
   "metadata": {},
   "outputs": [],
   "source": [
    "x = float(input('Give the value of x:'))\n",
    "\n",
    "# True\n",
    "if x < 0:\n",
    "    # x < 0\n",
    "    s = -1\n",
    "    # x < 0 and s == -1\n",
    "elif x > 0:\n",
    "    # x > 0\n",
    "    s = 1\n",
    "    # x > 0 and s == 1\n",
    "else:\n",
    "    # x == 0\n",
    "    s = 0\n",
    "    # x == 0 and s == 0\n",
    "# s = sign(x)\n",
    "print(f'sign({x}) = {s}')"
   ]
  },
  {
   "cell_type": "markdown",
   "id": "147e2cc5-b509-4b96-bbfc-bf3d59b9e5d2",
   "metadata": {},
   "source": [
    "## 5. Invariantes de repetição"
   ]
  },
  {
   "cell_type": "markdown",
   "id": "821e73c0-5168-4af2-b71a-24f9627fd16f",
   "metadata": {},
   "source": [
    "Quanto temos repetições, como nos códigos com `while`, a situação fica diferente:\n",
    "\n",
    "```\n",
    "# P\n",
    "while C:\n",
    "    # I\n",
    "    S\n",
    "    # Q1\n",
    "# Q\n",
    "```\n",
    "\n",
    "`P` e `Q` são a pré-condição e pós-condição, respectivamente, de toda o comando `while`. Agora, os comandos representados por `S` serão executados repetidamente enquanto `C` for verdadeira. Portanto sua pré-condição `I` e pós-condição `Q1` têm que ser repetidamente válidas, isto é, válidas toda vez que a execução passar por esse ponto. Por esta razão, `I` é denominado **invariante da repetição**.\n",
    "\n",
    "A semântica da repetição é:\n",
    "- `P and C` implica `I`. Como se diz no jargão, a pré-condição da repetição e a condição do loop têm que **estabelecer o invariante** da repetição.\n",
    "- `Q1 and C` implica `I`. Isto é, a pós-condição de `S` junto com `C` deve também garantir o invariante.\n",
    "- `Q1 and not C` implica `Q`.\n",
    "- `P and not C` implica `Q`.\n",
    "\n",
    "Vejamos um exemplo simples que calcula na variável `s` a soma dos quadrados de 1 a 10."
   ]
  },
  {
   "cell_type": "code",
   "execution_count": null,
   "id": "7f2262af-80b0-468d-8ee7-a9e769dd2305",
   "metadata": {},
   "outputs": [],
   "source": [
    "s, i = 0, 1\n",
    "# s == 0 and i == 1\n",
    "while i <= 10:\n",
    "    # i <= 10 and s == sum of j**j for 1 <= j < i\n",
    "    s += i * i\n",
    "    i += 1\n",
    "    # i == @i + 1 and s == sum of j*j for 1 <= j <= @i\n",
    "# s == sum of i*i for 1 <= i <= 10"
   ]
  },
  {
   "cell_type": "markdown",
   "id": "3d65534b-9ac1-42e6-a194-95a2f98c4f76",
   "metadata": {},
   "source": [
    "As repetições com `for` ao invés de `while` também são representadas usando invariantes, mas o processo é mais complexo, pois as repetições `for` têm um elemento implícito devido à ordem em que os valores gerados serão percorridos, e essa ordem pode ter que ser levada em consideração explicitamente. Também como diversos tipos de objetos podem ser usados para gerar os valores para o `for`, escrever uma expressão geral que funcione sempre é difícil.\n",
    "\n",
    "O mais viável é analisar caso a caso. Por exemplo, os `for` que percorrem uma `range` são facilmente escritos de forma similar a um `while`:"
   ]
  },
  {
   "cell_type": "code",
   "execution_count": null,
   "id": "b274a42c-35e8-450d-81c8-0798690a6c6b",
   "metadata": {},
   "outputs": [],
   "source": [
    "s = 0\n",
    "# s == 0\n",
    "for i in range(1, 11):\n",
    "    # 1 <= i <= 10 and s == sum of j*j for 1 <= j < i\n",
    "    s += i * i\n",
    "    # 1 <= i <= 10 and s == sum of j*j for 1 <= j <= i\n",
    "# s == sum of i*i for 1 <= i <= 10"
   ]
  },
  {
   "cell_type": "markdown",
   "id": "0450f2d9-0a8a-4ea4-965d-438a31ac7b44",
   "metadata": {},
   "source": [
    "Aqui eu deixei implícito (não especificado nos predicados) que o valor de `i` vai crescendo de 1 para 10, passando apenas uma vez por cada um. Isso é a forma como o `range(1, 11)` fornece os valores."
   ]
  },
  {
   "cell_type": "markdown",
   "id": "ed7258f5-f8fc-4556-acdf-71c492bdb7ff",
   "metadata": {},
   "source": [
    "## 6. Funções"
   ]
  },
  {
   "cell_type": "markdown",
   "id": "65fa9008-20e3-4d41-bd9e-eb0df34177b8",
   "metadata": {},
   "source": [
    "Funções são um bloco de código, e portanto podem ser tratadas da mesma forma através de pré-condições e pós-condições. Mas quero enfatizar a importância da pré-condição inicial da função.\n",
    "\n",
    "Para o bloco todo da função poder executar corretamente, deve ser satisfeita uma pré-condição sobre os parâmetros passados para essa função (e possivelmente sobre quaisquer variáveis globais que essa função use). Essa pré-condição deve ser parte da documentação da função, pois ela diz ao usuário em que condições a função pode ser chamada.\n",
    "\n",
    "Um exemplo simples:"
   ]
  },
  {
   "cell_type": "code",
   "execution_count": null,
   "id": "0a606bab-0c5b-4064-9ad5-fe3fc90c1995",
   "metadata": {},
   "outputs": [],
   "source": [
    "# Removes and returns the first element of some_list\n",
    "# Precondition: the list is not empty\n",
    "def take_first(some_list):\n",
    "    return some_list.pop(0)"
   ]
  },
  {
   "cell_type": "code",
   "execution_count": null,
   "id": "ea295f12-38f6-4ab8-ae50-5956dc23ed35",
   "metadata": {},
   "outputs": [],
   "source": [
    "a = [1, 2, 3]\n",
    "print(take_first(a))\n",
    "a"
   ]
  },
  {
   "cell_type": "markdown",
   "id": "b619ebce-d8f5-497c-85c3-dff8fc76dfd1",
   "metadata": {},
   "source": [
    "## 7. Invariantes de classes"
   ]
  },
  {
   "cell_type": "markdown",
   "id": "85fb2c4f-d39f-4c96-9425-6ec1507d4fe2",
   "metadata": {},
   "source": [
    "Cada objeto tem um estado próprio (com os valores dos objetos usados em sua implementação). Os métodos operam sobre o estado desse objeto, além de sobre possíveis parâmetros.\n",
    "\n",
    "Os métodos são funções, e portanto estão sujeitos a pré-condições. Mas como os métodos operam não apenas sobre os parâmetros passados para eles mas também sobre o objeto, o estado do objeto pode fazer (e em geral faz) parte da pré-condição dos métodos.\n",
    "\n",
    "Também, nem sempre qualquer estado de um objeto é um estado válido. Pense por exemplo em um objeto que representa datas e guarda dia, mes e ano em variáveis distintas. Neste caso, os meses não podem ter qualquer valor, mas apenas um dos 12 existentes, qualquer que seja a representação usada. Também nem todos os valores são válidos para dia, dependendo do mês e do ano. Certamente, para um método funcionar, ele deve estar operando sobre um objeto que represente um valor válido para o tipo desejado. Para especificar os estados válidos de um objeto especificamos um **invariante de classe**.\n",
    "\n",
    "Assim, a semântica de classes fica:\n",
    "- Temos um invariante de classe, que deve ser satisfeito pelo estado de todos os objetos da classe.\n",
    "- Cada método inclui na sua pré-condição que o invariante de classe seja válido, além de pré-condições específicas do método.\n",
    "- Cada método inclui na sua pós-condição que o invariante da classe continua válido, além de pós-condições específicas.\n",
    "- (Juntando os dois requerimentos anteriores podem dizer que a execução dos métodos **preserva o invariante da classe**.)\n",
    "- O método `__init__` deve garantir que o invariante da classe seja válido depois de sua execuçãp. Ele é o único método que não inclui o invariante da classe em sua pré-condição, visto que antes de sua execução o estado do objeto é indeterminado.\n",
    "\n",
    "O invariante de classe não é especificado explicitamente nas pré- e pós-condições dos métodos (é **incluido implicitamente**).\n",
    "Estas regras garantem que o invariante da classe seja sempre válido para todos os objetos.\n",
    "\n",
    "Vejamos um exemplo:"
   ]
  },
  {
   "cell_type": "code",
   "execution_count": null,
   "id": "ab836a8d-36fc-4e5d-9900-95acb6de5e01",
   "metadata": {},
   "outputs": [],
   "source": [
    "class NLargest:\n",
    "    # Using the notation: \n",
    "    #   NC -> number of calls to insert() done to this object.\n",
    "    #   x_i -> value of x given in the i-th call to insert\n",
    "    #   nv -> len(self._values)\n",
    "    \n",
    "    # Class invariant:\n",
    "    #   0 <= nv <= self._limit\n",
    "    #   nv == min(self._limit, NC)\n",
    "    #   self._values[:] has the nv largest values from x_1 to x_NC\n",
    "    #   self._values[j-1] >= self._values[j] for 0 < j < nv\n",
    "    \n",
    "    def __init__(self, n):\n",
    "        self._values = []\n",
    "        self._limit = n\n",
    "        # NC == 0\n",
    "    \n",
    "    # Insert x among the largest, if it is the case.\n",
    "    def insert(self, x):\n",
    "        i = 0\n",
    "        # i == 0\n",
    "        while (i < len(self._values) and\n",
    "               self._values[i] >= x):\n",
    "            # 0 <= i < nv and self._values[j] >= x for 0 <= j <= i\n",
    "            i += 1\n",
    "            # 0 <= i <= nv and self._values[j] >= x for 0 <= j < i\n",
    "        # 0 <= i <= nv and self._values[j] >= x for 0 <= j < i and \n",
    "        #      (i == nv or self._values[i] < x)\n",
    "        if i == len(self._values):\n",
    "            # i == nv and self._values[j] >= x for 0 <= j < nv\n",
    "            if i < self._limit:\n",
    "                # nv < self._limit and self._values[j] >= x for 0 <= j < nv\n",
    "                self._values.append(x)\n",
    "        else:\n",
    "            # 0 <= i < nv and self._values[j] >= x for 0 <= j < i\n",
    "            #   and self._values[j] < x for i <= j < nv\n",
    "            self._values.insert(i, x)\n",
    "            # nv == @nv + 1 and self._values[j-1] >= self._values[j] for 0 < j < nv\n",
    "            if len(self._values) > self._limit:\n",
    "                # nv == self._limit + 1\n",
    "                self._values.pop()\n",
    "        # NC == @NC + 1\n",
    "    \n",
    "    # Returns the largest inserted values, limited to the specified size.\n",
    "    def get(self):\n",
    "        # Return a copy of the list of values, to avoid giving control.\n",
    "        return self._values[:]"
   ]
  },
  {
   "cell_type": "markdown",
   "id": "9ef7b872-e0c7-4ec6-b566-a0600bf3827f",
   "metadata": {},
   "source": [
    "# Exercício"
   ]
  },
  {
   "cell_type": "markdown",
   "id": "25463d55-0df1-43d9-9da7-bfb2190453be",
   "metadata": {},
   "source": [
    "1. A classe abaixo realiza uma implementação rudimentar de objetos para representar horas com precisão de minutos. Escreva o invariante de classe e os predicados dos métodos."
   ]
  },
  {
   "cell_type": "code",
   "execution_count": null,
   "id": "afd8a185-1d06-4abd-b9d7-07ddce5d765a",
   "metadata": {},
   "outputs": [],
   "source": [
    "class Hour:\n",
    "    def __init__(self, h, m):\n",
    "        assert 0 <= h < 24 and 0 <= m < 60, 'invalid initial time'\n",
    "        self._hours = h\n",
    "        self._minutes = m\n",
    "        \n",
    "    def hours(self):\n",
    "        return self._hours\n",
    "    \n",
    "    def minutes(self):\n",
    "        return self._minutes\n",
    "    \n",
    "    def up_hour(self):\n",
    "        self._hours += 1\n",
    "        if self._hours == 24:\n",
    "            self._hours = 0\n",
    "            \n",
    "    def up_minute(self):\n",
    "        self._minutes += 1\n",
    "        if self._minutes == 60:\n",
    "            self._minutes = 0\n",
    "            self.up_hour()\n",
    "            \n",
    "    def down_hour(self):\n",
    "        self._hours -= 1\n",
    "        if self._hours == -1:\n",
    "            self._hours = 23\n",
    "            \n",
    "    def down_minute(self):\n",
    "        self._minutes -= 1\n",
    "        if self._minutes == -1:\n",
    "            self._minutes = 59\n",
    "            self.down_hour()"
   ]
  },
  {
   "cell_type": "markdown",
   "id": "7008abff-92df-4acc-8564-b51b04f3db0a",
   "metadata": {},
   "source": [
    "2. A seguinte função supõe que a lista de valores passada para seu parâmetro `values` é **ordenada** e retorna uma tupla com o índice do primeiro elemento da lista maior ou igual ao parâmetro `a` e o último elemento da lista menor que o parâmetro `b`. Anote o código com pré-condições, pós-condições e invariantes de loop. Se não existe valor maior ou igual a `a` na lista, ele retorna o tamanho da lista, se não existe valor menor do que `b` na lista ele retorna -1."
   ]
  },
  {
   "cell_type": "code",
   "execution_count": null,
   "id": "2ebef1e1-3c38-4b86-b51d-ec793993494a",
   "metadata": {},
   "outputs": [],
   "source": [
    "def interval(values, a, b):\n",
    "    n = len(values)\n",
    "    i = 0\n",
    "    while i < n and values[i] < a:\n",
    "        i += 1\n",
    "    j = n - 1\n",
    "    while j >= 0 and values[j] >= b:\n",
    "        j -= 1\n",
    "    return i, j"
   ]
  }
 ],
 "metadata": {
  "kernelspec": {
   "display_name": "Python 3 (ipykernel)",
   "language": "python",
   "name": "python3"
  },
  "language_info": {
   "codemirror_mode": {
    "name": "ipython",
    "version": 3
   },
   "file_extension": ".py",
   "mimetype": "text/x-python",
   "name": "python",
   "nbconvert_exporter": "python",
   "pygments_lexer": "ipython3",
   "version": "3.11.2"
  }
 },
 "nbformat": 4,
 "nbformat_minor": 5
}
