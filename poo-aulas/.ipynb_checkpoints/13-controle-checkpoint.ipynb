{
 "cells": [
  {
   "cell_type": "markdown",
   "metadata": {
    "ein.tags": [
     "worksheet-0"
    ]
   },
   "source": [
    "# Estruturas de controle"
   ]
  },
  {
   "cell_type": "markdown",
   "metadata": {
    "ein.tags": [
     "worksheet-0"
    ]
   },
   "source": [
    "Vejamos agora as estruturas de controle simples de Python."
   ]
  },
  {
   "cell_type": "markdown",
   "metadata": {},
   "source": [
    "## 1. Condicional e blocos"
   ]
  },
  {
   "cell_type": "markdown",
   "metadata": {
    "ein.tags": [
     "worksheet-0"
    ]
   },
   "source": [
    "O primeiro ponto a notar é que os blocos de comandos em Python são delimitados pela quantidade de indentação no texto do código. Comandos consecutivos que são indentados pelo mesmo número de espaços em branco estão dentro do mesmo bloco. Um bloco é começado pela presença de `:` no final da linha anterior.\n",
    "\n",
    "Por exemplo, o código abaixo demonstra a **execução condicional**, e imprime duas mensagens se 2 for menor que 3."
   ]
  },
  {
   "cell_type": "code",
   "execution_count": null,
   "metadata": {
    "autoscroll": "json-false",
    "collapsed": false,
    "ein.tags": [
     "worksheet-0"
    ],
    "jupyter": {
     "outputs_hidden": false
    }
   },
   "outputs": [],
   "source": [
    "if 2 < 3:\n",
    "    print('Sei matemática')\n",
    "    print('Ufa!')"
   ]
  },
  {
   "cell_type": "markdown",
   "metadata": {
    "ein.tags": [
     "worksheet-0"
    ]
   },
   "source": [
    "A semântica é a seguinte: a expressão depois do `if` é avaliada e o resultado interpretado em contexto booleano. Se ela for `True`, o bloco associado é executado, se ela for `False`, o bloco é ignorado.\n",
    "\n",
    "No código abaixo, os dois `print` estão no mesmo bloco (aquele dentro do `if`), pois são indentados de quantidades idênticas de espaços."
   ]
  },
  {
   "cell_type": "code",
   "execution_count": null,
   "metadata": {
    "autoscroll": "json-false",
    "collapsed": false,
    "ein.tags": [
     "worksheet-0"
    ],
    "jupyter": {
     "outputs_hidden": false
    }
   },
   "outputs": [],
   "source": [
    "if 1 > 0:\n",
    "    print('Que tal exemplos melhores?')\n",
    "    print('Alguém achou criativo?')"
   ]
  },
  {
   "cell_type": "markdown",
   "metadata": {
    "ein.tags": [
     "worksheet-0"
    ]
   },
   "source": [
    "Já no código abaixo temos um erro, pois o segundo `print` está indentado de quantidade diferente de espaços do que o anterior."
   ]
  },
  {
   "cell_type": "code",
   "execution_count": null,
   "metadata": {
    "autoscroll": "json-false",
    "collapsed": false,
    "ein.tags": [
     "worksheet-0"
    ],
    "jupyter": {
     "outputs_hidden": false
    }
   },
   "outputs": [],
   "source": [
    "if 1 > 0:\n",
    "    print('Que tal exemplos melhores?')\n",
    "  print('Alguém achou criativo')"
   ]
  },
  {
   "cell_type": "markdown",
   "metadata": {
    "ein.tags": [
     "worksheet-0"
    ]
   },
   "source": [
    "A expressão da condição no `if` não precisa de parêntesis e pode ser tão complexa quanto necessário."
   ]
  },
  {
   "cell_type": "code",
   "execution_count": null,
   "metadata": {
    "autoscroll": "json-false",
    "collapsed": false,
    "ein.tags": [
     "worksheet-0"
    ],
    "jupyter": {
     "outputs_hidden": false
    }
   },
   "outputs": [],
   "source": [
    "if 1 > 0 and -1 < 0:\n",
    "    print('OK')"
   ]
  },
  {
   "cell_type": "markdown",
   "metadata": {
    "ein.tags": [
     "worksheet-0"
    ]
   },
   "source": [
    "Se temos pouco código dentro de um bloco, o bloco pode ser colocado na mesma linha do `:`."
   ]
  },
  {
   "cell_type": "code",
   "execution_count": null,
   "metadata": {
    "autoscroll": "json-false",
    "collapsed": false,
    "ein.tags": [
     "worksheet-0"
    ],
    "jupyter": {
     "outputs_hidden": false
    }
   },
   "outputs": [],
   "source": [
    "if 1 > 0 and -1 < 0: print('OK')"
   ]
  },
  {
   "cell_type": "markdown",
   "metadata": {
    "ein.tags": [
     "worksheet-0"
    ]
   },
   "source": [
    "Também podemos colocar mais de um comando na mesma linha, separando-os com `;`"
   ]
  },
  {
   "cell_type": "code",
   "execution_count": null,
   "metadata": {
    "autoscroll": "json-false",
    "collapsed": false,
    "ein.tags": [
     "worksheet-0"
    ],
    "jupyter": {
     "outputs_hidden": false
    }
   },
   "outputs": [],
   "source": [
    "print('a')\n",
    "print('b')"
   ]
  },
  {
   "cell_type": "code",
   "execution_count": null,
   "metadata": {
    "autoscroll": "json-false",
    "collapsed": false,
    "ein.tags": [
     "worksheet-0"
    ],
    "jupyter": {
     "outputs_hidden": false
    }
   },
   "outputs": [],
   "source": [
    "print('a'); print('b')"
   ]
  },
  {
   "cell_type": "markdown",
   "metadata": {
    "ein.tags": [
     "worksheet-0"
    ]
   },
   "source": [
    "Colocar múltiplos comando na mesma linha **não é considerado boa prática**. \n",
    "\n",
    "Por outro lado, a expressão condicional precisa estar na mesma linha do `if`"
   ]
  },
  {
   "cell_type": "code",
   "execution_count": null,
   "metadata": {
    "autoscroll": "json-false",
    "collapsed": false,
    "ein.tags": [
     "worksheet-0"
    ],
    "jupyter": {
     "outputs_hidden": false
    }
   },
   "outputs": [],
   "source": [
    "if \n",
    "  0 < 1:\n",
    "        print('OK')"
   ]
  },
  {
   "cell_type": "markdown",
   "metadata": {
    "ein.tags": [
     "worksheet-0"
    ]
   },
   "source": [
    "Quebras de linha em um mesmo comando são permitidas apenas em alguns casos especiais. O principal deles é depois de uma vírgula, dentro de expressões delimitadas por `()`, `[]` ou `{}`, para permitir colocar valores literais de tuplas, parâmetros de função, listas, dicionários e conjuntos em múltiplas linhas."
   ]
  },
  {
   "cell_type": "code",
   "execution_count": null,
   "metadata": {
    "autoscroll": "json-false",
    "collapsed": false,
    "ein.tags": [
     "worksheet-0"
    ],
    "jupyter": {
     "outputs_hidden": false
    }
   },
   "outputs": [],
   "source": [
    "[1, 2, 3,\n",
    " 4, 5, 6]\n",
    "{1, 2, 3,\n",
    " 4, 5, 6}"
   ]
  },
  {
   "cell_type": "markdown",
   "metadata": {},
   "source": [
    "Outra situação é quando a linha tem um expressão incompleta, desde que a expressão esteja dentro de parêntesis:"
   ]
  },
  {
   "cell_type": "code",
   "execution_count": null,
   "metadata": {},
   "outputs": [],
   "source": [
    "(1 + 2 + 3 +\n",
    " 4 + 5 + 6)"
   ]
  },
  {
   "cell_type": "code",
   "execution_count": null,
   "metadata": {},
   "outputs": [],
   "source": [
    "(1 + 2 + 3\n",
    " + 4 + 5 + 6)"
   ]
  },
  {
   "cell_type": "markdown",
   "metadata": {},
   "source": [
    "O seguinte é erro:"
   ]
  },
  {
   "cell_type": "code",
   "execution_count": null,
   "metadata": {},
   "outputs": [],
   "source": [
    "1 + 2 + 3 +\n",
    "4 + 5 + 6"
   ]
  },
  {
   "cell_type": "markdown",
   "metadata": {
    "ein.tags": [
     "worksheet-0"
    ]
   },
   "source": [
    "Quando queremos executar uma operação também quando a condição é falsa, usamos um `else`, com notação similar."
   ]
  },
  {
   "cell_type": "code",
   "execution_count": null,
   "metadata": {
    "autoscroll": "json-false",
    "collapsed": false,
    "ein.tags": [
     "worksheet-0"
    ],
    "jupyter": {
     "outputs_hidden": false
    }
   },
   "outputs": [],
   "source": [
    "a = 1\n",
    "b = 2\n",
    "if a > b:\n",
    "    print('a é maior')\n",
    "else:\n",
    "    print('a não é maior')"
   ]
  },
  {
   "cell_type": "markdown",
   "metadata": {
    "ein.tags": [
     "worksheet-0"
    ]
   },
   "source": [
    "Se tivermos várias condições a testar, podemos usar tantos `elif` (seguidos de condição) quanto necessários. A condição de um `elif` somente será testada se todas as condições anteriores forem falsas."
   ]
  },
  {
   "cell_type": "code",
   "execution_count": null,
   "metadata": {
    "autoscroll": "json-false",
    "collapsed": false,
    "ein.tags": [
     "worksheet-0"
    ],
    "jupyter": {
     "outputs_hidden": false
    }
   },
   "outputs": [],
   "source": [
    "a = 1\n",
    "b = 2\n",
    "if a < b:\n",
    "    print('a é menor')\n",
    "elif a == b:\n",
    "    print('são iguais')\n",
    "else:\n",
    "    print('a é maior')"
   ]
  },
  {
   "cell_type": "markdown",
   "metadata": {},
   "source": [
    "Isto é uma abreviação do seguinte código:"
   ]
  },
  {
   "cell_type": "code",
   "execution_count": null,
   "metadata": {},
   "outputs": [],
   "source": [
    "a = 1\n",
    "b = 2\n",
    "if a < b:\n",
    "    print('a é menor')\n",
    "else:\n",
    "    if a == b:\n",
    "        print('são iguais')\n",
    "    else:\n",
    "        print('a é maior')"
   ]
  },
  {
   "cell_type": "markdown",
   "metadata": {
    "ein.tags": [
     "worksheet-0"
    ]
   },
   "source": [
    "Existe uma forma abreviada de `if`, remanescente do operador `?:` de C. Ela tem o formato\n",
    "\n",
    "`val1 if cond else val2`\n",
    "\n",
    "e significa que se `cond` for verdadeira, o valor será `val1` e se ela for falsa, será `val2`."
   ]
  },
  {
   "cell_type": "code",
   "execution_count": null,
   "metadata": {
    "autoscroll": "json-false",
    "collapsed": false,
    "ein.tags": [
     "worksheet-0"
    ],
    "jupyter": {
     "outputs_hidden": false
    }
   },
   "outputs": [],
   "source": [
    "a = -2\n",
    "b = -1 if a < 0 else 1\n",
    "b"
   ]
  },
  {
   "cell_type": "markdown",
   "metadata": {},
   "source": [
    "## 2. Repetições gerais"
   ]
  },
  {
   "cell_type": "markdown",
   "metadata": {
    "ein.tags": [
     "worksheet-0"
    ]
   },
   "source": [
    "*Loops* são expressos por `while`, seguido da condição de repetição."
   ]
  },
  {
   "cell_type": "code",
   "execution_count": null,
   "metadata": {
    "autoscroll": "json-false",
    "collapsed": false,
    "ein.tags": [
     "worksheet-0"
    ],
    "jupyter": {
     "outputs_hidden": false
    }
   },
   "outputs": [],
   "source": [
    "a = 0\n",
    "while a < 10:\n",
    "    print(a)\n",
    "    a += 1\n",
    "print(f'Acabou com a={a}')"
   ]
  },
  {
   "cell_type": "markdown",
   "metadata": {
    "ein.tags": [
     "worksheet-0"
    ]
   },
   "source": [
    "Você pode usar um `break` para sair do *loop* antes que a condição seja falsa."
   ]
  },
  {
   "cell_type": "code",
   "execution_count": null,
   "metadata": {
    "autoscroll": "json-false",
    "collapsed": false,
    "ein.tags": [
     "worksheet-0"
    ],
    "jupyter": {
     "outputs_hidden": false
    }
   },
   "outputs": [],
   "source": [
    "a = 1\n",
    "while a <= 10:\n",
    "    if a % 7 == 0: break\n",
    "    print(a)\n",
    "    a += 1"
   ]
  },
  {
   "cell_type": "markdown",
   "metadata": {
    "ein.tags": [
     "worksheet-0"
    ]
   },
   "source": [
    "Ou pode usar um `continue` para descartar o restante desta interação e voltar para o teste da condição."
   ]
  },
  {
   "cell_type": "code",
   "execution_count": null,
   "metadata": {
    "autoscroll": "json-false",
    "collapsed": false,
    "ein.tags": [
     "worksheet-0"
    ],
    "jupyter": {
     "outputs_hidden": false
    }
   },
   "outputs": [],
   "source": [
    "a = 0\n",
    "while a < 10:\n",
    "    a += 1\n",
    "    if a % 7 == 0: continue\n",
    "    print(a)"
   ]
  },
  {
   "cell_type": "markdown",
   "metadata": {
    "ein.tags": [
     "worksheet-0"
    ]
   },
   "source": [
    "Estranhamente, o `while` possui um `else`, cujo bloco associado será executado apenas quando o *loop* terminar porque a condição ficou falsa (não é executado, por exemplo, se o *loop* for interrompido por um `break`)."
   ]
  },
  {
   "cell_type": "code",
   "execution_count": null,
   "metadata": {
    "autoscroll": "json-false",
    "collapsed": false,
    "ein.tags": [
     "worksheet-0"
    ],
    "jupyter": {
     "outputs_hidden": false
    }
   },
   "outputs": [],
   "source": [
    "a = 0\n",
    "while a < 10:\n",
    "    if a > 20: break\n",
    "    print(a)\n",
    "    a += 1\n",
    "else:\n",
    "    print('Loop não interrompido')"
   ]
  },
  {
   "cell_type": "code",
   "execution_count": null,
   "metadata": {
    "autoscroll": "json-false",
    "collapsed": false,
    "ein.tags": [
     "worksheet-0"
    ],
    "jupyter": {
     "outputs_hidden": false
    }
   },
   "outputs": [],
   "source": [
    "a = 0\n",
    "while a < 10:\n",
    "    if a == 7: break\n",
    "    print(a)\n",
    "    a += 1\n",
    "else:\n",
    "    print('Loop não interrompido')"
   ]
  },
  {
   "cell_type": "markdown",
   "metadata": {},
   "source": [
    "## 3. Repetição regular"
   ]
  },
  {
   "cell_type": "markdown",
   "metadata": {
    "ein.tags": [
     "worksheet-0"
    ]
   },
   "source": [
    "Uma outra forma de executar *loops* é o `for`. Ele permite avaliar todos os valores de uma sequência de valores fornecida.  A sintaxe é:\n",
    "\n",
    "    for x in seq:\n",
    "        comandos\n",
    "\n",
    "onde `seq` é uma \"sequência\" de objetos (veremos em aulas posteriores a definição mais precisa), `x` é uma variável que vai referenciar cada um dos objetos na ordem determinada pela sequência, e `comandos` são os comandos a executar (em geral, fazem referência a `x`)."
   ]
  },
  {
   "cell_type": "code",
   "execution_count": null,
   "metadata": {
    "autoscroll": "json-false",
    "collapsed": false,
    "ein.tags": [
     "worksheet-0"
    ],
    "jupyter": {
     "outputs_hidden": false
    }
   },
   "outputs": [],
   "source": [
    "minhalista = [0, 2, 4, 6, 1, 3, 5, 7]\n",
    "for x in minhalista:\n",
    "    print(x/2)"
   ]
  },
  {
   "cell_type": "code",
   "execution_count": null,
   "metadata": {
    "autoscroll": "json-false",
    "collapsed": false,
    "ein.tags": [
     "worksheet-0"
    ],
    "jupyter": {
     "outputs_hidden": false
    }
   },
   "outputs": [],
   "source": [
    "for x in minhalista:\n",
    "    if x % 2 == 0:\n",
    "        print(x)"
   ]
  },
  {
   "cell_type": "markdown",
   "metadata": {
    "ein.tags": [
     "worksheet-0"
    ]
   },
   "source": [
    "Uma forma bastante útil de conseguir valores para um `for` é através da função `range`. Se fornecemos apenas um valor inteiro `n`, ela retorna uma seqüência com os valores de `0` a `n-1`."
   ]
  },
  {
   "cell_type": "code",
   "execution_count": null,
   "metadata": {
    "autoscroll": "json-false",
    "collapsed": false,
    "ein.tags": [
     "worksheet-0"
    ],
    "jupyter": {
     "outputs_hidden": false
    }
   },
   "outputs": [],
   "source": [
    "range(10)"
   ]
  },
  {
   "cell_type": "code",
   "execution_count": null,
   "metadata": {
    "autoscroll": "json-false",
    "collapsed": false,
    "ein.tags": [
     "worksheet-0"
    ],
    "jupyter": {
     "outputs_hidden": false
    }
   },
   "outputs": [],
   "source": [
    "list(range(10))"
   ]
  },
  {
   "cell_type": "code",
   "execution_count": null,
   "metadata": {
    "autoscroll": "json-false",
    "collapsed": false,
    "ein.tags": [
     "worksheet-0"
    ],
    "jupyter": {
     "outputs_hidden": false
    }
   },
   "outputs": [],
   "source": [
    "for i in range(10):\n",
    "    print(i ** 2)"
   ]
  },
  {
   "cell_type": "markdown",
   "metadata": {
    "ein.tags": [
     "worksheet-0"
    ]
   },
   "source": [
    "Se fornecermos dois valores `n1` e `n2`, ela retorna os valores de `n1` até `n2` (excluindo `n2`, como convencional em Python)."
   ]
  },
  {
   "cell_type": "code",
   "execution_count": null,
   "metadata": {
    "autoscroll": "json-false",
    "collapsed": false,
    "ein.tags": [
     "worksheet-0"
    ],
    "jupyter": {
     "outputs_hidden": false
    }
   },
   "outputs": [],
   "source": [
    "for i in range(10, 25):\n",
    "    print(i)"
   ]
  },
  {
   "cell_type": "markdown",
   "metadata": {
    "ein.tags": [
     "worksheet-0"
    ]
   },
   "source": [
    "Se adicionarmos um terceiro parâmetro, esse novo parâmetro é o passo entre dois valores consecutivos da sequência."
   ]
  },
  {
   "cell_type": "code",
   "execution_count": null,
   "metadata": {
    "autoscroll": "json-false",
    "collapsed": false,
    "ein.tags": [
     "worksheet-0"
    ],
    "jupyter": {
     "outputs_hidden": false
    }
   },
   "outputs": [],
   "source": [
    "for i in range(0, 100, 10):\n",
    "    print(i)"
   ]
  },
  {
   "cell_type": "markdown",
   "metadata": {
    "ein.tags": [
     "worksheet-0"
    ]
   },
   "source": [
    "O limite superior não precisa ser atingido exatamente: o range termina ao chegar em um valor maior ou igual ao limite superior."
   ]
  },
  {
   "cell_type": "code",
   "execution_count": null,
   "metadata": {
    "autoscroll": "json-false",
    "collapsed": false,
    "ein.tags": [
     "worksheet-0"
    ],
    "jupyter": {
     "outputs_hidden": false
    }
   },
   "outputs": [],
   "source": [
    "list(range(0, 95, 10))"
   ]
  },
  {
   "cell_type": "markdown",
   "metadata": {
    "ein.tags": [
     "worksheet-0"
    ]
   },
   "source": [
    "`range` é frequentemente usado, junto com `len` para percorrer todos os elementos de uma lista."
   ]
  },
  {
   "cell_type": "code",
   "execution_count": null,
   "metadata": {
    "autoscroll": "json-false",
    "collapsed": false,
    "ein.tags": [
     "worksheet-0"
    ],
    "jupyter": {
     "outputs_hidden": false
    }
   },
   "outputs": [],
   "source": [
    "for i in range(len(minhalista)):\n",
    "    print(i, minhalista[i])"
   ]
  },
  {
   "cell_type": "markdown",
   "metadata": {
    "ein.tags": [
     "worksheet-0"
    ]
   },
   "source": [
    "Apesar de que para isso existe uma forma mais prática usando afunção de enumeração."
   ]
  },
  {
   "cell_type": "code",
   "execution_count": null,
   "metadata": {
    "autoscroll": "json-false",
    "collapsed": false,
    "ein.tags": [
     "worksheet-0"
    ],
    "jupyter": {
     "outputs_hidden": false
    }
   },
   "outputs": [],
   "source": [
    "for i, x in enumerate(minhalista):\n",
    "    print(i, x)"
   ]
  },
  {
   "cell_type": "markdown",
   "metadata": {},
   "source": [
    "Como no `while` o `for` pode ter `break` ou `continue` e também um `else`, com os mesmos signficados:"
   ]
  },
  {
   "cell_type": "code",
   "execution_count": null,
   "metadata": {},
   "outputs": [],
   "source": [
    "for x in range(20):\n",
    "    if x % 3 == 0: \n",
    "        continue\n",
    "    print(x)"
   ]
  },
  {
   "cell_type": "code",
   "execution_count": null,
   "metadata": {},
   "outputs": [],
   "source": [
    "for x in range(1, 20):\n",
    "    if x % 15 == 0:\n",
    "        break\n",
    "    print(x)\n",
    "else:\n",
    "    print('for terminado completamente.')\n",
    "print('Fora do for')"
   ]
  },
  {
   "cell_type": "code",
   "execution_count": null,
   "metadata": {},
   "outputs": [],
   "source": [
    "for x in range(1, 20):\n",
    "    if x/3 > 15:\n",
    "        break\n",
    "    print(x)\n",
    "else:\n",
    "    print('for terminado completamente.')\n",
    "print('Fora do for')"
   ]
  },
  {
   "cell_type": "markdown",
   "metadata": {},
   "source": [
    "# Exercícios"
   ]
  },
  {
   "cell_type": "markdown",
   "metadata": {},
   "source": [
    "Qual a saída produzida por cada um dos seguintes trechos de código?\n",
    "\n",
    "1.\n",
    "```python\n",
    "values = [12, 13, 14, None, 16]\n",
    "for x in values:\n",
    "    if x is not None:\n",
    "    print(x // 2)\n",
    "```\n",
    "2.\n",
    "```python\n",
    "a = 0\n",
    "while a < 100:\n",
    "    print(a)\n",
    "    if a < 4:\n",
    "        a += 1\n",
    "    elif a < 64:\n",
    "        a *= 2\n",
    "    elif a == 64:\n",
    "        a //= 3\n",
    "    else:\n",
    "        a += 10\n",
    "```\n",
    "3.\n",
    "```python\n",
    "candidates = [-1, 0, 1, 0.0, 0.00001, '0', 'Oi', '', [], [1], {}, {0}, set()]\n",
    "for c in candidates:\n",
    "    if c:\n",
    "        print(f'{c} is not False')\n",
    "    else:\n",
    "        print(f'{c} is False')\n",
    "```\n",
    "4.\n",
    "```python\n",
    "i = 1\n",
    "while i < 20:\n",
    "    print(i)\n",
    "    if i % 3 == 0:\n",
    "        i += 2\n",
    "    elif i % 5 == 0:\n",
    "        i += 4\n",
    "    elif i % 7 == 0:\n",
    "        i += 6\n",
    "    elif i % 12 == 0:\n",
    "        break\n",
    "    else:\n",
    "        i += 1\n",
    "else:\n",
    "    print('Terminated succefully!')\n",
    "```"
   ]
  }
 ],
 "metadata": {
  "kernelspec": {
   "display_name": "Python 3 (ipykernel)",
   "language": "python",
   "name": "python3"
  },
  "language_info": {
   "codemirror_mode": {
    "name": "ipython",
    "version": 3
   },
   "file_extension": ".py",
   "mimetype": "text/x-python",
   "name": "python",
   "nbconvert_exporter": "python",
   "pygments_lexer": "ipython3",
   "version": "3.10.7"
  },
  "name": "Aula03.ipynb"
 },
 "nbformat": 4,
 "nbformat_minor": 4
}
