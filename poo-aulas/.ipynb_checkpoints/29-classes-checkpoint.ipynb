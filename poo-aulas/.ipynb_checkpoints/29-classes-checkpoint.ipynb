{
 "cells": [
  {
   "cell_type": "markdown",
   "metadata": {},
   "source": [
    "# Orientação a objetos"
   ]
  },
  {
   "cell_type": "markdown",
   "metadata": {},
   "source": [
    "A orientação a objetos se baseia no conceito de *tipos abstratos de dados:* queremos definir os tipos através do **conjunto de operações** permitidas nesses tipos (e não através da forma como os dados do tipo são representados no computador).\n",
    "\n",
    "Para isso, ao definir um tipo (denominado neste caso uma **classe**), devemos especificar as operações (denominadas **métodos**) que definem esse tipo."
   ]
  },
  {
   "cell_type": "markdown",
   "metadata": {},
   "source": [
    "## 1. Definindo classes, métodos e objetos"
   ]
  },
  {
   "cell_type": "markdown",
   "metadata": {},
   "source": [
    "Para dar uma ideia inicial dos conceitos envolvidos, vejamos uma classe inútil que apenas escreve coisas.\n",
    "\n",
    "**ATENÇÃO:** ficar escrevendo coisas em métodos de classes é raramente apropriado."
   ]
  },
  {
   "cell_type": "code",
   "execution_count": null,
   "metadata": {},
   "outputs": [],
   "source": [
    "class Talker:\n",
    "    def something(self):\n",
    "        print('May I tell you something?')\n",
    "    \n",
    "    def other(self):\n",
    "        print('Let me tell you another thing.')"
   ]
  },
  {
   "cell_type": "markdown",
   "metadata": {},
   "source": [
    "Esse código define um novo tipo de dados denomiado `Talker`, que tem dois métodos (operações) denominados `something` e `other`.\n",
    "\n",
    "O uso de `self` no código acima será discutido mais adiante.\n",
    "\n",
    "Quando queremos lidar com esse tipo de elemento, devemos criar um **objeto** desse tipo, o que é possível usando a classe como se fosse uma função.\n",
    "\n",
    "O resultado é a criação de um *objeto* (que é uma *instância* da classe)."
   ]
  },
  {
   "cell_type": "code",
   "execution_count": null,
   "metadata": {},
   "outputs": [],
   "source": [
    "juca = Talker()"
   ]
  },
  {
   "cell_type": "markdown",
   "metadata": {},
   "source": [
    "Agora `juca` é uma variável com uma referência para um objeto da classe `Talker`."
   ]
  },
  {
   "cell_type": "code",
   "execution_count": null,
   "metadata": {},
   "outputs": [],
   "source": [
    "juca"
   ]
  },
  {
   "cell_type": "markdown",
   "metadata": {},
   "source": [
    "Outra forma de dizer é que `Talker` é o tipo do objeto referenciado por `juca`."
   ]
  },
  {
   "cell_type": "code",
   "execution_count": null,
   "metadata": {},
   "outputs": [],
   "source": [
    "a = 1"
   ]
  },
  {
   "cell_type": "code",
   "execution_count": null,
   "metadata": {},
   "outputs": [],
   "source": [
    "type(a)"
   ]
  },
  {
   "cell_type": "code",
   "execution_count": null,
   "metadata": {},
   "outputs": [],
   "source": [
    "type(juca)"
   ]
  },
  {
   "cell_type": "markdown",
   "metadata": {},
   "source": [
    "Os métodos da classe podem ser executados sobre um objeto usando a notação `objeto.metodo()`."
   ]
  },
  {
   "cell_type": "code",
   "execution_count": null,
   "metadata": {},
   "outputs": [],
   "source": [
    "juca.something()"
   ]
  },
  {
   "cell_type": "code",
   "execution_count": null,
   "metadata": {},
   "outputs": [],
   "source": [
    "juca.other()"
   ]
  },
  {
   "cell_type": "markdown",
   "metadata": {},
   "source": [
    "## 2. Alguns outros exemplos simples"
   ]
  },
  {
   "cell_type": "markdown",
   "metadata": {},
   "source": [
    "No exemplo acima, todos os objetos que forem criados da classe `Talker` terão essencialmente o mesmo comportamento:"
   ]
  },
  {
   "cell_type": "code",
   "execution_count": null,
   "metadata": {},
   "outputs": [],
   "source": [
    "tico = Talker()\n",
    "tico.something()\n",
    "tico.other()"
   ]
  },
  {
   "cell_type": "markdown",
   "metadata": {},
   "source": [
    "Nesse caso, não faz sentido ter mais do que um objeto dessa classe. \n",
    "\n",
    "Em geral, quando criamos um novo tipo, queremos que os diferentes objetos desse tipo tenham possivelmente \"valores\" distintos, o que afetará seu comportamento (isto é, afetará como eles respondem aos diferentes métodos.\n",
    "\n",
    "Vejamos alguns exemplos simples."
   ]
  },
  {
   "cell_type": "markdown",
   "metadata": {},
   "source": [
    "### 2.1. Contador"
   ]
  },
  {
   "cell_type": "markdown",
   "metadata": {},
   "source": [
    "Vamos definir um tipo de objetos (classe) que são responsáveis por fazer contagem de quantas vezes algo aconteceu. Os objetos guardam o número de ocorrências e têm um método (`up`) para indicar uma nova ocorrência e um método `value` para verificar quantas ocorrências houveram até o momento da chamada. O objeto precisa ter seu valor inicializado em zero ao ser criado.\n",
    "\n",
    "Traduzido para Python, fica desta forma:"
   ]
  },
  {
   "cell_type": "code",
   "execution_count": null,
   "metadata": {},
   "outputs": [],
   "source": [
    "class Counter:\n",
    "    def __init__(self):\n",
    "        self._value = 0\n",
    "\n",
    "    def up(self):\n",
    "        self._value += 1\n",
    "    \n",
    "    def value(self):\n",
    "        return self._value"
   ]
  },
  {
   "cell_type": "markdown",
   "metadata": {},
   "source": [
    "Você deve ter reparado que os códigos dos métodos fazem amplo uso de `self`. Os métodos de uma classe (exceções serão discutidas em outra aula) devem ter como primeiro parâmetro o `self`. Esse parâmetro será uma variável com uma *referência* para o objeto sobre o qual o método foi chamado (isto é, o objeto que está à esquerda do ponto na chamada do método).\n",
    "\n",
    "Com o uso de `self`, podemos definir variáveis internas ao objeto, que poderão ser acessadas através dele pelos métodos da classe ou diretamente. Cada objeto da classe terá uma cópia própria dessas variáveis."
   ]
  },
  {
   "cell_type": "markdown",
   "metadata": {},
   "source": [
    "Quando criamos um objeto da classe, o método `__init__` é chamado, e os parâmetros passados durante a criação são passados para esse método. Por exemplo, no código abaixo é criado um objeto do tipo `Counter` e em seguida o método `__init__` é chamado com uma referência para esse objeto na variável `self` e nenhum outro parâmetro (pois não colocamos nada entre parêntesis)."
   ]
  },
  {
   "cell_type": "code",
   "execution_count": null,
   "metadata": {},
   "outputs": [],
   "source": [
    "c1 = Counter()\n",
    "assert c1.value() == 0, 'Wrong initial value'"
   ]
  },
  {
   "cell_type": "markdown",
   "metadata": {},
   "source": [
    "O Python dispõe de diversos métodos _especiais_, que eu chamo de _mágicos_, e em inglês são comumente chamados *\"dunder methods\"*, que têm um nome começado e terminado em dois _underscore_, como o `__init__`.  Cada um desses métodos é acionado em situações especiais, como aqui o `__init__` durante a criação de um objeto. Mais tarde vamos estudar outros desses métodos mágicos.\n",
    "\n",
    "O método `__init__` é importante para **garantir que um objeto seja criado em um estado consistente**. Neste caso, queremos garantir que o contador tenha o valor inicial zero.\n",
    "\n",
    "Note como, durante a execução do método `__init__` fazemos `self._value = 0`. Isto provoca a criação de uma variável `_value` que é associada ao objeto referenciado por `self` (isto é, o objeto que está sendo inicializado). Utilizamos este método para criar todas as variáveis necessárias para armazenar o estado do objeto.\n",
    "\n",
    "Note também como no método `up` incrementamos o valor da variável `_value` associada ao objeto referenciado por `self`. O objeto referenciado por `self` será o objeto à esquerda do ponto na chamada do método."
   ]
  },
  {
   "cell_type": "code",
   "execution_count": null,
   "metadata": {},
   "outputs": [],
   "source": [
    "c1.up()\n",
    "assert c1.value() == 1, 'Wrong increment'"
   ]
  },
  {
   "cell_type": "markdown",
   "metadata": {},
   "source": [
    "Segue um exemplo de uso:"
   ]
  },
  {
   "cell_type": "code",
   "execution_count": null,
   "metadata": {},
   "outputs": [],
   "source": [
    "multiplos = Counter()\n",
    "for i in range(1, 1024, 2):\n",
    "    if i % 3 == 0 or i % 5 == 0:\n",
    "        multiplos.up()\n",
    "print(f'Achei {multiplos.value()} múltiplos de três ou cinco')"
   ]
  },
  {
   "cell_type": "markdown",
   "metadata": {},
   "source": [
    "### 2.2. Retângulo"
   ]
  },
  {
   "cell_type": "markdown",
   "metadata": {},
   "source": [
    "Agora vamos fazer uma classe para guardar informações de base e altura de retângulos. Cada objeto representará um retângulo, com valores de base e altura específicos.\n",
    "\n",
    "Ao criar o objeto (retângulo) precisamos indicar qual a base e a altura. Após isso, só queremos verificar algumas de suas características geométricas, como perímetro, área, diagonal, base e altura.\n",
    "\n",
    "Tomamos o cuidado de verificar que base e altura sejam não negativos (não faria sentido serem negativos ou nulos)."
   ]
  },
  {
   "cell_type": "code",
   "execution_count": null,
   "metadata": {},
   "outputs": [],
   "source": [
    "class Rectangle:\n",
    "    def __init__(self, base, height):\n",
    "        assert base > 0, 'base size must be positive'\n",
    "        assert height > 0, 'height must be positive'\n",
    "        self._base = base\n",
    "        self._height = height\n",
    "        \n",
    "    def base(self):\n",
    "        return self._base\n",
    "    \n",
    "    def height(self):\n",
    "        return self._height\n",
    "    \n",
    "    def perimeter(self):\n",
    "        return 2 * (self._base + self._height)\n",
    "    \n",
    "    def area(self):\n",
    "        return self._base * self._height\n",
    "    \n",
    "    def diagonal(self):\n",
    "        from math import hypot\n",
    "        return hypot(self._base, self._height)"
   ]
  },
  {
   "cell_type": "code",
   "execution_count": null,
   "metadata": {},
   "outputs": [],
   "source": [
    "r1 = Rectangle(1, 1)\n",
    "r2 = Rectangle(3, 4)\n",
    "r3 = Rectangle(0.3, 0.4)\n",
    "for r in [r1, r2, r3]:\n",
    "    print('Area', r.area())\n",
    "    print('Perimeter', r.perimeter())\n",
    "    print('Diagonal', r.diagonal())"
   ]
  },
  {
   "cell_type": "markdown",
   "metadata": {},
   "source": [
    "### 2.3. Dois maiores"
   ]
  },
  {
   "cell_type": "markdown",
   "metadata": {},
   "source": [
    "Agora vamos definir um tipo um pouco mais útil. Os objetos dessa classe receberão diversos valores, e terão guardados sempre os dois maiores valores que receberam até o momento (desde a sua criação).\n",
    "\n",
    "A **interface** dos objetos dessa classe irá consistir em um método `insert` para passar um novo valor ao objeto e um método `get`, que retorna os dois maiores valores recebidos até o momento em um tupla de dois elementos, com o maior no primeiro elemento.\n",
    "\n",
    "Para a **implementação** , vamos usar duas variáveis locais do objeto (**membros**) `_largest` e `_second`, onde a primeira guardará o maior valor já enviado e a segunda o segundo maior valor. No início, marcaremos essas variáveis com `None` para indicar que não há valor correspondente."
   ]
  },
  {
   "cell_type": "code",
   "execution_count": null,
   "metadata": {},
   "outputs": [],
   "source": [
    "class TwoLargest:\n",
    "    # Class invariant [here, value_i is the i-th value inserted]:\n",
    "    #     (_largest is None and _second is None) or \n",
    "    #     (_largest == value_0 and _second is None) or \n",
    "    #     (_largest == value_i and \n",
    "    #      _second == value_j and i != j and\n",
    "    #      _largest >= _second and \n",
    "    #      _second >= value_k for all k != i, j)\n",
    "    \n",
    "    def __init__(self):\n",
    "        self._largest = None\n",
    "        self._second = None\n",
    "        \n",
    "    def insert(self, value):\n",
    "        if self._largest is None:\n",
    "            self._largest = value\n",
    "        elif value >= self._largest:\n",
    "            self._second = self._largest\n",
    "            self._largest = value\n",
    "        elif self._second is None or value > self._second:\n",
    "            self._second = value\n",
    "\n",
    "    def get(self):\n",
    "        return self._largest, self._second\n",
    "    \n",
    "    def reset(self):\n",
    "        self._"
   ]
  },
  {
   "cell_type": "code",
   "execution_count": null,
   "metadata": {},
   "outputs": [],
   "source": [
    "d = TwoLargest()\n",
    "d.get()"
   ]
  },
  {
   "cell_type": "code",
   "execution_count": null,
   "metadata": {},
   "outputs": [],
   "source": [
    "d.insert(1); d.insert(-1); d.insert(10); d.insert(10); d.insert(15)"
   ]
  },
  {
   "cell_type": "code",
   "execution_count": null,
   "metadata": {},
   "outputs": [],
   "source": [
    "d.get()"
   ]
  },
  {
   "cell_type": "code",
   "execution_count": null,
   "metadata": {},
   "outputs": [],
   "source": [
    "import random\n",
    "largest_two_rand = TwoLargest()\n",
    "for _ in range(1000):\n",
    "    largest_two_rand.insert(random.randint(1, 10_000))\n",
    "print(f'These are the two largest generated: {largest_two_rand.get()}')"
   ]
  },
  {
   "cell_type": "markdown",
   "metadata": {
    "jupyter": {
     "outputs_hidden": true
    }
   },
   "source": [
    "## 3. Encapsulação"
   ]
  },
  {
   "cell_type": "markdown",
   "metadata": {},
   "source": [
    "Como as classes devem implementar tipos abstratos de dados, e esses tipos são caracterizados pelo seu comportamento, e não pela sua implementação, é importante trabalhar de tal forma que todos os detalhes de implementação sejam mantidos afastados do código que usa a classe (eles são de interesse apenas para os métodos da classe).\n",
    "\n",
    "Isso é chamado **encapsulação**: encapsulamos os detalhes de implementação atravé do conjunto de métodos definidos na linguagem. \n",
    "\n",
    "Infelizmente, ao contrário da maioria das linguagens orientadas a objetos, o Python não tem mecanismo para garantir encapsulação. A saída desenvolvida pela comunidade de programadores em Python foi o uso de convenções. A convenção é que, qualquer elemento da classe que faça parte da implementação deve ter um identificador que começa com um _underscore_ `_`. Desta forma, quando você desenvolve uma classe, deve se lembrar que colocar um `_` inicial em todos os identificadores de elementos que sejam parte da implementação, e não parte da interface visível dos dados (como fizemos nos exemplos acima). Por outro lado, quando você usa uma classe, você deve evitar acessar diretamente identificadores que começam com `_`.\n",
    "\n",
    "Isso dá a liberdade ao implementador da classe de mudar a implementação quando quiser, sem afetar o código dos usuários da classe (os _clientes_), desde que estes tenham seguido as convenções. E correspondentemente garante aos clientes que seu código não deixará de funcionar quando for desenvolvida uma nova versão da classe."
   ]
  },
  {
   "cell_type": "markdown",
   "metadata": {},
   "source": [
    "---"
   ]
  },
  {
   "cell_type": "markdown",
   "metadata": {},
   "source": [
    "# Exercícios"
   ]
  },
  {
   "cell_type": "markdown",
   "metadata": {
    "tags": []
   },
   "source": [
    "1. Suponha que você quer usar objetos da classe `TwoLargest` acima de tal forma que, em um dado instante, podemos pedir para o objeto reiniciar, esquecendo tudo o que já tinha recebido, passando a operar como se fosse um novo objeto recém-criado. Vamos chamar esse método de `reset`. Altere a classe para implementar esse método.\n"
   ]
  },
  {
   "cell_type": "code",
   "execution_count": 33,
   "metadata": {
    "tags": []
   },
   "outputs": [],
   "source": [
    "class TwoLargest:\n",
    "    # Self é uma palavra chave usada para se referir ao objeto criado dentro da classe TwoLargest \n",
    "    # Note que self é o primeiro argumento dos métodos pois permite que o metodo acesse e atualize os atributos \n",
    "    def __init__(self):  # metodo especial para inicializar meus atributos automaticamente e de forma consistente -> SEMPRE devo inicializar\n",
    "        # quando fazemos self._largest estamos passando ao objeto o atributo largest e o definindo como None\n",
    "        self._largest = None  # atributo _largest, note que o _ indica que o atributo é parte da IMPLEMENTAÇÃO \n",
    "        self._second = None   # atributo _second, note que o _ indica que o atributo é parte da IMPLEMENTAÇÃO \n",
    "       \n",
    "    def insert(self, value):\n",
    "        if self._largest is None:\n",
    "            self._largest = value\n",
    "        elif value >= self._largest:\n",
    "            self._second = self._largest\n",
    "            self._largest = value\n",
    "        elif self._second is None or value > self._second:\n",
    "            self._second = value\n",
    "\n",
    "    def reset(self):  # no método reset eu quero voltar a estaca zero, ou seja, faço com que meus atributos sejam Nones novamente \n",
    "        self._largest = None\n",
    "        self._second = None \n",
    "        \n",
    "    def get(self):\n",
    "        return self._largest, self._second"
   ]
  },
  {
   "cell_type": "markdown",
   "metadata": {},
   "source": [
    "2. Escrever uma classe para representar uma conta bancária simplificada. Os objetos dessa classe representam contas individuais, e podem ser feitos depósitos e retiradas através de métodos correspondentes. Nos depósitos é passado para o método o valor a ser depositado, que deve ser um valor positivo; se não for positivo, nada é feito. Nas retiradas, passamos o valor requisitado (que também deve ser positivo) ao método e o método desconta o valor do total da conta e retorna o valor retirado; caso o valor requisitado exceda o pedido (ou seja inválido), nada é retirado. Você precisa também de um método para verificar o saldo atual da conta. \n",
    "    Escreva também um código de teste que use todas as características da classe."
   ]
  },
  {
   "cell_type": "code",
   "execution_count": 39,
   "metadata": {},
   "outputs": [],
   "source": [
    "class ContaBancaria: \n",
    "    def __init__(self):\n",
    "        self._valcorrente = 0\n",
    "        self._valdepositado = None\n",
    "        self._valretirado = None\n",
    "        \n",
    "    def deposito(self, valor):\n",
    "        assert valor > 0,  'O valor deve ser positivo'\n",
    "        self._valcorrente += valor\n",
    "        return valor\n",
    "    \n",
    "    def saque(self, valor):\n",
    "        assert valor > 0 and valor <= self._valcorrente, 'O valor solicitado deve ser positivo e não exceder o valor atual da conta'\n",
    "        self._valcorrente -= valor\n",
    "        return valor\n",
    "    \n",
    "    def get_valor_atual(self):\n",
    "        return self._valcorrente\n",
    "        "
   ]
  },
  {
   "cell_type": "code",
   "execution_count": 40,
   "metadata": {
    "tags": []
   },
   "outputs": [],
   "source": [
    "obj = ContaBancaria()"
   ]
  },
  {
   "cell_type": "code",
   "execution_count": 41,
   "metadata": {
    "tags": []
   },
   "outputs": [
    {
     "data": {
      "text/plain": [
       "800"
      ]
     },
     "execution_count": 41,
     "metadata": {},
     "output_type": "execute_result"
    }
   ],
   "source": [
    "obj.deposito(800)"
   ]
  },
  {
   "cell_type": "code",
   "execution_count": 42,
   "metadata": {
    "tags": []
   },
   "outputs": [
    {
     "data": {
      "text/plain": [
       "800"
      ]
     },
     "execution_count": 42,
     "metadata": {},
     "output_type": "execute_result"
    }
   ],
   "source": [
    "obj.get_valor_atual()"
   ]
  },
  {
   "cell_type": "code",
   "execution_count": 43,
   "metadata": {
    "tags": []
   },
   "outputs": [
    {
     "data": {
      "text/plain": [
       "1"
      ]
     },
     "execution_count": 43,
     "metadata": {},
     "output_type": "execute_result"
    }
   ],
   "source": [
    "obj.deposito(1)"
   ]
  },
  {
   "cell_type": "code",
   "execution_count": 44,
   "metadata": {
    "tags": []
   },
   "outputs": [
    {
     "data": {
      "text/plain": [
       "300"
      ]
     },
     "execution_count": 44,
     "metadata": {},
     "output_type": "execute_result"
    }
   ],
   "source": [
    "obj.saque(300)"
   ]
  },
  {
   "cell_type": "code",
   "execution_count": 46,
   "metadata": {
    "tags": []
   },
   "outputs": [
    {
     "data": {
      "text/plain": [
       "501"
      ]
     },
     "execution_count": 46,
     "metadata": {},
     "output_type": "execute_result"
    }
   ],
   "source": [
    "obj.get_valor_atual()"
   ]
  },
  {
   "cell_type": "markdown",
   "metadata": {},
   "source": [
    "3. Na célula abaixo, escreva o código de uma classe para representar um ponto em um espaço bidimensional, e uma função que recebe dois desses pontos e calcula a distância entre eles:"
   ]
  },
  {
   "cell_type": "code",
   "execution_count": 77,
   "metadata": {},
   "outputs": [],
   "source": [
    "# código com um método que cria pontos\n",
    "class Point:\n",
    "    def __init__(self):\n",
    "        self._xvalue = None\n",
    "        self._yvalue = None\n",
    "    \n",
    "    def cria_ponto(self,x,y):\n",
    "        self._xvalue = x\n",
    "        self._yvalue = y\n",
    "        return self._xvalue, self._yvalue"
   ]
  },
  {
   "cell_type": "code",
   "execution_count": 78,
   "metadata": {
    "tags": []
   },
   "outputs": [
    {
     "data": {
      "text/plain": [
       "(10, 20)"
      ]
     },
     "execution_count": 78,
     "metadata": {},
     "output_type": "execute_result"
    }
   ],
   "source": [
    "v = Point()\n",
    "v.cria_ponto(10,20)"
   ]
  },
  {
   "cell_type": "code",
   "execution_count": 12,
   "metadata": {
    "tags": []
   },
   "outputs": [],
   "source": [
    "# classe da forma solicitada \n",
    "class Point:\n",
    "    def __init__(self, x, y):\n",
    "        self._xvalue = x\n",
    "        self._yvalue = y\n",
    "    \n",
    "    def location(self):\n",
    "        return self._xvalue, self._yvalue\n",
    "\n",
    "import math\n",
    "def distance(p1, p2):\n",
    "    x1, y1 = p1.location()  # como os pontos p do código fornecido são uma tupla, quebro ela associando xvalue e yvalue pra cada entrada \n",
    "    x2, y2 = p2.location()\n",
    "    dx = x2 - x1\n",
    "    dy = y2 - y1\n",
    "    dist = math.sqrt(dx**2 + dy**2)\n",
    "    return dist\n"
   ]
  },
  {
   "cell_type": "markdown",
   "metadata": {},
   "source": [
    "A classe deve ser feita para ser usada como no código abaixo:"
   ]
  },
  {
   "cell_type": "code",
   "execution_count": 13,
   "metadata": {},
   "outputs": [
    {
     "name": "stdout",
     "output_type": "stream",
     "text": [
      "Some distance: 11.180339887498949\n",
      "Distances from que origin:\n",
      "Point at (1, 1) is 1.414 from the origin\n",
      "Point at (2, 3) is 3.606 from the origin\n",
      "Point at (3, -4) is 5.000 from the origin\n",
      "Point at (0.5, 0.7) is 0.860 from the origin\n"
     ]
    }
   ],
   "source": [
    "# A origem:\n",
    "origin = Point(0, 0)\n",
    "# Um ponto no eixo x\n",
    "px = Point(10, 0)\n",
    "# Um ponto no eixo y\n",
    "py = Point(0, 5)\n",
    "print('Some distance:', distance(px, py))\n",
    "# Outros pontos:\n",
    "point_list = [Point(1, 1), Point(2, 3), Point(3, -4), Point(0.5, 0.7)]\n",
    "print('Distances from que origin:')\n",
    "for point in point_list:\n",
    "    x, y = point.location()\n",
    "    print(f'Point at {x, y} is {distance(point, origin):.3f} from the origin')"
   ]
  },
  {
   "cell_type": "markdown",
   "metadata": {},
   "source": [
    "4. Você deve criar uma classe (complete a célula abaixo) que representa um reservatório com uma capacidade fixa. A capacidade é especificada no momento da criação do objeto. Por exemplo, o código\n",
    "\n",
    "    Reservoir(100\n",
    "    \n",
    "    cria um reservatório vazio com capacidade de 100 unidades de volume (não importa qual unidade).\n",
    "\n",
    "    Você pode adicionar mais líquido usando o método `put(x)`, que insere `x` unidades de volume no reservatório. Se houver excesso (nem tudo o que se quer inserir cabe no reservatório), o método irá encher o reservatório até onde é possível e então retornar o valor do que excedeu a capacidade. Se não houver excesso ele deve retornar 0.\n",
    "\n",
    "    Para retirar líquido do reservatório usamos o método `take(x)` que tenta tirar `x` unidades de volume do reservatório. Se o reservatório não tem líquido suficiente, é retirado tudo o que ele tem e ele fica vazio. O método deve retornar a quantidade que ele efetivamente conseguiu retirar.\n",
    "\n",
    "    O método `used()` pode ser usado para verificar quanto líquido existe atualmente no reservatório.\n",
    "    O método `capacity()` pode ser usado para ver a capacidade total de um reservatório."
   ]
  },
  {
   "cell_type": "code",
   "execution_count": 18,
   "metadata": {},
   "outputs": [],
   "source": [
    "class Reservoir(): \n",
    "    def __init__(self, capacity): \n",
    "        self._capacity = capacity\n",
    "        self._current = 0\n",
    "        \n",
    "    def put(self, x):\n",
    "        disponivel = self._capacity - self._current\n",
    "        if disponivel >= x:\n",
    "            self._current += x\n",
    "            return 0\n",
    "        else: \n",
    "            self._current += min(self._current, disponivel)\n",
    "            return abs(x - disponivel)\n",
    "    \n",
    "    def take(self, x): \n",
    "        if self._current >= x:\n",
    "            self._current -= x\n",
    "            return x\n",
    "        else: \n",
    "            volretirado = self._current\n",
    "            self._current = 0\n",
    "            return (volretirado)\n",
    "            \n",
    "    def capacity(self): \n",
    "        return self._capacity\n",
    "    \n",
    "    def used(self):\n",
    "        return self._current"
   ]
  },
  {
   "cell_type": "code",
   "execution_count": 184,
   "metadata": {
    "tags": []
   },
   "outputs": [
    {
     "data": {
      "text/plain": [
       "10"
      ]
     },
     "execution_count": 184,
     "metadata": {},
     "output_type": "execute_result"
    }
   ],
   "source": [
    "r2 = Reservoir(10)\n",
    "r2.capacity()"
   ]
  },
  {
   "cell_type": "code",
   "execution_count": 185,
   "metadata": {
    "tags": []
   },
   "outputs": [
    {
     "data": {
      "text/plain": [
       "0"
      ]
     },
     "execution_count": 185,
     "metadata": {},
     "output_type": "execute_result"
    }
   ],
   "source": [
    "r2.used()"
   ]
  },
  {
   "cell_type": "code",
   "execution_count": 186,
   "metadata": {
    "tags": []
   },
   "outputs": [
    {
     "data": {
      "text/plain": [
       "0"
      ]
     },
     "execution_count": 186,
     "metadata": {},
     "output_type": "execute_result"
    }
   ],
   "source": [
    "r2.put(6)"
   ]
  },
  {
   "cell_type": "code",
   "execution_count": 187,
   "metadata": {
    "tags": []
   },
   "outputs": [
    {
     "data": {
      "text/plain": [
       "6"
      ]
     },
     "execution_count": 187,
     "metadata": {},
     "output_type": "execute_result"
    }
   ],
   "source": [
    "r2.used()"
   ]
  },
  {
   "cell_type": "code",
   "execution_count": 2,
   "metadata": {
    "tags": []
   },
   "outputs": [
    {
     "ename": "NameError",
     "evalue": "name 'r2' is not defined",
     "output_type": "error",
     "traceback": [
      "\u001b[0;31m---------------------------------------------------------------------------\u001b[0m",
      "\u001b[0;31mNameError\u001b[0m                                 Traceback (most recent call last)",
      "Cell \u001b[0;32mIn[2], line 1\u001b[0m\n\u001b[0;32m----> 1\u001b[0m \u001b[43mr2\u001b[49m\u001b[38;5;241m.\u001b[39mput(\u001b[38;5;241m5\u001b[39m)\n",
      "\u001b[0;31mNameError\u001b[0m: name 'r2' is not defined"
     ]
    }
   ],
   "source": [
    "r2.put(5)"
   ]
  },
  {
   "cell_type": "code",
   "execution_count": 14,
   "metadata": {},
   "outputs": [],
   "source": [
    "class Reservoir:\n",
    "    def __init__(self, capacity):\n",
    "        self._capacidade = capacity\n",
    "        self._volumeAtual = 0\n",
    "\n",
    "    def put(self, nlitros):\n",
    "        # verifica se ultrapassara o limite, se não, insere n litros e retorna 0, se passar, ele insere o que dá e retorna o excesso \n",
    "        volDisponivel = (self._capacidade - self._volumeAtual)\n",
    "        if nlitros <= volDisponivel:\n",
    "            self._volumeAtual += nlitros\n",
    "            return 0\n",
    "        else: \n",
    "            self._volumeAtual += min(self._volumeAtual, volDisponivel)\n",
    "            volExcedente = abs(nlitros - volDisponivel)\n",
    "            return volExcedente\n",
    "        \n",
    "    def take(self, nlitros): \n",
    "        # se o reservatorio nao tiver todo o liquido que quero tirar, tira tudo o que dá e fica vazio, retornando o que conseguiu tirar \n",
    "        if nlitros <= self._volumeAtual:\n",
    "            self._volumeAtual -= nlitros\n",
    "            return nlitros\n",
    "        else: \n",
    "            volRetirado = self._volumeAtual\n",
    "            self._volumeAtual = 0\n",
    "            return volRetirado \n",
    "        \n",
    "    def used(self): \n",
    "        # retorna quantos litros tem \n",
    "        return self._volumeAtual\n",
    "        \n",
    "    def capacity(self):\n",
    "        #retorna capacidade do reservatorio \n",
    "        return self._capacidade\n",
    "        "
   ]
  },
  {
   "cell_type": "code",
   "execution_count": 189,
   "metadata": {
    "tags": []
   },
   "outputs": [
    {
     "data": {
      "text/plain": [
       "10"
      ]
     },
     "execution_count": 189,
     "metadata": {},
     "output_type": "execute_result"
    }
   ],
   "source": [
    "r2.used()"
   ]
  },
  {
   "cell_type": "code",
   "execution_count": 190,
   "metadata": {
    "tags": []
   },
   "outputs": [
    {
     "data": {
      "text/plain": [
       "7"
      ]
     },
     "execution_count": 190,
     "metadata": {},
     "output_type": "execute_result"
    }
   ],
   "source": [
    "r2.take(7)"
   ]
  },
  {
   "cell_type": "code",
   "execution_count": 191,
   "metadata": {
    "tags": []
   },
   "outputs": [
    {
     "data": {
      "text/plain": [
       "3"
      ]
     },
     "execution_count": 191,
     "metadata": {},
     "output_type": "execute_result"
    }
   ],
   "source": [
    "r2.used()"
   ]
  },
  {
   "cell_type": "code",
   "execution_count": 192,
   "metadata": {
    "tags": []
   },
   "outputs": [
    {
     "data": {
      "text/plain": [
       "3"
      ]
     },
     "execution_count": 192,
     "metadata": {},
     "output_type": "execute_result"
    }
   ],
   "source": [
    "r2.take(4)"
   ]
  },
  {
   "cell_type": "markdown",
   "metadata": {},
   "source": [
    "A classe deve passar os testes do código abaixo:"
   ]
  },
  {
   "cell_type": "code",
   "execution_count": 19,
   "metadata": {},
   "outputs": [],
   "source": [
    "r1 = Reservoir(10)\n",
    "assert r1.used() == 0, 'Sua inicialização está errada'\n",
    "assert r1.capacity() == 10, 'Capacidade errada'\n",
    "\n",
    "assert r1.put(6) == 0, 'Está enchendo antes do que devia'\n",
    "assert r1.used() == 6, 'Não está guardando o líquido corretamente'\n",
    "\n",
    "assert r1.put(5) == 1, 'Não está lidando com excesso corretamente'\n",
    "assert r1.used() == 10, 'Não está lidando com excesso corretamente'\n",
    "\n",
    "assert r1.take(7) == 7, 'Não tira líquido como devia'\n",
    "assert r1.used() == 3, 'Cuidado com a conservação da matéria'\n",
    "\n",
    "assert r1.take(4) == 3, 'Não tirou como devia'\n",
    "assert r1.used() == 0, 'Deveria estar vazio agora'\n",
    "\n",
    "assert r1.capacity() == 10, 'Quem alterou a capacidade?'"
   ]
  },
  {
   "cell_type": "markdown",
   "metadata": {},
   "source": [
    "---"
   ]
  },
  {
   "cell_type": "markdown",
   "metadata": {},
   "source": [
    "## Estudando em casa "
   ]
  },
  {
   "cell_type": "markdown",
   "metadata": {},
   "source": [
    "Dado o código a seguir que foi apresentado em aula, vamos analisar parte a parte no intuito de compreender melhor o que está acontecendo"
   ]
  },
  {
   "cell_type": "code",
   "execution_count": 1,
   "metadata": {
    "tags": []
   },
   "outputs": [],
   "source": [
    "class TwoLargest:\n",
    "    \n",
    "    def __init__(self):\n",
    "        self._largest = None\n",
    "        self._second = None\n",
    "        \n",
    "    def insert(self, value):\n",
    "        if self._largest is None:\n",
    "            self._largest = value\n",
    "        elif value >= self._largest:\n",
    "            self._second = self._largest\n",
    "            self._largest = value\n",
    "        elif self._second is None or value > self._second:\n",
    "            self._second = value\n",
    "\n",
    "    def reset(self):\n",
    "        self._largest = None\n",
    "        self._second = None \n",
    "        \n",
    "    def get(self):\n",
    "        return self._largest, self._second\n",
    "    \n"
   ]
  },
  {
   "cell_type": "markdown",
   "metadata": {},
   "source": [
    "O script anterior contempla: \n",
    "- Uma classe nomeada de TwoLargest cujo intuito é encontrar os  2 maiores valores numa lista de limeros .\n",
    "- Depois da classe temos 4 métodos, que são funções que pertencem à classe e expressam 'funcionalidades' distintas: \n",
    "    - ```init```: é o construtor da classe que inicializa os atributos de modo a ser consistente. Nesse caso, os atributos são: ```_largest``` e ```_second``` como ```None```. Note que o init é um método especial chamado automaticamente quando uma instancia da classe é construída. \n",
    "    - ```insert```: método para inserir um valor na lista e verificar se esse valor é maior ou o segundo maior e atualiza o valor dos atributos. \n",
    "    - ```get```: método que retorna uma tupla dos valores atuais de ```_largest``` e ```second```.\n",
    "    - ```reset```: método para resetar os atributos e redefiní-los como None. "
   ]
  },
  {
   "cell_type": "markdown",
   "metadata": {},
   "source": [
    "### Como saber quem será meu atributo numa classe? \n",
    "- atributos guardam dados \n",
    "- métodos manipulam os dados/atributos\n",
    "- atributos são como variáveis definidas dentro dos respectivos métodos. \n",
    "\n",
    "Geralmente, os atributos de uma classe são escolhidos com base nas necessidades e objetivos da classe. Eles são usados para armazenar informações que são importantes para a classe e que precisam ser acessadas e manipuladas por seus métodos.\n",
    "\n",
    "Para escolher o nome de um atributo, é uma boa prática usar nomes descritivos e que façam sentido em relação à função da classe.\n"
   ]
  },
  {
   "cell_type": "code",
   "execution_count": null,
   "metadata": {},
   "outputs": [],
   "source": []
  }
 ],
 "metadata": {
  "kernelspec": {
   "display_name": "Python 3 (ipykernel)",
   "language": "python",
   "name": "python3"
  },
  "language_info": {
   "codemirror_mode": {
    "name": "ipython",
    "version": 3
   },
   "file_extension": ".py",
   "mimetype": "text/x-python",
   "name": "python",
   "nbconvert_exporter": "python",
   "pygments_lexer": "ipython3",
   "version": "3.10.6"
  }
 },
 "nbformat": 4,
 "nbformat_minor": 4
}
