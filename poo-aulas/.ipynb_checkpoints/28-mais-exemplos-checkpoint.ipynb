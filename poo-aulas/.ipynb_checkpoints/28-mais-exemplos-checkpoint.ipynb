{
 "cells": [
  {
   "cell_type": "markdown",
   "metadata": {},
   "source": [
    "# Alguns exemplos"
   ]
  },
  {
   "cell_type": "markdown",
   "metadata": {},
   "source": [
    "## 1. Maior sequência de Collatz"
   ]
  },
  {
   "cell_type": "markdown",
   "metadata": {},
   "source": [
    "Uma sequência de Collatz é gerada pela recursão (partindo de um natural $n$ até chegar em 1)\n",
    "\n",
    "\\begin{eqnarray}\n",
    "n & \\rightarrow & n/2, & \\qquad n \\; \\mathrm{par}\\\\\n",
    "n & \\rightarrow & 3 n + 1, & \\qquad n \\; \\mathrm{ímpar}\n",
    "\\end{eqnarray}\n",
    "\n",
    "A conjetura de Collatz diz que a sequência sempre chega eventualmente em 1.\n",
    "\n",
    "Queremos encontrar a maior sequência de Collatz gerada partindo dos números inteiros menores que 1 milhão."
   ]
  },
  {
   "cell_type": "code",
   "execution_count": null,
   "metadata": {},
   "outputs": [],
   "source": [
    "def collatz_sequence(n):\n",
    "    res = [n]\n",
    "    while n != 1:\n",
    "        if n % 2 == 0:\n",
    "            n //= 2\n",
    "        else:\n",
    "            n = 3 * n + 1\n",
    "        res.append(n)\n",
    "    return res"
   ]
  },
  {
   "cell_type": "code",
   "execution_count": null,
   "metadata": {},
   "outputs": [],
   "source": [
    "collatz_sequence(13)"
   ]
  },
  {
   "cell_type": "code",
   "execution_count": null,
   "metadata": {},
   "outputs": [],
   "source": [
    "largest = [1]\n",
    "len_largest = 1\n",
    "for n in range(2, 1_000_000):\n",
    "    coll_n = collatz_sequence(n)\n",
    "    len_n = len(coll_n)\n",
    "    if len_n > len_largest:\n",
    "        largest = coll_n\n",
    "        len_largest = len_n\n",
    "\n",
    "print('The largest Collatz sequence starts from', largest[0], 'and has', len_largest, 'elements\\n')\n",
    "print('The sequence is', largest)"
   ]
  },
  {
   "cell_type": "markdown",
   "metadata": {},
   "source": [
    "## 2. Tripla pitagórica especial"
   ]
  },
  {
   "cell_type": "markdown",
   "metadata": {},
   "source": [
    "Encontrar valores de $a$, $b$ e $c$ tais que:\n",
    "$$a < b < c,$$\n",
    "$$a^2 + b^2 = c^2,$$\n",
    "$$a + b + c = 1000.$$"
   ]
  },
  {
   "cell_type": "markdown",
   "metadata": {},
   "source": [
    "### 2.1 Força bruta"
   ]
  },
  {
   "cell_type": "markdown",
   "metadata": {},
   "source": [
    "Primeiro, vamos fazer uma solução de força bruta, procurando todas as possibilidades:"
   ]
  },
  {
   "cell_type": "code",
   "execution_count": null,
   "metadata": {},
   "outputs": [],
   "source": [
    "for a in range(1,1000):\n",
    "    for b in range(a+1, 1000):\n",
    "        for c in range(b+1, 1000):\n",
    "            if a + b + c == 1000 and a**2 + b**2 == c**2:\n",
    "                print(f'a = {a}, b = {b}, c = {c}')"
   ]
  },
  {
   "cell_type": "markdown",
   "metadata": {},
   "source": [
    "### 2.2 Uma melhora"
   ]
  },
  {
   "cell_type": "markdown",
   "metadata": {
    "tags": []
   },
   "source": [
    "Mas esse é um método nada inteligente e demorado. Podemos usar um pouco de matemática para conseguir um resultado melhor.\n",
    "vemos que na solução buscada\n",
    "$$c = 1000 - a - b,$$\n",
    "portanto não precisamos percorrer todos os valores de $c$. Isso sugere a seguinte modificação:"
   ]
  },
  {
   "cell_type": "code",
   "execution_count": null,
   "metadata": {},
   "outputs": [],
   "source": [
    "for a in range(1, 1000):\n",
    "    for b in range(a+1, 1000):\n",
    "        c = 1000 - a - b\n",
    "        if a**2 + b**2 == c**2:\n",
    "            print(f'a = {a}, b = {b}, c = {c}')"
   ]
  },
  {
   "cell_type": "markdown",
   "metadata": {},
   "source": [
    "Pergunta: Por que eu não precisei testar se $c>b$ no código acima?"
   ]
  },
  {
   "cell_type": "markdown",
   "metadata": {},
   "source": [
    "### 2.3 Mais matemática"
   ]
  },
  {
   "cell_type": "markdown",
   "metadata": {},
   "source": [
    "Isso é bem mais eficiente, mas ainda não acabamos com as possibilidades da matemática do problema. Lembramos que\n",
    "$$a^2 + b^2 = c^2,$$\n",
    "e substituindo a expressão $c = 1000 - a - b$, chegamos a\n",
    "$$a^2 + b^2 = (1000 - a - b)^2,$$\n",
    "que desenvolve para\n",
    "$$a^2 + b^2 = 1000^2 + a^2 + b^2 - 2000a - 2000b + 2ab,$$\n",
    "que simplifica para\n",
    "$$0 = 1000^2 - 2000a - 2000b + 2ab.$$\n",
    "Isolando $b$ temos:\n",
    "$$2000b - 2ab = 1000^2 - 2000a,$$\n",
    "ou\n",
    "$$b = \\frac{1000(1000 - 2a)}{2(1000-a)} = 500\\frac{1000-2a}{1000-a}.$$\n",
    "O que precisamos agora é apenas achar um valor de $a < 1000$ para o qual o valor de $b$ calculado acima é inteiro, o que sugere o seguinte código:"
   ]
  },
  {
   "cell_type": "code",
   "execution_count": null,
   "metadata": {},
   "outputs": [],
   "source": [
    "for a in range(1, 1000):\n",
    "    b = 500 * (1000 - 2 * a) / (1000 - a)\n",
    "    if int(b) == b:\n",
    "        b = int(b)\n",
    "        break\n",
    "print(f'a = {a}, b = {b}, c = {1000 - a - b}')"
   ]
  },
  {
   "cell_type": "markdown",
   "metadata": {},
   "source": [
    "### 2.4 E o problema da precisão?"
   ]
  },
  {
   "cell_type": "markdown",
   "metadata": {},
   "source": [
    "Essa versão funciona pois os inteiros pequenos envolvidos aqui tëm representação exata em número de ponto flutuante, o que significa que a conversão para inteiro de `b` gera o valor esperado. Num caso geral, é melhor evitar o risco de problemas de precisão evitando o uso de ponto flutuante nas operações, o que no caso deste problema pode ser feito da seguinte forma:"
   ]
  },
  {
   "cell_type": "code",
   "execution_count": null,
   "metadata": {},
   "outputs": [],
   "source": [
    "for a in range(1, 1000):\n",
    "    num = (500 * (1000 - 2 * a))\n",
    "    den = (1000 - a)\n",
    "    b =  num // den\n",
    "    if b * den == num:\n",
    "        break\n",
    "print(f'a = {a}, b = {b}, c = {1000 - a - b}')"
   ]
  },
  {
   "cell_type": "markdown",
   "metadata": {},
   "source": [
    "## 3. Números amigáveis"
   ]
  },
  {
   "cell_type": "markdown",
   "metadata": {},
   "source": [
    "Os *divisores próprios* de um número inteiro $n$ são os divisores de $n$ menores do que ele. Por exemplo, os divisores próprios de 12 são 1, 2, 3, 4, e 6.\n",
    "\n",
    "Seja $d(n)$ uma função que retorna a soma dos divisores próprios de $n$. No nosso exemplo, $d(12) = 16$.\n",
    "\n",
    "Dados dois números naturais $a$ e $b$, eles são chamados *amigáveis* se $d(a) = b$ e $d(b) = a$. Por exemplo, os divisores próprios de 220 são 1, 2, 4, 5, 10, 11, 20, 22, 44, 55 e 110, e portanto $d(220) = 284$. Os divisores próprios de 284 são 1, 2, 4, 71 e 142, e portanto $d(284) = 220$, mostrando que 220 e 284 são amigáveis.\n",
    "\n",
    "Queremos encontrar a soma de todos os números amigáveis menores do que 10000."
   ]
  },
  {
   "cell_type": "markdown",
   "metadata": {},
   "source": [
    "### 3.1 Funções auxiliares"
   ]
  },
  {
   "cell_type": "markdown",
   "metadata": {},
   "source": [
    "Primeiro, criamos uma função que calcula os divisores próprios de um número dado. Vamos usar geradores."
   ]
  },
  {
   "cell_type": "code",
   "execution_count": null,
   "metadata": {},
   "outputs": [],
   "source": [
    "def proper_divisors(n):\n",
    "    for k in range(1, n // 2 + 1):\n",
    "        if n % k == 0:\n",
    "            yield k"
   ]
  },
  {
   "cell_type": "markdown",
   "metadata": {},
   "source": [
    "Vejamos se está funcionando:"
   ]
  },
  {
   "cell_type": "code",
   "execution_count": null,
   "metadata": {},
   "outputs": [],
   "source": [
    "list(proper_divisors(12))"
   ]
  },
  {
   "cell_type": "code",
   "execution_count": null,
   "metadata": {},
   "outputs": [],
   "source": [
    "list(proper_divisors(220))"
   ]
  },
  {
   "cell_type": "code",
   "execution_count": null,
   "metadata": {},
   "outputs": [],
   "source": [
    "list(proper_divisors(284))"
   ]
  },
  {
   "cell_type": "markdown",
   "metadata": {},
   "source": [
    "Parece funcionar. Implementamos agora a função $d(n)$."
   ]
  },
  {
   "cell_type": "code",
   "execution_count": null,
   "metadata": {},
   "outputs": [],
   "source": [
    "def d(n):\n",
    "    return sum(proper_divisors(n))"
   ]
  },
  {
   "cell_type": "markdown",
   "metadata": {},
   "source": [
    "Essa foi fácil. Vamos testar:"
   ]
  },
  {
   "cell_type": "code",
   "execution_count": null,
   "metadata": {},
   "outputs": [],
   "source": [
    "d(12)"
   ]
  },
  {
   "cell_type": "code",
   "execution_count": null,
   "metadata": {},
   "outputs": [],
   "source": [
    "d(220)"
   ]
  },
  {
   "cell_type": "code",
   "execution_count": null,
   "metadata": {},
   "outputs": [],
   "source": [
    "d(284)"
   ]
  },
  {
   "cell_type": "markdown",
   "metadata": {},
   "source": [
    "### 3.2 Implementação simples"
   ]
  },
  {
   "cell_type": "markdown",
   "metadata": {},
   "source": [
    "Vamos começar com uma implementação direta da solução procurada."
   ]
  },
  {
   "cell_type": "code",
   "execution_count": null,
   "metadata": {},
   "outputs": [],
   "source": [
    "s = 0\n",
    "for a in range(1, 10000):\n",
    "    b = d(a)\n",
    "    perhaps_a = d(b)\n",
    "    if a == perhaps_a and a != b:\n",
    "        s += a\n",
    "print('The sum is', s)"
   ]
  },
  {
   "cell_type": "markdown",
   "metadata": {},
   "source": [
    "### 3.3 Evitando duplicação de cálculos"
   ]
  },
  {
   "cell_type": "markdown",
   "metadata": {},
   "source": [
    "A solução anterior é suficientemente rápida, mas temos duplicação de cálculos. Por exemplo, quando $a=220$ calculamos tanto $d(220)$ quando $d(284)$. Depois, quando $a=284$ calculamos novamente $d(284)$ e $d(220)$.\n",
    "\n",
    "Podemos evitar essa duplicação com um dicionário de valores já calculados:"
   ]
  },
  {
   "cell_type": "code",
   "execution_count": null,
   "metadata": {},
   "outputs": [],
   "source": [
    "s = 0\n",
    "cached_d = {}\n",
    "for a in range(1, 10000):\n",
    "    if a not in cached_d:\n",
    "        cached_d[a] = d(a)\n",
    "    b = cached_d[a]\n",
    "    if b not in cached_d:\n",
    "        cached_d[b] = d(b)\n",
    "    perhaps_a = cached_d[b]\n",
    "    if a == perhaps_a and a != b:\n",
    "        s += a\n",
    "print('The sum is', s)"
   ]
  },
  {
   "cell_type": "markdown",
   "metadata": {},
   "source": [
    "A diferença não é muito significativa neste caso, mas pode ser em outros casos. Existe uma forma simples e elegante de fazer esse tipo de otimização (chamada *memoização*) usando decoradores, que veremos mais adiante."
   ]
  },
  {
   "cell_type": "markdown",
   "metadata": {},
   "source": [
    "# Exercício (Project Euler, #46)"
   ]
  },
  {
   "cell_type": "markdown",
   "metadata": {},
   "source": [
    "Goldbach fez a conjetura de que todos os ímpares compostos (isto é, número ímpares que não são primos) podem ser escritos como a soma de um primo com o dobro de um quadrado perfeito.\n",
    "\n",
    "Veja os seguintes exemplos:\n",
    "\n",
    "```\n",
    "9 = 7 + 2×1²\n",
    "15 = 7 + 2×2²\n",
    "21 = 3 + 2×3²\n",
    "25 = 7 + 2×3²\n",
    "27 = 19 + 2×2²\n",
    "33 = 31 + 2×1²\n",
    "```\n",
    "\n",
    "Infelizmente, essa conjetura não é válida.\n",
    "\n",
    "Escreva um código para encontrar o menor ímpar composto que não pode ser escrito como a soma de um primo com o dobro de um quadrado perfeito."
   ]
  }
 ],
 "metadata": {
  "kernelspec": {
   "display_name": "Python 3 (ipykernel)",
   "language": "python",
   "name": "python3"
  },
  "language_info": {
   "codemirror_mode": {
    "name": "ipython",
    "version": 3
   },
   "file_extension": ".py",
   "mimetype": "text/x-python",
   "name": "python",
   "nbconvert_exporter": "python",
   "pygments_lexer": "ipython3",
   "version": "3.10.7"
  }
 },
 "nbformat": 4,
 "nbformat_minor": 4
}
