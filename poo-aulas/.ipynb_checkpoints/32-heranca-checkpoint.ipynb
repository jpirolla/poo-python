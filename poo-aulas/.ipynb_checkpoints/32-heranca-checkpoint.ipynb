{
 "cells": [
  {
   "cell_type": "markdown",
   "metadata": {},
   "source": [
    "# Definição de classes e herança"
   ]
  },
  {
   "cell_type": "markdown",
   "metadata": {},
   "source": [
    "## 1. Exemplo inicial"
   ]
  },
  {
   "cell_type": "markdown",
   "metadata": {},
   "source": [
    "Como vimos, podemos definir uma classe, a partir da qual construimos objetos. Os métodos definidos na classe estarão disponíveis para todos os objetos.\n",
    "\n",
    "O exemplo abaixo define uma classe para objetos que serão usados como contadores, com métodos para aumentar (`up`) o valor e acessar o valor atual (`value`).\n",
    "\n",
    "O método `__init__` é chamado quando o objeto é criado, e inicializa o contador em zero."
   ]
  },
  {
   "cell_type": "code",
   "execution_count": 2,
   "metadata": {
    "tags": []
   },
   "outputs": [],
   "source": [
    "class Counter:\n",
    "    def __init__(self):\n",
    "        self._value = 0\n",
    "        \n",
    "    def up(self):\n",
    "        self._value += 1\n",
    "        \n",
    "    def value(self):\n",
    "        return self._value"
   ]
  },
  {
   "cell_type": "code",
   "execution_count": 3,
   "metadata": {
    "tags": []
   },
   "outputs": [],
   "source": [
    "c1 = Counter()"
   ]
  },
  {
   "cell_type": "code",
   "execution_count": 4,
   "metadata": {
    "tags": []
   },
   "outputs": [],
   "source": [
    "c2 = Counter()"
   ]
  },
  {
   "cell_type": "code",
   "execution_count": 5,
   "metadata": {
    "tags": []
   },
   "outputs": [
    {
     "data": {
      "text/plain": [
       "<__main__.Counter at 0x7f15478d8ac0>"
      ]
     },
     "execution_count": 5,
     "metadata": {},
     "output_type": "execute_result"
    }
   ],
   "source": [
    "c1"
   ]
  },
  {
   "cell_type": "code",
   "execution_count": 6,
   "metadata": {
    "tags": []
   },
   "outputs": [
    {
     "data": {
      "text/plain": [
       "<__main__.Counter at 0x7f15478dbd60>"
      ]
     },
     "execution_count": 6,
     "metadata": {},
     "output_type": "execute_result"
    }
   ],
   "source": [
    "c2"
   ]
  },
  {
   "cell_type": "markdown",
   "metadata": {},
   "source": [
    "Os dois objetos referenciados por `c1` e `c2` acima são contadores. Podemos então acessar os métodos definidos na classe, com a notação de ponto:"
   ]
  },
  {
   "cell_type": "code",
   "execution_count": 7,
   "metadata": {
    "tags": []
   },
   "outputs": [
    {
     "data": {
      "text/plain": [
       "0"
      ]
     },
     "execution_count": 7,
     "metadata": {},
     "output_type": "execute_result"
    }
   ],
   "source": [
    "c1.value()"
   ]
  },
  {
   "cell_type": "code",
   "execution_count": 8,
   "metadata": {
    "tags": []
   },
   "outputs": [],
   "source": [
    "c1.up()"
   ]
  },
  {
   "cell_type": "code",
   "execution_count": 9,
   "metadata": {
    "tags": []
   },
   "outputs": [
    {
     "data": {
      "text/plain": [
       "1"
      ]
     },
     "execution_count": 9,
     "metadata": {},
     "output_type": "execute_result"
    }
   ],
   "source": [
    "c1.value()"
   ]
  },
  {
   "cell_type": "markdown",
   "metadata": {},
   "source": [
    "Os objetos são distintos, e portanto cada um guarda um estado diferente."
   ]
  },
  {
   "cell_type": "code",
   "execution_count": 10,
   "metadata": {
    "tags": []
   },
   "outputs": [
    {
     "data": {
      "text/plain": [
       "0"
      ]
     },
     "execution_count": 10,
     "metadata": {},
     "output_type": "execute_result"
    }
   ],
   "source": [
    "c2.value()"
   ]
  },
  {
   "cell_type": "markdown",
   "metadata": {},
   "source": [
    "## 2. Herança"
   ]
  },
  {
   "cell_type": "markdown",
   "metadata": {},
   "source": [
    "Suponha agora que queremos criar **um outro tipo de contador**, que além de contar para cima tenha também a capacidade de contar para baixo. Neste caso, não precisamos definir todo o código já existente novamente, basta usar *herança* para herdar o código existente em uma nova classe, e **nessa nova classe definir o que ela tem de novo**.\n",
    "\n",
    "Por exemplo, a classe `BidirectionalCounter` dispõe de todas as características da classe `Counter` e mais um método denominado `down`."
   ]
  },
  {
   "cell_type": "code",
   "execution_count": 11,
   "metadata": {},
   "outputs": [],
   "source": [
    "class BidirectionalCounter(Counter):\n",
    "    def down(self):\n",
    "        self._value -= 1"
   ]
  },
  {
   "cell_type": "code",
   "execution_count": 12,
   "metadata": {},
   "outputs": [],
   "source": [
    "d1 = BidirectionalCounter()"
   ]
  },
  {
   "cell_type": "code",
   "execution_count": 13,
   "metadata": {},
   "outputs": [
    {
     "data": {
      "text/plain": [
       "0"
      ]
     },
     "execution_count": 13,
     "metadata": {},
     "output_type": "execute_result"
    }
   ],
   "source": [
    "d1.value()"
   ]
  },
  {
   "cell_type": "code",
   "execution_count": 14,
   "metadata": {},
   "outputs": [],
   "source": [
    "d1.up()"
   ]
  },
  {
   "cell_type": "code",
   "execution_count": 15,
   "metadata": {},
   "outputs": [
    {
     "data": {
      "text/plain": [
       "1"
      ]
     },
     "execution_count": 15,
     "metadata": {},
     "output_type": "execute_result"
    }
   ],
   "source": [
    "d1.value()"
   ]
  },
  {
   "cell_type": "code",
   "execution_count": 16,
   "metadata": {},
   "outputs": [],
   "source": [
    "d1.up()"
   ]
  },
  {
   "cell_type": "code",
   "execution_count": 17,
   "metadata": {},
   "outputs": [
    {
     "data": {
      "text/plain": [
       "2"
      ]
     },
     "execution_count": 17,
     "metadata": {},
     "output_type": "execute_result"
    }
   ],
   "source": [
    "d1.value()"
   ]
  },
  {
   "cell_type": "code",
   "execution_count": 18,
   "metadata": {},
   "outputs": [],
   "source": [
    "d1.down()"
   ]
  },
  {
   "cell_type": "code",
   "execution_count": 19,
   "metadata": {},
   "outputs": [
    {
     "data": {
      "text/plain": [
       "1"
      ]
     },
     "execution_count": 19,
     "metadata": {},
     "output_type": "execute_result"
    }
   ],
   "source": [
    "d1.value()"
   ]
  },
  {
   "cell_type": "markdown",
   "metadata": {},
   "source": [
    "Também é possível criar classes derivadas que, ao invés de acrescentar novos comportamentos na classe base, **alteram** um dos comportamentos existentes.\n",
    "\n",
    "Por exemplo, se quisermos um tipo de contador de conta de dois em dois, podemos declarar uma classe `Jumper` derivada de `Counter` e que redefine o método `up` para aumentar de dois."
   ]
  },
  {
   "cell_type": "code",
   "execution_count": 20,
   "metadata": {},
   "outputs": [],
   "source": [
    "class Jumper(Counter):\n",
    "    def up(self):\n",
    "        self._value += 2"
   ]
  },
  {
   "cell_type": "code",
   "execution_count": 21,
   "metadata": {},
   "outputs": [],
   "source": [
    "p1 = Jumper()"
   ]
  },
  {
   "cell_type": "code",
   "execution_count": 22,
   "metadata": {},
   "outputs": [
    {
     "data": {
      "text/plain": [
       "0"
      ]
     },
     "execution_count": 22,
     "metadata": {},
     "output_type": "execute_result"
    }
   ],
   "source": [
    "p1.value()"
   ]
  },
  {
   "cell_type": "code",
   "execution_count": 23,
   "metadata": {},
   "outputs": [],
   "source": [
    "p1.up()"
   ]
  },
  {
   "cell_type": "code",
   "execution_count": 24,
   "metadata": {},
   "outputs": [
    {
     "data": {
      "text/plain": [
       "2"
      ]
     },
     "execution_count": 24,
     "metadata": {},
     "output_type": "execute_result"
    }
   ],
   "source": [
    "p1.value()"
   ]
  },
  {
   "cell_type": "markdown",
   "metadata": {},
   "source": [
    "Note que aqui, no método da classe derivada `Jumper`, fazemos uso diretamente do valor de `_value`, que em princípio é privado da classe `Counter`.\n",
    "\n",
    "Isto é considerado aceitável, mas tem a desvantagem de vincular a nova classe derivada à implementação da classe base. Se algum dia no futuro alterarmos a implementação de `Counter` de tal forma que o membro `_value` deixe de existir (o que em princípio é possível, visto que ele é privado), vamos precisar refazer o código da classe derivada.\n",
    "\n",
    "Por essa razão, sempre que apropriado é melhor implementar os métodos da classe derivada usando membros públicos da classe base.\n",
    "\n",
    "### Dúvida\n",
    "- Não entendi muito bem o trecho acima (usar métodos públicos da superclasse)"
   ]
  },
  {
   "cell_type": "markdown",
   "metadata": {},
   "source": [
    "## 3. Polimorfismo"
   ]
  },
  {
   "cell_type": "markdown",
   "metadata": {},
   "source": [
    "Como já vimos na aula anterior, é possível definir funções genéricas, que operam sobre qualquer tipo de contador.\n",
    "\n",
    "No código abaixo, a função `activate_counter` funciona para qualquer tipo de objeto que defina os métodos `up` e `value` (desde que o método `value` retorne algo que pode ser convertido para `str`, para a impressão)."
   ]
  },
  {
   "cell_type": "code",
   "execution_count": 6,
   "metadata": {},
   "outputs": [],
   "source": [
    "def activate_counter(c):\n",
    "    for i in range(10):\n",
    "        c.up()\n",
    "        print(c.value())"
   ]
  },
  {
   "cell_type": "code",
   "execution_count": 7,
   "metadata": {},
   "outputs": [
    {
     "name": "stdout",
     "output_type": "stream",
     "text": [
      "1\n",
      "2\n",
      "3\n",
      "4\n",
      "5\n",
      "6\n",
      "7\n",
      "8\n",
      "9\n",
      "10\n"
     ]
    }
   ],
   "source": [
    "activate_counter(Counter())"
   ]
  },
  {
   "cell_type": "code",
   "execution_count": 12,
   "metadata": {},
   "outputs": [
    {
     "name": "stdout",
     "output_type": "stream",
     "text": [
      "2\n",
      "4\n",
      "6\n",
      "8\n",
      "10\n",
      "12\n",
      "14\n",
      "16\n",
      "18\n",
      "20\n"
     ]
    }
   ],
   "source": [
    "activate_counter(Jumper())"
   ]
  },
  {
   "cell_type": "code",
   "execution_count": 13,
   "metadata": {},
   "outputs": [
    {
     "name": "stdout",
     "output_type": "stream",
     "text": [
      "1\n",
      "2\n",
      "3\n",
      "4\n",
      "5\n",
      "6\n",
      "7\n",
      "8\n",
      "9\n",
      "10\n"
     ]
    }
   ],
   "source": [
    "activate_counter(BidirectionalCounter())"
   ]
  },
  {
   "cell_type": "markdown",
   "metadata": {},
   "source": [
    "Os códigos acima funcionam corretamente pois o Python primeiro verifica o tipo (classe) do objeto, depois procura os métodos `up` e `value` apropriados para esse tipo de objeto. Isso é denominado **polimorfismo**, pois a mesma chamada de método no código pode ativar métodos distintos, dependendo do tipo do objeto sobre o qual ela é realizada.\n",
    "\n",
    "Observe com atenção a definição de classes abaixo e as saídas produzidas pela execução de códigos. Certifique-se de que você entendeu todas as saídas."
   ]
  },
  {
   "cell_type": "code",
   "execution_count": 14,
   "metadata": {},
   "outputs": [],
   "source": [
    "class A:\n",
    "    def __init__(self):\n",
    "        print('Creating an A object')\n",
    "        \n",
    "    def f(self):\n",
    "        print('Method f of A called')\n",
    "\n",
    "    def g(self):\n",
    "        print('Method g of A called')"
   ]
  },
  {
   "cell_type": "code",
   "execution_count": 15,
   "metadata": {},
   "outputs": [],
   "source": [
    "class B(A):\n",
    "    def f(self):\n",
    "        print('Method f of B called')\n",
    "        \n",
    "class C(A):\n",
    "    def g(self):\n",
    "        print('Method g of C called')\n",
    "\n",
    "class D(B):\n",
    "    def f(self):\n",
    "        print('Method f of D called')\n",
    "\n",
    "class E(C):\n",
    "    def f(self):\n",
    "        print('Method f of E called')"
   ]
  },
  {
   "cell_type": "code",
   "execution_count": 16,
   "metadata": {},
   "outputs": [
    {
     "name": "stdout",
     "output_type": "stream",
     "text": [
      "Creating an A object\n",
      "Creating an A object\n",
      "Creating an A object\n",
      "Creating an A object\n",
      "Creating an A object\n"
     ]
    }
   ],
   "source": [
    "a = A(); b = B(); c = C(); d = D(); e = E()"
   ]
  },
  {
   "cell_type": "code",
   "execution_count": 17,
   "metadata": {},
   "outputs": [
    {
     "name": "stdout",
     "output_type": "stream",
     "text": [
      "Method f of A called\n"
     ]
    }
   ],
   "source": [
    "a.f()"
   ]
  },
  {
   "cell_type": "code",
   "execution_count": 18,
   "metadata": {},
   "outputs": [
    {
     "name": "stdout",
     "output_type": "stream",
     "text": [
      "Method f of B called\n"
     ]
    }
   ],
   "source": [
    "b.f()"
   ]
  },
  {
   "cell_type": "code",
   "execution_count": 19,
   "metadata": {},
   "outputs": [
    {
     "name": "stdout",
     "output_type": "stream",
     "text": [
      "Method f of A called\n"
     ]
    }
   ],
   "source": [
    "c.f()"
   ]
  },
  {
   "cell_type": "code",
   "execution_count": 20,
   "metadata": {},
   "outputs": [
    {
     "name": "stdout",
     "output_type": "stream",
     "text": [
      "Method f of D called\n"
     ]
    }
   ],
   "source": [
    "d.f()"
   ]
  },
  {
   "cell_type": "code",
   "execution_count": 21,
   "metadata": {},
   "outputs": [
    {
     "name": "stdout",
     "output_type": "stream",
     "text": [
      "Method f of E called\n"
     ]
    }
   ],
   "source": [
    "e.f()"
   ]
  },
  {
   "cell_type": "code",
   "execution_count": 22,
   "metadata": {},
   "outputs": [
    {
     "name": "stdout",
     "output_type": "stream",
     "text": [
      "Method g of A called\n"
     ]
    }
   ],
   "source": [
    "a.g()"
   ]
  },
  {
   "cell_type": "code",
   "execution_count": 23,
   "metadata": {},
   "outputs": [
    {
     "name": "stdout",
     "output_type": "stream",
     "text": [
      "Method g of A called\n"
     ]
    }
   ],
   "source": [
    "b.g()"
   ]
  },
  {
   "cell_type": "code",
   "execution_count": 24,
   "metadata": {},
   "outputs": [
    {
     "name": "stdout",
     "output_type": "stream",
     "text": [
      "Method g of C called\n"
     ]
    }
   ],
   "source": [
    "c.g()"
   ]
  },
  {
   "cell_type": "code",
   "execution_count": 25,
   "metadata": {},
   "outputs": [
    {
     "name": "stdout",
     "output_type": "stream",
     "text": [
      "Method g of A called\n"
     ]
    }
   ],
   "source": [
    "d.g()"
   ]
  },
  {
   "cell_type": "code",
   "execution_count": 26,
   "metadata": {},
   "outputs": [
    {
     "name": "stdout",
     "output_type": "stream",
     "text": [
      "Method g of C called\n"
     ]
    }
   ],
   "source": [
    "e.g()"
   ]
  },
  {
   "cell_type": "markdown",
   "metadata": {},
   "source": [
    "Note que, quando um classe derivada redefine um método da classe base, o método correspondente da classe base não é executado para objetos da classe derivada.\n",
    "\n",
    "Isso também é válido para o método de inicialização `__init__`."
   ]
  },
  {
   "cell_type": "code",
   "execution_count": 27,
   "metadata": {},
   "outputs": [],
   "source": [
    "class AA:\n",
    "    def __init__(self):\n",
    "        print('New AA object')\n",
    "\n",
    "class BB(AA):\n",
    "    def __init__(self):\n",
    "        print('New BB object')"
   ]
  },
  {
   "cell_type": "code",
   "execution_count": 28,
   "metadata": {},
   "outputs": [
    {
     "name": "stdout",
     "output_type": "stream",
     "text": [
      "New AA object\n"
     ]
    }
   ],
   "source": [
    "aa = AA()"
   ]
  },
  {
   "cell_type": "code",
   "execution_count": 29,
   "metadata": {},
   "outputs": [
    {
     "name": "stdout",
     "output_type": "stream",
     "text": [
      "New BB object\n"
     ]
    }
   ],
   "source": [
    "bb = BB()"
   ]
  },
  {
   "cell_type": "markdown",
   "metadata": {},
   "source": [
    "Normalmente, **no caso do `__init__`, queremos que o método de inicialização da classe base também seja executado**. Para isso, precisamos executá-lo explicitamente, o que podemos fazer como no código abaixo:"
   ]
  },
  {
   "cell_type": "markdown",
   "metadata": {},
   "source": [
    "### Dúvida\n",
    "- Quando é necessário redefinir o init de uma subclasse? Só quando eu quero criar novos métodos e variáveis para além das herdadas?"
   ]
  },
  {
   "cell_type": "code",
   "execution_count": 30,
   "metadata": {},
   "outputs": [],
   "source": [
    "class AAA:\n",
    "    def __init__(self):\n",
    "        print('New AAA object')\n",
    "\n",
    "class BBB(AAA):\n",
    "    def __init__(self):\n",
    "        AAA.__init__(self)\n",
    "        print('New BBB object')"
   ]
  },
  {
   "cell_type": "code",
   "execution_count": 31,
   "metadata": {},
   "outputs": [
    {
     "name": "stdout",
     "output_type": "stream",
     "text": [
      "New AAA object\n"
     ]
    }
   ],
   "source": [
    "aaa = AAA()"
   ]
  },
  {
   "cell_type": "code",
   "execution_count": 32,
   "metadata": {},
   "outputs": [
    {
     "name": "stdout",
     "output_type": "stream",
     "text": [
      "New AAA object\n",
      "New BBB object\n"
     ]
    }
   ],
   "source": [
    "bbb = BBB()"
   ]
  },
  {
   "cell_type": "markdown",
   "metadata": {},
   "source": [
    "A importância disso é que o método `__init__` de cada classe é responsável por estabelecer as propriedades dos objetos dessa classe. Como uma classe derivada herda as propriedades da classe base, é importante executar o `__init__` da classe base para corretamente inicializar essa parte herdada.\n",
    "\n",
    "Note que nos códigos anteriores, se a classe derivada não define um `__init__`, então o Python chama o `__init__` da classe base. Apenas quando você redefine o `__init__`, então o Python não tem como saber se essa sua inicialização já está fazendo tudo o necessário ou não. Então, quando você define um `__init__` em classes derivadas, lembre-se de chamar o `__init__` das classes base, ou então certificar-se que eles não são necessários."
   ]
  },
  {
   "cell_type": "markdown",
   "metadata": {},
   "source": [
    "## 4. Herança múltipla"
   ]
  },
  {
   "cell_type": "markdown",
   "metadata": {},
   "source": [
    "É também possível definir uma nova classe que herda comportamento de duas (ou mais) classes previamente existentes. Isso é denominado **herança múltipla**.\n",
    "\n",
    "No código abaixo temos uma classe para representar uma loja e uma outra classe para representar uma localização geográfica:"
   ]
  },
  {
   "cell_type": "code",
   "execution_count": 25,
   "metadata": {},
   "outputs": [],
   "source": [
    "class Store:\n",
    "    def __init__(self, name, owner):\n",
    "        self._name = name\n",
    "        self._owner = owner\n",
    "        \n",
    "    def name(self):\n",
    "        return self._name\n",
    "    \n",
    "    def owner(self):\n",
    "        return self._owner\n",
    "    \n",
    "class Location:\n",
    "    def __init__(self, lat, long):\n",
    "        assert -90 <= lat < 90, 'Bad latitude value.'\n",
    "        assert -180 <= long < 180, 'Bad longitude value.'\n",
    "        self._latitude = lat\n",
    "        self._longitude = long\n",
    "        \n",
    "    def longitude(self):\n",
    "        return self._longitude\n",
    "    \n",
    "    def latitude(self):\n",
    "        return self._latitude"
   ]
  },
  {
   "cell_type": "markdown",
   "metadata": {},
   "source": [
    "Podemos usar essas classe normalmente:"
   ]
  },
  {
   "cell_type": "code",
   "execution_count": 26,
   "metadata": {},
   "outputs": [
    {
     "name": "stdout",
     "output_type": "stream",
     "text": [
      "O Joaquim Natal é dono da loja \"Natal eCommerce\"\n",
      "A casa do Joaquim tem latitude -22.0 e longitude -47.9\n"
     ]
    }
   ],
   "source": [
    "en = Store('Natal eCommerce', 'Joaquim Natal')\n",
    "print(f'O {en.owner()} é dono da loja \"{en.name()}\"')\n",
    "\n",
    "casajn = Location(-22.0, -47.9)\n",
    "print(f'A casa do Joaquim tem latitude {casajn.latitude()} e longitude {casajn.longitude()}')"
   ]
  },
  {
   "cell_type": "markdown",
   "metadata": {},
   "source": [
    "Mas se queremos também falar de lojas com localização física, podemos querer incluir a sua localização, e para isso podemos usar herança múltipla:"
   ]
  },
  {
   "cell_type": "code",
   "execution_count": null,
   "metadata": {},
   "outputs": [],
   "source": [
    "class PhysicalStore(Store, Location):\n",
    "    def __init__(self, name, owner, lat, long):\n",
    "        Store.__init__(self, name, owner)\n",
    "        Location.__init__(self, lat, long)"
   ]
  },
  {
   "cell_type": "code",
   "execution_count": null,
   "metadata": {},
   "outputs": [],
   "source": [
    "sp = PhysicalStore('Sacolão Paiva', 'Lucia da Silva Paiva', -21.8, -48.2)\n",
    "print(f'O {sp.name()} é propriedade de {sp.owner()} e tem latitude {sp.latitude()} e longitude {sp.longitude()}')"
   ]
  },
  {
   "cell_type": "markdown",
   "metadata": {},
   "source": [
    "## 5. Exemplo: Uma classe simples para guardar placar de jogos de futebol"
   ]
  },
  {
   "cell_type": "markdown",
   "metadata": {},
   "source": [
    "A classe abaixo permite armazenar e mostrar o placar de um jogo de futebol. Passamos os nomes dos times na criação do objeto. Depois, para cada gol, chamamos o método `gol` passando o número (1 ou 2) do time que fez o gol (1 é o time da casa, 2 o visitante)."
   ]
  },
  {
   "cell_type": "code",
   "execution_count": null,
   "metadata": {},
   "outputs": [],
   "source": [
    "class Score:\n",
    "    def __init__(self, team1, team2):\n",
    "        self._teams = (team1, team2)\n",
    "        self._goals = (Counter(), Counter())\n",
    "    def goal(self, who):\n",
    "        self._goals[who - 1].up()\n",
    "    def score(self):\n",
    "        return f'{self._teams[0]} {self._goals[0].value()} X {self._goals[1].value()} {self._teams[1]}'"
   ]
  },
  {
   "cell_type": "code",
   "execution_count": null,
   "metadata": {},
   "outputs": [],
   "source": [
    "match = Score('Sãocarlense', 'Ferroviária')"
   ]
  },
  {
   "cell_type": "code",
   "execution_count": null,
   "metadata": {},
   "outputs": [],
   "source": [
    "match.score()"
   ]
  },
  {
   "cell_type": "code",
   "execution_count": null,
   "metadata": {},
   "outputs": [],
   "source": [
    "match.goal(1)"
   ]
  },
  {
   "cell_type": "code",
   "execution_count": null,
   "metadata": {},
   "outputs": [],
   "source": [
    "match.goal(2)"
   ]
  },
  {
   "cell_type": "code",
   "execution_count": null,
   "metadata": {},
   "outputs": [],
   "source": [
    "match.score()"
   ]
  },
  {
   "cell_type": "markdown",
   "metadata": {},
   "source": [
    "Agora suponhamos que queremos também registrar o nome dos jogadores que fizeram cada um dos gols. Para isso, precisamos alterar o método `goal` para incluir o nome do jogador e adicionar um método para retornar, dado um time (1 para o da casa, 2 para visitante), a lista (em ordem) de quem fez cada gol.\n",
    "\n",
    "Como as alterações são pequenas, podemos usar herança."
   ]
  },
  {
   "cell_type": "code",
   "execution_count": null,
   "metadata": {},
   "outputs": [],
   "source": [
    "class ExtendedScore(Score):\n",
    "    def __init__(self, team1, team2):\n",
    "        Score.__init__(self, team1, team2)\n",
    "        self._players = ([], [])\n",
    "\n",
    "    def goal(self, who, player):\n",
    "        Score.goal(self, who)\n",
    "        self._players[who - 1].append(player)\n",
    "\n",
    "    def scorers(self, who):\n",
    "        return self._players[who - 1]"
   ]
  },
  {
   "cell_type": "code",
   "execution_count": null,
   "metadata": {},
   "outputs": [],
   "source": [
    "px = ExtendedScore('Sãocarlense', 'Capivariano')"
   ]
  },
  {
   "cell_type": "code",
   "execution_count": null,
   "metadata": {},
   "outputs": [],
   "source": [
    "px.score()"
   ]
  },
  {
   "cell_type": "code",
   "execution_count": null,
   "metadata": {},
   "outputs": [],
   "source": [
    "px.goal(1, 'Zé Augusto')"
   ]
  },
  {
   "cell_type": "code",
   "execution_count": null,
   "metadata": {},
   "outputs": [],
   "source": [
    "px.score()"
   ]
  },
  {
   "cell_type": "code",
   "execution_count": null,
   "metadata": {},
   "outputs": [],
   "source": [
    "px.scorers(1)"
   ]
  },
  {
   "cell_type": "code",
   "execution_count": null,
   "metadata": {},
   "outputs": [],
   "source": [
    "px.goal(1, 'Pedro Lopes')"
   ]
  },
  {
   "cell_type": "code",
   "execution_count": null,
   "metadata": {},
   "outputs": [],
   "source": [
    "px.scorers(1)"
   ]
  },
  {
   "cell_type": "code",
   "execution_count": null,
   "metadata": {},
   "outputs": [],
   "source": [
    "px.scorers(2)"
   ]
  },
  {
   "cell_type": "code",
   "execution_count": null,
   "metadata": {},
   "outputs": [],
   "source": [
    "px.score()"
   ]
  },
  {
   "cell_type": "markdown",
   "metadata": {},
   "source": [
    "## 6. Mais exemplos abstratos"
   ]
  },
  {
   "cell_type": "markdown",
   "metadata": {},
   "source": [
    "Abaixo temos mais código usando herança e polimorfismo. Estude o código e certifique-se de entender porque cada uma das saídas foi produzida. (Note como a função `g` da classe base acaba fazendo chamadas para a função `f` de classes derivadas.)"
   ]
  },
  {
   "cell_type": "markdown",
   "metadata": {},
   "source": [
    "### 6.1"
   ]
  },
  {
   "cell_type": "code",
   "execution_count": 27,
   "metadata": {},
   "outputs": [],
   "source": [
    "class X:\n",
    "    def f(self):\n",
    "        print('f of X')\n",
    "        \n",
    "    def g(self):\n",
    "        print('g of X')\n",
    "        self.f()\n",
    "        \n",
    "class Y(X):\n",
    "    def f(self):\n",
    "        print('f of Y')\n",
    "        \n",
    "class Z(Y):\n",
    "    def f(self):\n",
    "        print('f of Z')"
   ]
  },
  {
   "cell_type": "code",
   "execution_count": 28,
   "metadata": {},
   "outputs": [],
   "source": [
    "x = X(); y = Y(); z = Z()"
   ]
  },
  {
   "cell_type": "code",
   "execution_count": 29,
   "metadata": {},
   "outputs": [
    {
     "name": "stdout",
     "output_type": "stream",
     "text": [
      "f of X\n"
     ]
    }
   ],
   "source": [
    "x.f()"
   ]
  },
  {
   "cell_type": "code",
   "execution_count": 30,
   "metadata": {},
   "outputs": [
    {
     "name": "stdout",
     "output_type": "stream",
     "text": [
      "f of Y\n"
     ]
    }
   ],
   "source": [
    "y.f()"
   ]
  },
  {
   "cell_type": "code",
   "execution_count": 31,
   "metadata": {},
   "outputs": [
    {
     "name": "stdout",
     "output_type": "stream",
     "text": [
      "f of Z\n"
     ]
    }
   ],
   "source": [
    "z.f()"
   ]
  },
  {
   "cell_type": "code",
   "execution_count": 32,
   "metadata": {},
   "outputs": [
    {
     "name": "stdout",
     "output_type": "stream",
     "text": [
      "g of X\n",
      "f of X\n"
     ]
    }
   ],
   "source": [
    "x.g()"
   ]
  },
  {
   "cell_type": "code",
   "execution_count": 33,
   "metadata": {},
   "outputs": [
    {
     "name": "stdout",
     "output_type": "stream",
     "text": [
      "g of X\n",
      "f of Y\n"
     ]
    }
   ],
   "source": [
    "y.g()"
   ]
  },
  {
   "cell_type": "code",
   "execution_count": 34,
   "metadata": {},
   "outputs": [
    {
     "name": "stdout",
     "output_type": "stream",
     "text": [
      "g of X\n",
      "f of Z\n"
     ]
    }
   ],
   "source": [
    "z.g()"
   ]
  },
  {
   "cell_type": "markdown",
   "metadata": {},
   "source": [
    "### 6.2"
   ]
  },
  {
   "cell_type": "code",
   "execution_count": 35,
   "metadata": {},
   "outputs": [],
   "source": [
    "class MyString(str):\n",
    "    pass"
   ]
  },
  {
   "cell_type": "code",
   "execution_count": 36,
   "metadata": {},
   "outputs": [],
   "source": [
    "p = MyString(\"Oi\")"
   ]
  },
  {
   "cell_type": "code",
   "execution_count": 37,
   "metadata": {},
   "outputs": [
    {
     "data": {
      "text/plain": [
       "1"
      ]
     },
     "execution_count": 37,
     "metadata": {},
     "output_type": "execute_result"
    }
   ],
   "source": [
    "p.find('i')"
   ]
  },
  {
   "cell_type": "code",
   "execution_count": 38,
   "metadata": {},
   "outputs": [
    {
     "data": {
      "text/plain": [
       "__main__.MyString"
      ]
     },
     "execution_count": 38,
     "metadata": {},
     "output_type": "execute_result"
    }
   ],
   "source": [
    "type(p)"
   ]
  },
  {
   "cell_type": "code",
   "execution_count": 39,
   "metadata": {},
   "outputs": [
    {
     "name": "stdout",
     "output_type": "stream",
     "text": [
      "Oi\n"
     ]
    }
   ],
   "source": [
    "print(p)"
   ]
  },
  {
   "cell_type": "code",
   "execution_count": 40,
   "metadata": {},
   "outputs": [
    {
     "data": {
      "text/plain": [
       "'Oi, mundo!'"
      ]
     },
     "execution_count": 40,
     "metadata": {},
     "output_type": "execute_result"
    }
   ],
   "source": [
    "p + ', mundo!'"
   ]
  },
  {
   "cell_type": "markdown",
   "metadata": {},
   "source": [
    "# Exercícios"
   ]
  },
  {
   "cell_type": "markdown",
   "metadata": {},
   "source": [
    "Para cada um dos códigos abaixo, encontre a saída que será produzida. Em seguida, rode o código e verifique se você acertou todos os detalhes. Caso tenha errado algo, tente entender por que você errou.\n",
    "\n",
    "1. \n",
    "```python\n",
    "class A:\n",
    "    def f(self):\n",
    "        print('A.f')\n",
    "    def g(self):\n",
    "        print('A.g')\n",
    "\n",
    "class B(A):\n",
    "    def f(self):\n",
    "        print('B.f')\n",
    "\n",
    "class C(A):\n",
    "    def g(self):\n",
    "        print('C.g')\n",
    "\n",
    "objects = [A(), B(), C()]\n",
    "for o in objects:\n",
    "    o.f()\n",
    "    o.g()\n",
    "```\n",
    "\n",
    "2. \n",
    "```python\n",
    "class A:\n",
    "    def f(self):\n",
    "        print('A.f')\n",
    "    def g(self):\n",
    "        print('A.g')\n",
    "\n",
    "class B(A):\n",
    "    def f(self):\n",
    "        print('B.f')\n",
    "\n",
    "class C(B):\n",
    "    def g(self):\n",
    "        print('C.g')\n",
    "\n",
    "objects = [A(), B(), C()]\n",
    "for o in objects:\n",
    "    o.f()\n",
    "    o.g()\n",
    "\n",
    "```\n",
    "\n",
    "3. \n",
    "```python\n",
    "class A:\n",
    "    def __init__(self):\n",
    "        print('A.__init__')\n",
    "    def f(self):\n",
    "        return 1\n",
    "\n",
    "class B(A):\n",
    "    def f(self):\n",
    "        return 2\n",
    "\n",
    "objects = [A(), B()]\n",
    "for o in objects:\n",
    "    print(o.f())\n",
    "```\n",
    "\n",
    "4. \n",
    "```python\n",
    "class A:\n",
    "    def __init__(self):\n",
    "        print('A.__init__')\n",
    "        self.x = 1\n",
    "    def f(self):\n",
    "        return self.x\n",
    "\n",
    "class B(A):\n",
    "    def f(self):\n",
    "        return 2 * self.x\n",
    "\n",
    "objects = [A(), B()]\n",
    "for o in objects:\n",
    "    print(o.f())  \n",
    "```\n",
    "\n",
    "5. \n",
    "```python\n",
    "class A:\n",
    "    def __init__(self):\n",
    "        print('A.__init__')\n",
    "    def f(self):\n",
    "        return 1\n",
    "\n",
    "class B(A):\n",
    "    def __init__(self):\n",
    "        print('B.__init__')\n",
    "    def f(self):\n",
    "        return 2\n",
    "\n",
    "objects = [A(), B()]\n",
    "for o in objects:\n",
    "    print(o.f())\n",
    "```\n",
    "\n",
    "6. \n",
    "```python\n",
    "class A:\n",
    "    def __init__(self):\n",
    "        print('A.__init__')\n",
    "        self.x = 1\n",
    "    def f(self):\n",
    "        return self.x\n",
    "\n",
    "class B(A):\n",
    "    def __init__(self):\n",
    "        print('B.__init__')\n",
    "    def f(self):\n",
    "        return 2 * self.x\n",
    "\n",
    "objects = [A(), B()]\n",
    "for o in objects:\n",
    "    print(o.f())\n",
    "```\n",
    "\n",
    "7. \n",
    "```python\n",
    "class A:\n",
    "    def __init__(self):\n",
    "        print('A.__init__')\n",
    "        self.x = 1\n",
    "    def f(self):\n",
    "        return self.x\n",
    "\n",
    "class B(A):\n",
    "    def __init__(self):\n",
    "        A.__init__(self)\n",
    "        print('B.__init__')\n",
    "    def f(self):\n",
    "        return 2 * self.x\n",
    "\n",
    "objects = [A(), B()]\n",
    "for o in objects:\n",
    "    print(o.f())\n",
    "```\n",
    "\n",
    "8. \n",
    "```python\n",
    "class A:\n",
    "    def f(self):\n",
    "        print('A.f')\n",
    "    def g(self):\n",
    "        print('A.g')\n",
    "        self.f()\n",
    "\n",
    "class B(A):\n",
    "    def g(self):\n",
    "        print('B.g')\n",
    "        self.f()\n",
    "\n",
    "class C(A):\n",
    "    def g(self):\n",
    "        print('C.g')\n",
    "        self.f()\n",
    "\n",
    "objects = [A(), B(), C()]\n",
    "for o in objects:\n",
    "    o.g()\n",
    "```\n",
    "\n",
    "9. \n",
    "```python\n",
    "class A:\n",
    "    def f(self):\n",
    "        print('A.f')\n",
    "    def g(self):\n",
    "        print('A.g')\n",
    "        self.f()\n",
    "\n",
    "class B(A):\n",
    "    def f(self):\n",
    "        print('B.f')\n",
    "    def g(self):\n",
    "        print('B.g')\n",
    "        self.f()\n",
    "\n",
    "class C(A):\n",
    "    def f(self):\n",
    "        print('C.f')\n",
    "    def g(self):\n",
    "        print('C.g')\n",
    "        self.f()\n",
    "\n",
    "objects = [A(), B(), C()]\n",
    "for o in objects:\n",
    "    o.g()\n",
    "```\n",
    "\n",
    "10. \n",
    "```python\n",
    "class A:\n",
    "    def f(self):\n",
    "        print('A.f')\n",
    "    def g(self):\n",
    "        print('A.g')\n",
    "        self.f()\n",
    "\n",
    "class B(A):\n",
    "    def f(self):\n",
    "        print('B.f')\n",
    "\n",
    "class C(A):\n",
    "    def f(self):\n",
    "        print('C.f')\n",
    "\n",
    "objects = [A(), B(), C()]\n",
    "for o in objects:\n",
    "    o.g()\n",
    "```\n"
   ]
  },
  {
   "cell_type": "markdown",
   "metadata": {},
   "source": [
    "### 1"
   ]
  },
  {
   "cell_type": "markdown",
   "metadata": {
    "tags": []
   },
   "source": [
    "#### a)"
   ]
  },
  {
   "cell_type": "code",
   "execution_count": 41,
   "metadata": {
    "tags": []
   },
   "outputs": [],
   "source": [
    "class A:\n",
    "    def f(self):\n",
    "        print('A.f')\n",
    "    def g(self):\n",
    "        print('A.g')\n",
    "\n",
    "class B(A):\n",
    "    def f(self):\n",
    "        print('B.f')\n",
    "\n",
    "class C(A):\n",
    "    def g(self):\n",
    "        print('C.g')"
   ]
  },
  {
   "cell_type": "markdown",
   "metadata": {},
   "source": [
    "A.f\n",
    "A.g\n",
    "\n",
    "B.f\n",
    "A.g\n",
    "\n",
    "A.f\n",
    "C.g"
   ]
  },
  {
   "cell_type": "code",
   "execution_count": 42,
   "metadata": {
    "tags": []
   },
   "outputs": [
    {
     "name": "stdout",
     "output_type": "stream",
     "text": [
      "A.f\n",
      "A.g\n",
      "B.f\n",
      "A.g\n",
      "A.f\n",
      "C.g\n"
     ]
    }
   ],
   "source": [
    "objects = [A(), B(), C()]\n",
    "for o in objects:\n",
    "    o.f()\n",
    "    o.g()"
   ]
  },
  {
   "cell_type": "code",
   "execution_count": 45,
   "metadata": {
    "tags": []
   },
   "outputs": [],
   "source": [
    "class A:\n",
    "    def f(self):\n",
    "        print('A.f')\n",
    "    def g(self):\n",
    "        print('A.g')\n",
    "\n",
    "class B(A):\n",
    "    def f(self):\n",
    "        print('B.f')\n",
    "\n",
    "class C(B):\n",
    "    def g(self):\n",
    "        print('C.g')"
   ]
  },
  {
   "cell_type": "markdown",
   "metadata": {},
   "source": [
    "#### c)"
   ]
  },
  {
   "cell_type": "code",
   "execution_count": 47,
   "metadata": {
    "tags": []
   },
   "outputs": [],
   "source": [
    "class A:\n",
    "    def __init__(self):\n",
    "        print('A.__init__')  # isso vai ser impresso em A e em B pq b é subclasse de A\n",
    "    def f(self):\n",
    "        return 1\n",
    "\n",
    "class B(A):\n",
    "    def f(self):\n",
    "        return 2"
   ]
  },
  {
   "cell_type": "markdown",
   "metadata": {
    "tags": []
   },
   "source": [
    "#### b)"
   ]
  },
  {
   "cell_type": "code",
   "execution_count": 46,
   "metadata": {
    "tags": []
   },
   "outputs": [
    {
     "name": "stdout",
     "output_type": "stream",
     "text": [
      "A.f\n",
      "A.g\n",
      "B.f\n",
      "A.g\n",
      "B.f\n",
      "C.g\n"
     ]
    }
   ],
   "source": [
    "objects = [A(), B(), C()]\n",
    "for o in objects:\n",
    "    o.f()\n",
    "    o.g()\n"
   ]
  },
  {
   "cell_type": "code",
   "execution_count": 48,
   "metadata": {
    "tags": []
   },
   "outputs": [
    {
     "name": "stdout",
     "output_type": "stream",
     "text": [
      "A.__init__\n",
      "A.__init__\n",
      "1\n",
      "2\n"
     ]
    }
   ],
   "source": []
  },
  {
   "cell_type": "markdown",
   "metadata": {},
   "source": [
    "    A.f\n",
    "    A.g\n",
    "    B.f\n",
    "    A.g\n",
    "    B.f\n",
    "    C.g"
   ]
  },
  {
   "cell_type": "markdown",
   "metadata": {},
   "source": [
    "#### d)"
   ]
  },
  {
   "cell_type": "code",
   "execution_count": 49,
   "metadata": {
    "tags": []
   },
   "outputs": [],
   "source": [
    "class A:\n",
    "    def __init__(self):\n",
    "        print('A.__init__')\n",
    "        self.x = 1\n",
    "    def f(self):\n",
    "        return self.x\n",
    "\n",
    "class B(A):\n",
    "    def f(self):\n",
    "        return 2 * self.x"
   ]
  },
  {
   "cell_type": "markdown",
   "metadata": {
    "tags": []
   },
   "source": [
    "### Dúvida: \n",
    "pq os init rodam primeiro antes mesmo de chamar o o.f de B?\n",
    "\n",
    "a. init\n",
    "1\n",
    "a.init\n",
    "2"
   ]
  },
  {
   "cell_type": "code",
   "execution_count": 51,
   "metadata": {
    "tags": []
   },
   "outputs": [
    {
     "name": "stdout",
     "output_type": "stream",
     "text": [
      "A.__init__\n",
      "A.__init__\n",
      "1\n",
      "2\n"
     ]
    }
   ],
   "source": [
    "objects = [A(), B()]\n",
    "for o in objects:\n",
    "    print(o.f())  "
   ]
  },
  {
   "cell_type": "markdown",
   "metadata": {},
   "source": [
    "#### e)"
   ]
  },
  {
   "cell_type": "code",
   "execution_count": 52,
   "metadata": {
    "tags": []
   },
   "outputs": [],
   "source": [
    "class A:\n",
    "    def __init__(self):\n",
    "        print('A.__init__')\n",
    "    def f(self):\n",
    "        return 1\n",
    "\n",
    "class B(A):\n",
    "    def __init__(self):\n",
    "        print('B.__init__')\n",
    "    def f(self):\n",
    "        return 2"
   ]
  },
  {
   "cell_type": "markdown",
   "metadata": {},
   "source": [
    "A.init\n",
    "B.init\n",
    "1\n",
    "2"
   ]
  },
  {
   "cell_type": "code",
   "execution_count": 53,
   "metadata": {
    "tags": []
   },
   "outputs": [
    {
     "name": "stdout",
     "output_type": "stream",
     "text": [
      "A.__init__\n",
      "B.__init__\n",
      "1\n",
      "2\n"
     ]
    }
   ],
   "source": [
    "objects = [A(), B()]\n",
    "for o in objects:\n",
    "    print(o.f())"
   ]
  },
  {
   "cell_type": "markdown",
   "metadata": {},
   "source": [
    "#### f)"
   ]
  },
  {
   "cell_type": "code",
   "execution_count": 55,
   "metadata": {
    "tags": []
   },
   "outputs": [],
   "source": [
    "class A:\n",
    "    def __init__(self):\n",
    "        print('A.__init__')\n",
    "        self.x = 1\n",
    "    def f(self):\n",
    "        return self.x\n",
    "class B(A):\n",
    "    def __init__(self):\n",
    "        print('B.__init__')\n",
    "    def f(self):\n",
    "        return 2 * self.x"
   ]
  },
  {
   "cell_type": "markdown",
   "metadata": {},
   "source": [
    "A.init\n",
    "B.init\n",
    "1\n",
    "2 (errado!!!) self x não está no escopo de B e B não inicializou o init de A, logo selfx nao é inicializado corretamente"
   ]
  },
  {
   "cell_type": "code",
   "execution_count": 56,
   "metadata": {
    "tags": []
   },
   "outputs": [
    {
     "name": "stdout",
     "output_type": "stream",
     "text": [
      "A.__init__\n",
      "B.__init__\n",
      "1\n"
     ]
    },
    {
     "ename": "AttributeError",
     "evalue": "'B' object has no attribute 'x'",
     "output_type": "error",
     "traceback": [
      "\u001b[0;31m---------------------------------------------------------------------------\u001b[0m",
      "\u001b[0;31mAttributeError\u001b[0m                            Traceback (most recent call last)",
      "Cell \u001b[0;32mIn[56], line 3\u001b[0m\n\u001b[1;32m      1\u001b[0m objects \u001b[38;5;241m=\u001b[39m [A(), B()]\n\u001b[1;32m      2\u001b[0m \u001b[38;5;28;01mfor\u001b[39;00m o \u001b[38;5;129;01min\u001b[39;00m objects:\n\u001b[0;32m----> 3\u001b[0m     \u001b[38;5;28mprint\u001b[39m(\u001b[43mo\u001b[49m\u001b[38;5;241;43m.\u001b[39;49m\u001b[43mf\u001b[49m\u001b[43m(\u001b[49m\u001b[43m)\u001b[49m)\n",
      "Cell \u001b[0;32mIn[55], line 11\u001b[0m, in \u001b[0;36mB.f\u001b[0;34m(self)\u001b[0m\n\u001b[1;32m     10\u001b[0m \u001b[38;5;28;01mdef\u001b[39;00m \u001b[38;5;21mf\u001b[39m(\u001b[38;5;28mself\u001b[39m):\n\u001b[0;32m---> 11\u001b[0m     \u001b[38;5;28;01mreturn\u001b[39;00m \u001b[38;5;241m2\u001b[39m \u001b[38;5;241m*\u001b[39m \u001b[38;5;28;43mself\u001b[39;49m\u001b[38;5;241;43m.\u001b[39;49m\u001b[43mx\u001b[49m\n",
      "\u001b[0;31mAttributeError\u001b[0m: 'B' object has no attribute 'x'"
     ]
    }
   ],
   "source": [
    "objects = [A(), B()]\n",
    "for o in objects:\n",
    "    print(o.f())"
   ]
  },
  {
   "cell_type": "markdown",
   "metadata": {},
   "source": [
    "#### g)"
   ]
  },
  {
   "cell_type": "code",
   "execution_count": 57,
   "metadata": {
    "tags": []
   },
   "outputs": [],
   "source": [
    "class A:\n",
    "    def __init__(self):\n",
    "        print('A.__init__')\n",
    "        self.x = 1\n",
    "    def f(self):\n",
    "        return self.x\n",
    "\n",
    "class B(A):\n",
    "    def __init__(self):\n",
    "        A.__init__(self)\n",
    "        print('B.__init__')\n",
    "    def f(self):\n",
    "        return 2 * self.x"
   ]
  },
  {
   "cell_type": "markdown",
   "metadata": {},
   "source": [
    "A.init\n",
    "A.init\n",
    "B.init\n",
    "1\n",
    "2"
   ]
  },
  {
   "cell_type": "code",
   "execution_count": 58,
   "metadata": {
    "tags": []
   },
   "outputs": [
    {
     "name": "stdout",
     "output_type": "stream",
     "text": [
      "A.__init__\n",
      "A.__init__\n",
      "B.__init__\n",
      "1\n",
      "2\n"
     ]
    }
   ],
   "source": [
    "objects = [A(), B()]\n",
    "for o in objects:\n",
    "    print(o.f())\n"
   ]
  },
  {
   "cell_type": "markdown",
   "metadata": {},
   "source": [
    "#### h)"
   ]
  },
  {
   "cell_type": "code",
   "execution_count": 59,
   "metadata": {
    "tags": []
   },
   "outputs": [],
   "source": [
    "class A:\n",
    "    def f(self):\n",
    "        print('A.f')\n",
    "    def g(self):\n",
    "        print('A.g')\n",
    "        self.f()\n",
    "\n",
    "class B(A):\n",
    "    def g(self):\n",
    "        print('B.g')\n",
    "        self.f()\n",
    "\n",
    "class C(A):\n",
    "    def g(self):\n",
    "        print('C.g')\n",
    "        self.f()"
   ]
  },
  {
   "cell_type": "markdown",
   "metadata": {},
   "source": [
    "A.g\n",
    "A.f\n",
    "B.g\n",
    "A.f\n",
    "C.g\n",
    "A.f"
   ]
  },
  {
   "cell_type": "code",
   "execution_count": 60,
   "metadata": {
    "tags": []
   },
   "outputs": [
    {
     "name": "stdout",
     "output_type": "stream",
     "text": [
      "A.g\n",
      "A.f\n",
      "B.g\n",
      "A.f\n",
      "C.g\n",
      "A.f\n"
     ]
    }
   ],
   "source": [
    "objects = [A(), B(), C()]\n",
    "for o in objects:\n",
    "    o.g()"
   ]
  },
  {
   "cell_type": "markdown",
   "metadata": {},
   "source": [
    "#### i)"
   ]
  },
  {
   "cell_type": "code",
   "execution_count": null,
   "metadata": {},
   "outputs": [],
   "source": [
    "class A:\n",
    "    def f(self):\n",
    "        print('A.f')\n",
    "    def g(self):\n",
    "        print('A.g')\n",
    "        self.f()\n",
    "\n",
    "class B(A):\n",
    "    def f(self):\n",
    "        print('B.f')\n",
    "    def g(self):\n",
    "        print('B.g')\n",
    "        self.f()\n",
    "\n",
    "class C(A):\n",
    "    def f(self):\n",
    "        print('C.f')\n",
    "    def g(self):\n",
    "        print('C.g')\n",
    "        self.f()"
   ]
  },
  {
   "cell_type": "markdown",
   "metadata": {},
   "source": [
    "A.g\n",
    "A.f\n",
    "B.g\n",
    "B.f\n",
    "C.g\n",
    "C.f"
   ]
  },
  {
   "cell_type": "code",
   "execution_count": 61,
   "metadata": {
    "tags": []
   },
   "outputs": [
    {
     "name": "stdout",
     "output_type": "stream",
     "text": [
      "A.g\n",
      "A.f\n",
      "B.g\n",
      "A.f\n",
      "C.g\n",
      "A.f\n"
     ]
    }
   ],
   "source": [
    "objects = [A(), B(), C()]\n",
    "for o in objects:\n",
    "    o.g()\n"
   ]
  },
  {
   "cell_type": "markdown",
   "metadata": {
    "tags": []
   },
   "source": [
    "#### j)"
   ]
  },
  {
   "cell_type": "code",
   "execution_count": 62,
   "metadata": {
    "tags": []
   },
   "outputs": [],
   "source": [
    "class A:\n",
    "    def f(self):\n",
    "        print('A.f')\n",
    "    def g(self):\n",
    "        print('A.g')\n",
    "        self.f()\n",
    "\n",
    "class B(A):\n",
    "    def f(self):\n",
    "        print('B.f')\n",
    "\n",
    "class C(A):\n",
    "    def f(self):\n",
    "        print('C.f')"
   ]
  },
  {
   "cell_type": "markdown",
   "metadata": {},
   "source": [
    "G.a\n",
    "A.f\n",
    "A.g\n",
    "B.f\n",
    "A.g\n",
    "C.f"
   ]
  },
  {
   "cell_type": "code",
   "execution_count": 63,
   "metadata": {
    "tags": []
   },
   "outputs": [
    {
     "name": "stdout",
     "output_type": "stream",
     "text": [
      "A.g\n",
      "A.f\n",
      "A.g\n",
      "B.f\n",
      "A.g\n",
      "C.f\n"
     ]
    }
   ],
   "source": [
    "objects = [A(), B(), C()]\n",
    "for o in objects:\n",
    "    o.g()"
   ]
  },
  {
   "cell_type": "markdown",
   "metadata": {
    "tags": []
   },
   "source": [
    "Use herança para resolver os seguintes exercícios:\n"
   ]
  },
  {
   "cell_type": "markdown",
   "metadata": {},
   "source": [
    "1. Um código dispõe da seguinte classe para representar pontos numa região bidimensional:\n",
    "    ```python\n",
    "    class Point:\n",
    "        def __init__(self, x, y):\n",
    "            self._coord = (x, y)\n",
    "        def get_coord(self):\n",
    "            return self._coord\n",
    "    ```\n",
    "    Escreva uma classe derivada para representar um ponto colorido, que além da localização guarda três valores de pontos flutuante entre 0 e 1 para os componentes vermelho, verde e azul, e um método `get_color` para retornar uma tupla com esses componentes."
   ]
  },
  {
   "cell_type": "code",
   "execution_count": 67,
   "metadata": {
    "tags": []
   },
   "outputs": [],
   "source": [
    "class Point:\n",
    "    def __init__(self, x, y):\n",
    "        self._coord = (x, y)\n",
    "    def get_coord(self):\n",
    "        return self._coord\n",
    "    \n",
    "class ColorPoint(Point):\n",
    "    def __init__(self, x, y, r, g, b):\n",
    "        Point.__init__(self,x,y)\n",
    "        self._r = r\n",
    "        self._g = g\n",
    "        self._b = b\n",
    "    \n",
    "    def get_color(self, r, g , b):\n",
    "        return (self._r, self._g, self._b)"
   ]
  },
  {
   "cell_type": "code",
   "execution_count": 72,
   "metadata": {
    "tags": []
   },
   "outputs": [],
   "source": [
    "class Point:\n",
    "    def __init__(self, x, y):\n",
    "        self._coord = (x, y)\n",
    "    def get_coord(self):\n",
    "        return self._coord\n",
    "    \n",
    "class ColoredPoint(Point):\n",
    "    def __init__(self, x, y, r, g, b):\n",
    "        Point.__init__(self,x,y)\n",
    "        self._color = (r,g,b)\n",
    "    \n",
    "    def get_color(self):\n",
    "        return self._color"
   ]
  },
  {
   "cell_type": "code",
   "execution_count": 73,
   "metadata": {
    "tags": []
   },
   "outputs": [],
   "source": [
    "ponto = ColoredPoint(-2, 3, 0, 0.9, 0.1)"
   ]
  },
  {
   "cell_type": "code",
   "execution_count": 75,
   "metadata": {
    "tags": []
   },
   "outputs": [
    {
     "name": "stdout",
     "output_type": "stream",
     "text": [
      "(0, 0.9, 0.1)\n"
     ]
    }
   ],
   "source": [
    "print(ponto.get_color())"
   ]
  },
  {
   "cell_type": "markdown",
   "metadata": {},
   "source": [
    "2. O código seguinte calcula o custo total e total de impostos de uma lista de compras. Existem três tipos de ítens na lista de compras: ítens essenciais, representados pela classe `Essencial`, que não têm imposto; ítens normais, representados pela classe `Normal`, que têm imposto de 10%; e ítens de luxo, representados pela classe `Luxo`, que têm imposto de 50%. Os métodos de inicialização dessas três classes recebem o valor do item. O método `preco` retorna o preço do item e o método `imposto` retorna o valor de imposto pago:\n",
    "    ```python\n",
    "    lista_compras = [Essencial(100), Normal(50), Essencial(10),\n",
    "                     Normal(70), Luxo(200)]\n",
    "    valor_total = 0.0\n",
    "    imposto_total = 0.0\n",
    "    for item in lista_compras:\n",
    "        valor_total += item.preco()\n",
    "        imposto_total += item.imposto()\n",
    "    print('Total a pagar:', valor_total)\n",
    "    print('Imposto pago:', imposto_total)\n",
    "    ```\n",
    "    Implemente as classes necessárias para esse código funcionar, *usando herança para representar os comportamentos comuns dessas classes*."
   ]
  },
  {
   "cell_type": "markdown",
   "metadata": {},
   "source": [
    "class Essencial - importo de 0%\n",
    "\n",
    "class Normal - imposto de 10%\n",
    "\n",
    "class Luxo - imposto de 50%\n",
    "\n",
    "Todos\n",
    "- recebem valor do item\n",
    "- metodo preço retorna o preço \n",
    "- metodo imposto retorna valor do imposto "
   ]
  },
  {
   "cell_type": "code",
   "execution_count": null,
   "metadata": {},
   "outputs": [],
   "source": [
    "class Item(): \n",
    "    def __init__(self, valor, imposto, preco): \n",
    "        self._valor_total = valor \n",
    "        self._imposto = imposto\n",
    "        self._preco = preco \n",
    "        "
   ]
  },
  {
   "cell_type": "code",
   "execution_count": 25,
   "metadata": {
    "tags": []
   },
   "outputs": [],
   "source": [
    "class Item:\n",
    "    def __init__(self, valor):\n",
    "        self._valor = valor\n",
    "\n",
    "    def preco(self):\n",
    "        return self._valor\n",
    "\n",
    "class Essencial(Item):\n",
    "    def imposto(self):\n",
    "        return 0\n",
    "    \n",
    "class Normal(Item):\n",
    "    def imposto(self):\n",
    "        return 0.1 * self._valor\n",
    "\n",
    "class Luxo(Item):\n",
    "    def imposto(self):\n",
    "        return 0.5 * self._valor"
   ]
  },
  {
   "cell_type": "code",
   "execution_count": 26,
   "metadata": {
    "tags": []
   },
   "outputs": [
    {
     "name": "stdout",
     "output_type": "stream",
     "text": [
      "Total a pagar: 430.0\n",
      "Imposto pago: 112.0\n"
     ]
    }
   ],
   "source": [
    "lista_compras = [Essencial(100), Normal(50), Essencial(10),\n",
    "                 Normal(70), Luxo(200)]\n",
    "valor_total = 0.0\n",
    "imposto_total = 0.0\n",
    "for item in lista_compras:\n",
    "    valor_total += item.preco()\n",
    "    imposto_total += item.imposto()\n",
    "print('Total a pagar:', valor_total)\n",
    "print('Imposto pago:', imposto_total)"
   ]
  },
  {
   "cell_type": "code",
   "execution_count": null,
   "metadata": {},
   "outputs": [],
   "source": []
  }
 ],
 "metadata": {
  "kernelspec": {
   "display_name": "Python 3 (ipykernel)",
   "language": "python",
   "name": "python3"
  },
  "language_info": {
   "codemirror_mode": {
    "name": "ipython",
    "version": 3
   },
   "file_extension": ".py",
   "mimetype": "text/x-python",
   "name": "python",
   "nbconvert_exporter": "python",
   "pygments_lexer": "ipython3",
   "version": "3.10.6"
  }
 },
 "nbformat": 4,
 "nbformat_minor": 4
}
