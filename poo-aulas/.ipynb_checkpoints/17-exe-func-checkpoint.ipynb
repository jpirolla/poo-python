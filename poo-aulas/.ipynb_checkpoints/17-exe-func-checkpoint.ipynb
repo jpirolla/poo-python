{
 "cells": [
  {
   "cell_type": "markdown",
   "metadata": {},
   "source": [
    "# Mais exemplos de funções"
   ]
  },
  {
   "cell_type": "markdown",
   "metadata": {},
   "source": [
    "## 1. Número especificado de primos"
   ]
  },
  {
   "cell_type": "markdown",
   "metadata": {},
   "source": [
    "Vamos escrever uma função para calcular os $n$ primeiros números primos."
   ]
  },
  {
   "cell_type": "code",
   "execution_count": null,
   "metadata": {},
   "outputs": [],
   "source": [
    "# Esta é apenas umva versão preliminar\n",
    "def first_n_primes_v0(n):\n",
    "    assert n >= 0, 'Invalid number of primes requested'\n",
    "    # Começamos com uma lista vazia de primos conhecidos\n",
    "    primes = []\n",
    "    # O primeiro candidato é o 2\n",
    "    candidate = 2\n",
    "    primes_found = 0 # Nenhum primo encontrado ainda\n",
    "    while primes_found != n: # Enquanto não tiver primos suficientes\n",
    "        # insere candidato em primos se for primo\n",
    "        candidate_is_prime = True # Assume que candidato é primo\n",
    "        for p in primes: # Verifica todos os primos anteriores\n",
    "            if candidate % p == 0:\n",
    "                # É divisível, portanto candidato não é primo\n",
    "                candidate_is_prime = False\n",
    "                break\n",
    "        if candidate_is_prime:\n",
    "            # Se é primo, acresenta na lista\n",
    "            primes.append(candidate)\n",
    "            primes_found += 1\n",
    "        # Passa para o próximo candidato\n",
    "        candidate += 1\n",
    "    return primes"
   ]
  },
  {
   "cell_type": "code",
   "execution_count": null,
   "metadata": {},
   "outputs": [],
   "source": [
    "first_n_primes_v0(5)"
   ]
  },
  {
   "cell_type": "markdown",
   "metadata": {},
   "source": [
    "Agora vamos fazer uma outra variante da mesma função, usando a opção `else` do comando `for`."
   ]
  },
  {
   "cell_type": "code",
   "execution_count": null,
   "metadata": {
    "jupyter": {
     "outputs_hidden": false
    }
   },
   "outputs": [],
   "source": [
    "def first_n_primes(n):\n",
    "    assert n >= 0, 'Invalid number of primes requested'\n",
    "    # Começamos com lista vazia de candidatos\n",
    "    primes = []\n",
    "    # O primeiro candidato é o 2\n",
    "    candidate = 2\n",
    "    primes_found = 0 # Nenhum primo ainda\n",
    "    while primes_found != n: # Enquanto não tiver primos suficientes\n",
    "        # insere candidato em primos se for primo\n",
    "        for p in primes: # Percorre todos os primos anteriores\n",
    "            if candidate % p == 0:\n",
    "                break # Se é divisível, interrompe loop for\n",
    "        else:\n",
    "            # Se loop não foi interrompido, não é divisível por nenhum\n",
    "            # primo anterior, portanto é primo.\n",
    "            primes.append(candidate)\n",
    "            primes_found += 1\n",
    "        # Passa para o próximo candidato. Vamos evitar os pares...\n",
    "        candidate = candidate + 2 if candidate != 2 else 3\n",
    "    return primes"
   ]
  },
  {
   "cell_type": "markdown",
   "metadata": {},
   "source": [
    "Alguns testes..."
   ]
  },
  {
   "cell_type": "code",
   "execution_count": null,
   "metadata": {
    "jupyter": {
     "outputs_hidden": false
    }
   },
   "outputs": [],
   "source": [
    "first_n_primes_v0(10)"
   ]
  },
  {
   "cell_type": "code",
   "execution_count": null,
   "metadata": {
    "jupyter": {
     "outputs_hidden": false
    }
   },
   "outputs": [],
   "source": [
    "first_n_primes(10)"
   ]
  },
  {
   "cell_type": "code",
   "execution_count": null,
   "metadata": {
    "jupyter": {
     "outputs_hidden": false
    }
   },
   "outputs": [],
   "source": [
    "first_n_primes(1)"
   ]
  },
  {
   "cell_type": "code",
   "execution_count": null,
   "metadata": {
    "jupyter": {
     "outputs_hidden": false
    }
   },
   "outputs": [],
   "source": [
    "first_n_primes(0)"
   ]
  },
  {
   "cell_type": "code",
   "execution_count": null,
   "metadata": {
    "jupyter": {
     "outputs_hidden": false
    }
   },
   "outputs": [],
   "source": [
    "first_n_primes(-1)"
   ]
  },
  {
   "cell_type": "markdown",
   "metadata": {},
   "source": [
    "## 2. Verificação de primalidade"
   ]
  },
  {
   "cell_type": "markdown",
   "metadata": {},
   "source": [
    "Agora vamos definir uma função para verificar se um número dado é primo. Para isso, vamos usar a função que calcula primos até um dado número, da aula anterior, que está copiada abaixo."
   ]
  },
  {
   "cell_type": "code",
   "execution_count": null,
   "metadata": {},
   "outputs": [],
   "source": [
    "def primes_until(n):\n",
    "    import math\n",
    "    \n",
    "    if n < 2:\n",
    "        return []\n",
    "\n",
    "    # is_prime[i] = False se sabemos que i não é primo.\n",
    "    # is_prime[i] = True se i é primo ou ainda não sabemos.\n",
    "    is_prime = [True] * (n + 1)\n",
    "    # 0 e 1 não são primos.\n",
    "    is_prime[0] = is_prime[1] = False\n",
    "\n",
    "    sqrt_n = math.isqrt(n)\n",
    "    current = 2 # O primeiro primo é 2\n",
    "    while current <= sqrt_n:\n",
    "        for i in range(2 * current, n + 1, current):\n",
    "            is_prime[i] = False\n",
    "        current += 1\n",
    "        while current <= sqrt_n and not is_prime[current]:\n",
    "            current += 1\n",
    "    primes = []\n",
    "    for i in range(2, n + 1):\n",
    "        if is_prime[i]:\n",
    "            primes.append(i)\n",
    "    return primes"
   ]
  },
  {
   "cell_type": "markdown",
   "metadata": {},
   "source": [
    "Para saber se um número é primo, podemos testar sua divisibilidade por todos os primos menores ou iguais à sua raiz quadrada (pois pelo menos um de seus fatores primos tem que estar nessa faixa)."
   ]
  },
  {
   "cell_type": "code",
   "execution_count": null,
   "metadata": {},
   "outputs": [],
   "source": [
    "def is_prime(n):\n",
    "    import math\n",
    "    # Calcularmos a raiz quadrada, arredonda para inteiro mais próximo.\n",
    "    sqrt_n = math.isqrt(n)\n",
    "    # Pegamos então uma lista com todos os inteiros até sqrt_n\n",
    "    primes = primes_until(sqrt_n)\n",
    "    # Verificamos se algum desses primos divide n\n",
    "    for p in primes:\n",
    "        if n % p == 0:\n",
    "            # n é divisível por p, portanto não é primo\n",
    "            return False\n",
    "    # n não é divisível por nenhum dos valores em primos,\n",
    "    # portanto é primo.\n",
    "    return True"
   ]
  },
  {
   "cell_type": "code",
   "execution_count": null,
   "metadata": {
    "jupyter": {
     "outputs_hidden": false
    }
   },
   "outputs": [],
   "source": [
    "(is_prime(2), \n",
    " is_prime(5), \n",
    " is_prime(9), \n",
    " is_prime(36), \n",
    " is_prime(37))"
   ]
  },
  {
   "cell_type": "code",
   "execution_count": null,
   "metadata": {
    "jupyter": {
     "outputs_hidden": false
    }
   },
   "outputs": [],
   "source": [
    "is_prime(1892832876219)"
   ]
  },
  {
   "cell_type": "markdown",
   "metadata": {},
   "source": [
    "## 3. Fatores primos"
   ]
  },
  {
   "cell_type": "markdown",
   "metadata": {},
   "source": [
    "Para terminar nossa exploração de número primos, vamos definir uma função que dá a decomposição de um número inteiro em fatores primos. Se um mesmo primo é múltiplo na decomposição, ele aparecerá com essa multiplicidade na lista de fatores. Por exemplo, para 24 devemos ter [2, 2, 2, 3]; para 17 teremos [17]."
   ]
  },
  {
   "cell_type": "code",
   "execution_count": null,
   "metadata": {},
   "outputs": [],
   "source": [
    "def prime_factors(n):\n",
    "    assert n > 0, 'n must be positive'\n",
    "    import math\n",
    "    # Começamos com uma lista vazia de fatores\n",
    "    factors = []\n",
    "    # Calculamos a raiz quadrada de n\n",
    "    sqrt_n = math.isqrt(n)\n",
    "    # Encontramos uma lista de primos até raiz_n\n",
    "    primes = primes_until(sqrt_n)\n",
    "    # Para cada um dos primos nessa lista, verificamos se ele é\n",
    "    # fator de n (e quantas vezes)\n",
    "    for p in primes:\n",
    "        # Enquanto n for divisível por p, adicionamos\n",
    "        # p na lista de fatores e retiramos esse fator de n.\n",
    "        # Note que se n não é divisível por p, nada ocorre.\n",
    "        while n % p == 0:\n",
    "            factors.append(p)\n",
    "            # Temos que usar // aqui, para divisão inteira\n",
    "            n //= p\n",
    "    # Por fim, após dividir por todos os primos menores ou iguais à\n",
    "    # raiz quadrada, o fator que sobrar (se diferente de 1) é também\n",
    "    # um fator primo (prove isso!).\n",
    "    if n != 1:\n",
    "        factors.append(n)\n",
    "    return factors"
   ]
  },
  {
   "cell_type": "code",
   "execution_count": null,
   "metadata": {
    "jupyter": {
     "outputs_hidden": false
    }
   },
   "outputs": [],
   "source": [
    "prime_factors(14)"
   ]
  },
  {
   "cell_type": "code",
   "execution_count": null,
   "metadata": {
    "jupyter": {
     "outputs_hidden": false
    }
   },
   "outputs": [],
   "source": [
    "prime_factors(100)"
   ]
  },
  {
   "cell_type": "code",
   "execution_count": null,
   "metadata": {
    "jupyter": {
     "outputs_hidden": false
    }
   },
   "outputs": [],
   "source": [
    "prime_factors(9)"
   ]
  },
  {
   "cell_type": "code",
   "execution_count": null,
   "metadata": {},
   "outputs": [],
   "source": [
    "prime_factors(64)"
   ]
  },
  {
   "cell_type": "code",
   "execution_count": null,
   "metadata": {
    "jupyter": {
     "outputs_hidden": false
    }
   },
   "outputs": [],
   "source": [
    "prime_factors(1892832876219)"
   ]
  },
  {
   "cell_type": "code",
   "execution_count": null,
   "metadata": {
    "jupyter": {
     "outputs_hidden": false
    }
   },
   "outputs": [],
   "source": [
    "is_prime(2229485131)"
   ]
  },
  {
   "cell_type": "code",
   "execution_count": null,
   "metadata": {},
   "outputs": [],
   "source": []
  }
 ],
 "metadata": {
  "kernelspec": {
   "display_name": "Python 3 (ipykernel)",
   "language": "python",
   "name": "python3"
  },
  "language_info": {
   "codemirror_mode": {
    "name": "ipython",
    "version": 3
   },
   "file_extension": ".py",
   "mimetype": "text/x-python",
   "name": "python",
   "nbconvert_exporter": "python",
   "pygments_lexer": "ipython3",
   "version": "3.10.6"
  }
 },
 "nbformat": 4,
 "nbformat_minor": 4
}
