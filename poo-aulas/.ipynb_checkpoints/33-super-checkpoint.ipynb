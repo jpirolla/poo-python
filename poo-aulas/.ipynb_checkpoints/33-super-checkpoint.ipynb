{
 "cells": [
  {
   "cell_type": "markdown",
   "metadata": {},
   "source": [
    "# Herança múltipla e super"
   ]
  },
  {
   "cell_type": "markdown",
   "metadata": {},
   "source": [
    "Quando usamos herança, ao redefinir um método na classe derivada é comum que queiramos usar o mesmo método da classe base. Isso ocorre quase sempre no caso do método de inicialização `__init__`.\n",
    "\n",
    "Infelizmente, quando existe **herança múltipla**, existe um problema, pois mais de uma classe base pode ser derivada da mesma classe base original, e nesse caso sua inicialização seria executada duas vezes.\n",
    "\n",
    "Veja no exemplo do código abaixo, onde a classe `D` é derivada da classe `A` por dois caminhos: por `B` e por `C`."
   ]
  },
  {
   "cell_type": "code",
   "execution_count": null,
   "metadata": {},
   "outputs": [],
   "source": [
    "class A:\n",
    "    def __init__(self):\n",
    "        print('+A')\n",
    "\n",
    "class B(A):\n",
    "    def __init__(self):\n",
    "        print('+B')\n",
    "        A.__init__(self)\n",
    "\n",
    "class C(A):\n",
    "    def __init__(self):\n",
    "        print('+C')\n",
    "        A.__init__(self)\n",
    "\n",
    "class D(B, C):\n",
    "    def __init__(self):\n",
    "        print('+D')\n",
    "        B.__init__(self)\n",
    "        C.__init__(self)"
   ]
  },
  {
   "cell_type": "markdown",
   "metadata": {},
   "source": [
    "O resultado é que, ao criar um objeto da classe `D`, `A.__init__` será chamado duas vezes:"
   ]
  },
  {
   "cell_type": "code",
   "execution_count": null,
   "metadata": {},
   "outputs": [],
   "source": [
    "d = D()"
   ]
  },
  {
   "cell_type": "markdown",
   "metadata": {},
   "source": [
    "Uma forma de resolver esse problema (e também simplificar um pouco a notação), é usar a função `super`, que permite chamar um método **conforme definido na classe base**, mesmo que ele seja redefinido na classe derivada. Quando usamos `super` o Python automaticamente toma conta da herança múltipla e de garantir que cada método seja chamado apenas uma vez."
   ]
  },
  {
   "cell_type": "code",
   "execution_count": null,
   "metadata": {},
   "outputs": [],
   "source": [
    "class AN:\n",
    "    def __init__(self):\n",
    "        print('+A')\n",
    "\n",
    "class BN(AN):\n",
    "    def __init__(self):\n",
    "        print('+B')\n",
    "        super().__init__()\n",
    "\n",
    "class CN(AN):\n",
    "    def __init__(self):\n",
    "        print('+C')\n",
    "        super().__init__()\n",
    "\n",
    "class DN(BN, CN):\n",
    "    def __init__(self):\n",
    "        print('+D')\n",
    "        super().__init__()"
   ]
  },
  {
   "cell_type": "markdown",
   "metadata": {},
   "source": [
    "Com essa definição, agora `A.__init__` será chamado apenas uma vez."
   ]
  },
  {
   "cell_type": "code",
   "execution_count": null,
   "metadata": {},
   "outputs": [],
   "source": [
    "dn = DN()"
   ]
  },
  {
   "cell_type": "markdown",
   "metadata": {},
   "source": [
    "No entanto, `super` não é totalmente sem problemas, pois ele força uma ordem específica na execução dos métodos das classes base, que pode não ser a mais adequada em alguns casos.\n",
    "\n",
    "Esse tipo de problemas costuma surgir quando usamos herança múltipla, e por essa razão muitas vezes o uso de herança múltipla é desencorajado, e algumas linguagens (como Java) nem mesmo permitem isso."
   ]
  },
  {
   "cell_type": "markdown",
   "metadata": {},
   "source": [
    "Os exemplos acima mostram o `super` sendo usado no método `__init__`. Este é de fato o caso mais comum onde ele é necessário. Mas isso não signfica que ele não seja útil também em outros métodos, nas situações onde uma classe derivada sobre-escreve um método da classe base, mas mesmo assim precisa que o método da classe base seja executado, como parte das suas operações.\n",
    "\n",
    "Vejamos a mecânica nos seguintes exemplos, primeiro chamando o método sem o uso se super implica numa chamada recursiva:"
   ]
  },
  {
   "cell_type": "code",
   "execution_count": null,
   "metadata": {},
   "outputs": [],
   "source": [
    "class A:\n",
    "    def meth(self, x):\n",
    "        print('A with', x)\n",
    "        \n",
    "class B(A):\n",
    "    def meth(self, x):\n",
    "        if x > 0:\n",
    "            print('B with', x)\n",
    "            self.meth(x - 1)"
   ]
  },
  {
   "cell_type": "code",
   "execution_count": null,
   "metadata": {},
   "outputs": [],
   "source": [
    "a = A()\n",
    "a.meth(2)"
   ]
  },
  {
   "cell_type": "code",
   "execution_count": null,
   "metadata": {},
   "outputs": [],
   "source": [
    "b = B()\n",
    "b.meth(2)"
   ]
  },
  {
   "cell_type": "markdown",
   "metadata": {},
   "source": [
    "Para chamar o metodo da classe base podemos usar uma chamada explícita:"
   ]
  },
  {
   "cell_type": "code",
   "execution_count": null,
   "metadata": {},
   "outputs": [],
   "source": [
    "class Bexp(A):\n",
    "    def meth(self, x):\n",
    "        if x > 0:\n",
    "            print('Bexp with', x)\n",
    "            A.meth(self, x - 1)"
   ]
  },
  {
   "cell_type": "code",
   "execution_count": null,
   "metadata": {},
   "outputs": [],
   "source": [
    "bx = Bexp()\n",
    "bx.meth(2)"
   ]
  },
  {
   "cell_type": "markdown",
   "metadata": {},
   "source": [
    "Mas podemos também usar o método mais abreviado com `super`:"
   ]
  },
  {
   "cell_type": "code",
   "execution_count": null,
   "metadata": {},
   "outputs": [],
   "source": [
    "class Bs(A):\n",
    "    def meth(self, x):\n",
    "        if x > 0:\n",
    "            print('Bs with', x)\n",
    "            super().meth(x - 1)"
   ]
  },
  {
   "cell_type": "code",
   "execution_count": null,
   "metadata": {},
   "outputs": [],
   "source": [
    "bs = Bs()\n",
    "bs.meth(2)"
   ]
  },
  {
   "cell_type": "markdown",
   "metadata": {},
   "source": [
    "### Importante"
   ]
  },
  {
   "cell_type": "markdown",
   "metadata": {},
   "source": [
    "No caso de uso apenas de herança simples (quer dizer, sem o uso de herança múltipla), a chamada usando o nome explícito da classe base ou de `super` são equivalentes. No caso de herança múltipla, a chamada de `super` não necessáriamente vai chamar o método da classe base imediata, pois isso é determinado pela **ordem de resolução de métodos**, mas não vamos entrar em detalhes sobre isso aqui. Veja a [documentação online](https://www.python.org/download/releases/2.3/mro/), caso deseje."
   ]
  }
 ],
 "metadata": {
  "kernelspec": {
   "display_name": "Python 3 (ipykernel)",
   "language": "python",
   "name": "python3"
  },
  "language_info": {
   "codemirror_mode": {
    "name": "ipython",
    "version": 3
   },
   "file_extension": ".py",
   "mimetype": "text/x-python",
   "name": "python",
   "nbconvert_exporter": "python",
   "pygments_lexer": "ipython3",
   "version": "3.11.2"
  }
 },
 "nbformat": 4,
 "nbformat_minor": 4
}
