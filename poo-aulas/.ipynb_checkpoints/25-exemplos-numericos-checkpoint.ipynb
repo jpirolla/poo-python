{
 "cells": [
  {
   "cell_type": "markdown",
   "metadata": {},
   "source": [
    "# Alguns exemplos com cálculo numérico"
   ]
  },
  {
   "cell_type": "markdown",
   "metadata": {},
   "source": [
    "## 1. Raizes de funções"
   ]
  },
  {
   "cell_type": "markdown",
   "metadata": {},
   "source": [
    "Frequentemente desejamos encontrar os zeros de uma dada função. Veremos duas formas de realizar isso numericamente."
   ]
  },
  {
   "cell_type": "markdown",
   "metadata": {},
   "source": [
    "### 1.1. Método da bissecção"
   ]
  },
  {
   "cell_type": "markdown",
   "metadata": {},
   "source": [
    "\n",
    "\n",
    "Uma forma de fazer isso é o chamado *método de bissecção*. Se temos dois pontos `a` e `b` onde a função tem **sinais contrários** então (supondo que a função é contínua) ela deve ter uma raiz entre esses dois valores.\n",
    "\n",
    "Dividimos então, iterativamente, o intervalo em 2 e verificamos em qual das metades continua existindo uma troca de sinal no valor da função; deve haver uma raiz nessa metade. Mantemos então esse novo intervalo, e repetimos o processo até termos limitado o intervalo a uma precisão adequada.\n",
    "\n",
    "Na função abaixo, `f` é a função da qual queremos a raiz, `a` e `b` são dois pontos para os quais `f(a)` e `f(b)` devem ter sinais opostos, `precision` é o erro máximo aceitável no valor da raiz calculado."
   ]
  },
  {
   "cell_type": "code",
   "execution_count": null,
   "metadata": {},
   "outputs": [],
   "source": [
    "def root_bisection(f, a, b, precision):\n",
    "    fa = f(a)\n",
    "    fb = f(b)\n",
    "    assert fa * fb < 0, 'f(a) and f(b) should have different signs'\n",
    "\n",
    "    # Repetitivamente, terminando quando acha raiz ou intervalo é pequeno\n",
    "    while abs(b - a) >= precision:\n",
    "        # Calcula o ponto médio e sua função\n",
    "        x = (a + b) / 2\n",
    "        fx = f(x)\n",
    "        # Substitui o limite com mesmo sinal que f(x) por x\n",
    "        if fx * fa > 0:\n",
    "            a, fa = x, fx\n",
    "        else:\n",
    "            b, fb = x, fx\n",
    "    return x"
   ]
  },
  {
   "cell_type": "markdown",
   "metadata": {},
   "source": [
    "Para um exemplo, usaremos a função $\\cos x - 1/2$ e estamos interessados no intervalo $[0,3]$.\n",
    "\n",
    "Vamos primeiro plotar a função para termos uma idéia de onde temos uma raiz."
   ]
  },
  {
   "cell_type": "code",
   "execution_count": null,
   "metadata": {},
   "outputs": [],
   "source": [
    "import math\n",
    "import numpy as np\n",
    "import matplotlib.pyplot as plt\n",
    "%matplotlib inline"
   ]
  },
  {
   "cell_type": "code",
   "execution_count": null,
   "metadata": {
    "collapsed": false,
    "jupyter": {
     "outputs_hidden": false
    }
   },
   "outputs": [],
   "source": [
    "x = np.arange(0, 3, 0.1)\n",
    "y = np.cos(x) - 0.5\n",
    "plt.axhline(0, color='gray')\n",
    "plt.grid(True)\n",
    "plt.plot(x, y);"
   ]
  },
  {
   "cell_type": "markdown",
   "metadata": {},
   "source": [
    "Vemos que nesse intervalo existe uma raiz um pouco acima de 1. Usamos agora o método da bissecção para encontrar essa raiz. Criamos uma função lambda para a expressão da função $f(x) = \\cos x - 1/2$."
   ]
  },
  {
   "cell_type": "code",
   "execution_count": null,
   "metadata": {
    "collapsed": false,
    "jupyter": {
     "outputs_hidden": false
    }
   },
   "outputs": [],
   "source": [
    "root = root_bisection(lambda x: math.cos(x) - 0.5, 0, 3, 1e-8)\n",
    "print(root)"
   ]
  },
  {
   "cell_type": "markdown",
   "metadata": {},
   "source": [
    "O valor da função nesse ponto deve ser próximo de zero."
   ]
  },
  {
   "cell_type": "code",
   "execution_count": null,
   "metadata": {
    "collapsed": false,
    "jupyter": {
     "outputs_hidden": false
    }
   },
   "outputs": [],
   "source": [
    "math.cos(root) - 0.5"
   ]
  },
  {
   "cell_type": "markdown",
   "metadata": {},
   "source": [
    "### 1.2. Método da secante"
   ]
  },
  {
   "cell_type": "markdown",
   "metadata": {},
   "source": [
    "Um outro método, frequentemente mais eficiente, consiste em, ao invés de dividir o intervalo em duas partes iguais, fazer uma divisão baseada numa aproximação linear entre os dois pontos do intervalo atual. Isto é, ao invés de $x=(a+b)/2$ usamos $$x=\\frac{a f(b) - b f(a)}{f(b) - f(a)}$$"
   ]
  },
  {
   "cell_type": "code",
   "execution_count": null,
   "metadata": {},
   "outputs": [],
   "source": [
    "def root_secant(f, a, b, precision):\n",
    "    fa = f(a)\n",
    "    fb = f(b)\n",
    "    assert fa * fb < 0, 'f(a) and f(b) should have different signs'\n",
    "\n",
    "    while abs(b - a) >= precision:\n",
    "        x = (a * fb - b * fa) / (fb - fa)\n",
    "        fx = f(x)\n",
    "        if fx * fa > 0:\n",
    "            a, fa = x, fx\n",
    "        else:\n",
    "            b, fb = x, fx\n",
    "    return x"
   ]
  },
  {
   "cell_type": "code",
   "execution_count": null,
   "metadata": {
    "collapsed": false,
    "jupyter": {
     "outputs_hidden": false
    }
   },
   "outputs": [],
   "source": [
    "root = root_secant(lambda x: math.cos(x) - 0.5, 0, 3, 1e-8)\n",
    "print(root)"
   ]
  },
  {
   "cell_type": "code",
   "execution_count": null,
   "metadata": {
    "collapsed": false,
    "jupyter": {
     "outputs_hidden": false
    }
   },
   "outputs": [],
   "source": [
    "math.cos(root) - 0.5"
   ]
  },
  {
   "cell_type": "markdown",
   "metadata": {},
   "source": [
    "### 1.3. Comparando os tempos"
   ]
  },
  {
   "cell_type": "code",
   "execution_count": null,
   "metadata": {
    "collapsed": false,
    "jupyter": {
     "outputs_hidden": false
    }
   },
   "outputs": [],
   "source": [
    "%timeit root_bisection(lambda x: math.cos(x) - 0.5, 0, 3, 1e-8)"
   ]
  },
  {
   "cell_type": "code",
   "execution_count": null,
   "metadata": {
    "collapsed": false,
    "jupyter": {
     "outputs_hidden": false
    }
   },
   "outputs": [],
   "source": [
    "%timeit root_secant(lambda x: math.cos(x) - 0.5, 0, 3, 1e-8)"
   ]
  },
  {
   "cell_type": "markdown",
   "metadata": {},
   "source": [
    "## 2. Integração numérica"
   ]
  },
  {
   "cell_type": "markdown",
   "metadata": {},
   "source": [
    "Outra operação útil é a integração numérica: Queremos calcular uma aproximação para a integral definida de uma função num intervalo especificado. Existem diversas formas de realizá-la. Vamos ver dois métodos."
   ]
  },
  {
   "cell_type": "markdown",
   "metadata": {},
   "source": [
    "### 2.1. Regra do trapézio"
   ]
  },
  {
   "cell_type": "markdown",
   "metadata": {},
   "source": [
    "Uma forma simple é a chamada *regra do trapézio*, onde avaliamos o valor da função para um número de pontos igualmente espaçados no intervalo e em cada subintervalo aproximamos a área sob a função pelo trapézio formado pelos pontos $$(x_i, 0), (x_i, f(x_i)), (x_{i+1}, f(x_{i+1})), (x_{i+1}, 0).$$\n",
    "\n",
    "Se $a$ e $b$ são os limites do intervalo de interesse, dividimos esse intervalo em $N$ subintervalos, cada um de tamanho $h=(b-a)/N$. Então avaliamos a função nos pontos $f(x_0=a), f(x_1=a+h), f(x_2=a+2h), \\ldots f(x_{N-1}=a+(N-1)h), f(x_N = a+Nh = b)$.\n",
    "\n",
    "A integral será então aproximada por:\n",
    "$$\n",
    "\\left[\\frac{1}{2}f(a) + f(a+h) + f(a+2h) + \\cdots + f(a+(N-1)h) + \\frac{1}{2}f(b)\\right]h\n",
    "$$"
   ]
  },
  {
   "cell_type": "code",
   "execution_count": null,
   "metadata": {},
   "outputs": [],
   "source": [
    "def integral_trapezoid(f, a, b, N):\n",
    "    h = (b - a) / N\n",
    "    s = (f(a) + f(b)) / 2\n",
    "    for i in range(1, N):\n",
    "        s += f(a + i * h)\n",
    "    return s * h"
   ]
  },
  {
   "cell_type": "markdown",
   "metadata": {},
   "source": [
    "Agora usaremos o método do trapézio para calcular uma aproximação para\n",
    "$$ \\int_0^{\\pi / 2} \\sin x\\, dx.$$"
   ]
  },
  {
   "cell_type": "code",
   "execution_count": null,
   "metadata": {
    "collapsed": false,
    "jupyter": {
     "outputs_hidden": false
    }
   },
   "outputs": [],
   "source": [
    "integral_trapezoid(math.sin, 0, math.pi/2, 10000)"
   ]
  },
  {
   "cell_type": "markdown",
   "metadata": {},
   "source": [
    "### 2.2. Método iterativo"
   ]
  },
  {
   "cell_type": "markdown",
   "metadata": {},
   "source": [
    "A desvantagem desse método é que não sabemos de antemão o número de intervalos para atingirmos uma resposta com precisão apropriada. (Experimente diversos valores de $N$ na chamada acima.)\n",
    "\n",
    "Podemos resolver esse problema aumentando o número de intervalos até atingir a precisão que queremos. A idéia é considerar que, após a integral estar suficientemente próxima da resposta, se duas iterações sucessivas com números crescentes de intervalos não fornecerem diferenças significativas no valor da integral calculada, então podemos considerar que já houve convergência (isto é, o número de intervalos usados da última vez já é suficiente).\n",
    "\n",
    "No codigo abaixo, começamos com 1 intervalo, e a cada vez vamos dobrando o número de intervalos (e correspondentemente dividindo $h$ por 2). Desta forma, a cada iteração precisamos apenas calcular os valores da função **nos novos pontos**, e podemos aproveitar os cálculos feitos para os pontos anteriores, lembrando de reescalar o resultado anterior para o novo (menor) valor de $h$."
   ]
  },
  {
   "cell_type": "code",
   "execution_count": null,
   "metadata": {},
   "outputs": [],
   "source": [
    "def integral_trapezoid_iterative(f, a, b, precision):\n",
    "    MIN_ITER = 4 # Número mínimo de iterações antes de decretar convergência\n",
    "    MAX_ITER = 25 # Número máximo de iterações, para evitar problemas de convergência\n",
    "    # curriter: iteração atual. Começa com 0\n",
    "    # N: número de intervalos na iteração atual, começa com 1\n",
    "    # h: tamanho do intervalo na iteração atual, começa com b - a\n",
    "    curr_iter, N, h = 0, 1, (b - a)\n",
    "    # Guarda os valores das pontas em s\n",
    "    s = (f(a) + f(b)) * h / 2\n",
    "    # old_s vai guardar s da iteração anterior\n",
    "    old_s = s\n",
    "    # Repete a iteração pelo menos 4 vezes e até chegar na precisão\n",
    "    while abs(s - old_s) >= precision or curr_iter < MIN_ITER:\n",
    "        # Ajusta para próxima iteração\n",
    "        curr_iter, N, h = curr_iter + 1, N * 2, h / 2\n",
    "        # Se teve muitas iterações e não convergiu, há problema.\n",
    "        if curr_iter > MAX_ITER:\n",
    "            raise Exception(\"No convergence in integral_trapezoid_iterative\")\n",
    "        old_s = s # Guarda aproximação anterior\n",
    "        # Soma novos pontos em s\n",
    "        s = 0\n",
    "        # Os i ímpares são os novos pontos. Pares já incluídos em olds\n",
    "        for i in range(1, N, 2):\n",
    "            s += f(a + i * h)\n",
    "        # Junta contribuição dos novos pontos com anterior reescalado\n",
    "        # para novo valor de h\n",
    "        s = s * h + old_s / 2\n",
    "    return s"
   ]
  },
  {
   "cell_type": "markdown",
   "metadata": {},
   "source": [
    "Testando agora com a mesma integral anterior:"
   ]
  },
  {
   "cell_type": "code",
   "execution_count": null,
   "metadata": {
    "collapsed": false,
    "jupyter": {
     "outputs_hidden": false
    }
   },
   "outputs": [],
   "source": [
    "integral_trapezoid_iterative(math.sin, 0, math.pi/2, 1e-8)"
   ]
  },
  {
   "cell_type": "markdown",
   "metadata": {},
   "source": [
    "### 2.3. Comparando os tempos"
   ]
  },
  {
   "cell_type": "code",
   "execution_count": null,
   "metadata": {},
   "outputs": [],
   "source": [
    "%timeit integral_trapezoid(math.sin, 0, math.pi/2, 1000)"
   ]
  },
  {
   "cell_type": "code",
   "execution_count": null,
   "metadata": {},
   "outputs": [],
   "source": [
    "%timeit integral_trapezoid_iterative(math.sin, 0, math.pi / 2, 1e-6)"
   ]
  },
  {
   "cell_type": "markdown",
   "metadata": {},
   "source": [
    "## 3. Enquanto isso, no mundo real"
   ]
  },
  {
   "cell_type": "markdown",
   "metadata": {},
   "source": [
    "Como eu já comentei, implementar suas próprias rotinas numéricas (a não ser para estudo) é arriscado e inútil: melhor usar rotinas implementadas por especialistas. No caso do Python, as rotinas para achar raízes e para integração numérica estão disponíveis no pacote SciPy.\n",
    "\n",
    "As funções para raízes estão no módulo de otimização:"
   ]
  },
  {
   "cell_type": "code",
   "execution_count": null,
   "metadata": {},
   "outputs": [],
   "source": [
    "import scipy.optimize"
   ]
  },
  {
   "cell_type": "markdown",
   "metadata": {},
   "source": [
    "O método da bissecção está implementado em `scipy.optimize.bisect`, que tem parâmetros similares aos da função desenvolvida acima, mas a precisão é especificada pelo parâmetro chave/valor `xtol` (existe opcionalmente o parâmetro `rtol` para especificar precisão relativa)."
   ]
  },
  {
   "cell_type": "code",
   "execution_count": null,
   "metadata": {
    "collapsed": false,
    "jupyter": {
     "outputs_hidden": false
    }
   },
   "outputs": [],
   "source": [
    "scipy.optimize.bisect(lambda x: math.cos(x) - 0.5, 0, 3, xtol=1e-8)"
   ]
  },
  {
   "cell_type": "markdown",
   "metadata": {},
   "source": [
    "O método da secante é chamado pela função `scipy.optimize.newton` se não for fornecida a derivada da função (se fornecemos a derivada, o chamado método de Newton é usado). Ao invés de aceitar um intervalo para a raiz, esta função aceita um \"chute\" inicial do valor."
   ]
  },
  {
   "cell_type": "code",
   "execution_count": null,
   "metadata": {
    "collapsed": false,
    "jupyter": {
     "outputs_hidden": false
    }
   },
   "outputs": [],
   "source": [
    "scipy.optimize.newton(lambda x: math.cos(x) - 0.5, 1.5, tol=1e-8)"
   ]
  },
  {
   "cell_type": "markdown",
   "metadata": {},
   "source": [
    "Chegou a hora de comparar os tempos:"
   ]
  },
  {
   "cell_type": "code",
   "execution_count": null,
   "metadata": {
    "collapsed": false,
    "jupyter": {
     "outputs_hidden": false
    }
   },
   "outputs": [],
   "source": [
    "%timeit root_bisection(lambda x: math.cos(x)-0.5, 0, 3, 1e-8)"
   ]
  },
  {
   "cell_type": "code",
   "execution_count": null,
   "metadata": {
    "collapsed": false,
    "jupyter": {
     "outputs_hidden": false
    }
   },
   "outputs": [],
   "source": [
    "%timeit scipy.optimize.bisect(lambda x: math.cos(x) - 0.5, 0, 3, xtol=1e-8)"
   ]
  },
  {
   "cell_type": "code",
   "execution_count": null,
   "metadata": {
    "collapsed": false,
    "jupyter": {
     "outputs_hidden": false
    }
   },
   "outputs": [],
   "source": [
    "%timeit root_secant(lambda x: math.cos(x)-0.5, 0, 3, 1e-8)"
   ]
  },
  {
   "cell_type": "code",
   "execution_count": null,
   "metadata": {
    "collapsed": false,
    "jupyter": {
     "outputs_hidden": false
    }
   },
   "outputs": [],
   "source": [
    "%timeit scipy.optimize.newton(lambda x: math.cos(x) - 0.5, 1.5, tol=1e-8)"
   ]
  },
  {
   "cell_type": "markdown",
   "metadata": {},
   "source": [
    "Para integração, uma função de fácil uso é a função `quad` do módulo `scipy.integrate`:"
   ]
  },
  {
   "cell_type": "code",
   "execution_count": null,
   "metadata": {},
   "outputs": [],
   "source": [
    "import scipy.integrate"
   ]
  },
  {
   "cell_type": "code",
   "execution_count": null,
   "metadata": {
    "collapsed": false,
    "jupyter": {
     "outputs_hidden": false
    }
   },
   "outputs": [],
   "source": [
    "scipy.integrate.quad(math.sin, 0, math.pi/2)"
   ]
  },
  {
   "cell_type": "markdown",
   "metadata": {},
   "source": [
    "Como você vê, a função retorna dois valores. O primeiro é o valor calculado para a integral, o segundo é uma estimativa do erro. No caso, a função estima que o erro deve ser menor que $1.11 \\cdot 10^{-14}$, o que podemos verificar neste caso."
   ]
  },
  {
   "cell_type": "markdown",
   "metadata": {},
   "source": [
    "Para finalizar, a temporização:"
   ]
  },
  {
   "cell_type": "code",
   "execution_count": null,
   "metadata": {
    "collapsed": false,
    "jupyter": {
     "outputs_hidden": false
    }
   },
   "outputs": [],
   "source": [
    "%timeit integral_trapezoid_iterative(math.sin, 0, math.pi/2, 1e-8)"
   ]
  },
  {
   "cell_type": "code",
   "execution_count": null,
   "metadata": {
    "collapsed": false,
    "jupyter": {
     "outputs_hidden": false
    }
   },
   "outputs": [],
   "source": [
    "%timeit scipy.integrate.quad(math.sin, 0, math.pi/2)"
   ]
  },
  {
   "cell_type": "markdown",
   "metadata": {},
   "source": [
    "# Exercícios"
   ]
  },
  {
   "cell_type": "markdown",
   "metadata": {},
   "source": [
    "Nos exemplos acima, por simplicidade, a tolerância é especificada como **tolerância absoluta**. Isto é apropriado apenas quando o resultado esperado é próximo de 1, como nos exemplos utilizados. Se não sabemos a ordem de grandeza do valor do resultado, fica difícil especificar uma tolerância absoluta. Por exemplo, uma tolerância de $10^{-8}$ pode ser insuficiente se o resultado é da ordem de $10^{-6}$, mas pode ser muito exigente se o resultado é da ordem de $10^{20}$.\n",
    "\n",
    "O ideal ao especificarmos tolerância é indicar a **tolerância relativa**, que se ajusta ao valor do resultado. Neste caso, se temos duas aproximações sucessivas $x_i$ e $x_{i+1}$ e uma tolerância relativa de $\\epsilon>0$, então dizemos que houve convergência se\n",
    "$$\\left|\\frac{x_{i+1}-x_{i}}{x_i}\\right| < \\epsilon.$$\n",
    "\n",
    "Reescreva os códigos anteriores que especificam tolerância para que a tolerância seja relativa.\n",
    "\n",
    "**Nota:** Este método tem problema quando $x_i$ é muito próximo de zero, mas vamos ignorar este caso aqui."
   ]
  }
 ],
 "metadata": {
  "kernelspec": {
   "display_name": "Python 3 (ipykernel)",
   "language": "python",
   "name": "python3"
  },
  "language_info": {
   "codemirror_mode": {
    "name": "ipython",
    "version": 3
   },
   "file_extension": ".py",
   "mimetype": "text/x-python",
   "name": "python",
   "nbconvert_exporter": "python",
   "pygments_lexer": "ipython3",
   "version": "3.10.7"
  }
 },
 "nbformat": 4,
 "nbformat_minor": 4
}
