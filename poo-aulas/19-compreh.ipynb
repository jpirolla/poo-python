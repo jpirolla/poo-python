{
 "cells": [
  {
   "cell_type": "markdown",
   "metadata": {},
   "source": [
    "## *Comprehension*"
   ]
  },
  {
   "cell_type": "markdown",
   "metadata": {},
   "source": [
    "O Python tem uma forma abreviada de se criar objetos como listas, dicionários e conjuntos, denominado _comprehension_.\n",
    "\n",
    "Suponhamos que você deseja uma lista com todos os pares entre 0 e 10 (inclusive).\n",
    "\n",
    "Você pode usar um loop para criar a lista:"
   ]
  },
  {
   "cell_type": "code",
   "execution_count": null,
   "metadata": {},
   "outputs": [],
   "source": [
    "even = []\n",
    "for i in range(0, 11, 2):\n",
    "    even.append(i)"
   ]
  },
  {
   "cell_type": "code",
   "execution_count": null,
   "metadata": {
    "collapsed": false,
    "jupyter": {
     "outputs_hidden": false
    }
   },
   "outputs": [],
   "source": [
    "even"
   ]
  },
  {
   "cell_type": "markdown",
   "metadata": {},
   "source": [
    "Neste caso, que não envolve cálculos, a forma mais simples é converter a `range` usada no for para lista:"
   ]
  },
  {
   "cell_type": "code",
   "execution_count": null,
   "metadata": {
    "collapsed": false,
    "jupyter": {
     "outputs_hidden": false
    }
   },
   "outputs": [],
   "source": [
    "list(range(0,11,2))"
   ]
  },
  {
   "cell_type": "markdown",
   "metadata": {},
   "source": [
    "Mas vamos supor que o que você quer é uma lista com o **quadrado** dos pares entre 0 e 10 (inclusive).\n",
    "\n",
    "Novamente, um for resolve isso:"
   ]
  },
  {
   "cell_type": "code",
   "execution_count": null,
   "metadata": {
    "collapsed": false,
    "jupyter": {
     "outputs_hidden": false
    }
   },
   "outputs": [],
   "source": [
    "even_sqr = []\n",
    "for i in range(0, 11, 2):\n",
    "    even_sqr.append(i * i)"
   ]
  },
  {
   "cell_type": "code",
   "execution_count": null,
   "metadata": {
    "collapsed": false,
    "jupyter": {
     "outputs_hidden": false
    }
   },
   "outputs": [],
   "source": [
    "even_sqr"
   ]
  },
  {
   "cell_type": "markdown",
   "metadata": {},
   "source": [
    "Neste caso, como os valores não são igualmente espaçados, não podemos usar o truque de converter uma `range` para uma lista.\n",
    "\n",
    "Para esses casos, usamos a sintaxe _list comprehension_:"
   ]
  },
  {
   "cell_type": "code",
   "execution_count": 1,
   "metadata": {
    "collapsed": false,
    "jupyter": {
     "outputs_hidden": false
    },
    "tags": []
   },
   "outputs": [
    {
     "data": {
      "text/plain": [
       "[0, 4, 16, 36, 64, 100]"
      ]
     },
     "execution_count": 1,
     "metadata": {},
     "output_type": "execute_result"
    }
   ],
   "source": [
    "[i * i for i in range(0, 11, 2)]"
   ]
  },
  {
   "cell_type": "markdown",
   "metadata": {},
   "source": [
    "A sintaxe é `[ expressao for var in col ]` onde `col` é uma coleção de valores (que pode ser varrida por um `for`), `var` é um nome de variável e `expressao` é uma expressão (que em geral usa o valor de `var`). \n",
    "\n",
    "A lista será formada colocando em `var` cada um dos valores de `col`, calculando a expressao para esse valor e inserindo o resultado em uma lista.\n",
    "\n",
    "No exemplo acima, `i` recebe sucessivamente os pares de 0 a 10 (inclusive) e na lista são inseridos os correspondente valores do quadrado de `i`.\n",
    "\n",
    "Os colchetes em volta dizem que queremos formar uma **lista**. Se usarmos chaves, então queremos um conjunto:"
   ]
  },
  {
   "cell_type": "code",
   "execution_count": 4,
   "metadata": {
    "collapsed": false,
    "jupyter": {
     "outputs_hidden": false
    },
    "tags": []
   },
   "outputs": [
    {
     "data": {
      "text/plain": [
       "{0, 4, 16, 36, 64, 100}"
      ]
     },
     "execution_count": 4,
     "metadata": {},
     "output_type": "execute_result"
    }
   ],
   "source": [
    "{ i * i for i in range(0, 11, 2) }"
   ]
  },
  {
   "cell_type": "markdown",
   "metadata": {},
   "source": [
    "Se usamos `:` dentro das chaves, formamos pares chave/valor de um dicionário."
   ]
  },
  {
   "cell_type": "code",
   "execution_count": 5,
   "metadata": {
    "tags": []
   },
   "outputs": [
    {
     "data": {
      "text/plain": [
       "{0: '0', 2: '20', 4: '40', 6: '60', 8: '80', 10: '100'}"
      ]
     },
     "execution_count": 5,
     "metadata": {},
     "output_type": "execute_result"
    }
   ],
   "source": [
    "{ i: str(10 * i) for i in range(0, 11, 2)}"
   ]
  },
  {
   "cell_type": "markdown",
   "metadata": {},
   "source": [
    "É possível também termos mais do que um `for` para a geração da lista."
   ]
  },
  {
   "cell_type": "code",
   "execution_count": 2,
   "metadata": {
    "collapsed": false,
    "jupyter": {
     "outputs_hidden": false
    },
    "tags": []
   },
   "outputs": [
    {
     "data": {
      "text/plain": [
       "[(0, 0),\n",
       " (0, 1),\n",
       " (0, 2),\n",
       " (0, 3),\n",
       " (1, 0),\n",
       " (1, 1),\n",
       " (1, 2),\n",
       " (1, 3),\n",
       " (2, 0),\n",
       " (2, 1),\n",
       " (2, 2),\n",
       " (2, 3),\n",
       " (3, 0),\n",
       " (3, 1),\n",
       " (3, 2),\n",
       " (3, 3)]"
      ]
     },
     "execution_count": 2,
     "metadata": {},
     "output_type": "execute_result"
    }
   ],
   "source": [
    "c"
   ]
  },
  {
   "cell_type": "markdown",
   "metadata": {},
   "source": [
    "Neste caso, tanto `i` quanto `j` estão sendo variados de 0 a 3, com `j` variando _mais rapidamente_ que `i` (isto é, para cada valor de `i` consideramos todos os valores de `j`, na ordem).\n",
    "\n",
    "Outra possibilidade é incluir um _filtro_, quer dizer, uma condição que será usada para testar se o valor deve ser inserido na lista ou não. Se a condição for verdadeira, o correspondente valor será inserido, senão ele será ignorado (a expressão não será avaliada).\n",
    "\n",
    "Por exemplo, a lista abaixo tem os quadrados dos valores de `i` de 2 a 29, mas apenas se `i` for múltiplo de 3 ou de 5."
   ]
  },
  {
   "cell_type": "code",
   "execution_count": 3,
   "metadata": {
    "collapsed": false,
    "jupyter": {
     "outputs_hidden": false
    },
    "tags": []
   },
   "outputs": [
    {
     "data": {
      "text/plain": [
       "[9, 25, 36, 81, 100, 144, 225, 324, 400, 441, 576, 625, 729]"
      ]
     },
     "execution_count": 3,
     "metadata": {},
     "output_type": "execute_result"
    }
   ],
   "source": [
    "[i * i for i in range(2,30) if i % 3 == 0 or i % 5 == 0]"
   ]
  },
  {
   "cell_type": "markdown",
   "metadata": {},
   "source": [
    "# Exercícios"
   ]
  },
  {
   "cell_type": "markdown",
   "metadata": {},
   "source": [
    "Responda a todos os exercícios nesta seção usando comprehensions.\n",
    "\n",
    "1. Crie uma lista com os valores de $x^2 − 3x$ para todos os valores de x inteiros entre 1 e 10, inclusive.\n",
    "\n",
    "2. Crie uma lista com todas as potências de 2 entre $2^0$ e $2^{20}$ (inclusive).\n",
    "\n",
    "3. Crie uma lista com os valores de $\\sqrt{x}$ para os valores de $x$ inteiros pares entre 0 e 20 inclusive.\n",
    "\n",
    "4. Crie uma lista dos valores inteiros entre 0 e 30 que não são múltiplos nem de 3 nem de 5.\n",
    "\n",
    "5. Crie um conjunto com todos os valores inteiros positivos menores que 25 que são múltiplos de 3 mas não de 5.\n",
    "\n",
    "6. Crie um dicionário que associe a cada potência de 10 entre $10^0$ e $10^{20}$ o valor de seu logaritmo base $10$, isto é, para a chave $10^n$ o valor deve ser $n$."
   ]
  },
  {
   "cell_type": "code",
   "execution_count": 7,
   "metadata": {
    "tags": []
   },
   "outputs": [
    {
     "name": "stdout",
     "output_type": "stream",
     "text": [
      "[-2, -2, 0, 4, 10, 18, 28, 40, 54, 70]\n"
     ]
    }
   ],
   "source": [
    "val1 = [x**2 - 3*x for x in range(1,11)]\n",
    "print(val1)"
   ]
  },
  {
   "cell_type": "code",
   "execution_count": 10,
   "metadata": {
    "tags": []
   },
   "outputs": [],
   "source": [
    "#val12 = [lambda x: x**2 for x in range(1,11)] - pesquisar qual a diferença e revisar f lambda\n",
    "# val12"
   ]
  },
  {
   "cell_type": "code",
   "execution_count": 17,
   "metadata": {
    "tags": []
   },
   "outputs": [],
   "source": [
    "pot2 = [2**x for x in range(21)]"
   ]
  },
  {
   "cell_type": "code",
   "execution_count": 16,
   "metadata": {
    "tags": []
   },
   "outputs": [],
   "source": [
    "raiz = [x**0.5 for x in range(20)]"
   ]
  },
  {
   "cell_type": "code",
   "execution_count": 21,
   "metadata": {
    "tags": []
   },
   "outputs": [
    {
     "data": {
      "text/plain": [
       "[1, 2, 4, 7, 8, 11, 13, 14, 16, 17, 19, 22, 23, 26, 28, 29]"
      ]
     },
     "execution_count": 21,
     "metadata": {},
     "output_type": "execute_result"
    }
   ],
   "source": [
    "naomult = [x for x in range(30) if x%3 != 0 and x%5 != 0]\n",
    "naomult"
   ]
  },
  {
   "cell_type": "code",
   "execution_count": 23,
   "metadata": {
    "tags": []
   },
   "outputs": [
    {
     "data": {
      "text/plain": [
       "[3, 6, 9, 12, 18, 21, 24]"
      ]
     },
     "execution_count": 23,
     "metadata": {},
     "output_type": "execute_result"
    }
   ],
   "source": [
    "menor25 = [x for x in range(25) if x%3 ==0 and x%5 != 0]\n",
    "menor25"
   ]
  },
  {
   "cell_type": "code",
   "execution_count": 26,
   "metadata": {
    "tags": []
   },
   "outputs": [
    {
     "data": {
      "text/plain": [
       "{1: 0,\n",
       " 10: 1,\n",
       " 100: 2,\n",
       " 1000: 3,\n",
       " 10000: 4,\n",
       " 100000: 5,\n",
       " 1000000: 6,\n",
       " 10000000: 7,\n",
       " 100000000: 8,\n",
       " 1000000000: 9,\n",
       " 10000000000: 10,\n",
       " 100000000000: 11,\n",
       " 1000000000000: 12,\n",
       " 10000000000000: 13,\n",
       " 100000000000000: 14,\n",
       " 1000000000000000: 15,\n",
       " 10000000000000000: 16,\n",
       " 100000000000000000: 17,\n",
       " 1000000000000000000: 18,\n",
       " 10000000000000000000: 19,\n",
       " 100000000000000000000: 20}"
      ]
     },
     "execution_count": 26,
     "metadata": {},
     "output_type": "execute_result"
    }
   ],
   "source": [
    "diciopot = {10**x: x for x in range(21)}\n",
    "diciopot"
   ]
  }
 ],
 "metadata": {
  "kernelspec": {
   "display_name": "Python 3 (ipykernel)",
   "language": "python",
   "name": "python3"
  },
  "language_info": {
   "codemirror_mode": {
    "name": "ipython",
    "version": 3
   },
   "file_extension": ".py",
   "mimetype": "text/x-python",
   "name": "python",
   "nbconvert_exporter": "python",
   "pygments_lexer": "ipython3",
   "version": "3.10.6"
  }
 },
 "nbformat": 4,
 "nbformat_minor": 4
}
