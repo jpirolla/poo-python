{
 "cells": [
  {
   "cell_type": "markdown",
   "id": "a6dc26d2",
   "metadata": {},
   "source": [
    "## Algoritmos envolvendo números primos"
   ]
  },
  {
   "cell_type": "code",
   "execution_count": 9,
   "id": "d88bedef",
   "metadata": {},
   "outputs": [],
   "source": [
    "import math"
   ]
  },
  {
   "cell_type": "markdown",
   "id": "41b08b66",
   "metadata": {},
   "source": [
    "#### Algoritmo para explicitar os primeiros números primos "
   ]
  },
  {
   "cell_type": "code",
   "execution_count": 5,
   "id": "c1887847",
   "metadata": {},
   "outputs": [],
   "source": [
    "def primeiros_primos(n): \n",
    "    assert n >= 0, 'Número de inválido de primos' \n",
    "    primos = []\n",
    "    current = 2 \n",
    "    count_primos = 0\n",
    "    \n",
    "    while count_primos != n: \n",
    "        for i in primos: \n",
    "            if current % i == 0:\n",
    "                break\n",
    "        else: \n",
    "            primos.append(current) \n",
    "            count_primos += 1 \n",
    "            \n",
    "        current = current + 2 if current != 2 else 3\n",
    "    return primos\n",
    "    "
   ]
  },
  {
   "cell_type": "code",
   "execution_count": 6,
   "id": "71d42915",
   "metadata": {},
   "outputs": [
    {
     "data": {
      "text/plain": [
       "[2, 3, 5, 7, 11, 13, 17, 19, 23, 29]"
      ]
     },
     "execution_count": 6,
     "metadata": {},
     "output_type": "execute_result"
    }
   ],
   "source": [
    "primeiros_primos(10)"
   ]
  },
  {
   "cell_type": "code",
   "execution_count": 7,
   "id": "8e56de86",
   "metadata": {},
   "outputs": [],
   "source": [
    "def first_n_primes(n):\n",
    "    assert n > 0, 'Invalid number of primes requested'\n",
    "    primes = [2]\n",
    "    candidate = 3\n",
    "    while len(primes) < n:\n",
    "        if all(candidate % p != 0 for p in primes):\n",
    "            primes.append(candidate)\n",
    "        candidate += 2\n",
    "    return primes"
   ]
  },
  {
   "cell_type": "code",
   "execution_count": 8,
   "id": "74fb8461",
   "metadata": {},
   "outputs": [
    {
     "data": {
      "text/plain": [
       "[2, 3, 5, 7, 11, 13, 17, 19, 23, 29]"
      ]
     },
     "execution_count": 8,
     "metadata": {},
     "output_type": "execute_result"
    }
   ],
   "source": [
    "first_n_primes(10)"
   ]
  },
  {
   "cell_type": "markdown",
   "id": "5da8003c",
   "metadata": {},
   "source": [
    "#### Algoritmo para verificar primalidade\n",
    "- Se n < 2, então retorno uma lista vazia\n",
    "- Se não, construo uma lista de cumprimento n+1, cujas entradas são True\n",
    "- De antemão sei que os primeiros elementos (0 e 1) não são primos e, portanto, atualizo os primeiros como False\n",
    "- faço um loop para atualizar como falso todos os multiplos do meu current \n",
    "- atualizo meu current += 1\n",
    "- se o current "
   ]
  },
  {
   "cell_type": "code",
   "execution_count": null,
   "id": "fce1b7c5",
   "metadata": {},
   "outputs": [],
   "source": [
    "def primes_until(n): \n",
    "    if n < 2:\n",
    "        return []\n",
    "    is_prime = "
   ]
  },
  {
   "cell_type": "markdown",
   "id": "e408e2c9",
   "metadata": {},
   "source": [
    "#### Algoritmo para verificar se um número é primo"
   ]
  },
  {
   "cell_type": "markdown",
   "id": "4ef41538",
   "metadata": {},
   "source": [
    "Para saber se um número é primo: \n",
    "- testar a divisibilidade por todos os primos menores ou iguais a sua raiz quadrada. \n",
    "- buscar até sua raiz quadrada otimiza tempo de execução "
   ]
  },
  {
   "cell_type": "markdown",
   "id": "f84fb474",
   "metadata": {},
   "source": [
    "- Definir uma função \"is_prime\" \n",
    "- utilizamos a função anterior \""
   ]
  }
 ],
 "metadata": {
  "kernelspec": {
   "display_name": "Python 3 (ipykernel)",
   "language": "python",
   "name": "python3"
  },
  "language_info": {
   "codemirror_mode": {
    "name": "ipython",
    "version": 3
   },
   "file_extension": ".py",
   "mimetype": "text/x-python",
   "name": "python",
   "nbconvert_exporter": "python",
   "pygments_lexer": "ipython3",
   "version": "3.10.6"
  }
 },
 "nbformat": 4,
 "nbformat_minor": 5
}
