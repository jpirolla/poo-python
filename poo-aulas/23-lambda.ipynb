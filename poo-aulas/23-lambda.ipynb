{
 "cells": [
  {
   "cell_type": "markdown",
   "metadata": {},
   "source": [
    "# Funções lambda, `map` e `filter`"
   ]
  },
  {
   "cell_type": "markdown",
   "metadata": {},
   "source": [
    "## 1. Funções lambda"
   ]
  },
  {
   "cell_type": "markdown",
   "metadata": {},
   "source": [
    "Em muitas situações, precisamos de uma função simples, que possivelmente não será mais usada em outros lugares. Neste caso, definir uma nova função com `def` pode ser mais complicado do que necessário, principalmente se precisamos usar variáveis locais (isto é, se a função é uma *closure*), caso em que o `def` deveria aparecer no interior de outra função.\n",
    "\n",
    "Isso é resolvido pela definição de *funções lambda*, que são funções simples que não precisam receber um nome.\n",
    "\n",
    "A sintaxe é a seguinte:"
   ]
  },
  {
   "cell_type": "code",
   "execution_count": null,
   "metadata": {},
   "outputs": [],
   "source": [
    "f1 = lambda x, y: 2 * x - y"
   ]
  },
  {
   "cell_type": "markdown",
   "metadata": {},
   "source": [
    "Esse código definiu uma função de dois parâmetros (chamados `x` e `y`) que retorna o valor da expressão $2x-y$.\n",
    "\n",
    "Neste caso, estamos colocando essa função na variável `f1`, que pode ser usada para a execução da função."
   ]
  },
  {
   "cell_type": "code",
   "execution_count": null,
   "metadata": {},
   "outputs": [],
   "source": [
    "f1"
   ]
  },
  {
   "cell_type": "code",
   "execution_count": null,
   "metadata": {},
   "outputs": [],
   "source": [
    "f1(3, 2)"
   ]
  },
  {
   "cell_type": "markdown",
   "metadata": {},
   "source": [
    "Isto seria equivalente à definição abaixo (mas mais conciso): "
   ]
  },
  {
   "cell_type": "code",
   "execution_count": null,
   "metadata": {},
   "outputs": [],
   "source": [
    "def f2(x, y):\n",
    "    return 2 * x - y"
   ]
  },
  {
   "cell_type": "code",
   "execution_count": null,
   "metadata": {},
   "outputs": [],
   "source": [
    "f2(3, 2)"
   ]
  },
  {
   "cell_type": "markdown",
   "metadata": {},
   "source": [
    "soma = lambda x, y: x + y\n",
    "print(soma(2, 3))Importante levar em consideração que o corpo de uma função lambda deve possuir apenas uma expressão, que será o valor retornado. Se for necessário código mais complexo, deve ser usado um `def`."
   ]
  },
  {
   "cell_type": "code",
   "execution_count": 1,
   "metadata": {
    "tags": []
   },
   "outputs": [
    {
     "name": "stdout",
     "output_type": "stream",
     "text": [
      "5\n"
     ]
    }
   ],
   "source": [
    "soma = lambda x, y: x + y\n",
    "print(soma(2, 3))"
   ]
  },
  {
   "cell_type": "code",
   "execution_count": 9,
   "metadata": {
    "tags": []
   },
   "outputs": [
    {
     "data": {
      "text/plain": [
       "[<function __main__.<genexpr>.<lambda>(x)>,\n",
       " <function __main__.<genexpr>.<lambda>(x)>,\n",
       " <function __main__.<genexpr>.<lambda>(x)>,\n",
       " <function __main__.<genexpr>.<lambda>(x)>,\n",
       " <function __main__.<genexpr>.<lambda>(x)>,\n",
       " <function __main__.<genexpr>.<lambda>(x)>,\n",
       " <function __main__.<genexpr>.<lambda>(x)>,\n",
       " <function __main__.<genexpr>.<lambda>(x)>,\n",
       " <function __main__.<genexpr>.<lambda>(x)>,\n",
       " <function __main__.<genexpr>.<lambda>(x)>]"
      ]
     },
     "execution_count": 9,
     "metadata": {},
     "output_type": "execute_result"
    }
   ],
   "source": [
    "list(lambda x: x**2 for x in range(10))"
   ]
  },
  {
   "cell_type": "markdown",
   "metadata": {},
   "source": [
    "## 2. Map e filter"
   ]
  },
  {
   "cell_type": "markdown",
   "metadata": {},
   "source": [
    "Uma situação onde funções lambda são úteis é no uso da funções `map` e `filter`.\n",
    "\n",
    "`map` recebe uma função e um objeto do qual se podem percorrer os elementos. Ela aplica a função recebida, gerando um elemento para cada elemento original."
   ]
  },
  {
   "cell_type": "code",
   "execution_count": null,
   "metadata": {},
   "outputs": [],
   "source": [
    "def div2(x):\n",
    "    return x // 2\n",
    "list(map(div2, [10, 20, 30, 40]))"
   ]
  },
  {
   "cell_type": "markdown",
   "metadata": {},
   "source": [
    "Para uma função tão simples, e principalmente se ela vai ser usada apenas nesse comando, é útil o uso de função lambda:"
   ]
  },
  {
   "cell_type": "code",
   "execution_count": null,
   "metadata": {},
   "outputs": [],
   "source": [
    "list(map(lambda x: x // 2, [10, 20, 30, 40]))"
   ]
  },
  {
   "cell_type": "markdown",
   "metadata": {},
   "source": [
    "No código acima, definimos uma função lambda que divide o valor de seu parâmetro por 2. Essa função é aplicada (por `map`) a todos os elementos da lista fornecida. O resultado é coletado em uma nova lista.\n",
    "\n",
    "Um exemplo similar que usa `range` segue."
   ]
  },
  {
   "cell_type": "code",
   "execution_count": null,
   "metadata": {},
   "outputs": [],
   "source": [
    "list(map(lambda x: 2 * x ** 2, range(10)))"
   ]
  },
  {
   "cell_type": "markdown",
   "metadata": {},
   "source": [
    "Operações com `map` usualmente podem também ser escritas com _comprehension_, que é considerada uma melhor solução em Python."
   ]
  },
  {
   "cell_type": "code",
   "execution_count": null,
   "metadata": {},
   "outputs": [],
   "source": [
    "%timeit list(map(lambda x: 2 * x ** 2, range(100)))"
   ]
  },
  {
   "cell_type": "code",
   "execution_count": null,
   "metadata": {},
   "outputs": [],
   "source": [
    "%timeit [2 * x ** 2 for x in range(100)]"
   ]
  },
  {
   "cell_type": "markdown",
   "metadata": {},
   "source": [
    "Para completar, vamos comparar também com um _loop_ simples:"
   ]
  },
  {
   "cell_type": "code",
   "execution_count": null,
   "metadata": {},
   "outputs": [],
   "source": [
    "%%timeit\n",
    "a = []\n",
    "for x in range(100):\n",
    "    a.append(2 * x ** 2)"
   ]
  },
  {
   "cell_type": "markdown",
   "metadata": {},
   "source": [
    "Se a função fornecida necessita de mais parâmetros, precisamos fornecer **uma lista para cada parâmetro**.\n",
    "\n",
    "No codigo abaixo, `map` irá aplicar `f1(1,0), f1(2,1), f1(3,2), ...`"
   ]
  },
  {
   "cell_type": "code",
   "execution_count": null,
   "metadata": {},
   "outputs": [],
   "source": [
    "list(map(f1, range(1, 11), range(0, 10)))"
   ]
  },
  {
   "cell_type": "markdown",
   "metadata": {},
   "source": [
    "A função `filter` é similar a `map`, mas a função fornecida como primeiro parâmetro **deve retornar um booleano** (`True` ou `False`). Essa função é aplicada a cada elemento da coleção fornecida. Cada elemento para o qual a função retornar `True` será inserido no resultado, enquanto os outros serão descartados."
   ]
  },
  {
   "cell_type": "code",
   "execution_count": null,
   "metadata": {},
   "outputs": [],
   "source": [
    "list(filter(lambda x: x % 2 == 0, range(10)))"
   ]
  },
  {
   "cell_type": "markdown",
   "metadata": {
    "jupyter": {
     "outputs_hidden": true
    }
   },
   "source": [
    "Operações com `filter` também podem ser feitas com _comprehension_ com o auxílio do `if`:"
   ]
  },
  {
   "cell_type": "code",
   "execution_count": null,
   "metadata": {},
   "outputs": [],
   "source": [
    "%timeit list(filter(lambda x: x % 2 == 0, range(10000)))"
   ]
  },
  {
   "cell_type": "code",
   "execution_count": null,
   "metadata": {},
   "outputs": [],
   "source": [
    "%timeit [x for x in range(10000) if x % 2 == 0]"
   ]
  },
  {
   "cell_type": "markdown",
   "metadata": {},
   "source": [
    "Comparando também com um _loop_ simples:"
   ]
  },
  {
   "cell_type": "code",
   "execution_count": null,
   "metadata": {},
   "outputs": [],
   "source": [
    "%%timeit\n",
    "a = []\n",
    "for x in range(10000):\n",
    "    if x % 2 == 0:\n",
    "        a.append(x)"
   ]
  },
  {
   "cell_type": "code",
   "execution_count": null,
   "metadata": {},
   "outputs": [],
   "source": [
    "list(map(lambda x: 2 * x ** 2, filter(lambda x: x % 2 == 0, range(10))))"
   ]
  },
  {
   "cell_type": "code",
   "execution_count": null,
   "metadata": {},
   "outputs": [],
   "source": [
    "[2 * x ** 2 for x in range(10) if x % 2 == 0]"
   ]
  },
  {
   "cell_type": "code",
   "execution_count": null,
   "metadata": {},
   "outputs": [],
   "source": [
    "import math"
   ]
  },
  {
   "cell_type": "code",
   "execution_count": null,
   "metadata": {},
   "outputs": [],
   "source": [
    "[(math.sqrt(8 * s + 1) - 1)/2 for s in [sum(range(n+1)) for n in range(10)]]"
   ]
  },
  {
   "cell_type": "code",
   "execution_count": null,
   "metadata": {},
   "outputs": [],
   "source": [
    "[sum(range(n+1)) for n in range(10)]"
   ]
  },
  {
   "cell_type": "code",
   "execution_count": null,
   "metadata": {},
   "outputs": [],
   "source": [
    "list(map(lambda x: x ** 3, \n",
    "         filter(lambda y: (y + 1) % 3 == 0 and y % 2 == 0, \n",
    "                range(100))))"
   ]
  },
  {
   "cell_type": "code",
   "execution_count": null,
   "metadata": {},
   "outputs": [],
   "source": [
    "list(filter(lambda y: y%3!=0 and y%5!=0, map(lambda x: 2 ** x - 1, range(10))))"
   ]
  },
  {
   "cell_type": "markdown",
   "metadata": {},
   "source": [
    "# Exercícios"
   ]
  },
  {
   "cell_type": "markdown",
   "metadata": {},
   "source": [
    "## Ida"
   ]
  },
  {
   "cell_type": "markdown",
   "metadata": {},
   "source": [
    "Converta os códigos abaixo que usam *list comprehension* para usarem `map` ou `filter` e funções lambda.\n",
    "1. \n",
    "```python\n",
    "[3 * x - 1 for x in range(10)]\n",
    "```\n",
    "2. \n",
    "```python\n",
    "[x ** 2 for x in range(0, 100, 3) if x % 5 != 0]\n",
    "```\n",
    "3. \n",
    "```python\n",
    "[math.sqrt(8 * s + 1) / 2 for s in [sum(range(n+1)) for n in range(10)]]\n",
    "```"
   ]
  },
  {
   "cell_type": "code",
   "execution_count": 14,
   "metadata": {
    "tags": []
   },
   "outputs": [],
   "source": [
    "import math"
   ]
  },
  {
   "cell_type": "code",
   "execution_count": 18,
   "metadata": {
    "tags": []
   },
   "outputs": [
    {
     "data": {
      "text/plain": [
       "[3.0,\n",
       " 4.123105625617661,\n",
       " 5.0,\n",
       " 5.744562646538029,\n",
       " 6.4031242374328485,\n",
       " 7.0,\n",
       " 7.54983443527075,\n",
       " 8.06225774829855,\n",
       " 8.54400374531753]"
      ]
     },
     "execution_count": 18,
     "metadata": {},
     "output_type": "execute_result"
    }
   ],
   "source": [
    "list(map(lambda x: math.sqrt(8 * x + 1), filter(lambda x: sum(range(x+1)),range(10)) ))"
   ]
  },
  {
   "cell_type": "code",
   "execution_count": null,
   "metadata": {},
   "outputs": [],
   "source": [
    "\n",
    "[math.sqrt(8 * s + 1) / 2 for s in [sum(range(n+1)) for n in range(10)]]\n",
    "\n",
    "# Cria uma lista com as somas dos números de 0 a 9\n",
    "somas = list(map(lambda n: sum(range(n+1)), range(10)))\n",
    "\n",
    "# Aplica a fórmula a cada valor de soma\n",
    "resultado = list(map(lambda s: math.sqrt(8 * s + 1) / 2, somas))\n",
    "\n",
    "print(resultado)\n"
   ]
  },
  {
   "cell_type": "code",
   "execution_count": 23,
   "metadata": {
    "tags": []
   },
   "outputs": [
    {
     "data": {
      "text/plain": [
       "[0.5, 1.5, 2.5, 3.5, 4.5, 5.5, 6.5, 7.5, 8.5, 9.5]"
      ]
     },
     "execution_count": 23,
     "metadata": {},
     "output_type": "execute_result"
    }
   ],
   "source": [
    "# aplico sum(range(n+1) para cara n de range(10))\n",
    "# aplico math.sqrt para cada elemento que gerei anterior\n",
    "\n",
    "list(map(lambda s: math.sqrt(8 * s + 1) / 2, map(lambda n: sum(range(n+1)), range(10))))"
   ]
  },
  {
   "cell_type": "code",
   "execution_count": 19,
   "metadata": {
    "tags": []
   },
   "outputs": [
    {
     "data": {
      "text/plain": [
       "[0.5, 1.5, 2.5, 3.5, 4.5, 5.5, 6.5, 7.5, 8.5, 9.5]"
      ]
     },
     "execution_count": 19,
     "metadata": {},
     "output_type": "execute_result"
    }
   ],
   "source": [
    "[math.sqrt(8 * s + 1) / 2 for s in [sum(range(n+1)) for n in range(10)]]"
   ]
  },
  {
   "cell_type": "code",
   "execution_count": 13,
   "metadata": {
    "tags": []
   },
   "outputs": [
    {
     "data": {
      "text/plain": [
       "[0, 1, 3, 6, 10, 15, 21, 28, 36, 45]"
      ]
     },
     "execution_count": 13,
     "metadata": {},
     "output_type": "execute_result"
    }
   ],
   "source": [
    "[sum(range(n+1)) for n in range(10)]"
   ]
  },
  {
   "cell_type": "code",
   "execution_count": 2,
   "metadata": {
    "tags": []
   },
   "outputs": [
    {
     "data": {
      "text/plain": [
       "[-1, 2, 5, 8, 11, 14, 17, 20, 23, 26]"
      ]
     },
     "execution_count": 2,
     "metadata": {},
     "output_type": "execute_result"
    }
   ],
   "source": [
    "list(map((lambda x: 3*x - 1), range(10)))"
   ]
  },
  {
   "cell_type": "code",
   "execution_count": null,
   "metadata": {},
   "outputs": [],
   "source": [
    "list(map(lambda x: x**2, filter(lambda x: x % 5 != 0, range(0, 100, 3))))"
   ]
  },
  {
   "cell_type": "code",
   "execution_count": 12,
   "metadata": {
    "tags": []
   },
   "outputs": [
    {
     "data": {
      "text/plain": [
       "[9,\n",
       " 36,\n",
       " 81,\n",
       " 144,\n",
       " 225,\n",
       " 324,\n",
       " 441,\n",
       " 576,\n",
       " 729,\n",
       " 900,\n",
       " 1089,\n",
       " 1296,\n",
       " 1521,\n",
       " 1764,\n",
       " 2025,\n",
       " 2304,\n",
       " 2601,\n",
       " 2916,\n",
       " 3249,\n",
       " 3600,\n",
       " 3969,\n",
       " 4356,\n",
       " 4761,\n",
       " 5184,\n",
       " 5625,\n",
       " 6084,\n",
       " 6561,\n",
       " 7056,\n",
       " 7569,\n",
       " 8100,\n",
       " 8649,\n",
       " 9216,\n",
       " 9801]"
      ]
     },
     "execution_count": 12,
     "metadata": {},
     "output_type": "execute_result"
    }
   ],
   "source": [
    "list(map(lambda x: x**2, filter(lambda x: x !=0, range(0,100,3))))"
   ]
  },
  {
   "cell_type": "markdown",
   "metadata": {},
   "source": [
    "## Volta"
   ]
  },
  {
   "cell_type": "markdown",
   "metadata": {},
   "source": [
    "Converta os códigos abaixo que usam `map` ou `filter` com funções lambda para usar *list comprehension*.\n",
    "1. \n",
    "```python\n",
    "list(map(lambda x: x // 3, range(0, 100, 2)))\n",
    "```\n",
    "2. \n",
    "```python\n",
    "list(map(lambda x: x ** 3,\n",
    "         filter(lambda y: (y + 1) % 3 == 0 and y % 2 == 0,\n",
    "                range(100))))\n",
    "```\n",
    "3. \n",
    "```python\n",
    "list(filter(lambda y: y % 3 != 0 and y % 5 != 0,\n",
    "            map(lambda x: 2 ** x - 1, range(100))))\n",
    "```"
   ]
  },
  {
   "cell_type": "code",
   "execution_count": 24,
   "metadata": {
    "tags": []
   },
   "outputs": [
    {
     "data": {
      "text/plain": [
       "[0,\n",
       " 0,\n",
       " 1,\n",
       " 2,\n",
       " 2,\n",
       " 3,\n",
       " 4,\n",
       " 4,\n",
       " 5,\n",
       " 6,\n",
       " 6,\n",
       " 7,\n",
       " 8,\n",
       " 8,\n",
       " 9,\n",
       " 10,\n",
       " 10,\n",
       " 11,\n",
       " 12,\n",
       " 12,\n",
       " 13,\n",
       " 14,\n",
       " 14,\n",
       " 15,\n",
       " 16,\n",
       " 16,\n",
       " 17,\n",
       " 18,\n",
       " 18,\n",
       " 19,\n",
       " 20,\n",
       " 20,\n",
       " 21,\n",
       " 22,\n",
       " 22,\n",
       " 23,\n",
       " 24,\n",
       " 24,\n",
       " 25,\n",
       " 26,\n",
       " 26,\n",
       " 27,\n",
       " 28,\n",
       " 28,\n",
       " 29,\n",
       " 30,\n",
       " 30,\n",
       " 31,\n",
       " 32,\n",
       " 32]"
      ]
     },
     "execution_count": 24,
     "metadata": {},
     "output_type": "execute_result"
    }
   ],
   "source": [
    "[x//3 for x in range(0,100,2)]"
   ]
  },
  {
   "cell_type": "code",
   "execution_count": 25,
   "metadata": {
    "tags": []
   },
   "outputs": [
    {
     "data": {
      "text/plain": [
       "[0,\n",
       " 0,\n",
       " 1,\n",
       " 2,\n",
       " 2,\n",
       " 3,\n",
       " 4,\n",
       " 4,\n",
       " 5,\n",
       " 6,\n",
       " 6,\n",
       " 7,\n",
       " 8,\n",
       " 8,\n",
       " 9,\n",
       " 10,\n",
       " 10,\n",
       " 11,\n",
       " 12,\n",
       " 12,\n",
       " 13,\n",
       " 14,\n",
       " 14,\n",
       " 15,\n",
       " 16,\n",
       " 16,\n",
       " 17,\n",
       " 18,\n",
       " 18,\n",
       " 19,\n",
       " 20,\n",
       " 20,\n",
       " 21,\n",
       " 22,\n",
       " 22,\n",
       " 23,\n",
       " 24,\n",
       " 24,\n",
       " 25,\n",
       " 26,\n",
       " 26,\n",
       " 27,\n",
       " 28,\n",
       " 28,\n",
       " 29,\n",
       " 30,\n",
       " 30,\n",
       " 31,\n",
       " 32,\n",
       " 32]"
      ]
     },
     "execution_count": 25,
     "metadata": {},
     "output_type": "execute_result"
    }
   ],
   "source": [
    "list(map(lambda x: x // 3, range(0, 100, 2)))"
   ]
  },
  {
   "cell_type": "code",
   "execution_count": 27,
   "metadata": {
    "tags": []
   },
   "outputs": [
    {
     "data": {
      "text/plain": [
       "[8,\n",
       " 512,\n",
       " 2744,\n",
       " 8000,\n",
       " 17576,\n",
       " 32768,\n",
       " 54872,\n",
       " 85184,\n",
       " 125000,\n",
       " 175616,\n",
       " 238328,\n",
       " 314432,\n",
       " 405224,\n",
       " 512000,\n",
       " 636056,\n",
       " 778688,\n",
       " 941192]"
      ]
     },
     "execution_count": 27,
     "metadata": {},
     "output_type": "execute_result"
    }
   ],
   "source": [
    "[x**3 for x in range(100) if (x+1)%3 ==0 and x%2 ==0]"
   ]
  },
  {
   "cell_type": "code",
   "execution_count": 28,
   "metadata": {
    "tags": []
   },
   "outputs": [
    {
     "data": {
      "text/plain": [
       "[8,\n",
       " 512,\n",
       " 2744,\n",
       " 8000,\n",
       " 17576,\n",
       " 32768,\n",
       " 54872,\n",
       " 85184,\n",
       " 125000,\n",
       " 175616,\n",
       " 238328,\n",
       " 314432,\n",
       " 405224,\n",
       " 512000,\n",
       " 636056,\n",
       " 778688,\n",
       " 941192]"
      ]
     },
     "execution_count": 28,
     "metadata": {},
     "output_type": "execute_result"
    }
   ],
   "source": [
    "list(map(lambda x: x ** 3,\n",
    "         filter(lambda y: (y + 1) % 3 == 0 and y % 2 == 0,\n",
    "                range(100))))"
   ]
  },
  {
   "cell_type": "code",
   "execution_count": 31,
   "metadata": {
    "tags": []
   },
   "outputs": [
    {
     "data": {
      "text/plain": [
       "[1,\n",
       " 7,\n",
       " 31,\n",
       " 127,\n",
       " 511,\n",
       " 2047,\n",
       " 8191,\n",
       " 32767,\n",
       " 131071,\n",
       " 524287,\n",
       " 2097151,\n",
       " 8388607,\n",
       " 33554431,\n",
       " 134217727,\n",
       " 536870911,\n",
       " 2147483647,\n",
       " 8589934591,\n",
       " 34359738367,\n",
       " 137438953471,\n",
       " 549755813887,\n",
       " 2199023255551,\n",
       " 8796093022207,\n",
       " 35184372088831,\n",
       " 140737488355327,\n",
       " 562949953421311,\n",
       " 2251799813685247,\n",
       " 9007199254740991,\n",
       " 36028797018963967,\n",
       " 144115188075855871,\n",
       " 576460752303423487,\n",
       " 2305843009213693951,\n",
       " 9223372036854775807,\n",
       " 36893488147419103231,\n",
       " 147573952589676412927,\n",
       " 590295810358705651711,\n",
       " 2361183241434822606847,\n",
       " 9444732965739290427391,\n",
       " 37778931862957161709567,\n",
       " 151115727451828646838271,\n",
       " 604462909807314587353087,\n",
       " 2417851639229258349412351,\n",
       " 9671406556917033397649407,\n",
       " 38685626227668133590597631,\n",
       " 154742504910672534362390527,\n",
       " 618970019642690137449562111,\n",
       " 2475880078570760549798248447,\n",
       " 9903520314283042199192993791,\n",
       " 39614081257132168796771975167,\n",
       " 158456325028528675187087900671,\n",
       " 633825300114114700748351602687]"
      ]
     },
     "execution_count": 31,
     "metadata": {},
     "output_type": "execute_result"
    }
   ],
   "source": [
    "list(filter(lambda y: y % 3 != 0 and y % 5 != 0, map(lambda x: 2 ** x - 1, range(100))))"
   ]
  },
  {
   "cell_type": "code",
   "execution_count": 32,
   "metadata": {
    "tags": []
   },
   "outputs": [
    {
     "data": {
      "text/plain": [
       "[1,\n",
       " 7,\n",
       " 31,\n",
       " 127,\n",
       " 511,\n",
       " 2047,\n",
       " 8191,\n",
       " 32767,\n",
       " 131071,\n",
       " 524287,\n",
       " 2097151,\n",
       " 8388607,\n",
       " 33554431,\n",
       " 134217727,\n",
       " 536870911,\n",
       " 2147483647,\n",
       " 8589934591,\n",
       " 34359738367,\n",
       " 137438953471,\n",
       " 549755813887,\n",
       " 2199023255551,\n",
       " 8796093022207,\n",
       " 35184372088831,\n",
       " 140737488355327,\n",
       " 562949953421311,\n",
       " 2251799813685247,\n",
       " 9007199254740991,\n",
       " 36028797018963967,\n",
       " 144115188075855871,\n",
       " 576460752303423487,\n",
       " 2305843009213693951,\n",
       " 9223372036854775807,\n",
       " 36893488147419103231,\n",
       " 147573952589676412927,\n",
       " 590295810358705651711,\n",
       " 2361183241434822606847,\n",
       " 9444732965739290427391,\n",
       " 37778931862957161709567,\n",
       " 151115727451828646838271,\n",
       " 604462909807314587353087,\n",
       " 2417851639229258349412351,\n",
       " 9671406556917033397649407,\n",
       " 38685626227668133590597631,\n",
       " 154742504910672534362390527,\n",
       " 618970019642690137449562111,\n",
       " 2475880078570760549798248447,\n",
       " 9903520314283042199192993791,\n",
       " 39614081257132168796771975167,\n",
       " 158456325028528675187087900671,\n",
       " 633825300114114700748351602687]"
      ]
     },
     "execution_count": 32,
     "metadata": {},
     "output_type": "execute_result"
    }
   ],
   "source": [
    "[y for y in [2 ** x - 1 for x in range(100)] if y % 3 != 0 and y % 5 != 0]\n"
   ]
  },
  {
   "cell_type": "code",
   "execution_count": 30,
   "metadata": {
    "tags": []
   },
   "outputs": [
    {
     "data": {
      "text/plain": [
       "[1,\n",
       " 7,\n",
       " 31,\n",
       " 127,\n",
       " 511,\n",
       " 2047,\n",
       " 8191,\n",
       " 32767,\n",
       " 131071,\n",
       " 524287,\n",
       " 2097151,\n",
       " 8388607,\n",
       " 33554431,\n",
       " 134217727,\n",
       " 536870911,\n",
       " 2147483647,\n",
       " 8589934591,\n",
       " 34359738367,\n",
       " 137438953471,\n",
       " 549755813887,\n",
       " 2199023255551,\n",
       " 8796093022207,\n",
       " 35184372088831,\n",
       " 140737488355327,\n",
       " 562949953421311,\n",
       " 2251799813685247,\n",
       " 9007199254740991,\n",
       " 36028797018963967,\n",
       " 144115188075855871,\n",
       " 576460752303423487,\n",
       " 2305843009213693951,\n",
       " 9223372036854775807,\n",
       " 36893488147419103231,\n",
       " 147573952589676412927,\n",
       " 590295810358705651711,\n",
       " 2361183241434822606847,\n",
       " 9444732965739290427391,\n",
       " 37778931862957161709567,\n",
       " 151115727451828646838271,\n",
       " 604462909807314587353087,\n",
       " 2417851639229258349412351,\n",
       " 9671406556917033397649407,\n",
       " 38685626227668133590597631,\n",
       " 154742504910672534362390527,\n",
       " 618970019642690137449562111,\n",
       " 2475880078570760549798248447,\n",
       " 9903520314283042199192993791,\n",
       " 39614081257132168796771975167,\n",
       " 158456325028528675187087900671,\n",
       " 633825300114114700748351602687]"
      ]
     },
     "execution_count": 30,
     "metadata": {},
     "output_type": "execute_result"
    }
   ],
   "source": [
    "list(filter(lambda y: y % 3 != 0 and y % 5 != 0,\n",
    "            map(lambda x: 2 ** x - 1, range(100))))"
   ]
  },
  {
   "cell_type": "code",
   "execution_count": 29,
   "metadata": {
    "tags": []
   },
   "outputs": [
    {
     "data": {
      "text/plain": [
       "[1,\n",
       " 3,\n",
       " 15,\n",
       " 127,\n",
       " 255,\n",
       " 2047,\n",
       " 8191,\n",
       " 16383,\n",
       " 65535,\n",
       " 131071,\n",
       " 524287,\n",
       " 4194303,\n",
       " 8388607,\n",
       " 67108863,\n",
       " 268435455,\n",
       " 536870911,\n",
       " 2147483647,\n",
       " 4294967295,\n",
       " 17179869183,\n",
       " 137438953471,\n",
       " 274877906943,\n",
       " 2199023255551,\n",
       " 8796093022207,\n",
       " 17592186044415,\n",
       " 70368744177663,\n",
       " 140737488355327,\n",
       " 562949953421311,\n",
       " 4503599627370495,\n",
       " 9007199254740991,\n",
       " 72057594037927935,\n",
       " 288230376151711743,\n",
       " 576460752303423487,\n",
       " 2305843009213693951,\n",
       " 4611686018427387903,\n",
       " 18446744073709551615,\n",
       " 147573952589676412927,\n",
       " 295147905179352825855,\n",
       " 2361183241434822606847,\n",
       " 9444732965739290427391,\n",
       " 18889465931478580854783,\n",
       " 75557863725914323419135,\n",
       " 151115727451828646838271,\n",
       " 604462909807314587353087,\n",
       " 4835703278458516698824703,\n",
       " 9671406556917033397649407,\n",
       " 77371252455336267181195263,\n",
       " 309485009821345068724781055,\n",
       " 618970019642690137449562111,\n",
       " 2475880078570760549798248447,\n",
       " 4951760157141521099596496895,\n",
       " 19807040628566084398385987583,\n",
       " 158456325028528675187087900671,\n",
       " 316912650057057350374175801343]"
      ]
     },
     "execution_count": 29,
     "metadata": {},
     "output_type": "execute_result"
    }
   ],
   "source": [
    "[2**y-1 for y in range(100) if y % 3 != 0 and y % 5 != 0 ]"
   ]
  }
 ],
 "metadata": {
  "kernelspec": {
   "display_name": "Python 3 (ipykernel)",
   "language": "python",
   "name": "python3"
  },
  "language_info": {
   "codemirror_mode": {
    "name": "ipython",
    "version": 3
   },
   "file_extension": ".py",
   "mimetype": "text/x-python",
   "name": "python",
   "nbconvert_exporter": "python",
   "pygments_lexer": "ipython3",
   "version": "3.10.6"
  }
 },
 "nbformat": 4,
 "nbformat_minor": 4
}
