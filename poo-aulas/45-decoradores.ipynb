{
 "cells": [
  {
   "cell_type": "markdown",
   "metadata": {},
   "source": [
    "# Decoradores"
   ]
  },
  {
   "cell_type": "markdown",
   "metadata": {},
   "source": [
    "Em Python, decoradores são elementos que podem ser usados para alterar o comportamento de funções (decoradores de funções) ou classes (decoradores de classes) sobre os quais são aplicados.\n",
    "\n",
    "Se definimos um decorador denominado `decor` (por exemplo), para aplicá-lo basta usar a sintaxe `@decor` imediatamente antes da função ou classe que será decorada."
   ]
  },
  {
   "cell_type": "markdown",
   "metadata": {},
   "source": [
    "## 1. Alguns decoradores pré-definidos"
   ]
  },
  {
   "cell_type": "markdown",
   "metadata": {},
   "source": [
    "A linguagem já define diversos decoradores. Alguns importantes são ligados a propriedades e métodos estáticos e de classe.\n",
    "\n",
    "Por exemplo, podemos definir os métodos estáticos e de classe do exemplo dado anteriormente de forma mais simples como na classe seguinte:"
   ]
  },
  {
   "cell_type": "code",
   "execution_count": null,
   "metadata": {},
   "outputs": [],
   "source": [
    "class A:\n",
    "    x = 0\n",
    "    \n",
    "    def __init__(self, y):\n",
    "        self.y = y\n",
    "    \n",
    "    def normal_method(self):\n",
    "        return self, self.x, self.y\n",
    "    \n",
    "    @staticmethod\n",
    "    def static_method():\n",
    "        return A, A.x\n",
    "\n",
    "    @classmethod\n",
    "    def class_method(cls, z):\n",
    "        return cls, cls.x + z"
   ]
  },
  {
   "cell_type": "code",
   "execution_count": null,
   "metadata": {},
   "outputs": [],
   "source": [
    "a = A(2)"
   ]
  },
  {
   "cell_type": "code",
   "execution_count": null,
   "metadata": {},
   "outputs": [],
   "source": [
    "a.normal_method()"
   ]
  },
  {
   "cell_type": "code",
   "execution_count": null,
   "metadata": {},
   "outputs": [],
   "source": [
    "a.static_method()"
   ]
  },
  {
   "cell_type": "code",
   "execution_count": null,
   "metadata": {},
   "outputs": [],
   "source": [
    "a.class_method(3)"
   ]
  },
  {
   "cell_type": "markdown",
   "metadata": {},
   "source": [
    "Existe também o decorador `property`, usado para definir uma *property* de forma mais simples: Basta colocar esse decorador antes da função que será usada **para acessos de leitura**. O nome da função será o nome do atributo criado. Depois, se você quiser controlar também a escrita, basta usar o decorador `nome_do_atributo.setter` antes da função que será usada **para a escrita** (e que deve ter o mesmo nome do atributo). Veja abaixo redefinição da classe `Positive`."
   ]
  },
  {
   "cell_type": "code",
   "execution_count": null,
   "metadata": {},
   "outputs": [],
   "source": [
    "class Positive:\n",
    "    def __init__(self, ini):\n",
    "        self.value = ini\n",
    "    \n",
    "    @property\n",
    "    def value(self):\n",
    "        return self._val\n",
    "    \n",
    "    @value.setter\n",
    "    def value(self, x):\n",
    "        if x <= 0:\n",
    "            raise ValueError('Value must be positive')\n",
    "        self._val = x"
   ]
  },
  {
   "cell_type": "code",
   "execution_count": null,
   "metadata": {},
   "outputs": [],
   "source": [
    "p4 = Positive(1)"
   ]
  },
  {
   "cell_type": "code",
   "execution_count": null,
   "metadata": {},
   "outputs": [],
   "source": [
    "p4.value"
   ]
  },
  {
   "cell_type": "code",
   "execution_count": null,
   "metadata": {},
   "outputs": [],
   "source": [
    "p4.value = 5"
   ]
  },
  {
   "cell_type": "code",
   "execution_count": null,
   "metadata": {},
   "outputs": [],
   "source": [
    "p4.value"
   ]
  },
  {
   "cell_type": "code",
   "execution_count": null,
   "metadata": {},
   "outputs": [],
   "source": [
    "p4.value += 2"
   ]
  },
  {
   "cell_type": "code",
   "execution_count": null,
   "metadata": {},
   "outputs": [],
   "source": [
    "p4.value -= 10"
   ]
  },
  {
   "cell_type": "code",
   "execution_count": null,
   "metadata": {},
   "outputs": [],
   "source": [
    "p5 = Positive(-1)"
   ]
  },
  {
   "cell_type": "markdown",
   "metadata": {},
   "source": [
    "## 2. Definindo seus decoradores"
   ]
  },
  {
   "cell_type": "markdown",
   "metadata": {},
   "source": [
    "Você também pode definir seus próprios decoradores. "
   ]
  },
  {
   "cell_type": "markdown",
   "metadata": {},
   "source": [
    "### 2.1. Decoradores de funções"
   ]
  },
  {
   "cell_type": "markdown",
   "metadata": {},
   "source": [
    "Para definir um decorador de funções você deve criar um objeto que define o método `__call__`, isto é, ele pode ser chamado como uma função. Esse método irá fazer o processamento necessário no lugar da função que foi decorada.\n",
    "\n",
    "Para entender o processo, você deve pensar que o código\n",
    "\n",
    "    @decor\n",
    "    def f(a, b):\n",
    "        ...\n",
    "\n",
    "será traduzido para:\n",
    "\n",
    "    def f(a, b):\n",
    "        ...\n",
    "    f = decor(f)\n",
    "\n",
    "Portanto o seu decorador deve aceitar como parâmetro a função a ser decorada e retornar uma nova função que pode ser utilizada no lugar dela.\n",
    "\n",
    "Abaixo definimos a classe `tracer` que pode ser usada como um decorador de funções e, para cada chamada da função, imprime o número de vezes que ela já foi chamada, antes de efetivamente realizar a chamada."
   ]
  },
  {
   "cell_type": "code",
   "execution_count": null,
   "metadata": {},
   "outputs": [],
   "source": [
    "class tracer:\n",
    "    def __init__(self, fun):\n",
    "        self.calls = 0\n",
    "        self._fun = fun\n",
    "    def __call__(self, *args, **kargs):\n",
    "        self.calls += 1\n",
    "        print(f'(Call number {self.calls} of function {self._fun.__name__})')\n",
    "        return self._fun(*args, **kargs)"
   ]
  },
  {
   "cell_type": "markdown",
   "metadata": {},
   "source": [
    "Veja como no `__init__` recebemos uma função (`fun`) que é guardada no objeto (`self._fun`). Depois, quando o objeto criado for chamado (`__call__`) pegamos os argumentos passados e os passamos para `self._fun` (no `return`), mas antes disso incrementamos e mostramos o valor do número de chamadas (`self.calls`).\n",
    "\n",
    "O uso do decorador é simples:"
   ]
  },
  {
   "cell_type": "code",
   "execution_count": null,
   "metadata": {},
   "outputs": [],
   "source": [
    "@tracer\n",
    "def f(x, y):\n",
    "    print('Inside f')\n",
    "    return x + 2 * y"
   ]
  },
  {
   "cell_type": "code",
   "execution_count": null,
   "metadata": {},
   "outputs": [],
   "source": [
    "f(2, 4)"
   ]
  },
  {
   "cell_type": "code",
   "execution_count": null,
   "metadata": {},
   "outputs": [],
   "source": [
    "f(5, 6)"
   ]
  },
  {
   "cell_type": "code",
   "execution_count": null,
   "metadata": {},
   "outputs": [],
   "source": [
    "f(0, -1); f(5, 2); f(10, 15)"
   ]
  },
  {
   "cell_type": "markdown",
   "metadata": {},
   "source": [
    "### 2.2. Decorando métodos"
   ]
  },
  {
   "cell_type": "markdown",
   "metadata": {},
   "source": [
    "O decorador definido acima tem um defeito: ele não serve para decorar métodos de classes. Veja o que acontece no código abaixo:"
   ]
  },
  {
   "cell_type": "code",
   "execution_count": null,
   "metadata": {},
   "outputs": [],
   "source": [
    "class B:\n",
    "    @tracer\n",
    "    def f(self):\n",
    "        return self"
   ]
  },
  {
   "cell_type": "code",
   "execution_count": null,
   "metadata": {},
   "outputs": [],
   "source": [
    "b = B()"
   ]
  },
  {
   "cell_type": "code",
   "execution_count": null,
   "metadata": {},
   "outputs": [],
   "source": [
    "b.f()"
   ]
  },
  {
   "cell_type": "markdown",
   "metadata": {},
   "source": [
    "O problema é que o atributo `self` incluido nas chamadas de métodos não está sendo corretamente passado. Não adianta passar o `self` recebido pelo `__call__`, **pois este será o objeto do tipo `tracer`, ao invés de ser o objeto desejado do tipo `B`**.\n",
    "\n",
    "Uma solução simples é redefinir o decorador para usar uma *closure*, como no código abaixo."
   ]
  },
  {
   "cell_type": "code",
   "execution_count": null,
   "metadata": {},
   "outputs": [],
   "source": [
    "def mtracer(fun):\n",
    "    def oncall(*args, **kargs):\n",
    "        oncall.calls += 1\n",
    "        print(f'Call number {oncall.calls} of function {fun.__name__}')\n",
    "        return fun(*args, **kargs)\n",
    "    oncall.calls = 0\n",
    "    return oncall"
   ]
  },
  {
   "cell_type": "markdown",
   "metadata": {},
   "source": [
    "Note como aqui o decorador é uma função (e não uma classe), que recebe a função original como parâmetro `fun`. Ele então cria uma nova função, denominada `oncall`, definida internamente (uma *closure*) que faz acesso a `fun` na hora que for chamada. Essa é a função que será chamada, executando o incremento do seu atributo `calls` sempre que for chamada. (Como funções são também objetos, elas podem ter atributos.)"
   ]
  },
  {
   "cell_type": "code",
   "execution_count": null,
   "metadata": {},
   "outputs": [],
   "source": [
    "@mtracer\n",
    "def g(x, y):\n",
    "    print('Inside f')\n",
    "    return x ** y - 1"
   ]
  },
  {
   "cell_type": "markdown",
   "metadata": {},
   "source": [
    "O código acima será traduzido em\n",
    "\n",
    "    def g(x, y):\n",
    "        print('Inside f')\n",
    "        return x ** y - 1\n",
    "    g = mtracer(g)\n",
    "\n",
    "E portanto `g` será substituida pela função `oncall` que faz acesso a `g` (guardado em `oncall.fun`) em seu `return`."
   ]
  },
  {
   "cell_type": "code",
   "execution_count": null,
   "metadata": {},
   "outputs": [],
   "source": [
    "g(2, 4)"
   ]
  },
  {
   "cell_type": "code",
   "execution_count": null,
   "metadata": {},
   "outputs": [],
   "source": [
    "g(3, 5)"
   ]
  },
  {
   "cell_type": "markdown",
   "metadata": {},
   "source": [
    "Esse decorador funciona também para métodos, pois não há um objeto adicional no meio do caminho (o método da classe `B` abaixo é substituido pelo decorador)."
   ]
  },
  {
   "cell_type": "code",
   "execution_count": null,
   "metadata": {},
   "outputs": [],
   "source": [
    "class B:\n",
    "    @mtracer\n",
    "    def f(self):\n",
    "        return self"
   ]
  },
  {
   "cell_type": "code",
   "execution_count": null,
   "metadata": {},
   "outputs": [],
   "source": [
    "b = B()"
   ]
  },
  {
   "cell_type": "code",
   "execution_count": null,
   "metadata": {},
   "outputs": [],
   "source": [
    "b.f()"
   ]
  },
  {
   "cell_type": "code",
   "execution_count": null,
   "metadata": {},
   "outputs": [],
   "source": [
    "b.f()"
   ]
  },
  {
   "cell_type": "code",
   "execution_count": null,
   "metadata": {},
   "outputs": [],
   "source": [
    "B.f(b)"
   ]
  },
  {
   "cell_type": "markdown",
   "metadata": {},
   "source": [
    "### 2.3. Decorando classes"
   ]
  },
  {
   "cell_type": "markdown",
   "metadata": {},
   "source": [
    "Agora vejamos um exemplo de um decorador de classes.\n",
    "\n",
    "Para entender decoradores de classes, você precisa se lembrar que um código como:\n",
    "\n",
    "    @decor\n",
    "    class A:\n",
    "        ...\n",
    "\n",
    "será substituido por:\n",
    "\n",
    "    class A:\n",
    "        ...\n",
    "    A = decor(A)\n",
    "\n",
    "Portanto, o seu decorador deve retornar uma *classe*, cujos objetos servirão como substitutos para os objetos da classe `A`.\n",
    "\n",
    "No exemplo abaixo, definimos um decorador que altera a forma de converter objetos da classe decorada para cadeias de caracteres (acrescentando uma mensagem)."
   ]
  },
  {
   "cell_type": "code",
   "execution_count": null,
   "metadata": {},
   "outputs": [],
   "source": [
    "def existentialist(cls):\n",
    "    class Ex(cls):\n",
    "        def __init__(self, *args, **kargs):\n",
    "            cls.__init__(self, *args, **kargs)\n",
    "        def __repr__(self):\n",
    "            return cls.__repr__(self) + ' [But life is pointless!]'\n",
    "    return Ex"
   ]
  },
  {
   "cell_type": "markdown",
   "metadata": {},
   "source": [
    "Veja como o decorador é uma função que define internamente uma classe e a retorna. Essa classe interna faz referência à classe original (que é a classe base `cls`) e a usa (por meio de herança) para sua implementação."
   ]
  },
  {
   "cell_type": "code",
   "execution_count": null,
   "metadata": {},
   "outputs": [],
   "source": [
    "@existentialist\n",
    "class S1:\n",
    "    def __init__(self, x):\n",
    "        self.val = x\n",
    "    def __repr__(self):\n",
    "        return 'S1(' + str(self.val) + ')'"
   ]
  },
  {
   "cell_type": "code",
   "execution_count": null,
   "metadata": {},
   "outputs": [],
   "source": [
    "s1 = S1(10)"
   ]
  },
  {
   "cell_type": "code",
   "execution_count": null,
   "metadata": {},
   "outputs": [],
   "source": [
    "s1"
   ]
  },
  {
   "cell_type": "code",
   "execution_count": null,
   "metadata": {},
   "outputs": [],
   "source": [
    "@existentialist\n",
    "class MyList(list):\n",
    "    pass"
   ]
  },
  {
   "cell_type": "code",
   "execution_count": null,
   "metadata": {},
   "outputs": [],
   "source": [
    "x = MyList()\n",
    "x.append(1); x.append(3); x.append(7)"
   ]
  },
  {
   "cell_type": "code",
   "execution_count": null,
   "metadata": {},
   "outputs": [],
   "source": [
    "x"
   ]
  },
  {
   "cell_type": "markdown",
   "metadata": {},
   "source": [
    "### 2.4 Decoradores com parâmetros"
   ]
  },
  {
   "cell_type": "markdown",
   "metadata": {},
   "source": [
    "Em algumas situações, queremos adaptar o funcionamento de um decorador através de um parâmetro.\n",
    "\n",
    "Para fazer isso, precisamos definir uma função que retorna um decorador, e então usamos essa função como o decorador.\n",
    "\n",
    "É fácil de ver que isso é necessário lembrando que\n",
    "```python\n",
    "@decor(par)\n",
    "def f():\n",
    "    ...\n",
    "```\n",
    "será traduzido para\n",
    "```python\n",
    "def f():\n",
    "    ...\n",
    "f = (decor(par))(f)\n",
    "```\n",
    "isto é, `decor(par)` deve retornar uma função (ou objeto funcional) que receberá a função a ser decorada e deve retornar a nova função.\n",
    "\n",
    "Vejamos um exemplo."
   ]
  },
  {
   "cell_type": "code",
   "execution_count": null,
   "metadata": {},
   "outputs": [],
   "source": [
    "def tracer(*, after=False):\n",
    "    def this_tracer(fun):\n",
    "        def oncall(*args, **kargs):\n",
    "            oncall.calls += 1\n",
    "            print(f'Call number {oncall.calls} of function {fun.__name__}')\n",
    "            val = fun(*args, **kargs)\n",
    "            if after:\n",
    "                print(f'Call number {oncall.calls} of function {fun.__name__} returned {val}')\n",
    "            return val\n",
    "        oncall.calls = 0\n",
    "        return oncall\n",
    "    return this_tracer"
   ]
  },
  {
   "cell_type": "code",
   "execution_count": null,
   "metadata": {},
   "outputs": [],
   "source": [
    "@tracer()\n",
    "def f(x):\n",
    "    return 2 * x\n",
    "\n",
    "f(1)\n",
    "f(2)\n",
    "f(3)"
   ]
  },
  {
   "cell_type": "code",
   "execution_count": null,
   "metadata": {},
   "outputs": [],
   "source": [
    "@tracer(after=True)\n",
    "def g(x):\n",
    "    return 3 * x\n",
    "\n",
    "g(1)\n",
    "g(2)\n",
    "g(3)"
   ]
  },
  {
   "cell_type": "markdown",
   "metadata": {},
   "source": [
    "## 3. Um exemplo prático"
   ]
  },
  {
   "cell_type": "markdown",
   "metadata": {},
   "source": [
    "Para terminar, vamos ver um exemplo de decorador pré-existente que é bastante útil em certas situações.\n",
    "\n",
    "É o decorador `@lru_cache` do módulo `functools`. Esse iterador pode ser usado em funções puras (isto é, que retornam sempre o mesmo resultado quando passamos os mesmos argumentos para elas e não fazem nenhuma alteração no estado global do programa ou operações de entrada e saída). **Ele não pode ser usado se a função tem efeitos colaterais!**  Ele é útil quando:\n",
    "\n",
    "- O cálculo do valor da função pode ser demorado; e\n",
    "- Espera-se que a função seja chamada frequentemente com os mesmos argumentos.\n",
    "\n",
    "Vejamos um uso típico. Podemos implementar um código para calcular os número de Fibonacci de forma recursiva:"
   ]
  },
  {
   "cell_type": "code",
   "execution_count": null,
   "metadata": {},
   "outputs": [],
   "source": [
    "def nth_fibonacci(n):\n",
    "    if n == 0 or n == 1:\n",
    "        return 1\n",
    "    else:\n",
    "        return nth_fibonacci(n - 1) + nth_fibonacci(n - 2)"
   ]
  },
  {
   "cell_type": "markdown",
   "metadata": {},
   "source": [
    "Esta definição tem a vantagem de seguir diretamente a definição de números de Fibonacci, então temos facilmente certeza de que está correta (para n >= 0):"
   ]
  },
  {
   "cell_type": "code",
   "execution_count": null,
   "metadata": {},
   "outputs": [],
   "source": [
    "nth_fibonacci(0), nth_fibonacci(1), nth_fibonacci(2), nth_fibonacci(3)"
   ]
  },
  {
   "cell_type": "markdown",
   "metadata": {},
   "source": [
    "O problema é que a recursão da função gera um grande número de chamadas (duplicadas) da função, que crescem exponencialmente com o valor de `n`. Por exemplo, para `n=5` temos as seguintes chamadas (usando `f(n)` para indicar uma chamada com parâmetro `n`:\n",
    "\n",
    "```\n",
    "f(5):\n",
    "   f(4):\n",
    "     f(3):\n",
    "       f(2):\n",
    "         f(1): 1\n",
    "         f(0): 1\n",
    "       f(1): 1\n",
    "     f(2):\n",
    "       f(1): 1\n",
    "       f(0): 1\n",
    "   f(3):\n",
    "     f(2):\n",
    "       f(1): 1\n",
    "       f(0): 1\n",
    "     f(1): 1\n",
    "```\n",
    "\n",
    "Note o grande número de chamadas com valores repetidos. Mas como todas as chamadas com o mesmo valor de `n` vão ter valores de retorno iguais, podemos usar um _cache_. A idéia do uso de _cache_ é guardar um dicionário com as combinações de valores dos parâmetros e valores dos retornos correspondentes. Quando é feita uma chamada à função com um conjunto de parâmetros, primeiro verificamos se já temos esse parâmetro no dicionário, caso em que retornamos o valor imediatamente; se não temos o valor no dicionário, chamamos a função e então, antes de retornar o valor, guardamos a nova combinação parâmetros-valor de retorno para uso futuro.\n",
    "\n",
    "Primeiro, vamos temporizar o código sem cache para um `n` não muito grande:"
   ]
  },
  {
   "cell_type": "code",
   "execution_count": null,
   "metadata": {},
   "outputs": [],
   "source": [
    "%timeit nth_fibonacci(25)"
   ]
  },
  {
   "cell_type": "markdown",
   "metadata": {},
   "source": [
    "E vejamos como ele cresce:"
   ]
  },
  {
   "cell_type": "code",
   "execution_count": null,
   "metadata": {},
   "outputs": [],
   "source": [
    "%timeit nth_fibonacci(30)"
   ]
  },
  {
   "cell_type": "markdown",
   "metadata": {},
   "source": [
    "Agora vamos usar o decorador `functools.lru_cache`:"
   ]
  },
  {
   "cell_type": "code",
   "execution_count": null,
   "metadata": {},
   "outputs": [],
   "source": [
    "from functools import lru_cache"
   ]
  },
  {
   "cell_type": "code",
   "execution_count": null,
   "metadata": {},
   "outputs": [],
   "source": [
    "@lru_cache(maxsize=None)\n",
    "def nth_fibonacci(n):\n",
    "    if n == 0 or n == 1:\n",
    "        return 1\n",
    "    else:\n",
    "        return nth_fibonacci(n - 1) + nth_fibonacci(n - 2)"
   ]
  },
  {
   "cell_type": "markdown",
   "metadata": {},
   "source": [
    "O uso de `maxsize=None` indica que vamos guardar todas as combinações de parâmetros usadas. Isso é possível neste caso, pois não esperamos que a função seja usada para muitos valores de `n` diferentes. Entretanto, se temos muitas possíveis combinações de parâmetros, podemos querer limitar o tamanho da cache, para evitar uso excessivo de memória. Veja a documentação.\n",
    "\n",
    "E vejamos agora como fica o desempenho:"
   ]
  },
  {
   "cell_type": "code",
   "execution_count": null,
   "metadata": {},
   "outputs": [],
   "source": [
    "%timeit nth_fibonacci(25)"
   ]
  },
  {
   "cell_type": "code",
   "execution_count": null,
   "metadata": {},
   "outputs": [],
   "source": [
    "%timeit nth_fibonacci(30)"
   ]
  },
  {
   "cell_type": "markdown",
   "metadata": {},
   "source": [
    "O tempo muito baixo reportado aqui é devido ao fato de que o `%timeit` realiza várias execuções do código para calcular médias (veja as mensagens). Mas como estamos usando um cache, apenas a primeira execução realmente toma algum tempo importante."
   ]
  },
  {
   "cell_type": "markdown",
   "metadata": {
    "tags": []
   },
   "source": [
    "# Exercícios"
   ]
  },
  {
   "cell_type": "markdown",
   "metadata": {},
   "source": [
    "1. Qual a saída produzida pelo código abaixo?\n",
    "```python\n",
    "def angry(f):\n",
    "    def angry_f(x):\n",
    "        s = f(x)\n",
    "        return s.upper()\n",
    "    return angry_f\n",
    "       \n",
    "@angry\n",
    "def message(x):\n",
    "    return f\"I don't like {x}!\"\n",
    "       \n",
    "print(message('pineapple pizza'))\n",
    "```\n",
    "\n",
    "2. Re-escreva o decorador `angry` do código acima para ele funcionar com funções que recebem quaisquer tipos e número de parâmetros.\n",
    "\n",
    "3. Crie um decorador de classe, denominado `counted`, que retorna um versão da classe decorada que conta o número de objetos dessa classe gerados, guardando esse contador no atributo de classe `num_objects`. Um exemplo de uso seria:\n",
    "```python\n",
    "@counted\n",
    "class Point:\n",
    "    def __init__(self, x, y):\n",
    "        self.x = x\n",
    "        self.y = y\n",
    "    def __repr__(self):\n",
    "        return f'Point({self.x}, {self.y})'\n",
    "       \n",
    "o = Point(0, 0)\n",
    "p1 = Point(1, 1)\n",
    "p2 = Point(-1, 1)\n",
    "print(f'We have the points {o}, {p1}, {p2}')\n",
    "print(f'This is a total of {Point.num_objects} points')\n",
    "```"
   ]
  },
  {
   "cell_type": "code",
   "execution_count": null,
   "metadata": {},
   "outputs": [],
   "source": []
  }
 ],
 "metadata": {
  "kernelspec": {
   "display_name": "Python 3 (ipykernel)",
   "language": "python",
   "name": "python3"
  },
  "language_info": {
   "codemirror_mode": {
    "name": "ipython",
    "version": 3
   },
   "file_extension": ".py",
   "mimetype": "text/x-python",
   "name": "python",
   "nbconvert_exporter": "python",
   "pygments_lexer": "ipython3",
   "version": "3.11.2"
  }
 },
 "nbformat": 4,
 "nbformat_minor": 4
}
