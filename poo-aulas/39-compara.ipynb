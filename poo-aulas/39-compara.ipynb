{
 "cells": [
  {
   "cell_type": "markdown",
   "metadata": {},
   "source": [
    "# Operadores de comparação"
   ]
  },
  {
   "cell_type": "markdown",
   "metadata": {},
   "source": [
    "Operadores de comparação podem ser defindos para suas classes usando método com abreviações de duas letras das comparações: `__eq__` *(equal)* para `==`, `__ne__` *(not equal)* para `!=`, `__lt__` *(less than)* para `<`, `__le__` *(less or equal)* para `<=`, `__gt__` *(greater than)* para `>` e `__ge__` para `>=`."
   ]
  },
  {
   "cell_type": "code",
   "execution_count": null,
   "metadata": {},
   "outputs": [],
   "source": [
    "class Cmp:\n",
    "    def __init__(self, x):\n",
    "        self._val = x\n",
    "    def __eq__(self, other):\n",
    "        return self._val == other._val\n",
    "    def __lt__(self, other):\n",
    "        return self._val < other._val\n",
    "    def __le__(self, other):\n",
    "        return self._val <= other._val"
   ]
  },
  {
   "cell_type": "code",
   "execution_count": null,
   "metadata": {},
   "outputs": [],
   "source": [
    "c1 = Cmp(5); c2 = Cmp(7)"
   ]
  },
  {
   "cell_type": "code",
   "execution_count": null,
   "metadata": {},
   "outputs": [],
   "source": [
    "c1 == c2"
   ]
  },
  {
   "cell_type": "code",
   "execution_count": null,
   "metadata": {},
   "outputs": [],
   "source": [
    "c1 < c2"
   ]
  },
  {
   "cell_type": "code",
   "execution_count": null,
   "metadata": {},
   "outputs": [],
   "source": [
    "c2 <= c1"
   ]
  },
  {
   "cell_type": "markdown",
   "metadata": {},
   "source": [
    "Um ponto importante é que o Python entende de inversão de ordem. Acima não definimos `>`, mas ele sabe que `a > b` é a mesma coisa que `b < a`:"
   ]
  },
  {
   "cell_type": "code",
   "execution_count": null,
   "metadata": {},
   "outputs": [],
   "source": [
    "c1 > c2"
   ]
  },
  {
   "cell_type": "code",
   "execution_count": null,
   "metadata": {},
   "outputs": [],
   "source": [
    "c1 <= c2"
   ]
  },
  {
   "cell_type": "code",
   "execution_count": null,
   "metadata": {},
   "outputs": [],
   "source": [
    "c1 >= c2"
   ]
  },
  {
   "cell_type": "markdown",
   "metadata": {},
   "source": [
    "Ele também entende de negação:"
   ]
  },
  {
   "cell_type": "code",
   "execution_count": null,
   "metadata": {},
   "outputs": [],
   "source": [
    "c1 != c2"
   ]
  },
  {
   "cell_type": "markdown",
   "metadata": {},
   "source": [
    "Isso funcionou pois definimos `==` e ele entende que `a != b` é a mesma coisa que `not (a == b)`.\n",
    "\n",
    "Entretanto, ele não entende de complementaridade: Apesar de `>=` ser definido como `not <`, se não houvéssemos definido explicitamente `<=` ele não conseguiria realizar a comparação `>=`."
   ]
  },
  {
   "cell_type": "markdown",
   "metadata": {},
   "source": [
    "Desta forma, basta em geral definir os operadores `==`, `<` e `<=`. Entretanto, em alguma situações é mais eficiente definir todos os operadores de comparação. Veja a tabela abaixo.\n",
    "\n",
    "| Operação | Tradução |\n",
    "|----------|----------|\n",
    "| `a == b`  | `a.__eq__(b)` |\n",
    "| `a != b`  | `a.__ne__(b)` |\n",
    "| `a < b`  | `a.__lt__(b)` |\n",
    "| `a > b`  | `a.__gt__(b)` |\n",
    "| `a <= b`  | `a.__le__(b)` |\n",
    "| `a >= b`  | `a.__ge__(b)` |"
   ]
  },
  {
   "cell_type": "markdown",
   "metadata": {},
   "source": [
    "## *Total order*"
   ]
  },
  {
   "cell_type": "markdown",
   "metadata": {},
   "source": [
    "O processo pode ficar ainda mais simples se você está definindo uma classe para a qual os objetos possuem uma ordem total. Falando informalmente, um conjunto possui ordem total se todos os seus elemento podem ser comparados de forma consistente. Mais formalmente, um operador de ordenação $\\preceq$ define uma ordem total num conjunto $\\mathcal{S}$ se, para quaisquer $a, b, c \\in\\mathcal{S}$ temos:\n",
    "- $a\\preceq a$;\n",
    "- Se $a\\preceq b$ e $b\\preceq c$, então $a\\preceq c$;\n",
    "- Se $a\\preceq b$ e $b\\preceq a$, então $a = b$;\n",
    "- $a\\preceq b$ ou $b\\preceq a$.\n",
    "\n",
    "Se os objetos representados pela sua classe formam um conjunto que possui uma ordem total, então você pode usar o decorador `@total_ordering` do módulo `functools` (estudaremos decoradores mais adiante), e definir apenas dois operadores:\n",
    "- O método `__eq__`\n",
    "- Mais apenas **um** dos seguinte métodos: `__lt__`, `__le__`, `__gt__`, or `__ge__`.\n",
    "Os outros métodos serão definidos apropriadamente de forma automática.\n",
    "\n",
    "O nosso exemplo da classe `Cmp` acima pode ficar:"
   ]
  },
  {
   "cell_type": "code",
   "execution_count": null,
   "metadata": {},
   "outputs": [],
   "source": [
    "from functools import total_ordering\n",
    "\n",
    "@total_ordering\n",
    "class Cmp2:\n",
    "    def __init__(self, x):\n",
    "        self._val = x\n",
    "    def __eq__(self, other):\n",
    "        return self._val == other._val\n",
    "    def __lt__(self, other):\n",
    "        return self._val < other._val"
   ]
  },
  {
   "cell_type": "code",
   "execution_count": null,
   "metadata": {},
   "outputs": [],
   "source": [
    "c22 = Cmp2(2)\n",
    "c23 = Cmp2(3)\n",
    "c2x = Cmp2(2)"
   ]
  },
  {
   "cell_type": "code",
   "execution_count": null,
   "metadata": {},
   "outputs": [],
   "source": [
    "c22 == c2x"
   ]
  },
  {
   "cell_type": "code",
   "execution_count": null,
   "metadata": {},
   "outputs": [],
   "source": [
    "c22 == c23"
   ]
  },
  {
   "cell_type": "code",
   "execution_count": null,
   "metadata": {},
   "outputs": [],
   "source": [
    "c22 != c23"
   ]
  },
  {
   "cell_type": "code",
   "execution_count": null,
   "metadata": {},
   "outputs": [],
   "source": [
    "c22 < c23"
   ]
  },
  {
   "cell_type": "code",
   "execution_count": null,
   "metadata": {},
   "outputs": [],
   "source": [
    "c23 >= c22"
   ]
  },
  {
   "cell_type": "markdown",
   "metadata": {},
   "source": [
    "Note os seguintes pontos:\n",
    "- O decorador `total_ordering` irá criar métodos não-existentes para os operadores necessários. Se algum operador de comparação for definido diretamente, tanto pela classe como por uma de suas classes base, então essa definição será usada, e o `total_ordering` não vai criar a nova definição.\n",
    "- A implementação gerada automaticamente é correta apenas se os objetos realmente possuem uma ordem total. Se a ordem total não existe, a implementação pode ser errônea.\n",
    "- A implementação gerada, apesar de correta, pode não ser a mais eficiente, pois pode envolver múltiplas chamadas de métodos. Por questões de eficiência, pode ser mais apropriado criar manualmente todos os operadores de comparação que serão usados (mas isso em geral não é necessário, apenas se suas avaliações mostram que o código está perdendo muito tempo nessas comparações."
   ]
  },
  {
   "cell_type": "markdown",
   "metadata": {},
   "source": [
    "# Exercício"
   ]
  },
  {
   "cell_type": "markdown",
   "metadata": {},
   "source": [
    "Dada a definição abaixo:\n",
    "```python\n",
    "class Evaluation:\n",
    "    def __init__(self, value, level):\n",
    "        self._value = value\n",
    "        self._level = level\n",
    "\n",
    "    def __eq__(self, other):\n",
    "        return (self._value == other._value\n",
    "                and self._level == other._level)\n",
    "    \n",
    "    def __lt__(self, other):\n",
    "        return (self._value < other._value\n",
    "                or (self._value == other._value\n",
    "                    and self._level > other._level))\n",
    "a = Evaluation(1, 10)\n",
    "b = Evaluation(2, 5)\n",
    "```\n",
    "quais dos seguintes código executam corretamente (resultando em `True` ou `False`) e quais dão erro?\n",
    "1. \n",
    "```python\n",
    "a == b\n",
    "```\n",
    "2. \n",
    "```python\n",
    "a != b\n",
    "```\n",
    "3. \n",
    "```python\n",
    "a < b\n",
    "```\n",
    "4. \n",
    "```python\n",
    "a > b\n",
    "```\n",
    "5. \n",
    "```python\n",
    "a <= b\n",
    "```\n",
    "6. \n",
    "```python\n",
    "a >= b\n",
    "```"
   ]
  }
 ],
 "metadata": {
  "kernelspec": {
   "display_name": "Python 3 (ipykernel)",
   "language": "python",
   "name": "python3"
  },
  "language_info": {
   "codemirror_mode": {
    "name": "ipython",
    "version": 3
   },
   "file_extension": ".py",
   "mimetype": "text/x-python",
   "name": "python",
   "nbconvert_exporter": "python",
   "pygments_lexer": "ipython3",
   "version": "3.9.16"
  }
 },
 "nbformat": 4,
 "nbformat_minor": 4
}
