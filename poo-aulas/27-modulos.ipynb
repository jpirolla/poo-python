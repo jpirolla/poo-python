{
 "cells": [
  {
   "cell_type": "markdown",
   "metadata": {},
   "source": [
    "# Módulos"
   ]
  },
  {
   "cell_type": "markdown",
   "metadata": {},
   "source": [
    "Módulos são as unidades de organização de código em Python. Eles permitem:\n",
    "\n",
    "- Separar partes do código de um projeto grande em arquivos distintos, para facilitar o desenvolvimento.\n",
    "- Compartilhar código entre projetos distintos."
   ]
  },
  {
   "cell_type": "markdown",
   "metadata": {},
   "source": [
    "## 1. Arquivos como módulos"
   ]
  },
  {
   "cell_type": "markdown",
   "metadata": {},
   "source": [
    "Por exemplo, no arquivo `quadrature.py` temos a definição de duas funções de integração numérica (quadratura) pelo método dos trapézios. Para usar essas funções, devemos importar o módulo associado a esse arquivo e acessar as funções dentro do escopo do módulo."
   ]
  },
  {
   "cell_type": "code",
   "execution_count": null,
   "metadata": {},
   "outputs": [],
   "source": [
    "import quadrature\n",
    "import math"
   ]
  },
  {
   "cell_type": "code",
   "execution_count": null,
   "metadata": {
    "collapsed": false,
    "jupyter": {
     "outputs_hidden": false
    }
   },
   "outputs": [],
   "source": [
    "quadrature.trapezoid_iterative(math.sin, 0, math.pi/2, 1e-10)"
   ]
  },
  {
   "cell_type": "markdown",
   "metadata": {},
   "source": [
    "Note como o nome do arquivo (sem a extensão `.py`) vira o nome do módulo, e como usamos o nome do módulo seguido de `.` para acessar as funções definidas no módulo.\n",
    "\n",
    "No arquivo `test.py` definimos uma função `f` e uma variável `x`. O arquivo também executa um `print`. Note como ao importar o arquivo, o `print` é executado."
   ]
  },
  {
   "cell_type": "code",
   "execution_count": null,
   "metadata": {
    "collapsed": false,
    "jupyter": {
     "outputs_hidden": false
    }
   },
   "outputs": [],
   "source": [
    "import test"
   ]
  },
  {
   "cell_type": "markdown",
   "metadata": {},
   "source": [
    "Agora os identificadores do módulo são acessíveis. A função pode ser chamada, a variável pode ter seu valor lido ou alterado."
   ]
  },
  {
   "cell_type": "code",
   "execution_count": null,
   "metadata": {
    "collapsed": false,
    "jupyter": {
     "outputs_hidden": false
    }
   },
   "outputs": [],
   "source": [
    "test.f()"
   ]
  },
  {
   "cell_type": "code",
   "execution_count": null,
   "metadata": {
    "collapsed": false,
    "jupyter": {
     "outputs_hidden": false
    }
   },
   "outputs": [],
   "source": [
    "test.x"
   ]
  },
  {
   "cell_type": "code",
   "execution_count": null,
   "metadata": {},
   "outputs": [],
   "source": [
    "test.x = 2"
   ]
  },
  {
   "cell_type": "code",
   "execution_count": null,
   "metadata": {
    "collapsed": false,
    "jupyter": {
     "outputs_hidden": false
    }
   },
   "outputs": [],
   "source": [
    "test.x"
   ]
  },
  {
   "cell_type": "markdown",
   "metadata": {},
   "source": [
    "Os módulos são importados apenas uma vez. **Um `import` em módulo já importado não terá nenhum efeito**, mesmo que o código do módulo tenha sido alterado."
   ]
  },
  {
   "cell_type": "code",
   "execution_count": null,
   "metadata": {},
   "outputs": [],
   "source": [
    "import test"
   ]
  },
  {
   "cell_type": "code",
   "execution_count": null,
   "metadata": {
    "collapsed": false,
    "jupyter": {
     "outputs_hidden": false
    }
   },
   "outputs": [],
   "source": [
    "test.x"
   ]
  },
  {
   "cell_type": "code",
   "execution_count": null,
   "metadata": {},
   "outputs": [],
   "source": [
    "import test"
   ]
  },
  {
   "cell_type": "markdown",
   "metadata": {},
   "source": [
    "Se queremos **forçar** um módulo a ser recarregado (importante se fizemos alterações no código e queremos testá-las), devemos usar a função `reload` do módulo `importlib`:"
   ]
  },
  {
   "cell_type": "code",
   "execution_count": null,
   "metadata": {},
   "outputs": [],
   "source": [
    "from importlib import reload"
   ]
  },
  {
   "cell_type": "code",
   "execution_count": null,
   "metadata": {
    "collapsed": false,
    "jupyter": {
     "outputs_hidden": false
    }
   },
   "outputs": [],
   "source": [
    "reload(test)"
   ]
  },
  {
   "cell_type": "code",
   "execution_count": null,
   "metadata": {
    "collapsed": false,
    "jupyter": {
     "outputs_hidden": false
    }
   },
   "outputs": [],
   "source": [
    "test.x"
   ]
  },
  {
   "cell_type": "markdown",
   "metadata": {},
   "source": [
    "Outra possibilidade é importar identificadores individuais do módulo. No código abaixo, importamos apenas o identificador `x` do módulo `test`."
   ]
  },
  {
   "cell_type": "code",
   "execution_count": null,
   "metadata": {},
   "outputs": [],
   "source": [
    "from test import x"
   ]
  },
  {
   "cell_type": "code",
   "execution_count": null,
   "metadata": {
    "collapsed": false,
    "jupyter": {
     "outputs_hidden": false
    }
   },
   "outputs": [],
   "source": [
    "x"
   ]
  },
  {
   "cell_type": "markdown",
   "metadata": {},
   "source": [
    "Isso criou uma nova variável `x` no escopo `__main__` (onde o `from ... import` foi executado) com o valor da variável do módulo.\n",
    "\n",
    "**Como já havíamos importado o módulo, agora temos dois `x`**: um no escopo do módulo e outro no escopo corrente. Essas são variáveis independentes (**a do escopo corrente é apenas inicializada com o mesmo objeto da variável do módulo**). Se mudarmos o objeto referenciado por uma das variáveis, a outra variável não é afetada."
   ]
  },
  {
   "cell_type": "code",
   "execution_count": null,
   "metadata": {
    "collapsed": false,
    "jupyter": {
     "outputs_hidden": false
    }
   },
   "outputs": [],
   "source": [
    "test.x"
   ]
  },
  {
   "cell_type": "code",
   "execution_count": null,
   "metadata": {},
   "outputs": [],
   "source": [
    "x = 2"
   ]
  },
  {
   "cell_type": "code",
   "execution_count": null,
   "metadata": {
    "collapsed": false,
    "jupyter": {
     "outputs_hidden": false
    }
   },
   "outputs": [],
   "source": [
    "x"
   ]
  },
  {
   "cell_type": "code",
   "execution_count": null,
   "metadata": {
    "collapsed": false,
    "jupyter": {
     "outputs_hidden": false
    }
   },
   "outputs": [],
   "source": [
    "test.x"
   ]
  },
  {
   "cell_type": "markdown",
   "metadata": {},
   "source": [
    "Dá para perceber que não é uma boa idéia importar o módulo com `import` e depois importar identificadores individuais com `from ... import ...`.\n",
    "\n",
    "Em alguns casos é útil importar um módulo, mas com outro nome. Por exemplo, o código abaixo importa o módulo `test`, mas para ser referenciado como `t`."
   ]
  },
  {
   "cell_type": "code",
   "execution_count": null,
   "metadata": {},
   "outputs": [],
   "source": [
    "import test as t"
   ]
  },
  {
   "cell_type": "code",
   "execution_count": null,
   "metadata": {
    "collapsed": false,
    "jupyter": {
     "outputs_hidden": false
    }
   },
   "outputs": [],
   "source": [
    "t.x"
   ]
  },
  {
   "cell_type": "code",
   "execution_count": null,
   "metadata": {
    "collapsed": false,
    "jupyter": {
     "outputs_hidden": false
    }
   },
   "outputs": [],
   "source": [
    "t.f()"
   ]
  },
  {
   "cell_type": "markdown",
   "metadata": {},
   "source": [
    "Note que `t` e `teste` são agora dois nomes para o mesmo módulo, então `t.x` e `teste.x` são a mesma variável!"
   ]
  },
  {
   "cell_type": "code",
   "execution_count": null,
   "metadata": {
    "collapsed": false,
    "jupyter": {
     "outputs_hidden": false
    }
   },
   "outputs": [],
   "source": [
    "test.x, t.x"
   ]
  },
  {
   "cell_type": "code",
   "execution_count": null,
   "metadata": {
    "collapsed": false,
    "jupyter": {
     "outputs_hidden": false
    }
   },
   "outputs": [],
   "source": [
    "t.x = 3\n",
    "test.x, t.x"
   ]
  },
  {
   "cell_type": "markdown",
   "metadata": {},
   "source": [
    "Além de importar identificadores individuais de um módulo para o escopo corrente, podemos importar todos os identificadores do módulo, usando um `*` no `from`:"
   ]
  },
  {
   "cell_type": "code",
   "execution_count": null,
   "metadata": {},
   "outputs": [],
   "source": [
    "from test import *"
   ]
  },
  {
   "cell_type": "markdown",
   "metadata": {},
   "source": [
    "Agora tanto `f` como `x` fazem parte do escopo corrente."
   ]
  },
  {
   "cell_type": "code",
   "execution_count": null,
   "metadata": {
    "collapsed": false,
    "jupyter": {
     "outputs_hidden": false
    }
   },
   "outputs": [],
   "source": [
    "x"
   ]
  },
  {
   "cell_type": "code",
   "execution_count": null,
   "metadata": {
    "collapsed": false,
    "jupyter": {
     "outputs_hidden": false
    }
   },
   "outputs": [],
   "source": [
    "f()"
   ]
  },
  {
   "cell_type": "code",
   "execution_count": null,
   "metadata": {},
   "outputs": [],
   "source": [
    "x = 1"
   ]
  },
  {
   "cell_type": "code",
   "execution_count": null,
   "metadata": {
    "collapsed": false,
    "jupyter": {
     "outputs_hidden": false
    }
   },
   "outputs": [],
   "source": [
    "x"
   ]
  },
  {
   "cell_type": "code",
   "execution_count": null,
   "metadata": {
    "collapsed": false,
    "jupyter": {
     "outputs_hidden": false
    }
   },
   "outputs": [],
   "source": [
    "test.x"
   ]
  },
  {
   "cell_type": "markdown",
   "metadata": {},
   "source": [
    "Podemos saber todos os identificadores definidos em um escopo usando a função `dir`. Abaixo seguem os identificadores no escopo do módulo (já importado) `test`. (Os identificadores com `__` são pré-definidos pelo Python.)"
   ]
  },
  {
   "cell_type": "code",
   "execution_count": null,
   "metadata": {
    "collapsed": false,
    "jupyter": {
     "outputs_hidden": false
    }
   },
   "outputs": [],
   "source": [
    "dir(test)"
   ]
  },
  {
   "cell_type": "markdown",
   "metadata": {},
   "source": [
    "Isso pode ser útil quando queremos saber o que o módulo fornece, sem consultar a documentação."
   ]
  },
  {
   "cell_type": "code",
   "execution_count": null,
   "metadata": {
    "collapsed": false,
    "jupyter": {
     "outputs_hidden": false
    }
   },
   "outputs": [],
   "source": [
    "dir(math)"
   ]
  },
  {
   "cell_type": "markdown",
   "metadata": {},
   "source": [
    "## 2. Diretórios como módulos"
   ]
  },
  {
   "cell_type": "markdown",
   "metadata": {},
   "source": [
    "Outra forma de definir módulos é através de diretórios. **Um diretório será correspondente a um módulo se ele possuir um arquivo denominado `__init__.py`**. Esse arquivo será executado quando o módulo for importado. Na prática, esse método é usado para definir **pacotes**, que são coleções de módulos relacionados. Por exemplo o diretório `dirmod` pode ser importado como um módulo (veja código que acompanha este notebook, e analise o código dos arquivos incluidos para entender os resultados abaixo)."
   ]
  },
  {
   "cell_type": "code",
   "execution_count": null,
   "metadata": {
    "collapsed": false,
    "jupyter": {
     "outputs_hidden": false
    }
   },
   "outputs": [],
   "source": [
    "import dirmod"
   ]
  },
  {
   "cell_type": "code",
   "execution_count": null,
   "metadata": {
    "collapsed": false,
    "jupyter": {
     "outputs_hidden": false
    }
   },
   "outputs": [],
   "source": [
    "dir(dirmod)"
   ]
  },
  {
   "cell_type": "markdown",
   "metadata": {},
   "source": [
    "Outros arquivos dentro do diretório podem funcionar como \"submódulos\" do diretório:"
   ]
  },
  {
   "cell_type": "code",
   "execution_count": null,
   "metadata": {},
   "outputs": [],
   "source": [
    "import dirmod.first\n",
    "import dirmod.second"
   ]
  },
  {
   "cell_type": "code",
   "execution_count": null,
   "metadata": {
    "collapsed": false,
    "jupyter": {
     "outputs_hidden": false
    }
   },
   "outputs": [],
   "source": [
    "dirmod.first.f()"
   ]
  },
  {
   "cell_type": "code",
   "execution_count": null,
   "metadata": {
    "collapsed": false,
    "jupyter": {
     "outputs_hidden": false
    }
   },
   "outputs": [],
   "source": [
    "dirmod.second.g()"
   ]
  },
  {
   "cell_type": "code",
   "execution_count": null,
   "metadata": {
    "collapsed": false,
    "jupyter": {
     "outputs_hidden": false
    }
   },
   "outputs": [],
   "source": [
    "from dirmod import *"
   ]
  },
  {
   "cell_type": "code",
   "execution_count": null,
   "metadata": {
    "collapsed": false,
    "jupyter": {
     "outputs_hidden": false
    }
   },
   "outputs": [],
   "source": [
    "first"
   ]
  },
  {
   "cell_type": "code",
   "execution_count": null,
   "metadata": {},
   "outputs": [],
   "source": [
    "second"
   ]
  },
  {
   "cell_type": "code",
   "execution_count": null,
   "metadata": {},
   "outputs": [],
   "source": [
    "first.f()"
   ]
  },
  {
   "cell_type": "code",
   "execution_count": null,
   "metadata": {
    "collapsed": false,
    "jupyter": {
     "outputs_hidden": false
    }
   },
   "outputs": [],
   "source": [
    "second.g()"
   ]
  },
  {
   "cell_type": "code",
   "execution_count": null,
   "metadata": {},
   "outputs": [],
   "source": [
    "from dirmod.first import f\n",
    "from dirmod.second import g"
   ]
  },
  {
   "cell_type": "code",
   "execution_count": null,
   "metadata": {},
   "outputs": [],
   "source": [
    "f()"
   ]
  },
  {
   "cell_type": "code",
   "execution_count": null,
   "metadata": {},
   "outputs": [],
   "source": [
    "g()"
   ]
  },
  {
   "cell_type": "markdown",
   "metadata": {},
   "source": [
    "# Exercício"
   ]
  },
  {
   "cell_type": "markdown",
   "metadata": {},
   "source": [
    "Criar um módulo denominado `estado` com duas funções:\n",
    "- `nome(e)`: dado uma sigla de estado, retorna o nome completo do estado.\n",
    "    Por exemplo, `estado('MG')` retorna `'Minas Gerais'`.\n",
    "- `capital(e)`: dada uma sigla de estado, retorna o nome da sua capital.\n",
    "    Por exemplo, `capital('MG')` retorna `'Belo Horizonte'`.\n",
    "\n",
    "Escrever, em um arquivo separado, um código de teste para esse módulo que pede uma sigla de estado ao usuário e retorna seu nome e capital. Para fazer a leitura de dados, use a função `input()`."
   ]
  },
  {
   "cell_type": "code",
   "execution_count": 1,
   "metadata": {
    "tags": []
   },
   "outputs": [],
   "source": [
    "def nome(sigla):\n",
    "    estados = {'AC': 'Acre',\n",
    "               'AL': 'Alagoas',\n",
    "               'AP': 'Amapá',\n",
    "               'AM': 'Amazonas',\n",
    "               'BA': 'Bahia',\n",
    "               'CE': 'Ceará',\n",
    "               'DF': 'Distrito Federal',\n",
    "               'ES': 'Espírito Santo',\n",
    "               'GO': 'Goiás',\n",
    "               'MA': 'Maranhão',\n",
    "               'MT': 'Mato Grosso',\n",
    "               'MS': 'Mato Grosso do Sul',\n",
    "               'MG': 'Minas Gerais',\n",
    "               'PA': 'Pará',\n",
    "               'PB': 'Paraíba',\n",
    "               'PR': 'Paraná',\n",
    "               'PE': 'Pernambuco',\n",
    "               'PI': 'Piauí',\n",
    "               'RR': 'Roraima',\n",
    "               'RO': 'Rondônia',\n",
    "               'RJ': 'Rio de Janeiro',\n",
    "               'RN': 'Rio Grande do Norte',\n",
    "               'RS': 'Rio Grande do Sul',\n",
    "               'SC': 'Santa Catarina',\n",
    "               'SP': 'São Paulo',\n",
    "               'SE': 'Sergipe',\n",
    "               'TO': 'Tocantins'}\n",
    "    return estados.get(sigla.upper())\n",
    "\n",
    "\n",
    "def capitais(estado):\n",
    "    capitais = {'AC': 'Rio Branco',\n",
    "                'AL': 'Maceió',\n",
    "                'AP': 'Macapá',\n",
    "                'AM': 'Manaus',\n",
    "                'BA': 'Salvador',\n",
    "                'CE': 'Fortaleza',\n",
    "                'DF': 'Brasília',\n",
    "                'ES': 'Vitória',\n",
    "                'GO': 'Goiânia',\n",
    "                'MA': 'São Luís',\n",
    "                'MT': 'Cuiabá',\n",
    "                'MS': 'Campo Grande',\n",
    "                'MG': 'Belo Horizonte',\n",
    "                'PA': 'Belém',\n",
    "                'PB': 'João Pessoa',\n",
    "                'PR': 'Curitiba',\n",
    "                'PE': 'Recife',\n",
    "                'PI': 'Teresina',\n",
    "                'RJ': 'Rio de Janeiro',\n",
    "                'RN': 'Natal',\n",
    "                'RS': 'Porto Alegre',\n",
    "                'RO': 'Porto Velho',\n",
    "                'RR': 'Boa Vista',\n",
    "                'SC': 'Florianópolis',\n",
    "                'SP': 'São Paulo',\n",
    "                'SE': 'Aracaju',\n",
    "                'TO': 'Palmas'}\n",
    "    return capitais.get(estado.upper())"
   ]
  },
  {
   "cell_type": "code",
   "execution_count": null,
   "metadata": {},
   "outputs": [],
   "source": [
    "import estado\n",
    "\n",
    "sigla = input('Digite a sigla do estado: ')\n",
    "\n",
    "estados = estado.nome(sigla)\n",
    "capitais = estado.capitais(sigla)  # estado é nome do módulo e capitais é a função\n",
    "\n",
    "print(f'O estado com a sigla {sigla} é {estados} e a capital é {capitais}.')\n"
   ]
  }
 ],
 "metadata": {
  "kernelspec": {
   "display_name": "Python 3 (ipykernel)",
   "language": "python",
   "name": "python3"
  },
  "language_info": {
   "codemirror_mode": {
    "name": "ipython",
    "version": 3
   },
   "file_extension": ".py",
   "mimetype": "text/x-python",
   "name": "python",
   "nbconvert_exporter": "python",
   "pygments_lexer": "ipython3",
   "version": "3.10.6"
  }
 },
 "nbformat": 4,
 "nbformat_minor": 4
}
