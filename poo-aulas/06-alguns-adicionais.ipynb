{
 "cells": [
  {
   "cell_type": "markdown",
   "metadata": {
    "ein.tags": [
     "worksheet-0"
    ],
    "id": "J9EhPaeE8uX1"
   },
   "source": [
    "# Alguns elementos da biblioteca"
   ]
  },
  {
   "cell_type": "markdown",
   "metadata": {
    "ein.tags": [
     "worksheet-0"
    ],
    "id": "NAsyCAB38uX6"
   },
   "source": [
    "Códigos em Python são organizados em módulos. Módulos podem definir novos tipos de dados, novas funções e novas variáveis. Para acessar as definições de um módulo em nosso código, precisamos importar o módulo."
   ]
  },
  {
   "cell_type": "markdown",
   "metadata": {
    "ein.tags": [
     "worksheet-0"
    ],
    "id": "zw06G1R38uX7"
   },
   "source": [
    "# 1. O módulo math"
   ]
  },
  {
   "cell_type": "markdown",
   "metadata": {
    "id": "5uVlFJ2Y8uX7"
   },
   "source": [
    "O módulo `math` provê alguns elementos úteis para cálculos matemáticos com ponto flutuante."
   ]
  },
  {
   "cell_type": "code",
   "execution_count": null,
   "metadata": {
    "autoscroll": "json-false",
    "collapsed": false,
    "ein.tags": [
     "worksheet-0"
    ],
    "id": "G_dhMKyE8uX8",
    "jupyter": {
     "outputs_hidden": false
    }
   },
   "outputs": [],
   "source": [
    "import math"
   ]
  },
  {
   "cell_type": "code",
   "execution_count": null,
   "metadata": {
    "autoscroll": "json-false",
    "colab": {
     "base_uri": "https://localhost:8080/"
    },
    "collapsed": false,
    "ein.tags": [
     "worksheet-0"
    ],
    "id": "FCe59fie8uX9",
    "jupyter": {
     "outputs_hidden": false
    },
    "outputId": "3a3876d9-fc7a-4125-872c-3f16d3759f4a"
   },
   "outputs": [
    {
     "data": {
      "text/plain": [
       "2.0"
      ]
     },
     "execution_count": 3,
     "metadata": {},
     "output_type": "execute_result"
    }
   ],
   "source": [
    "math.sqrt(4)"
   ]
  },
  {
   "cell_type": "code",
   "execution_count": null,
   "metadata": {
    "autoscroll": "json-false",
    "collapsed": false,
    "ein.tags": [
     "worksheet-0"
    ],
    "id": "YMKklxQy8uX9",
    "jupyter": {
     "outputs_hidden": false
    }
   },
   "outputs": [],
   "source": [
    "math.cos(1)"
   ]
  },
  {
   "cell_type": "code",
   "execution_count": null,
   "metadata": {
    "id": "el_dilv58uX-"
   },
   "outputs": [],
   "source": [
    "math.sqrt(100)"
   ]
  },
  {
   "cell_type": "code",
   "execution_count": null,
   "metadata": {
    "colab": {
     "base_uri": "https://localhost:8080/"
    },
    "id": "HTBLp7qS8uX-",
    "outputId": "e625d26e-3830-4931-c5d9-44ea5274688d"
   },
   "outputs": [
    {
     "data": {
      "text/plain": [
       "2.718281828459045"
      ]
     },
     "execution_count": 6,
     "metadata": {},
     "output_type": "execute_result"
    }
   ],
   "source": [
    "math.exp(1)"
   ]
  },
  {
   "cell_type": "code",
   "execution_count": null,
   "metadata": {
    "id": "2mpB3_5J8uX-"
   },
   "outputs": [],
   "source": [
    "math.pow(2, 10)"
   ]
  },
  {
   "cell_type": "code",
   "execution_count": null,
   "metadata": {
    "id": "O8BE53FS8uX_"
   },
   "outputs": [],
   "source": [
    "2 ** 10"
   ]
  },
  {
   "cell_type": "markdown",
   "metadata": {
    "ein.tags": [
     "worksheet-0"
    ],
    "id": "GJuXus4J8uX_"
   },
   "source": [
    "Note como os resultados são sempre em `float`, mesmo que os valores resultantes sejam inteiros. Isso ocorre porque as funções do módulo math trabalham com número de ponto flutuante, o que também indica as suas limitações:"
   ]
  },
  {
   "cell_type": "code",
   "execution_count": null,
   "metadata": {
    "autoscroll": "json-false",
    "colab": {
     "base_uri": "https://localhost:8080/",
     "height": 167
    },
    "collapsed": false,
    "ein.tags": [
     "worksheet-0"
    ],
    "id": "YfzFYZ7f8uX_",
    "jupyter": {
     "outputs_hidden": false
    },
    "outputId": "37d36ac5-7133-42a2-ab64-2d27d01d3914"
   },
   "outputs": [
    {
     "ename": "ValueError",
     "evalue": "ignored",
     "output_type": "error",
     "traceback": [
      "\u001b[0;31m---------------------------------------------------------------------------\u001b[0m",
      "\u001b[0;31mValueError\u001b[0m                                Traceback (most recent call last)",
      "\u001b[0;32m<ipython-input-4-2037b8d41d70>\u001b[0m in \u001b[0;36m<module>\u001b[0;34m\u001b[0m\n\u001b[0;32m----> 1\u001b[0;31m \u001b[0mmath\u001b[0m\u001b[0;34m.\u001b[0m\u001b[0msqrt\u001b[0m\u001b[0;34m(\u001b[0m\u001b[0;34m-\u001b[0m\u001b[0;36m1\u001b[0m\u001b[0;34m)\u001b[0m\u001b[0;34m\u001b[0m\u001b[0;34m\u001b[0m\u001b[0m\n\u001b[0m",
      "\u001b[0;31mValueError\u001b[0m: math domain error"
     ]
    }
   ],
   "source": [
    "math.sqrt(-1)"
   ]
  },
  {
   "cell_type": "code",
   "execution_count": null,
   "metadata": {
    "colab": {
     "base_uri": "https://localhost:8080/"
    },
    "id": "UxKeLgEu8uYA",
    "outputId": "0aacd92f-e59c-4643-e27f-befe7b69b3a3"
   },
   "outputs": [
    {
     "data": {
      "text/plain": [
       "(6.123233995736766e-17+1j)"
      ]
     },
     "execution_count": 5,
     "metadata": {},
     "output_type": "execute_result"
    }
   ],
   "source": [
    "(-1) ** (1/2)"
   ]
  },
  {
   "cell_type": "markdown",
   "metadata": {
    "id": "h5dK8kpp8uYA"
   },
   "source": [
    "Além de funções, `math` também define algumas constantes (com valores `float`), por exemplo:"
   ]
  },
  {
   "cell_type": "code",
   "execution_count": null,
   "metadata": {
    "autoscroll": "json-false",
    "collapsed": false,
    "ein.tags": [
     "worksheet-0"
    ],
    "id": "KN9zNY9O8uYA",
    "jupyter": {
     "outputs_hidden": false
    }
   },
   "outputs": [],
   "source": [
    "math.pi"
   ]
  },
  {
   "cell_type": "code",
   "execution_count": null,
   "metadata": {
    "autoscroll": "json-false",
    "collapsed": false,
    "ein.tags": [
     "worksheet-0"
    ],
    "id": "szIUAyu18uYA",
    "jupyter": {
     "outputs_hidden": false
    }
   },
   "outputs": [],
   "source": [
    "math.e"
   ]
  },
  {
   "cell_type": "markdown",
   "metadata": {
    "id": "qW0A5iuYRz2o"
   },
   "source": [
    "#### Função .isclose() \n",
    "\n",
    "**Sintaxe**: isclose (a, b, rel_tol = 1e-09, abs_tol 0.0)\n",
    "\n",
    "**Parâmetros**:\n",
    "- **rel_tol**: diferença máxima por ser considerado “próximo” **em relação à magnitude dos valores de entrada**\n",
    "- **abs_tol**: diferença máxima por ser considerado “próximo”,** independente da magnitude** dos valores de entrada\n",
    "\n",
    "Os parâmetros rel_tol e abs_tol podem ser alterado usando o argumento de palavra-chave ou simplesmente fornecendo diretamente de acordo com suas posições na lista de parâmetros.\n",
    "\n",
    "**Valor de retorno**: Retorne True se a tiver valor próximo a b e False caso contrário.\n",
    "\n",
    "Para que os valores sejam considerados próximos, a diferença entre eles deve ser menor que pelo menos uma das tolerâncias."
   ]
  },
  {
   "cell_type": "markdown",
   "metadata": {
    "id": "EcohEFiq8uYB"
   },
   "source": [
    "Outra função importante desse módulo é a `isclose`, que permite verificar se dois números de ponto flutuante são próximos:"
   ]
  },
  {
   "cell_type": "code",
   "execution_count": null,
   "metadata": {
    "colab": {
     "base_uri": "https://localhost:8080/"
    },
    "id": "dpVb3G0C8uYB",
    "outputId": "4ca19d79-d7e4-46ff-d604-7f703efa2a15",
    "tags": []
   },
   "outputs": [
    {
     "name": "stdout",
     "output_type": "stream",
     "text": [
      "False\n",
      "True\n"
     ]
    }
   ],
   "source": [
    "a = 0.1 + 0.1 + 0.1\n",
    "b = 0.3\n",
    "print(a == b)\n",
    "print(math.isclose(a, b))"
   ]
  },
  {
   "cell_type": "code",
   "execution_count": null,
   "metadata": {
    "colab": {
     "base_uri": "https://localhost:8080/"
    },
    "id": "icly9nHJ_Kfy",
    "outputId": "1a11a5e0-0301-4c57-c0d0-e21aff411c87"
   },
   "outputs": [
    {
     "name": "stdout",
     "output_type": "stream",
     "text": [
      "0.30000000000000004441\n"
     ]
    }
   ],
   "source": [
    "print(f'{a:22.20f}')"
   ]
  },
  {
   "cell_type": "code",
   "execution_count": null,
   "metadata": {
    "colab": {
     "base_uri": "https://localhost:8080/"
    },
    "id": "GpXmNASm_W0K",
    "outputId": "34940ec6-a661-4511-98cd-af621f9156c8"
   },
   "outputs": [
    {
     "name": "stdout",
     "output_type": "stream",
     "text": [
      "0.29999999999999998890\n"
     ]
    }
   ],
   "source": [
    "print(f'{b:22.20f}')"
   ]
  },
  {
   "cell_type": "code",
   "execution_count": null,
   "metadata": {
    "colab": {
     "base_uri": "https://localhost:8080/"
    },
    "id": "WtJOnZ37Q7N4",
    "outputId": "58a739c2-92f4-49aa-b38b-d3306ffba1eb"
   },
   "outputs": [
    {
     "name": "stdout",
     "output_type": "stream",
     "text": [
      "5.5511151231257827021e-17\n"
     ]
    }
   ],
   "source": [
    "c = a - b\n",
    "print(f'{c:22.20}')"
   ]
  },
  {
   "cell_type": "markdown",
   "metadata": {
    "id": "5Sv5p_4t8uYC"
   },
   "source": [
    "A função `isclose` tem um parâmetro opcional `rel_tol`, que especifica a tolerância aceita na diferença relativa (isto é, a diferença em relação ao valor absoluto do maior dos valores fornecidos). Se esse parâmetro não é fornecido, então é usado o valor $10^{-9}$."
   ]
  },
  {
   "cell_type": "code",
   "execution_count": null,
   "metadata": {
    "colab": {
     "base_uri": "https://localhost:8080/"
    },
    "id": "lg5j8pSfRYRP",
    "outputId": "22d9b888-0266-4096-95ea-f8d037ffabbb"
   },
   "outputs": [
    {
     "name": "stdout",
     "output_type": "stream",
     "text": [
      "-0.00010000000000021103\n"
     ]
    }
   ],
   "source": [
    "print(1.001 - 1.0011)"
   ]
  },
  {
   "cell_type": "code",
   "execution_count": null,
   "metadata": {
    "colab": {
     "base_uri": "https://localhost:8080/"
    },
    "id": "kz_HAeU58uYC",
    "outputId": "8cde6c11-a911-410f-93d0-8726f3b1ae7e",
    "tags": []
   },
   "outputs": [
    {
     "name": "stdout",
     "output_type": "stream",
     "text": [
      "False\n",
      "True\n"
     ]
    }
   ],
   "source": [
    "print(math.isclose(1.001, 1.0011))\n",
    "print(math.isclose(1.001, 1.0011, rel_tol = 0.0005))"
   ]
  },
  {
   "cell_type": "code",
   "execution_count": null,
   "metadata": {
    "colab": {
     "base_uri": "https://localhost:8080/"
    },
    "id": "Od5ZDcowS7tO",
    "outputId": "301c7944-018a-4108-c912-efef7d7d7a18"
   },
   "outputs": [
    {
     "name": "stdout",
     "output_type": "stream",
     "text": [
      "False\n"
     ]
    }
   ],
   "source": [
    "print(math.isclose(1.000001, 1.00000021, rel_tol = 0.00000000001 ))"
   ]
  },
  {
   "cell_type": "markdown",
   "metadata": {
    "id": "0x2JYzEH8uYC"
   },
   "source": [
    "Existe também `abs_tol`, que verifica a diferença absoluta."
   ]
  },
  {
   "cell_type": "code",
   "execution_count": null,
   "metadata": {
    "colab": {
     "base_uri": "https://localhost:8080/"
    },
    "id": "aYUCGm2U8uYD",
    "outputId": "54c21e18-e17b-406c-8c4f-d083746bfb9f",
    "tags": []
   },
   "outputs": [
    {
     "name": "stdout",
     "output_type": "stream",
     "text": [
      "True\n",
      "True\n",
      "False\n"
     ]
    }
   ],
   "source": [
    "print(math.isclose(1.001, 1.0011, abs_tol = 0.0005))\n",
    "print(math.isclose(1001, 1001.1, rel_tol = 0.0005))\n",
    "print(math.isclose(1001, 1001.1, abs_tol = 0.0005))"
   ]
  },
  {
   "cell_type": "code",
   "execution_count": null,
   "metadata": {
    "colab": {
     "base_uri": "https://localhost:8080/"
    },
    "id": "r9ApxTsP8uYD",
    "outputId": "dacfcd1a-2def-4359-eb71-25b25f5b4b13",
    "tags": []
   },
   "outputs": [
    {
     "name": "stdout",
     "output_type": "stream",
     "text": [
      "False\n",
      "True\n",
      "False\n",
      "\n",
      "False\n",
      "True\n",
      "True\n"
     ]
    }
   ],
   "source": [
    "print(math.isclose(1000.001, 1000.00101))\n",
    "print(math.isclose(1000.001, 1000.00101, rel_tol=1e-8))\n",
    "print(math.isclose(1000.001, 1000.00101, abs_tol=1e-8))\n",
    "print()\n",
    "print(math.isclose(0.1000001, 0.100000101))\n",
    "print(math.isclose(0.1000001, 0.100000101, rel_tol=1e-8))\n",
    "print(math.isclose(0.1000001, 0.100000101, abs_tol=1e-8))"
   ]
  },
  {
   "cell_type": "markdown",
   "metadata": {
    "id": "RRF8QKS98uYD"
   },
   "source": [
    "É importante lembrar que o uso de **`abs_tol` em geral apenas se justifica quando os valores comparados são próximos de zero**, visto que para valores grandes o erro de aproximação numérica se manifesta em casas mais significativas."
   ]
  },
  {
   "cell_type": "markdown",
   "metadata": {
    "ein.tags": [
     "worksheet-0"
    ],
    "id": "o7B1FujN8uYE"
   },
   "source": [
    "# 2. O módulo random\n",
    "- gerar um float aleatório no intervalo [0,1[\n",
    "- gerar um inteiro na faixa [a,b]\n",
    "- escolher um número aleatório numa faixa de valores [a,b]\n",
    "- criar um sample aleatório num intervalo [a.b] usando um tamanho k definido \n",
    "- \n"
   ]
  },
  {
   "cell_type": "markdown",
   "metadata": {
    "id": "tb3PXmKM8uYE"
   },
   "source": [
    "O módulo `random` tem algumas operações simples para geração de números aleatórios. Para outras operações, considere o uso de `numpy.random`."
   ]
  },
  {
   "cell_type": "code",
   "execution_count": null,
   "metadata": {
    "autoscroll": "json-false",
    "collapsed": false,
    "ein.tags": [
     "worksheet-0"
    ],
    "id": "PNuoJI208uYE",
    "jupyter": {
     "outputs_hidden": false
    }
   },
   "outputs": [],
   "source": [
    "import random"
   ]
  },
  {
   "cell_type": "markdown",
   "metadata": {
    "ein.tags": [
     "worksheet-0"
    ],
    "id": "GDgT9g8X8uYE"
   },
   "source": [
    "Podemos gerar um número de ponto flutuante aleatório na faixa [0,1)"
   ]
  },
  {
   "cell_type": "code",
   "execution_count": null,
   "metadata": {
    "autoscroll": "json-false",
    "colab": {
     "base_uri": "https://localhost:8080/"
    },
    "collapsed": false,
    "ein.tags": [
     "worksheet-0"
    ],
    "id": "aJHBBx8-8uYF",
    "jupyter": {
     "outputs_hidden": false
    },
    "outputId": "7a1ed044-fa34-45ad-97bb-f4bb49564761"
   },
   "outputs": [
    {
     "data": {
      "text/plain": [
       "0.6843949120320035"
      ]
     },
     "execution_count": 15,
     "metadata": {},
     "output_type": "execute_result"
    }
   ],
   "source": [
    "random.random()"
   ]
  },
  {
   "cell_type": "markdown",
   "metadata": {
    "ein.tags": [
     "worksheet-0"
    ],
    "id": "ORra8Ov08uYF"
   },
   "source": [
    "Ou um número inteiro aleatório na faixa [a,b] (No exemplo, a=0, b=6.)"
   ]
  },
  {
   "cell_type": "code",
   "execution_count": null,
   "metadata": {
    "autoscroll": "json-false",
    "colab": {
     "base_uri": "https://localhost:8080/"
    },
    "collapsed": false,
    "ein.tags": [
     "worksheet-0"
    ],
    "id": "iJMEcgkU8uYF",
    "jupyter": {
     "outputs_hidden": false
    },
    "outputId": "07d2a134-def2-4c56-92f0-2c173e4fe712"
   },
   "outputs": [
    {
     "data": {
      "text/plain": [
       "4"
      ]
     },
     "execution_count": 16,
     "metadata": {},
     "output_type": "execute_result"
    }
   ],
   "source": [
    "random.randint(0, 6)"
   ]
  },
  {
   "cell_type": "markdown",
   "metadata": {
    "ein.tags": [
     "worksheet-0"
    ],
    "id": "enWPgKWl8uYF"
   },
   "source": [
    "Dada uma coleção de elementos, podemos escolher um deles aleatoriamente."
   ]
  },
  {
   "cell_type": "code",
   "execution_count": null,
   "metadata": {
    "autoscroll": "json-false",
    "colab": {
     "base_uri": "https://localhost:8080/"
    },
    "collapsed": false,
    "ein.tags": [
     "worksheet-0"
    ],
    "id": "RcCsZYI08uYF",
    "jupyter": {
     "outputs_hidden": false
    },
    "outputId": "994feb48-9201-41d7-b7d7-d2fa9c32de96"
   },
   "outputs": [
    {
     "data": {
      "text/plain": [
       "23"
      ]
     },
     "execution_count": 17,
     "metadata": {},
     "output_type": "execute_result"
    }
   ],
   "source": [
    "random.choice([12, 23, 34, 45])"
   ]
  },
  {
   "cell_type": "markdown",
   "metadata": {
    "id": "95pPsgK08uYG"
   },
   "source": [
    "Também podemos fazer um número específico de amostragens de um dado conjunto de valores:"
   ]
  },
  {
   "cell_type": "code",
   "execution_count": null,
   "metadata": {
    "colab": {
     "base_uri": "https://localhost:8080/"
    },
    "id": "X9L_5qBL8uYG",
    "outputId": "921ccaa9-55c8-4744-c2ab-660fa496d1ee"
   },
   "outputs": [
    {
     "data": {
      "text/plain": [
       "[8, 2, 0, 3, 4]"
      ]
     },
     "execution_count": 18,
     "metadata": {},
     "output_type": "execute_result"
    }
   ],
   "source": [
    "random.sample(range(10), 5)"
   ]
  },
  {
   "cell_type": "code",
   "execution_count": null,
   "metadata": {
    "colab": {
     "base_uri": "https://localhost:8080/"
    },
    "id": "Ppvmwt7z8uYG",
    "outputId": "cfa2710e-ec6d-4f2e-e887-9fe1a092f619"
   },
   "outputs": [
    {
     "data": {
      "text/plain": [
       "['d', 'a']"
      ]
     },
     "execution_count": 19,
     "metadata": {},
     "output_type": "execute_result"
    }
   ],
   "source": [
    "random.sample(['a', 'b', 'c', 'd'], 2)"
   ]
  },
  {
   "cell_type": "markdown",
   "metadata": {
    "id": "A-f9bTAyUusi"
   },
   "source": [
    "Tentando recriar as coisinhas que da pra fazer com o módulo ramdom "
   ]
  },
  {
   "cell_type": "code",
   "execution_count": null,
   "metadata": {
    "colab": {
     "base_uri": "https://localhost:8080/"
    },
    "id": "hpvOvtryU0UL",
    "outputId": "f4c3a496-4f02-4912-aa43-07a60ee87c34"
   },
   "outputs": [
    {
     "name": "stdout",
     "output_type": "stream",
     "text": [
      "0.62\n"
     ]
    }
   ],
   "source": [
    "# escolher um float aleatório entre [0,1[ \n",
    "a = random.random()\n",
    "print(f'{a:.2f}')"
   ]
  },
  {
   "cell_type": "code",
   "execution_count": null,
   "metadata": {
    "colab": {
     "base_uri": "https://localhost:8080/"
    },
    "id": "HS02T2VLVWPK",
    "outputId": "cb63eccf-aacf-4407-9ac6-8fa2434cb59e"
   },
   "outputs": [
    {
     "data": {
      "text/plain": [
       "159"
      ]
     },
     "execution_count": 34,
     "metadata": {},
     "output_type": "execute_result"
    }
   ],
   "source": [
    "# escolher um número inteiro aleatório entre [a,b[\n",
    "random.randint(1,360)"
   ]
  },
  {
   "cell_type": "code",
   "execution_count": null,
   "metadata": {
    "colab": {
     "base_uri": "https://localhost:8080/"
    },
    "id": "bsYKggbwWM47",
    "outputId": "d1873149-12b7-4cf6-855f-697eab671f28"
   },
   "outputs": [
    {
     "data": {
      "text/plain": [
       "[1, 2, 17, 7, 19]"
      ]
     },
     "execution_count": 38,
     "metadata": {},
     "output_type": "execute_result"
    }
   ],
   "source": [
    "# cria um sample aleatório de n elementos\n",
    "random.sample(range(20),5)"
   ]
  },
  {
   "cell_type": "code",
   "execution_count": null,
   "metadata": {
    "colab": {
     "base_uri": "https://localhost:8080/"
    },
    "id": "txbHdNH_VsiY",
    "outputId": "8bf47252-3f36-4305-8e97-9bf19834ab04"
   },
   "outputs": [
    {
     "data": {
      "text/plain": [
       "[1, 3]"
      ]
     },
     "execution_count": 36,
     "metadata": {},
     "output_type": "execute_result"
    }
   ],
   "source": [
    "# retornar um sample de k elementos dentre os especificados\n",
    "random.sample([1, 2, 3, 4], 2)"
   ]
  },
  {
   "cell_type": "markdown",
   "metadata": {
    "ein.tags": [
     "worksheet-0"
    ],
    "id": "6Y4ZmCYw8uYG"
   },
   "source": [
    "# 3. Cadeias de caracter (o tipo `str`)"
   ]
  },
  {
   "cell_type": "markdown",
   "metadata": {
    "ein.tags": [
     "worksheet-0"
    ],
    "id": "BK22T7aF8uYH"
   },
   "source": [
    "Strings podem ser delimitadas por aspas:"
   ]
  },
  {
   "cell_type": "code",
   "execution_count": null,
   "metadata": {
    "autoscroll": "json-false",
    "collapsed": false,
    "ein.tags": [
     "worksheet-0"
    ],
    "id": "H1scffpr8uYH",
    "jupyter": {
     "outputs_hidden": false
    }
   },
   "outputs": [],
   "source": [
    "\"Oi, gente!\""
   ]
  },
  {
   "cell_type": "code",
   "execution_count": null,
   "metadata": {
    "autoscroll": "json-false",
    "collapsed": false,
    "ein.tags": [
     "worksheet-0"
    ],
    "id": "esr-zbVV8uYI",
    "jupyter": {
     "outputs_hidden": false
    }
   },
   "outputs": [],
   "source": [
    "print(\"Oi, gente!\")"
   ]
  },
  {
   "cell_type": "markdown",
   "metadata": {
    "ein.tags": [
     "worksheet-0"
    ],
    "id": "ZuWPHw__8uYJ"
   },
   "source": [
    "Ou por apóstrofes:"
   ]
  },
  {
   "cell_type": "code",
   "execution_count": null,
   "metadata": {
    "autoscroll": "json-false",
    "collapsed": false,
    "ein.tags": [
     "worksheet-0"
    ],
    "id": "SuH3a5Em8uYJ",
    "jupyter": {
     "outputs_hidden": false
    }
   },
   "outputs": [],
   "source": [
    "'Oi, gente!'"
   ]
  },
  {
   "cell_type": "markdown",
   "metadata": {
    "ein.tags": [
     "worksheet-0"
    ],
    "id": "ULuwFJEY8uYJ"
   },
   "source": [
    "A comunidade de Python prefere o uso de apóstrofes, deixando o uso de aspas para quando for necessário. \n",
    "\n",
    "A vantagem de permitir os dois delimitadores é que podemos usar o que for mais conveniente. Por exmeplo, se queremos incluir um apóstrofe na cadeia, usamos aspas como delimitadores:"
   ]
  },
  {
   "cell_type": "code",
   "execution_count": null,
   "metadata": {
    "id": "E2yi0bQH8uYJ"
   },
   "outputs": [],
   "source": [
    "\"If it ain't broke, don't fix it.\""
   ]
  },
  {
   "cell_type": "markdown",
   "metadata": {
    "ein.tags": [
     "worksheet-0"
    ],
    "id": "91cDfN8J8uYK"
   },
   "source": [
    "Strings são representadas em UTF-8, portanto podemos utilizar caracteres acentuados e não-latinos."
   ]
  },
  {
   "cell_type": "code",
   "execution_count": null,
   "metadata": {
    "autoscroll": "json-false",
    "collapsed": false,
    "ein.tags": [
     "worksheet-0"
    ],
    "id": "Oi346RRN8uYK",
    "jupyter": {
     "outputs_hidden": false
    }
   },
   "outputs": [],
   "source": [
    "cor = 'Coração'"
   ]
  },
  {
   "cell_type": "markdown",
   "metadata": {
    "ein.tags": [
     "worksheet-0"
    ],
    "id": "e-PiAs478uYK"
   },
   "source": [
    "Para saber o número de caracteres na string temos a função len:"
   ]
  },
  {
   "cell_type": "code",
   "execution_count": null,
   "metadata": {
    "autoscroll": "json-false",
    "colab": {
     "base_uri": "https://localhost:8080/"
    },
    "collapsed": false,
    "ein.tags": [
     "worksheet-0"
    ],
    "id": "IeaJadfq8uYL",
    "jupyter": {
     "outputs_hidden": false
    },
    "outputId": "86cc638e-1853-4e68-cb55-67825a925588"
   },
   "outputs": [
    {
     "data": {
      "text/plain": [
       "7"
      ]
     },
     "execution_count": 49,
     "metadata": {},
     "output_type": "execute_result"
    }
   ],
   "source": [
    "len(cor)"
   ]
  },
  {
   "cell_type": "markdown",
   "metadata": {
    "ein.tags": [
     "worksheet-0"
    ],
    "id": "8yTR1KBu8uYL"
   },
   "source": [
    "Uma string funciona como um array de caracteres, e pode ser indexada para pegar caracteres individuais.\n",
    "\n",
    "O índice do primeiro elemento é 0."
   ]
  },
  {
   "cell_type": "code",
   "execution_count": null,
   "metadata": {
    "autoscroll": "json-false",
    "colab": {
     "base_uri": "https://localhost:8080/",
     "height": 35
    },
    "collapsed": false,
    "ein.tags": [
     "worksheet-0"
    ],
    "id": "PjBbZBe48uYL",
    "jupyter": {
     "outputs_hidden": false
    },
    "outputId": "1bd65935-6b0d-47ea-dd0b-e30ed2c20307"
   },
   "outputs": [
    {
     "data": {
      "application/vnd.google.colaboratory.intrinsic+json": {
       "type": "string"
      },
      "text/plain": [
       "'C'"
      ]
     },
     "execution_count": 50,
     "metadata": {},
     "output_type": "execute_result"
    }
   ],
   "source": [
    "cor[0]"
   ]
  },
  {
   "cell_type": "code",
   "execution_count": null,
   "metadata": {
    "autoscroll": "json-false",
    "colab": {
     "base_uri": "https://localhost:8080/",
     "height": 35
    },
    "collapsed": false,
    "ein.tags": [
     "worksheet-0"
    ],
    "id": "ZPuzTNGL8uYL",
    "jupyter": {
     "outputs_hidden": false
    },
    "outputId": "ae82da34-9a1b-49c0-84dd-cbbf1b3666a7"
   },
   "outputs": [
    {
     "data": {
      "application/vnd.google.colaboratory.intrinsic+json": {
       "type": "string"
      },
      "text/plain": [
       "'o'"
      ]
     },
     "execution_count": 51,
     "metadata": {},
     "output_type": "execute_result"
    }
   ],
   "source": [
    "cor[1]"
   ]
  },
  {
   "cell_type": "code",
   "execution_count": null,
   "metadata": {
    "autoscroll": "json-false",
    "colab": {
     "base_uri": "https://localhost:8080/",
     "height": 35
    },
    "collapsed": false,
    "ein.tags": [
     "worksheet-0"
    ],
    "id": "QRPzWQJz8uYM",
    "jupyter": {
     "outputs_hidden": false
    },
    "outputId": "d929f627-9d23-441f-8a7a-32d9fd341ab7"
   },
   "outputs": [
    {
     "data": {
      "application/vnd.google.colaboratory.intrinsic+json": {
       "type": "string"
      },
      "text/plain": [
       "'o'"
      ]
     },
     "execution_count": 52,
     "metadata": {},
     "output_type": "execute_result"
    }
   ],
   "source": [
    "cor[6]"
   ]
  },
  {
   "cell_type": "code",
   "execution_count": null,
   "metadata": {
    "autoscroll": "json-false",
    "colab": {
     "base_uri": "https://localhost:8080/",
     "height": 35
    },
    "collapsed": false,
    "ein.tags": [
     "worksheet-0"
    ],
    "id": "3aXQbo768uYM",
    "jupyter": {
     "outputs_hidden": false
    },
    "outputId": "b04b6209-7eb8-45ef-83f4-c19e0750b3f5"
   },
   "outputs": [
    {
     "data": {
      "application/vnd.google.colaboratory.intrinsic+json": {
       "type": "string"
      },
      "text/plain": [
       "'ã'"
      ]
     },
     "execution_count": 53,
     "metadata": {},
     "output_type": "execute_result"
    }
   ],
   "source": [
    "cor[5]"
   ]
  },
  {
   "cell_type": "code",
   "execution_count": null,
   "metadata": {
    "id": "SAxB0qYDaVEh"
   },
   "outputs": [],
   "source": [
    "meu_nome = 'juliana'"
   ]
  },
  {
   "cell_type": "code",
   "execution_count": null,
   "metadata": {
    "colab": {
     "base_uri": "https://localhost:8080/"
    },
    "id": "ENA_Bv9aabXb",
    "outputId": "ae4b6933-60c7-4af4-b18e-de5ed6c96080"
   },
   "outputs": [
    {
     "data": {
      "text/plain": [
       "7"
      ]
     },
     "execution_count": 56,
     "metadata": {},
     "output_type": "execute_result"
    }
   ],
   "source": [
    "len(meu_nome)"
   ]
  },
  {
   "cell_type": "code",
   "execution_count": null,
   "metadata": {
    "colab": {
     "base_uri": "https://localhost:8080/"
    },
    "id": "g1gviBCJac67",
    "outputId": "36b5e993-a4f3-4d8d-a900-e7cf59452ab3"
   },
   "outputs": [
    {
     "name": "stdout",
     "output_type": "stream",
     "text": [
      "j\n",
      "i\n",
      "a\n"
     ]
    }
   ],
   "source": [
    "print(meu_nome[0])\n",
    "print(meu_nome[3])\n",
    "print(meu_nome[6])"
   ]
  },
  {
   "cell_type": "markdown",
   "metadata": {
    "ein.tags": [
     "worksheet-0"
    ],
    "id": "iHayQWur8uYM"
   },
   "source": [
    "A indexação é verificada: É um erro tentar acessar um índice inexistente."
   ]
  },
  {
   "cell_type": "code",
   "execution_count": null,
   "metadata": {
    "autoscroll": "json-false",
    "collapsed": false,
    "ein.tags": [
     "worksheet-0"
    ],
    "id": "jA0W6-OG8uYM",
    "jupyter": {
     "outputs_hidden": false
    }
   },
   "outputs": [],
   "source": [
    "cor[7]"
   ]
  },
  {
   "cell_type": "markdown",
   "metadata": {
    "ein.tags": [
     "worksheet-0"
    ],
    "id": "XErpQ2QN8uYM"
   },
   "source": [
    "É possível também indexar utilizando \"slices\", que são faixas de índices indicadas pelo caracter `':'`.\n",
    "\n",
    "Como sempre em Python, indicamos o valor inicial da faixa e um após o valor final."
   ]
  },
  {
   "cell_type": "code",
   "execution_count": null,
   "metadata": {
    "autoscroll": "json-false",
    "colab": {
     "base_uri": "https://localhost:8080/",
     "height": 35
    },
    "collapsed": false,
    "ein.tags": [
     "worksheet-0"
    ],
    "id": "2SVhjnDR8uYN",
    "jupyter": {
     "outputs_hidden": false
    },
    "outputId": "72516f91-29dc-4005-9708-6dc431e04d03"
   },
   "outputs": [
    {
     "data": {
      "application/vnd.google.colaboratory.intrinsic+json": {
       "type": "string"
      },
      "text/plain": [
       "'çã'"
      ]
     },
     "execution_count": 69,
     "metadata": {},
     "output_type": "execute_result"
    }
   ],
   "source": [
    "cor[4:6]"
   ]
  },
  {
   "cell_type": "code",
   "execution_count": null,
   "metadata": {
    "colab": {
     "base_uri": "https://localhost:8080/",
     "height": 35
    },
    "id": "rSm38Ef3awcV",
    "outputId": "3dae340a-c054-4ce9-ddf4-1f7947a8e601"
   },
   "outputs": [
    {
     "data": {
      "application/vnd.google.colaboratory.intrinsic+json": {
       "type": "string"
      },
      "text/plain": [
       "'julia'"
      ]
     },
     "execution_count": 60,
     "metadata": {},
     "output_type": "execute_result"
    }
   ],
   "source": [
    "meu_nome[0:5]"
   ]
  },
  {
   "cell_type": "code",
   "execution_count": null,
   "metadata": {
    "colab": {
     "base_uri": "https://localhost:8080/",
     "height": 35
    },
    "id": "bSDppdDYbeJl",
    "outputId": "38c7911f-2263-40d9-bc80-f1bc64eba3e1"
   },
   "outputs": [
    {
     "data": {
      "application/vnd.google.colaboratory.intrinsic+json": {
       "type": "string"
      },
      "text/plain": [
       "'ji'"
      ]
     },
     "execution_count": 66,
     "metadata": {},
     "output_type": "execute_result"
    }
   ],
   "source": [
    "meu_nome[:5:3]"
   ]
  },
  {
   "cell_type": "code",
   "execution_count": null,
   "metadata": {
    "colab": {
     "base_uri": "https://localhost:8080/",
     "height": 35
    },
    "id": "N1dEcG1CbxC9",
    "outputId": "42b102e4-5b6a-48cb-c46f-19ee0e1ff775"
   },
   "outputs": [
    {
     "data": {
      "application/vnd.google.colaboratory.intrinsic+json": {
       "type": "string"
      },
      "text/plain": [
       "'liana'"
      ]
     },
     "execution_count": 68,
     "metadata": {},
     "output_type": "execute_result"
    }
   ],
   "source": [
    "meu_nome[2:]"
   ]
  },
  {
   "cell_type": "markdown",
   "metadata": {
    "ein.tags": [
     "worksheet-0"
    ],
    "id": "zVksw05F8uYN"
   },
   "source": [
    "Se omitimos o valor final, então pegamos tudo até o final."
   ]
  },
  {
   "cell_type": "code",
   "execution_count": null,
   "metadata": {
    "autoscroll": "json-false",
    "colab": {
     "base_uri": "https://localhost:8080/",
     "height": 35
    },
    "collapsed": false,
    "ein.tags": [
     "worksheet-0"
    ],
    "id": "cZiMy3IM8uYN",
    "jupyter": {
     "outputs_hidden": false
    },
    "outputId": "1c6c30a6-210b-409b-bcab-596200dfe010"
   },
   "outputs": [
    {
     "data": {
      "application/vnd.google.colaboratory.intrinsic+json": {
       "type": "string"
      },
      "text/plain": [
       "'oração'"
      ]
     },
     "execution_count": 70,
     "metadata": {},
     "output_type": "execute_result"
    }
   ],
   "source": [
    "cor[1:]"
   ]
  },
  {
   "cell_type": "markdown",
   "metadata": {
    "ein.tags": [
     "worksheet-0"
    ],
    "id": "8Y4flB738uYN"
   },
   "source": [
    "Se omitimos o valor inicial, pegamos desde o início."
   ]
  },
  {
   "cell_type": "code",
   "execution_count": null,
   "metadata": {
    "autoscroll": "json-false",
    "colab": {
     "base_uri": "https://localhost:8080/",
     "height": 35
    },
    "collapsed": false,
    "ein.tags": [
     "worksheet-0"
    ],
    "id": "rbZf1cEK8uYN",
    "jupyter": {
     "outputs_hidden": false
    },
    "outputId": "d45c9c74-d25b-4816-bf95-4d175a993133"
   },
   "outputs": [
    {
     "data": {
      "application/vnd.google.colaboratory.intrinsic+json": {
       "type": "string"
      },
      "text/plain": [
       "'Cora'"
      ]
     },
     "execution_count": 71,
     "metadata": {},
     "output_type": "execute_result"
    }
   ],
   "source": [
    "cor[:4]"
   ]
  },
  {
   "cell_type": "code",
   "execution_count": null,
   "metadata": {
    "autoscroll": "json-false",
    "colab": {
     "base_uri": "https://localhost:8080/",
     "height": 35
    },
    "collapsed": false,
    "ein.tags": [
     "worksheet-0"
    ],
    "id": "EqtFT62w8uYO",
    "jupyter": {
     "outputs_hidden": false
    },
    "outputId": "2ca249b1-2f0b-493f-9ef2-b2d59291b38e"
   },
   "outputs": [
    {
     "data": {
      "application/vnd.google.colaboratory.intrinsic+json": {
       "type": "string"
      },
      "text/plain": [
       "'Cor'"
      ]
     },
     "execution_count": 72,
     "metadata": {},
     "output_type": "execute_result"
    }
   ],
   "source": [
    "cor[:3]"
   ]
  },
  {
   "cell_type": "markdown",
   "metadata": {
    "ein.tags": [
     "worksheet-0"
    ],
    "id": "H91HGdlY8uYO"
   },
   "source": [
    "Se omitimos os dois, pegamos todos os elementos."
   ]
  },
  {
   "cell_type": "code",
   "execution_count": null,
   "metadata": {
    "autoscroll": "json-false",
    "colab": {
     "base_uri": "https://localhost:8080/",
     "height": 35
    },
    "collapsed": false,
    "ein.tags": [
     "worksheet-0"
    ],
    "id": "i9nHOlBa8uYO",
    "jupyter": {
     "outputs_hidden": false
    },
    "outputId": "b05c260b-bcae-4fdf-bc83-73cd6d090696"
   },
   "outputs": [
    {
     "data": {
      "application/vnd.google.colaboratory.intrinsic+json": {
       "type": "string"
      },
      "text/plain": [
       "'Coração'"
      ]
     },
     "execution_count": 73,
     "metadata": {},
     "output_type": "execute_result"
    }
   ],
   "source": [
    "cor[:]"
   ]
  },
  {
   "cell_type": "markdown",
   "metadata": {
    "ein.tags": [
     "worksheet-0"
    ],
    "id": "OWS67NL18uYO"
   },
   "source": [
    "Índices negativos indicam contagem do final para o início: -1 é o último, -2 o penúltimo, etc."
   ]
  },
  {
   "cell_type": "code",
   "execution_count": null,
   "metadata": {
    "autoscroll": "json-false",
    "colab": {
     "base_uri": "https://localhost:8080/",
     "height": 35
    },
    "collapsed": false,
    "ein.tags": [
     "worksheet-0"
    ],
    "id": "9Vym4Rqd8uYO",
    "jupyter": {
     "outputs_hidden": false
    },
    "outputId": "15fe7b29-b3ed-477d-94b8-7b7edafe772a"
   },
   "outputs": [
    {
     "data": {
      "application/vnd.google.colaboratory.intrinsic+json": {
       "type": "string"
      },
      "text/plain": [
       "'o'"
      ]
     },
     "execution_count": 74,
     "metadata": {},
     "output_type": "execute_result"
    }
   ],
   "source": [
    "cor[-1]"
   ]
  },
  {
   "cell_type": "code",
   "execution_count": null,
   "metadata": {
    "autoscroll": "json-false",
    "colab": {
     "base_uri": "https://localhost:8080/",
     "height": 35
    },
    "collapsed": false,
    "ein.tags": [
     "worksheet-0"
    ],
    "id": "DRbGDr1z8uYP",
    "jupyter": {
     "outputs_hidden": false
    },
    "outputId": "d5fdafd1-cac8-45eb-ff80-54939ee87b18"
   },
   "outputs": [
    {
     "data": {
      "application/vnd.google.colaboratory.intrinsic+json": {
       "type": "string"
      },
      "text/plain": [
       "'ã'"
      ]
     },
     "execution_count": 75,
     "metadata": {},
     "output_type": "execute_result"
    }
   ],
   "source": [
    "cor[-2]"
   ]
  },
  {
   "cell_type": "code",
   "execution_count": null,
   "metadata": {
    "colab": {
     "base_uri": "https://localhost:8080/",
     "height": 35
    },
    "collapsed": false,
    "id": "vFzvwGcy8uYP",
    "jupyter": {
     "outputs_hidden": false
    },
    "outputId": "5a6262c3-6f35-4ede-9956-4df431db5b69"
   },
   "outputs": [
    {
     "data": {
      "application/vnd.google.colaboratory.intrinsic+json": {
       "type": "string"
      },
      "text/plain": [
       "'C'"
      ]
     },
     "execution_count": 76,
     "metadata": {},
     "output_type": "execute_result"
    }
   ],
   "source": [
    "cor[-7]"
   ]
  },
  {
   "cell_type": "markdown",
   "metadata": {
    "ein.tags": [
     "worksheet-0"
    ],
    "id": "z5gwrC6j8uYP"
   },
   "source": [
    "Índices negativos podem ser usados nos slices:"
   ]
  },
  {
   "cell_type": "code",
   "execution_count": null,
   "metadata": {
    "autoscroll": "json-false",
    "colab": {
     "base_uri": "https://localhost:8080/",
     "height": 35
    },
    "collapsed": false,
    "ein.tags": [
     "worksheet-0"
    ],
    "id": "StXPW0aU8uYP",
    "jupyter": {
     "outputs_hidden": false
    },
    "outputId": "74e0a64d-97f6-49bd-f38d-8fc4033eeb56"
   },
   "outputs": [
    {
     "data": {
      "application/vnd.google.colaboratory.intrinsic+json": {
       "type": "string"
      },
      "text/plain": [
       "'ora'"
      ]
     },
     "execution_count": 77,
     "metadata": {},
     "output_type": "execute_result"
    }
   ],
   "source": [
    "cor[1:-3]"
   ]
  },
  {
   "cell_type": "code",
   "execution_count": null,
   "metadata": {
    "colab": {
     "base_uri": "https://localhost:8080/",
     "height": 35
    },
    "id": "1GVxj5ilcLUq",
    "outputId": "6c82bfa0-3980-4961-babe-da0cbef1c6a0"
   },
   "outputs": [
    {
     "data": {
      "application/vnd.google.colaboratory.intrinsic+json": {
       "type": "string"
      },
      "text/plain": [
       "'uli'"
      ]
     },
     "execution_count": 78,
     "metadata": {},
     "output_type": "execute_result"
    }
   ],
   "source": [
    "meu_nome[1:-3]"
   ]
  },
  {
   "cell_type": "code",
   "execution_count": null,
   "metadata": {
    "autoscroll": "json-false",
    "collapsed": false,
    "ein.tags": [
     "worksheet-0"
    ],
    "id": "JdgGCrGK8uYP",
    "jupyter": {
     "outputs_hidden": false
    }
   },
   "outputs": [],
   "source": [
    "cor[-4:-1]"
   ]
  },
  {
   "cell_type": "markdown",
   "metadata": {
    "id": "iGaRMNZE8uYQ"
   },
   "source": [
    "Se o final é anterior ao inicial, resulta uma cadeia vazia."
   ]
  },
  {
   "cell_type": "code",
   "execution_count": null,
   "metadata": {
    "colab": {
     "base_uri": "https://localhost:8080/",
     "height": 35
    },
    "collapsed": false,
    "id": "6i8hcayC8uYQ",
    "jupyter": {
     "outputs_hidden": false
    },
    "outputId": "a9399378-e9e4-4d73-ff38-eecb3e9c2789"
   },
   "outputs": [
    {
     "data": {
      "application/vnd.google.colaboratory.intrinsic+json": {
       "type": "string"
      },
      "text/plain": [
       "''"
      ]
     },
     "execution_count": 79,
     "metadata": {},
     "output_type": "execute_result"
    }
   ],
   "source": [
    "cor[3:2]"
   ]
  },
  {
   "cell_type": "markdown",
   "metadata": {
    "ein.tags": [
     "worksheet-0"
    ],
    "id": "92CV7BGX8uYQ"
   },
   "source": [
    "O operador + pode ser usado entre duas string, fazendo a concatenação."
   ]
  },
  {
   "cell_type": "code",
   "execution_count": null,
   "metadata": {
    "autoscroll": "json-false",
    "collapsed": false,
    "ein.tags": [
     "worksheet-0"
    ],
    "id": "2RiD2r2Q8uYQ",
    "jupyter": {
     "outputs_hidden": false
    }
   },
   "outputs": [],
   "source": [
    "y = 'bo'"
   ]
  },
  {
   "cell_type": "code",
   "execution_count": null,
   "metadata": {
    "autoscroll": "json-false",
    "collapsed": false,
    "ein.tags": [
     "worksheet-0"
    ],
    "id": "gh4Urt8e8uYQ",
    "jupyter": {
     "outputs_hidden": false
    }
   },
   "outputs": [],
   "source": [
    "y + y"
   ]
  },
  {
   "cell_type": "markdown",
   "metadata": {
    "ein.tags": [
     "worksheet-0"
    ],
    "id": "HtgiAwSR8uYR"
   },
   "source": [
    "O operador * é definido entre string e inteiro, fazendo n cópias da string"
   ]
  },
  {
   "cell_type": "code",
   "execution_count": null,
   "metadata": {
    "autoscroll": "json-false",
    "colab": {
     "base_uri": "https://localhost:8080/",
     "height": 35
    },
    "collapsed": false,
    "ein.tags": [
     "worksheet-0"
    ],
    "id": "VEyPuMHx8uYR",
    "jupyter": {
     "outputs_hidden": false
    },
    "outputId": "d7394014-edc6-4c90-9d08-6c2c14672276"
   },
   "outputs": [
    {
     "data": {
      "application/vnd.google.colaboratory.intrinsic+json": {
       "type": "string"
      },
      "text/plain": [
       "'bobobobo'"
      ]
     },
     "execution_count": 82,
     "metadata": {},
     "output_type": "execute_result"
    }
   ],
   "source": [
    "y * 4"
   ]
  },
  {
   "cell_type": "code",
   "execution_count": null,
   "metadata": {
    "colab": {
     "base_uri": "https://localhost:8080/",
     "height": 35
    },
    "collapsed": false,
    "id": "NfUebE6u8uYR",
    "jupyter": {
     "outputs_hidden": false
    },
    "outputId": "2e946b1d-6883-40e5-e083-b0605cf86229"
   },
   "outputs": [
    {
     "data": {
      "application/vnd.google.colaboratory.intrinsic+json": {
       "type": "string"
      },
      "text/plain": [
       "'bobobobo'"
      ]
     },
     "execution_count": 83,
     "metadata": {},
     "output_type": "execute_result"
    }
   ],
   "source": [
    "4 * y"
   ]
  },
  {
   "cell_type": "markdown",
   "metadata": {
    "ein.tags": [
     "worksheet-0"
    ],
    "id": "VULBYgio8uYR"
   },
   "source": [
    "Um fator importante a lembrar é que string são **imutáveis**. Isto é, uma vez criadas, seu valor não pode ser alterado, nem por mudança de caracteres nem por inserção ou retirada de caracteres."
   ]
  },
  {
   "cell_type": "code",
   "execution_count": null,
   "metadata": {
    "autoscroll": "json-false",
    "colab": {
     "base_uri": "https://localhost:8080/",
     "height": 35
    },
    "collapsed": false,
    "ein.tags": [
     "worksheet-0"
    ],
    "id": "gW3rc8-78uYR",
    "jupyter": {
     "outputs_hidden": false
    },
    "outputId": "01d96d0b-c861-4142-800b-ed5443bda607"
   },
   "outputs": [
    {
     "data": {
      "application/vnd.google.colaboratory.intrinsic+json": {
       "type": "string"
      },
      "text/plain": [
       "'Coração'"
      ]
     },
     "execution_count": 3,
     "metadata": {},
     "output_type": "execute_result"
    }
   ],
   "source": [
    "cor"
   ]
  },
  {
   "cell_type": "code",
   "execution_count": null,
   "metadata": {
    "autoscroll": "json-false",
    "colab": {
     "base_uri": "https://localhost:8080/",
     "height": 163
    },
    "collapsed": false,
    "ein.tags": [
     "worksheet-0"
    ],
    "id": "LIySpGdS8uYS",
    "jupyter": {
     "outputs_hidden": false
    },
    "outputId": "8058a034-2b23-424f-cb90-fdbb6814d0b1"
   },
   "outputs": [
    {
     "ename": "TypeError",
     "evalue": "ignored",
     "output_type": "error",
     "traceback": [
      "\u001b[0;31m---------------------------------------------------------------------------\u001b[0m",
      "\u001b[0;31mTypeError\u001b[0m                                 Traceback (most recent call last)",
      "\u001b[0;32m<ipython-input-86-d783bf35a9e7>\u001b[0m in \u001b[0;36m<module>\u001b[0;34m\u001b[0m\n\u001b[0;32m----> 1\u001b[0;31m \u001b[0mcor\u001b[0m\u001b[0;34m[\u001b[0m\u001b[0;36m0\u001b[0m\u001b[0;34m]\u001b[0m \u001b[0;34m=\u001b[0m \u001b[0;34m'c'\u001b[0m\u001b[0;34m\u001b[0m\u001b[0;34m\u001b[0m\u001b[0m\n\u001b[0m",
      "\u001b[0;31mTypeError\u001b[0m: 'str' object does not support item assignment"
     ]
    }
   ],
   "source": [
    "cor[0] = 'c'"
   ]
  },
  {
   "cell_type": "code",
   "execution_count": null,
   "metadata": {
    "colab": {
     "base_uri": "https://localhost:8080/",
     "height": 35
    },
    "collapsed": false,
    "id": "WiMbBtpB8uYT",
    "jupyter": {
     "outputs_hidden": false
    },
    "outputId": "97b0415c-33a4-4621-bd02-7acfdc82697a"
   },
   "outputs": [
    {
     "data": {
      "application/vnd.google.colaboratory.intrinsic+json": {
       "type": "string"
      },
      "text/plain": [
       "'coração'"
      ]
     },
     "execution_count": 87,
     "metadata": {},
     "output_type": "execute_result"
    }
   ],
   "source": [
    "'c' + cor[1:]"
   ]
  },
  {
   "cell_type": "markdown",
   "metadata": {
    "id": "yI7SDFX08uYT"
   },
   "source": [
    "Isso não significa que uma **variável** que está referenciando uma string não possa ser alterada para referenciar outra:"
   ]
  },
  {
   "cell_type": "code",
   "execution_count": null,
   "metadata": {
    "colab": {
     "base_uri": "https://localhost:8080/"
    },
    "id": "1DOcqjQA8uYT",
    "outputId": "2e46c591-de73-4aee-dead-28c918e81f06"
   },
   "outputs": [
    {
     "name": "stdout",
     "output_type": "stream",
     "text": [
      "Bom\n",
      "Ruim\n"
     ]
    }
   ],
   "source": [
    "volúvel = 'Bom'\n",
    "print(volúvel)\n",
    "volúvel = 'Ruim'\n",
    "print(volúvel)"
   ]
  },
  {
   "cell_type": "markdown",
   "metadata": {
    "ein.tags": [
     "worksheet-0"
    ],
    "id": "MYdIypha8uYU"
   },
   "source": [
    "Neste caso, lembre-se, o que estamos fazendo é colocar na variável `volúvel` uma referência para um objeto do tipo `str` com valor `'Bom'` e depois mudar essa variável para ter uma referência para um **outro** objeto do tipo `str` com valor `'Ruim'`. O objeto original não tem seu valor alterado!\n",
    "\n",
    "O tipo `str` possui diversos métodos para realizar operações. Estudaremos métodos quando chegarmos na parte de orientação a objetos, mas já faremos uso de diversos métodos definidos nas bibliotecas.\n",
    "\n",
    "O método `find` retorna o índice em que uma subcadeia fornecida pode ser encontrada (primeiro caracter da subcadeia)."
   ]
  },
  {
   "cell_type": "code",
   "execution_count": null,
   "metadata": {
    "autoscroll": "json-false",
    "colab": {
     "base_uri": "https://localhost:8080/"
    },
    "collapsed": false,
    "ein.tags": [
     "worksheet-0"
    ],
    "id": "meMxFuDy8uYU",
    "jupyter": {
     "outputs_hidden": false
    },
    "outputId": "dbea8335-6dd1-4810-fe26-a5ce3bbe97b6"
   },
   "outputs": [
    {
     "data": {
      "text/plain": [
       "1"
      ]
     },
     "execution_count": 89,
     "metadata": {},
     "output_type": "execute_result"
    }
   ],
   "source": [
    "cor.find('o')"
   ]
  },
  {
   "cell_type": "code",
   "execution_count": null,
   "metadata": {
    "colab": {
     "base_uri": "https://localhost:8080/"
    },
    "id": "LQFf_V9YePFm",
    "outputId": "195c241a-8a40-411f-e79e-8c22c473d80f"
   },
   "outputs": [
    {
     "data": {
      "text/plain": [
       "4"
      ]
     },
     "execution_count": 93,
     "metadata": {},
     "output_type": "execute_result"
    }
   ],
   "source": [
    "meu_nome.find('ana')"
   ]
  },
  {
   "cell_type": "code",
   "execution_count": null,
   "metadata": {
    "autoscroll": "json-false",
    "collapsed": false,
    "ein.tags": [
     "worksheet-0"
    ],
    "id": "VZz7uuZ88uYU",
    "jupyter": {
     "outputs_hidden": false
    }
   },
   "outputs": [],
   "source": [
    "cor.find('ração')"
   ]
  },
  {
   "cell_type": "code",
   "execution_count": null,
   "metadata": {
    "autoscroll": "json-false",
    "collapsed": false,
    "ein.tags": [
     "worksheet-0"
    ],
    "id": "SOgmMRBP8uYU",
    "jupyter": {
     "outputs_hidden": false
    }
   },
   "outputs": [],
   "source": [
    "cor.find('raç')"
   ]
  },
  {
   "cell_type": "markdown",
   "metadata": {
    "ein.tags": [
     "worksheet-0"
    ],
    "id": "KlATNIYW8uYU"
   },
   "source": [
    "Se a subcadeia não é encontrada, o método retorna -1."
   ]
  },
  {
   "cell_type": "code",
   "execution_count": null,
   "metadata": {
    "autoscroll": "json-false",
    "colab": {
     "base_uri": "https://localhost:8080/"
    },
    "collapsed": false,
    "ein.tags": [
     "worksheet-0"
    ],
    "id": "5DIqRdRt8uYV",
    "jupyter": {
     "outputs_hidden": false
    },
    "outputId": "e1af39ea-0551-4d95-9717-b1099187b5e7"
   },
   "outputs": [
    {
     "data": {
      "text/plain": [
       "-1"
      ]
     },
     "execution_count": 92,
     "metadata": {},
     "output_type": "execute_result"
    }
   ],
   "source": [
    "cor.find('x')"
   ]
  },
  {
   "cell_type": "markdown",
   "metadata": {
    "ein.tags": [
     "worksheet-0"
    ],
    "id": "Rgk3X7_y8uYV"
   },
   "source": [
    "O método `replace` recebe duas subcadeias s1 e s2 e cria uma **nova** cadeia a partir da original substituindo s1 por s2 (obviamente sem alterar a cadeia original, que é imutável)."
   ]
  },
  {
   "cell_type": "code",
   "execution_count": null,
   "metadata": {
    "autoscroll": "json-false",
    "colab": {
     "base_uri": "https://localhost:8080/",
     "height": 35
    },
    "collapsed": false,
    "ein.tags": [
     "worksheet-0"
    ],
    "id": "GeFulfVR8uYV",
    "jupyter": {
     "outputs_hidden": false
    },
    "outputId": "04972265-429b-4fac-d363-2c1e760a4a2e"
   },
   "outputs": [
    {
     "data": {
      "application/vnd.google.colaboratory.intrinsic+json": {
       "type": "string"
      },
      "text/plain": [
       "'Corpo'"
      ]
     },
     "execution_count": 4,
     "metadata": {},
     "output_type": "execute_result"
    }
   ],
   "source": [
    "cor.replace('ação', 'po')"
   ]
  },
  {
   "cell_type": "code",
   "execution_count": null,
   "metadata": {
    "autoscroll": "json-false",
    "colab": {
     "base_uri": "https://localhost:8080/",
     "height": 35
    },
    "collapsed": false,
    "ein.tags": [
     "worksheet-0"
    ],
    "id": "4DO_Ydtt8uYV",
    "jupyter": {
     "outputs_hidden": false
    },
    "outputId": "e7e6de8a-377d-4554-d078-0daf12f46b86"
   },
   "outputs": [
    {
     "data": {
      "application/vnd.google.colaboratory.intrinsic+json": {
       "type": "string"
      },
      "text/plain": [
       "'Coração'"
      ]
     },
     "execution_count": 5,
     "metadata": {},
     "output_type": "execute_result"
    }
   ],
   "source": [
    "cor"
   ]
  },
  {
   "cell_type": "code",
   "execution_count": null,
   "metadata": {
    "id": "t4v1Qn5ylILV"
   },
   "outputs": [],
   "source": [
    "b = cor.replace('ação', 'po')"
   ]
  },
  {
   "cell_type": "code",
   "execution_count": null,
   "metadata": {
    "colab": {
     "base_uri": "https://localhost:8080/",
     "height": 35
    },
    "id": "bCOFZq1NlI6L",
    "outputId": "089afd71-9f9c-480a-8c5a-37a2cf115c05"
   },
   "outputs": [
    {
     "data": {
      "application/vnd.google.colaboratory.intrinsic+json": {
       "type": "string"
      },
      "text/plain": [
       "'Corpo'"
      ]
     },
     "execution_count": 7,
     "metadata": {},
     "output_type": "execute_result"
    }
   ],
   "source": [
    "b"
   ]
  },
  {
   "cell_type": "markdown",
   "metadata": {
    "ein.tags": [
     "worksheet-0"
    ],
    "id": "ceqVI94-8uYW"
   },
   "source": [
    "Um par de métodos bastante útil é constituído por `split` e `join`.\n",
    "\n",
    "O método `split` permite separar uma cadeia em partes delimitadas por uma subcadeia fornecida."
   ]
  },
  {
   "cell_type": "code",
   "execution_count": null,
   "metadata": {
    "autoscroll": "json-false",
    "collapsed": false,
    "ein.tags": [
     "worksheet-0"
    ],
    "id": "oo-Ly_iX8uYW",
    "jupyter": {
     "outputs_hidden": false
    }
   },
   "outputs": [],
   "source": [
    "linha = 'aaa bb cccc xxxx'"
   ]
  },
  {
   "cell_type": "code",
   "execution_count": null,
   "metadata": {
    "colab": {
     "base_uri": "https://localhost:8080/",
     "height": 35
    },
    "id": "0xz-DTh4nMDA",
    "outputId": "5ecd5d13-8e95-4ed6-c33a-f7407c432e1f"
   },
   "outputs": [
    {
     "data": {
      "application/vnd.google.colaboratory.intrinsic+json": {
       "type": "string"
      },
      "text/plain": [
       "'aaa bb cccc xxxx'"
      ]
     },
     "execution_count": 36,
     "metadata": {},
     "output_type": "execute_result"
    }
   ],
   "source": [
    "linha"
   ]
  },
  {
   "cell_type": "code",
   "execution_count": null,
   "metadata": {
    "autoscroll": "json-false",
    "colab": {
     "base_uri": "https://localhost:8080/"
    },
    "collapsed": false,
    "ein.tags": [
     "worksheet-0"
    ],
    "id": "stwyaBGb8uYW",
    "jupyter": {
     "outputs_hidden": false
    },
    "outputId": "99ff850a-a45c-4270-a005-5e067f9d3a1a"
   },
   "outputs": [
    {
     "data": {
      "text/plain": [
       "['aaa', 'bb', 'cccc', 'xxxx']"
      ]
     },
     "execution_count": 129,
     "metadata": {},
     "output_type": "execute_result"
    }
   ],
   "source": [
    "linha.split(' ')"
   ]
  },
  {
   "cell_type": "markdown",
   "metadata": {
    "ein.tags": [
     "worksheet-0"
    ],
    "id": "QujocRZg8uYW"
   },
   "source": [
    "Espaço em branco é o separador default, então não precisa ser fornecido."
   ]
  },
  {
   "cell_type": "code",
   "execution_count": null,
   "metadata": {
    "autoscroll": "json-false",
    "collapsed": false,
    "ein.tags": [
     "worksheet-0"
    ],
    "id": "DoJwkzIw8uYX",
    "jupyter": {
     "outputs_hidden": false
    }
   },
   "outputs": [],
   "source": [
    "separado = linha.split()"
   ]
  },
  {
   "cell_type": "code",
   "execution_count": null,
   "metadata": {
    "autoscroll": "json-false",
    "colab": {
     "base_uri": "https://localhost:8080/"
    },
    "collapsed": false,
    "ein.tags": [
     "worksheet-0"
    ],
    "id": "25WCuqm78uYX",
    "jupyter": {
     "outputs_hidden": false
    },
    "outputId": "4b461489-4c9c-48ac-ce28-5dca0c28d623"
   },
   "outputs": [
    {
     "data": {
      "text/plain": [
       "['aaa', 'bb', 'cccc', 'xxxx']"
      ]
     },
     "execution_count": 131,
     "metadata": {},
     "output_type": "execute_result"
    }
   ],
   "source": [
    "separado"
   ]
  },
  {
   "cell_type": "markdown",
   "metadata": {
    "ein.tags": [
     "worksheet-0"
    ],
    "id": "l978aTJa8uYX"
   },
   "source": [
    "O método é bastante sistemático. Se há dois separadores consecutivos, ele retorna uma string vazia entre eles."
   ]
  },
  {
   "cell_type": "code",
   "execution_count": null,
   "metadata": {
    "autoscroll": "json-false",
    "colab": {
     "base_uri": "https://localhost:8080/"
    },
    "collapsed": false,
    "ein.tags": [
     "worksheet-0"
    ],
    "id": "lUEwy0fz8uYX",
    "jupyter": {
     "outputs_hidden": false
    },
    "outputId": "f05b7d53-dd38-4e62-e8f4-35de4b1e9bf9"
   },
   "outputs": [
    {
     "data": {
      "text/plain": [
       "['aaa bb ', '', '', '', ' xxxx']"
      ]
     },
     "execution_count": 132,
     "metadata": {},
     "output_type": "execute_result"
    }
   ],
   "source": [
    "linha.split('c')"
   ]
  },
  {
   "cell_type": "markdown",
   "metadata": {
    "ein.tags": [
     "worksheet-0"
    ],
    "id": "RLK0CX0Z8uYY"
   },
   "source": [
    "O método `join` faz a operação contrária, e permite juntar uma lista de cadeias através de um separador."
   ]
  },
  {
   "cell_type": "code",
   "execution_count": null,
   "metadata": {
    "autoscroll": "json-false",
    "colab": {
     "base_uri": "https://localhost:8080/"
    },
    "collapsed": false,
    "ein.tags": [
     "worksheet-0"
    ],
    "id": "8-wgnS4p8uYY",
    "jupyter": {
     "outputs_hidden": false
    },
    "outputId": "5c86a51a-c0b8-4703-ff9f-ad0b6067d32d"
   },
   "outputs": [
    {
     "data": {
      "text/plain": [
       "['aaa', 'bb', 'cccc', 'xxxx']"
      ]
     },
     "execution_count": 133,
     "metadata": {},
     "output_type": "execute_result"
    }
   ],
   "source": [
    "separado"
   ]
  },
  {
   "cell_type": "code",
   "execution_count": null,
   "metadata": {
    "autoscroll": "json-false",
    "colab": {
     "base_uri": "https://localhost:8080/",
     "height": 35
    },
    "collapsed": false,
    "ein.tags": [
     "worksheet-0"
    ],
    "id": "cWexuUhS8uYY",
    "jupyter": {
     "outputs_hidden": false
    },
    "outputId": "e48d6bcc-b33d-4f17-b3fa-03d2b816e114"
   },
   "outputs": [
    {
     "data": {
      "application/vnd.google.colaboratory.intrinsic+json": {
       "type": "string"
      },
      "text/plain": [
       "'aaa/bb/cccc/xxxx'"
      ]
     },
     "execution_count": 134,
     "metadata": {},
     "output_type": "execute_result"
    }
   ],
   "source": [
    "'/'.join(separado)"
   ]
  },
  {
   "cell_type": "code",
   "execution_count": null,
   "metadata": {
    "colab": {
     "base_uri": "https://localhost:8080/",
     "height": 35
    },
    "collapsed": false,
    "id": "6tQ_2k-k8uYY",
    "jupyter": {
     "outputs_hidden": false
    },
    "outputId": "1ae895b7-e1fe-4b5c-c363-cf8c1a9fce4c"
   },
   "outputs": [
    {
     "data": {
      "application/vnd.google.colaboratory.intrinsic+json": {
       "type": "string"
      },
      "text/plain": [
       "'aaa, bb, cccc, xxxx'"
      ]
     },
     "execution_count": 135,
     "metadata": {},
     "output_type": "execute_result"
    }
   ],
   "source": [
    "', '.join(separado)"
   ]
  },
  {
   "cell_type": "markdown",
   "metadata": {
    "ein.tags": [
     "worksheet-0"
    ],
    "id": "9gbz967_8uYY"
   },
   "source": [
    "Entre outros, temos também métodos para converter para maiúsculas ou minúsculas, para verificar se os caracteres são todos alfanuméricos ou todos dígitos."
   ]
  },
  {
   "cell_type": "code",
   "execution_count": null,
   "metadata": {
    "autoscroll": "json-false",
    "collapsed": false,
    "ein.tags": [
     "worksheet-0"
    ],
    "id": "ilXztqz28uYZ",
    "jupyter": {
     "outputs_hidden": false
    }
   },
   "outputs": [],
   "source": [
    "cor.upper()"
   ]
  },
  {
   "cell_type": "code",
   "execution_count": null,
   "metadata": {
    "autoscroll": "json-false",
    "collapsed": false,
    "ein.tags": [
     "worksheet-0"
    ],
    "id": "X7PEX6jY8uYZ",
    "jupyter": {
     "outputs_hidden": false
    }
   },
   "outputs": [],
   "source": [
    "cor.lower()"
   ]
  },
  {
   "cell_type": "code",
   "execution_count": null,
   "metadata": {
    "autoscroll": "json-false",
    "collapsed": false,
    "ein.tags": [
     "worksheet-0"
    ],
    "id": "iHUR4dKI8uYZ",
    "jupyter": {
     "outputs_hidden": false
    }
   },
   "outputs": [],
   "source": [
    "cor.isalpha()"
   ]
  },
  {
   "cell_type": "code",
   "execution_count": null,
   "metadata": {
    "id": "3LoI4Tih8uYZ"
   },
   "outputs": [],
   "source": [
    "'abc1'.isalpha()"
   ]
  },
  {
   "cell_type": "code",
   "execution_count": null,
   "metadata": {
    "autoscroll": "json-false",
    "collapsed": false,
    "ein.tags": [
     "worksheet-0"
    ],
    "id": "GaRMMfVy8uYa",
    "jupyter": {
     "outputs_hidden": false
    }
   },
   "outputs": [],
   "source": [
    "cor.isdigit()"
   ]
  },
  {
   "cell_type": "code",
   "execution_count": null,
   "metadata": {
    "id": "DOVZLXvh8uYa"
   },
   "outputs": [],
   "source": [
    "'42'.isdigit()"
   ]
  },
  {
   "cell_type": "markdown",
   "metadata": {
    "ein.tags": [
     "worksheet-0"
    ],
    "id": "CT1h_Skj8uYa"
   },
   "source": [
    "Ao ler cadeias de arquivos, é comum que haja espaços em branco adicionais no início e no final da linha. O método `strip` retira esses caracteres em branco."
   ]
  },
  {
   "cell_type": "code",
   "execution_count": null,
   "metadata": {
    "autoscroll": "json-false",
    "collapsed": false,
    "ein.tags": [
     "worksheet-0"
    ],
    "id": "Nb8Fi_8Z8uYb",
    "jupyter": {
     "outputs_hidden": false
    }
   },
   "outputs": [],
   "source": [
    "linha = '    ' + linha + '      '"
   ]
  },
  {
   "cell_type": "code",
   "execution_count": null,
   "metadata": {
    "autoscroll": "json-false",
    "collapsed": false,
    "ein.tags": [
     "worksheet-0"
    ],
    "id": "x1dsmaKy8uYb",
    "jupyter": {
     "outputs_hidden": false
    }
   },
   "outputs": [],
   "source": [
    "linha"
   ]
  },
  {
   "cell_type": "code",
   "execution_count": null,
   "metadata": {
    "autoscroll": "json-false",
    "collapsed": false,
    "ein.tags": [
     "worksheet-0"
    ],
    "id": "f-PZgksY8uYb",
    "jupyter": {
     "outputs_hidden": false
    }
   },
   "outputs": [],
   "source": [
    "linha.strip()"
   ]
  },
  {
   "cell_type": "markdown",
   "metadata": {
    "ein.tags": [
     "worksheet-0"
    ],
    "id": "WCJK0Qh18uYb"
   },
   "source": [
    "Podemos também retirar caracteres em branco só do começo ou só do final."
   ]
  },
  {
   "cell_type": "code",
   "execution_count": null,
   "metadata": {
    "autoscroll": "json-false",
    "collapsed": false,
    "ein.tags": [
     "worksheet-0"
    ],
    "id": "nVWLnbkh8uYc",
    "jupyter": {
     "outputs_hidden": false
    }
   },
   "outputs": [],
   "source": [
    "linha.lstrip()"
   ]
  },
  {
   "cell_type": "code",
   "execution_count": null,
   "metadata": {
    "autoscroll": "json-false",
    "collapsed": false,
    "ein.tags": [
     "worksheet-0"
    ],
    "id": "dPlOTVxZ8uYc",
    "jupyter": {
     "outputs_hidden": false
    }
   },
   "outputs": [],
   "source": [
    "linha.rstrip()"
   ]
  },
  {
   "cell_type": "markdown",
   "metadata": {
    "id": "s-jXSl1t8uYc"
   },
   "source": [
    "Outras operações frequentes são a remoção de prefixos ou sufixos numa cadeia. Por exemplo, temos inicialmente o seguinte nome de arquivo:"
   ]
  },
  {
   "cell_type": "code",
   "execution_count": null,
   "metadata": {
    "id": "fOoHZ-X88uYc"
   },
   "outputs": [],
   "source": [
    "arquivo = 'result020.dat'"
   ]
  },
  {
   "cell_type": "code",
   "execution_count": null,
   "metadata": {
    "id": "D_pdeKGAlSgA"
   },
   "outputs": [],
   "source": [
    "texto = 'estou escrevendo um texto aqui'"
   ]
  },
  {
   "cell_type": "markdown",
   "metadata": {
    "id": "-tqoeCYB8uYd"
   },
   "source": [
    "Podemos retirar a extensão usando o método`removesuffix`:"
   ]
  },
  {
   "cell_type": "code",
   "execution_count": null,
   "metadata": {
    "colab": {
     "base_uri": "https://localhost:8080/",
     "height": 35
    },
    "id": "QncHJ69c8uYd",
    "outputId": "e92c9a28-efe5-42db-8986-26a507a3dde2"
   },
   "outputs": [
    {
     "data": {
      "application/vnd.google.colaboratory.intrinsic+json": {
       "type": "string"
      },
      "text/plain": [
       "'result020'"
      ]
     },
     "execution_count": 121,
     "metadata": {},
     "output_type": "execute_result"
    }
   ],
   "source": [
    "arquivo.removesuffix('.dat')"
   ]
  },
  {
   "cell_type": "markdown",
   "metadata": {
    "id": "4AXv1S-e8uYd"
   },
   "source": [
    "E podemos remover o termo inicial `result` usando `removeprefix`:"
   ]
  },
  {
   "cell_type": "code",
   "execution_count": null,
   "metadata": {
    "colab": {
     "base_uri": "https://localhost:8080/",
     "height": 35
    },
    "id": "L3EiC-Vk8uYd",
    "outputId": "591e0f7f-610c-4b06-f0fc-9fa6aa83c8f1"
   },
   "outputs": [
    {
     "data": {
      "application/vnd.google.colaboratory.intrinsic+json": {
       "type": "string"
      },
      "text/plain": [
       "'020.dat'"
      ]
     },
     "execution_count": 122,
     "metadata": {},
     "output_type": "execute_result"
    }
   ],
   "source": [
    "arquivo.removeprefix('result')"
   ]
  },
  {
   "cell_type": "code",
   "execution_count": null,
   "metadata": {
    "colab": {
     "base_uri": "https://localhost:8080/",
     "height": 35
    },
    "id": "D9Pbr-RMlVVQ",
    "outputId": "61db01ad-982a-4e22-d2c6-2f9810f8c6d0"
   },
   "outputs": [
    {
     "data": {
      "application/vnd.google.colaboratory.intrinsic+json": {
       "type": "string"
      },
      "text/plain": [
       "' um texto aqui'"
      ]
     },
     "execution_count": 10,
     "metadata": {},
     "output_type": "execute_result"
    }
   ],
   "source": [
    "texto.removeprefix('estou escrevendo')  # como eu passo uma cadeia de caracteres p remover, remove tb os espaçosbb"
   ]
  },
  {
   "cell_type": "code",
   "execution_count": null,
   "metadata": {
    "colab": {
     "base_uri": "https://localhost:8080/",
     "height": 35
    },
    "id": "PGpVpYoIlXGz",
    "outputId": "4f88781e-e41a-4929-8e24-d221e02394ec"
   },
   "outputs": [
    {
     "data": {
      "application/vnd.google.colaboratory.intrinsic+json": {
       "type": "string"
      },
      "text/plain": [
       "'estou escrevendo um texto aqui'"
      ]
     },
     "execution_count": 11,
     "metadata": {},
     "output_type": "execute_result"
    }
   ],
   "source": [
    "  texto"
   ]
  },
  {
   "cell_type": "code",
   "execution_count": null,
   "metadata": {
    "colab": {
     "base_uri": "https://localhost:8080/",
     "height": 35
    },
    "id": "z9vEqCW1jp48",
    "outputId": "62645aff-6780-4c6d-82be-819d003c8825"
   },
   "outputs": [
    {
     "data": {
      "application/vnd.google.colaboratory.intrinsic+json": {
       "type": "string"
      },
      "text/plain": [
       "'result020.dat'"
      ]
     },
     "execution_count": 123,
     "metadata": {},
     "output_type": "execute_result"
    }
   ],
   "source": [
    "arquivo"
   ]
  },
  {
   "cell_type": "markdown",
   "metadata": {
    "id": "71-HID1G8uYd"
   },
   "source": [
    "Usando os dois métodos, podemos ficar apenas com o número do arquivo de resutados:"
   ]
  },
  {
   "cell_type": "code",
   "execution_count": null,
   "metadata": {
    "id": "SUUUiYF58uYe"
   },
   "outputs": [],
   "source": [
    "int(arquivo.removeprefix('result').removesuffix('.dat'))"
   ]
  },
  {
   "cell_type": "markdown",
   "metadata": {
    "ein.tags": [
     "worksheet-0"
    ],
    "id": "6UZtVvLV8uYe"
   },
   "source": [
    "O método de formatação usado pela função `printf` de C é em certas situações bastante conveniente. Em Python, isso é realizado pelo operador `%` sobre string e uma tupla de valores."
   ]
  },
  {
   "cell_type": "code",
   "execution_count": null,
   "metadata": {
    "autoscroll": "json-false",
    "collapsed": false,
    "ein.tags": [
     "worksheet-0"
    ],
    "id": "MhAH_xcu8uYe",
    "jupyter": {
     "outputs_hidden": false
    }
   },
   "outputs": [],
   "source": [
    "'%d %f %4.3f' % (-10, 4.3256789, 2.1345678)"
   ]
  },
  {
   "cell_type": "markdown",
   "metadata": {
    "ein.tags": [
     "worksheet-0"
    ],
    "id": "P7EAYXjR8uYe"
   },
   "source": [
    "Algo parecido pode ser conseguido com o método `format`, com uma sintaxe diferente e possibilidade de reordenação dos valores na saída."
   ]
  },
  {
   "cell_type": "code",
   "execution_count": null,
   "metadata": {
    "autoscroll": "json-false",
    "collapsed": false,
    "ein.tags": [
     "worksheet-0"
    ],
    "id": "odt7gsh-8uYe",
    "jupyter": {
     "outputs_hidden": false
    }
   },
   "outputs": [],
   "source": [
    "'{} {} {}'.format(-10, 4.3256789, 2.1345678)"
   ]
  },
  {
   "cell_type": "code",
   "execution_count": null,
   "metadata": {
    "autoscroll": "json-false",
    "collapsed": false,
    "ein.tags": [
     "worksheet-0"
    ],
    "id": "IekZKhuX8uYf",
    "jupyter": {
     "outputs_hidden": false
    }
   },
   "outputs": [],
   "source": [
    "'{1} {2} {0}'.format(-10, 4.3256789, 2.1345678)"
   ]
  },
  {
   "cell_type": "markdown",
   "metadata": {
    "id": "YUDRXgKm8uYf"
   },
   "source": [
    "Podemos inclusive repetir um mesmo valor em vários lugares."
   ]
  },
  {
   "cell_type": "code",
   "execution_count": null,
   "metadata": {
    "collapsed": false,
    "id": "9oQSRuo28uYf",
    "jupyter": {
     "outputs_hidden": false
    }
   },
   "outputs": [],
   "source": [
    "'{0} {1} {0} {2}'.format('muita', 'saúde', 'felicidade')"
   ]
  },
  {
   "cell_type": "markdown",
   "metadata": {
    "id": "3s9EkUB28uYf"
   },
   "source": [
    "Um método ainda mais conveniente de realizar essas operações é usando as chamadas *f-strings*, que são cadeias de caracteres precedidas por `f` e nas quais podemos interpolar código Python delimitado por `{}` e que será avalidado antes da formação da cadeia:"
   ]
  },
  {
   "cell_type": "code",
   "execution_count": null,
   "metadata": {
    "id": "wo9ipFG38uYf"
   },
   "outputs": [],
   "source": [
    "f'A soma 2 + 2 vale {2 + 2}'"
   ]
  },
  {
   "cell_type": "code",
   "execution_count": null,
   "metadata": {
    "id": "KWKAqguu8uYg"
   },
   "outputs": [],
   "source": [
    "a = 13\n",
    "b = 3\n",
    "print(f'O quociente é {a // b} e o resto {a % b}')"
   ]
  },
  {
   "cell_type": "markdown",
   "metadata": {
    "id": "KWe5pbve8uYg"
   },
   "source": [
    "Tanto no `format` como mas _f-strings_ podemos especificar a formatação do resultado."
   ]
  },
  {
   "cell_type": "code",
   "execution_count": null,
   "metadata": {
    "colab": {
     "base_uri": "https://localhost:8080/"
    },
    "id": "SBIg8VCP8uYg",
    "outputId": "d31972ae-0d41-49d5-d677-eabd78e2cc85"
   },
   "outputs": [
    {
     "name": "stdout",
     "output_type": "stream",
     "text": [
      "Político de direita é  |            corrupto|,\n",
      "Político de esquerda é |corrupto            |\n",
      "Político de centro é   |      corrupto      |\n"
     ]
    }
   ],
   "source": [
    "print('Político de direita é  |{0:>20}|,\\n'\n",
    "      'Político de esquerda é |{0:<20}|\\n'\n",
    "      'Político de centro é   |{0:^20}|'.format('corrupto'))"
   ]
  },
  {
   "cell_type": "code",
   "execution_count": null,
   "metadata": {
    "id": "SvqdSZBqleTm"
   },
   "outputs": [],
   "source": [
    "oi = 'oi'"
   ]
  },
  {
   "cell_type": "code",
   "execution_count": null,
   "metadata": {
    "colab": {
     "base_uri": "https://localhost:8080/"
    },
    "id": "MMQkwW7Ulf9y",
    "outputId": "d5133af8-66ce-4b57-b743-3d458f48e2b1"
   },
   "outputs": [
    {
     "name": "stdout",
     "output_type": "stream",
     "text": [
      "Político de direita é  |                  oi|\n",
      "Político de esquerda é |oi                  |\n",
      "Político de centro é   |         oi         |\n"
     ]
    }
   ],
   "source": [
    "print(f'Político de direita é  |{oi:>20}|\\nPolítico de esquerda é |{oi:<20}|\\nPolítico de centro é   |{oi:^20}|')"
   ]
  },
  {
   "cell_type": "markdown",
   "metadata": {
    "id": "aYZ_Zpwp8uYg"
   },
   "source": [
    "No código acima usamos a característica de que, se duas cadeias seguem imediatamente uma à outra no código, sem nenhum elemento a não ser espaços em branco (na mesma linha ou em diferentes linhas) entre elas, então essas cadeias são juntadas em uma única."
   ]
  },
  {
   "cell_type": "code",
   "execution_count": null,
   "metadata": {
    "id": "TjTc0s218uYh"
   },
   "outputs": [],
   "source": [
    "valor = 0.1\n",
    "print(f'{valor:.48}')"
   ]
  },
  {
   "cell_type": "markdown",
   "metadata": {
    "ein.tags": [
     "worksheet-0"
    ],
    "id": "3jiFkD648uYh"
   },
   "source": [
    "Podemos definir cadeias que ocupam múltiplas linhas usando o delimitador `'''`"
   ]
  },
  {
   "cell_type": "code",
   "execution_count": null,
   "metadata": {
    "autoscroll": "json-false",
    "collapsed": false,
    "ein.tags": [
     "worksheet-0"
    ],
    "id": "f9O7usfl8uYh",
    "jupyter": {
     "outputs_hidden": false
    }
   },
   "outputs": [],
   "source": [
    "cadeiagrande = '''Isto é uma cadeia grande\n",
    "que ocupa diversas linhas.\n",
    "\n",
    "Tudo bem, nem tantas assim.\n",
    "'''"
   ]
  },
  {
   "cell_type": "markdown",
   "metadata": {
    "ein.tags": [
     "worksheet-0"
    ],
    "id": "Xl42EuFL8uYi"
   },
   "source": [
    "Note como as mudanças de linha são representadas pelo caracter `\\n`, que é um caracter normal."
   ]
  },
  {
   "cell_type": "code",
   "execution_count": null,
   "metadata": {
    "autoscroll": "json-false",
    "collapsed": false,
    "ein.tags": [
     "worksheet-0"
    ],
    "id": "s7itt7GG8uYi",
    "jupyter": {
     "outputs_hidden": false
    }
   },
   "outputs": [],
   "source": [
    "cadeiagrande"
   ]
  },
  {
   "cell_type": "code",
   "execution_count": null,
   "metadata": {
    "id": "RIdNV9O58uYj"
   },
   "outputs": [],
   "source": [
    "print(cadeiagrande)"
   ]
  },
  {
   "cell_type": "code",
   "execution_count": null,
   "metadata": {
    "autoscroll": "json-false",
    "collapsed": false,
    "ein.tags": [
     "worksheet-0"
    ],
    "id": "2V_cousn8uYj",
    "jupyter": {
     "outputs_hidden": false
    }
   },
   "outputs": [],
   "source": [
    "cadeiagrande.find('que')"
   ]
  },
  {
   "cell_type": "code",
   "execution_count": null,
   "metadata": {
    "autoscroll": "json-false",
    "collapsed": false,
    "ein.tags": [
     "worksheet-0"
    ],
    "id": "fKE1LQE08uYj",
    "jupyter": {
     "outputs_hidden": false
    }
   },
   "outputs": [],
   "source": [
    "cadeiagrande.find('\\n')"
   ]
  },
  {
   "cell_type": "markdown",
   "metadata": {
    "id": "h_Q4D7DZ8uYk"
   },
   "source": [
    "# Exercícios"
   ]
  },
  {
   "cell_type": "markdown",
   "metadata": {
    "id": "WJPzBUaN8uYk"
   },
   "source": [
    "1. Escreva um código Python que calcule as raízes da equação $ax^2 + bx + c =\n",
    "   0$ usando a fórmula de Bhaskara. Seu código pode supor que as duas\n",
    "   raízes são reais, e gerar uma mensagem de erro caso isso não\n",
    "   ocorra."
   ]
  },
  {
   "cell_type": "code",
   "execution_count": null,
   "metadata": {
    "id": "Guc3hdsP8uYk"
   },
   "outputs": [],
   "source": [
    "import math \n",
    "def calcula_raizes(a, b, c):\n",
    "  delta  = (b ** 2) - 4*a*c\n",
    "  if delta < 0:\n",
    "    print('As raízes não são reais.')\n",
    "  else: \n",
    "    sol1 = (-b + math.sqrt(delta))/2*a \n",
    "    sol2 = (-b - math.sqrt(delta))/2*a \n",
    "    print(f'As raízes encontradas são: x1 = {sol1} e x2 = {sol2}')"
   ]
  },
  {
   "cell_type": "code",
   "execution_count": null,
   "metadata": {
    "colab": {
     "base_uri": "https://localhost:8080/"
    },
    "id": "g2r_g7W9gVWc",
    "outputId": "6f0c0d60-67c8-4474-e247-65b5d7098734"
   },
   "outputs": [
    {
     "name": "stdout",
     "output_type": "stream",
     "text": [
      "As raízes encontradas são: x1 = 5.0 e x2 = -2.0\n"
     ]
    }
   ],
   "source": [
    "calcula_raizes(1,-3,-10)"
   ]
  },
  {
   "cell_type": "markdown",
   "metadata": {
    "id": "LWFJXy8P8uYk"
   },
   "source": [
    "2. Usando o módulo `cmath` de Python, que permite diversas operações matemáticas sobre números complexos, faça uma versão do cálculo das raízes de uma equação de segundo grau que funcione para quaisquer valores dos parâmetros $a, b, c$.\n",
    "\n",
    "    Dica: Você pode olhar a descrição do módulo `cmath` na documentação oficial do Python [aqui](https://docs.python.org/3/library/cmath.html). Ou você pode também, após executar o `import cmath` numa célula de código escrever `cmath.` e imediatamente depois do ponto apertar TAB para ver quais os símbolos disponíveis, que neste caso são mais ou menos auto-explicatórios."
   ]
  },
  {
   "cell_type": "code",
   "execution_count": null,
   "metadata": {
    "id": "9-Ti2Y7U8uYl"
   },
   "outputs": [],
   "source": [
    "import cmath"
   ]
  },
  {
   "cell_type": "code",
   "execution_count": null,
   "metadata": {
    "id": "MP2abEZ1hkMM"
   },
   "outputs": [],
   "source": [
    "def calcula_raizes2(a, b, c):\n",
    "  delta  = (b ** 2) - 4*a*c\n",
    "  if delta < 0:\n",
    "    sol1 = (-b + cmath.sqrt(delta))/2*a \n",
    "    sol2 = (-b - cmath.sqrt(delta))/2*a \n",
    "    print(f'As raízes encontradas são: x1 = ({sol1:.2f}) e x2 = ({sol2:.2f})')\n",
    "  else: \n",
    "    sol1 = (-b + math.sqrt(delta))/2*a \n",
    "    sol2 = (-b - math.sqrt(delta))/2*a \n",
    "    print(f'As raízes encontradas são: x1 = {sol1} e x2 = {sol2}')"
   ]
  },
  {
   "cell_type": "code",
   "execution_count": null,
   "metadata": {
    "colab": {
     "base_uri": "https://localhost:8080/"
    },
    "id": "ufNysSUJh9vb",
    "outputId": "df1c1d84-52da-4ed3-8060-0c49bec2e968"
   },
   "outputs": [
    {
     "name": "stdout",
     "output_type": "stream",
     "text": [
      "As raízes encontradas são: x1 = (-6.00+5.29j) e x2 = (-6.00-5.29j)\n"
     ]
    }
   ],
   "source": [
    "calcula_raizes2(4, 3, 1)"
   ]
  },
  {
   "cell_type": "markdown",
   "metadata": {
    "id": "znicHpDV8uYl"
   },
   "source": [
    "3. Você tem duas listas definidas da seguinte forma:\n",
    "```python\n",
    "    naipe = ['Paus', 'Copas', 'Espadas', 'Ouros']\n",
    "    valor = ['1', '2', '3', '4', '5', '6', '7',\n",
    "             '8', '9', '10', 'J', 'Q', 'K', 'A']\n",
    "```\n",
    "   Usando essas listas, faça um código que sorteie uma carta do baralho (por exemplo `'3 de Espadas'`, ou `'A de Ouro'`)."
   ]
  },
  {
   "cell_type": "code",
   "execution_count": null,
   "metadata": {
    "id": "pjwbW-cjimE8"
   },
   "outputs": [],
   "source": [
    "import random"
   ]
  },
  {
   "cell_type": "code",
   "execution_count": null,
   "metadata": {
    "colab": {
     "base_uri": "https://localhost:8080/"
    },
    "id": "c_wlygIYkjqE",
    "outputId": "42150557-250e-423c-f6e1-9f4671ba6082"
   },
   "outputs": [
    {
     "name": "stdout",
     "output_type": "stream",
     "text": [
      "Q de Espadas\n"
     ]
    }
   ],
   "source": [
    "naipe = ['Paus', 'Copas', 'Espadas', 'Ouros']\n",
    "valor = ['1', '2', '3', '4', '5', '6', '7', '8', '9', '10', 'J', 'Q', 'K', 'A']\n",
    "\n",
    "sort_naipe = random.choice(naipe)\n",
    "sort_value = random.choice(valor)\n",
    "\n",
    "print(f'{sort_value} de {sort_naipe}')"
   ]
  },
  {
   "cell_type": "markdown",
   "metadata": {
    "id": "zLecHxsE8uYl"
   },
   "source": [
    "4. Dada a cadeia abaixo:\n",
    "\n",
    "```python\n",
    "texto = 'A galinha do vizinho bota um ovo amarelinho!'\n",
    "```\n",
    "\n",
    "Usando *slicing* na indexação dessa cadeia, extraia as subcadeias `'galinha'`, `'vizinho'` e `'amarelinho'`, primeiro usando índices positivos, depois usando índices negativos."
   ]
  },
  {
   "cell_type": "code",
   "execution_count": null,
   "metadata": {
    "colab": {
     "base_uri": "https://localhost:8080/"
    },
    "id": "zRLnFCcInHR9",
    "outputId": "b415e25b-9c40-4f5e-f134-802aa904dbf5"
   },
   "outputs": [
    {
     "data": {
      "text/plain": [
       "44"
      ]
     },
     "execution_count": 152,
     "metadata": {},
     "output_type": "execute_result"
    }
   ],
   "source": [
    "len(texto)"
   ]
  },
  {
   "cell_type": "code",
   "execution_count": null,
   "metadata": {
    "colab": {
     "base_uri": "https://localhost:8080/"
    },
    "id": "nnlDNOsH8uYm",
    "outputId": "7b80509c-04d5-4810-b6e2-1ade4e65d075"
   },
   "outputs": [
    {
     "name": "stdout",
     "output_type": "stream",
     "text": [
      "As posições das respectivas subcadeias são: 2, 13, 33\n"
     ]
    }
   ],
   "source": [
    "texto = 'A galinha do vizinho bota um ovo amarelinho!'\n",
    "\n",
    "pos_galinha = texto.find('galinha')\n",
    "pos_vizinho = texto.find('vizinho')\n",
    "pos_amarel = texto.find('amarelinho')\n",
    "\n",
    "print(f'As posições das respectivas subcadeias são: {pos_galinha}, {pos_vizinho}, {pos_amarel}')"
   ]
  },
  {
   "cell_type": "code",
   "execution_count": null,
   "metadata": {
    "colab": {
     "base_uri": "https://localhost:8080/"
    },
    "id": "YMUwtOR4mfEA",
    "outputId": "161c713a-615a-4d50-fe62-6670675ad289"
   },
   "outputs": [
    {
     "name": "stdout",
     "output_type": "stream",
     "text": [
      "galinha\n",
      "vizinho \n",
      "amarelinho\n"
     ]
    }
   ],
   "source": [
    "print(texto[2:9])\n",
    "print(texto[13:21])\n",
    "print(texto[33:43])"
   ]
  },
  {
   "cell_type": "code",
   "execution_count": null,
   "metadata": {
    "colab": {
     "base_uri": "https://localhost:8080/"
    },
    "id": "f7Qrs9rjm-Sb",
    "outputId": "1278af9d-3869-4c22-deff-06aa34bb1ccb"
   },
   "outputs": [
    {
     "name": "stdout",
     "output_type": "stream",
     "text": [
      "galinha\n",
      "vizinho\n",
      "amarelinho\n"
     ]
    }
   ],
   "source": [
    "print(texto[-42:-35])\n",
    "print(texto[-31:-24])\n",
    "print(texto[-11:-1])"
   ]
  },
  {
   "cell_type": "markdown",
   "metadata": {
    "id": "vdlM2CxW8uYm"
   },
   "source": [
    "5. Você tem a seguinte cadeia de caracteres:\n",
    "```python\n",
    "negativo = 'Hoje está um dia ruim e chato.'\n",
    "```\n",
    "   Partindo dessa cadeia, crie uma nova cadeia mais positiva, onde\n",
    "   `'ruim'` foi substituido por `'excelente'` e `'chato'` foi\n",
    "   substituido por `'divertido'`.\n"
   ]
  },
  {
   "cell_type": "code",
   "execution_count": null,
   "metadata": {
    "id": "fB4tPrm4mBlu"
   },
   "outputs": [],
   "source": [
    "negativo = 'Hoje está um dia ruim e chato.'"
   ]
  },
  {
   "cell_type": "code",
   "execution_count": null,
   "metadata": {
    "colab": {
     "base_uri": "https://localhost:8080/",
     "height": 35
    },
    "id": "__xU5d6z8uYm",
    "outputId": "f6214461-9eaa-4dc9-e676-e78b73adc533"
   },
   "outputs": [
    {
     "data": {
      "application/vnd.google.colaboratory.intrinsic+json": {
       "type": "string"
      },
      "text/plain": [
       "'Hoje está um dia meia boca (excelente é forçar demais) e neutro.'"
      ]
     },
     "execution_count": 21,
     "metadata": {},
     "output_type": "execute_result"
    }
   ],
   "source": [
    "altera1 = negativo.replace('ruim','meia boca (excelente é forçar demais)')\n",
    "altera2 = altera1.replace('chato', 'neutro')\n",
    "altera2"
   ]
  },
  {
   "cell_type": "markdown",
   "metadata": {
    "id": "eUZGB5BS8uYn"
   },
   "source": [
    "6. A seguinte cadeia consiste de palavras separadas por espaços em\n",
    "   branco:\n",
    "```python\n",
    "palavras='carta   pedal  folha anjo  estaca'\n",
    "```\n",
    "   Usando `split` e `join`, crie uma nova cadeia com essas mesmas palavras, na mesma ordem, mas separadas por vírgula seguida de um espaço:\n",
    "```python\n",
    "'carta, pedal, folha, anjo, estaca'\n",
    "```"
   ]
  },
  {
   "cell_type": "code",
   "execution_count": null,
   "metadata": {
    "id": "ayhjCb0Q8uYn"
   },
   "outputs": [],
   "source": [
    "palavras = 'carta   pedal  folha anjo  estaca'"
   ]
  },
  {
   "cell_type": "code",
   "execution_count": null,
   "metadata": {
    "colab": {
     "base_uri": "https://localhost:8080/",
     "height": 35
    },
    "id": "SR7zaKl7mgvc",
    "outputId": "bb2e6ac9-6a2d-4388-bb58-3c3141ac9b56"
   },
   "outputs": [
    {
     "data": {
      "application/vnd.google.colaboratory.intrinsic+json": {
       "type": "string"
      },
      "text/plain": [
       "'carta pedal folha anjo estaca'"
      ]
     },
     "execution_count": 45,
     "metadata": {},
     "output_type": "execute_result"
    }
   ],
   "source": [
    "a = palavras.replace('  ', ' ')  # acho que está errado esse aqui \n",
    "b = a.replace('  ', ' ')\n",
    "b"
   ]
  },
  {
   "cell_type": "code",
   "execution_count": null,
   "metadata": {
    "colab": {
     "base_uri": "https://localhost:8080/",
     "height": 35
    },
    "id": "KEpW-WUwn0_D",
    "outputId": "466987b5-31f1-4067-c957-0ecaf8976286"
   },
   "outputs": [
    {
     "data": {
      "application/vnd.google.colaboratory.intrinsic+json": {
       "type": "string"
      },
      "text/plain": [
       "'carta, pedal, folha, anjo, estaca'"
      ]
     },
     "execution_count": 47,
     "metadata": {},
     "output_type": "execute_result"
    }
   ],
   "source": [
    "b.replace(' ', ', ')"
   ]
  },
  {
   "cell_type": "markdown",
   "metadata": {
    "id": "y1ahg-Sx8uYn"
   },
   "source": [
    "7. Você tem as seguintes variáveis:\n",
    "```python\n",
    "     a = 2\n",
    "     b = 3\n",
    "```\n",
    "   Crie um código que imprima uma mensagem como a seguinte: `O quadrado de a é 4, o de b é 9 e o de a+b é 25`. (Obviamente, os valores impressos devem se adaptar ao valor das variáveis `a` e `b`.)"
   ]
  },
  {
   "cell_type": "code",
   "execution_count": null,
   "metadata": {
    "id": "W6uMqNQx8uYn"
   },
   "outputs": [],
   "source": [
    "def quadrados(a,b):\n",
    "  quad_a = a ** 2\n",
    "  quad_b = b ** 2\n",
    "  print(f'O quadrado de a é {quad_a}, o de b é {quad_b} e o de a+b é {(a+b)**2}')"
   ]
  },
  {
   "cell_type": "code",
   "execution_count": null,
   "metadata": {
    "colab": {
     "base_uri": "https://localhost:8080/"
    },
    "id": "QLU7eo_toyui",
    "outputId": "41369632-e6c8-47af-a684-af4e2ee08025"
   },
   "outputs": [
    {
     "name": "stdout",
     "output_type": "stream",
     "text": [
      "O quadrado de a é 9, o de b é 16 e o de a+b é 49\n"
     ]
    }
   ],
   "source": [
    "quadrados(3,4)"
   ]
  }
 ],
 "metadata": {
  "colab": {
   "provenance": []
  },
  "kernelspec": {
   "display_name": "Python 3 (ipykernel)",
   "language": "python",
   "name": "python3"
  },
  "language_info": {
   "codemirror_mode": {
    "name": "ipython",
    "version": 3
   },
   "file_extension": ".py",
   "mimetype": "text/x-python",
   "name": "python",
   "nbconvert_exporter": "python",
   "pygments_lexer": "ipython3",
   "version": "3.10.6"
  },
  "name": "Aula02.ipynb"
 },
 "nbformat": 4,
 "nbformat_minor": 4
}
