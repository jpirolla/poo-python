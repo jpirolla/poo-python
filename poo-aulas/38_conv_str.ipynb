{
 "cells": [
  {
   "cell_type": "markdown",
   "metadata": {
    "id": "7ku11RNbs5Pz"
   },
   "source": [
    "# Conversão para cadeias de caracteres"
   ]
  },
  {
   "cell_type": "markdown",
   "metadata": {
    "id": "-reqPc_ds5P2"
   },
   "source": [
    "## 1. Representando objetos como cadeias de caracteres"
   ]
  },
  {
   "cell_type": "markdown",
   "metadata": {
    "id": "Q7yXjMycs5P4"
   },
   "source": [
    "Quando definimos uma classe, os objetos dessa classe recebem uma representação padrão para serem mostrados pelo interpretador Python ao usuário. Por exemplo:"
   ]
  },
  {
   "cell_type": "code",
   "execution_count": null,
   "metadata": {
    "id": "4smllF3Ws5P5"
   },
   "outputs": [],
   "source": [
    "class A:\n",
    "    def __init__(self, val):\n",
    "        self._val = val\n",
    "    def get(self):\n",
    "        return self._val"
   ]
  },
  {
   "cell_type": "code",
   "execution_count": null,
   "metadata": {
    "id": "WU-qAncSs5P8"
   },
   "outputs": [],
   "source": [
    "a = A(3)\n",
    "a"
   ]
  },
  {
   "cell_type": "markdown",
   "metadata": {
    "id": "Xtu6j_fqs5P8"
   },
   "source": [
    "Muitas vezes queremos mostrar o conteúdo de um objeto de uma forma bem definida e interessante para o usuário. Isso pode ser feito definindo o método `__repr__` (abreviação de *representation*), que deve fornecer uma `str` que representa o valor do objeto."
   ]
  },
  {
   "cell_type": "code",
   "execution_count": null,
   "metadata": {
    "id": "UtBorsNSs5P9"
   },
   "outputs": [],
   "source": [
    "class A:\n",
    "    def __init__(self, val):\n",
    "        self._val = val\n",
    "    def get(self):\n",
    "        return self._val\n",
    "    def __repr__(self):\n",
    "        return 'A(' + str(self._val) + ')'"
   ]
  },
  {
   "cell_type": "code",
   "execution_count": null,
   "metadata": {
    "id": "87c-_eNws5P-"
   },
   "outputs": [],
   "source": [
    "a = A(10)"
   ]
  },
  {
   "cell_type": "code",
   "execution_count": null,
   "metadata": {
    "id": "6_kkunYCs5P_"
   },
   "outputs": [],
   "source": [
    "a.get()"
   ]
  },
  {
   "cell_type": "markdown",
   "metadata": {
    "id": "HDd0IDwos5QA"
   },
   "source": [
    "Esse método será usado nas situações em que o objeto precisa ser mostrado para o usuário, ou precisa ser convertido para cadeia de caracteres."
   ]
  },
  {
   "cell_type": "code",
   "execution_count": null,
   "metadata": {
    "id": "MEJZD3YRs5QC"
   },
   "outputs": [],
   "source": [
    "a"
   ]
  },
  {
   "cell_type": "code",
   "execution_count": null,
   "metadata": {
    "id": "_GVgDN4Ss5QD"
   },
   "outputs": [],
   "source": [
    "print(a)"
   ]
  },
  {
   "cell_type": "code",
   "execution_count": null,
   "metadata": {
    "id": "WrOV09_Ls5QD"
   },
   "outputs": [],
   "source": [
    "'O valor é ' + str(a)"
   ]
  },
  {
   "cell_type": "code",
   "execution_count": null,
   "metadata": {
    "id": "XFuozV5Zs5QE"
   },
   "outputs": [],
   "source": [
    "a2 = A(2 + 5j)"
   ]
  },
  {
   "cell_type": "code",
   "execution_count": null,
   "metadata": {
    "id": "oxVlYmZss5QF"
   },
   "outputs": [],
   "source": [
    "a2"
   ]
  },
  {
   "cell_type": "code",
   "execution_count": null,
   "metadata": {
    "id": "9lJ2-lFbs5QF"
   },
   "outputs": [],
   "source": [
    "2 + 5j"
   ]
  },
  {
   "cell_type": "code",
   "execution_count": null,
   "metadata": {
    "id": "kEOnQSS2s5QF"
   },
   "outputs": [],
   "source": [
    "a3 = A(a2)"
   ]
  },
  {
   "cell_type": "code",
   "execution_count": null,
   "metadata": {
    "id": "QAUPe8k9s5QH"
   },
   "outputs": [],
   "source": [
    "a3"
   ]
  },
  {
   "cell_type": "markdown",
   "metadata": {
    "id": "Hp4ZOFUis5QH"
   },
   "source": [
    "## 2. Conversão para cadeais"
   ]
  },
  {
   "cell_type": "markdown",
   "metadata": {
    "id": "JDVJvg7Ps5QI"
   },
   "source": [
    "Como vimos, ao definir o método `__repr__` esse método é automaticamente usado quando precisamos converter o objeto para uma cadeia de caracteres. Em algumas situações, preferimos que a conversão para cadeia de caracteres seja distinta da forma normal de mostrar o objeto. Neste caso, definimos **adicionalmente** o método `__str__`:"
   ]
  },
  {
   "cell_type": "code",
   "execution_count": null,
   "metadata": {
    "id": "szzj2emEs5QI"
   },
   "outputs": [],
   "source": [
    "class B:\n",
    "    def __init__(self, val):\n",
    "        self._val = val\n",
    "    def get(self):\n",
    "        return self._val\n",
    "    def __repr__(self):\n",
    "        return 'B(' + str(self._val) + ')'\n",
    "    def __str__(self):\n",
    "        return str(self._val)"
   ]
  },
  {
   "cell_type": "code",
   "execution_count": null,
   "metadata": {
    "id": "k9xt17zws5QI"
   },
   "outputs": [],
   "source": [
    "b = B(12)"
   ]
  },
  {
   "cell_type": "code",
   "execution_count": null,
   "metadata": {
    "id": "VnWTlZ__s5QJ"
   },
   "outputs": [],
   "source": [
    "b"
   ]
  },
  {
   "cell_type": "code",
   "execution_count": null,
   "metadata": {
    "id": "S1jiLy17s5QJ"
   },
   "outputs": [],
   "source": [
    "print(b)"
   ]
  },
  {
   "cell_type": "code",
   "execution_count": null,
   "metadata": {
    "id": "7OFIhyoJs5QK"
   },
   "outputs": [],
   "source": [
    "'O valor é '+ str(b)"
   ]
  },
  {
   "cell_type": "code",
   "execution_count": null,
   "metadata": {
    "id": "tLPZYryNs5QK"
   },
   "outputs": [],
   "source": [
    "'Oi'"
   ]
  },
  {
   "cell_type": "code",
   "execution_count": null,
   "metadata": {
    "id": "zbOrUAAhs5QK"
   },
   "outputs": [],
   "source": [
    "print('Oi')"
   ]
  },
  {
   "cell_type": "markdown",
   "metadata": {
    "id": "1nKVbuFus5QL"
   },
   "source": [
    "Com isso conseguimos mais flexibilidade de fornecer uma representação informativa quando acessado no interpretador, mas termos uma representação mais simples ao converter para cadeia de caracteres."
   ]
  },
  {
   "cell_type": "markdown",
   "metadata": {
    "id": "bPgc891_s5QM"
   },
   "source": [
    "## 3. Exemplo"
   ]
  },
  {
   "cell_type": "code",
   "execution_count": null,
   "metadata": {
    "id": "_waLNVeFs5QM"
   },
   "outputs": [],
   "source": [
    "class Point:\n",
    "    def __init__(self, x, y):\n",
    "        self.x = x\n",
    "        self.y = y\n",
    "        \n",
    "    def __repr__(self):\n",
    "        return f'Point(x={self.x}, y={self.y})'\n",
    "    \n",
    "    def __str__(self):\n",
    "        return f'({self.x}, {self.y})'"
   ]
  },
  {
   "cell_type": "code",
   "execution_count": null,
   "metadata": {
    "id": "Tlin0PZHs5QM"
   },
   "outputs": [],
   "source": [
    "p = Point(2, 3)"
   ]
  },
  {
   "cell_type": "code",
   "execution_count": null,
   "metadata": {
    "id": "MVZ9_QWxs5QN"
   },
   "outputs": [],
   "source": [
    "p"
   ]
  },
  {
   "cell_type": "code",
   "execution_count": null,
   "metadata": {
    "id": "RwmePXWrs5QN"
   },
   "outputs": [],
   "source": [
    "print(f'A point at {p}')"
   ]
  },
  {
   "cell_type": "markdown",
   "metadata": {
    "id": "eNvD5Ie1s5QN",
    "tags": []
   },
   "source": [
    "# Exercício"
   ]
  },
  {
   "cell_type": "markdown",
   "metadata": {
    "id": "X3ltQWLGs5QN"
   },
   "source": [
    "A seguinte classe representa um intervalo na reta dos reais entre dois valores $a$ e $b$, sendo que o intervalo pode ser fechado ou aberto em cada um dos extremos, isto é, pode ser $(a, b)$, $[a, b)$, $(a, b]$ ou $[a, b]$, de acordo com os parâmetros na inicialização.\n",
    "\n",
    "Escreva um método para representação como cadeias de objetos dessa classe."
   ]
  },
  {
   "cell_type": "code",
   "execution_count": null,
   "metadata": {
    "id": "dJ-ZFi4Hs5QO"
   },
   "outputs": [],
   "source": [
    "# dar vários returns não é uma boa prática -> melhor guardar numa variável e dar um único return \n",
    "\n",
    "class Interval:\n",
    "    def __init__(self, a, b, *, leftclosed=False, rightclosed=False):\n",
    "        assert a <= b, 'Invalid interval.'\n",
    "        self._left = a\n",
    "        self._right = b\n",
    "        self._lclosed = leftclosed\n",
    "        self._rclosed = rightclosed\n",
    "        \n",
    "    def border(self):\n",
    "        return (self._left, self._right)\n",
    "    \n",
    "    def is_closed(self):\n",
    "        return (self._lclosed, self._rclosed)\n",
    "\n",
    "    def __repr__(self):\n",
    "        if self._lclosed == True and self._rclosed == True: \n",
    "          return f'[{self._left},{self._left}]'\n",
    "        elif self._lclosed == False and self._rclosed == False: \n",
    "          return f'({self._left},{self._left})'\n",
    "        elif self._lclosed == False and self._rclosed == True: \n",
    "          return f'({self._left},{self._left}]'\n",
    "        elif self._lclosed == True and self._rclosed == False:\n",
    "          return f'[{self._left},{self._left})'\n"
   ]
  },
  {
   "cell_type": "code",
   "execution_count": null,
   "metadata": {
    "id": "1LV6JOuUvtvT"
   },
   "outputs": [],
   "source": [
    "a = Interval(1, 2,leftclosed=False, rightclosed=False )"
   ]
  },
  {
   "cell_type": "code",
   "execution_count": null,
   "metadata": {
    "colab": {
     "base_uri": "https://localhost:8080/"
    },
    "id": "kuyzgj3Pv9X1",
    "outputId": "3e912a86-d859-4d99-90b1-d7871e8c337a"
   },
   "outputs": [
    {
     "data": {
      "text/plain": [
       "(1,1)"
      ]
     },
     "execution_count": 18,
     "metadata": {},
     "output_type": "execute_result"
    }
   ],
   "source": [
    "a"
   ]
  },
  {
   "cell_type": "code",
   "execution_count": null,
   "metadata": {
    "id": "MTInD_btv-KX"
   },
   "outputs": [],
   "source": [
    "class Interval:\n",
    "    def __init__(self, a, b, *, leftclosed=False, rightclosed=False):\n",
    "        assert a <= b, 'Invalid interval.'\n",
    "        self._left = a\n",
    "        self._right = b\n",
    "        self._lclosed = leftclosed\n",
    "        self._rclosed = rightclosed\n",
    "        \n",
    "    def border(self):\n",
    "        return (self._left, self._right)\n",
    "    \n",
    "    def is_closed(self):\n",
    "        return (self._lclosed, self._rclosed)\n",
    "\n",
    "    def __repr__(self):\n",
    "        left = None\n",
    "        right = None\n",
    "        if self._lclosed == True and self._rclosed == True: \n",
    "            left = '['\n",
    "            right = ']'\n",
    "        elif self._lclosed == False and self._rclosed == False: \n",
    "            left = '('\n",
    "            right = ')'\n",
    "        elif self._lclosed == False and self._rclosed == True: \n",
    "            left = '('\n",
    "            right = ']'\n",
    "        elif self._lclosed == True and self._rclosed == False:\n",
    "            left = '['\n",
    "            right = ')'\n",
    "        return f'{left}{self._right},{self._left}{right}'"
   ]
  },
  {
   "cell_type": "code",
   "execution_count": null,
   "metadata": {
    "id": "Yq-YXy6P4JoO"
   },
   "outputs": [],
   "source": [
    "a = Interval(1, 2,leftclosed=True, rightclosed=False )"
   ]
  },
  {
   "cell_type": "code",
   "execution_count": null,
   "metadata": {
    "colab": {
     "base_uri": "https://localhost:8080/"
    },
    "id": "sr_v4xIE4Lcm",
    "outputId": "ec6812d3-74e5-4acb-c748-7332a72c6a91"
   },
   "outputs": [
    {
     "data": {
      "text/plain": [
       "[2 1)"
      ]
     },
     "execution_count": 9,
     "metadata": {},
     "output_type": "execute_result"
    }
   ],
   "source": [
    "a"
   ]
  },
  {
   "cell_type": "code",
   "execution_count": null,
   "metadata": {
    "id": "SOf_SzPG4Pid"
   },
   "outputs": [],
   "source": [
    "class Interval:\n",
    "    def __init__(self, a, b, *, leftclosed=False, rightclosed=False, esquerda = None, direita = None):\n",
    "        assert a <= b, 'Invalid interval.'\n",
    "        self._left = a\n",
    "        self._right = b\n",
    "        self._lclosed = leftclosed\n",
    "        self._rclosed = rightclosed\n",
    "        self._esquerda = None\n",
    "        self._direita = None\n",
    "        \n",
    "    def border(self):\n",
    "        return (self._left, self._right)\n",
    "    \n",
    "    def is_closed(self):\n",
    "        return (self._lclosed, self._rclosed)\n",
    "\n",
    "    def __repr__(self):\n",
    "        if self._lclosed == True and self._rclosed == True: \n",
    "            self._esquerda = '['\n",
    "            self._direita = ']'\n",
    "        elif self._lclosed == False and self._rclosed == False: \n",
    "            self._esquerda = '('\n",
    "            self._direita = ')'\n",
    "        elif self._lclosed == False and self._rclosed == True: \n",
    "            self._esquerda = '('\n",
    "            self._direita = ']'\n",
    "        elif self._lclosed == True and self._rclosed == False:\n",
    "            self._esquerda = '['\n",
    "            self._direita = ')'\n",
    "        return f'{self._esquerda}{self._left},{self._right}{self._direita}'"
   ]
  },
  {
   "cell_type": "code",
   "execution_count": null,
   "metadata": {
    "id": "GR18s6fB5cHl"
   },
   "outputs": [],
   "source": [
    "b = Interval(3, 4,leftclosed=True, rightclosed=False )"
   ]
  },
  {
   "cell_type": "code",
   "execution_count": null,
   "metadata": {
    "colab": {
     "base_uri": "https://localhost:8080/"
    },
    "id": "-BBhuJhB5usz",
    "outputId": "fe4fd6ff-131c-4f62-81bf-d56c41a9d9bf"
   },
   "outputs": [
    {
     "data": {
      "text/plain": [
       "[3,4)"
      ]
     },
     "execution_count": 17,
     "metadata": {},
     "output_type": "execute_result"
    }
   ],
   "source": [
    "b"
   ]
  }
 ],
 "metadata": {
  "colab": {
   "provenance": []
  },
  "kernelspec": {
   "display_name": "Python 3 (ipykernel)",
   "language": "python",
   "name": "python3"
  },
  "language_info": {
   "codemirror_mode": {
    "name": "ipython",
    "version": 3
   },
   "file_extension": ".py",
   "mimetype": "text/x-python",
   "name": "python",
   "nbconvert_exporter": "python",
   "pygments_lexer": "ipython3",
   "version": "3.10.9"
  }
 },
 "nbformat": 4,
 "nbformat_minor": 4
}
