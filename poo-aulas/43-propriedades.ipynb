{
 "cells": [
  {
   "cell_type": "markdown",
   "metadata": {},
   "source": [
    "# Properties"
   ]
  },
  {
   "cell_type": "markdown",
   "metadata": {},
   "source": [
    "## 1. Apresentando o problema"
   ]
  },
  {
   "cell_type": "markdown",
   "metadata": {},
   "source": [
    "Uma das características principais de orientação a objetos é que a representação interna de dados de um tipo fica *encapsulada* através do uso dos métodos (operações) associados com esse tipo. A vantagem é que características do tipo podem ser calculadas quando necessárias (ao invés de terem seu valor armazenado em memória), ou pode-se realizar a mudança de estado do objeto de forma controlada (por exemplo, verificando se novos valores fornecidos são apropriados).\n",
    "\n",
    "Para mostrar essa vantagem, vamos supor que você precise de uma classe cujos objetos irão armazenar valores inteiros positivos. Uma forma simples de fazer isso, sem encapsulação, seria como na classe abaixo."
   ]
  },
  {
   "cell_type": "code",
   "execution_count": null,
   "metadata": {},
   "outputs": [],
   "source": [
    "class BadPositive:\n",
    "    def __init__(self, val):\n",
    "        if val <= 0:\n",
    "            raise ValueError('Value must be positive')\n",
    "        self.value = val"
   ]
  },
  {
   "cell_type": "markdown",
   "metadata": {},
   "source": [
    "Agora podemos criar um objeto com um valor inicial desejado."
   ]
  },
  {
   "cell_type": "code",
   "execution_count": null,
   "metadata": {},
   "outputs": [],
   "source": [
    "bp = BadPositive(3)"
   ]
  },
  {
   "cell_type": "markdown",
   "metadata": {},
   "source": [
    "E é bastante simples de ler ou alterar o valor associado:"
   ]
  },
  {
   "cell_type": "code",
   "execution_count": null,
   "metadata": {},
   "outputs": [],
   "source": [
    "bp.value"
   ]
  },
  {
   "cell_type": "code",
   "execution_count": null,
   "metadata": {},
   "outputs": [],
   "source": [
    "bp.value += 3"
   ]
  },
  {
   "cell_type": "code",
   "execution_count": null,
   "metadata": {},
   "outputs": [],
   "source": [
    "bp.value"
   ]
  },
  {
   "cell_type": "markdown",
   "metadata": {},
   "source": [
    "No entanto, essa implementação permite que o objeto seja alterado para um valor inválido:"
   ]
  },
  {
   "cell_type": "code",
   "execution_count": null,
   "metadata": {},
   "outputs": [],
   "source": [
    "bp.value = -2"
   ]
  },
  {
   "cell_type": "code",
   "execution_count": null,
   "metadata": {},
   "outputs": [],
   "source": [
    "bp.value"
   ]
  },
  {
   "cell_type": "markdown",
   "metadata": {},
   "source": [
    "Para resolver esse problema, devemos usar **encapsulação**, fornecendo métodos para a leitura e alteração do valor:"
   ]
  },
  {
   "cell_type": "code",
   "execution_count": null,
   "metadata": {},
   "outputs": [],
   "source": [
    "class PositiveV1:\n",
    "    def __init__(self, ini):\n",
    "        self.set_value(ini)\n",
    "\n",
    "    def value(self):\n",
    "        return self._val\n",
    "        \n",
    "    def set_value(self, x):\n",
    "        if x <= 0:\n",
    "            raise ValueError('Value must be positive')\n",
    "        self._val = x"
   ]
  },
  {
   "cell_type": "markdown",
   "metadata": {},
   "source": [
    "Agora sabemos que o objeto nunca terá valores negativos ou zero."
   ]
  },
  {
   "cell_type": "code",
   "execution_count": null,
   "metadata": {},
   "outputs": [],
   "source": [
    "pv = PositiveV1(3)"
   ]
  },
  {
   "cell_type": "code",
   "execution_count": null,
   "metadata": {},
   "outputs": [],
   "source": [
    "pv.value()"
   ]
  },
  {
   "cell_type": "code",
   "execution_count": null,
   "metadata": {},
   "outputs": [],
   "source": [
    "pv.set_value(5)"
   ]
  },
  {
   "cell_type": "code",
   "execution_count": null,
   "metadata": {},
   "outputs": [],
   "source": [
    "pv.value()"
   ]
  },
  {
   "cell_type": "code",
   "execution_count": null,
   "metadata": {},
   "outputs": [],
   "source": [
    "pv.set_value(-2)"
   ]
  },
  {
   "cell_type": "markdown",
   "metadata": {},
   "source": [
    "Infelizmente, o uso do objeto fica desagradável:"
   ]
  },
  {
   "cell_type": "code",
   "execution_count": null,
   "metadata": {},
   "outputs": [],
   "source": [
    "pv.set_value(pv.value() + 3) # pv += 3\n",
    "pv.value()"
   ]
  },
  {
   "cell_type": "markdown",
   "metadata": {},
   "source": [
    "## 2. Definindo propriedades"
   ]
  },
  {
   "cell_type": "markdown",
   "metadata": {},
   "source": [
    "Para evitar esse tipo de problema, Python permite que você implemente métodos para acessar o objeto e os use como se você estivesse acessando diretamente um atributo do objeto:"
   ]
  },
  {
   "cell_type": "code",
   "execution_count": null,
   "metadata": {},
   "outputs": [],
   "source": [
    "class Positive:\n",
    "    def __init__(self, ini):\n",
    "        self.set_value(ini)\n",
    "        \n",
    "    def get_value(self):\n",
    "        return self._val\n",
    "    \n",
    "    def set_value(self, x):\n",
    "        if x <= 0:\n",
    "            raise ValueError('Value must be positive')\n",
    "        self._val = x\n",
    "    \n",
    "    value = property(get_value, set_value, None, 'Value (always positive)')"
   ]
  },
  {
   "cell_type": "markdown",
   "metadata": {},
   "source": [
    "A parte interessante é o código da última linha da classe, que cria um atributo denominado `value` que, quando lido, provoca uma chamada para o método `get_value` e quando alterado provoca uma chama para o método `set_value`. O `None` é um parâmetro onde se pode colocar uma função a ser chamada quando se faz `del` no atributo criado (neste caso, como colocamos `None` indicamos que nenhuam função precisa ser chamada ao fazer `del`) e o último parâmetro é uma *docstringc* para o atributo."
   ]
  },
  {
   "cell_type": "code",
   "execution_count": null,
   "metadata": {},
   "outputs": [],
   "source": [
    "p = Positive(4)"
   ]
  },
  {
   "cell_type": "code",
   "execution_count": null,
   "metadata": {},
   "outputs": [],
   "source": [
    "p.value"
   ]
  },
  {
   "cell_type": "code",
   "execution_count": null,
   "metadata": {},
   "outputs": [],
   "source": [
    "p.value = 5"
   ]
  },
  {
   "cell_type": "code",
   "execution_count": null,
   "metadata": {},
   "outputs": [],
   "source": [
    "p.value"
   ]
  },
  {
   "cell_type": "code",
   "execution_count": null,
   "metadata": {},
   "outputs": [],
   "source": [
    "p.value = -1"
   ]
  },
  {
   "cell_type": "code",
   "execution_count": null,
   "metadata": {},
   "outputs": [],
   "source": [
    "p.value?"
   ]
  },
  {
   "cell_type": "markdown",
   "metadata": {},
   "source": [
    "Isso inclusive funciona quando o acesso é feito indiretamente por outros métodos, como pelo método `__iadd__` no código abaixo."
   ]
  },
  {
   "cell_type": "code",
   "execution_count": null,
   "metadata": {},
   "outputs": [],
   "source": [
    "p.value"
   ]
  },
  {
   "cell_type": "code",
   "execution_count": null,
   "metadata": {},
   "outputs": [],
   "source": [
    "p.value -= 4"
   ]
  },
  {
   "cell_type": "code",
   "execution_count": null,
   "metadata": {},
   "outputs": [],
   "source": [
    "p.value += -2"
   ]
  },
  {
   "cell_type": "markdown",
   "metadata": {},
   "source": [
    "O uso de propriedades permite manter simultaneamente a vantagem da forma simples de acesso e do controle nesse acesso.\n",
    "\n",
    "Vejamos agora uma versão completa."
   ]
  },
  {
   "cell_type": "code",
   "execution_count": null,
   "metadata": {},
   "outputs": [],
   "source": [
    "class Positive:\n",
    "    def __init__(self, ini):\n",
    "        self.set_value(ini)\n",
    "        \n",
    "    def get_value(self):\n",
    "        return self._val\n",
    "    \n",
    "    def set_value(self, x):\n",
    "        if x <= 0:\n",
    "            raise ValueError('Value must be positive')\n",
    "        self._val = x\n",
    "        \n",
    "    def no_del(self):\n",
    "        print(\"I'm sorry, Dave. I'm afraid I can't do that.\") \n",
    "    \n",
    "    value = property(get_value, set_value, no_del, 'Value of the object (always positive)')"
   ]
  },
  {
   "cell_type": "code",
   "execution_count": null,
   "metadata": {},
   "outputs": [],
   "source": [
    "p = Positive(10)"
   ]
  },
  {
   "cell_type": "code",
   "execution_count": null,
   "metadata": {},
   "outputs": [],
   "source": [
    "p.value"
   ]
  },
  {
   "cell_type": "code",
   "execution_count": null,
   "metadata": {},
   "outputs": [],
   "source": [
    "p.value -= 2"
   ]
  },
  {
   "cell_type": "code",
   "execution_count": null,
   "metadata": {},
   "outputs": [],
   "source": [
    "p.value"
   ]
  },
  {
   "cell_type": "code",
   "execution_count": null,
   "metadata": {},
   "outputs": [],
   "source": [
    "p.value?"
   ]
  },
  {
   "cell_type": "code",
   "execution_count": null,
   "metadata": {},
   "outputs": [],
   "source": [
    "del p.value"
   ]
  },
  {
   "cell_type": "code",
   "execution_count": null,
   "metadata": {},
   "outputs": [],
   "source": [
    "p.value"
   ]
  },
  {
   "cell_type": "markdown",
   "metadata": {},
   "source": [
    "# Exercício"
   ]
  },
  {
   "cell_type": "markdown",
   "metadata": {},
   "source": [
    "No código abaixo, definimos uma classe para representar números na faixa $[0, 1]$, onde números fora dessa faixa são alocados ciclicamente nessa faixa (os detalhes não são importantes). Como está, o código usa métodos (`get_value` e `set_value`) para acessar o valor. Re-escreva o código da classe e do exemplo de uso para usar `property`.\n",
    "```python\n",
    "class Cyclic:\n",
    "    def __init__(self, x):\n",
    "        self.set_value(x)\n",
    "    \n",
    "    def get_value(self):\n",
    "        return self._val\n",
    "    \n",
    "    def set_value(self, x):\n",
    "        self._val = x % 1.0\n",
    "a = Cyclic(3.1)\n",
    "b = Cyclic(-.123)\n",
    "print(a.get_value(), b.get_value())\n",
    "a.set_value(1.6)\n",
    "b.set_value(-123.78)\n",
    "print(a.get_value(), b.get_value())\n",
    "```"
   ]
  },
  {
   "cell_type": "code",
   "execution_count": null,
   "metadata": {},
   "outputs": [],
   "source": []
  }
 ],
 "metadata": {
  "kernelspec": {
   "display_name": "Python 3 (ipykernel)",
   "language": "python",
   "name": "python3"
  },
  "language_info": {
   "codemirror_mode": {
    "name": "ipython",
    "version": 3
   },
   "file_extension": ".py",
   "mimetype": "text/x-python",
   "name": "python",
   "nbconvert_exporter": "python",
   "pygments_lexer": "ipython3",
   "version": "3.11.2"
  }
 },
 "nbformat": 4,
 "nbformat_minor": 4
}
