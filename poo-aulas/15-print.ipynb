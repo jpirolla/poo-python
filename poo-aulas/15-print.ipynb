{
 "cells": [
  {
   "cell_type": "markdown",
   "metadata": {},
   "source": [
    "# Mais sobre a função `print` e arquivos"
   ]
  },
  {
   "cell_type": "markdown",
   "metadata": {
    "ein.tags": [
     "worksheet-0"
    ]
   },
   "source": [
    "Ao fazer um print de um objeto ele é convertido para cadeia de caracteres (por um método próprio do tipo do objeto; veremos mais detalhes no futuro) e essa cadeia é mostrada na tela."
   ]
  },
  {
   "cell_type": "code",
   "execution_count": null,
   "metadata": {
    "autoscroll": "json-false",
    "collapsed": false,
    "ein.tags": [
     "worksheet-0"
    ],
    "jupyter": {
     "outputs_hidden": false
    }
   },
   "outputs": [],
   "source": [
    "print('oi')"
   ]
  },
  {
   "cell_type": "code",
   "execution_count": null,
   "metadata": {
    "autoscroll": "json-false",
    "collapsed": false,
    "ein.tags": [
     "worksheet-0"
    ],
    "jupyter": {
     "outputs_hidden": false
    }
   },
   "outputs": [],
   "source": [
    "print(3)"
   ]
  },
  {
   "cell_type": "code",
   "execution_count": null,
   "metadata": {
    "autoscroll": "json-false",
    "collapsed": false,
    "ein.tags": [
     "worksheet-0"
    ],
    "jupyter": {
     "outputs_hidden": false
    }
   },
   "outputs": [],
   "source": [
    "print([1, 2, 3])"
   ]
  },
  {
   "cell_type": "markdown",
   "metadata": {
    "ein.tags": [
     "worksheet-0"
    ]
   },
   "source": [
    "É possível imprimir vários objetos em um mesmo print (separados por vírgula) e será inserido um caracter de espaço em branco entre cada objeto."
   ]
  },
  {
   "cell_type": "code",
   "execution_count": null,
   "metadata": {
    "autoscroll": "json-false",
    "collapsed": false,
    "ein.tags": [
     "worksheet-0"
    ],
    "jupyter": {
     "outputs_hidden": false
    }
   },
   "outputs": [],
   "source": [
    "print('A soma de 1 com 1 vale', 1+1)"
   ]
  },
  {
   "cell_type": "markdown",
   "metadata": {
    "ein.tags": [
     "worksheet-0"
    ]
   },
   "source": [
    "No final de cada print é normalemente inserido um caracter de mudança de linha."
   ]
  },
  {
   "cell_type": "code",
   "execution_count": null,
   "metadata": {
    "autoscroll": "json-false",
    "collapsed": false,
    "ein.tags": [
     "worksheet-0"
    ],
    "jupyter": {
     "outputs_hidden": false
    }
   },
   "outputs": [],
   "source": [
    "print('Uma')\n",
    "print('Outra')"
   ]
  },
  {
   "cell_type": "markdown",
   "metadata": {
    "ein.tags": [
     "worksheet-0"
    ]
   },
   "source": [
    "Podemos controlar o que é colocado após a impressão dos objetos usando o parâmetro 'end', que pode especificar qualquer cadeia de caracteres."
   ]
  },
  {
   "cell_type": "code",
   "execution_count": null,
   "metadata": {
    "autoscroll": "json-false",
    "collapsed": false,
    "ein.tags": [
     "worksheet-0"
    ],
    "jupyter": {
     "outputs_hidden": false
    }
   },
   "outputs": [],
   "source": [
    "print('Aguarde...', end='', flush=True)\n",
    "i = 0\n",
    "while i < 1<<23: i += 1\n",
    "print('Pronto')"
   ]
  },
  {
   "cell_type": "markdown",
   "metadata": {
    "ein.tags": [
     "worksheet-0"
    ]
   },
   "source": [
    "No código acima, o `flush` foi inserido para que o 'Aguarde...' seja mostrado ao usuário antes do loop demorado começar. O `flush` força a impressão de todos os caracteres que estão no buffer de impressão. Experimente tirar o `flush`  e executar novamente, para ver a diferença.\n",
    "\n",
    "Podemos também mudar o caracter inserido entre cada par de objetos, com especificação do parâmetro `sep`."
   ]
  },
  {
   "cell_type": "code",
   "execution_count": null,
   "metadata": {
    "autoscroll": "json-false",
    "collapsed": false,
    "ein.tags": [
     "worksheet-0"
    ],
    "jupyter": {
     "outputs_hidden": false
    }
   },
   "outputs": [],
   "source": [
    "dia = 25\n",
    "mes = 1\n",
    "ano = 2021\n",
    "print(dia, mes, ano, sep='/')"
   ]
  },
  {
   "cell_type": "markdown",
   "metadata": {},
   "source": [
    "Apesar de que o código anterior ficaria melhor da seguinte forma:"
   ]
  },
  {
   "cell_type": "code",
   "execution_count": null,
   "metadata": {},
   "outputs": [],
   "source": [
    "print(f'{dia}/{mes:02}/{ano}')"
   ]
  },
  {
   "cell_type": "markdown",
   "metadata": {},
   "source": [
    "Outra opção do `print` (que já usamos em um exemplo anterior) é a `file`, que indica que a impressão da cadeia resultante deve ser feita em um arquivo (que deve ter sido aberto para escrita), ao invés de na tela."
   ]
  },
  {
   "cell_type": "code",
   "execution_count": null,
   "metadata": {},
   "outputs": [],
   "source": [
    "out = open('meuarquivo.txt', 'w', encoding='utf-8')\n",
    "palavras = ['primeiro', 'segundo', 'terceiro', 'quarto']\n",
    "for i, p in enumerate(palavras):\n",
    "    print(f'{i:02}: {p}', file=out)\n",
    "out.close()"
   ]
  },
  {
   "cell_type": "markdown",
   "metadata": {},
   "source": [
    "## A estrutura `with`"
   ]
  },
  {
   "cell_type": "markdown",
   "metadata": {},
   "source": [
    "Quando lidamos com arquivos, precisamos\n",
    "1. Abrir o arquivo.\n",
    "2. Fazer as operações.\n",
    "3. Fechar o arquivo.\n",
    "\n",
    "Não podemos fazer as operações antes de abrir o arquivo, mas também não devemos nos esquecer de fechar o arquivo depois de usá-lo. Isso parece simples o suficiente, mas pode ser mais complicado em certos códigos, principalmente quando podem ocorrer exceções entre a abertura e o fechamento. Por exemplo, numa função:\n",
    "```python\n",
    "def read_value(infilename):\n",
    "    f = open(infilename, 'r', encoding='utf-8')\n",
    "    # Faz dizersos cálculos complexos com os dados lidos e guarda\n",
    "    # na lista data.\n",
    "    f.close()\n",
    "    return data\n",
    "```\n",
    "se ocorrer algum erro nos cálculos que ficam entre o `open` e o `close`, o código será interrompido sem que o `close` seja realizado.\n",
    "\n",
    "Para previnir esse tipo de problema, o Python tem o conceito de **gerenciamento de contextos** com a estrutura `with`. Mais adiante estudaremos como isso funciona no caso geral. Por enquanto, basta saber que podemos usar `with` para garantir que o `close` será executado sobre o arquivo em qualquer situação (mesmo se o código for interrompido por um erro). A forma de fazer isso é a seguinte:\n",
    "```python\n",
    "def read_value(infilename):\n",
    "    with open(infilename, 'r', encoding='utf-8') as f:\n",
    "        # Faz dizersos cálculos complexos com os dados lidos e guarda\n",
    "        # na lista data.\n",
    "    return data\n",
    "```\n",
    "\n",
    "O comando aceita também vários arquivos. Por exemplo, se vamos ler dados de um arquivo, fazer alguma alteração no que foi lido e em seguida escrever em outro arquivo, podemos fazer:\n",
    "```python\n",
    "with open(inname) as infile, open(outname, 'w') as outfile:\n",
    "    for line in infile.readlines():\n",
    "        # Faz algum processamento em line e gera newline\n",
    "        print(newline, file=outfile)\n",
    "```"
   ]
  },
  {
   "cell_type": "markdown",
   "metadata": {
    "tags": []
   },
   "source": [
    "# Exercício"
   ]
  },
  {
   "cell_type": "markdown",
   "metadata": {},
   "source": [
    "Você tem a seguinte lista de listas:\n",
    "```python\n",
    "dados = [[1, 2, 3, 4, 5], [10, 20, 30, 40], [100, 200, 300]]\n",
    "```\n",
    "Escreva um código para imprimir esses valores no seguinte formato: todos os valores são escritos na mesma linha da saída, com o caracter | circundado por\n",
    "espaços em branco usado para separar as diferentes listas, e o caracter , seguido de um espaço em branco usado para separar os valores das listas, da seguinte\n",
    "forma:\n",
    "```\n",
    "1, 2, 3, 4, 5 | 10, 20, 30, 40 | 100, 200, 300\n",
    "```"
   ]
  },
  {
   "cell_type": "code",
   "execution_count": null,
   "metadata": {},
   "outputs": [],
   "source": []
  }
 ],
 "metadata": {
  "kernelspec": {
   "display_name": "Python 3 (ipykernel)",
   "language": "python",
   "name": "python3"
  },
  "language_info": {
   "codemirror_mode": {
    "name": "ipython",
    "version": 3
   },
   "file_extension": ".py",
   "mimetype": "text/x-python",
   "name": "python",
   "nbconvert_exporter": "python",
   "pygments_lexer": "ipython3",
   "version": "3.10.7"
  }
 },
 "nbformat": 4,
 "nbformat_minor": 4
}
