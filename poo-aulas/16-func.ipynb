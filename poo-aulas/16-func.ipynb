{
 "cells": [
  {
   "cell_type": "markdown",
   "metadata": {
    "ein.tags": [
     "worksheet-0"
    ]
   },
   "source": [
    "# Funções"
   ]
  },
  {
   "cell_type": "markdown",
   "metadata": {},
   "source": [
    "## 1. Definindo funções"
   ]
  },
  {
   "cell_type": "markdown",
   "metadata": {
    "ein.tags": [
     "worksheet-0"
    ]
   },
   "source": [
    "Funções são definidas através do comando `def` seguido do nome da função e a lista de parâmetros.  Os comandos a serem executados pela função são, como sempre em Python, especificados por um \"dois pontos\" seguido de um bloco indentado."
   ]
  },
  {
   "cell_type": "code",
   "execution_count": 1,
   "metadata": {
    "autoscroll": "json-false",
    "ein.tags": [
     "worksheet-0"
    ],
    "jupyter": {
     "outputs_hidden": false
    }
   },
   "outputs": [],
   "source": [
    "def greeting():\n",
    "    print('Hi')"
   ]
  },
  {
   "cell_type": "code",
   "execution_count": 2,
   "metadata": {
    "autoscroll": "json-false",
    "ein.tags": [
     "worksheet-0"
    ],
    "jupyter": {
     "outputs_hidden": false
    }
   },
   "outputs": [
    {
     "name": "stdout",
     "output_type": "stream",
     "text": [
      "Hi\n"
     ]
    }
   ],
   "source": [
    "greeting()"
   ]
  },
  {
   "cell_type": "markdown",
   "metadata": {
    "ein.tags": [
     "worksheet-0"
    ]
   },
   "source": [
    "Para usar parâmetros na função, basta indicar o nome das variáveis dentro dos parêntesis (separadas por vírgulas).\n",
    "\n",
    "Como os parâmetros são variáveis, não é necessário declarar tipo, pois elas apenas guardarão uma **referência** para o objeto passado na chamada."
   ]
  },
  {
   "cell_type": "code",
   "execution_count": 3,
   "metadata": {
    "autoscroll": "json-false",
    "ein.tags": [
     "worksheet-0"
    ],
    "jupyter": {
     "outputs_hidden": false
    }
   },
   "outputs": [],
   "source": [
    "def changing_greeting(mens):\n",
    "    print(mens)"
   ]
  },
  {
   "cell_type": "code",
   "execution_count": 4,
   "metadata": {
    "autoscroll": "json-false",
    "ein.tags": [
     "worksheet-0"
    ],
    "jupyter": {
     "outputs_hidden": false
    }
   },
   "outputs": [
    {
     "name": "stdout",
     "output_type": "stream",
     "text": [
      "Hello\n"
     ]
    }
   ],
   "source": [
    "a = 'Hello'\n",
    "changing_greeting(a)"
   ]
  },
  {
   "cell_type": "code",
   "execution_count": 5,
   "metadata": {
    "autoscroll": "json-false",
    "ein.tags": [
     "worksheet-0"
    ]
   },
   "outputs": [
    {
     "name": "stdout",
     "output_type": "stream",
     "text": [
      "Bom dia!\n"
     ]
    }
   ],
   "source": [
    "changing_greeting('Bom dia!')"
   ]
  },
  {
   "cell_type": "markdown",
   "metadata": {
    "ein.tags": [
     "worksheet-0"
    ]
   },
   "source": [
    "Como não especificamos o tipo, um objeto de qualquer tipo pode ser passado para a função. Se a função não souber o que fazer com esse tipo de objetos, haverá um erro durante a execução."
   ]
  },
  {
   "cell_type": "code",
   "execution_count": 6,
   "metadata": {
    "autoscroll": "json-false",
    "ein.tags": [
     "worksheet-0"
    ],
    "jupyter": {
     "outputs_hidden": false
    }
   },
   "outputs": [
    {
     "name": "stdout",
     "output_type": "stream",
     "text": [
      "32\n"
     ]
    }
   ],
   "source": [
    "changing_greeting(2**5)"
   ]
  },
  {
   "cell_type": "markdown",
   "metadata": {},
   "source": [
    "## 2. Funções são genéricas!"
   ]
  },
  {
   "cell_type": "markdown",
   "metadata": {
    "ein.tags": [
     "worksheet-0"
    ]
   },
   "source": [
    "Vejamos agora uma função com dois parâmetros e que retorna um valor."
   ]
  },
  {
   "cell_type": "code",
   "execution_count": null,
   "metadata": {
    "autoscroll": "json-false",
    "ein.tags": [
     "worksheet-0"
    ],
    "jupyter": {
     "outputs_hidden": false
    }
   },
   "outputs": [],
   "source": [
    "def mult(a, b):\n",
    "    return a * b"
   ]
  },
  {
   "cell_type": "markdown",
   "metadata": {
    "ein.tags": [
     "worksheet-0"
    ]
   },
   "source": [
    "Note que a única operação feita na função é o produto `*`. Isso significa que qualquer tipo que tiver operador `*` definido pode ser usado com a função `mult`. "
   ]
  },
  {
   "cell_type": "code",
   "execution_count": null,
   "metadata": {
    "autoscroll": "json-false",
    "ein.tags": [
     "worksheet-0"
    ],
    "jupyter": {
     "outputs_hidden": false
    }
   },
   "outputs": [],
   "source": [
    "mult(2, 3)"
   ]
  },
  {
   "cell_type": "code",
   "execution_count": null,
   "metadata": {
    "autoscroll": "json-false",
    "ein.tags": [
     "worksheet-0"
    ],
    "jupyter": {
     "outputs_hidden": false
    }
   },
   "outputs": [],
   "source": [
    "mult(2.3, 4.5)"
   ]
  },
  {
   "cell_type": "code",
   "execution_count": null,
   "metadata": {
    "autoscroll": "json-false",
    "ein.tags": [
     "worksheet-0"
    ],
    "jupyter": {
     "outputs_hidden": false
    }
   },
   "outputs": [],
   "source": [
    "mult(2+4j, 1+5j)"
   ]
  },
  {
   "cell_type": "code",
   "execution_count": null,
   "metadata": {
    "autoscroll": "json-false",
    "ein.tags": [
     "worksheet-0"
    ],
    "jupyter": {
     "outputs_hidden": false
    }
   },
   "outputs": [],
   "source": [
    "mult(2, 4.5)"
   ]
  },
  {
   "cell_type": "code",
   "execution_count": null,
   "metadata": {
    "autoscroll": "json-false",
    "ein.tags": [
     "worksheet-0"
    ],
    "jupyter": {
     "outputs_hidden": false
    }
   },
   "outputs": [],
   "source": [
    "mult('yeah', 3)"
   ]
  },
  {
   "cell_type": "markdown",
   "metadata": {
    "ein.tags": [
     "worksheet-0"
    ]
   },
   "source": [
    "Se tentarmos fazer uma operação não definida, ocorre um erro em tempo de execução."
   ]
  },
  {
   "cell_type": "code",
   "execution_count": null,
   "metadata": {
    "autoscroll": "json-false",
    "ein.tags": [
     "worksheet-0"
    ],
    "jupyter": {
     "outputs_hidden": false
    }
   },
   "outputs": [],
   "source": [
    "mult('yeah', 'oi')"
   ]
  },
  {
   "cell_type": "markdown",
   "metadata": {
    "ein.tags": [
     "worksheet-0"
    ]
   },
   "source": [
    "Uma função que pode se aplicar a diversos tipos de dados é denominada uma \"função genérica\".  Em Python, todas as funções são em princípio genéricas (a não ser que usem operações definidas apenas para um tipo de dados ou que sejam explicitamente limitadas a um tipo).\n",
    "\n",
    "Vejamos mais um exemplo de função genérica."
   ]
  },
  {
   "cell_type": "code",
   "execution_count": null,
   "metadata": {
    "autoscroll": "json-false",
    "ein.tags": [
     "worksheet-0"
    ],
    "jupyter": {
     "outputs_hidden": false
    }
   },
   "outputs": [],
   "source": [
    "def intersect(s1, s2):\n",
    "    res = []\n",
    "    for x in s1:\n",
    "        if x in s2:\n",
    "            res.append(x)\n",
    "    return res"
   ]
  },
  {
   "cell_type": "markdown",
   "metadata": {
    "ein.tags": [
     "worksheet-0"
    ]
   },
   "source": [
    "Esta função pode ser aplicada a quaisquer tipos, desde que o objeto referenciado por `s1` aceite ter seus elementos percorridos (pelo `for`) e o objeto referenciado por `s2` aceite o operador `in` para verificar se um objeto está contido nele.\n",
    "\n",
    "Isso se aplica, por exemplo, a listas."
   ]
  },
  {
   "cell_type": "code",
   "execution_count": null,
   "metadata": {
    "autoscroll": "json-false",
    "ein.tags": [
     "worksheet-0"
    ],
    "jupyter": {
     "outputs_hidden": false
    }
   },
   "outputs": [],
   "source": [
    "intersect([1, 2, 3], [1, 2, 4])"
   ]
  },
  {
   "cell_type": "markdown",
   "metadata": {
    "ein.tags": [
     "worksheet-0"
    ]
   },
   "source": [
    "E também a cadeias de caracteres."
   ]
  },
  {
   "cell_type": "code",
   "execution_count": null,
   "metadata": {
    "autoscroll": "json-false",
    "ein.tags": [
     "worksheet-0"
    ],
    "jupyter": {
     "outputs_hidden": false
    }
   },
   "outputs": [],
   "source": [
    "intersect('João', 'José')"
   ]
  },
  {
   "cell_type": "markdown",
   "metadata": {
    "ein.tags": [
     "worksheet-0"
    ]
   },
   "source": [
    "E também a tuplas."
   ]
  },
  {
   "cell_type": "code",
   "execution_count": null,
   "metadata": {
    "autoscroll": "json-false",
    "ein.tags": [
     "worksheet-0"
    ],
    "jupyter": {
     "outputs_hidden": false
    }
   },
   "outputs": [],
   "source": [
    "intersect([1,2,3,4], (4,3,1))"
   ]
  },
  {
   "cell_type": "markdown",
   "metadata": {},
   "source": [
    "## 3. A definição de função é um comando executável"
   ]
  },
  {
   "cell_type": "markdown",
   "metadata": {
    "ein.tags": [
     "worksheet-0"
    ]
   },
   "source": [
    "Com tudo em Python, a definição de função é um comando executável. Isso significa que podemos definir uma função em qualquer parte do código. Inclusive dentro de outras estruturas de controle."
   ]
  },
  {
   "cell_type": "code",
   "execution_count": null,
   "metadata": {
    "autoscroll": "json-false",
    "ein.tags": [
     "worksheet-0"
    ],
    "jupyter": {
     "outputs_hidden": false
    }
   },
   "outputs": [],
   "source": [
    "a = 0\n",
    "if a == 0:\n",
    "    def f():\n",
    "        print('Primeiro caso')\n",
    "else:\n",
    "    def f():\n",
    "        print('Segundo caso')\n"
   ]
  },
  {
   "cell_type": "code",
   "execution_count": null,
   "metadata": {
    "autoscroll": "json-false",
    "ein.tags": [
     "worksheet-0"
    ],
    "jupyter": {
     "outputs_hidden": false
    }
   },
   "outputs": [],
   "source": [
    "f() # Mude o valor de a para diferente de zero e execute novamente"
   ]
  },
  {
   "cell_type": "markdown",
   "metadata": {
    "ein.tags": [
     "worksheet-0"
    ]
   },
   "source": [
    "## 4. Exemplo: Crivo de Eratóstenes"
   ]
  },
  {
   "cell_type": "markdown",
   "metadata": {
    "ein.tags": [
     "worksheet-0"
    ]
   },
   "source": [
    "Vamos agora definir uma função que calcula todos os número primos menores ou iguais a um inteiro `n` (maior ou igual a 2) fornecido como parâmetro.\n",
    "\n",
    "A função irá utilizar o algoritmo denominado \"Crivo de Eratóstenes\", onde se faz uma lista de todos os inteiros de 2 a n e então se começa riscando os números que sabemos que não são primos, inicialmente por todos os múltiplos de 2, depois todos os múltiplos de 3, depois todos os múltiplos de 5 (múltiplos de 4 não precisão ser considerados, pois já foram excluídos ao retirar os múltiplos de 2), etc...\n",
    "\n",
    "O processo termina quando se chega na raiz quadrada de `n` (prove que não é necessário considerar fatores primos maiores que a raiz quadrada de um número para saber se ele é primo).\n",
    "\n",
    "**OBS: Há como escrever um código mais simples usando elementos da linguagem que vamos aprender mais adiante.**"
   ]
  },
  {
   "cell_type": "code",
   "execution_count": null,
   "metadata": {
    "tags": []
   },
   "outputs": [],
   "source": [
    "import math\n",
    "\n",
    "def primes_until(n):\n",
    "    # O primeiro primo é 2.\n",
    "    if n < 2:\n",
    "        return []\n",
    "    # is_prime[i] = False se sabemos que i não é primo.\n",
    "    # is_prime[i] = True se i é primo ou ainda não sabemos.\n",
    "    is_prime = [True] * (n + 1)\n",
    "    # 0 e 1 não são primos.\n",
    "    is_prime[0] = is_prime[1] = False\n",
    "    # Só precisamos dividir até sqrt(n), pois um dos fatores tem que\n",
    "    # ser menor ou igual a isso se o número não for primo.\n",
    "    sqrt_n = math.isqrt(n)\n",
    "    # Agora para cada primo que encontramos, cancelamos todos os seus\n",
    "    # múltiplos.\n",
    "    current = 2 # O primeiro primo é 2\n",
    "    while current <= sqrt_n:\n",
    "        # Cancela todos os múltiplos de current (sem cancelar current!)\n",
    "        for i in range(2 * current, n + 1, current):\n",
    "            is_prime[i] = False\n",
    "        # Procura o próximo número não cancelado (próximo primo).\n",
    "        current += 1\n",
    "        while current <= sqrt_n and not is_prime[current]:\n",
    "            current += 1\n",
    "    # Agora colocamos todos os números não cancelados na lista de primos.\n",
    "    primes = []\n",
    "    for i in range(2, n + 1):\n",
    "        if is_prime[i]:\n",
    "            primes.append(i)\n",
    "    return primes"
   ]
  },
  {
   "cell_type": "code",
   "execution_count": null,
   "metadata": {
    "autoscroll": "json-false",
    "ein.tags": [
     "worksheet-0"
    ],
    "tags": []
   },
   "outputs": [],
   "source": [
    "primes_until(15)"
   ]
  },
  {
   "cell_type": "code",
   "execution_count": null,
   "metadata": {
    "autoscroll": "json-false",
    "ein.tags": [
     "worksheet-0"
    ],
    "jupyter": {
     "outputs_hidden": false
    }
   },
   "outputs": [],
   "source": [
    "primes_until(50)"
   ]
  },
  {
   "cell_type": "code",
   "execution_count": null,
   "metadata": {},
   "outputs": [],
   "source": [
    "primes_until(17)"
   ]
  },
  {
   "cell_type": "code",
   "execution_count": null,
   "metadata": {},
   "outputs": [],
   "source": [
    "primes_until(-2)"
   ]
  },
  {
   "cell_type": "code",
   "execution_count": null,
   "metadata": {},
   "outputs": [],
   "source": [
    "primes_until(2)"
   ]
  },
  {
   "cell_type": "markdown",
   "metadata": {},
   "source": [
    "## 5. Recursão"
   ]
  },
  {
   "cell_type": "markdown",
   "metadata": {},
   "source": [
    "Funções Python podem ser chamadas recursivamente, isto é, a própria função pode ser chamada durante a execução dela. Obviamente, isso deve ser feito com cuidado, para evitar recursão infinita.\n",
    "\n",
    "Um exemplo tradicional (mas ineficiente) é o do cálculo de fatorial:"
   ]
  },
  {
   "cell_type": "code",
   "execution_count": null,
   "metadata": {},
   "outputs": [],
   "source": [
    "def fact_rec(n):\n",
    "    assert n >= 0, 'n should not be negative'\n",
    "    if n <= 1:\n",
    "        return 1\n",
    "    return n * fact_rec(n - 1)"
   ]
  },
  {
   "cell_type": "code",
   "execution_count": null,
   "metadata": {},
   "outputs": [],
   "source": [
    "for i in range(10):\n",
    "    print(fact_rec(i))"
   ]
  },
  {
   "cell_type": "markdown",
   "metadata": {},
   "source": [
    "Uma implementação mais eficiente seria:"
   ]
  },
  {
   "cell_type": "code",
   "execution_count": null,
   "metadata": {},
   "outputs": [],
   "source": [
    "def factorial(n):\n",
    "    assert n >= 0, 'n should not be negative'\n",
    "    fact = 1\n",
    "    for i in range(2, n + 1):\n",
    "        fact *= i\n",
    "    return fact"
   ]
  },
  {
   "cell_type": "code",
   "execution_count": null,
   "metadata": {},
   "outputs": [],
   "source": [
    "for i in range(10):\n",
    "    print(factorial(i))"
   ]
  },
  {
   "cell_type": "markdown",
   "metadata": {},
   "source": [
    "Apesar de que esse código também pode ser simplificado com técnicas que estudaremos posteriormente.\n",
    "\n",
    "Obviamente, em Python o método correto de calcular o fatorial é usando a biblioteca:"
   ]
  },
  {
   "cell_type": "code",
   "execution_count": null,
   "metadata": {},
   "outputs": [],
   "source": [
    "import math\n",
    "for i in range(10):\n",
    "    print(math.factorial(i))"
   ]
  },
  {
   "cell_type": "markdown",
   "metadata": {},
   "source": [
    "Um exemplo mais interessante é o quicksort:"
   ]
  },
  {
   "cell_type": "code",
   "execution_count": null,
   "metadata": {},
   "outputs": [],
   "source": [
    "def qsort(original_list):\n",
    "    if len(original_list) <= 1: # Retorna se nada a ordenar\n",
    "        return original_list\n",
    "    pivot = original_list[0] # Escolhe primeiro elemento como chave\n",
    "    less_than_pivot = []\n",
    "    not_less_than_pivot = []\n",
    "    # Separa maiores e menores que chave em listas\n",
    "    for val in original_list[1:]: # Começa no 1, pois 0 é a chave\n",
    "        if val < pivot:\n",
    "            less_than_pivot.append(val)\n",
    "        else:\n",
    "            not_less_than_pivot.append(val)\n",
    "    # Ordena recursivamente menores e maiores, depois junta\n",
    "    return qsort(less_than_pivot) + [pivot] + qsort(not_less_than_pivot)"
   ]
  },
  {
   "cell_type": "code",
   "execution_count": null,
   "metadata": {},
   "outputs": [],
   "source": [
    "qsort([2,4,6,9,7,5])"
   ]
  },
  {
   "cell_type": "markdown",
   "metadata": {},
   "source": [
    "Obviamente, nunca usaremos essa função em um código de verdade, mas sim a ordanação pré-definida no Python:"
   ]
  },
  {
   "cell_type": "code",
   "execution_count": null,
   "metadata": {},
   "outputs": [],
   "source": [
    "import random\n",
    "d = [random.randint(0, 30) for _ in range(20)]\n",
    "d"
   ]
  },
  {
   "cell_type": "code",
   "execution_count": null,
   "metadata": {},
   "outputs": [],
   "source": [
    "d.sort()\n",
    "d"
   ]
  },
  {
   "cell_type": "markdown",
   "metadata": {},
   "source": [
    "Vejamos agora como é o desempenho das diversas variantes. Primeiro vejamos o tempo para gerar as listas aleatórias:"
   ]
  },
  {
   "cell_type": "code",
   "execution_count": null,
   "metadata": {},
   "outputs": [],
   "source": [
    "%timeit [random.randint(0,  5000) for _ in range(10000)]"
   ]
  },
  {
   "cell_type": "markdown",
   "metadata": {},
   "source": [
    "Agora a versão mais simples:"
   ]
  },
  {
   "cell_type": "code",
   "execution_count": null,
   "metadata": {},
   "outputs": [],
   "source": [
    "def test_qs(n):\n",
    "    a = [random.randint(0, n // 2) for _ in range(n)]\n",
    "    b = qsort(a)\n",
    "    return b\n",
    "%timeit test_qs(10000)"
   ]
  },
  {
   "cell_type": "markdown",
   "metadata": {},
   "source": [
    "E como fica a versão da linguagem?"
   ]
  },
  {
   "cell_type": "code",
   "execution_count": null,
   "metadata": {},
   "outputs": [],
   "source": [
    "def test_list_sort(n):\n",
    "    a = [random.randint(0, n // 2) for _ in range(n)]\n",
    "    a.sort()\n",
    "    return a\n",
    "%timeit test_list_sort(10000)"
   ]
  },
  {
   "cell_type": "markdown",
   "metadata": {},
   "source": [
    "Claramente mais rápido."
   ]
  },
  {
   "cell_type": "markdown",
   "metadata": {},
   "source": [
    "# Exercícios"
   ]
  },
  {
   "cell_type": "markdown",
   "metadata": {},
   "source": [
    "1. A função `exp(x)` pode ser representada por sua expansão por série de Taylor em torno de 0:\n",
    "    $$\\exp(x) = \\sum_{i=0}^{\\infty}\\frac{x^i}{i!}.$$\n",
    "   A igualdade é válida apenas como valor da série infinita, que não conseguimos calcular no computador, mas podemos usar uma aproximação, incluindo um número finito de termos na série:\n",
    "    $$\\mathrm{exptaylor}(x, n) = \\sum_{i=0}^{n}\\frac{x^i}{i!}.$$\n",
    "   Escreva uma função Python para implementar a função `exptaylor(x, n)` acima. Preste atenção de não repetir desnecessariamente cálculos já executados."
   ]
  },
  {
   "cell_type": "markdown",
   "metadata": {},
   "source": [
    "2. Escreva uma função `maxh(v0 , g)` que calcula a altura máxima atingida por um projétil emitido com velocidade inicial `v0` na direção vertical para cima em um local com aceleração de gravidade uniforme igual a `g`. Desconsidere qualquer tipo de dissipação de energia."
   ]
  },
  {
   "cell_type": "markdown",
   "metadata": {},
   "source": [
    "3. No cálculo do imposto de renda a ser retido na fonte (descontado do salário), é usada a seguinte tabela:\n",
    "    \n",
    "    | Base de cálculo | Alíquota | Dedução |\n",
    "    | --------------- | -------- | ------- |\n",
    "    | de 0,00 até 1.903,98 | isento | 0,00|\n",
    "    | de 1.903,99 até 2.826,65 | 7,50% | 142,80|\n",
    "    | de 2.826,66 até 3.751,05 | 15,00% | 354,80|\n",
    "    | de 3.751,06 até 4.664,68 | 22,50% | 636,13|\n",
    "    | acima de 4.664,68 | 27,50% |869,36 |\n",
    "    \n",
    "    Essa tabela é interpretada da seguinte forma: depois de descontar algumas coisas do salário bruto (não nos interessa aqui), temos o valor da base de cálculo. Se procura o valor da base da cálculo do assalariado na linha correspondente, então se calcula a porcentagem da coluna alíquota e do valor resultante se deduz o valor da coluna dedução. Por exemplo, se a base de cálculo é R\\\\$ 3.000,00, estamos na linha “de 2.826,66 até 3.751,05” e portanto usamos uma alíquota de 15%, resultando em 15% de R\\\\$ 3.000,00 que dá R\\\\$ 450,00. Desse valor, subtraímos o valor da coluna dedução, que neste caso é R\\\\$ 354,80, resultando num imposto a reter de R\\\\$ 450,00 - R\\\\$ 354,80 = R\\\\$ 95,20. \n",
    "\n",
    "    Escreva uma função que, dado o valor da base de cálculo, encontre o valor a reter na fonte."
   ]
  }
 ],
 "metadata": {
  "kernelspec": {
   "display_name": "Python 3 (ipykernel)",
   "language": "python",
   "name": "python3"
  },
  "language_info": {
   "codemirror_mode": {
    "name": "ipython",
    "version": 3
   },
   "file_extension": ".py",
   "mimetype": "text/x-python",
   "name": "python",
   "nbconvert_exporter": "python",
   "pygments_lexer": "ipython3",
   "version": "3.10.6"
  },
  "name": "Aula03.ipynb"
 },
 "nbformat": 4,
 "nbformat_minor": 4
}
