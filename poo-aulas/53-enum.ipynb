{
 "cells": [
  {
   "cell_type": "markdown",
   "metadata": {},
   "source": [
    "# Tipos enumerados"
   ]
  },
  {
   "cell_type": "markdown",
   "metadata": {},
   "source": [
    "## 1. Tipos enumerados simples"
   ]
  },
  {
   "cell_type": "markdown",
   "metadata": {},
   "source": [
    "Em diversas situações, precisamos de um tipo de objetos que tem uma quantidade finita e pequena de possíveis valores. Podemos representar esses valores por constantes inteiras distintas isoladas, mas isso não ajuda na compreensão do código, pois a relação entre as constantes isoladas não é clara.\n",
    "\n",
    "**Tipos enumerados** permitem definir essas constantes de uma forma coerente, simplificada e clara. Em Python, isso é feito derivando um novo tipo da classe `enum.Enum`. Vejamos alguns exemplos."
   ]
  },
  {
   "cell_type": "code",
   "execution_count": null,
   "metadata": {},
   "outputs": [],
   "source": [
    "from enum import Enum"
   ]
  },
  {
   "cell_type": "code",
   "execution_count": null,
   "metadata": {},
   "outputs": [],
   "source": [
    "class DayOfWeek(Enum):\n",
    "    SUNDAY = 1\n",
    "    MONDAY = 2\n",
    "    TUESDAY = 3\n",
    "    WEDNESDAY = 4\n",
    "    THURSDAY = 5\n",
    "    FRIDAY = 6\n",
    "    SATURDAY = 7"
   ]
  },
  {
   "cell_type": "markdown",
   "metadata": {},
   "source": [
    "O código acima define o tipo `DayOfWeek` que tem apenas sete valores possíveis: `SUNDAY`, `MONDAY`, `TUESDAY`, `WEDNESDAY`, `THURSDAY`, `FRIDAY` e `SATURDAY`. Esses valores podem ser acessados no seu código como, por exemplo, `DayOfWeek.SUNDAY`.\n",
    "\n",
    "É convenção na comunidade Python que os identificadores usados para os valores de um tipo enumerado são escritos em letras maiúsculas."
   ]
  },
  {
   "cell_type": "code",
   "execution_count": null,
   "metadata": {},
   "outputs": [],
   "source": [
    "DayOfWeek.MONDAY"
   ]
  },
  {
   "cell_type": "markdown",
   "metadata": {},
   "source": [
    "Note que os identificadores são definidos apenas dentro da classe correspondente. Por exemplo, o seguinte é um erro:"
   ]
  },
  {
   "cell_type": "code",
   "execution_count": null,
   "metadata": {},
   "outputs": [],
   "source": [
    "MONDAY"
   ]
  },
  {
   "cell_type": "markdown",
   "metadata": {},
   "source": [
    "Podemos testar igualdade e diferença de valores. Isso é feito **por identidade**, isto é, usando `is` e `is not` (apesar dos operadores `==` e `!=` também serem definidos:"
   ]
  },
  {
   "cell_type": "code",
   "execution_count": null,
   "metadata": {},
   "outputs": [],
   "source": [
    "a = DayOfWeek.MONDAY\n",
    "b = DayOfWeek.TUESDAY\n",
    "if a is DayOfWeek.MONDAY:\n",
    "    print(\"It's Monday\")\n",
    "elif a is DayOfWeek.TUESDAY:\n",
    "    print(\"It's Tuesday\")\n",
    "elif a is not DayOfWeek.SATURDAY and a is not DayOfWeek.SUNDAY:\n",
    "    print(\"Not the weekend yet\")\n",
    "if a is not b:\n",
    "    print(\"Monday and Tuesday are different.\")"
   ]
  },
  {
   "cell_type": "markdown",
   "metadata": {},
   "source": [
    "Mas note que não temos comparação de ordem num `Enum` (mas veja `IntEnum` abaixo):"
   ]
  },
  {
   "cell_type": "code",
   "execution_count": null,
   "metadata": {},
   "outputs": [],
   "source": [
    "DayOfWeek.WEDNESDAY < DayOfWeek.SATURDAY"
   ]
  },
  {
   "cell_type": "markdown",
   "metadata": {},
   "source": [
    "Podemos percorrer todos os valores de uma enumeração usando a _mágica_ `__members__`:"
   ]
  },
  {
   "cell_type": "code",
   "execution_count": null,
   "metadata": {},
   "outputs": [],
   "source": [
    "for name, value in DayOfWeek.__members__.items():\n",
    "    print(f'The value for {name} is {value}')"
   ]
  },
  {
   "cell_type": "markdown",
   "metadata": {},
   "source": [
    "Quando não nos preocupamos com os valores associados a cada um dos símbolos, podemos deixar o Python escolher esses valores para nós usando a função `auto`:"
   ]
  },
  {
   "cell_type": "code",
   "execution_count": null,
   "metadata": {},
   "outputs": [],
   "source": [
    "from enum import auto\n",
    "class Gear(Enum):\n",
    "    REVERSE = auto()\n",
    "    NEUTRAL = auto()\n",
    "    FIRST = auto()\n",
    "    SECOND = auto()\n",
    "    THIRD = auto()\n",
    "    FOURTH = auto()\n",
    "    FIFTH = auto()"
   ]
  },
  {
   "cell_type": "code",
   "execution_count": null,
   "metadata": {},
   "outputs": [],
   "source": [
    "Gear.REVERSE, Gear.SECOND"
   ]
  },
  {
   "cell_type": "markdown",
   "metadata": {},
   "source": [
    "## 2. Tipos enumerados inteiros"
   ]
  },
  {
   "cell_type": "markdown",
   "metadata": {},
   "source": [
    "Em alguma situações onde precisamos de tipos enumerados, precisamos também que eles possam ser comparados com valores inteiros. Isso pode ser feito com o uso de `IntEnum`. Esses tipos enumerados têm também a vantagem de poder ser comparados, tanto os valores de um mesmo enum como entre diferentes enums ou com inteiros."
   ]
  },
  {
   "cell_type": "code",
   "execution_count": null,
   "metadata": {},
   "outputs": [],
   "source": [
    "from enum import IntEnum\n",
    "\n",
    "class ExitCode(IntEnum):\n",
    "    SUCCESS = 0\n",
    "    WRONG_ARGUMENT = 1\n",
    "    BAD_FORMAT = 2\n",
    "    MISSING_FILE = 3\n",
    "    \n",
    "class Direction(IntEnum):\n",
    "    LEFT = -1\n",
    "    NONE = 0\n",
    "    RIGHT = 1"
   ]
  },
  {
   "cell_type": "code",
   "execution_count": null,
   "metadata": {},
   "outputs": [],
   "source": [
    "ExitCode.SUCCESS, ExitCode.MISSING_FILE"
   ]
  },
  {
   "cell_type": "code",
   "execution_count": null,
   "metadata": {},
   "outputs": [],
   "source": [
    "Direction.NONE"
   ]
  },
  {
   "cell_type": "code",
   "execution_count": null,
   "metadata": {},
   "outputs": [],
   "source": [
    "Direction.NONE == 0"
   ]
  },
  {
   "cell_type": "code",
   "execution_count": null,
   "metadata": {},
   "outputs": [],
   "source": [
    "Direction.RIGHT == ExitCode.WRONG_ARGUMENT"
   ]
  },
  {
   "cell_type": "code",
   "execution_count": null,
   "metadata": {},
   "outputs": [],
   "source": [
    "Direction.LEFT < Direction.RIGHT"
   ]
  },
  {
   "cell_type": "code",
   "execution_count": null,
   "metadata": {},
   "outputs": [],
   "source": [
    "ExitCode.MISSING_FILE > 4"
   ]
  }
 ],
 "metadata": {
  "kernelspec": {
   "display_name": "Python 3 (ipykernel)",
   "language": "python",
   "name": "python3"
  },
  "language_info": {
   "codemirror_mode": {
    "name": "ipython",
    "version": 3
   },
   "file_extension": ".py",
   "mimetype": "text/x-python",
   "name": "python",
   "nbconvert_exporter": "python",
   "pygments_lexer": "ipython3",
   "version": "3.11.2"
  }
 },
 "nbformat": 4,
 "nbformat_minor": 4
}
