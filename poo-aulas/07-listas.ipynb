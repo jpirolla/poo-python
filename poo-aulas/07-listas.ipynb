{
 "cells": [
  {
   "cell_type": "markdown",
   "metadata": {
    "ein.tags": [
     "worksheet-0"
    ],
    "id": "38iHtwTHS9Kw"
   },
   "source": [
    "# Listas"
   ]
  },
  {
   "cell_type": "markdown",
   "metadata": {
    "id": "C3L89ZS_S9Kz"
   },
   "source": [
    "## 1. Uso básico"
   ]
  },
  {
   "cell_type": "markdown",
   "metadata": {
    "ein.tags": [
     "worksheet-0"
    ],
    "id": "LJgSEXM0S9K1"
   },
   "source": [
    "Listas são as estruturas de dados mais básicas de Python.\n",
    "\n",
    "Representamos uma lista colocando os valores separados por vírgulas entre `[` e `]`."
   ]
  },
  {
   "cell_type": "code",
   "execution_count": 1,
   "metadata": {
    "autoscroll": "json-false",
    "colab": {
     "base_uri": "https://localhost:8080/"
    },
    "collapsed": false,
    "ein.tags": [
     "worksheet-0"
    ],
    "executionInfo": {
     "elapsed": 6,
     "status": "ok",
     "timestamp": 1679586006665,
     "user": {
      "displayName": "Juliana Pirolla",
      "userId": "01890010726425165807"
     },
     "user_tz": 180
    },
    "id": "f24Y-8PZS9K4",
    "jupyter": {
     "outputs_hidden": false
    },
    "outputId": "49cb565c-fd7a-4d71-d21e-18a54b3d601d"
   },
   "outputs": [
    {
     "data": {
      "text/plain": [
       "[1, 2, 3, 4, 5]"
      ]
     },
     "execution_count": 1,
     "metadata": {},
     "output_type": "execute_result"
    }
   ],
   "source": [
    "[1, 2, 3, 4, 5]"
   ]
  },
  {
   "cell_type": "markdown",
   "metadata": {
    "ein.tags": [
     "worksheet-0"
    ],
    "id": "8etww6MNS9K6"
   },
   "source": [
    "Listas podem ser indexadas."
   ]
  },
  {
   "cell_type": "code",
   "execution_count": null,
   "metadata": {
    "autoscroll": "json-false",
    "collapsed": false,
    "ein.tags": [
     "worksheet-0"
    ],
    "id": "Iq8T_E6nS9K7",
    "jupyter": {
     "outputs_hidden": false
    }
   },
   "outputs": [],
   "source": [
    "minhalista = [1, 2, 4, 8, 16, 32, 64]"
   ]
  },
  {
   "cell_type": "code",
   "execution_count": null,
   "metadata": {
    "autoscroll": "json-false",
    "collapsed": false,
    "ein.tags": [
     "worksheet-0"
    ],
    "id": "6aGZd12qS9K9",
    "jupyter": {
     "outputs_hidden": false
    }
   },
   "outputs": [],
   "source": [
    "minhalista[0], minhalista[3]"
   ]
  },
  {
   "cell_type": "code",
   "execution_count": null,
   "metadata": {
    "autoscroll": "json-false",
    "collapsed": false,
    "ein.tags": [
     "worksheet-0"
    ],
    "id": "fO8IiVvFS9K-",
    "jupyter": {
     "outputs_hidden": false
    }
   },
   "outputs": [],
   "source": [
    "minhalista[2:5]"
   ]
  },
  {
   "cell_type": "markdown",
   "metadata": {
    "ein.tags": [
     "worksheet-0"
    ],
    "id": "bGc53ZPNS9K-"
   },
   "source": [
    "Ao contrário de strings, as listas podem ser alteradas (elas são **mutáveis**). Uma forma de alterar é mudar um dos elementos da lista:"
   ]
  },
  {
   "cell_type": "code",
   "execution_count": null,
   "metadata": {
    "autoscroll": "json-false",
    "collapsed": false,
    "ein.tags": [
     "worksheet-0"
    ],
    "id": "MUgtFHR4S9LA",
    "jupyter": {
     "outputs_hidden": false
    }
   },
   "outputs": [],
   "source": [
    "minhalista[0] = -1"
   ]
  },
  {
   "cell_type": "code",
   "execution_count": null,
   "metadata": {
    "autoscroll": "json-false",
    "collapsed": false,
    "ein.tags": [
     "worksheet-0"
    ],
    "id": "2xoYCu2iS9LB",
    "jupyter": {
     "outputs_hidden": false
    }
   },
   "outputs": [],
   "source": [
    "minhalista"
   ]
  },
  {
   "cell_type": "markdown",
   "metadata": {
    "id": "Wse3HRKiS9LC"
   },
   "source": [
    "Outro forma de alterar é adicionar novos elementos no final usando o método `append`."
   ]
  },
  {
   "cell_type": "code",
   "execution_count": null,
   "metadata": {
    "autoscroll": "json-false",
    "collapsed": false,
    "ein.tags": [
     "worksheet-0"
    ],
    "id": "7QYPaBXnS9LD",
    "jupyter": {
     "outputs_hidden": false
    }
   },
   "outputs": [],
   "source": [
    "minhalista.append(128)"
   ]
  },
  {
   "cell_type": "code",
   "execution_count": null,
   "metadata": {
    "autoscroll": "json-false",
    "collapsed": false,
    "ein.tags": [
     "worksheet-0"
    ],
    "id": "7htwD10mS9LD",
    "jupyter": {
     "outputs_hidden": false
    }
   },
   "outputs": [],
   "source": [
    "minhalista"
   ]
  },
  {
   "cell_type": "markdown",
   "metadata": {
    "id": "xTbp7xxiS9LE"
   },
   "source": [
    "Podemos também inserir em posições arbitrárias da lista, usando o método `insert`:"
   ]
  },
  {
   "cell_type": "code",
   "execution_count": null,
   "metadata": {
    "id": "F5a-gw3LS9LE"
   },
   "outputs": [],
   "source": [
    "minhalista.insert(1, 0)\n",
    "minhalista"
   ]
  },
  {
   "cell_type": "markdown",
   "metadata": {
    "id": "2cJkLRVmS9LF"
   },
   "source": [
    "O uso de `insert` pode incorrer **custo computacional maior** do que o de `append`, então damos preferência a crescer a lista usando `append`, e deixamos para usar `insert` apenas quando necessário.\n",
    "\n",
    "O método `pop` retorna o último objeto da lista e o retira da lista."
   ]
  },
  {
   "cell_type": "code",
   "execution_count": null,
   "metadata": {
    "autoscroll": "json-false",
    "collapsed": false,
    "ein.tags": [
     "worksheet-0"
    ],
    "id": "Fp9svzOHS9LG",
    "jupyter": {
     "outputs_hidden": false
    }
   },
   "outputs": [],
   "source": [
    "minhalista.pop()"
   ]
  },
  {
   "cell_type": "code",
   "execution_count": null,
   "metadata": {
    "autoscroll": "json-false",
    "collapsed": false,
    "ein.tags": [
     "worksheet-0"
    ],
    "id": "eQPtbUXgS9LG",
    "jupyter": {
     "outputs_hidden": false
    }
   },
   "outputs": [],
   "source": [
    "minhalista"
   ]
  },
  {
   "cell_type": "markdown",
   "metadata": {
    "id": "As8Fk1_hS9LH"
   },
   "source": [
    "Podemos retirar elementos em posições arbitrárias da lista (sem acessar o seu valor) usando o comando `del`:"
   ]
  },
  {
   "cell_type": "code",
   "execution_count": null,
   "metadata": {
    "id": "75ZrAm1SS9LH"
   },
   "outputs": [],
   "source": [
    "del minhalista[1]\n",
    "minhalista"
   ]
  },
  {
   "cell_type": "markdown",
   "metadata": {
    "id": "jBiV1M2YS9LI"
   },
   "source": [
    "Novamente, a retirada em posições arbitrárias pode ter **custo maior** do que a retirada do final, então preferimos o uso de `pop` para diminuir a lista, quando possível."
   ]
  },
  {
   "cell_type": "markdown",
   "metadata": {
    "id": "Ee40ooMzS9LI"
   },
   "source": [
    "A função `len` diz o número de objetos na lista."
   ]
  },
  {
   "cell_type": "code",
   "execution_count": null,
   "metadata": {
    "autoscroll": "json-false",
    "collapsed": false,
    "ein.tags": [
     "worksheet-0"
    ],
    "id": "tidv5V-ES9LI",
    "jupyter": {
     "outputs_hidden": false
    }
   },
   "outputs": [],
   "source": [
    "len(minhalista)"
   ]
  },
  {
   "cell_type": "markdown",
   "metadata": {
    "id": "6-EHNsubS9LJ"
   },
   "source": [
    "Como sempre, a indexação é verificada:"
   ]
  },
  {
   "cell_type": "code",
   "execution_count": null,
   "metadata": {
    "autoscroll": "json-false",
    "collapsed": false,
    "ein.tags": [
     "worksheet-0"
    ],
    "id": "mWnoVGtZS9LK",
    "jupyter": {
     "outputs_hidden": false
    }
   },
   "outputs": [],
   "source": [
    "minhalista[8]"
   ]
  },
  {
   "cell_type": "markdown",
   "metadata": {
    "id": "SfVLliGyS9LK"
   },
   "source": [
    "## 2. Semântica de referência"
   ]
  },
  {
   "cell_type": "markdown",
   "metadata": {
    "ein.tags": [
     "worksheet-0"
    ],
    "id": "WewnAuayS9LK"
   },
   "source": [
    "Como no caso de variáveis, as listas guardam apenas **referências** para objetos. Portanto, como variáveis, cada elemento da lista pode se referir a objetos de tipos distintos. Isto é, as listas podem ser mistas."
   ]
  },
  {
   "cell_type": "code",
   "execution_count": null,
   "metadata": {
    "autoscroll": "json-false",
    "collapsed": false,
    "ein.tags": [
     "worksheet-0"
    ],
    "id": "hhXI9U8WS9LK",
    "jupyter": {
     "outputs_hidden": false
    }
   },
   "outputs": [],
   "source": [
    "listamista = [1, 2.3, 2 + 3j, 'esquisito']"
   ]
  },
  {
   "cell_type": "code",
   "execution_count": null,
   "metadata": {
    "autoscroll": "json-false",
    "collapsed": false,
    "ein.tags": [
     "worksheet-0"
    ],
    "id": "VdLlRAynS9LK",
    "jupyter": {
     "outputs_hidden": false
    }
   },
   "outputs": [],
   "source": [
    "listamista"
   ]
  },
  {
   "cell_type": "markdown",
   "metadata": {
    "ein.tags": [
     "worksheet-0"
    ],
    "id": "Zxc1I270S9LM"
   },
   "source": [
    "Podemos inclusive colocar outras listas dentro de uma lista, formando uma estrutura aninhada."
   ]
  },
  {
   "cell_type": "code",
   "execution_count": null,
   "metadata": {
    "autoscroll": "json-false",
    "collapsed": false,
    "ein.tags": [
     "worksheet-0"
    ],
    "id": "MrR0QT3oS9LM",
    "jupyter": {
     "outputs_hidden": false
    }
   },
   "outputs": [],
   "source": [
    "listaesquisita = [3, 4, listamista, minhalista]"
   ]
  },
  {
   "cell_type": "code",
   "execution_count": null,
   "metadata": {
    "autoscroll": "json-false",
    "collapsed": false,
    "ein.tags": [
     "worksheet-0"
    ],
    "id": "cYdpODJfS9LM",
    "jupyter": {
     "outputs_hidden": false
    }
   },
   "outputs": [],
   "source": [
    "listaesquisita"
   ]
  },
  {
   "cell_type": "code",
   "execution_count": null,
   "metadata": {
    "collapsed": false,
    "id": "QUC9d0PDS9LN",
    "jupyter": {
     "outputs_hidden": false
    }
   },
   "outputs": [],
   "source": [
    "listaesquisita[1]"
   ]
  },
  {
   "cell_type": "code",
   "execution_count": null,
   "metadata": {
    "id": "U_wP41KvS9LO"
   },
   "outputs": [],
   "source": [
    "listaesquisita[2]"
   ]
  },
  {
   "cell_type": "code",
   "execution_count": null,
   "metadata": {
    "collapsed": false,
    "id": "khRygZBwS9LO",
    "jupyter": {
     "outputs_hidden": false
    }
   },
   "outputs": [],
   "source": [
    "listaesquisita[2][1]"
   ]
  },
  {
   "cell_type": "markdown",
   "metadata": {
    "ein.tags": [
     "worksheet-0"
    ],
    "id": "dyufL4zoS9LO"
   },
   "source": [
    "Lembre-se que nesses casos estamos guardando apenas **referências** para as listas aninhadas.\n",
    "\n",
    "Se dentro da lista `l3` guardamos uma referência para outra lista `l2`, então, ao alterarmos o conteúdo de `l2` essa alteração será visível em `l3`."
   ]
  },
  {
   "cell_type": "code",
   "execution_count": null,
   "metadata": {
    "autoscroll": "json-false",
    "collapsed": false,
    "ein.tags": [
     "worksheet-0"
    ],
    "id": "ZhVsFd2dS9LP",
    "jupyter": {
     "outputs_hidden": false
    }
   },
   "outputs": [],
   "source": [
    "l1 = [1, 2, 3]\n",
    "l2 = [5, 4, 3]\n",
    "l3 = [0, l1, l2]"
   ]
  },
  {
   "cell_type": "code",
   "execution_count": null,
   "metadata": {
    "autoscroll": "json-false",
    "collapsed": false,
    "ein.tags": [
     "worksheet-0"
    ],
    "id": "_9jV_zPoS9LQ",
    "jupyter": {
     "outputs_hidden": false
    }
   },
   "outputs": [],
   "source": [
    "l3"
   ]
  },
  {
   "cell_type": "code",
   "execution_count": null,
   "metadata": {
    "autoscroll": "json-false",
    "collapsed": false,
    "ein.tags": [
     "worksheet-0"
    ],
    "id": "odPMkXZmS9LQ",
    "jupyter": {
     "outputs_hidden": false
    }
   },
   "outputs": [],
   "source": [
    "l2[1] = -1"
   ]
  },
  {
   "cell_type": "code",
   "execution_count": null,
   "metadata": {
    "autoscroll": "json-false",
    "collapsed": false,
    "ein.tags": [
     "worksheet-0"
    ],
    "id": "em7RFQKaS9LR",
    "jupyter": {
     "outputs_hidden": false
    }
   },
   "outputs": [],
   "source": [
    "l2"
   ]
  },
  {
   "cell_type": "code",
   "execution_count": null,
   "metadata": {
    "autoscroll": "json-false",
    "collapsed": false,
    "ein.tags": [
     "worksheet-0"
    ],
    "id": "rCy9hh98S9LR",
    "jupyter": {
     "outputs_hidden": false
    }
   },
   "outputs": [],
   "source": [
    "l3"
   ]
  },
  {
   "cell_type": "code",
   "execution_count": null,
   "metadata": {
    "autoscroll": "json-false",
    "collapsed": false,
    "ein.tags": [
     "worksheet-0"
    ],
    "id": "WWJXufXAS9LR",
    "jupyter": {
     "outputs_hidden": false
    }
   },
   "outputs": [],
   "source": [
    "l1.append(4)"
   ]
  },
  {
   "cell_type": "code",
   "execution_count": null,
   "metadata": {
    "autoscroll": "json-false",
    "collapsed": false,
    "ein.tags": [
     "worksheet-0"
    ],
    "id": "S7Ka3YGfS9LR",
    "jupyter": {
     "outputs_hidden": false
    }
   },
   "outputs": [],
   "source": [
    "l3"
   ]
  },
  {
   "cell_type": "markdown",
   "metadata": {
    "ein.tags": [
     "worksheet-0"
    ],
    "id": "mGVq2eF5S9LS"
   },
   "source": [
    "Em princípio, nada impede que façamos a inserção de uma referência para a lista dentro da própria lista. Nesse caso, tem-se que tomar cuidado ao manipular essa lista, para evitar problemas de código em *loop* infinito."
   ]
  },
  {
   "cell_type": "code",
   "execution_count": null,
   "metadata": {
    "autoscroll": "json-false",
    "collapsed": false,
    "ein.tags": [
     "worksheet-0"
    ],
    "id": "X2XIF9luS9LS",
    "jupyter": {
     "outputs_hidden": false
    }
   },
   "outputs": [],
   "source": [
    "l4 = [1,2]"
   ]
  },
  {
   "cell_type": "code",
   "execution_count": null,
   "metadata": {
    "autoscroll": "json-false",
    "collapsed": false,
    "ein.tags": [
     "worksheet-0"
    ],
    "id": "9yyMTRwNS9LT",
    "jupyter": {
     "outputs_hidden": false
    }
   },
   "outputs": [],
   "source": [
    "l4"
   ]
  },
  {
   "cell_type": "code",
   "execution_count": null,
   "metadata": {
    "autoscroll": "json-false",
    "collapsed": false,
    "ein.tags": [
     "worksheet-0"
    ],
    "id": "-wqwl5HrS9LT",
    "jupyter": {
     "outputs_hidden": false
    }
   },
   "outputs": [],
   "source": [
    "l4.append(l4)"
   ]
  },
  {
   "cell_type": "code",
   "execution_count": null,
   "metadata": {
    "autoscroll": "json-false",
    "collapsed": false,
    "ein.tags": [
     "worksheet-0"
    ],
    "id": "cdNFq2oMS9LT",
    "jupyter": {
     "outputs_hidden": false
    }
   },
   "outputs": [],
   "source": [
    "l4"
   ]
  },
  {
   "cell_type": "markdown",
   "metadata": {
    "id": "-Q4yxSquS9LU"
   },
   "source": [
    "O `[...]` que aparece acima é o interpretador Python evitando recursão infinita: ao perceber que a lista está dentro da própria lista, ele evita tentar imprimir o conteúdo novamente."
   ]
  },
  {
   "cell_type": "code",
   "execution_count": null,
   "metadata": {
    "autoscroll": "json-false",
    "collapsed": false,
    "ein.tags": [
     "worksheet-0"
    ],
    "id": "uo1uraIGS9LU",
    "jupyter": {
     "outputs_hidden": false
    }
   },
   "outputs": [],
   "source": [
    "l4.append(3)"
   ]
  },
  {
   "cell_type": "code",
   "execution_count": null,
   "metadata": {
    "autoscroll": "json-false",
    "collapsed": false,
    "ein.tags": [
     "worksheet-0"
    ],
    "id": "Yk7qM4ZES9LV",
    "jupyter": {
     "outputs_hidden": false
    }
   },
   "outputs": [],
   "source": [
    "l4"
   ]
  },
  {
   "cell_type": "code",
   "execution_count": null,
   "metadata": {
    "id": "kWfq16vdS9LV"
   },
   "outputs": [],
   "source": [
    "par1 = [1, 2]\n",
    "par2 = [3, 4]\n",
    "par1.append(par2)\n",
    "par2.append(par1)"
   ]
  },
  {
   "cell_type": "code",
   "execution_count": null,
   "metadata": {
    "collapsed": false,
    "id": "vVxwOSXdS9LW",
    "jupyter": {
     "outputs_hidden": false
    }
   },
   "outputs": [],
   "source": [
    "par1"
   ]
  },
  {
   "cell_type": "code",
   "execution_count": null,
   "metadata": {
    "id": "JL6Buum-S9LX"
   },
   "outputs": [],
   "source": [
    "par2"
   ]
  },
  {
   "cell_type": "markdown",
   "metadata": {
    "id": "Lf_AkxTBS9LX"
   },
   "source": [
    "Neste caso, temos uma recursão mútua entre as listas `par1` e `par2`.\n",
    "\n",
    "Lembre-se que se mais de uma variável referencia a mesma lista então ao alteramos a lista por meio de uma variável ela terá valor alterado quando acessada por outra variável. "
   ]
  },
  {
   "cell_type": "code",
   "execution_count": null,
   "metadata": {
    "id": "mNtvrwLmS9LY"
   },
   "outputs": [],
   "source": [
    "x = [1,2,3]"
   ]
  },
  {
   "cell_type": "code",
   "execution_count": null,
   "metadata": {
    "id": "ackzUFTsS9LY"
   },
   "outputs": [],
   "source": [
    "y = x"
   ]
  },
  {
   "cell_type": "code",
   "execution_count": null,
   "metadata": {
    "collapsed": false,
    "id": "EM_1BIG5S9LY",
    "jupyter": {
     "outputs_hidden": false
    }
   },
   "outputs": [],
   "source": [
    "x"
   ]
  },
  {
   "cell_type": "code",
   "execution_count": null,
   "metadata": {
    "collapsed": false,
    "id": "KSMYxAJhS9LZ",
    "jupyter": {
     "outputs_hidden": false
    }
   },
   "outputs": [],
   "source": [
    "y"
   ]
  },
  {
   "cell_type": "code",
   "execution_count": null,
   "metadata": {
    "id": "I-bVMcfCS9LZ"
   },
   "outputs": [],
   "source": [
    "x[2] = 4"
   ]
  },
  {
   "cell_type": "code",
   "execution_count": null,
   "metadata": {
    "collapsed": false,
    "id": "54IGKtYSS9LZ",
    "jupyter": {
     "outputs_hidden": false
    }
   },
   "outputs": [],
   "source": [
    "x"
   ]
  },
  {
   "cell_type": "code",
   "execution_count": null,
   "metadata": {
    "collapsed": false,
    "id": "eTpChYuoS9LZ",
    "jupyter": {
     "outputs_hidden": false
    }
   },
   "outputs": [],
   "source": [
    "y"
   ]
  },
  {
   "cell_type": "markdown",
   "metadata": {
    "id": "AnJGHQhSS9La"
   },
   "source": [
    "Se quisermos evitar esse tipo de comportamento, precisamos fazer uma cópia da lista ao colocar em outra variável."
   ]
  },
  {
   "cell_type": "code",
   "execution_count": null,
   "metadata": {
    "id": "Sc6BN_cNS9La"
   },
   "outputs": [],
   "source": [
    "z = x.copy()"
   ]
  },
  {
   "cell_type": "code",
   "execution_count": null,
   "metadata": {
    "collapsed": false,
    "id": "lTHmS6boS9La",
    "jupyter": {
     "outputs_hidden": false
    }
   },
   "outputs": [],
   "source": [
    "z"
   ]
  },
  {
   "cell_type": "markdown",
   "metadata": {
    "id": "J3y_S_MsS9Lb"
   },
   "source": [
    "Neste caso, é criado um **novo** objeto com um cópia dos valores do objeto referenciado por `x`, e uma referência para esse novo objeto é colocada em `z`, e portanto `x` e `z` estão referenciando objetos distintos."
   ]
  },
  {
   "cell_type": "code",
   "execution_count": null,
   "metadata": {
    "id": "i3ZghHQrS9Lb"
   },
   "outputs": [],
   "source": [
    "x[2] = 3"
   ]
  },
  {
   "cell_type": "code",
   "execution_count": null,
   "metadata": {
    "collapsed": false,
    "id": "7KhQ6IlKS9Lb",
    "jupyter": {
     "outputs_hidden": false
    }
   },
   "outputs": [],
   "source": [
    "x"
   ]
  },
  {
   "cell_type": "code",
   "execution_count": null,
   "metadata": {
    "collapsed": false,
    "id": "K2DEpGbiS9Lc",
    "jupyter": {
     "outputs_hidden": false
    }
   },
   "outputs": [],
   "source": [
    "y"
   ]
  },
  {
   "cell_type": "code",
   "execution_count": null,
   "metadata": {
    "collapsed": false,
    "id": "pWN8qT3iS9Lc",
    "jupyter": {
     "outputs_hidden": false
    }
   },
   "outputs": [],
   "source": [
    "z"
   ]
  },
  {
   "cell_type": "markdown",
   "metadata": {
    "id": "NvOie6u9S9Lc"
   },
   "source": [
    "No caso de listas, uma outra forma de fazer cópia é simplesmente acessar um slice com todos os elementos."
   ]
  },
  {
   "cell_type": "code",
   "execution_count": null,
   "metadata": {
    "id": "Z_XnEdJeS9Ld"
   },
   "outputs": [],
   "source": [
    "z = x[:]"
   ]
  },
  {
   "cell_type": "code",
   "execution_count": null,
   "metadata": {
    "collapsed": false,
    "id": "YcemBCD-S9Ld",
    "jupyter": {
     "outputs_hidden": false
    }
   },
   "outputs": [],
   "source": [
    "x"
   ]
  },
  {
   "cell_type": "code",
   "execution_count": null,
   "metadata": {
    "collapsed": false,
    "id": "6zJNin0mS9Ld",
    "jupyter": {
     "outputs_hidden": false
    }
   },
   "outputs": [],
   "source": [
    "z"
   ]
  },
  {
   "cell_type": "code",
   "execution_count": null,
   "metadata": {
    "id": "B8g8H9joS9Le"
   },
   "outputs": [],
   "source": [
    "x[0] = -1"
   ]
  },
  {
   "cell_type": "code",
   "execution_count": null,
   "metadata": {
    "collapsed": false,
    "id": "tm1TaIQOS9Le",
    "jupyter": {
     "outputs_hidden": false
    }
   },
   "outputs": [],
   "source": [
    "x"
   ]
  },
  {
   "cell_type": "code",
   "execution_count": null,
   "metadata": {
    "collapsed": false,
    "id": "b8BgHNARS9Le",
    "jupyter": {
     "outputs_hidden": false
    }
   },
   "outputs": [],
   "source": [
    "y"
   ]
  },
  {
   "cell_type": "code",
   "execution_count": null,
   "metadata": {
    "collapsed": false,
    "id": "g2E97upPS9Lf",
    "jupyter": {
     "outputs_hidden": false
    }
   },
   "outputs": [],
   "source": [
    "z"
   ]
  },
  {
   "cell_type": "markdown",
   "metadata": {
    "id": "sl-CoEqFS9Lg"
   },
   "source": [
    "Tome cuidado, pois a cópia realizada por `copy` é superficial. Para demonstrar o que eu quero dizer com isso, vejamos o seguinte exemplo."
   ]
  },
  {
   "cell_type": "code",
   "execution_count": null,
   "metadata": {
    "id": "qY0pFJ8xS9Lg"
   },
   "outputs": [],
   "source": [
    "listinha1 = [1, 2, 3]\n",
    "listinha2 = [10, 20, 30]\n",
    "listinha3 = [listinha1, listinha2]\n",
    "listinha3"
   ]
  },
  {
   "cell_type": "code",
   "execution_count": null,
   "metadata": {
    "id": "41EgFH9oS9Lg"
   },
   "outputs": [],
   "source": [
    "listinha4 = listinha3.copy()\n",
    "listinha4"
   ]
  },
  {
   "cell_type": "code",
   "execution_count": null,
   "metadata": {
    "id": "wQhnW4ZyS9Lh"
   },
   "outputs": [],
   "source": [
    "listinha3.append([100, 200, 300])"
   ]
  },
  {
   "cell_type": "code",
   "execution_count": null,
   "metadata": {
    "id": "TjZg7AGwS9Li"
   },
   "outputs": [],
   "source": [
    "listinha3"
   ]
  },
  {
   "cell_type": "code",
   "execution_count": null,
   "metadata": {
    "id": "b8TjWlb1S9Ll"
   },
   "outputs": [],
   "source": [
    "listinha4"
   ]
  },
  {
   "cell_type": "code",
   "execution_count": null,
   "metadata": {
    "id": "rq46ivpPS9Ll"
   },
   "outputs": [],
   "source": [
    "listinha1[2] = 4"
   ]
  },
  {
   "cell_type": "code",
   "execution_count": null,
   "metadata": {
    "id": "bbo8mIyIS9Ll"
   },
   "outputs": [],
   "source": [
    "listinha3"
   ]
  },
  {
   "cell_type": "code",
   "execution_count": null,
   "metadata": {
    "id": "WPr56zmSS9Lm"
   },
   "outputs": [],
   "source": [
    "listinha4"
   ]
  },
  {
   "cell_type": "markdown",
   "metadata": {
    "id": "PNi8hiw7S9Lm"
   },
   "source": [
    "O que aconteceu é que `copy` apenas cria um novo objeto e copia o conteúdo do antigo para o novo. Quando fizemos `copy` de `listinha3` foi gerado um novo objeto do tipo `list` e o conteúdo de `listinha3` foi copiado para ele. Acontece que o conteúdo de uma lista são as **referências** que ele contém! Portanto foram copiadas referências para as listas originais também referenciadas por `listinha1` e `listinha2`.\n",
    "\n",
    "Para lidar com isso, devemos usar a função `deepcopy` do módulo `copy`."
   ]
  },
  {
   "cell_type": "code",
   "execution_count": null,
   "metadata": {
    "id": "eH7YqmIwS9Lm"
   },
   "outputs": [],
   "source": [
    "import copy"
   ]
  },
  {
   "cell_type": "code",
   "execution_count": null,
   "metadata": {
    "id": "0vYYskRkS9Ln"
   },
   "outputs": [],
   "source": [
    "listinha5 = [1, 2, 3]\n",
    "listinha6 = [4, 5, 6]\n",
    "listinha7 = [listinha5, listinha6]\n",
    "listinha8 = copy.deepcopy(listinha7)"
   ]
  },
  {
   "cell_type": "code",
   "execution_count": null,
   "metadata": {
    "id": "u96NtkANS9Ln"
   },
   "outputs": [],
   "source": [
    "listinha7"
   ]
  },
  {
   "cell_type": "code",
   "execution_count": null,
   "metadata": {
    "id": "c48MDgyTS9Lo"
   },
   "outputs": [],
   "source": [
    "listinha8"
   ]
  },
  {
   "cell_type": "code",
   "execution_count": null,
   "metadata": {
    "id": "EZL3mYP5S9Lo"
   },
   "outputs": [],
   "source": [
    "listinha5[2] = 4"
   ]
  },
  {
   "cell_type": "code",
   "execution_count": null,
   "metadata": {
    "id": "bes64RWVS9Lo"
   },
   "outputs": [],
   "source": [
    "listinha7"
   ]
  },
  {
   "cell_type": "code",
   "execution_count": null,
   "metadata": {
    "id": "efJyBdUZS9Lp"
   },
   "outputs": [],
   "source": [
    "listinha8"
   ]
  },
  {
   "cell_type": "markdown",
   "metadata": {
    "id": "naNUzXxkS9Lp"
   },
   "source": [
    "Cópias com `copy` e especialmente com `deepcopy` ocasionam **um maior número de operações e uso de memória** (especialmente para `deepcopy`) do que semântica de referência pura, e portanto somente devem ser usadas quando necessário."
   ]
  },
  {
   "cell_type": "markdown",
   "metadata": {
    "id": "5LXX70wsS9Lq"
   },
   "source": [
    "# Exercícios"
   ]
  },
  {
   "cell_type": "markdown",
   "metadata": {
    "id": "O7_v8b02S9Lr"
   },
   "source": [
    "1. Após a execução do código abaixo, qual o resultado final na lista `tudo`? (Calcule o resultado antes de rodar no Python para testar.)\n",
    "```python\n",
    "    a = [1, 2, 3]\n",
    "    b = a\n",
    "    c = a.copy()\n",
    "    tudo = [a, b, c]\n",
    "    a[0] = 10\n",
    "    b[1] = 20\n",
    "    c[2] = 30\n",
    "```"
   ]
  },
  {
   "cell_type": "code",
   "execution_count": null,
   "metadata": {
    "colab": {
     "base_uri": "https://localhost:8080/"
    },
    "executionInfo": {
     "elapsed": 434,
     "status": "ok",
     "timestamp": 1679354338772,
     "user": {
      "displayName": "Juliana Pirolla",
      "userId": "01890010726425165807"
     },
     "user_tz": 180
    },
    "id": "0JA3FPi7T2fT",
    "outputId": "3157c9da-1496-4a41-fd9d-f755c175def2"
   },
   "outputs": [
    {
     "name": "stdout",
     "output_type": "stream",
     "text": [
      "[1, 2, 3]\n",
      "[1, 2, 3]\n",
      "[[1, 2, 3], [1, 2, 3], [1, 2, 3]]\n"
     ]
    }
   ],
   "source": [
    " a = [1, 2, 3]\n",
    " b = a\n",
    " print(b)\n",
    " c = a.copy()\n",
    " print(c)\n",
    " tudo = [a, b, c]\n",
    " print(tudo)\n",
    " a[0] = 10\n",
    " b[1] = 20\n",
    " c[2] = 30"
   ]
  },
  {
   "cell_type": "code",
   "execution_count": null,
   "metadata": {
    "colab": {
     "base_uri": "https://localhost:8080/"
    },
    "executionInfo": {
     "elapsed": 20,
     "status": "ok",
     "timestamp": 1679354308415,
     "user": {
      "displayName": "Juliana Pirolla",
      "userId": "01890010726425165807"
     },
     "user_tz": 180
    },
    "id": "KClBxeZnUJkL",
    "outputId": "d00723d9-4ac7-490a-fc8f-321f6b786a3c"
   },
   "outputs": [
    {
     "name": "stdout",
     "output_type": "stream",
     "text": [
      "[[10, 20, 3], [10, 20, 3], [1, 2, 30]]\n",
      "[10, 20, 3]\n",
      "[10, 20, 3]\n",
      "[1, 2, 30]\n"
     ]
    }
   ],
   "source": [
    "print(tudo)\n",
    "print(a)\n",
    "print(b)\n",
    "print(c)"
   ]
  },
  {
   "cell_type": "markdown",
   "metadata": {
    "id": "BVUkkVq6S9Ls"
   },
   "source": [
    "2. Escreva um código que cria uma lista como a seguinte:\n",
    "```python\n",
    "[1, 2, [30, 40], [500, 600, [...]], 7000]\n",
    "```"
   ]
  },
  {
   "cell_type": "code",
   "execution_count": null,
   "metadata": {
    "id": "CATFAJ2QS_KS"
   },
   "outputs": [],
   "source": [
    "l1 = [30, 40]\n",
    "l2 = [500,600]\n",
    "lista = [1,2]"
   ]
  },
  {
   "cell_type": "code",
   "execution_count": null,
   "metadata": {
    "colab": {
     "base_uri": "https://localhost:8080/"
    },
    "executionInfo": {
     "elapsed": 425,
     "status": "ok",
     "timestamp": 1679354167193,
     "user": {
      "displayName": "Juliana Pirolla",
      "userId": "01890010726425165807"
     },
     "user_tz": 180
    },
    "id": "CoQNxrAbTud2",
    "outputId": "10f8a5d0-4ed8-408b-c847-f1e222f01e07"
   },
   "outputs": [
    {
     "name": "stdout",
     "output_type": "stream",
     "text": [
      "[500, 600, [...]]\n"
     ]
    }
   ],
   "source": [
    "l2.append(l2)\n",
    "print(l2)"
   ]
  },
  {
   "cell_type": "code",
   "execution_count": null,
   "metadata": {
    "colab": {
     "base_uri": "https://localhost:8080/"
    },
    "executionInfo": {
     "elapsed": 324,
     "status": "ok",
     "timestamp": 1679354170057,
     "user": {
      "displayName": "Juliana Pirolla",
      "userId": "01890010726425165807"
     },
     "user_tz": 180
    },
    "id": "mJ-V--iOTXT-",
    "outputId": "33eaad91-b6ae-4e44-8cfe-9fa3a34f1213"
   },
   "outputs": [
    {
     "name": "stdout",
     "output_type": "stream",
     "text": [
      "[1, 2, [30, 40]]\n"
     ]
    }
   ],
   "source": [
    "lista.append(l1)\n",
    "print(lista)"
   ]
  },
  {
   "cell_type": "code",
   "execution_count": null,
   "metadata": {
    "colab": {
     "base_uri": "https://localhost:8080/"
    },
    "executionInfo": {
     "elapsed": 352,
     "status": "ok",
     "timestamp": 1679354173018,
     "user": {
      "displayName": "Juliana Pirolla",
      "userId": "01890010726425165807"
     },
     "user_tz": 180
    },
    "id": "vf9fMX7HS9Lt",
    "outputId": "a02aa9f4-464f-4d4b-a104-2afe0be32116"
   },
   "outputs": [
    {
     "name": "stdout",
     "output_type": "stream",
     "text": [
      "[1, 2, [30, 40], [500, 600, [...]], 7000]\n"
     ]
    }
   ],
   "source": [
    "lista.append(l2)\n",
    "lista.append(7000)\n",
    "print(lista)"
   ]
  }
 ],
 "metadata": {
  "colab": {
   "provenance": []
  },
  "kernelspec": {
   "display_name": "Python 3 (ipykernel)",
   "language": "python",
   "name": "python3"
  },
  "language_info": {
   "codemirror_mode": {
    "name": "ipython",
    "version": 3
   },
   "file_extension": ".py",
   "mimetype": "text/x-python",
   "name": "python",
   "nbconvert_exporter": "python",
   "pygments_lexer": "ipython3",
   "version": "3.10.6"
  }
 },
 "nbformat": 4,
 "nbformat_minor": 4
}
