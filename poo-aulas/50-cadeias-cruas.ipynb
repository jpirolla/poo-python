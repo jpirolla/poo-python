{
 "cells": [
  {
   "cell_type": "markdown",
   "metadata": {},
   "source": [
    "# Cadeias brutas"
   ]
  },
  {
   "cell_type": "markdown",
   "metadata": {},
   "source": [
    "Já estudamos cadeias simples:"
   ]
  },
  {
   "cell_type": "code",
   "execution_count": null,
   "metadata": {},
   "outputs": [],
   "source": [
    "\"I'm a very common string\""
   ]
  },
  {
   "cell_type": "markdown",
   "metadata": {},
   "source": [
    "E tambem _f-strings_, que permite interpolação de código Python:"
   ]
  },
  {
   "cell_type": "code",
   "execution_count": null,
   "metadata": {},
   "outputs": [],
   "source": [
    "f\"I'm a very especial string. I can tell you that 2 + 2 = {2 + 2}\""
   ]
  },
  {
   "cell_type": "markdown",
   "metadata": {},
   "source": [
    "Uma outra forma de cadeias são as chamadas _cadeias brutas_, ou _cadeias cruas_ (_raw strings_).\n",
    "\n",
    "Cadeias de caracteres são normalmente sujeitas a interpretação. Isto ocorre quando usamos o caracter `\\`, que indica que o próximo caracter é especial. Por exemplo, `\\n` é uma mudança de linha, `\\t` é uma tabulação e se queremos um `\\` devemos usar `\\\\`."
   ]
  },
  {
   "cell_type": "code",
   "execution_count": null,
   "metadata": {},
   "outputs": [],
   "source": [
    "print('Asf\\n12\\t13\\n1\\\\3')"
   ]
  },
  {
   "cell_type": "markdown",
   "metadata": {},
   "source": [
    "Isso causa problemas em algumas situações. Por exemplo:"
   ]
  },
  {
   "cell_type": "code",
   "execution_count": null,
   "metadata": {},
   "outputs": [],
   "source": [
    "print('C:\\nao\\razoavel')"
   ]
  },
  {
   "cell_type": "markdown",
   "metadata": {},
   "source": [
    "Não podemos nos esquecer de usar `\\\\` para `\\`:"
   ]
  },
  {
   "cell_type": "code",
   "execution_count": null,
   "metadata": {},
   "outputs": [],
   "source": [
    "print('C:\\\\nao\\\\razoavel')"
   ]
  },
  {
   "cell_type": "markdown",
   "metadata": {},
   "source": [
    "Em algumas situações (por exemplo, caminhos de arquivo do Windows ou [expressões regulares](https://docs.python.org/3/howto/regex.html)) queremos evitar qualquer interpretação dos caracteres e considerá-los literais.\n",
    "\n",
    "Isso é denominado uma *cadeia bruta* (*raw*), e pode ser conseguida em Python precedendo a cadeia por um `r`:"
   ]
  },
  {
   "cell_type": "code",
   "execution_count": null,
   "metadata": {},
   "outputs": [],
   "source": [
    "print(r'Asf\\n12\\t13\\n1\\\\3')"
   ]
  },
  {
   "cell_type": "code",
   "execution_count": null,
   "metadata": {},
   "outputs": [],
   "source": [
    "print(r'C:\\nao\\razoavel')"
   ]
  }
 ],
 "metadata": {
  "kernelspec": {
   "display_name": "Python 3 (ipykernel)",
   "language": "python",
   "name": "python3"
  },
  "language_info": {
   "codemirror_mode": {
    "name": "ipython",
    "version": 3
   },
   "file_extension": ".py",
   "mimetype": "text/x-python",
   "name": "python",
   "nbconvert_exporter": "python",
   "pygments_lexer": "ipython3",
   "version": "3.11.2"
  }
 },
 "nbformat": 4,
 "nbformat_minor": 4
}
