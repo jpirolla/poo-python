{
 "cells": [
  {
   "cell_type": "markdown",
   "metadata": {},
   "source": [
    "# Argumentos para funções"
   ]
  },
  {
   "cell_type": "markdown",
   "metadata": {},
   "source": [
    "Uma função especifica os parâmetros que serão usados em sua execução. Ao executar a função, precisamos fornecer valores para todos esses parâmetros. Como vimos, os **parâmetros são variáveis**, que guardarão uma **referência** para os objetos passados em sua chamada."
   ]
  },
  {
   "cell_type": "markdown",
   "metadata": {},
   "source": [
    "## 1. Argumentos posicionais"
   ]
  },
  {
   "cell_type": "markdown",
   "metadata": {},
   "source": [
    "A correspondência entre os valores passados e os parâmetros pode ser feita de diversas formas em Python. A primeira e mais simples é a *posicional*. Neste caso, o primeiro valor fornecido será associado ao primeiro parâmetro, o segundo valor ao segundo parâmetro, e assim por diante."
   ]
  },
  {
   "cell_type": "code",
   "execution_count": null,
   "metadata": {},
   "outputs": [],
   "source": [
    "def f(x, y):\n",
    "    print('x =', x, 'y =', y)"
   ]
  },
  {
   "cell_type": "code",
   "execution_count": null,
   "metadata": {},
   "outputs": [],
   "source": [
    "f(1, 2)"
   ]
  },
  {
   "cell_type": "code",
   "execution_count": null,
   "metadata": {},
   "outputs": [],
   "source": [
    "f(5, 55)"
   ]
  },
  {
   "cell_type": "markdown",
   "metadata": {},
   "source": [
    "O número de valores passados deve corresponder ao número de parâmetros esperados."
   ]
  },
  {
   "cell_type": "code",
   "execution_count": null,
   "metadata": {},
   "outputs": [],
   "source": [
    "f(1)"
   ]
  },
  {
   "cell_type": "code",
   "execution_count": null,
   "metadata": {
    "scrolled": true
   },
   "outputs": [],
   "source": [
    "f(1, 2, 3)"
   ]
  },
  {
   "cell_type": "markdown",
   "metadata": {},
   "source": [
    "## 2. Passagem por chave/valor"
   ]
  },
  {
   "cell_type": "markdown",
   "metadata": {},
   "source": [
    "Adicionalmente, Python permite a passagem pela sintaxe `chave=valor`, onde chave é o nome de um parâmetro da função e valor é o valor que ele irá receber. Note que **nesse caso, os parâmetros não precisam ser passados na mesma ordem**."
   ]
  },
  {
   "cell_type": "code",
   "execution_count": null,
   "metadata": {},
   "outputs": [],
   "source": [
    "f(x=1, y=2)"
   ]
  },
  {
   "cell_type": "code",
   "execution_count": null,
   "metadata": {},
   "outputs": [],
   "source": [
    "f(y=1, x=2)"
   ]
  },
  {
   "cell_type": "markdown",
   "metadata": {},
   "source": [
    "## 3. Valores _default_"
   ]
  },
  {
   "cell_type": "markdown",
   "metadata": {},
   "source": [
    "Outra versatilidade ocorre pois podemos fornecer um valor *default* para um parâmetro. Neste caso, se um valor para o parâmetro não for especificado, o valor *default* será usado."
   ]
  },
  {
   "cell_type": "code",
   "execution_count": null,
   "metadata": {},
   "outputs": [],
   "source": [
    "def f(x, y, z = 0):\n",
    "    print ('x =', x, ', y =', y, ', z =', z)"
   ]
  },
  {
   "cell_type": "code",
   "execution_count": null,
   "metadata": {},
   "outputs": [],
   "source": [
    "f(1, 2, 3)"
   ]
  },
  {
   "cell_type": "code",
   "execution_count": null,
   "metadata": {},
   "outputs": [],
   "source": [
    "f(z = 2, y = 4, x = 1)"
   ]
  },
  {
   "cell_type": "code",
   "execution_count": null,
   "metadata": {},
   "outputs": [],
   "source": [
    "f(2, 3)"
   ]
  },
  {
   "cell_type": "code",
   "execution_count": null,
   "metadata": {},
   "outputs": [],
   "source": [
    "f(x=3, y=4)"
   ]
  },
  {
   "cell_type": "markdown",
   "metadata": {},
   "source": [
    "Podemos também misturar argumentos posicionais com argumentos chave/valor com argumento assumidos:"
   ]
  },
  {
   "cell_type": "code",
   "execution_count": null,
   "metadata": {},
   "outputs": [],
   "source": [
    "f(7, y=8)"
   ]
  },
  {
   "cell_type": "markdown",
   "metadata": {},
   "source": [
    "Mas repare que **os argumentos passados posiciionalmente devem aparecer antes dos passados por chave/valor**, se misturarmos as duas formas."
   ]
  },
  {
   "cell_type": "code",
   "execution_count": null,
   "metadata": {},
   "outputs": [],
   "source": [
    "f(y=8, 7)"
   ]
  },
  {
   "cell_type": "markdown",
   "metadata": {},
   "source": [
    "É frequente usar-se `None` como o valor _default_, e então sabemos que um valor não foi especificado na chamada comparando o parâmetro com `None`."
   ]
  },
  {
   "cell_type": "code",
   "execution_count": null,
   "metadata": {},
   "outputs": [],
   "source": [
    "def f(x, y, z = None):\n",
    "    if z is None:\n",
    "        z = x - y\n",
    "    print(x, y, z)"
   ]
  },
  {
   "cell_type": "code",
   "execution_count": null,
   "metadata": {},
   "outputs": [],
   "source": [
    "f(3, 5, 7)"
   ]
  },
  {
   "cell_type": "code",
   "execution_count": null,
   "metadata": {},
   "outputs": [],
   "source": [
    "f(3, 5)"
   ]
  },
  {
   "cell_type": "markdown",
   "metadata": {},
   "source": [
    "Cada parâmetro deve receber exatamente um valor, na chamada ou por valor assumido. Quer dizer, não podemos deixar sem valor nem fornecer múltiplos valores (este último caso costuma ocorrer por engano quando usamos `chave=valor` para um parâmetro que já recebeu valor posicional."
   ]
  },
  {
   "cell_type": "code",
   "execution_count": null,
   "metadata": {},
   "outputs": [],
   "source": [
    "f(2, x = 2)"
   ]
  },
  {
   "cell_type": "code",
   "execution_count": null,
   "metadata": {
    "scrolled": true
   },
   "outputs": [],
   "source": [
    "f(2, z = 4)"
   ]
  },
  {
   "cell_type": "markdown",
   "metadata": {},
   "source": [
    "## 4. Número arbitrário de parâmetros"
   ]
  },
  {
   "cell_type": "markdown",
   "metadata": {},
   "source": [
    "Frequentemente desejamos definir funções que recebem número arbitrário de parâmetros. Um exemplo é a função do Python `min`."
   ]
  },
  {
   "cell_type": "code",
   "execution_count": null,
   "metadata": {},
   "outputs": [],
   "source": [
    "min(1, 4, 7, -2, 0, 3)"
   ]
  },
  {
   "cell_type": "code",
   "execution_count": null,
   "metadata": {},
   "outputs": [],
   "source": [
    "min(2, 5)"
   ]
  },
  {
   "cell_type": "markdown",
   "metadata": {},
   "source": [
    "Essa função só precisa ter pelo menos 2 valores para funcionar. Se ela recebe 1 valor só, espera que esse valor seja um objeto que pode ser percorrido (como por um `for`)."
   ]
  },
  {
   "cell_type": "code",
   "execution_count": null,
   "metadata": {},
   "outputs": [],
   "source": [
    "min([2, 5, 8, 1, 9, -3, 4, 0])"
   ]
  },
  {
   "cell_type": "code",
   "execution_count": null,
   "metadata": {},
   "outputs": [],
   "source": [
    "min(1)"
   ]
  },
  {
   "cell_type": "markdown",
   "metadata": {},
   "source": [
    "Podemos definir uma função similar ao `min` mas com comportamento distinto para apenas um valor usando a sintaxe de coleta de múltiplos valores:"
   ]
  },
  {
   "cell_type": "code",
   "execution_count": null,
   "metadata": {},
   "outputs": [],
   "source": [
    "def my_min(x, *rest):\n",
    "    print('x =', x, 'rest =', rest)\n",
    "    min_ = x\n",
    "    for y in rest:\n",
    "        if y < min_:\n",
    "            min_ = y\n",
    "    return min_"
   ]
  },
  {
   "cell_type": "markdown",
   "metadata": {},
   "source": [
    "Nessa função, `x` receberá o primeiro valor passado, enquanto `resto` receberá uma **tupla** com todos os outros valores:"
   ]
  },
  {
   "cell_type": "code",
   "execution_count": null,
   "metadata": {},
   "outputs": [],
   "source": [
    "my_min(2, 3, -6, 10, 1, 7, 0, 5)"
   ]
  },
  {
   "cell_type": "code",
   "execution_count": null,
   "metadata": {
    "scrolled": true
   },
   "outputs": [],
   "source": [
    "my_min(1)"
   ]
  },
  {
   "cell_type": "markdown",
   "metadata": {},
   "source": [
    "A sintaxe `*rest` coleta todos os valores **posicionais** passados na chamada. Se quisermos coletar valores do tipo `chave=valor` precisamos usar dois asteriscos:"
   ]
  },
  {
   "cell_type": "code",
   "execution_count": null,
   "metadata": {},
   "outputs": [],
   "source": [
    "my_min(1, 2, a=3, b=5)"
   ]
  },
  {
   "cell_type": "code",
   "execution_count": null,
   "metadata": {},
   "outputs": [],
   "source": [
    "def f(**args):\n",
    "    for k in args.keys():\n",
    "        print('For', k, 'we have the value', args[k])"
   ]
  },
  {
   "cell_type": "code",
   "execution_count": null,
   "metadata": {},
   "outputs": [],
   "source": [
    "f(height=1.67, weight=54, age=21)"
   ]
  },
  {
   "cell_type": "markdown",
   "metadata": {},
   "source": [
    "Note como os valores são coletados em um *dicionário*, cujas chaves são cadeias de caracteres correspondentes às chaves na chamada da função.\n",
    "\n",
    "É também possível coletar simultaneamente valores posicionais e `chave=valor`:"
   ]
  },
  {
   "cell_type": "code",
   "execution_count": null,
   "metadata": {},
   "outputs": [],
   "source": [
    "def f(x, *y, **z):\n",
    "    print(x, y, z)"
   ]
  },
  {
   "cell_type": "code",
   "execution_count": null,
   "metadata": {},
   "outputs": [],
   "source": [
    "f(1, 2, 3, 4, 5)"
   ]
  },
  {
   "cell_type": "code",
   "execution_count": null,
   "metadata": {},
   "outputs": [],
   "source": [
    "f(1, 2, 3, a=4, b=5)"
   ]
  },
  {
   "cell_type": "markdown",
   "metadata": {},
   "source": [
    "Os códigos acima mostram como diversos valores passados como argumentos podem ser coletados no corpo da função.\n",
    "\n",
    "A operação inversa também é possível: Podemos pegar elementos coletados (por exemplo, dentro de uma lista ou tupla) e espalhá-los para os diversos parâmetros da função.\n",
    "\n",
    "Por exemplo, a função abaixo requer 3 parâmetros."
   ]
  },
  {
   "cell_type": "code",
   "execution_count": null,
   "metadata": {},
   "outputs": [],
   "source": [
    "def g(x, y, z):\n",
    "    return x * y - z"
   ]
  },
  {
   "cell_type": "code",
   "execution_count": null,
   "metadata": {},
   "outputs": [],
   "source": [
    "g(2, 3, 4)"
   ]
  },
  {
   "cell_type": "markdown",
   "metadata": {},
   "source": [
    "Se tivermos os valores a passar na ordem certa em uma tupla, uma forma de fazer a chamada seria:"
   ]
  },
  {
   "cell_type": "code",
   "execution_count": null,
   "metadata": {},
   "outputs": [],
   "source": [
    "t = (2, 3, 4)\n",
    "g(t[0], t[1], t[2])"
   ]
  },
  {
   "cell_type": "markdown",
   "metadata": {},
   "source": [
    "No entanto, isso pode ser feito automaticamente pelo Python com o uso de um asterisco:"
   ]
  },
  {
   "cell_type": "code",
   "execution_count": null,
   "metadata": {},
   "outputs": [],
   "source": [
    "g(*t)"
   ]
  },
  {
   "cell_type": "markdown",
   "metadata": {},
   "source": [
    "Para o caso `chave=valor` temos algo similar, mas os elementos devem estar num dicionário (com as chaves como cadeias de caracteres) e usamos dois asteriscos:"
   ]
  },
  {
   "cell_type": "code",
   "execution_count": null,
   "metadata": {},
   "outputs": [],
   "source": [
    "d = {'x': 2, 'y': 3, 'z': 4}"
   ]
  },
  {
   "cell_type": "code",
   "execution_count": null,
   "metadata": {},
   "outputs": [],
   "source": [
    "g(**d)"
   ]
  },
  {
   "cell_type": "markdown",
   "metadata": {},
   "source": [
    "## 5. Parametros obrigatoriamente chave/valor"
   ]
  },
  {
   "cell_type": "markdown",
   "metadata": {},
   "source": [
    "Uma sintaxe adicional em Python é a de parâmetros que precisam *necessariamente* ser especificados no formato `chave=valor` durante a chamada. Qualquer parâmetro normal especificado **após** um parâmetro de coleta posicional será desse tipo, como no caso do parâmetro `z` da função abaixo."
   ]
  },
  {
   "cell_type": "code",
   "execution_count": null,
   "metadata": {},
   "outputs": [],
   "source": [
    "def h(x, *y, z = 0):\n",
    "    print(x, y, z)"
   ]
  },
  {
   "cell_type": "code",
   "execution_count": null,
   "metadata": {},
   "outputs": [],
   "source": [
    "h(1,2,z=3)"
   ]
  },
  {
   "cell_type": "code",
   "execution_count": null,
   "metadata": {
    "scrolled": true
   },
   "outputs": [],
   "source": [
    "h(1,2,3)"
   ]
  },
  {
   "cell_type": "markdown",
   "metadata": {},
   "source": [
    "Se não quisermos ter uma parâmetro de coleta, mas quisermos mesmo assim forçar alguns parâmetros a serem chave/valor, basta usar um `*` sem um nome de variável."
   ]
  },
  {
   "cell_type": "code",
   "execution_count": null,
   "metadata": {},
   "outputs": [],
   "source": [
    "def hh(x, y, *, z = 0):\n",
    "    print(x, y, z)"
   ]
  },
  {
   "cell_type": "code",
   "execution_count": null,
   "metadata": {},
   "outputs": [],
   "source": [
    "hh(1, 2, z = 3)"
   ]
  },
  {
   "cell_type": "code",
   "execution_count": null,
   "metadata": {},
   "outputs": [],
   "source": [
    "hh(10, 20)"
   ]
  },
  {
   "cell_type": "code",
   "execution_count": null,
   "metadata": {},
   "outputs": [],
   "source": [
    "hh(10, 20, 30)"
   ]
  },
  {
   "cell_type": "code",
   "execution_count": null,
   "metadata": {},
   "outputs": [],
   "source": [
    "hh(10, z = 5)"
   ]
  },
  {
   "cell_type": "code",
   "execution_count": null,
   "metadata": {},
   "outputs": [],
   "source": [
    "hh(10, 20, 30, z = 40)"
   ]
  },
  {
   "cell_type": "markdown",
   "metadata": {},
   "source": [
    "## 6. Parametros obrigatoriamente posicionais"
   ]
  },
  {
   "cell_type": "markdown",
   "metadata": {},
   "source": [
    "Também é possível especificar parâmetros que não podem ser usados no modo chave/valor, mas apenas no modo posicional. Essas parâmetros devem ser os primeiros da lista de parâmetros e devem ser seguidos por um `/`, como no exemplo abaixo:"
   ]
  },
  {
   "cell_type": "code",
   "execution_count": null,
   "metadata": {},
   "outputs": [],
   "source": [
    "def step(first, second, /):\n",
    "    return abs(second - first)"
   ]
  },
  {
   "cell_type": "code",
   "execution_count": null,
   "metadata": {},
   "outputs": [],
   "source": [
    "step(1, 3)"
   ]
  },
  {
   "cell_type": "code",
   "execution_count": null,
   "metadata": {},
   "outputs": [],
   "source": [
    "step(first=1, second=3)"
   ]
  },
  {
   "cell_type": "markdown",
   "metadata": {},
   "source": [
    "A função artificial abaixo usa diversos tipos de parâmetros:"
   ]
  },
  {
   "cell_type": "code",
   "execution_count": null,
   "metadata": {},
   "outputs": [],
   "source": [
    "def crazy(x, y, /, z, *rest, t=1, **d):\n",
    "    print(f'Got x={x}, y={y}, z={z}, rest={rest}, t={t}, d={d}')"
   ]
  },
  {
   "cell_type": "code",
   "execution_count": null,
   "metadata": {},
   "outputs": [],
   "source": [
    "crazy(1, 2, 3)"
   ]
  },
  {
   "cell_type": "code",
   "execution_count": null,
   "metadata": {},
   "outputs": [],
   "source": [
    "crazy(1, 2, z=3)"
   ]
  },
  {
   "cell_type": "code",
   "execution_count": null,
   "metadata": {},
   "outputs": [],
   "source": [
    "crazy(1, y=2, z=3)"
   ]
  },
  {
   "cell_type": "code",
   "execution_count": null,
   "metadata": {},
   "outputs": [],
   "source": [
    "crazy(1, 2, 3, 4, 5, 6)"
   ]
  },
  {
   "cell_type": "code",
   "execution_count": null,
   "metadata": {},
   "outputs": [],
   "source": [
    "crazy(1, 2, 3, 4, 5, 6, t=7)"
   ]
  },
  {
   "cell_type": "code",
   "execution_count": null,
   "metadata": {},
   "outputs": [],
   "source": [
    "crazy(1, 2, 3, 4, 5, 6, t=7, q=8, r=9)"
   ]
  },
  {
   "cell_type": "markdown",
   "metadata": {},
   "source": [
    "## 7. Valores mutáveis como valores assumidos (<font color='red'>CUIDADO!</font>)"
   ]
  },
  {
   "cell_type": "markdown",
   "metadata": {},
   "source": [
    "Quando usando valores assumidos, deve-se tomar muito cuidado com valores que sejam mutáveis (por exemplo, uma lista).\n",
    "\n",
    "Veja o exemplo abaixo de uma função cujo parâmetro `y` é uma lista vazia se não for especificado."
   ]
  },
  {
   "cell_type": "code",
   "execution_count": null,
   "metadata": {},
   "outputs": [],
   "source": [
    "def strange(x, y = []):\n",
    "    y.append(x)\n",
    "    print(y)"
   ]
  },
  {
   "cell_type": "code",
   "execution_count": null,
   "metadata": {},
   "outputs": [],
   "source": [
    "lista = [1,2]\n",
    "strange(3,lista)"
   ]
  },
  {
   "cell_type": "code",
   "execution_count": null,
   "metadata": {},
   "outputs": [],
   "source": [
    "lista"
   ]
  },
  {
   "cell_type": "code",
   "execution_count": null,
   "metadata": {},
   "outputs": [],
   "source": [
    "strange(4, lista)"
   ]
  },
  {
   "cell_type": "markdown",
   "metadata": {},
   "source": [
    "Até agora, tudo ocorre como esperado. Vamos ver o que acontece se não especificamos a lista:"
   ]
  },
  {
   "cell_type": "code",
   "execution_count": null,
   "metadata": {},
   "outputs": [],
   "source": [
    "strange(4)"
   ]
  },
  {
   "cell_type": "markdown",
   "metadata": {},
   "source": [
    "Por enquanto é o que esperávamos. Um 4 foi adicionado a uma lista vazia.\n",
    "\n",
    "O que acontece se chamamos novamente sem especificar uma lista?"
   ]
  },
  {
   "cell_type": "code",
   "execution_count": null,
   "metadata": {},
   "outputs": [],
   "source": [
    "strange(5)"
   ]
  },
  {
   "cell_type": "markdown",
   "metadata": {},
   "source": [
    "Note como o 5 *não foi adicionado a uma lista vazia*, mas sim à mesma lista usada para adicionar o 4.\n",
    "\n",
    "Isto ocorre porque os objetos usados como _default_ são criados apenas uma vez, quando a função é definida. Depois sempre que um objeto _default_ for necessário, esse **mesmo objeto** será utilizado.\n",
    "\n",
    "A regra para lidar com isso é **evitar usar objetos mutáveis em valores default**. Ao invés disso, usamos `None`, e inicializamos com um novo objeto quando necessário: "
   ]
  },
  {
   "cell_type": "code",
   "execution_count": null,
   "metadata": {},
   "outputs": [],
   "source": [
    "def ordinary(x, y = None):\n",
    "    if y is None:\n",
    "        y = []\n",
    "    y.append(x)\n",
    "    print(y)"
   ]
  },
  {
   "cell_type": "code",
   "execution_count": null,
   "metadata": {},
   "outputs": [],
   "source": [
    "ordinary(6, lista)"
   ]
  },
  {
   "cell_type": "code",
   "execution_count": null,
   "metadata": {},
   "outputs": [],
   "source": [
    "ordinary(7)"
   ]
  },
  {
   "cell_type": "code",
   "execution_count": null,
   "metadata": {},
   "outputs": [],
   "source": [
    "ordinary(8)"
   ]
  },
  {
   "cell_type": "markdown",
   "metadata": {},
   "source": [
    "# Exercícios"
   ]
  },
  {
   "cell_type": "markdown",
   "metadata": {},
   "source": [
    "1. O que há de errado com a definição abaixo:\n",
    "```python\n",
    "def f(x, y=0, z):\n",
    "    return 2 * x + y - z\n",
    "```\n",
    "2. Escreva uma função que calcula $ae^{bx}$ onde $a$ e $b$ são constantes assumidas como 1 se não forem fornecidas.\n",
    "3. Escreva uma função para calcular uma *lista* de potências de 2 que funcione da seguinte forma: Se chamada como `powers_of_2(n)` ela calcula as potências de $2^0$ até $2^{n−1}$; se chamada como `powers_of_2(a, b)` ela calcula as potências de $2^a$ até $2^{b−1}$.\n",
    "4. Escreva uma função `make_dict` que aceita um número arbitrário de parâmetros e cria um dicionário com chaves e valores sendo valores alternados dos argumentos fornecidos. Por exemplo\n",
    "    ```python\n",
    "    make_dict('a', 1, 'b', 2, 'c', 3)\n",
    "    ```\n",
    "    \n",
    "    cria um dicionário:\n",
    "    ```python\n",
    "    {'a': 1, 'b': 2, 'c': 3}\n",
    "    ```\n",
    "    \n",
    "    <br/>\n",
    "\n",
    "    e\n",
    "    \n",
    "    <br/>\n",
    "    \n",
    "    ```python\n",
    "    make_dict(0, 1, 1, 2, 2, 4, 3, 8)\n",
    "    ```\n",
    "    \n",
    "    cria o dicionário\n",
    "\n",
    "    ```python\n",
    "    {0: 1, 1: 2, 2: 4, 3: 8}\n",
    "    ```\n",
    "5. Escreva uma função denominada `talk` que tenha o comportamento como demonstrado nos exemplos abaixo:\n",
    "    \n",
    "    `talk(1, 2, 3)` resulta em:\n",
    "    ```\n",
    "    Positional parameters: 1, 2, 3\n",
    "    ```\n",
    "    \n",
    "    <br>\n",
    "    \n",
    "    `talk(1, 2, 3, a=4, b=5)` resulta em:\n",
    "    ```\n",
    "    Positional parameters: 1, 2, 3\n",
    "    a is 4, b is 5\n",
    "    ```\n",
    "    \n",
    "    <br>\n",
    "    \n",
    "    `talk(x=10, y=20)` resulta em:\n",
    "    ```\n",
    "    x is 10, y is 20\n",
    "    ```"
   ]
  }
 ],
 "metadata": {
  "kernelspec": {
   "display_name": "Python 3 (ipykernel)",
   "language": "python",
   "name": "python3"
  },
  "language_info": {
   "codemirror_mode": {
    "name": "ipython",
    "version": 3
   },
   "file_extension": ".py",
   "mimetype": "text/x-python",
   "name": "python",
   "nbconvert_exporter": "python",
   "pygments_lexer": "ipython3",
   "version": "3.10.7"
  }
 },
 "nbformat": 4,
 "nbformat_minor": 4
}
