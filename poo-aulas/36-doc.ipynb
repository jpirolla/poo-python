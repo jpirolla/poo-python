{
 "cells": [
  {
   "cell_type": "markdown",
   "metadata": {
    "tags": []
   },
   "source": [
    "# Documentação"
   ]
  },
  {
   "cell_type": "markdown",
   "metadata": {},
   "source": [
    "Até agora, estivemos ignorando uma parte importante da programação: a documentação do código produzido.\n",
    "\n",
    "Temos dois tipos de documentação a considerar:\n",
    "\n",
    "- _Documentação interna_: é aquela usada para explicar como o código funciona, para facilitar a compreensão do código por novos programadores e sua alteração futura para correção de erros ou modificação.\n",
    "- _Documentação externa_: é aquela fornecida para os usuários de um trecho de código. Por exemplo, precisamos documentar funções, classes, métodos e módulos para quem for usá-los.\n",
    "\n",
    "A documentação interna é realizada em Python por comentários no código: de um caracter `#` até o fim da linha.\n",
    "\n",
    "A documentação externa é realizada por meio de cadeias de documentação (_documentation strings_, ou simplesmente _docstrings_). Uma função, um método, uma classe ou um módulo devem ser acompanhados por uma cadeia de documentação, que é uma cadeia de caracteres colocada logo no começo de seu código.\n",
    "\n",
    "As principais vantagens do uso de _docstrings_ são:\n",
    "- Os ambientes de programação Python conhecem essa convenção, de forma que eles usam as docstring para fornecer ajuda à programação durante a edição do código.\n",
    "- Existem ferramentas que usam essa convenção para extrair a documentação automaticamente (por exemplo, para colocá-la em um site Web).\n",
    "\n",
    "As convenções para o uso de _docstrings_ na comunidade Python são estabelecidas no [PEP 257](https://www.python.org/dev/peps/pep-0257/). Aqui apresento um resumo.\n",
    "\n",
    "Para documentar uma função, colocamos uma cadeia descrevendo o que a função faz como primeiro elemento na função:"
   ]
  },
  {
   "cell_type": "code",
   "execution_count": null,
   "metadata": {},
   "outputs": [],
   "source": [
    "def fibonacci(n):\n",
    "    '''Returns the n first numbers of the Fibonacci sequence starting with 1 1...'''\n",
    "    seq = [1, 1]\n",
    "    i = 2\n",
    "    while i < n:\n",
    "        seq.append(seq[-1] + seq[-2])\n",
    "        i += 1\n",
    "    return seq[:n]"
   ]
  },
  {
   "cell_type": "code",
   "execution_count": null,
   "metadata": {},
   "outputs": [],
   "source": [
    "fibonacci(5)"
   ]
  },
  {
   "cell_type": "markdown",
   "metadata": {},
   "source": [
    "Convencionamente, usamos `'''` mesmo quando a cadeia usa apenas uma linha. Isso facilita o aumento da cadeia posteriormente.\n",
    "\n",
    "Agora podemos pedir informações ao Notebook Jupyter sobre essa função:"
   ]
  },
  {
   "cell_type": "code",
   "execution_count": null,
   "metadata": {},
   "outputs": [],
   "source": [
    "fibonacci?"
   ]
  },
  {
   "cell_type": "code",
   "execution_count": null,
   "metadata": {},
   "outputs": [],
   "source": [
    "help(fibonacci)"
   ]
  },
  {
   "cell_type": "markdown",
   "metadata": {},
   "source": [
    "A descrição de uma função deve dizer o que ela faz dados os parâmetros, e indicar claramente o que ela retorna caso algo seja retornado.\n",
    "\n",
    "Uma forma mais elaborada consiste em dividir a _docstring_ em duas partes: uma descrição breve em apenas uma linha, seguida de uma descrição mais elaborada possivelmente em mútliplas linhas.  Deve haver uma linha em branco entre essas duas partes:"
   ]
  },
  {
   "cell_type": "code",
   "execution_count": null,
   "metadata": {},
   "outputs": [],
   "source": [
    "def fibonacci(n):\n",
    "    '''Returns the n first numbers of the Fibonacci sequence starting with 1 1...\n",
    "    \n",
    "    The Fibonacci sequence is constructed by the recursive relation\n",
    "        f[i] = f[i - 1] + f[i - 2], f[0] = f[1] = 1\n",
    "        \n",
    "    Arguments:\n",
    "    n: The size of the desired sequence\n",
    "    \n",
    "    Returns:\n",
    "    A list with the first n Fibonacci numbers in increasing order\n",
    "    '''\n",
    "    seq = [1, 1]\n",
    "    i = 2\n",
    "    while i < n:\n",
    "        seq.append(seq[-1] + seq[-2])\n",
    "        i += 1\n",
    "    return seq[:n]"
   ]
  },
  {
   "cell_type": "code",
   "execution_count": null,
   "metadata": {},
   "outputs": [],
   "source": [
    "fibonacci?"
   ]
  },
  {
   "cell_type": "code",
   "execution_count": null,
   "metadata": {},
   "outputs": [],
   "source": [
    "help(fibonacci)"
   ]
  },
  {
   "cell_type": "markdown",
   "metadata": {},
   "source": [
    "Métodos são funções, e devem serguir as mesmas convenções das funções livres.\n",
    "\n",
    "Classes são documentadas por uma `docstring` que aparece logo após a declaração da classe.\n",
    "\n",
    "Módulos definidos em um arquivo têm uma `docstring` como primeiro elemento no arquivo. Módulos definidos por um diretório são documentados por uma `docstring` como o primeiro elemento no correspondente `__init__.py`."
   ]
  },
  {
   "cell_type": "code",
   "execution_count": null,
   "metadata": {},
   "outputs": [],
   "source": [
    "class Counter:\n",
    "    '''Keeps a zero initialised counter which counts strictly up by one.\n",
    "    \n",
    "    Public methods:\n",
    "    value(): returns the current value of the counter.\n",
    "    up(): increments the counter.\n",
    "    '''\n",
    "    \n",
    "    def __init__(self):\n",
    "        '''Creates a counter and initialises it to zero.'''\n",
    "        self._value = 0\n",
    "        \n",
    "    def value(self):\n",
    "        '''Returns the current value of the counter.'''\n",
    "        return self._value\n",
    "    \n",
    "    def up(self):\n",
    "        '''Increments the counter.'''\n",
    "        self._value += 1"
   ]
  },
  {
   "cell_type": "code",
   "execution_count": null,
   "metadata": {},
   "outputs": [],
   "source": [
    "Counter?"
   ]
  },
  {
   "cell_type": "code",
   "execution_count": null,
   "metadata": {},
   "outputs": [],
   "source": [
    "Counter.value?"
   ]
  },
  {
   "cell_type": "code",
   "execution_count": null,
   "metadata": {},
   "outputs": [],
   "source": [
    "Counter.up?"
   ]
  },
  {
   "cell_type": "code",
   "execution_count": null,
   "metadata": {},
   "outputs": [],
   "source": [
    "help(Counter)"
   ]
  }
 ],
 "metadata": {
  "kernelspec": {
   "display_name": "Python 3 (ipykernel)",
   "language": "python",
   "name": "python3"
  },
  "language_info": {
   "codemirror_mode": {
    "name": "ipython",
    "version": 3
   },
   "file_extension": ".py",
   "mimetype": "text/x-python",
   "name": "python",
   "nbconvert_exporter": "python",
   "pygments_lexer": "ipython3",
   "version": "3.10.6"
  }
 },
 "nbformat": 4,
 "nbformat_minor": 4
}
