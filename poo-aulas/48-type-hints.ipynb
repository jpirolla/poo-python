{
 "cells": [
  {
   "cell_type": "markdown",
   "id": "b29b5e21-b57d-4a8a-a81f-c94773192cdc",
   "metadata": {},
   "source": [
    "# Dicas de tipo (*type hints*)"
   ]
  },
  {
   "cell_type": "markdown",
   "id": "8ecb1027-b3aa-4230-b229-e5a70d088e19",
   "metadata": {},
   "source": [
    "## Conceitos básicos"
   ]
  },
  {
   "cell_type": "markdown",
   "id": "6d2ba22f-72b3-44fa-b33c-0acac290cbd6",
   "metadata": {},
   "source": [
    "Conforme vimos, Python é uma linguagem onde variáveis guardam referências para objetos, e os tipos são associados com os objetos, e não com as variáveis. Da mesma forma, uma função pode retornar objetos de diversos tipos."
   ]
  },
  {
   "cell_type": "code",
   "execution_count": null,
   "id": "93c6a98f-f01e-430c-a0c1-db988b815c1e",
   "metadata": {},
   "outputs": [],
   "source": [
    "x = 1\n",
    "print(type(x))\n",
    "x = \"Oi\"\n",
    "print(type(x))"
   ]
  },
  {
   "cell_type": "code",
   "execution_count": null,
   "id": "f5de40d9-bc4c-43f0-bb32-59378866adde",
   "metadata": {},
   "outputs": [],
   "source": [
    "def f(n):\n",
    "    if n < 0:\n",
    "        return \"Negativo\"\n",
    "    if n > 0:\n",
    "        return 1.0\n",
    "    return 0\n",
    "\n",
    "print(type(f(-1.0)))\n",
    "print(type(f(43.7)))\n",
    "print(type(f(0)))"
   ]
  },
  {
   "cell_type": "markdown",
   "id": "1584ce9f-d7eb-4ae0-bb32-969b05cf2c06",
   "metadata": {},
   "source": [
    "Essa flexibilidade, apesar de útil em algumas situações, é raramente usada, e muitas vezes confusa. Devido a isso, variáveis, parâmetros de função e retornos de função geralmente têm um tipo bem definido.\n",
    "\n",
    "Recentemente, Python introduziu a possibilidade de indicar os tipos esperados para variáveis ou valores de retorno de funções, nas chamadas **dicas de tipo**.\n",
    "\n",
    "Por exemplo, se fazemos:"
   ]
  },
  {
   "cell_type": "code",
   "execution_count": null,
   "id": "fa12ccb0-f7c6-45e0-adeb-6ddd78fa90dd",
   "metadata": {},
   "outputs": [],
   "source": [
    "a : int = 0"
   ]
  },
  {
   "cell_type": "markdown",
   "id": "9f24bcf8-3006-4e64-a77f-b51b22636128",
   "metadata": {},
   "source": [
    "estamos não apenas criando uma variável de nome `a` que tem uma referência para um objeto `int` de valor 0, como também estamos indicando que essa variável irá guardas sempre referências para valores `int`.\n",
    "\n",
    "Da mesma forma, podemos anotar parâmetros de funções e seus valores de retorno:"
   ]
  },
  {
   "cell_type": "code",
   "execution_count": null,
   "id": "35bacada-5950-4dab-be24-74bd994e9dc2",
   "metadata": {},
   "outputs": [],
   "source": [
    "def sum_squares(n: int) -> int:\n",
    "    return sum(i ** 2 for i in range(n))"
   ]
  },
  {
   "cell_type": "markdown",
   "id": "4a335432-ddce-45c6-b2c3-b9eaf9d3c5b7",
   "metadata": {},
   "source": [
    "Essas anotações indicam que `sum_squares` espera que seu parâmetro `n` seja um `int` e também que ela irá retornar um `int`."
   ]
  },
  {
   "cell_type": "code",
   "execution_count": null,
   "id": "c64e5e2b-4ac1-44ee-b3a7-75231c24f143",
   "metadata": {},
   "outputs": [],
   "source": [
    "sum_squares(10)"
   ]
  },
  {
   "cell_type": "markdown",
   "id": "b92137c4-28c8-42f6-acfb-8e1d1dbdf8f0",
   "metadata": {},
   "source": [
    "## Efeito"
   ]
  },
  {
   "cell_type": "markdown",
   "id": "34388e8f-4c62-480d-9520-e4ee7cc70bf9",
   "metadata": {},
   "source": [
    "É importante notar que, para o Python, a anotação de dica de tipo é ignorada, Isto é, ela não tem nenhum efeito durante a execução:"
   ]
  },
  {
   "cell_type": "code",
   "execution_count": null,
   "id": "5739dd95-f9a1-40de-bbd8-099f831103db",
   "metadata": {},
   "outputs": [],
   "source": [
    "i : int = 0\n",
    "print(type(i))\n",
    "i = 3.2\n",
    "print(type(i))"
   ]
  },
  {
   "cell_type": "markdown",
   "id": "3a385f31-3255-468c-9dd4-794e34c91c7c",
   "metadata": {},
   "source": [
    "De fato, dicas de tipo foram introduzidas como uma forma de **documentação** que pode ser lida por ferramentas especialmente preparadas, como `mypy`, `pyright` e alguns ambientes de programação, que podem usar essas informações para ajudar a encontrar erros e fornecer informações para os usuários.\n",
    "\n",
    "Note que o Jupyter incorpora as informações de tipo na documentação:"
   ]
  },
  {
   "cell_type": "code",
   "execution_count": null,
   "id": "2ff8cf83-9e4a-4810-8bfe-4e58aff69bcb",
   "metadata": {},
   "outputs": [],
   "source": [
    "sum_squares?"
   ]
  },
  {
   "cell_type": "markdown",
   "id": "88b5307e-b742-4c02-a13d-8d9a77b2c4ee",
   "metadata": {},
   "source": [
    "## Alguns casos mais complexos"
   ]
  },
  {
   "cell_type": "markdown",
   "id": "beb8c6fe-0395-4e51-9230-3699ad5a73de",
   "metadata": {},
   "source": [
    "Para tipos simples, como nos exemplos anteriores, basta usar o nome do tipo. Mas em alguns casos isso não é suficiente. Por exemplo, no caso de listas. Não adianta muito saber que temos uma lista se não sabemos do que é essa lista (quer dizer, que tipo de objetos temos na lista).\n",
    "\n",
    "Para isso usamos uma sintaxe como no exemplo abaixo:"
   ]
  },
  {
   "cell_type": "code",
   "execution_count": null,
   "id": "d06845e9-0863-4893-8629-6d4e3ce28c62",
   "metadata": {},
   "outputs": [],
   "source": [
    "def only_even(values: list[int]) -> list[int]:\n",
    "    return list(filter(lambda x: x % 2 == 0, values))"
   ]
  },
  {
   "cell_type": "code",
   "execution_count": null,
   "id": "5a5ce58e-2bc0-45f9-8ead-84c137b9ca24",
   "metadata": {},
   "outputs": [],
   "source": [
    "only_even([1, 2, 3, 4, 5, 6, 7, 8, 9])"
   ]
  },
  {
   "cell_type": "markdown",
   "id": "65f318bb-3c9d-4da4-ae61-141cd5e3d94b",
   "metadata": {},
   "source": [
    "Neste exemplo, estamos dizendo que a função `only_even` espera receber em seu parâmetro `values` uma lista de valores do tipo `int`, e irá por sua vez retornar uma lista de valores do tipo `int`.\n",
    "\n",
    "Para tuplas, a sintaxe é similar:"
   ]
  },
  {
   "cell_type": "code",
   "execution_count": null,
   "id": "981e9ac5-6c65-4315-b9fb-5ae52ce717ad",
   "metadata": {},
   "outputs": [],
   "source": [
    "def distance(p1: tuple[float, float], p2: tuple[float, float]) -> float:\n",
    "    from math import hypot\n",
    "    return hypot(p1[0] - p2[0], p1[1] - p2[1])"
   ]
  },
  {
   "cell_type": "code",
   "execution_count": null,
   "id": "9c25ba35-16b1-4c21-8dae-0a1b2aae8b14",
   "metadata": {},
   "outputs": [],
   "source": [
    "distance((1.0, 0.0), (0.0, 1.0))"
   ]
  },
  {
   "cell_type": "markdown",
   "id": "1a8d8135-97fb-4e24-9aef-19b64ac5df19",
   "metadata": {},
   "source": [
    "Neste exemplo, dizemos que os parâmetros `p1` e `p2` devem ser tuplas com dois valores `float` e a função irá retornar um `float`."
   ]
  },
  {
   "cell_type": "markdown",
   "id": "ef9cbdce-746d-4811-9545-623507cbeb06",
   "metadata": {},
   "source": [
    "Também dicionários têm uma sintaxe semelhante, com indicação do tipo da chave e do tipo do valor:"
   ]
  },
  {
   "cell_type": "code",
   "execution_count": null,
   "id": "0fe8e4f1-bc72-45f0-ad6b-91a4bbd8bfb5",
   "metadata": {},
   "outputs": [],
   "source": [
    "def square_roots_of(values: list[int]) -> dict[int, float]:\n",
    "    from math import sqrt\n",
    "    return {i: sqrt(i) for i in values}"
   ]
  },
  {
   "cell_type": "code",
   "execution_count": null,
   "id": "e3fa758d-db83-484e-999a-398bcb8b2a3f",
   "metadata": {},
   "outputs": [],
   "source": [
    "square_roots_of([1, 2, 4, 6, 8, 3, 9, 2, 4, 3])"
   ]
  },
  {
   "cell_type": "markdown",
   "id": "293d139a-b1eb-4531-a079-e9a913b26ac2",
   "metadata": {},
   "source": [
    "Este exemplo indica que a função `square_roots_of` retorna um dicionário no qual as chaves são de tipo `int` e os valores de tipo `float`.\n",
    "\n",
    "Em algumas situações, queremos que uma variável possa referenciar mais do que um tipo, ou uma função retornar mais do que um tipo. Se temos uma lista pequena de tipos possíveis (o caso normal) podemos indicar isso pelo uso do operador `|`:"
   ]
  },
  {
   "cell_type": "code",
   "execution_count": null,
   "id": "b5a896dc-4109-48a3-a999-844b5ebb667f",
   "metadata": {},
   "outputs": [],
   "source": [
    "def remember_value(x: int, old_values: list[int] | None = None) -> list[int]:\n",
    "    if old_values is None:\n",
    "        old_values = []\n",
    "    old_values.append(x)\n",
    "    return old_values"
   ]
  },
  {
   "cell_type": "code",
   "execution_count": null,
   "id": "fa4a6e8f-f6de-4a45-b5f6-0168afe9888c",
   "metadata": {},
   "outputs": [],
   "source": [
    "allv = remember_value(10)\n",
    "print(allv)\n",
    "allv = remember_value(12, allv)\n",
    "print(allv)"
   ]
  },
  {
   "cell_type": "markdown",
   "id": "607399a0-764b-404b-bc61-35ae7f33f14a",
   "metadata": {},
   "source": [
    "Neste caso, dizemos que o parâmetro `old_values` pode ou ter uma referência para uma lista de `int` ou então ser `None`.\n",
    "\n",
    "Este exemplo também demonstra que o valor default é colocado depois da dica de tipo."
   ]
  },
  {
   "cell_type": "markdown",
   "id": "279332dc-47b5-40de-8571-944c4203fad9",
   "metadata": {},
   "source": [
    "## Classes"
   ]
  },
  {
   "cell_type": "markdown",
   "id": "b857f77a-1751-4cbb-9053-33d4844718e2",
   "metadata": {},
   "source": [
    "Seus tipos definidos como classes podem também ser usados nas dicas de tipos, e o sistema respeita herança, isto é, se um parâmetro (ou outra variável) é especificado como do tipo da classe `A`, então você pode passar referências para objetos de classes derivadas de `A`."
   ]
  },
  {
   "cell_type": "code",
   "execution_count": null,
   "id": "0be604bc-e96a-4c52-ac35-33184d5bcf82",
   "metadata": {},
   "outputs": [],
   "source": [
    "class Counter:\n",
    "    def __init__(self):\n",
    "        self._value = 0\n",
    "        \n",
    "    def get(self):\n",
    "        return self._value\n",
    "    \n",
    "    def up(self):\n",
    "        self._value += 1\n",
    "        \n",
    "class UpDownCounter(Counter):\n",
    "    def __init__(self):\n",
    "        super().__init__()\n",
    "        \n",
    "    def down(self):\n",
    "        self._value -= 1"
   ]
  },
  {
   "cell_type": "code",
   "execution_count": null,
   "id": "d87d6ac1-eab9-4435-ad78-0ba7b7ebb871",
   "metadata": {},
   "outputs": [],
   "source": [
    "up_1 : Counter = Counter()\n",
    "down_1 : UpDownCounter = UpDownCounter()"
   ]
  },
  {
   "cell_type": "code",
   "execution_count": null,
   "id": "d8573a8d-80b4-47d8-8613-39c76857e37e",
   "metadata": {},
   "outputs": [],
   "source": [
    "def up_all(counters: list[Counter]) -> None:\n",
    "    for c in counters:\n",
    "        c.up()"
   ]
  },
  {
   "cell_type": "code",
   "execution_count": null,
   "id": "4c33e97a-a23f-4106-9a07-125602ec3601",
   "metadata": {},
   "outputs": [],
   "source": [
    "print(up_1.get())\n",
    "print(down_1.get())\n",
    "\n",
    "up_all([up_1, down_1])\n",
    "\n",
    "print(up_1.get())\n",
    "print(down_1.get())"
   ]
  },
  {
   "cell_type": "markdown",
   "id": "f500e104-8d87-416e-a258-ac46857ccebc",
   "metadata": {},
   "source": [
    "O `-> None` na definição da função indica que essa função não retorna nada."
   ]
  },
  {
   "cell_type": "code",
   "execution_count": null,
   "id": "475ed0d0-93a2-4865-aca7-41fbce87ea3a",
   "metadata": {},
   "outputs": [],
   "source": [
    "up_all?"
   ]
  },
  {
   "cell_type": "markdown",
   "id": "d3916163-d468-4500-bb0a-5541be2686c3",
   "metadata": {},
   "source": [
    "## Sinônimos de tipos"
   ]
  },
  {
   "cell_type": "markdown",
   "id": "4c942f11-4615-405f-a4ee-c157d2a71fcd",
   "metadata": {},
   "source": [
    "Para melhorar a documentação, podemos definir *sinônimos* para alguns tipos. Isso permite maior clareza na compreensão do código, quando usado corretamente.\n",
    "\n",
    "Por exemplo, a função `distance` definida anteriormente e repetida abaixo não é muito clara, pois não sabemos o que cada tupla representa:"
   ]
  },
  {
   "cell_type": "code",
   "execution_count": null,
   "id": "938c7851-b989-4064-b9ac-1dc4592fde18",
   "metadata": {},
   "outputs": [],
   "source": [
    "def distance(p1: tuple[float, float], p2: tuple[float, float]) -> float:\n",
    "    from math import hypot\n",
    "    return hypot(p1[0] - p2[0], p1[1] - p2[1])"
   ]
  },
  {
   "cell_type": "markdown",
   "id": "747b7f38-90c6-4c05-b55f-de0486dcab11",
   "metadata": {},
   "source": [
    "Podemos melhorar a clareza definido um nome para o tipo que representa um ponto em um plano bidimensional:"
   ]
  },
  {
   "cell_type": "code",
   "execution_count": null,
   "id": "ff08bddd-0c46-4e53-bf1a-a80378ddf67e",
   "metadata": {
    "tags": []
   },
   "outputs": [],
   "source": [
    "Point2D = tuple[float, float]\n",
    "\n",
    "def distance(p1: Point2D, p2: Point2D) -> float:\n",
    "    from math import hypot\n",
    "    return hypot(p1[0] - p2[0], p1[1] - p2[1])"
   ]
  },
  {
   "cell_type": "markdown",
   "id": "66133833-4c32-490e-aa11-c01eaf14314d",
   "metadata": {},
   "source": [
    "A leitura do código é agora mais clara. O problema é que isso não ajuda na documentação:"
   ]
  },
  {
   "cell_type": "code",
   "execution_count": null,
   "id": "c217add1-3ee0-4070-86ae-9c9c6c508d8a",
   "metadata": {
    "tags": []
   },
   "outputs": [],
   "source": [
    "distance?"
   ]
  },
  {
   "cell_type": "markdown",
   "id": "0de5cc01-1db4-4e9d-a3b0-58445586a432",
   "metadata": {},
   "source": [
    "## O módulo `typing`"
   ]
  },
  {
   "cell_type": "markdown",
   "id": "225fee40-147a-4f55-8b37-fbbd65cf259f",
   "metadata": {},
   "source": [
    "Para algumas situações, o que foi apresentado acima não é suficiente para anotar os tipos de um código Python. O módulo `typing` foi criado em parte para permitir a anotação de tipos em situações que apenas o uso de tipos pré-definidos ou criados pelo usuário não é suficiente, e em parte para permitir uma melhor documentação dos tipos.\n",
    "\n",
    "Vejamos algumas possibilidades fornecidas por esse módulo."
   ]
  },
  {
   "cell_type": "markdown",
   "id": "c973cf8c-8e53-45c3-bb8f-068cb7bace87",
   "metadata": {},
   "source": [
    "### Definição de novos tipos"
   ]
  },
  {
   "cell_type": "markdown",
   "id": "6586b015-b22c-4800-9892-c64d9bf43248",
   "metadata": {},
   "source": [
    "Podemos definir um novo tipo, tanto dando novo nome a tipo já existente quanto dando um nome a um tipo composto."
   ]
  },
  {
   "cell_type": "code",
   "execution_count": null,
   "id": "648d6818-d7e8-474f-ba7c-06a0019a66f6",
   "metadata": {
    "tags": []
   },
   "outputs": [],
   "source": [
    "from typing import NewType\n",
    "\n",
    "Index = NewType('Index', int)\n",
    "Vector = NewType('Vector', list[float])\n",
    "\n",
    "def get_range(vec: Vector, start: Index, finish: Index) -> Vector:\n",
    "    return vec[start:finish]\n",
    "\n",
    "get_range([10., 20., 30., 40., 50., 60., 70.], 2, 5)"
   ]
  },
  {
   "cell_type": "markdown",
   "id": "3d81063e-35db-44a7-9eb1-8debe4153ef7",
   "metadata": {},
   "source": [
    "Agora temos uma boa documentação:"
   ]
  },
  {
   "cell_type": "code",
   "execution_count": null,
   "id": "4902d7a2-80b7-4e2f-8d9a-a12fb3d89121",
   "metadata": {
    "tags": []
   },
   "outputs": [],
   "source": [
    "get_range?"
   ]
  },
  {
   "cell_type": "markdown",
   "id": "aa38a6a1-c225-4261-bcbb-32ac5e43598e",
   "metadata": {},
   "source": [
    "Podemos fazer o mesmo com o tipo `Point2D` acima:"
   ]
  },
  {
   "cell_type": "code",
   "execution_count": null,
   "id": "afa0a108-e109-4d9b-926d-f1b202fa51e7",
   "metadata": {
    "tags": []
   },
   "outputs": [],
   "source": [
    "Point2D = NewType('Point2D', tuple[float, float])\n",
    "\n",
    "def distance(p1: Point2D, p2: Point2D) -> float:\n",
    "    from math import hypot\n",
    "    return hypot(p1[0] - p2[0], p1[1] - p2[1])"
   ]
  },
  {
   "cell_type": "code",
   "execution_count": null,
   "id": "847e074a-084e-40e9-84f9-8dacae29c2bd",
   "metadata": {
    "tags": []
   },
   "outputs": [],
   "source": [
    "distance?"
   ]
  },
  {
   "cell_type": "markdown",
   "id": "3e636d0a-401c-4d23-b71f-3ca0b22e3424",
   "metadata": {},
   "source": [
    "### Valores opcionais"
   ]
  },
  {
   "cell_type": "markdown",
   "id": "a836f14f-3dc0-4e44-a0b8-3ff625c37587",
   "metadata": {},
   "source": [
    "Um caso comum é quando uma variável ou o retorno de uma função pode ter um valor de um dado tipo ou então ter `None`, quando nenhum valor ainda foi fornecido ou não pode ser calculado.\n",
    "\n",
    "Vimos que isso pode ser expresso com o uso do operador `|`, mas uma forma mais clara é usar `Optional`:"
   ]
  },
  {
   "cell_type": "code",
   "execution_count": null,
   "id": "d418c6ba-e7d5-4a4b-b35d-15759cd8e103",
   "metadata": {
    "tags": []
   },
   "outputs": [],
   "source": [
    "from typing import Optional\n",
    "\n",
    "def remember_value(x: int, old_values: Optional[list[int]] = None) -> list[int]:\n",
    "    if old_values is None:\n",
    "        old_values = []\n",
    "    old_values.append(x)\n",
    "    return old_values"
   ]
  },
  {
   "cell_type": "markdown",
   "id": "972faef9-e59e-4e4d-9b74-2ea2d2b22539",
   "metadata": {},
   "source": [
    "Esse código diz que o parâmetro `old_values` é opcional, podendo ser ou uma lista de inteiros ou `None`."
   ]
  },
  {
   "cell_type": "code",
   "execution_count": null,
   "id": "7d7a1dd9-eea8-4e0b-8540-7cb76b0afe73",
   "metadata": {
    "tags": []
   },
   "outputs": [],
   "source": [
    "def quotient_remainder(n: int, d: int) -> Optional[tuple[int, int]]:\n",
    "    if d == 0:\n",
    "        return None\n",
    "    return n // d, n % d"
   ]
  },
  {
   "cell_type": "code",
   "execution_count": null,
   "id": "28185348-5210-4731-9a90-59d232607320",
   "metadata": {
    "tags": []
   },
   "outputs": [],
   "source": [
    "print(quotient_remainder(10, 3))\n",
    "print(quotient_remainder(12, 0))"
   ]
  },
  {
   "cell_type": "markdown",
   "id": "120266bd-d7d5-4926-9d95-ce37cbd10407",
   "metadata": {},
   "source": [
    "### Variáveis de tipo"
   ]
  },
  {
   "cell_type": "markdown",
   "id": "aed1d4ad-b1d5-4375-8c84-5a85e8ec8a80",
   "metadata": {},
   "source": [
    "Operações definidas por funções são genéricas, e muitas vezes queremos deixar essa genericidade explícita. Por exemplo, a função abaixo retorna o último elemento de uma lista:"
   ]
  },
  {
   "cell_type": "code",
   "execution_count": null,
   "id": "f8d66eee-3e74-411e-b18b-57efc1895c49",
   "metadata": {
    "tags": []
   },
   "outputs": [],
   "source": [
    "def last(values):\n",
    "    return values[-1]"
   ]
  },
  {
   "cell_type": "markdown",
   "id": "3aa9c870-2e34-4492-85a7-a94e32448b8f",
   "metadata": {},
   "source": [
    "Obviamente, a função funciona não importa o tipo de elementos da lista, mas o valor retornado vai ser do tipo de elementos contidos na lista.\n",
    "\n",
    "Assim, se anotamos algo como:"
   ]
  },
  {
   "cell_type": "code",
   "execution_count": null,
   "id": "2872416d-205c-4939-b45e-47f45cbbb2e9",
   "metadata": {
    "tags": []
   },
   "outputs": [],
   "source": [
    "def last(values: list[int]) -> int:\n",
    "    return values[-1]"
   ]
  },
  {
   "cell_type": "markdown",
   "id": "d9480081-7048-4be2-a8f8-c3a4e282ef41",
   "metadata": {},
   "source": [
    "Estamos sendo muito restritivos. Mas como podemos dizer que o tipo do retorno da fução é o tipo dos elementos da lista? Para isso, podemos definir uma *variável de tipo*, que é usada para indicar um tipo qualquer, mas uma vez escolhido o tipo em um contexto, o mesmo tipo é usado em todo lugar."
   ]
  },
  {
   "cell_type": "code",
   "execution_count": null,
   "id": "72c25f87-cdbb-4cff-a1b6-0348aa861cae",
   "metadata": {
    "tags": []
   },
   "outputs": [],
   "source": [
    "from typing import TypeVar\n",
    "\n",
    "T = TypeVar('T')\n",
    "\n",
    "def last(values: list[T]) -> T:\n",
    "    return values[-1]"
   ]
  },
  {
   "cell_type": "code",
   "execution_count": null,
   "id": "4d8893bd-0b2c-4280-88dd-e1149ea553a0",
   "metadata": {
    "tags": []
   },
   "outputs": [],
   "source": [
    "last?"
   ]
  },
  {
   "cell_type": "markdown",
   "id": "3c4ca16d-7479-4b89-a2cc-2b1e87207217",
   "metadata": {},
   "source": [
    "Isso pode ser usado também para indicar que vários parâmetros são do mesmo tipo:"
   ]
  },
  {
   "cell_type": "code",
   "execution_count": null,
   "id": "bdbbd4b6-8e5c-430f-a277-9c77af97eb88",
   "metadata": {
    "tags": []
   },
   "outputs": [],
   "source": [
    "def shift(a: T, b: T, c: T) -> tuple[T, T, T]:\n",
    "    return b, c, a"
   ]
  },
  {
   "cell_type": "code",
   "execution_count": null,
   "id": "a8644c18-581b-414e-8383-d055aa2f8d18",
   "metadata": {
    "tags": []
   },
   "outputs": [],
   "source": [
    "shift(1, 2, 3)"
   ]
  },
  {
   "cell_type": "code",
   "execution_count": null,
   "id": "d2afa698-e1dc-4083-80b4-18223ba9d2c1",
   "metadata": {
    "tags": []
   },
   "outputs": [],
   "source": [
    "shift?"
   ]
  },
  {
   "cell_type": "markdown",
   "id": "93797aa4-da4c-448d-997b-e30274cd3082",
   "metadata": {},
   "source": [
    "Neste código, queremos que os três parâmetros sejam referências para objetos do mesmo tipo."
   ]
  },
  {
   "cell_type": "markdown",
   "id": "a7f4309f-6990-48e5-94d7-c6ba28d7a48a",
   "metadata": {},
   "source": [
    "### Funções"
   ]
  },
  {
   "cell_type": "markdown",
   "id": "0eca44f0-1b01-4372-9ff8-36d6c3726fa7",
   "metadata": {},
   "source": [
    "Como vimos, Python permite que (referências para) funções sejam colocadas em variáveis ou retornadas por funções. Para descrever o tipo dessas funções, usamos `Callable` do módulo `typing`.\n",
    "\n",
    "Por exemplo, a função abaixo soma os valores detornados por uma dada função aplicada a todos os valores de uma lista:"
   ]
  },
  {
   "cell_type": "code",
   "execution_count": null,
   "id": "e4687449-7103-474b-b468-9f9a8022c24c",
   "metadata": {
    "tags": []
   },
   "outputs": [],
   "source": [
    "def total_map(f, values):\n",
    "    return sum(map(f, values))"
   ]
  },
  {
   "cell_type": "markdown",
   "id": "988a9538-c08a-4550-82a5-0da094000130",
   "metadata": {},
   "source": [
    "Como podemos anotar essa função? Primeiro, precisamos saber como descrever o tipo do parâmetro `f` e depois do valor de retorno. Vamos por enquanto supor que `values` é uma lista de valores, todos do mesmo tipo. Vamos usar a variável de tipo `T` previamente definida para indicar o tipo dos elementos nessa lista.\n",
    "\n",
    "O tipo de `f` é declarado usando `Callable`, que tem dois \"parâmetros\": uma lista com os tipos dos parâmetros da função e o tipo do valor retornado."
   ]
  },
  {
   "cell_type": "code",
   "execution_count": null,
   "id": "4408249f-ba9e-4ae6-ba3f-91fb33042cf9",
   "metadata": {
    "tags": []
   },
   "outputs": [],
   "source": [
    "from typing import Callable\n",
    "\n",
    "def total_map(f: Callable[[T], T], values: list[T]) -> T:\n",
    "    return sum(map(f, values))"
   ]
  },
  {
   "cell_type": "code",
   "execution_count": null,
   "id": "67d467a6-f461-4e2f-af1e-d6172003563d",
   "metadata": {
    "tags": []
   },
   "outputs": [],
   "source": [
    "total_map?"
   ]
  },
  {
   "cell_type": "markdown",
   "id": "7666bc43-09fa-4e17-9ca2-d12ff7dbfe96",
   "metadata": {},
   "source": [
    "Esse código diz que:\n",
    "- `f` é uma função (ou alguma outra coisa que pode ser chamada como uma função, por exemplo um objeto de uma classe que implementa o método `__call__`) que recebe um parâmetro de um certo tipo e retorna um valor do mesmo tipo do parâmetro recebido;\n",
    "- `values` é uma lista de objetos do mesmo tipo do parâmetro da função;\n",
    "- O valor retornado é do mesmo tipo dos elementos da lista."
   ]
  },
  {
   "cell_type": "markdown",
   "id": "118dabd2-19e4-46da-8a9b-1356ddd30667",
   "metadata": {},
   "source": [
    "Agora vamos ver um exemplo de uma função que retorna uma função."
   ]
  },
  {
   "cell_type": "code",
   "execution_count": null,
   "id": "17cd9d2a-fe3d-45d7-b59f-6907f5b5e792",
   "metadata": {
    "tags": []
   },
   "outputs": [],
   "source": [
    "def scale_by(a, b):\n",
    "    def do_it(x):\n",
    "        return a * x + b\n",
    "    return do_it"
   ]
  },
  {
   "cell_type": "markdown",
   "id": "8ed659d6-3b18-4824-860f-a647077e896a",
   "metadata": {},
   "source": [
    "Essa função retorna uma função que recebe um parâmetro e o multiplica por `a` e depois soma `b`."
   ]
  },
  {
   "cell_type": "code",
   "execution_count": null,
   "id": "89c82d05-84d5-405e-8d02-b0d7373d5d6c",
   "metadata": {
    "tags": []
   },
   "outputs": [],
   "source": [
    "f1 = scale_by(2, 3)\n",
    "print(f1(4), f1(7))\n",
    "f2 = scale_by(0.1, -2)\n",
    "print(f2(4), f2(7))"
   ]
  },
  {
   "cell_type": "markdown",
   "id": "63fed5ce-8479-4347-941f-48c4a9ad5465",
   "metadata": {},
   "source": [
    "Vamos anotar novamente fazendo uso da variável de tipo `T`, para permitir que a função seja usada para diversos tipos de dados."
   ]
  },
  {
   "cell_type": "code",
   "execution_count": null,
   "id": "8f9cd48e-785e-41c4-8c60-f517e63ad756",
   "metadata": {
    "tags": []
   },
   "outputs": [],
   "source": [
    "def scale_by(a: T, b: T) -> Callable[[T], T]:\n",
    "    def do_it(x: T) -> T:\n",
    "        return a * x + b\n",
    "    return do_it"
   ]
  },
  {
   "cell_type": "markdown",
   "id": "c264eb52-d6d9-4cf7-8013-fbf6b564be49",
   "metadata": {},
   "source": [
    "**Nota:** Neste exemplo, estamos dizendo que a função funciona para qualquer tipo, desde que os tipos de `a`, `b` e do parâmetro `x` a ser fornecido para a função criada sejam o mesmo. Isso não é verdade, pois precisamos ter os operadores de prdouto e soma definidos."
   ]
  },
  {
   "cell_type": "markdown",
   "id": "57fb65be-e1b0-4c28-889e-7e2dd108a82c",
   "metadata": {},
   "source": [
    "### Classes genéricas"
   ]
  },
  {
   "cell_type": "markdown",
   "id": "e0a8a180-69c1-4d6d-a966-b597101ea17a",
   "metadata": {},
   "source": [
    "Da mesma forma que funções, classes também podem ser genéricas, no sentido que funcionam para vários tipois de dados.\n",
    "\n",
    "Por exemplo, a classe (mais ou menos inútil) abaixo, guarda os últimos 10 valores fornecidos."
   ]
  },
  {
   "cell_type": "code",
   "execution_count": null,
   "id": "e02d4e1d-1c93-4a38-8bd3-6aec28fbf40d",
   "metadata": {
    "tags": []
   },
   "outputs": [],
   "source": [
    "class LastTen:\n",
    "    def __init__(self):\n",
    "        self._values = []\n",
    "        \n",
    "    def insert(self, x):\n",
    "        self._values.append(x)\n",
    "        if len(self._values) == 11:\n",
    "            self._values.pop(0)\n",
    "    \n",
    "    def get(self):\n",
    "        return self._values[:]"
   ]
  },
  {
   "cell_type": "code",
   "execution_count": null,
   "id": "fb3a5878-bf2f-4dd2-8682-be4f4b83599f",
   "metadata": {
    "tags": []
   },
   "outputs": [],
   "source": [
    "x = LastTen()\n",
    "for i in range(1, 100, 3):\n",
    "    x.insert(i)\n",
    "print(x.get())"
   ]
  },
  {
   "cell_type": "markdown",
   "id": "b82b3d9c-81c8-47ea-9b27-94aee02939e2",
   "metadata": {},
   "source": [
    "Obviamente, essa classe funciona para outros tipos de dados também:"
   ]
  },
  {
   "cell_type": "code",
   "execution_count": null,
   "id": "8ebfc61d-9b0a-4ca8-aad6-69580b2e123e",
   "metadata": {
    "tags": []
   },
   "outputs": [],
   "source": [
    "y = LastTen()\n",
    "for i in range(1, 100, 3):\n",
    "    y.insert(i / 2)\n",
    "print(y.get())"
   ]
  },
  {
   "cell_type": "markdown",
   "id": "ae059d73-59db-43d0-a968-ede937e1bd90",
   "metadata": {},
   "source": [
    "Agora, suponha que queremos deixar claro que desejamos que todos os lementos da lista sejam do mesmo tipo, mas aceitamos qualquer tipo na lista. Podemos redefinir a classe usando dicas de tipo com o auxílio de `Generic` (e da nossa variável de tipo `T` já definida):"
   ]
  },
  {
   "cell_type": "code",
   "execution_count": null,
   "id": "e8dd58a7-3820-4c6d-9542-e59806a8987a",
   "metadata": {
    "tags": []
   },
   "outputs": [],
   "source": [
    "from typing import Generic\n",
    "\n",
    "class LastTen(Generic[T]):\n",
    "    def __init__(self) -> None:\n",
    "        self._values: list[T] = []\n",
    "        \n",
    "    def insert(self, x: T) -> None:\n",
    "        self._values.append(x)\n",
    "        if len(self._values) == 11:\n",
    "            self._values.pop(0)\n",
    "    \n",
    "    def get(self) -> list[T]:\n",
    "        return self._values[:]"
   ]
  },
  {
   "cell_type": "markdown",
   "id": "3f5b0512-3ade-43f4-bb97-7743a95fb88a",
   "metadata": {},
   "source": [
    "Isso nos diz que:\n",
    "- `LastTen` é uma classe genérica, que se adapta a um tipo genérico denominado `T`.\n",
    "- O método `insert` aceita um parâmetro do tipo `T` e não retorna nada.\n",
    "- O método `get` retorna uma lista de `T`."
   ]
  },
  {
   "cell_type": "markdown",
   "id": "1d045036-58e4-43e6-81c8-f9a33561ee75",
   "metadata": {},
   "source": [
    "Suponhamos que fazemos uma função para escolher aleatoriamente um dos últimos 10 elementos armazenados. A versão anotada será:"
   ]
  },
  {
   "cell_type": "code",
   "execution_count": null,
   "id": "481d6495-06e5-4b6a-a087-4f400a4b4af2",
   "metadata": {
    "tags": []
   },
   "outputs": [],
   "source": [
    "def choose_one_recent(options: LastTen[T]) -> T:\n",
    "    from random import choice\n",
    "    return choice(options.get())"
   ]
  },
  {
   "cell_type": "code",
   "execution_count": null,
   "id": "f806724e-0674-4151-a702-21fa7a41f739",
   "metadata": {
    "tags": []
   },
   "outputs": [],
   "source": [
    "choose_one_recent(y)"
   ]
  },
  {
   "cell_type": "code",
   "execution_count": null,
   "id": "74e29bad-37d1-4db7-9786-92b9c0a91b25",
   "metadata": {
    "tags": []
   },
   "outputs": [],
   "source": [
    "choose_one_recent(x)"
   ]
  },
  {
   "cell_type": "code",
   "execution_count": null,
   "id": "1315fcf8-1ebc-4208-8ba6-bcb7c03eaca4",
   "metadata": {
    "tags": []
   },
   "outputs": [],
   "source": [
    "choose_one_recent?"
   ]
  },
  {
   "cell_type": "markdown",
   "id": "bb83e52e-50e0-42bc-be13-83c81de6f6ee",
   "metadata": {},
   "source": [
    "Aqui indicamos que `choose_one_recent` recebe um objeto com os 10 mais recentes de algum tipo `T` e retorna um objeto desse tipo. Note como agora usamos a variável de tipo `T` na nossa classe para indicar qual o tipo de valores que são guardados pelo objeto da classe."
   ]
  },
  {
   "cell_type": "markdown",
   "id": "4efaaf0e-6f8e-4fb0-9eec-591e465187d4",
   "metadata": {},
   "source": [
    "### Qualquer tipo"
   ]
  },
  {
   "cell_type": "markdown",
   "id": "27cddf5f-cbce-4305-81ac-7ea6c08ea0fd",
   "metadata": {},
   "source": [
    "Frequentemente, queremos reverter para o caso normal de Python, onde uma referência pode ser para objetos de qualquer tipo. Para isso, temos `Any`.\n",
    "\n",
    "Por exemplo, se quisermos uma versão de `LastTen` que aceita tipos misturados nos objetos guardados, podemos usar `Any`:"
   ]
  },
  {
   "cell_type": "code",
   "execution_count": null,
   "id": "70e1d535-61fd-4da5-88ab-0372e8702746",
   "metadata": {
    "tags": []
   },
   "outputs": [],
   "source": [
    "from typing import Any\n",
    "\n",
    "class LastTenMixed:\n",
    "    def __init__(self) -> None:\n",
    "        self._values: list[Any] = []\n",
    "        \n",
    "    def insert(self, x: Any) -> None:\n",
    "        self._values.append(x)\n",
    "        if len(self._values) == 11:\n",
    "            self._values.pop(0)\n",
    "    \n",
    "    def get(self) -> list[Any]:\n",
    "        return self._values[:]"
   ]
  },
  {
   "cell_type": "code",
   "execution_count": null,
   "id": "355fdf9c-fb4b-44df-87ff-6ed2c4e47466",
   "metadata": {
    "tags": []
   },
   "outputs": [],
   "source": [
    "z = LastTenMixed()\n",
    "for o in [1, 2.0, 3.0 + 4.0j, 'cinco']:\n",
    "    z.insert(o)\n",
    "print(z.get())"
   ]
  },
  {
   "cell_type": "markdown",
   "id": "b918313b-b3cc-4f83-8f45-37f17d91625c",
   "metadata": {},
   "source": [
    "Veja como neste caso não precisamos fazer a classe derivar de `Generic`, pois não existe necessidade de manter consistência de tipos."
   ]
  },
  {
   "cell_type": "markdown",
   "id": "2cab02d9-82ae-42b3-954f-5e6ca171dcfd",
   "metadata": {},
   "source": [
    "O módulo `typing` tem vários outros elementos, especialmente para lidar com problemas mais complexos.\n",
    "\n",
    "Veja a [documentação](https://docs.python.org/3/library/typing.html)."
   ]
  },
  {
   "cell_type": "markdown",
   "id": "9e75b88b-59df-4117-a94b-8b42cdab054c",
   "metadata": {},
   "source": [
    "## O módulo `collections.abc`"
   ]
  },
  {
   "cell_type": "markdown",
   "id": "a5b9d37f-3f1b-49c5-a039-0514aef47d87",
   "metadata": {},
   "source": [
    "Para permitir que funções possam ser anotadas de forma não restritiva, é necessário especificar apenas o mínimo necessário sobre o que o tipo do parâmetro precisa.\n",
    "\n",
    "O módulo `collections.abc` apresenta alguns elementos para ajudar em situações frquentemente encontradas.\n",
    "\n",
    "Para entender do que se trata isso, vejamos novamente a função `only_even` definida acima:"
   ]
  },
  {
   "cell_type": "code",
   "execution_count": null,
   "id": "534bc09c-fe87-49c1-8c34-4376ad2c6928",
   "metadata": {},
   "outputs": [],
   "source": [
    "def only_even(values: list[int]) -> list[int]:\n",
    "    return list(filter(lambda x: x % 2 == 0, values))"
   ]
  },
  {
   "cell_type": "markdown",
   "id": "86d4963f-e201-44fe-b7d6-a5dbac847db0",
   "metadata": {},
   "source": [
    "A especificação apresentada para o parâmetro `values` é muito restritiva, pois o código não funciona apenas para uma lista de `int`. O conceito de números pares somente se aplica a inteiros, então o uso de `int` está correto, mas os valores inteiros não precisam estar numa lista. Por exemplo, podemos fazer:"
   ]
  },
  {
   "cell_type": "code",
   "execution_count": null,
   "id": "e8531924-c201-4835-9b3e-9936b5d7ebf3",
   "metadata": {
    "tags": []
   },
   "outputs": [],
   "source": [
    "only_even(range(12))"
   ]
  },
  {
   "cell_type": "markdown",
   "id": "c9d3d6bb-1848-47f8-a059-39b374743564",
   "metadata": {},
   "source": [
    "O que precisamos para o parâmetro `values` é que ele nos forneça uma sequência de valores inteiros. Isto é, ele precisa ser **iterável**.\n",
    "\n",
    "Para isso, podemos usar `Iterable` do módulo `collections.abc`."
   ]
  },
  {
   "cell_type": "code",
   "execution_count": null,
   "id": "83bffacb-b8c4-4426-adae-665734e22bf3",
   "metadata": {
    "tags": []
   },
   "outputs": [],
   "source": [
    "from collections.abc import Iterable\n",
    "\n",
    "def only_even(values: Iterable[int]) -> list[int]:\n",
    "    return list(filter(lambda x: x % 2 == 0, values))"
   ]
  },
  {
   "cell_type": "code",
   "execution_count": null,
   "id": "88ebf2ef-2577-4147-8205-862ef559cc61",
   "metadata": {
    "tags": []
   },
   "outputs": [],
   "source": [
    "only_even?"
   ]
  },
  {
   "cell_type": "markdown",
   "id": "718ff9a3-8447-4a18-a399-f01d43b3c03a",
   "metadata": {},
   "source": [
    "Os \"tipos\" definidos em `collections.abc` são caraterizados pela presença de métodos específicos. Por exemplo, para ser um `Iterable` o tipo tem que implementar o método `__iter__`.\n",
    "\n",
    "Seguem alguns tipos adicionais (veja mais na [documentação](https://docs.python.org/3/library/collections.abc.html).\n",
    "\n",
    "| Tipo | Métodos |\n",
    "|------|---------|\n",
    "| `Container` | `__contains__` |\n",
    "| `Iterator` | `__iter__` e `__next__` |\n",
    "| `Sized` | `__len__` |\n",
    "| `Collection` | `__contains__`, `__iter__` e `__next__` |\n",
    "| `Sequence` | `__contains__`, `__iter__`, `__next__`, `__getitem__`, `__reversed__`, `index`, `count` |\n",
    "| `MutableSequnce` | mesmos de `Sequence` mais `__setitem__`, `__delitem__`, `insert`, `append`, `reverse`, `extend`, `pop`, `remove`, `__iadd__` |"
   ]
  },
  {
   "cell_type": "markdown",
   "id": "3d1708ed-4bff-4403-9399-d9cffdfaa468",
   "metadata": {},
   "source": [
    "Vamos rever a função `last` anteriormente definida (cópia abaixo):"
   ]
  },
  {
   "cell_type": "code",
   "execution_count": null,
   "id": "f2569121-9b9b-4c07-b995-53da4d27a7a1",
   "metadata": {
    "tags": []
   },
   "outputs": [],
   "source": [
    "def last(values: list[int]) -> int:\n",
    "    return values[-1]"
   ]
  },
  {
   "cell_type": "markdown",
   "id": "e3afcda0-791a-4f29-869d-684e46916fe4",
   "metadata": {},
   "source": [
    "Novamente, para o que essa função faz, não é necessário:\n",
    "- Que os elementos de `values` sejam `int`. Eles podem ser de qualquer tipo, inclusive misturados.\n",
    "- Não é necessário que os elementos estam numa lista. Eles precisam apenas estar em algo que possamos indexar.\n",
    "- Não estamos alterando o contéiner de valores fornecido, então não precisamos que o objeto `values` seja mutável.\n",
    "\n",
    "Portanto, podemos reescrever as anotações de tipo:"
   ]
  },
  {
   "cell_type": "code",
   "execution_count": null,
   "id": "3638a823-bc8a-49de-bd7c-648bf4a8cd93",
   "metadata": {
    "tags": []
   },
   "outputs": [],
   "source": [
    "from collections.abc import Sequence\n",
    "\n",
    "def last(values: Sequence[Any]) -> Any:\n",
    "    return values[-1]"
   ]
  },
  {
   "cell_type": "code",
   "execution_count": null,
   "id": "afca9c98-816e-4207-97ce-49751c421866",
   "metadata": {
    "tags": []
   },
   "outputs": [],
   "source": [
    "last?"
   ]
  },
  {
   "cell_type": "markdown",
   "id": "1798df2e-fa2b-4812-bffe-3ccb96442ebf",
   "metadata": {},
   "source": [
    "# Exercícios"
   ]
  },
  {
   "cell_type": "markdown",
   "id": "f3ff0e97-8c50-4486-9d95-238f0271e4b4",
   "metadata": {},
   "source": [
    "Faça anotações de tipo adequadas para as seguintes funções:"
   ]
  },
  {
   "cell_type": "markdown",
   "id": "fb1b7284-e172-4eca-9653-fd7f97f9497e",
   "metadata": {},
   "source": [
    "### 1"
   ]
  },
  {
   "cell_type": "code",
   "execution_count": null,
   "id": "b944c9fd-3ce8-47f9-9bb3-09b7338186f7",
   "metadata": {
    "tags": []
   },
   "outputs": [],
   "source": [
    "from math import cos\n",
    "\n",
    "def f(x):\n",
    "    return cos(x) ** 2 - 1"
   ]
  },
  {
   "cell_type": "markdown",
   "id": "bcb5af7a-e70d-446d-992d-58192e5e805f",
   "metadata": {},
   "source": [
    "### 2"
   ]
  },
  {
   "cell_type": "code",
   "execution_count": null,
   "id": "d943fc47-b964-4c3b-996c-f1e8e26f132c",
   "metadata": {
    "tags": []
   },
   "outputs": [],
   "source": [
    "def drop_extension(name):\n",
    "    iext = name.rfind('.')\n",
    "    return name[:iext] if iext >= 0 else name"
   ]
  },
  {
   "cell_type": "markdown",
   "id": "285794f9-b2a4-4791-b269-60c7760648c4",
   "metadata": {},
   "source": [
    "### 3"
   ]
  },
  {
   "cell_type": "code",
   "execution_count": null,
   "id": "8d685b8f-5bcc-4dad-8b32-f6f95122807c",
   "metadata": {
    "tags": []
   },
   "outputs": [],
   "source": [
    "def parse(s):\n",
    "    tokens = s.split(',')\n",
    "    tokens = [t.strip() for t in tokens]\n",
    "    all_pairs = {}\n",
    "    for i in range(0, len(tokens), 2):\n",
    "        all_pairs[tokens[i]] = tokens[i+1]\n",
    "    return all_pairs"
   ]
  },
  {
   "cell_type": "markdown",
   "id": "c1987e54-6f20-4f25-954d-7f5f406ed793",
   "metadata": {},
   "source": [
    "### 4"
   ]
  },
  {
   "cell_type": "code",
   "execution_count": null,
   "id": "50d31c23-b59e-45de-b9e1-8975c017d8a3",
   "metadata": {},
   "outputs": [],
   "source": [
    "def max_abs(values):\n",
    "    return max(abs(x) for x in values)"
   ]
  }
 ],
 "metadata": {
  "kernelspec": {
   "display_name": "Python 3 (ipykernel)",
   "language": "python",
   "name": "python3"
  },
  "language_info": {
   "codemirror_mode": {
    "name": "ipython",
    "version": 3
   },
   "file_extension": ".py",
   "mimetype": "text/x-python",
   "name": "python",
   "nbconvert_exporter": "python",
   "pygments_lexer": "ipython3",
   "version": "3.11.2"
  }
 },
 "nbformat": 4,
 "nbformat_minor": 5
}
