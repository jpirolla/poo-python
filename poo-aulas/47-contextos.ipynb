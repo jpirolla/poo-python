{
 "cells": [
  {
   "cell_type": "markdown",
   "metadata": {},
   "source": [
    "# Blocos `with` e contextos"
   ]
  },
  {
   "cell_type": "markdown",
   "metadata": {},
   "source": [
    "## 1. Revisão de `with` e arquivos"
   ]
  },
  {
   "cell_type": "markdown",
   "metadata": {},
   "source": [
    "Como vimos, é recomendado fazer acessos a arquivos por uma construção usando blocos `with`:"
   ]
  },
  {
   "cell_type": "code",
   "execution_count": null,
   "metadata": {},
   "outputs": [],
   "source": [
    "with open('teste.txt', encoding='utf-8') as file:\n",
    "    for i, line in enumerate(file.readlines()):\n",
    "        print(f'{i:02}', line, end='')"
   ]
  },
  {
   "cell_type": "markdown",
   "metadata": {},
   "source": [
    "Como discutido, isto garante que o arquivo seja fechado mesmo que o código dentro do `with` seja interrompido antes de seu final, seja por um término prematuro ou por uma exceção.\n",
    "\n",
    "Neste caso, o funcionamento é o seguinte:\n",
    "\n",
    "1. A função `open` é executada e o resultado (valor retornado por `open`) é colocado na variável `file`.\n",
    "2. O código dentro do `with` é executado.\n",
    "3. Quando o código dentro do `with` termina (seja normalmente ou por qualquer interrupção), a operação `close` é executada sobre o `file`, antes de passar a execução para o código que segue o `with`."
   ]
  },
  {
   "cell_type": "markdown",
   "metadata": {},
   "source": [
    "## 2. Gerenciadores de contexto"
   ]
  },
  {
   "cell_type": "markdown",
   "metadata": {},
   "source": [
    "Mas este não é o único propósito do `with`. Na verdade, o `with` é um comando a ser usado em conjunto com **gerenciadores de contexto**.\n",
    "\n",
    "Um gerenciador de contexto é um objeto que implementa dois métodos mágicos:\n",
    "\n",
    "- O método `__enter__`, que serve para indicar que estamos entrando em um contexto específico, e\n",
    "- O método `__exit__`, que indica que estamos saindo do contexto.\n",
    "\n",
    "Um código como\n",
    "\n",
    "```\n",
    "with obj as var:\n",
    "    commands\n",
    "```\n",
    "\n",
    "é executado da seguinte forma:\n",
    "\n",
    "1. O método `__enter__` é executado sobre `obj`.\n",
    "2. A referência retornada por esse método é colocada na variável `var`. A parte `as var` pode ser omitida, caso em que a referência retornada por `__enter__` será descartada.\n",
    "3. Os comandos em `commands` são executados\n",
    "4. Quando a execução de `commands` termina ou é interrompida, o método `__exit__` é executado sobre `obj`.\n",
    "5. Por fim, a execução continua no código após o `with` ou no tratamento de uma exceção que tenha ocorrido.\n",
    "\n",
    "Para entender melhor esse processo, vamos estudar os detalhes dos dois métodos mágicos."
   ]
  },
  {
   "cell_type": "markdown",
   "metadata": {},
   "source": [
    "## 3. O método `__enter__`"
   ]
  },
  {
   "cell_type": "markdown",
   "metadata": {},
   "source": [
    "Este método não recebe nenhum parâmetro (a não ser o `self` referente ao objeto sobre o qual foi chamado). A função deste método é fazer a inicialização do contexto e portanto o que ele faz depende do que queremos que o contexto represente.\n",
    "\n",
    "Um fator importante é que o método precisa retornar um objeto, que terá sua referência colocada na variável usada na parte `as`. Se o seu tipo de contexto não precisar dessa variável, você pode retornar `None`.\n",
    "\n",
    "Por exemplo, no caso do `with` com `open`, a função `open` abre o arquivo e retorna um objeto do tipo `TextIOWrapper`. Esse objeto implementa o protocolo de gerenciador de contexto, e o seu método `__enter__` simplesmente retorna o próprio objeto, que pode então ser usado nas operações de arquivo dentro do bloco `with`."
   ]
  },
  {
   "cell_type": "markdown",
   "metadata": {},
   "source": [
    "## 4. O método `__exit__`"
   ]
  },
  {
   "cell_type": "markdown",
   "metadata": {},
   "source": [
    "Este método é um pouco mais complicado. Sua função é realizar as operações que garantem que o contexto foi terminado.\n",
    "\n",
    "No caso de `with` com `open`, ele precisa apenas realizar a operação `close` no arquivo.\n",
    "\n",
    "A interface para esse método é a seguinte:\n",
    "\n",
    "```\n",
    "__exit__(self, exception_type, exception_value, traceback)\n",
    "```\n",
    "\n",
    "Além do objeto gerenciador de contexto, o método recebe informações sobre uma possível exceção que tenha interrompido a execução do bloco `with`: seu tipo (classe) em `exception_type`, o objeto de exceção em `exception_value` e informação sobre o ponto onde a exceção ocorreu em `traceback`.  Se nenhuma exceção ocorreu esse três parâmetros são `None`.\n",
    "\n",
    "Caso o bloco tenha sido interrompido por uma exceção, o `__exit__` deve retornar um valor falso (por exemplo, `False`, ou `None`) para que a exceção seja tratada posteriormente pelo código. Se o próprio `__exit__` trata da exceção, ele deve retornar `True`, para que o sistema não tente tratar novamente da exceção.\n",
    "\n",
    "Caso não ocorra exceção, o valor de retorno do `__exit__` é ignorado, e portanto irrelevante.\n",
    "\n",
    "As informações sobre exceção são fornecidas para o caso das operações de término de contexto dependerem do tipo de exceção. Em muitos casos não precisamos usar essas informações."
   ]
  },
  {
   "cell_type": "markdown",
   "metadata": {},
   "source": [
    "## 5. Exemplo, versão 1"
   ]
  },
  {
   "cell_type": "markdown",
   "metadata": {},
   "source": [
    "Vamos ver agora um exemplo simples, para consolidar as informações."
   ]
  },
  {
   "cell_type": "code",
   "execution_count": null,
   "metadata": {},
   "outputs": [],
   "source": [
    "class NotEnoughMoneyException(ValueError):\n",
    "    pass\n",
    "\n",
    "\n",
    "class LockedException(Exception):\n",
    "    pass\n",
    "\n",
    "\n",
    "class Safe:\n",
    "    \n",
    "    def __init__(self, initial = 0):\n",
    "        assert initial >= 0, 'Cannot start with negative amount'\n",
    "        self._amount = initial\n",
    "        self._locked = True\n",
    "       \n",
    "    def is_locked(self):\n",
    "        return self._locked\n",
    "    \n",
    "    def _verify_access(self):\n",
    "        if self._locked: \n",
    "            raise LockedException()\n",
    "        \n",
    "    def get_amount(self):\n",
    "        self._verify_access()\n",
    "        return self._amount\n",
    "    \n",
    "    \n",
    "    def add(self, value):\n",
    "        self._verify_access()\n",
    "        assert value >= 0, 'Cannot add negative amount.'\n",
    "        self._amount += value\n",
    "        \n",
    "        \n",
    "    def remove(self, value):\n",
    "        self._verify_access()\n",
    "        assert value >= 0, 'Cannot remove negative amount.'\n",
    "        if value > self._amount:\n",
    "            raise NotEnoughMoneyException()\n",
    "        self._amount -= value\n",
    "        \n",
    "        \n",
    "    def __enter__(self):\n",
    "        self._locked = False\n",
    "        return self\n",
    "    \n",
    "    \n",
    "    def __exit__(self, exc_type, exc_val, tb):\n",
    "        self._locked = True\n",
    "        if exc_type is not None:\n",
    "            print('Something went wrong.')\n",
    "            return False"
   ]
  },
  {
   "cell_type": "code",
   "execution_count": null,
   "metadata": {},
   "outputs": [],
   "source": [
    "sf1 = Safe(1000)"
   ]
  },
  {
   "cell_type": "code",
   "execution_count": null,
   "metadata": {},
   "outputs": [],
   "source": [
    "sf1.get_amount()"
   ]
  },
  {
   "cell_type": "code",
   "execution_count": null,
   "metadata": {},
   "outputs": [],
   "source": [
    "with sf1 as sf:\n",
    "    print('Current amount is ', sf.get_amount())"
   ]
  },
  {
   "cell_type": "code",
   "execution_count": null,
   "metadata": {},
   "outputs": [],
   "source": [
    "sf1.get_amount()"
   ]
  },
  {
   "cell_type": "code",
   "execution_count": null,
   "metadata": {},
   "outputs": [],
   "source": [
    "with sf1:\n",
    "    sf1.remove(500)\n",
    "    print('Remaining amount is', sf1.get_amount())"
   ]
  },
  {
   "cell_type": "code",
   "execution_count": null,
   "metadata": {},
   "outputs": [],
   "source": [
    "with sf1:\n",
    "    print(f'The safe is {\"not \" if not sf1.is_locked() else \"\"}locked')\n",
    "    sf1.remove(700)\n",
    "    print('Remaining amount is', sf1.get_amount())"
   ]
  },
  {
   "cell_type": "code",
   "execution_count": null,
   "metadata": {},
   "outputs": [],
   "source": [
    "print(f'The safe is {\"not \" if not sf1.is_locked() else \"\"}locked')"
   ]
  },
  {
   "cell_type": "code",
   "execution_count": null,
   "metadata": {},
   "outputs": [],
   "source": [
    "from random import randint\n",
    "with Safe(100) as sf:\n",
    "    print('Initial amount is', sf.get_amount())\n",
    "    for i in range(10):\n",
    "        how_many = randint(1, 30)\n",
    "        print(f'Withdrawing {how_many}')\n",
    "        sf.remove(how_many)\n",
    "        print('New amount is', sf.get_amount())\n",
    "print('This is the end')"
   ]
  },
  {
   "cell_type": "markdown",
   "metadata": {},
   "source": [
    "## 6. Exemplo, versão 2"
   ]
  },
  {
   "cell_type": "markdown",
   "metadata": {},
   "source": [
    "O exemplo anterior mostra como uma classe pode ser expandida para ser também um gerenciador de contexto. No entanto, a solução acima apresenta o problema de que a classe desenvolvida está lidando com duas responsabilidade: Cuidar da quantidade de dinheiro guardada e cuidar do acesso a esse dinheiro.\n",
    "\n",
    "Juntar duas responsabilidades na mesma classe não é uma boa forma de solucionar um problema. É melhor separarmos as responsabilidades em duas classes distintas. Esse é o princípio de programação denominado **separação de responsabilidades**.\n",
    "\n",
    "Vamos aplicar esse princípio para refazer o código acima."
   ]
  },
  {
   "cell_type": "code",
   "execution_count": null,
   "metadata": {},
   "outputs": [],
   "source": [
    "class NotEnoughMoneyException(ValueError):\n",
    "    pass\n",
    "\n",
    "\n",
    "class Wallet:\n",
    "    \n",
    "    def __init__(self, initial = 0):\n",
    "        assert initial >= 0, 'Cannot start with negative amount'\n",
    "        self._amount = initial\n",
    "\n",
    "    def get_amount(self):\n",
    "        return self._amount\n",
    "    \n",
    "    \n",
    "    def add(self, value):\n",
    "        assert value >= 0, 'Cannot add negative amount.'\n",
    "        self._amount += value\n",
    "        \n",
    "        \n",
    "    def remove(self, value):\n",
    "        assert value >= 0, 'Cannot remove negative amount.'\n",
    "        if value > self._amount:\n",
    "            raise NotEnoughMoneyException()\n",
    "        self._amount -= value\n",
    "\n",
    "\n",
    "\n",
    "class Safe:\n",
    "    \n",
    "    def __init__(self, wallet):\n",
    "        self._wallet = wallet\n",
    "        self._locked = True\n",
    "\n",
    "        \n",
    "    def is_locked(self):\n",
    "        return self._locked\n",
    "\n",
    "            \n",
    "    def __enter__(self):\n",
    "        self._locked = False\n",
    "        return self._wallet\n",
    "    \n",
    "    \n",
    "    def __exit__(self, exc_type, exc_val, tb):\n",
    "        self._locked = True\n",
    "        if exc_type is not None:\n",
    "            print('Something went wrong.')\n",
    "            return False"
   ]
  },
  {
   "cell_type": "markdown",
   "metadata": {},
   "source": [
    "Veja como ao separarmos as responsabilidades em classes distintas os códigos ficam mais claros. O uso muda um pouco: ao entramos no contexto, recebemos uma `Wallet`, sobre a qual fazemos as opearações. Como os métodos de acesso ao dinheiro só estão disponíveis na `Wallet`, e como só podemos acessar uma `Wallet` que está num `Safe` através do contexto, não precisamos nos preocupar com um acesso desautorizado ao dinheiro."
   ]
  },
  {
   "cell_type": "code",
   "execution_count": null,
   "metadata": {},
   "outputs": [],
   "source": [
    "sf2 = Safe(Wallet(1000))"
   ]
  },
  {
   "cell_type": "code",
   "execution_count": null,
   "metadata": {},
   "outputs": [],
   "source": [
    "sf2.get_amount()"
   ]
  },
  {
   "cell_type": "code",
   "execution_count": null,
   "metadata": {},
   "outputs": [],
   "source": [
    "sf2.is_locked()"
   ]
  },
  {
   "cell_type": "code",
   "execution_count": null,
   "metadata": {},
   "outputs": [],
   "source": [
    "with sf2 as wallet:\n",
    "    print('Current amount is', wallet.get_amount())\n",
    "    wallet.remove(500)\n",
    "    print('Current amount is', wallet.get_amount())    "
   ]
  },
  {
   "cell_type": "code",
   "execution_count": null,
   "metadata": {},
   "outputs": [],
   "source": [
    "with sf2 as wallet:\n",
    "    print('Safe is now locked?', sf2.is_locked())\n",
    "    wallet.remove(700)"
   ]
  },
  {
   "cell_type": "code",
   "execution_count": null,
   "metadata": {},
   "outputs": [],
   "source": [
    "sf2.is_locked()"
   ]
  },
  {
   "cell_type": "markdown",
   "metadata": {},
   "source": [
    "## 7. Mais opções"
   ]
  },
  {
   "cell_type": "markdown",
   "metadata": {},
   "source": [
    "O módulo `contextlib` apresenta algumas facilidades para desenvolver gerenciadores de contexto para alguns casos simples. Veja a [documentação](https://docs.python.org/3/library/contextlib.html)."
   ]
  },
  {
   "cell_type": "markdown",
   "metadata": {},
   "source": [
    "# Exercício"
   ]
  },
  {
   "cell_type": "markdown",
   "metadata": {},
   "source": [
    "Escreva uma classe denominada `MessageBracket` para servir de gerenciador de contexto de forma que, quando um objeto dessa classe é usado num `with`, ele executa o código do `with` normalmente, mas colocando uma mensagem (passada como primeiro parâmetro na construção do objeto) antes do bloco do `with` e outra mensagem (passada como segundo parâmetro na construção do objeto) após a execução do bloco do `with`. Ele também pode receber uma parâmetro opcional, de nome `err_msg` com a mensagem a escrever caso o bloco tenha sido interrompido por alguma exceção. Veja exemplo de uso abaixo."
   ]
  },
  {
   "cell_type": "code",
   "execution_count": null,
   "metadata": {},
   "outputs": [],
   "source": [
    "with MessageBracket('Hi!', 'Bye!', err_msg='Problems...'):\n",
    "    for i in range(3):\n",
    "        x = int(input('Give me an int'))\n",
    "        print(f'You gave {x}')"
   ]
  }
 ],
 "metadata": {
  "kernelspec": {
   "display_name": "Python 3 (ipykernel)",
   "language": "python",
   "name": "python3"
  },
  "language_info": {
   "codemirror_mode": {
    "name": "ipython",
    "version": 3
   },
   "file_extension": ".py",
   "mimetype": "text/x-python",
   "name": "python",
   "nbconvert_exporter": "python",
   "pygments_lexer": "ipython3",
   "version": "3.11.2"
  }
 },
 "nbformat": 4,
 "nbformat_minor": 4
}
