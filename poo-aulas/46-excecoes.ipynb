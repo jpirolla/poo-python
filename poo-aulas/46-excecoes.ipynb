{
 "cells": [
  {
   "attachments": {},
   "cell_type": "markdown",
   "metadata": {},
   "source": [
    "# Exceções"
   ]
  },
  {
   "attachments": {},
   "cell_type": "markdown",
   "metadata": {},
   "source": [
    "Já vimos que, quando detectamos erros ou outras situações excepcionais que impedem a continuidade da execução normal do código, podemos lançar uma exceção usando o comando `raise`."
   ]
  },
  {
   "cell_type": "code",
   "execution_count": 1,
   "metadata": {},
   "outputs": [
    {
     "name": "stdout",
     "output_type": "stream",
     "text": [
      "Passa aqui.\n"
     ]
    },
    {
     "ename": "Exception",
     "evalue": "Erro!",
     "output_type": "error",
     "traceback": [
      "\u001b[0;31m---------------------------------------------------------------------------\u001b[0m",
      "\u001b[0;31mException\u001b[0m                                 Traceback (most recent call last)",
      "\u001b[1;32m/home/jpirolla/Documentos/Ju/Documents/USP/POO/notebook-aulas/46-excecoes.ipynb Cell 3\u001b[0m in \u001b[0;36m2\n\u001b[1;32m      <a href='vscode-notebook-cell:/home/jpirolla/Documentos/Ju/Documents/USP/POO/notebook-aulas/46-excecoes.ipynb#W2sZmlsZQ%3D%3D?line=0'>1</a>\u001b[0m \u001b[39mprint\u001b[39m(\u001b[39m'\u001b[39m\u001b[39mPassa aqui.\u001b[39m\u001b[39m'\u001b[39m)\n\u001b[0;32m----> <a href='vscode-notebook-cell:/home/jpirolla/Documentos/Ju/Documents/USP/POO/notebook-aulas/46-excecoes.ipynb#W2sZmlsZQ%3D%3D?line=1'>2</a>\u001b[0m \u001b[39mraise\u001b[39;00m \u001b[39mException\u001b[39;00m(\u001b[39m'\u001b[39m\u001b[39mErro!\u001b[39m\u001b[39m'\u001b[39m)\n\u001b[1;32m      <a href='vscode-notebook-cell:/home/jpirolla/Documentos/Ju/Documents/USP/POO/notebook-aulas/46-excecoes.ipynb#W2sZmlsZQ%3D%3D?line=2'>3</a>\u001b[0m \u001b[39mprint\u001b[39m(\u001b[39m'\u001b[39m\u001b[39mNão passa aqui\u001b[39m\u001b[39m'\u001b[39m)\n\u001b[1;32m      <a href='vscode-notebook-cell:/home/jpirolla/Documentos/Ju/Documents/USP/POO/notebook-aulas/46-excecoes.ipynb#W2sZmlsZQ%3D%3D?line=3'>4</a>\u001b[0m \u001b[39mprint\u001b[39m(\u001b[39m'\u001b[39m\u001b[39mNem aqui\u001b[39m\u001b[39m'\u001b[39m)\n",
      "\u001b[0;31mException\u001b[0m: Erro!"
     ]
    }
   ],
   "source": [
    "print('Passa aqui.')\n",
    "raise Exception('Erro!')\n",
    "print('Não passa aqui')\n",
    "print('Nem aqui')"
   ]
  },
  {
   "attachments": {},
   "cell_type": "markdown",
   "metadata": {},
   "source": [
    "Como sabemos, se nada for feito a exceção irá interromper a execução do código com uma mensagem de erro, como no código acima."
   ]
  },
  {
   "attachments": {},
   "cell_type": "markdown",
   "metadata": {},
   "source": [
    "## 1. Tratando exceções"
   ]
  },
  {
   "attachments": {},
   "cell_type": "markdown",
   "metadata": {},
   "source": [
    "Mas existe a possibilidade de detectar que a exceção ocorreu e lidar com ela, sem interromper o programa. Para isso, colocamos o código que pode gerar exceção dentro de um bloco `try`, e seguimos esse bloco `try` com um (ou mais) tratadores de exceção, como abaixo."
   ]
  },
  {
   "cell_type": "code",
   "execution_count": 2,
   "metadata": {},
   "outputs": [
    {
     "name": "stdout",
     "output_type": "stream",
     "text": [
      "Something was done.\n",
      "It didn't work.\n",
      "Let's finish\n"
     ]
    }
   ],
   "source": [
    "try:\n",
    "    print('Something was done.')\n",
    "    raise Exception('Error!')\n",
    "    print('Something was not done.')\n",
    "except Exception:\n",
    "    print(\"It didn't work.\")\n",
    "print(\"Let's finish\")"
   ]
  },
  {
   "attachments": {},
   "cell_type": "markdown",
   "metadata": {},
   "source": [
    "Normalmente, o `try` envolve uma quantidade maior de código, onde o lançamento da exceção é apenas uma das possibilidades.\n",
    "\n",
    "O código abaixo tenta re-executar um *loop* se sua execução foi interrompida por exceção."
   ]
  },
  {
   "cell_type": "code",
   "execution_count": null,
   "metadata": {},
   "outputs": [],
   "source": [
    "completed = False\n",
    "first = True\n",
    "while not completed:\n",
    "    try:\n",
    "        for i in range(10):\n",
    "            if first and i == 4:\n",
    "                raise Exception('Too tired, sorry!')\n",
    "            print(i, end=' ')\n",
    "        print()\n",
    "        completed = True\n",
    "    except Exception:\n",
    "        print('Did not complete yet')\n",
    "        first = False\n",
    "    print('Tried once.')\n",
    "print(\"Now I'm done.\")"
   ]
  },
  {
   "attachments": {},
   "cell_type": "markdown",
   "metadata": {},
   "source": [
    "## 2. Capturando informações do objeto de exceção"
   ]
  },
  {
   "attachments": {},
   "cell_type": "markdown",
   "metadata": {},
   "source": [
    "Podemos, além de usar a exceção para interromper a execução, também pegar informação sobre o que aconteceu de errado, capturando o objeto de exeção."
   ]
  },
  {
   "cell_type": "code",
   "execution_count": null,
   "metadata": {},
   "outputs": [],
   "source": [
    "completed = False\n",
    "first = True\n",
    "while not completed:\n",
    "    try:\n",
    "        for i in range(10):\n",
    "            if first and i == 4:\n",
    "                raise Exception('Too tired, sorry!')\n",
    "            print(i, end=' ')\n",
    "        print()\n",
    "        completed = True\n",
    "    except Exception as expt:\n",
    "        print('Did not complete yet')\n",
    "        print(f'The reason given is: \"{expt}\"')\n",
    "        first = False\n",
    "    print('Tried once.')\n",
    "print(\"Now I'm done.\")"
   ]
  },
  {
   "attachments": {},
   "cell_type": "markdown",
   "metadata": {},
   "source": [
    "Também é possível colocar outras informações no objeto de exeção, para fornecer mais contexto sobre o erro ocorrido ao tratador da exceção. Para isso, criamos a nossa própria exceção com os dados necessários."
   ]
  },
  {
   "cell_type": "code",
   "execution_count": null,
   "metadata": {},
   "outputs": [],
   "source": [
    "class TiredException(Exception):\n",
    "    def __init__(self, it):\n",
    "        self.it = it\n",
    "        super().__init__('Too tired, sorry!')\n",
    "\n",
    "completed = False\n",
    "first = True\n",
    "while not completed:\n",
    "    try:\n",
    "        for i in range(10):\n",
    "            if first and i == 4:\n",
    "                raise TiredException(i)\n",
    "            print(i, end=' ')\n",
    "        print()\n",
    "        completed = True\n",
    "    except TiredException as expt:\n",
    "        print('Did not complete yet')\n",
    "        print(f'The reason given is: \"{expt}\"')\n",
    "        print(f'It happened at iteration {expt.it}')\n",
    "        first = False\n",
    "    print('Tried once.')\n",
    "print(\"Now I'm done.\")"
   ]
  },
  {
   "attachments": {},
   "cell_type": "markdown",
   "metadata": {},
   "source": [
    "Em geral, fazemos nossas exeções serem derivadas de alguma das exceções base pré-definidas no Python. Veja a documentação de [exceções no site do Python](https://docs.python.org/3/library/exceptions.html) e também o [tutorial oficial sobre exceções](https://docs.python.org/3/tutorial/errors.html).\n",
    "\n",
    "Veremos outro exemplo mais adiante."
   ]
  },
  {
   "attachments": {},
   "cell_type": "markdown",
   "metadata": {},
   "source": [
    "## 3. Código de finalização"
   ]
  },
  {
   "attachments": {},
   "cell_type": "markdown",
   "metadata": {},
   "source": [
    "Após o bloco `try`, além de blocos para tratar de exeções, podemos também definir um bloco `finally`. Esse bloco deve incluir código que será executado tanto se o `try` terminar normalmente (sem exeções), como se ele for interrompido por exceção, **mesmo que a exceção não seja capturada por um tratador apropriado**.\n",
    "\n",
    "No código abaixo, note como `'End of the silly function'` é impresso tanto no término normal como no termino por interrupção."
   ]
  },
  {
   "cell_type": "code",
   "execution_count": null,
   "metadata": {},
   "outputs": [],
   "source": [
    "def silly(interrupt):\n",
    "    try:\n",
    "        if interrupt:\n",
    "            raise ValueError()\n",
    "            # tente também: raise Exception()\n",
    "        print('This!', end=' ')\n",
    "        for i in range(3):\n",
    "            print('Yeah!', end=' ')\n",
    "        print()\n",
    "    except ValueError: # Experimente retirar este tratador\n",
    "        print(\"I don't like that value\")\n",
    "    finally:\n",
    "        print('End of the silly function')\n",
    "\n",
    "silly(True)\n",
    "print()\n",
    "silly(False)\n",
    "print()\n",
    "silly(1)\n",
    "print()\n",
    "silly(None)"
   ]
  },
  {
   "attachments": {},
   "cell_type": "markdown",
   "metadata": {},
   "source": [
    "Um outro tipo de bloco que pode ser adicionado após o `try` é o bloco `else`. O código desse bloco será executado apenas se o `try` **não** for interrompido por uma exceção."
   ]
  },
  {
   "cell_type": "code",
   "execution_count": null,
   "metadata": {},
   "outputs": [],
   "source": [
    "def also_silly(interrupt):\n",
    "    try:\n",
    "        if interrupt:\n",
    "            raise ValueError()\n",
    "        print('This!', end=' ')\n",
    "        for i in range(3):\n",
    "            print('Yeah!', end=' ')\n",
    "        print()\n",
    "    except ValueError:\n",
    "        print(\"I don't like that value!\")\n",
    "    else:\n",
    "        print('Now you where efficient.')\n",
    "    finally:\n",
    "        print('End of another silly function.')\n",
    "\n",
    "also_silly(True)\n",
    "print()\n",
    "also_silly(False)"
   ]
  },
  {
   "attachments": {},
   "cell_type": "markdown",
   "metadata": {},
   "source": [
    "## 4. Exceções personalizadas (novamente)"
   ]
  },
  {
   "attachments": {},
   "cell_type": "markdown",
   "metadata": {},
   "source": [
    "É frequente que desejemos criar novos **tipos de exceção**, para exprimir de forma mais clara os **tipos de erro** do nosso programa.\n",
    "\n",
    "Para isso, como exemplificado antes, basta definir uma classe derivada de `Exception` ou de outra exceção pré-definida. A classe, em princípio, não precisa de nenhum conteúdo novo (mas veja a seguir situação onde isso pode ser útil). Ela servirá apenas, através de seu tipo, para expressar um tipo específico de erro. (Execute o código abaixo diversas vezes para ver a variação aleatória.)"
   ]
  },
  {
   "cell_type": "code",
   "execution_count": null,
   "metadata": {},
   "outputs": [],
   "source": [
    "class BadMood(Exception):\n",
    "    pass"
   ]
  },
  {
   "cell_type": "code",
   "execution_count": null,
   "metadata": {},
   "outputs": [],
   "source": [
    "import datetime\n",
    "import random"
   ]
  },
  {
   "cell_type": "code",
   "execution_count": null,
   "metadata": {},
   "outputs": [],
   "source": [
    "h, m = random.randint(0, 23), random.randint(0, 59)\n",
    "alarm_rings = datetime.time(h, m)\n",
    "if alarm_rings < datetime.time(11, 0):\n",
    "    raise BadMood('That is too early!')\n",
    "print('Good Morning!')"
   ]
  },
  {
   "attachments": {},
   "cell_type": "markdown",
   "metadata": {},
   "source": [
    "São comuns situações onde, além da informação do *tipo* do erro, queremos também alguma informação de contexto que permita determinar melhor a razão do erro.\n",
    "\n",
    "Neste caso, é aconselhavel criar novas classes de exceção que recebam essa informação adicional."
   ]
  },
  {
   "cell_type": "code",
   "execution_count": null,
   "metadata": {},
   "outputs": [],
   "source": [
    "class InvalidDeposit(Exception):\n",
    "    def __init__(self, mess, val):\n",
    "        self._val = val\n",
    "        super().__init__(mess)\n",
    "        \n",
    "    @property\n",
    "    def value(self):\n",
    "        return self._val\n",
    "        \n",
    "class Account:\n",
    "    def __init__(self, initial_deposit):\n",
    "        if initial_deposit < 0:\n",
    "            raise InvalidDeposit('Negative initial deposit', initial_deposit)\n",
    "        self._balance = initial_deposit\n",
    "        \n",
    "    def deposit(self, value):\n",
    "        if value < 0:\n",
    "            raise InvalidDeposit('Negative deposit', value)\n",
    "        self._balance += value"
   ]
  },
  {
   "cell_type": "code",
   "execution_count": null,
   "metadata": {},
   "outputs": [],
   "source": [
    "c = Account(100)"
   ]
  },
  {
   "cell_type": "code",
   "execution_count": null,
   "metadata": {},
   "outputs": [],
   "source": [
    "try:\n",
    "    c.deposit(-10)\n",
    "except InvalidDeposit as dep:\n",
    "    print('The value', dep.value,'is invalid')"
   ]
  },
  {
   "cell_type": "code",
   "execution_count": null,
   "metadata": {},
   "outputs": [],
   "source": [
    "try:\n",
    "    c2 = Account(-10)\n",
    "except InvalidDeposit as dep:\n",
    "    print(dep.value, 'is not a valid initial deposit')"
   ]
  },
  {
   "attachments": {},
   "cell_type": "markdown",
   "metadata": {},
   "source": [
    "## 5. Lidando com múltiplos tipos de exceção"
   ]
  },
  {
   "attachments": {},
   "cell_type": "markdown",
   "metadata": {},
   "source": [
    "Até aqui, temos apenas um tratador de exceção para o bloco `try`, mas isso não é obrigatório. Podemos colocar um tratador de exceção para cada tipo de exceção que pode ocorrer durante a execução do `try`. Quando ocorre uma exceção, o Python irá verificar um por um os tratadores de exceção na ordem apresentada, buscando um que seja *compatível* com a exceção gerada. Para ser compatível, ele precisa tratar exatamente a classe da exceção ou uma de suas classes base. Por exemplo, um tratador para `Exception` irá cuidar de todos os tipos (normais) de exceção. (Execute o código abaixo diversas vezes.)"
   ]
  },
  {
   "cell_type": "code",
   "execution_count": null,
   "metadata": {},
   "outputs": [],
   "source": [
    "c = Account(10)\n",
    "\n",
    "try:\n",
    "    if random.random() < 0.3:\n",
    "        raise ValueError('Wrong value')\n",
    "    elif random.random() < 0.3:\n",
    "        raise TypeError('Wrong type')\n",
    "    else:\n",
    "        c.deposit(-10)\n",
    "except InvalidDeposit as dep:\n",
    "    print('The value', dep.value,'is not valid')\n",
    "except ValueError:\n",
    "    print('We had an value error')\n",
    "except Exception:\n",
    "    print('We got some exception')"
   ]
  },
  {
   "attachments": {},
   "cell_type": "markdown",
   "metadata": {},
   "source": [
    "## 6. Ordem de blocos num `try`"
   ]
  },
  {
   "attachments": {},
   "cell_type": "markdown",
   "metadata": {},
   "source": [
    "A ordem dos blocos após o bloco `try` deve ser:\n",
    "\n",
    "1. Blocos de tratamento de exceção (do mais específico para o mais geral).\n",
    "1. Bloco `else`.\n",
    "1. Bloco `finally`.\n"
   ]
  },
  {
   "attachments": {},
   "cell_type": "markdown",
   "metadata": {
    "tags": []
   },
   "source": [
    "## 7. `raise` e `try`"
   ]
  },
  {
   "attachments": {},
   "cell_type": "markdown",
   "metadata": {},
   "source": [
    "É importante entender o que acontece quando um `raise` é executado: o `raise` provoca o lançamento da exceção associada e a interrupção do código em execução.  A execução será retomada apenas quando for encontrado um bloco `try` envolvendo o ponto onde o `raise` foi executado. Isso implica a interrupção da execução de todas as funções e métodos desde o ponto do `try` até o ponto onde o `raise` foi executado. Quando o `try` é encontrado, os blocos `except` associados são avaliados para ver se algum é compatível com o tipo de exceção lançado. Se um deles for, o bloco except correspondente é executado; se nenhum for, as execuções continuam a ser interrompidas em busca de um novo bloco `try`. Se nenhum bloco `try` com um `except` compatível é encontrado, a execução do código é terminada."
   ]
  },
  {
   "cell_type": "code",
   "execution_count": null,
   "metadata": {},
   "outputs": [],
   "source": [
    "class FirstException(Exception):\n",
    "    pass\n",
    "\n",
    "class SecondException(Exception):\n",
    "    pass\n",
    "\n",
    "class ThirdException(Exception):\n",
    "    pass\n",
    "\n",
    "def f(interrupt):\n",
    "    print('Starting f')\n",
    "    if interrupt == 1:\n",
    "        raise FirstException()\n",
    "    elif interrupt == 2:\n",
    "        raise SecondException()\n",
    "    elif interrupt == 3:\n",
    "        raise ThirdException()\n",
    "    print('Ending f')\n",
    "    \n",
    "def g(interrupt):\n",
    "    try:\n",
    "        print('Starting g')\n",
    "        f(interrupt)\n",
    "        print('Ending g')\n",
    "    except FirstException:\n",
    "        print('g got a FirstException')\n",
    "    finally:\n",
    "        print('g is finallizing')\n",
    "        \n",
    "def h(interrupt):\n",
    "    try:\n",
    "        print('Starting h')\n",
    "        g(interrupt)\n",
    "        print('Ending h')\n",
    "    except SecondException:\n",
    "        print('h got a SecondException')\n",
    "    else:\n",
    "        print('h or else!')"
   ]
  },
  {
   "cell_type": "code",
   "execution_count": null,
   "metadata": {},
   "outputs": [],
   "source": [
    "print('Run some code.')\n",
    "h(1)\n",
    "print('Back again.')"
   ]
  },
  {
   "cell_type": "code",
   "execution_count": null,
   "metadata": {},
   "outputs": [],
   "source": [
    "print('Run some code.')\n",
    "h(2)\n",
    "print('Back again.')"
   ]
  },
  {
   "cell_type": "code",
   "execution_count": null,
   "metadata": {},
   "outputs": [],
   "source": [
    "print('Run some code.')\n",
    "h(3)\n",
    "print('Back again.')"
   ]
  },
  {
   "attachments": {},
   "cell_type": "markdown",
   "metadata": {},
   "source": [
    "## 8. Uso de exceções"
   ]
  },
  {
   "attachments": {},
   "cell_type": "markdown",
   "metadata": {},
   "source": [
    "Os códigos de demonstração acima dão uma idéia errada sobre como exceções são de fato utilizadas em códigos reais.\n",
    "\n",
    "A grande vantagem do uso exceções é que separamos duas partes do tratamento de erros:\n",
    "\n",
    "- O momento em que o erro é detectado.\n",
    "- O momento onde vamos lidar com o erro.\n",
    "\n",
    "Em código reais, organizados em funções e métodos, é frequente que no momento em que detectamos um erro não temos informações de contexto suficiente para saber como lidar com o erro. Por exemplo, suponha uma função que lê dados de um arquivo de entrada. Se ocorre um erro numa das leituras, o que deve ser feito? Interromper a execução do programa? Tentar acessar dados de outro arquivo? Fornecer algum tipo de valor _default_? Dificilmente a função responsável pela leitura dos dados vai saber qual a ação apropriada. Isto será conhecido apenas do código que realizou a chamada da função. Isto quer dizer que precisamos separar a detecção do erro do seu tratamento, que é o que conseguimos com exceções.\n",
    "\n",
    "- Ao detectarmos um problema, realizamos um `raise` de uma exceção do tipo apropriado.\n",
    "- No código que faz operações que podem dar errado e que sabe como lidar com os possíveis erros, usamos `try ... except` para lidar apropriadamente com os erros.\n",
    "\n",
    "Vejamos um exemplo simples organizado dessa forma."
   ]
  },
  {
   "cell_type": "code",
   "execution_count": null,
   "metadata": {},
   "outputs": [],
   "source": [
    "def to_int_list(list_string):\n",
    "    pieces = list_string.split()\n",
    "    return [int(piece) for piece in pieces]\n",
    "\n",
    "first = '1 2 3 4 5 6 7 8 9 10'\n",
    "second = '10 20 30 40 50 6O 70 80 90 100'\n",
    "\n",
    "try:\n",
    "    first_list = to_int_list(first)\n",
    "    second_list = to_int_list(second)\n",
    "    print([x + y for x, y in zip(first_list, second_list)])\n",
    "except ValueError as ve:\n",
    "    print(f'Formatting error in one of the strings: {ve}.')"
   ]
  },
  {
   "attachments": {},
   "cell_type": "markdown",
   "metadata": {},
   "source": [
    "Onde está a detecção de erros aqui? Ela está na chamada a `int()` feita dentro da função `to_int_list`. Quando chamamos `int` passando uma cadeia de caracteres, ela tenta ler essa cadeia como o valor de um inteiro. Mas o que acontece que ela não consegue fazer isso, como no caso da tentativa de conversão de `6O` para `int` neste exemplo? Não existe forma pela qual a função `int` possa saber como lidar com esse problema. Então ela lança uma exceção do tipo `ValueError`, que interrompe a sua execução e volta para a função `to_int_list`. Esta função também não sabe como lidar com esse erro, então ela simplesmente repassa a exceção para o local onde ela foi chamada. Nesse ponto, como a chamada está dentro de um bloco `try` o código tenta achar um tratador de exceção apropriado, o que ele consegue, e então executa esse tratador (que no caso apenas imprime uma mensagem)."
   ]
  },
  {
   "cell_type": "code",
   "execution_count": null,
   "metadata": {
    "tags": []
   },
   "outputs": [],
   "source": [
    "int('1e')"
   ]
  },
  {
   "attachments": {},
   "cell_type": "markdown",
   "metadata": {},
   "source": [
    "## 9. Recomendações"
   ]
  },
  {
   "attachments": {},
   "cell_type": "markdown",
   "metadata": {},
   "source": [
    "O uso de exceções para lidar com erros e situações excepcionais é conveniente e idiomático em Python. Isso significa que várias funções e métodos das bibliotecas de Python lançam exceções nessas situações.\n",
    "\n",
    "A forma como o interpretador Python lida com exceções por _default_, isto é, interromper a execução do programa com uma mensagem de erro, raramente é o que se deseja.\n",
    "\n",
    "Portanto, é importante manter isso em mente ao desenvolver seus códigos, e sempre considerar as possíveis exceções:\n",
    "\n",
    "- Ao lidar com recursos do sistema (por exemplo, arquivos), ou qualquer tipo de objeto que requeira limpeza quando não mais necessário, você deve sempre usar contextos e blocos `with`. Isso garante que a liberação do recurso ou as operações de limpeza sejam realizadas mesmo que ocorra uma exceção.\n",
    "- Considere com cuidado em que ponto do código deve ser feito o tratamento de cada tipo de erro ou exceção que pode ocorrer, para inserir os `try/except` adequados.\n",
    "\n",
    "--- \n",
    "\n",
    "Apesar da conveniência, o uso de exceções não é sem problemas. Exemplos de dois problemas são:\n",
    "\n",
    "- Existe um custo adicional durante a execução, pois cada chamada e retorno de função tem que realizar certas operações adicionais, mesmo que nenhuma exceção tenha sido levantada. Esse problema não é especialmente importante em Python, pois ela não é uma linguagem focada em desempenho de execução. Mas isso impede o uso de exceções em certos sistemas com recursos limitados.\n",
    "- Existe sempre a possibilidade de que uma exceção seja levantada e não tratada, o que levará ao término do programa, o que não é uma opção em diversas situações! \n",
    "\n",
    "Por exemplo, o código  de convenções de programação em C++ do Google proíbe o uso de exceções. A razão provavelmente é uma mistura dos dois problemas citados acima: eles precisam do máximo de desempenho possível (cada perda de desempenho significa que eles precisam comprar mais computadores para dar conta da mesma carga) e também não é viável que um dos serviços deles pare de funcionar pois uma exceção foi levantada e não tratada."
   ]
  },
  {
   "attachments": {},
   "cell_type": "markdown",
   "metadata": {},
   "source": [
    "# Exercício"
   ]
  },
  {
   "attachments": {},
   "cell_type": "markdown",
   "metadata": {},
   "source": [
    "Qual a saída produzida pelo código abaixo:\n",
    "```python\n",
    "class Err1(Exception):\n",
    "    pass\n",
    "\n",
    "class Err2(ValueError):\n",
    "    pass\n",
    "\n",
    "class Err3(Err1):\n",
    "    pass\n",
    "\n",
    "def f(n):\n",
    "    print('f start')\n",
    "    if n == 1:\n",
    "        raise Err1('one error')\n",
    "    elif n == 2:\n",
    "        raise Err2('other error')\n",
    "    elif n == 3:\n",
    "        raise Err3('even other error')\n",
    "    elif n <= 0:\n",
    "        raise Exception(\"Don't know\")\n",
    "    print('f finish')\n",
    "       \n",
    "def g():\n",
    "    print('g start')\n",
    "    for n in range(1, 5):\n",
    "        try:\n",
    "            f(n)\n",
    "        except Err1:\n",
    "            print('g got Err1')\n",
    "        except Err2:\n",
    "            print('g got Err2')\n",
    "        except Err3:\n",
    "            print('g got Err3')\n",
    "        except Exception:\n",
    "            print('g got some error')\n",
    "        else:\n",
    "            print(f'All ok for g, iteration {n}')\n",
    "        finally:\n",
    "            print(f'Iteration {n} done in g')\n",
    "    print('g finish')\n",
    "           \n",
    "def h():\n",
    "    print('h start')\n",
    "    for n in range(5):\n",
    "        try:\n",
    "            f(n)\n",
    "        except ValueError:\n",
    "            print('h got a value error')\n",
    "        except Exception:\n",
    "            print('h got some error')\n",
    "        else:\n",
    "            print(f'All ok for h, iteration {n}')\n",
    "        finally:\n",
    "            print(f'Iteration {n} done in h')\n",
    "    print('h finish')\n",
    "           \n",
    "def m():\n",
    "    print('m start')\n",
    "    for n in range(5):\n",
    "        try:\n",
    "            f(n)\n",
    "        except Err2:\n",
    "            print('m got Err2')\n",
    "        except Err3:\n",
    "            print('m got Err3')\n",
    "        else:\n",
    "            print(f'All ok for m, iteration {n}')\n",
    "        finally:\n",
    "            print(f'Iteration {n} done in m')\n",
    "    print('m finish')\n",
    "       \n",
    "try:\n",
    "    g()\n",
    "    h()\n",
    "    m()\n",
    "except Exception as e:\n",
    "    print(f'{e}')\n",
    "```"
   ]
  }
 ],
 "metadata": {
  "kernelspec": {
   "display_name": "Python 3 (ipykernel)",
   "language": "python",
   "name": "python3"
  },
  "language_info": {
   "codemirror_mode": {
    "name": "ipython",
    "version": 3
   },
   "file_extension": ".py",
   "mimetype": "text/x-python",
   "name": "python",
   "nbconvert_exporter": "python",
   "pygments_lexer": "ipython3",
   "version": "3.11.2"
  }
 },
 "nbformat": 4,
 "nbformat_minor": 4
}
