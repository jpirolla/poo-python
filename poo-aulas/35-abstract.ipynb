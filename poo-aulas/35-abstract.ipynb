{
 "cells": [
  {
   "cell_type": "markdown",
   "metadata": {},
   "source": [
    "# Classes base abstratas e métodos abstratos"
   ]
  },
  {
   "cell_type": "markdown",
   "metadata": {},
   "source": [
    "Em algumas situações, queremos definir um método em uma classe base que não tem nenhuma implementação específica nessa classe, mas terá apenas implementação válida nas classes derivadas.\n",
    "\n",
    "Como um exemplo arbitrário, o código abaixo define um método `h` que faz uso de um método `m` que não foi definido."
   ]
  },
  {
   "cell_type": "code",
   "execution_count": null,
   "metadata": {},
   "outputs": [],
   "source": [
    "class Base:\n",
    "    def __init__(self):\n",
    "        print('Creating a Base')\n",
    "    def f(self):\n",
    "        print('f of Base')\n",
    "    def h(self):\n",
    "        self.m() # Chamada de método não definido!"
   ]
  },
  {
   "cell_type": "code",
   "execution_count": null,
   "metadata": {},
   "outputs": [],
   "source": [
    "class Derived1(Base):\n",
    "    def g(self):\n",
    "        print('g of Derived1')"
   ]
  },
  {
   "cell_type": "code",
   "execution_count": null,
   "metadata": {},
   "outputs": [],
   "source": [
    "class Derived2(Base):\n",
    "    def f(self):\n",
    "        print('f of Derived2')"
   ]
  },
  {
   "cell_type": "code",
   "execution_count": null,
   "metadata": {},
   "outputs": [],
   "source": [
    "class Derived3(Base):\n",
    "    def f(self):\n",
    "        Base.f(self)\n",
    "        print('f of Derived3')"
   ]
  },
  {
   "cell_type": "code",
   "execution_count": null,
   "metadata": {},
   "outputs": [],
   "source": [
    "class Derived4(Base):\n",
    "    def m(self):\n",
    "        print('m of Derived4')"
   ]
  },
  {
   "cell_type": "markdown",
   "metadata": {},
   "source": [
    "Das classes acima, apenas a `Derived4` é completa, pois nenhuma das outras define `m`, e portanto não podemos executar `h` sobre objetos dessas classes."
   ]
  },
  {
   "cell_type": "code",
   "execution_count": null,
   "metadata": {},
   "outputs": [],
   "source": [
    "b = Base()"
   ]
  },
  {
   "cell_type": "code",
   "execution_count": null,
   "metadata": {},
   "outputs": [],
   "source": [
    "b.f()"
   ]
  },
  {
   "cell_type": "code",
   "execution_count": null,
   "metadata": {},
   "outputs": [],
   "source": [
    "d1 = Derived1()"
   ]
  },
  {
   "cell_type": "code",
   "execution_count": null,
   "metadata": {},
   "outputs": [],
   "source": [
    "d1.f()"
   ]
  },
  {
   "cell_type": "code",
   "execution_count": null,
   "metadata": {},
   "outputs": [],
   "source": [
    "d1.g()"
   ]
  },
  {
   "cell_type": "code",
   "execution_count": null,
   "metadata": {},
   "outputs": [],
   "source": [
    "d2 = Derived2()"
   ]
  },
  {
   "cell_type": "code",
   "execution_count": null,
   "metadata": {},
   "outputs": [],
   "source": [
    "d2.f()"
   ]
  },
  {
   "cell_type": "code",
   "execution_count": null,
   "metadata": {},
   "outputs": [],
   "source": [
    "d3 = Derived3()"
   ]
  },
  {
   "cell_type": "code",
   "execution_count": null,
   "metadata": {},
   "outputs": [],
   "source": [
    "d3.f()"
   ]
  },
  {
   "cell_type": "code",
   "execution_count": null,
   "metadata": {},
   "outputs": [],
   "source": [
    "d1.h()"
   ]
  },
  {
   "cell_type": "code",
   "execution_count": null,
   "metadata": {},
   "outputs": [],
   "source": [
    "d2.h()"
   ]
  },
  {
   "cell_type": "code",
   "execution_count": null,
   "metadata": {},
   "outputs": [],
   "source": [
    "d3.h()"
   ]
  },
  {
   "cell_type": "code",
   "execution_count": null,
   "metadata": {},
   "outputs": [],
   "source": [
    "d4 = Derived4()"
   ]
  },
  {
   "cell_type": "code",
   "execution_count": null,
   "metadata": {},
   "outputs": [],
   "source": [
    "d4.f()"
   ]
  },
  {
   "cell_type": "code",
   "execution_count": null,
   "metadata": {},
   "outputs": [],
   "source": [
    "d4.h()"
   ]
  },
  {
   "cell_type": "markdown",
   "metadata": {},
   "source": [
    "Dizemos nesse caso que a classe base é **abstrata** e o método `m` é um **método abstrato**.\n",
    "\n",
    "O ideal é indicar isso claramente no código, pois dessa forma o Python pode impedir que criemos objetos incompletos. Isso é feito com auxílio do módulo `abc` (de **a**bstract **b**ase **c**lass)."
   ]
  },
  {
   "cell_type": "code",
   "execution_count": null,
   "metadata": {},
   "outputs": [],
   "source": [
    "from abc import ABC, abstractmethod"
   ]
  },
  {
   "cell_type": "code",
   "execution_count": null,
   "metadata": {},
   "outputs": [],
   "source": [
    "class Base(ABC):\n",
    "    def __init__(self):\n",
    "        print('Creating a Base')\n",
    "    def f(self):\n",
    "        print('f of Base')\n",
    "    def h(self):\n",
    "        self.m()\n",
    "    @abstractmethod\n",
    "    def m(self):\n",
    "        pass"
   ]
  },
  {
   "cell_type": "markdown",
   "metadata": {},
   "source": [
    "O uso de `ABC` na lista de classes base indica que a classe definida é uma classe base abstrata.\n",
    "\n",
    "O uso de `@abstractmethod` antes da definição do método `m` indica que esse é um método abstrato. A notação com o `@` indica que `abstractmethod` é um **decorador**. Estudaremos decoradores mais para frente.\n",
    "\n",
    "Com essa definição, não é possível criar objetos da classe `Base`, pois ela está registrada no Python como abstrata."
   ]
  },
  {
   "cell_type": "code",
   "execution_count": null,
   "metadata": {},
   "outputs": [],
   "source": [
    "b = Base()"
   ]
  },
  {
   "cell_type": "markdown",
   "metadata": {},
   "source": [
    "O mesmo vale para qualquer classe derivada que não implementar o método `m`."
   ]
  },
  {
   "cell_type": "code",
   "execution_count": null,
   "metadata": {},
   "outputs": [],
   "source": [
    "class Derived1(Base):\n",
    "    def g(self):\n",
    "        print('g de Derivada1')"
   ]
  },
  {
   "cell_type": "code",
   "execution_count": null,
   "metadata": {},
   "outputs": [],
   "source": [
    "d1 = Derived1()"
   ]
  },
  {
   "cell_type": "markdown",
   "metadata": {},
   "source": [
    "Para criar objetos, precisamos definir uma classe derivada que implementa o método abstrato `m`."
   ]
  },
  {
   "cell_type": "code",
   "execution_count": null,
   "metadata": {},
   "outputs": [],
   "source": [
    "class Derived4(Base):\n",
    "    def m(self):\n",
    "        print('m of Derived4')"
   ]
  },
  {
   "cell_type": "code",
   "execution_count": null,
   "metadata": {},
   "outputs": [],
   "source": [
    "d4 = Derived4()"
   ]
  },
  {
   "cell_type": "code",
   "execution_count": null,
   "metadata": {},
   "outputs": [],
   "source": [
    "d4.h()"
   ]
  },
  {
   "cell_type": "markdown",
   "metadata": {},
   "source": [
    "## Exemplo"
   ]
  },
  {
   "cell_type": "markdown",
   "metadata": {},
   "source": [
    "Como exemplo, vamos agora considerar um caso excessivamente simplificado de cálculo do salário líquido a ser pago em uma empresa.\n",
    "\n",
    "Nessa empresa simplificada desse país simplificado, temos três tipos de colaboradores: escriturários, vendedores e gerentes. Os escriturários recebem um salário bruto fixo, os vendedores, além de uma base fixa, recebem uma comissão de 10% sobre o total de vendas realizadas por eles, por fim, os gerentes, além de uma base fixa, recebem uma comissão de 5% sobre o lucro líquido do seu departamento.\n",
    "\n",
    "Por outro lado, do valor do salário bruto são descontados 10% para segurança social e do restante são descontados 15% de imposto de renda na fonte.\n",
    "\n",
    "Para os cálculos, os dados sobre cada colaborador são fornecidos em um arquivo (aqui usaremos apenas uma cadeia de caracteres fixa, para simplificar) com o seguinte formato:\n",
    "- Cada linha corresponde a um colaborador\n",
    "- Cada linha é constituída de campos separados por vírgulas:\n",
    "  - O primeiro campo é o nome do colaborador\n",
    "  - O segundo campo é o seu cargo (manager, sales ou clerk)\n",
    "  - O terceiro campo é o salário base\n",
    "  - No caso de um vendedor, há um quarto campo com o total de vendas que ele realizou\n",
    "  - No caso de um gerente, há um quarto campo com o lucro líquido do seu departamento\n",
    "  \n",
    "Primeiro, vamos definir uma classe base com o comportamento comum a todos os tipos de colaboradores:"
   ]
  },
  {
   "cell_type": "code",
   "execution_count": null,
   "metadata": {},
   "outputs": [],
   "source": [
    "class Employee(ABC):\n",
    "    TAX_RATE = 0.15\n",
    "    SOCIAL_SECURITY_RATE = 0.1\n",
    "    \n",
    "    def __init__(self, name):\n",
    "        self._name = name\n",
    "        self._base_salary = None\n",
    "    \n",
    "    def get_name(self):\n",
    "        return self._name\n",
    "    \n",
    "    def set_salary(self, salary):\n",
    "        self._base_salary = salary\n",
    "    \n",
    "    @abstractmethod\n",
    "    def compute_gross(self):\n",
    "        pass\n",
    "    \n",
    "    def net_salary(self):\n",
    "        base = self.compute_gross() * (1 - Employee.SOCIAL_SECURITY_RATE)\n",
    "        net = base * (1 - Employee.TAX_RATE)\n",
    "        return net"
   ]
  },
  {
   "cell_type": "markdown",
   "metadata": {},
   "source": [
    "Agora definimos uma classe para cada um dos tipos específicos de colaborador. Com o que já temos implementado na classe `Employee`, basta implementar o método abstrato `compute_gross` apropriado para cada uma das categorias.\n",
    "\n",
    "Um escriturário recebe apenas o salário base."
   ]
  },
  {
   "cell_type": "code",
   "execution_count": null,
   "metadata": {},
   "outputs": [],
   "source": [
    "class Clerk(Employee):\n",
    "    def compute_gross(self):\n",
    "        return self._base_salary   "
   ]
  },
  {
   "cell_type": "markdown",
   "metadata": {},
   "source": [
    "Um vendedor recebe adicionalmente uma comissão de vendas. Precisamos então poder registrar o total de vendas, e para isso acrescentamos o método `set_sales`, além de implementar `compute_gross`. Para a implementação de `compute_gross` precisamos do valor da porcentagem da comissão de venda. Para deixar o código mais fácil de alterar, definimos a constante `COMMMISSION_RATE`; como essa constante só é de interesse para essa classe, a definimos localmente (e não como uma constante global); como ela é igual para todos os vendedores, a definimos como membro da classe (e não do objeto)."
   ]
  },
  {
   "cell_type": "code",
   "execution_count": null,
   "metadata": {},
   "outputs": [],
   "source": [
    "class Salesperson(Employee):\n",
    "    COMMISSION_RATE = 0.1\n",
    "    \n",
    "    def __init__(self, name = None):\n",
    "        Employee.__init__(self, name)\n",
    "        self._sales = None\n",
    "    \n",
    "    def set_sales(self, sales_volume):\n",
    "        self._sales = sales_volume\n",
    "\n",
    "    def compute_gross(self):\n",
    "        return self._base_salary + self._sales * Salesperson.COMMISSION_RATE"
   ]
  },
  {
   "cell_type": "markdown",
   "metadata": {},
   "source": [
    "De forma similar, definimos para os gerente um método para guardar o valor do lucro do departamento e uma constante de classe com a taxa de comissão neste caso."
   ]
  },
  {
   "cell_type": "code",
   "execution_count": null,
   "metadata": {},
   "outputs": [],
   "source": [
    "class Manager(Employee):\n",
    "    COMMISSION_RATE = 0.05\n",
    "    \n",
    "    def __init__(self, name = None):\n",
    "        Employee.__init__(self, name)\n",
    "        self._dept_profit = None\n",
    "        \n",
    "    def set_profit(self, net_profit):\n",
    "        self._dept_profit = net_profit\n",
    "        \n",
    "    def compute_gross(self):\n",
    "        return self._base_salary + self._dept_profit * Manager.COMMISSION_RATE"
   ]
  },
  {
   "cell_type": "markdown",
   "metadata": {},
   "source": [
    "Note como tanto no `Salesperson` como no `Manager`, criamos o campo adicional necessário no método `__init__`, apesar de neste momento ainda não sabermos o valor (inicializamos com `None` por essa razão). Como já comentado, isso não é necessário, pois qualquer método pode a qualquer momento criar novos membros nos objetos, mas da forma que foi feito, se for feita uma chamada de `compute_gross` para esses objetos antes dos campos necessários serem ajustados, teremos um erro indicando que o valor é `None`, ao invés de um erro indicando que o membro apropriado não existe, o que me parece uma mensagem mais apropriada (`None` indica algo desconhecido).\n",
    "\n",
    "Agora vamos inicializar nossa base de dados:"
   ]
  },
  {
   "cell_type": "code",
   "execution_count": null,
   "metadata": {},
   "outputs": [],
   "source": [
    "EMPLOYEE_DATABASE = '''\n",
    "Carlos Pedrosa, manager, 10000, 1000000\n",
    "Paola Teixeira, sales, 2000, 30000\n",
    "José Prado, sales, 2000, 27500\n",
    "Tadeu Costa, sales, 2200, 20000\n",
    "Victor Duarte, clerk, 1500\n",
    "Angelo Rodrigues, clerk, 1700\n",
    "Marta Cardoso, clerk, 1800\n",
    "'''"
   ]
  },
  {
   "cell_type": "markdown",
   "metadata": {},
   "source": [
    "Basta agora percorrer cada linha da cadeia, separar os campos da linha por vírgula, criar os objetos apropriados a cada linha, e inicializar os membros correspondentes do objeto."
   ]
  },
  {
   "cell_type": "code",
   "execution_count": null,
   "metadata": {},
   "outputs": [],
   "source": [
    "employees = []\n",
    "for line in EMPLOYEE_DATABASE.strip().split('\\n'):\n",
    "    fields = [field.strip() for field in line.split(',')]\n",
    "    name = fields[0]\n",
    "    position = fields[1]\n",
    "    salary = float(fields[2])\n",
    "    if position == 'manager':\n",
    "        employee = Manager(name)\n",
    "        profit = float(fields[3])\n",
    "        employee.set_profit(profit)\n",
    "    elif position == 'sales':\n",
    "        employee = Salesperson(name)\n",
    "        sales = float(fields[3])\n",
    "        employee.set_sales(sales)\n",
    "    elif position == 'clerk':\n",
    "        employee = Clerk(name)\n",
    "    else:\n",
    "        raise RuntimeError(f'{position} is not a valid job description')\n",
    "    employee.set_salary(salary)\n",
    "    employees.append(employee)"
   ]
  },
  {
   "cell_type": "markdown",
   "metadata": {},
   "source": [
    "Estamos agora prontos para verificar os valores a pagar a cada colaborador:"
   ]
  },
  {
   "cell_type": "code",
   "execution_count": null,
   "metadata": {},
   "outputs": [],
   "source": [
    "for e in employees:\n",
    "    print(e.get_name(),'receives', e.net_salary())"
   ]
  },
  {
   "cell_type": "code",
   "execution_count": null,
   "metadata": {},
   "outputs": [],
   "source": [
    "employees"
   ]
  },
  {
   "cell_type": "markdown",
   "metadata": {},
   "source": [
    "# Exercícios"
   ]
  },
  {
   "cell_type": "markdown",
   "metadata": {},
   "source": [
    "1. De quais classes abaixo podemos criar objetos e de quais não?\n",
    "```python\n",
    "from abc import ABC, abstractmethod\n",
    "class A:\n",
    "    def f(self):\n",
    "        print('From A')\n",
    "\n",
    "class B(A):\n",
    "    pass\n",
    "\n",
    "class C(ABC):\n",
    "    def f(self):\n",
    "        print('From C')\n",
    "    @abstractmethod\n",
    "    def g(self):\n",
    "        pass\n",
    "\n",
    "class D(C):\n",
    "    def f(self):\n",
    "        print('From D')\n",
    "\n",
    "class E(C):\n",
    "    def g(self):\n",
    "        print('Got E')\n",
    "\n",
    "```\n",
    "\n",
    "2. O código abaixo foi escrito por um programador que não conhece o conceito de classes base abstratas. Reescreva esse código com a ajuda do módulo `abc`.\n",
    "```python\n",
    "import math\n",
    "class Solid:\n",
    "    def __init__(self, mass):\n",
    "        self._mass = mass\n",
    "    def mass(self):\n",
    "        return self._mass\n",
    "    def volume(self):\n",
    "        pass\n",
    "    def density(self):\n",
    "        return self._mass / self.volume()\n",
    "\n",
    "class RectangularParallelepiped(Solid):\n",
    "    def __init__(self, mass, lx, ly, lz):\n",
    "        Solid.__init__(self, mass)\n",
    "        self._x = lx\n",
    "        self._y = ly\n",
    "        self._z = lz\n",
    "    def volume(self):\n",
    "        return self._x * self._y * self._z\n",
    "\n",
    "class Sphere(Solid):\n",
    "    def __init__(self, mass, r):\n",
    "        Solid.__init__(self, mass)\n",
    "        self._r = r\n",
    "    def volume(self):\n",
    "        return 4 / 3 * math.pi * self._r ** 3\n",
    "```"
   ]
  }
 ],
 "metadata": {
  "kernelspec": {
   "display_name": "Python 3 (ipykernel)",
   "language": "python",
   "name": "python3"
  },
  "language_info": {
   "codemirror_mode": {
    "name": "ipython",
    "version": 3
   },
   "file_extension": ".py",
   "mimetype": "text/x-python",
   "name": "python",
   "nbconvert_exporter": "python",
   "pygments_lexer": "ipython3",
   "version": "3.10.9"
  }
 },
 "nbformat": 4,
 "nbformat_minor": 4
}
