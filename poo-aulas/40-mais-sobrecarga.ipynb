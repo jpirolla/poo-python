{
 "cells": [
  {
   "cell_type": "markdown",
   "metadata": {},
   "source": [
    "# Mais alguns tipos de sobrecarga"
   ]
  },
  {
   "cell_type": "markdown",
   "metadata": {},
   "source": [
    "## 1. Conversão para booleano"
   ]
  },
  {
   "cell_type": "markdown",
   "metadata": {},
   "source": [
    "Se quisermos usar nossos objetos em comparações, ou outras situações em um contexto booleano, precisamos definir uma forma de convertê-los para booleano. Isto é feito sobrecarregando `__bool__`:"
   ]
  },
  {
   "cell_type": "code",
   "execution_count": null,
   "metadata": {},
   "outputs": [],
   "source": [
    "class Test:\n",
    "    def __init__(self, grade):\n",
    "        self._grade = grade\n",
    "    def __bool__(self):\n",
    "        return self._grade >= 5.0"
   ]
  },
  {
   "cell_type": "code",
   "execution_count": null,
   "metadata": {},
   "outputs": [],
   "source": [
    "t = [Test(8.5), Test(3.2)]\n",
    "for n in t:\n",
    "    if n:\n",
    "        print('Passou')\n",
    "    else:\n",
    "        print('Reprovou')"
   ]
  },
  {
   "cell_type": "code",
   "execution_count": null,
   "metadata": {},
   "outputs": [],
   "source": [
    "if all(t):\n",
    "    print('Ambos passaram')\n",
    "if any(t):\n",
    "    print('Algum passou')"
   ]
  },
  {
   "cell_type": "markdown",
   "metadata": {},
   "source": [
    "## 2. Valor absoluto"
   ]
  },
  {
   "cell_type": "markdown",
   "metadata": {},
   "source": [
    "O valor absoluto é calculado em Python pela função `abs`.  Para adaptar a operação da função `abs` para a sua classe, basta sobrecarregar o método `__abs__`:"
   ]
  },
  {
   "cell_type": "code",
   "execution_count": null,
   "metadata": {},
   "outputs": [],
   "source": [
    "class Vector2D:\n",
    "    def __init__(self, x, y):\n",
    "        self._vec = (x, y)\n",
    "    def x(self):\n",
    "        return self._vec[0]\n",
    "    def y(self):\n",
    "        return self._vec[1]\n",
    "    def __abs__(self):\n",
    "        from math import hypot\n",
    "        return hypot(self._vec[0], self._vec[1])"
   ]
  },
  {
   "cell_type": "code",
   "execution_count": null,
   "metadata": {},
   "outputs": [],
   "source": [
    "v1 = Vector2D(3, 4)\n",
    "v1.x(), v1.y(), abs(v1)"
   ]
  },
  {
   "cell_type": "markdown",
   "metadata": {},
   "source": [
    "## 3. Objetos funcionais"
   ]
  },
  {
   "cell_type": "markdown",
   "metadata": {},
   "source": [
    "Por fim (por agora), podemos fazer nossos objetos se comportarem como se fossem funções: eles aceitam serem usados na forma `obj(arg1, arg2)`.  Isso é feito sobrecarregando o método `__call__`.\n",
    "\n",
    "A classe abaixo define um objeto que pode ser usado como uma função sem parâmetros."
   ]
  },
  {
   "cell_type": "code",
   "execution_count": null,
   "metadata": {},
   "outputs": [],
   "source": [
    "class Incrementer:\n",
    "    def __init__(self, init = 0):\n",
    "        self._value = init\n",
    "    def __call__(self):\n",
    "        self._value += 1\n",
    "        return self._value\n",
    "    def value(self):\n",
    "        return self._value"
   ]
  },
  {
   "cell_type": "code",
   "execution_count": null,
   "metadata": {},
   "outputs": [],
   "source": [
    "g = Incrementer()"
   ]
  },
  {
   "cell_type": "code",
   "execution_count": null,
   "metadata": {},
   "outputs": [],
   "source": [
    "g()"
   ]
  },
  {
   "cell_type": "code",
   "execution_count": null,
   "metadata": {},
   "outputs": [],
   "source": [
    "g"
   ]
  },
  {
   "cell_type": "code",
   "execution_count": null,
   "metadata": {},
   "outputs": [],
   "source": [
    "g()"
   ]
  },
  {
   "cell_type": "code",
   "execution_count": null,
   "metadata": {},
   "outputs": [],
   "source": [
    "g()"
   ]
  },
  {
   "cell_type": "code",
   "execution_count": null,
   "metadata": {},
   "outputs": [],
   "source": [
    "g1 = Incrementer(10)"
   ]
  },
  {
   "cell_type": "code",
   "execution_count": null,
   "metadata": {},
   "outputs": [],
   "source": [
    "g1()"
   ]
  },
  {
   "cell_type": "code",
   "execution_count": null,
   "metadata": {},
   "outputs": [],
   "source": [
    "g1()"
   ]
  },
  {
   "cell_type": "markdown",
   "metadata": {},
   "source": [
    "Já a classe abaixo define objetos que são usados como funções de dois parâmetros."
   ]
  },
  {
   "cell_type": "code",
   "execution_count": null,
   "metadata": {},
   "outputs": [],
   "source": [
    "class ShiftedMul:\n",
    "    def __init__(self, shift):\n",
    "        self._shift = shift\n",
    "    def __call__(self, a, b):\n",
    "        return a * b + self._shift"
   ]
  },
  {
   "cell_type": "code",
   "execution_count": null,
   "metadata": {},
   "outputs": [],
   "source": [
    "h1 = ShiftedMul(1); h2 = ShiftedMul(5)"
   ]
  },
  {
   "cell_type": "code",
   "execution_count": null,
   "metadata": {},
   "outputs": [],
   "source": [
    "h1(1, 2)"
   ]
  },
  {
   "cell_type": "code",
   "execution_count": null,
   "metadata": {},
   "outputs": [],
   "source": [
    "h2(1, 2)"
   ]
  },
  {
   "cell_type": "markdown",
   "metadata": {},
   "source": [
    "Como frequente em Python, para este uso temos um código mais simples disponível:"
   ]
  },
  {
   "cell_type": "code",
   "execution_count": null,
   "metadata": {},
   "outputs": [],
   "source": [
    "hh1 = lambda a, b: a * b + 1"
   ]
  },
  {
   "cell_type": "code",
   "execution_count": null,
   "metadata": {},
   "outputs": [],
   "source": [
    "hh1(1, 2)"
   ]
  },
  {
   "cell_type": "markdown",
   "metadata": {},
   "source": [
    "Ou, mais geral:"
   ]
  },
  {
   "cell_type": "code",
   "execution_count": null,
   "metadata": {},
   "outputs": [],
   "source": [
    "def shifted_mul(shift):\n",
    "    return lambda a, b: a * b + shift"
   ]
  },
  {
   "cell_type": "code",
   "execution_count": null,
   "metadata": {},
   "outputs": [],
   "source": [
    "hhh1 = shifted_mul(1)\n",
    "hhh2 = shifted_mul(5)"
   ]
  },
  {
   "cell_type": "code",
   "execution_count": null,
   "metadata": {},
   "outputs": [],
   "source": [
    "hhh1(1, 2)"
   ]
  },
  {
   "cell_type": "code",
   "execution_count": null,
   "metadata": {},
   "outputs": [],
   "source": [
    "hhh2(1, 2)"
   ]
  },
  {
   "cell_type": "markdown",
   "metadata": {},
   "source": [
    "A solução usando a classe `ShiftedMul` é uma solução **orientada a objetos** para esse problema, enquanto que a solução usando a função **shifted_mul** é uma solução de **programação funcional**."
   ]
  },
  {
   "cell_type": "markdown",
   "metadata": {},
   "source": [
    "# Exercício"
   ]
  },
  {
   "cell_type": "markdown",
   "metadata": {},
   "source": [
    "Qual a saída produzida pelo código abaixo?\n",
    "```python\n",
    "def talk(f):\n",
    "    print(f(1, 10))\n",
    "    \n",
    "def simple(a, b):\n",
    "    return 2 * a + b\n",
    "    \n",
    "lam = lambda a, b: 2 * b + a\n",
    "    \n",
    "class Func:\n",
    "    def __init__(self, c):\n",
    "        self._c = c\n",
    "    \n",
    "    def __call__(self, a, b):\n",
    "        return self._c * a + b\n",
    "    \n",
    "talk(simple)\n",
    "talk(lam)\n",
    "talk(Func(2))\n",
    "talk(Func(20))\n",
    "```"
   ]
  }
 ],
 "metadata": {
  "kernelspec": {
   "display_name": "Python 3 (ipykernel)",
   "language": "python",
   "name": "python3"
  },
  "language_info": {
   "codemirror_mode": {
    "name": "ipython",
    "version": 3
   },
   "file_extension": ".py",
   "mimetype": "text/x-python",
   "name": "python",
   "nbconvert_exporter": "python",
   "pygments_lexer": "ipython3",
   "version": "3.9.16"
  }
 },
 "nbformat": 4,
 "nbformat_minor": 4
}
