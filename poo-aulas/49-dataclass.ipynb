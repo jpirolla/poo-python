{
 "cells": [
  {
   "cell_type": "markdown",
   "id": "9af2ce67-f640-49e6-a385-a78b0332654e",
   "metadata": {},
   "source": [
    "# Dataclass"
   ]
  },
  {
   "cell_type": "markdown",
   "id": "c83490d9-c8ba-4a2d-8900-a0310837c282",
   "metadata": {},
   "source": [
    "Na versão 3.7 do Python foi introduzido o módulo `dataclasses`, para simplificar a criação de classes cujo único objetivo é carregar dados relacionados. Esse módulo define o decorador `dataclass`, que gera automaticamente alguns métodos para classes simples."
   ]
  },
  {
   "cell_type": "markdown",
   "id": "82d4d391-5674-4625-9817-9426a8897742",
   "metadata": {},
   "source": [
    "## Exemplo inicial"
   ]
  },
  {
   "cell_type": "markdown",
   "id": "e164dea8-339a-4ecd-8c65-b63cfd12e5e0",
   "metadata": {},
   "source": [
    "Como um exemplo, suponhamos que queremos definir uma classe para representar um ponto num plano bidimensional. Podemos definir uma classe simples da seguinte forma:"
   ]
  },
  {
   "cell_type": "code",
   "execution_count": null,
   "id": "6db37d6f-e0d8-4040-91f7-eab7dc4ac4c5",
   "metadata": {},
   "outputs": [],
   "source": [
    "class Point:\n",
    "    def __init__(self, x, y):\n",
    "        self.x = x\n",
    "        self.y = y"
   ]
  },
  {
   "cell_type": "markdown",
   "id": "7ef8d4e0-834d-4825-bed5-a10cacef1e69",
   "metadata": {},
   "source": [
    "Note que estou considerando os membros `x` e `y` como públicos. Esse é um ponto importante. Agora podemos usar essa classe para operações simples."
   ]
  },
  {
   "cell_type": "code",
   "execution_count": null,
   "id": "d0700c71-407e-4900-be04-2ed2cef67153",
   "metadata": {},
   "outputs": [],
   "source": [
    "p1 = Point(10, 20)\n",
    "origin = Point(0, 0)\n",
    "print(f'p1 fica em ({p1.x}, {p1.y})')\n",
    "print(f'A origem fica em ({origin.x}, {origin.y})')"
   ]
  },
  {
   "cell_type": "markdown",
   "id": "990dfe10-3f24-4146-b357-e96069ae1e63",
   "metadata": {},
   "source": [
    "Infelizmente, os objetos dessa classe ainda são um tanto restritos. Por exemplo, não funciona a impressao:"
   ]
  },
  {
   "cell_type": "code",
   "execution_count": null,
   "id": "3a50e2be-b2b2-4c33-b8ef-c8bd84ceaf63",
   "metadata": {},
   "outputs": [],
   "source": [
    "print(p1)"
   ]
  },
  {
   "cell_type": "markdown",
   "id": "89beb941-a77c-4c28-b0cf-5f6dbd66f238",
   "metadata": {},
   "source": [
    "E também não podemos fazer comparação:"
   ]
  },
  {
   "cell_type": "code",
   "execution_count": null,
   "id": "1b97d3d5-92b9-414c-9a36-eb8f7b004479",
   "metadata": {},
   "outputs": [],
   "source": [
    "p2 = Point(10, 20)\n",
    "p1 == p2"
   ]
  },
  {
   "cell_type": "markdown",
   "id": "8a10d784-295f-4e9b-8dc4-97fb04bd57bd",
   "metadata": {},
   "source": [
    "(No código acima, ele simplesmente comparou se os dois objetos são o mesmo.)\n",
    "\n",
    "Podemos usar o decorador `dataclass` tanto simplificar a definição da classe como definir automaticamente alguns métodos:"
   ]
  },
  {
   "cell_type": "code",
   "execution_count": null,
   "id": "5a3a80b5-bad9-4219-888c-fb811c5901e2",
   "metadata": {},
   "outputs": [],
   "source": [
    "from dataclasses import dataclass\n",
    "\n",
    "@dataclass\n",
    "class Point:\n",
    "    x : float\n",
    "    y : float"
   ]
  },
  {
   "cell_type": "markdown",
   "id": "48e35513-82c0-4681-be95-770f64ce7f6d",
   "metadata": {},
   "source": [
    "Essa definição diz que os objetos da classe `Point` terão dois campos **públicos**, denominados `x` e `y`, que guardarão valores `float`."
   ]
  },
  {
   "cell_type": "code",
   "execution_count": null,
   "id": "13ccf055-4cfa-4501-a756-fc315ab6ba46",
   "metadata": {},
   "outputs": [],
   "source": [
    "p1 = Point(10, 20)\n",
    "origin = Point(0, 0)\n",
    "print(f'p1 fica em ({p1.x}, {p1.y})')\n",
    "print(f'A origem fica em ({origin.x}, {origin.y})')"
   ]
  },
  {
   "cell_type": "markdown",
   "id": "31bd5702-5083-40c5-9b60-c0a4dae58783",
   "metadata": {},
   "source": [
    "Note como o método `__init__` foi automaticamente definido.\n",
    "\n",
    "Mas também os métodos `__repr__` e `__eq__` são definidos automaticamente:"
   ]
  },
  {
   "cell_type": "code",
   "execution_count": null,
   "id": "7f563fb9-0404-4b06-bced-ec8989d7e0fa",
   "metadata": {},
   "outputs": [],
   "source": [
    "print(p1)"
   ]
  },
  {
   "cell_type": "code",
   "execution_count": null,
   "id": "1a4787ec-b45b-4717-bb8d-e6fa93c2a6f1",
   "metadata": {},
   "outputs": [],
   "source": [
    "p2 = Point(10, 20)\n",
    "p1 == p2"
   ]
  },
  {
   "cell_type": "markdown",
   "id": "e0f9d642-2494-4dc7-8abe-b0a4aa430582",
   "metadata": {},
   "source": [
    "O método `__repr__` é definido de modo a ficar com o formato como o do exemplo acima. O método `__eq__` é definido para comparar um por um os valores dos campos. Neste caso, seria algo como:\n",
    "\n",
    "```python\n",
    "class Point:\n",
    "    ... etc\n",
    "    def __eq__(self, other):\n",
    "        return self.x == other.x and self.y == other.y\n",
    "```"
   ]
  },
  {
   "cell_type": "markdown",
   "id": "17788ca5-12cf-4d89-9720-7d3f54de119b",
   "metadata": {},
   "source": [
    "## Valores default"
   ]
  },
  {
   "cell_type": "markdown",
   "id": "2270adf0-9b28-4f15-8933-c53a5019eeb9",
   "metadata": {},
   "source": [
    "Nós podemos também especificar valores default para os campos, que serão usados como valores default no método `__init__` gerado automaticamente:"
   ]
  },
  {
   "cell_type": "code",
   "execution_count": null,
   "id": "33ba0cf8-90d1-481b-8045-2efe5ad8c1cc",
   "metadata": {},
   "outputs": [],
   "source": [
    "@dataclass\n",
    "class Point:\n",
    "    x : float = 0\n",
    "    y : float = 0"
   ]
  },
  {
   "cell_type": "code",
   "execution_count": null,
   "id": "cd71df55-f450-42c0-ba3a-255d22eb587d",
   "metadata": {},
   "outputs": [],
   "source": [
    "origin = Point()\n",
    "print(origin)"
   ]
  },
  {
   "cell_type": "markdown",
   "id": "51748731-dce4-439a-a2bc-6729e7e66a36",
   "metadata": {},
   "source": [
    "## Métodos adicionais"
   ]
  },
  {
   "cell_type": "markdown",
   "id": "e59187ce-aa26-48bb-9b83-204b1d8bc481",
   "metadata": {},
   "source": [
    "Nada impede o programador incluir na classe outros métodos, além dos que vão ser gerados automaticamente. Por exemplo, podemos criar um método para gerar um ponto com certo deslocamento em relação ao nosso ponto e também definir uma forma diferente de converter para cadeias de caracteres:"
   ]
  },
  {
   "cell_type": "code",
   "execution_count": null,
   "id": "3ed6a059-fe8a-43cf-9cf1-809b830a9a02",
   "metadata": {},
   "outputs": [],
   "source": [
    "@dataclass\n",
    "class Point:\n",
    "    x : float = 0\n",
    "    y : float = 0\n",
    "\n",
    "    def __str__(self):\n",
    "        return f'({self.x}, {self.y})'\n",
    "\n",
    "    def move(self, δx, δy):\n",
    "        return Point(self.x + δx, self.y + δy)"
   ]
  },
  {
   "cell_type": "code",
   "execution_count": null,
   "id": "c717eb95-53b4-49b0-8b1d-b22db2a73ac5",
   "metadata": {},
   "outputs": [],
   "source": [
    "p3 = Point(5, 7)\n",
    "print(p3.move(1, 4))"
   ]
  },
  {
   "cell_type": "code",
   "execution_count": null,
   "id": "94066d44-1c0c-4a73-94da-2e70bbb16a6d",
   "metadata": {},
   "outputs": [],
   "source": [
    "p3"
   ]
  },
  {
   "cell_type": "markdown",
   "id": "bf16c747-3bb4-4190-8fc7-cefd9d33285e",
   "metadata": {},
   "source": [
    "## Definição manual de métodos auto-gerados"
   ]
  },
  {
   "cell_type": "markdown",
   "id": "b5045e7e-3864-4990-8687-2f1b0c188cc5",
   "metadata": {},
   "source": [
    "Às vezes, os métodos gerados automaticamente por `dataclass` não são apropriados. Felizmente, é possível alterar: se o programador define manualmente um dos métodos, esse método será usado e não será gerado automaticamente.\n",
    "\n",
    "Por exemplo, se gostamos da representação de pontos como a definida no método `__str__` acima e queremos usá-la também para `__repr__`, basta definir o `__repr__`:"
   ]
  },
  {
   "cell_type": "code",
   "execution_count": null,
   "id": "835c9731-889e-436a-87f2-a6a1f394c9e2",
   "metadata": {},
   "outputs": [],
   "source": [
    "@dataclass\n",
    "class Point:\n",
    "    x : float = 0\n",
    "    y : float = 0\n",
    "\n",
    "    def __repr__(self):\n",
    "        return f'({self.x}, {self.y})'\n",
    "\n",
    "    def move(self, δx, δy):\n",
    "        return Point(self.x + δx, self.y + δy)"
   ]
  },
  {
   "cell_type": "code",
   "execution_count": null,
   "id": "2a970777-cbfc-4341-b514-45509f9a1cfa",
   "metadata": {},
   "outputs": [],
   "source": [
    "p3 = Point(5, 7)\n",
    "print(p3.move(1, 4))"
   ]
  },
  {
   "cell_type": "code",
   "execution_count": null,
   "id": "eb03c083-3e7d-49cb-a1e8-40b119a514ba",
   "metadata": {},
   "outputs": [],
   "source": [
    "p3"
   ]
  },
  {
   "cell_type": "markdown",
   "id": "56edda86-d15a-40d7-bb35-e468c2f9729e",
   "metadata": {},
   "source": [
    "## Imutabilidade"
   ]
  },
  {
   "cell_type": "markdown",
   "id": "9ca6b698-1441-4795-844f-8c3cab8740b8",
   "metadata": {},
   "source": [
    "Os objetos gerados como nos exemplos acima são mutáveis, isto é, podemos acessar os campos e mudar seus valores quando quisermos. "
   ]
  },
  {
   "cell_type": "code",
   "execution_count": null,
   "id": "dc7f4fb0-a28b-4f06-af7a-5eeec97199d5",
   "metadata": {},
   "outputs": [],
   "source": [
    "p3.y = -10\n",
    "p3"
   ]
  },
  {
   "cell_type": "markdown",
   "id": "605f4787-0acd-411f-8168-35b71970a73b",
   "metadata": {},
   "source": [
    "Isso pode não ser uma boa ideia, pois pode levar a quebra de invariantes. No caso de pontos, isso não é importante, mas se quisermos que os pontos gerados sejam imutáveis (seus valores não poderão ser alterados depois de criados) podemos especificar isso pelo parâmetro `frozen` de `dataclass`:"
   ]
  },
  {
   "cell_type": "code",
   "execution_count": null,
   "id": "00eab0ec-3697-43fc-8ea6-62b484428d0c",
   "metadata": {},
   "outputs": [],
   "source": [
    "@dataclass(frozen=True)\n",
    "class Point:\n",
    "    x : float = 0\n",
    "    y : float = 0\n",
    "\n",
    "    def __repr__(self):\n",
    "        return f'({self.x}, {self.y})'\n",
    "\n",
    "    def move(self, δx, δy):\n",
    "        return Point(self.x + δx, self.y + δy)"
   ]
  },
  {
   "cell_type": "code",
   "execution_count": null,
   "id": "8a9cd8a6-4f32-407f-8de0-c502575448fd",
   "metadata": {},
   "outputs": [],
   "source": [
    "p4 = Point(5, 7)\n",
    "p4"
   ]
  },
  {
   "cell_type": "code",
   "execution_count": null,
   "id": "ce44574e-1c4f-483b-99a3-17b1e81c33a3",
   "metadata": {},
   "outputs": [],
   "source": [
    "p4.y = -10"
   ]
  },
  {
   "cell_type": "markdown",
   "id": "ee524abd-37b4-4ada-a70c-d3d94d363431",
   "metadata": {},
   "source": [
    "## Comparação de ordem"
   ]
  },
  {
   "cell_type": "markdown",
   "id": "995357dc-bf95-483a-8fb9-dbb53c91e072",
   "metadata": {},
   "source": [
    "Um outro parâmetro para `dataclass` é o `order`, que especifica que os métodos de comparação por ordem devem ser criados. Neste caso ele faz a comparação lexicograficamente usando a ordem em que os campos foram definidos:"
   ]
  },
  {
   "cell_type": "code",
   "execution_count": null,
   "id": "22f6a538-0876-4211-a490-c351bdedc668",
   "metadata": {},
   "outputs": [],
   "source": [
    "@dataclass\n",
    "class Name:\n",
    "    first : str\n",
    "    last : str"
   ]
  },
  {
   "cell_type": "code",
   "execution_count": null,
   "id": "242ae2e1-ee82-473d-b53d-a5e2ec528d10",
   "metadata": {},
   "outputs": [],
   "source": [
    "js = Name('José', 'Silva')\n",
    "ms = Name('Maria', 'Silva')\n",
    "jo = Name('José', 'Oliveira')\n",
    "print(js <= ms)\n",
    "print(js >= jo)"
   ]
  },
  {
   "cell_type": "code",
   "execution_count": null,
   "id": "aa7a0e3e-7122-4262-90df-bc02d57d0bce",
   "metadata": {},
   "outputs": [],
   "source": [
    "@dataclass(order=True)\n",
    "class Name:\n",
    "    first : str\n",
    "    last : str"
   ]
  },
  {
   "cell_type": "code",
   "execution_count": null,
   "id": "b6adf13e-22ea-44bd-902e-00b3b3edfde6",
   "metadata": {},
   "outputs": [],
   "source": [
    "js = Name('José', 'Silva')\n",
    "ms = Name('Maria', 'Silva')\n",
    "jo = Name('José', 'Oliveira')\n",
    "print(js <= ms)\n",
    "print(js > jo)"
   ]
  },
  {
   "cell_type": "markdown",
   "id": "ad742b92-a1eb-4b4b-90f6-3023c6cee5dc",
   "metadata": {},
   "source": [
    "## Outros parâmetros de `dataclass`"
   ]
  },
  {
   "cell_type": "markdown",
   "id": "d6a86b9c-a5f4-4978-b0fa-415d4b17dfdb",
   "metadata": {},
   "source": [
    "Entre outros parâmetros para `dataclass` podemos inibir a geração automatica. Por exemplo, se usamos\n",
    "`repr=False` não será criado automaticamente o método `__repr__`. Similarmente para `init=False` e `eq=False`."
   ]
  },
  {
   "cell_type": "code",
   "execution_count": null,
   "id": "9181aed6-914c-450c-841b-b4f45875939c",
   "metadata": {},
   "outputs": [],
   "source": [
    "@dataclass(eq=False)\n",
    "class NoComp:\n",
    "    a : int\n",
    "    b : int"
   ]
  },
  {
   "cell_type": "code",
   "execution_count": null,
   "id": "7166372e-803a-4b7e-870b-c49f2161934a",
   "metadata": {},
   "outputs": [],
   "source": [
    "x = NoComp(1, 2)\n",
    "y = NoComp(1, 2)\n",
    "print(x, y)\n",
    "x == y"
   ]
  },
  {
   "cell_type": "markdown",
   "id": "35872533-53b6-4442-9923-72293f3020e3",
   "metadata": {},
   "source": [
    "## Herança"
   ]
  },
  {
   "cell_type": "markdown",
   "id": "ad561048-36db-419f-8dc0-111bbb0340ab",
   "metadata": {},
   "source": [
    "Fora o fato de que existe geração automatica de métodos, uma `dataclass` é uma classe como qualquer outra. Portanto, podemos usá-las em herança:"
   ]
  },
  {
   "cell_type": "code",
   "execution_count": null,
   "id": "64313c49-2687-495b-a78e-dc00e218e4ae",
   "metadata": {},
   "outputs": [],
   "source": [
    "@dataclass(frozen=True)\n",
    "class PointMass(Point):\n",
    "    mass : float = 0"
   ]
  },
  {
   "cell_type": "code",
   "execution_count": null,
   "id": "360882a2-2add-4b67-a3f9-eb4a1be907f3",
   "metadata": {},
   "outputs": [],
   "source": [
    "mass1 = PointMass(3.4, 7.2, 0.5)\n",
    "print(mass1)"
   ]
  }
 ],
 "metadata": {
  "kernelspec": {
   "display_name": "Python 3 (ipykernel)",
   "language": "python",
   "name": "python3"
  },
  "language_info": {
   "codemirror_mode": {
    "name": "ipython",
    "version": 3
   },
   "file_extension": ".py",
   "mimetype": "text/x-python",
   "name": "python",
   "nbconvert_exporter": "python",
   "pygments_lexer": "ipython3",
   "version": "3.11.2"
  }
 },
 "nbformat": 4,
 "nbformat_minor": 5
}
