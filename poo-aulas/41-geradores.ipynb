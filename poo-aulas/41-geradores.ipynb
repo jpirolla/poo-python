{
 "cells": [
  {
   "cell_type": "markdown",
   "metadata": {},
   "source": [
    "# Objetos geradores"
   ]
  },
  {
   "cell_type": "markdown",
   "metadata": {},
   "source": [
    "## 1. Estrutura básica de um gerador"
   ]
  },
  {
   "cell_type": "markdown",
   "metadata": {},
   "source": [
    "Vimos anteriormente que Python usa _geradores_ em algumas situações, e vimos duas formas de definir geradores:\n",
    "\n",
    "- A expressão geradora, do tipo:\n",
    "  ```\n",
    "  (i ** 3 for i in range(100))\n",
    "  ```\n",
    "- A função geradora, do tipo:\n",
    "  ```\n",
    "  def pow3():\n",
    "      for i in range(100):\n",
    "          yield i ** 3\n",
    "  ```\n",
    "\n",
    "Outra possibilidade é definir os objetos da sua classe como geradores, isto é, objetos que permitem acesso de um valor por vez de um conjunto de valores.\n",
    "\n",
    "Isso é feito definindo os métodos `__iter__` e `__next__`. O método `__iter__` é chamado quando o objeto é usado em um contexto onde o Python espera um iterador (por exemplo, em um `for`). Em muitos casos, basta retornar o próprio objeto (mais sobre isso adiante). O método `__next__` é chamado quando o programa precisa do próximo valor. O objeto sinaliza que todos os valores já foram fornecidos fazendo um `raise` de `StopIteration()`.\n",
    "\n",
    "Objetos da classe abaixo geram valores consecutivos similaremente a `range(ini, fin)`:"
   ]
  },
  {
   "cell_type": "code",
   "execution_count": null,
   "metadata": {},
   "outputs": [],
   "source": [
    "class MyRange:\n",
    "    def __init__(self, ini, fin):\n",
    "        self._ini = ini\n",
    "        self._fin = fin\n",
    "        self._current = ini\n",
    "        \n",
    "    def __next__(self):\n",
    "        if self._current == self._fin:\n",
    "            raise StopIteration()\n",
    "        val = self._current\n",
    "        self._current += 1\n",
    "        return val\n",
    "        \n",
    "    def __iter__(self):\n",
    "        return self"
   ]
  },
  {
   "cell_type": "markdown",
   "metadata": {},
   "source": [
    "Note que os métodos não usam `yield`, e sim `return`. O fato de o objeto ser um gerador é determinado pela presença dos métodos mágicos `__iter__` e `__next__`."
   ]
  },
  {
   "cell_type": "code",
   "execution_count": null,
   "metadata": {},
   "outputs": [],
   "source": [
    "m = MyRange(0,10)\n",
    "for x in m:\n",
    "    print(x)"
   ]
  },
  {
   "cell_type": "markdown",
   "metadata": {},
   "source": [
    "Os métodos `__iter__` e `__next__` podem ser chamados diretamente usando as funções `iter` e `next`, respectivamente."
   ]
  },
  {
   "cell_type": "code",
   "execution_count": null,
   "metadata": {},
   "outputs": [],
   "source": [
    "m = MyRange(0,10)"
   ]
  },
  {
   "cell_type": "code",
   "execution_count": null,
   "metadata": {},
   "outputs": [],
   "source": [
    "mi = iter(m)"
   ]
  },
  {
   "cell_type": "markdown",
   "metadata": {},
   "source": [
    "Neste caso, a chamada acima é desnecessária, pois o `iter` irá retornar o próprio objeto `m`, mas a chamada é necessária no caso geral, como veremos adiante."
   ]
  },
  {
   "cell_type": "code",
   "execution_count": null,
   "metadata": {},
   "outputs": [],
   "source": [
    "next(mi)"
   ]
  },
  {
   "cell_type": "code",
   "execution_count": null,
   "metadata": {},
   "outputs": [],
   "source": [
    "next(mi)"
   ]
  },
  {
   "cell_type": "code",
   "execution_count": null,
   "metadata": {},
   "outputs": [],
   "source": [
    "next(mi)"
   ]
  },
  {
   "cell_type": "code",
   "execution_count": null,
   "metadata": {},
   "outputs": [],
   "source": [
    "next(mi)"
   ]
  },
  {
   "cell_type": "markdown",
   "metadata": {},
   "source": [
    "Note como o `next` opera sobre o objeto retornado pelo `iter`."
   ]
  },
  {
   "cell_type": "code",
   "execution_count": null,
   "metadata": {},
   "outputs": [],
   "source": [
    "for i in range(5):\n",
    "    next(mi)"
   ]
  },
  {
   "cell_type": "code",
   "execution_count": null,
   "metadata": {},
   "outputs": [],
   "source": [
    "next(mi)"
   ]
  },
  {
   "cell_type": "code",
   "execution_count": null,
   "metadata": {},
   "outputs": [],
   "source": [
    "next(mi)"
   ]
  },
  {
   "cell_type": "code",
   "execution_count": null,
   "metadata": {},
   "outputs": [],
   "source": [
    "[2 * x - 3 for x in MyRange(10, 15)]"
   ]
  },
  {
   "cell_type": "markdown",
   "metadata": {},
   "source": [
    "## 2. Geradores para outros objetos"
   ]
  },
  {
   "cell_type": "markdown",
   "metadata": {},
   "source": [
    "Conforme definido, um iterador, após exaurido, não pode mais ser lido. Quer dizer, temos acesso aos valores do iterador apenas uma vez."
   ]
  },
  {
   "cell_type": "code",
   "execution_count": null,
   "metadata": {},
   "outputs": [],
   "source": [
    "m = MyRange(0, 10)"
   ]
  },
  {
   "cell_type": "code",
   "execution_count": null,
   "metadata": {},
   "outputs": [],
   "source": [
    "for x in m:\n",
    "    print(x)"
   ]
  },
  {
   "cell_type": "code",
   "execution_count": null,
   "metadata": {},
   "outputs": [],
   "source": [
    "next(m)"
   ]
  },
  {
   "cell_type": "markdown",
   "metadata": {},
   "source": [
    "Como `m` já foi exaurido, um for por ele termina imediatamente."
   ]
  },
  {
   "cell_type": "code",
   "execution_count": null,
   "metadata": {},
   "outputs": [],
   "source": [
    "for y in m:\n",
    "    print(y)"
   ]
  },
  {
   "cell_type": "markdown",
   "metadata": {},
   "source": [
    "Um resultado disso é que não podemos usar o gerador em mais do que um lugar ao mesmo tempo. Por exemplo, o *loop* duplo abaixo não funciona como esperado a primeira vista:"
   ]
  },
  {
   "cell_type": "code",
   "execution_count": null,
   "metadata": {},
   "outputs": [],
   "source": [
    "m = MyRange(1, 5)\n",
    "for x in m:\n",
    "    for y in m:\n",
    "        print((x, y), end=' ')"
   ]
  },
  {
   "cell_type": "markdown",
   "metadata": {},
   "source": [
    "Se quisermos usar os valores mais do que uma vez, uma opção é usar os valores para criar uma lista, que pode então ser percorrida múltiplas vezes."
   ]
  },
  {
   "cell_type": "code",
   "execution_count": null,
   "metadata": {},
   "outputs": [],
   "source": [
    "m = list(MyRange(1, 5))\n",
    "for x in m:\n",
    "    for y in m:\n",
    "        print((x, y),end=' ')"
   ]
  },
  {
   "cell_type": "markdown",
   "metadata": {},
   "source": [
    "Mas isto pode representar um desperdício de memória para listas grandes de valores. Uma outra opção é mudar a definição da classe, de forma que ao se chamar o método `__iter__` seja retornado um objeto de outra classe, que é o responsável por acompanhar os valores atuais e implementar `__next__`. Vamos refazer nosso `MyRange` dessa forma:"
   ]
  },
  {
   "cell_type": "code",
   "execution_count": null,
   "metadata": {},
   "outputs": [],
   "source": [
    "# Esta classe controla quais valores já foram varridos.\n",
    "class MyRangeIterator:\n",
    "    def __init__(self, rg):\n",
    "        self._range = rg\n",
    "        self._current = rg._ini\n",
    "        \n",
    "    def __next__(self):\n",
    "        if self._current == self._range._fin:\n",
    "            raise StopIteration()\n",
    "        val = self._current\n",
    "        self._current += 1\n",
    "        return val\n",
    "\n",
    "# Esta classe controla os valores que pertencem à faixa desejada\n",
    "class MyRange:\n",
    "    def __init__(self, ini, fin):\n",
    "        self._ini = ini\n",
    "        self._fin = fin\n",
    "        \n",
    "    def __iter__(self):\n",
    "        return MyRangeIterator(self)"
   ]
  },
  {
   "cell_type": "markdown",
   "metadata": {},
   "source": [
    "Note como o método `__iter__` é implementado na classe da qual queremos percorrer os valores, e apenas retorna um objeto de um tipo auxiliar que é usado para percorrer os valores.  Na classe auxiliar, implementamos o método `__next__`.\n",
    "\n",
    "Assim, neste caso, quando chamamos `iter(x)`, onde `x` é do tipo `MyRange`, ele irá retornar um objeto `MyRangeIterator`, que irá percorrer a faixa de valores do começo. Já a função `next` será chamada sobre esse objeto do tipo auxiliar para pegar cada valor por vez."
   ]
  },
  {
   "cell_type": "code",
   "execution_count": null,
   "metadata": {},
   "outputs": [],
   "source": [
    "m = MyRange(1, 5)"
   ]
  },
  {
   "cell_type": "code",
   "execution_count": null,
   "metadata": {},
   "outputs": [],
   "source": [
    "mi = iter(m)"
   ]
  },
  {
   "cell_type": "code",
   "execution_count": null,
   "metadata": {},
   "outputs": [],
   "source": [
    "type(m), type(mi)"
   ]
  },
  {
   "cell_type": "code",
   "execution_count": null,
   "metadata": {},
   "outputs": [],
   "source": [
    "next(mi)"
   ]
  },
  {
   "cell_type": "code",
   "execution_count": null,
   "metadata": {},
   "outputs": [],
   "source": [
    "next(mi)"
   ]
  },
  {
   "cell_type": "code",
   "execution_count": null,
   "metadata": {},
   "outputs": [],
   "source": [
    "next(mi), next(mi)"
   ]
  },
  {
   "cell_type": "code",
   "execution_count": null,
   "metadata": {},
   "outputs": [],
   "source": [
    "next(mi)"
   ]
  },
  {
   "cell_type": "markdown",
   "metadata": {},
   "source": [
    "Como explicado antes, ao usarmos um objeto em um lugar que o Python espera um gerador (como num `for`), sera executado `iter` sobre esse objeto, para pegar seu iterador:"
   ]
  },
  {
   "cell_type": "code",
   "execution_count": null,
   "metadata": {},
   "outputs": [],
   "source": [
    "for x in m:\n",
    "    print(x, end=' ')"
   ]
  },
  {
   "cell_type": "code",
   "execution_count": null,
   "metadata": {},
   "outputs": [],
   "source": [
    "for x in m:\n",
    "    print(x**2)"
   ]
  },
  {
   "cell_type": "markdown",
   "metadata": {},
   "source": [
    "Agora esse gerador pode ser varrido várias vezes, cada varredura sendo independente, pois em cada um dos `for` será executada uma chamada para `__iter__`."
   ]
  },
  {
   "cell_type": "code",
   "execution_count": null,
   "metadata": {},
   "outputs": [],
   "source": [
    "for x in m:\n",
    "    for y in m:\n",
    "        print((x,y), end=' ')"
   ]
  },
  {
   "cell_type": "markdown",
   "metadata": {},
   "source": [
    "## 3. Funções geradoras para o método `__iter__`"
   ]
  },
  {
   "cell_type": "markdown",
   "metadata": {},
   "source": [
    "Uma forma mais fácil de possibilitar múltiplas varreduras do gerador, útil em diversas situações, e que não necessita de definição de classes auxiliares é simplesmente retornar uma função geradora no método `__iter__`. Como funções geradoras implementam o método `__next__`, o código abaixo funciona:"
   ]
  },
  {
   "cell_type": "code",
   "execution_count": null,
   "metadata": {},
   "outputs": [],
   "source": [
    "class MyRange:\n",
    "    def __init__(self, ini, fin):\n",
    "        self._ini = ini\n",
    "        self._fin = fin\n",
    "        \n",
    "    def __iter__(self):\n",
    "        for i in range(self._ini, self._fin):\n",
    "            yield i"
   ]
  },
  {
   "cell_type": "markdown",
   "metadata": {},
   "source": [
    "Note que nesse caso, quando `__iter__` for chamado (por exemplo, ao começar um `for`), ele irá retornar um objeto gerador, sobre o qual será executada `__next__` para cada iteração, resultando nos resultados retornados por `yield`."
   ]
  },
  {
   "cell_type": "code",
   "execution_count": null,
   "metadata": {},
   "outputs": [],
   "source": [
    "m = MyRange(1, 5)"
   ]
  },
  {
   "cell_type": "code",
   "execution_count": null,
   "metadata": {},
   "outputs": [],
   "source": [
    "type(m)"
   ]
  },
  {
   "cell_type": "code",
   "execution_count": null,
   "metadata": {},
   "outputs": [],
   "source": [
    "mi = iter(m)\n",
    "type(mi)"
   ]
  },
  {
   "cell_type": "markdown",
   "metadata": {},
   "source": [
    "Cada nova chamada de `__iter__` para uma mesma `MyRange` resulta no retorno de um novo objeto gerador, com os valores inicial e final fixados, e independentes de outras funções retornadas pela mesma chamada."
   ]
  },
  {
   "cell_type": "code",
   "execution_count": null,
   "metadata": {},
   "outputs": [],
   "source": [
    "for x in m:\n",
    "    for y in m:\n",
    "        print((x,y), end=' ')"
   ]
  },
  {
   "cell_type": "markdown",
   "metadata": {},
   "source": [
    "## 4. Geradores no operador `in`"
   ]
  },
  {
   "cell_type": "markdown",
   "metadata": {},
   "source": [
    "Uma outra situação onde os métodos `__iter__` e `__next__` da classe são usados é quando o objeto é usado à direita do operador `in`. Nesse caso, o Python chama `__iter__`, pega o objeto retornado e sobre ele vai chamando `__next__` e comparando com o valor à esquerda do `in`. Se algum valor retornado pelos `__next__` for igual, ele resulta em `True`; se a iteração terminar sem um valor igual, ele resulta em `False`."
   ]
  },
  {
   "cell_type": "code",
   "execution_count": null,
   "metadata": {},
   "outputs": [],
   "source": [
    "3 in m"
   ]
  },
  {
   "cell_type": "code",
   "execution_count": null,
   "metadata": {},
   "outputs": [],
   "source": [
    "7 in m"
   ]
  },
  {
   "cell_type": "markdown",
   "metadata": {},
   "source": [
    "Isso é uma funcionalidade interessante, mas para certos geradores implica numa quantidade muito grande de operações (comparar muitos valores). No nosso iterador, por exemplo, podemos saber se o valor está incluido na faixa apenas comparando com o menor e maior valores da faixa.\n",
    "\n",
    "Se quisermos usar uma forma mais eficaz de implementar o operador `in`, podemos definir o método `__contains__` na classe."
   ]
  },
  {
   "cell_type": "code",
   "execution_count": null,
   "metadata": {},
   "outputs": [],
   "source": [
    "class MyRange:\n",
    "    def __init__(self, ini, fin):\n",
    "        self._ini = ini\n",
    "        self._fin = fin\n",
    "        \n",
    "    def __iter__(self):\n",
    "        for i in range(self._ini, self._fin):\n",
    "            yield i\n",
    "            \n",
    "    def __contains__(self, val):\n",
    "        return self._ini <= val < self._fin"
   ]
  },
  {
   "cell_type": "code",
   "execution_count": null,
   "metadata": {},
   "outputs": [],
   "source": [
    "m = MyRange(1,5)"
   ]
  },
  {
   "cell_type": "code",
   "execution_count": null,
   "metadata": {},
   "outputs": [],
   "source": [
    "3 in m"
   ]
  },
  {
   "cell_type": "code",
   "execution_count": null,
   "metadata": {},
   "outputs": [],
   "source": [
    "11 in m"
   ]
  },
  {
   "cell_type": "code",
   "execution_count": null,
   "metadata": {},
   "outputs": [],
   "source": [
    "large = MyRange(0, 100000)"
   ]
  },
  {
   "cell_type": "code",
   "execution_count": null,
   "metadata": {},
   "outputs": [],
   "source": [
    "%timeit 1000000 in large"
   ]
  },
  {
   "cell_type": "code",
   "execution_count": null,
   "metadata": {},
   "outputs": [],
   "source": [
    "%timeit 1000000 in large"
   ]
  },
  {
   "cell_type": "markdown",
   "metadata": {},
   "source": [
    "# Exercício"
   ]
  },
  {
   "cell_type": "markdown",
   "metadata": {},
   "source": [
    "Qual a saída produzida pelo código abaixo:\n",
    "```python\n",
    "class Pot10:\n",
    "    def __init__(self, n):\n",
    "        self._n = n\n",
    "        self._next = 1\n",
    "        self._i = 0\n",
    "\n",
    "    def __iter__(self):\n",
    "        return self\n",
    "\n",
    "    def __next__(self):\n",
    "        if self._i == self._n:\n",
    "            raise StopIteration()\n",
    "        current = self._next\n",
    "        self._next *= 10\n",
    "        self._i += 1\n",
    "        return current\n",
    "    \n",
    "tens = Pot10(10)\n",
    "print('First half:')\n",
    "for _, pt in zip(range(5), tens):\n",
    "    print(pt)\n",
    "print('Second half:')\n",
    "for pt in tens:\n",
    "    print(pt)\n",
    "```"
   ]
  }
 ],
 "metadata": {
  "kernelspec": {
   "display_name": "Python 3 (ipykernel)",
   "language": "python",
   "name": "python3"
  },
  "language_info": {
   "codemirror_mode": {
    "name": "ipython",
    "version": 3
   },
   "file_extension": ".py",
   "mimetype": "text/x-python",
   "name": "python",
   "nbconvert_exporter": "python",
   "pygments_lexer": "ipython3",
   "version": "3.11.2"
  }
 },
 "nbformat": 4,
 "nbformat_minor": 4
}
