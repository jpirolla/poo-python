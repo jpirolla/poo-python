{
 "cells": [
  {
   "cell_type": "markdown",
   "metadata": {},
   "source": [
    "# Módulos funcionais"
   ]
  },
  {
   "cell_type": "markdown",
   "metadata": {},
   "source": [
    "Os módulos `itertools` e `functools` provêm algumas funções para auxiliar no uso de programação funcional em Python, em adição a funções da linguagem como `map` e `filter`."
   ]
  },
  {
   "cell_type": "markdown",
   "metadata": {},
   "source": [
    "## 1. `itertools`"
   ]
  },
  {
   "cell_type": "markdown",
   "metadata": {},
   "source": [
    "As funções de `itertools` criam iteradores (geradores), que podemos percorrer para acessar os elementos. (Nos códigos abaixo, lembre-se que `next` retorna o próximo valor do gerador ou então gera uma exceção do tipo `StopIteration` se não há mais elementos.)"
   ]
  },
  {
   "cell_type": "code",
   "execution_count": null,
   "metadata": {},
   "outputs": [],
   "source": [
    "import itertools"
   ]
  },
  {
   "cell_type": "markdown",
   "metadata": {},
   "source": [
    "### 1.1. `count`"
   ]
  },
  {
   "cell_type": "markdown",
   "metadata": {},
   "source": [
    "A função `count(start, step)` gera valores começando em `start` e incrementado de `step`. Se `step` não for fornecido, incrementa de 1. Os números nunca acabam."
   ]
  },
  {
   "cell_type": "code",
   "execution_count": null,
   "metadata": {},
   "outputs": [],
   "source": [
    "count_1 = itertools.count(10)\n",
    "count_2 = itertools.count(12, 2)"
   ]
  },
  {
   "cell_type": "code",
   "execution_count": null,
   "metadata": {},
   "outputs": [],
   "source": [
    "for i in range(5):\n",
    "    print(next(count_1), next(count_2), sep=' ', end='; ')"
   ]
  },
  {
   "cell_type": "markdown",
   "metadata": {},
   "source": [
    "### 1.2. `cycle`"
   ]
  },
  {
   "cell_type": "markdown",
   "metadata": {},
   "source": [
    "A função `cycle` percorre ciclicamente (quando chega no final, recomeça) os elemento de um gerador fornecido. O ciclo sempre continua."
   ]
  },
  {
   "cell_type": "code",
   "execution_count": null,
   "metadata": {},
   "outputs": [],
   "source": [
    "around = itertools.cycle(['Hip', 'hip', 'hurra!'])"
   ]
  },
  {
   "cell_type": "code",
   "execution_count": null,
   "metadata": {
    "scrolled": true
   },
   "outputs": [],
   "source": [
    "for i in range(9):\n",
    "    print(next(around), end=' ')"
   ]
  },
  {
   "cell_type": "code",
   "execution_count": null,
   "metadata": {},
   "outputs": [],
   "source": [
    "for i, s in zip(range(9), around):\n",
    "    print(s, end=' ')"
   ]
  },
  {
   "cell_type": "markdown",
   "metadata": {},
   "source": [
    "### 1.3. `repeat`"
   ]
  },
  {
   "cell_type": "markdown",
   "metadata": {},
   "source": [
    "A função `repeat(obj, n)` retorna `n` cópias do objeto `obj`. Se `n` não for fornecido, retorna infinitas cópias."
   ]
  },
  {
   "cell_type": "code",
   "execution_count": null,
   "metadata": {},
   "outputs": [],
   "source": [
    "in_love = itertools.repeat('<3', 20)"
   ]
  },
  {
   "cell_type": "code",
   "execution_count": null,
   "metadata": {},
   "outputs": [],
   "source": [
    "for c in in_love:\n",
    "    print(c, end=' ')"
   ]
  },
  {
   "cell_type": "markdown",
   "metadata": {},
   "source": [
    "### 1.4. `accumulate`"
   ]
  },
  {
   "cell_type": "markdown",
   "metadata": {},
   "source": [
    "A função `accumulate` gera os valores acumulados desde o primeiro valor dos fornecidos até o atual, juntando o resultado anterior com o valor atual. Se fornecemos apenas um argumento, a função usada para acumulação é a soma.\n",
    "\n",
    "Por exemplo, no código abaixo `accumulate` recebe um gerador do *range* de 0 a 9 e retorna os número 0, 0+1, 0+1+2, 0+1+2+3, etc. até 0+1+2+3+4+5+6+7+8+9."
   ]
  },
  {
   "cell_type": "code",
   "execution_count": null,
   "metadata": {},
   "outputs": [],
   "source": [
    "list(itertools.accumulate(range(10)))"
   ]
  },
  {
   "cell_type": "markdown",
   "metadata": {},
   "source": [
    "Podemos mudar a função usada para acumulação, bastanto fornecer como segundo argumento uma função de dois valores.\n",
    "\n",
    "Por exemplo, abaixo acumulamos os valores da forma `1`, `1*2`, `1*2*3`, etc."
   ]
  },
  {
   "cell_type": "code",
   "execution_count": null,
   "metadata": {},
   "outputs": [],
   "source": [
    "list(itertools.accumulate(range(1,11),lambda x, y: x * y))"
   ]
  },
  {
   "cell_type": "markdown",
   "metadata": {},
   "source": [
    "E abaixo geramos uma lista com os menores valores encontrados até cada ponto na lista original."
   ]
  },
  {
   "cell_type": "code",
   "execution_count": null,
   "metadata": {},
   "outputs": [],
   "source": [
    "original = [7, 4, 5, 3, 8, 9, 1, 6, 0]\n",
    "list(itertools.accumulate(original, lambda x, y: x if x <= y else y))"
   ]
  },
  {
   "cell_type": "markdown",
   "metadata": {},
   "source": [
    "### 1.5. `chain`"
   ]
  },
  {
   "cell_type": "markdown",
   "metadata": {},
   "source": [
    "A função `chain` permite concatenar sequencialmente todos os elementos de diversas sequências fornecidas. (Lembre-se que uma cadeia de caracteres é simplesmente uma lista imutável de caracteres."
   ]
  },
  {
   "cell_type": "code",
   "execution_count": null,
   "metadata": {
    "scrolled": true
   },
   "outputs": [],
   "source": [
    "list(itertools.chain(range(3), 'Hello!', [2.3, 7.5]))"
   ]
  },
  {
   "cell_type": "markdown",
   "metadata": {},
   "source": [
    "Uma variante é o método `from_iterable` de `chain`, que recebe uma lista de objetos iteráveis."
   ]
  },
  {
   "cell_type": "code",
   "execution_count": null,
   "metadata": {},
   "outputs": [],
   "source": [
    "m = [[1,2], (3,4,5), [[6, 7]]]"
   ]
  },
  {
   "cell_type": "code",
   "execution_count": null,
   "metadata": {},
   "outputs": [],
   "source": [
    "list(itertools.chain.from_iterable(m))"
   ]
  },
  {
   "cell_type": "markdown",
   "metadata": {},
   "source": [
    "Note que acima o último elemento de `m` é uma lista que tem apenas um elemento, que por sua vez é uma lista de dois elementos. Porisso a lista de dois elementos aparece como um elemento na lista encadeada resultante."
   ]
  },
  {
   "cell_type": "markdown",
   "metadata": {},
   "source": [
    "### 1.6. `compress`"
   ]
  },
  {
   "cell_type": "markdown",
   "metadata": {},
   "source": [
    "A função `compress(seq, sel)` permite selecionar apenas alguns dos elementos de `seq`, de acordo com se os correspondentes elementos de `sel` convertem para `True` (são incluídos) ou `False` (são excluídos)."
   ]
  },
  {
   "cell_type": "code",
   "execution_count": null,
   "metadata": {},
   "outputs": [],
   "source": [
    "values = [4, 7, 9, 3, 2, 1]\n",
    "sel = [1, 0, None, 2, '', 1.5]\n",
    "list(itertools.compress(values, sel))"
   ]
  },
  {
   "cell_type": "markdown",
   "metadata": {},
   "source": [
    "Isto é, faz o mesmo que:"
   ]
  },
  {
   "cell_type": "code",
   "execution_count": null,
   "metadata": {},
   "outputs": [],
   "source": [
    "[x for i, x in enumerate(values) if sel[i]]"
   ]
  },
  {
   "cell_type": "markdown",
   "metadata": {},
   "source": [
    "### 1.7. `dropwhile`"
   ]
  },
  {
   "cell_type": "markdown",
   "metadata": {},
   "source": [
    "`dropwhile(fun, seq)` descarta os elementos de `seq` enquanto o resultado da aplicação da função `fun` a esses elementos for verdadeiro. Quando acha um elemento para o qual `fun` retorna falso, inclui esse elemento e todos os que o seguem (mesmo que eles fossem retornar verdadeiro)."
   ]
  },
  {
   "cell_type": "code",
   "execution_count": null,
   "metadata": {},
   "outputs": [],
   "source": [
    "list(itertools.dropwhile(lambda x: x < 9, values))"
   ]
  },
  {
   "cell_type": "markdown",
   "metadata": {},
   "source": [
    "### 1.8. `filterfalse`"
   ]
  },
  {
   "cell_type": "markdown",
   "metadata": {},
   "source": [
    "O módulo `itertools` também fornece um complemento da função `filter`. Enquanto `filter(fun, seq)` gera uma sequência apenas com os elementos de `seq` para os quais `fun` retorna `True`, `itertools.filterfalse(fun, seq)` gera uam sequência com os elementos para os quais `fun` retorna `False`."
   ]
  },
  {
   "cell_type": "code",
   "execution_count": null,
   "metadata": {},
   "outputs": [],
   "source": [
    "values"
   ]
  },
  {
   "cell_type": "code",
   "execution_count": null,
   "metadata": {},
   "outputs": [],
   "source": [
    "list(filter(lambda x: x <= 3, values))"
   ]
  },
  {
   "cell_type": "code",
   "execution_count": null,
   "metadata": {},
   "outputs": [],
   "source": [
    "list(itertools.filterfalse(lambda x: x <= 3, values))"
   ]
  },
  {
   "cell_type": "markdown",
   "metadata": {},
   "source": [
    "### 1.9. `islice`"
   ]
  },
  {
   "cell_type": "markdown",
   "metadata": {},
   "source": [
    "A função `islice(seq, start, stop, step)` retorna apenas os elementos de uma sequência fornecida de `start` a `stop` (excluindo `stop`), pulando de `step` em `step`. `start` e `step` podem ser omitidos: `start` é assumido como o começo e `step` como 1. `stop` deve ser fornecido. Se queremos que se peguem até o final da sequência original, usamos `None` para `stop`."
   ]
  },
  {
   "cell_type": "code",
   "execution_count": null,
   "metadata": {},
   "outputs": [],
   "source": [
    "list(itertools.islice(values, 1, 4))"
   ]
  },
  {
   "cell_type": "code",
   "execution_count": null,
   "metadata": {},
   "outputs": [],
   "source": [
    "list(itertools.islice(values, 4))"
   ]
  },
  {
   "cell_type": "code",
   "execution_count": null,
   "metadata": {},
   "outputs": [],
   "source": [
    "list(itertools.islice(values, 4, None))"
   ]
  },
  {
   "cell_type": "markdown",
   "metadata": {},
   "source": [
    "`islice` é útil em conjunto com geradores de sequências infinitas, como `count`, `cycle` e `repeat`."
   ]
  },
  {
   "cell_type": "code",
   "execution_count": null,
   "metadata": {},
   "outputs": [],
   "source": [
    "''.join(itertools.islice(itertools.repeat('='), 20))"
   ]
  },
  {
   "cell_type": "code",
   "execution_count": null,
   "metadata": {},
   "outputs": [],
   "source": [
    "list(itertools.islice(itertools.cycle('abc'), 10))"
   ]
  },
  {
   "cell_type": "code",
   "execution_count": null,
   "metadata": {},
   "outputs": [],
   "source": [
    "list(itertools.islice(itertools.count(0, 5), 10))"
   ]
  },
  {
   "cell_type": "markdown",
   "metadata": {},
   "source": [
    "### 1.10. `starmap`"
   ]
  },
  {
   "cell_type": "markdown",
   "metadata": {},
   "source": [
    "A função `starmap` é similar a `map`, mas é aplicada a sequências de *tuplas*, e usa os elementos das tuplas como parâmetros para a função fornecida.\n",
    "\n",
    "No exemplo abaixo, as tuplas da lista `some_pairs` são usadas como parâmetros da função `hypot` passada ao `starmap`, resultando em $\\sqrt{2^2 + 4^2}, \\sqrt{1^2 + 1^2}$, etc."
   ]
  },
  {
   "cell_type": "code",
   "execution_count": null,
   "metadata": {},
   "outputs": [],
   "source": [
    "some_pairs = [(2,4), (1,1), (-1,5), (7,3)]"
   ]
  },
  {
   "cell_type": "code",
   "execution_count": null,
   "metadata": {},
   "outputs": [],
   "source": [
    "from math import hypot\n",
    "list(itertools.starmap(hypot, some_pairs))"
   ]
  },
  {
   "cell_type": "markdown",
   "metadata": {},
   "source": [
    "### 1.11. `takewhile`"
   ]
  },
  {
   "cell_type": "markdown",
   "metadata": {},
   "source": [
    "A função `takewhile(fun, seq)` pega elementos da sequência `seq` enquanto a aplicação de `fun` a eles retornar `True`, parando assim que encontra um para o qual a função retorna `False` (mesmo que existam outros posteriores para o qual ela retornaria `True`). É de certa forma um complemento de `dropwhile`."
   ]
  },
  {
   "cell_type": "code",
   "execution_count": null,
   "metadata": {},
   "outputs": [],
   "source": [
    "values"
   ]
  },
  {
   "cell_type": "code",
   "execution_count": null,
   "metadata": {
    "tags": []
   },
   "outputs": [],
   "source": [
    "list(itertools.takewhile(lambda x: x < 9, values))"
   ]
  },
  {
   "cell_type": "markdown",
   "metadata": {},
   "source": [
    "Veja se você entende o seguinte exemplo interessante que calcula o maior prefixo (isto é, início) comum de um conjunto de cadeias de caracteres:"
   ]
  },
  {
   "cell_type": "code",
   "execution_count": null,
   "metadata": {},
   "outputs": [],
   "source": [
    "def longest_common_prefix(strings):\n",
    "    pref_gen = (chars[0] for chars in \n",
    "                itertools.takewhile(lambda x: len(set(x)) == 1, \n",
    "                                    zip(*strings)))\n",
    "    return ''.join(pref_gen)\n",
    "\n",
    "strings = ['paralelo', 'parapeito', 'paralelepípedo', 'parada']\n",
    "print(longest_common_prefix(strings))"
   ]
  },
  {
   "cell_type": "markdown",
   "metadata": {},
   "source": [
    "### 1.12. `tee` "
   ]
  },
  {
   "cell_type": "markdown",
   "metadata": {},
   "source": [
    "A função `tee(seq, n)` replica a sequência `seq` `n`vezes."
   ]
  },
  {
   "cell_type": "code",
   "execution_count": null,
   "metadata": {},
   "outputs": [],
   "source": [
    "it1, it2, it3 = itertools.tee(range(5), 3)"
   ]
  },
  {
   "cell_type": "code",
   "execution_count": null,
   "metadata": {},
   "outputs": [],
   "source": [
    "print(list(it1))\n",
    "print(list(it2))\n",
    "print(list(it3))\n",
    "print(list(it1))"
   ]
  },
  {
   "cell_type": "markdown",
   "metadata": {},
   "source": [
    "Note como a última lista é vazia, pois o iterador `it1` já havia sido esvaziado ao criar a primeira lista. Mas esse esvaziamento não afetou `it2` ou `it3`."
   ]
  },
  {
   "cell_type": "markdown",
   "metadata": {},
   "source": [
    "### 1.13. `zip_longest`"
   ]
  },
  {
   "cell_type": "markdown",
   "metadata": {},
   "source": [
    "Se você se lembra, a função `zip` permite gerar tuplas com os valores de múltiplas sequências. As tuplas param de ser geradas assim que a sequência mais curta termina."
   ]
  },
  {
   "cell_type": "code",
   "execution_count": null,
   "metadata": {},
   "outputs": [],
   "source": [
    "list(zip([1,2,3], [4, 5]))"
   ]
  },
  {
   "cell_type": "markdown",
   "metadata": {},
   "source": [
    "Se quisermos continuar gerando tuplas até a maior sequência acabar, podemos usar `itertools.zip_longest`, que preenche os valores inexistentes com `None`."
   ]
  },
  {
   "cell_type": "code",
   "execution_count": null,
   "metadata": {},
   "outputs": [],
   "source": [
    "list(itertools.zip_longest([1, 2, 3], [4, 5]))"
   ]
  },
  {
   "cell_type": "markdown",
   "metadata": {},
   "source": [
    "Também podemos especificar um valor especial para os elementos inexistentes através do parâmetro `fillvalue`."
   ]
  },
  {
   "cell_type": "code",
   "execution_count": null,
   "metadata": {},
   "outputs": [],
   "source": [
    "list(itertools.zip_longest([1, 2, 3], [4, 5], fillvalue=0))"
   ]
  },
  {
   "cell_type": "markdown",
   "metadata": {},
   "source": [
    "### 1.14. `groupby`"
   ]
  },
  {
   "cell_type": "markdown",
   "metadata": {},
   "source": [
    "A função `groupby(seq, fun)` permite agrupar elementos consecutivos de `seq` de acordo com o valor retornado por `fun`. O uso é como no exemplo abaixo, que agrupa em múltiplos ou não de 2 ou 3 os números menores que 30."
   ]
  },
  {
   "cell_type": "code",
   "execution_count": null,
   "metadata": {
    "scrolled": true
   },
   "outputs": [],
   "source": [
    "for multiple, group in itertools.groupby(range(30), lambda x: x % 2 == 0 or x % 3 == 0):\n",
    "    if multiple:\n",
    "        print('Multiples of 2 or 3: [ ', end='')\n",
    "    else:\n",
    "        print('Non multiples 2 and 3: [ ', end='')\n",
    "    for val in group:\n",
    "        print(val, end=' ')\n",
    "    print(']')"
   ]
  },
  {
   "cell_type": "markdown",
   "metadata": {},
   "source": [
    "Note que o agrupamento é feito \"por pedaços\", quer dizer, ele separa em pedaços de elementos consecutivos de um mesmo grupo. Se quisermos \"juntar\" todos os resultados que pertencem ao mesmo grupo, precisamos fazer isso manualmente:"
   ]
  },
  {
   "cell_type": "code",
   "execution_count": null,
   "metadata": {
    "scrolled": true
   },
   "outputs": [],
   "source": [
    "group_yes = []\n",
    "group_no = []\n",
    "for multiple, group in itertools.groupby(range(30), lambda x: x % 2 == 0 or x % 3 == 0):\n",
    "    if multiple:\n",
    "        group_yes += list(group)\n",
    "    else:\n",
    "        group_no += list(group)\n",
    "print('Multiples of 2 or 3: [ ', group_yes, ']')\n",
    "print('Non multiples 2 and 3: [ ', group_no, ']')"
   ]
  },
  {
   "cell_type": "markdown",
   "metadata": {},
   "source": [
    "A função não precisa retornar necessariamente `True` ou `False`. O valor retornado é usado para fazer o agrupamento:"
   ]
  },
  {
   "cell_type": "code",
   "execution_count": null,
   "metadata": {},
   "outputs": [],
   "source": [
    "mod_list = [[], [], []]\n",
    "for remainder, group in itertools.groupby(range(30), lambda x: x % 3):\n",
    "    mod_list[remainder] += list(group)\n",
    "for i, l in enumerate(mod_list):\n",
    "    print(f'Numbers with x % 3 == {i}: {l}')"
   ]
  },
  {
   "cell_type": "markdown",
   "metadata": {},
   "source": [
    "### 1.15. `product`"
   ]
  },
  {
   "cell_type": "markdown",
   "metadata": {},
   "source": [
    "A função `product(seq1, seq2, ...)` retorna uma sequência que é o produto cartesiano das sequências fornecidas."
   ]
  },
  {
   "cell_type": "code",
   "execution_count": null,
   "metadata": {},
   "outputs": [],
   "source": [
    "list(itertools.product([1,2,3],'abc'))"
   ]
  },
  {
   "cell_type": "code",
   "execution_count": null,
   "metadata": {},
   "outputs": [],
   "source": [
    "list(itertools.product([1, 2], (10., 20.), 'xyz'))"
   ]
  },
  {
   "cell_type": "markdown",
   "metadata": {},
   "source": [
    "O parâmetro adicional `repeat` permite especificar o número de repetições de cada uma das sequências fornecidas. Útil especialmente para uma sequência, gerando o produto cartesiano dela com ela mesma."
   ]
  },
  {
   "cell_type": "code",
   "execution_count": null,
   "metadata": {},
   "outputs": [],
   "source": [
    "list(itertools.product([1,2,3],repeat=2))"
   ]
  },
  {
   "cell_type": "code",
   "execution_count": null,
   "metadata": {},
   "outputs": [],
   "source": [
    "list(itertools.product([1, 2], [10, 20], repeat=2))"
   ]
  },
  {
   "cell_type": "markdown",
   "metadata": {},
   "source": [
    "### 1.16. `permutations`"
   ]
  },
  {
   "cell_type": "markdown",
   "metadata": {},
   "source": [
    "A função `permutations(seq, n)` permite gerar todas as permutações de objetos da sequência. Se `n` não é fornecido, as  permutações geradas têm todos os objetos de `seq`; se fornecemos `n`, elas têm `n` objetos cada."
   ]
  },
  {
   "cell_type": "code",
   "execution_count": null,
   "metadata": {},
   "outputs": [],
   "source": [
    "list(itertools.permutations('ABC'))"
   ]
  },
  {
   "cell_type": "code",
   "execution_count": null,
   "metadata": {},
   "outputs": [],
   "source": [
    "list(itertools.permutations('ABC', 2))"
   ]
  },
  {
   "cell_type": "markdown",
   "metadata": {},
   "source": [
    "### 1.17. `combinations`"
   ]
  },
  {
   "cell_type": "markdown",
   "metadata": {},
   "source": [
    "Já a função `combinations(seq, n)` gera todas as combinações de objetos de `seq` `n` a `n`."
   ]
  },
  {
   "cell_type": "code",
   "execution_count": null,
   "metadata": {},
   "outputs": [],
   "source": [
    "list(itertools.combinations([1, 2, 3],2))"
   ]
  },
  {
   "cell_type": "code",
   "execution_count": null,
   "metadata": {},
   "outputs": [],
   "source": [
    "list(itertools.combinations('ABCD',3))"
   ]
  },
  {
   "cell_type": "markdown",
   "metadata": {},
   "source": [
    "As combinações geradas são *sem reposição*, quer dizer, cada elemento aparece no máximo uma vez em cada combinação.\n",
    "\n",
    "Se queremos permitir repetição, usamos `combinations_with_replacement`."
   ]
  },
  {
   "cell_type": "code",
   "execution_count": null,
   "metadata": {},
   "outputs": [],
   "source": [
    "list(itertools.combinations_with_replacement('ABC',2))"
   ]
  },
  {
   "cell_type": "markdown",
   "metadata": {},
   "source": [
    "## 2. `functools`"
   ]
  },
  {
   "cell_type": "markdown",
   "metadata": {},
   "source": [
    "O módulo `functools` tem também algumas funções e decoradores úteis. Já vimos anteriormente os decoradores `@lru_cache` e `@total_ordering`. Vamos ver alguns outros disponíveis."
   ]
  },
  {
   "cell_type": "code",
   "execution_count": null,
   "metadata": {},
   "outputs": [],
   "source": [
    "import functools"
   ]
  },
  {
   "cell_type": "markdown",
   "metadata": {},
   "source": [
    "### 2.1. `reduce`"
   ]
  },
  {
   "cell_type": "markdown",
   "metadata": {},
   "source": [
    "A função `reduce` é similar a `itertools.accumulate`, mas retorna apenas o último valor (ao invés de retornar um iterador com todos os valores intermediários)."
   ]
  },
  {
   "cell_type": "code",
   "execution_count": null,
   "metadata": {},
   "outputs": [],
   "source": [
    "functools.reduce(lambda x, y: x + y, range(10))"
   ]
  },
  {
   "cell_type": "markdown",
   "metadata": {},
   "source": [
    "Se desejarmos, podemos fornecer um valor inicial como terceiro parâmetro (será o valor usado para compor a função com o primeiro elemento da lista)."
   ]
  },
  {
   "cell_type": "code",
   "execution_count": null,
   "metadata": {},
   "outputs": [],
   "source": [
    "functools.reduce(lambda x, y: x + y, range(10), 100)"
   ]
  },
  {
   "cell_type": "markdown",
   "metadata": {},
   "source": [
    "### 2.2. `partial`"
   ]
  },
  {
   "cell_type": "markdown",
   "metadata": {},
   "source": [
    "Em diversas situações, temos uma função com diversos parâmetros, mas queremos fixar vários desses parâmetros (isto é, passar sempre os mesmos valores para esses parâmetros). Por exemplo, suponhamos que temos a seguinte função:"
   ]
  },
  {
   "cell_type": "code",
   "execution_count": null,
   "metadata": {},
   "outputs": [],
   "source": [
    "def f(a, b, c):\n",
    "    return a * b ** c"
   ]
  },
  {
   "cell_type": "code",
   "execution_count": null,
   "metadata": {},
   "outputs": [],
   "source": [
    "f(1, 2, 3)"
   ]
  },
  {
   "cell_type": "markdown",
   "metadata": {},
   "source": [
    "Agora queremos usar essa função num `map`, mas com valores fixos para `a=1` e `b=2`, e usando para `c` os valores de uma lista. Isto é, gostaríamos de fazer algo do tipo:\n",
    "\n",
    "    map(f(1,2,x), lista)\n",
    "    \n",
    "Infelizmente, isso não funciona. Podemos fazer isso usando funções lambda:\n",
    "\n",
    "    map(lambda x: f(1, 2, x), lista)\n",
    "    \n",
    "Mas uma outra opção é fixar os valores de `a` e `b` com o uso de `functools.partial`:"
   ]
  },
  {
   "cell_type": "code",
   "execution_count": null,
   "metadata": {},
   "outputs": [],
   "source": [
    "g = functools.partial(f, 1, 2)"
   ]
  },
  {
   "cell_type": "code",
   "execution_count": null,
   "metadata": {},
   "outputs": [],
   "source": [
    "g(3)"
   ]
  },
  {
   "cell_type": "code",
   "execution_count": null,
   "metadata": {
    "scrolled": true
   },
   "outputs": [],
   "source": [
    "list(map(g, range(10)))"
   ]
  },
  {
   "cell_type": "code",
   "execution_count": null,
   "metadata": {},
   "outputs": [],
   "source": [
    "list(map(functools.partial(f, 1, 2), range(10)))"
   ]
  },
  {
   "cell_type": "markdown",
   "metadata": {},
   "source": [
    "Os valores são fixados na ordem. Portanto, nos exemplos acima estamos fixando `a` em 1 e `b` em 2, e `c` é o parâmetro livre da nova função gerada. Se quisermos fixar parâmetros posteriores e deixar parâmetros anteriores livres precisamos de uma sintaxe diferente:"
   ]
  },
  {
   "cell_type": "code",
   "execution_count": null,
   "metadata": {},
   "outputs": [],
   "source": [
    "h = functools.partial(f, 1, c = 3)"
   ]
  },
  {
   "cell_type": "code",
   "execution_count": null,
   "metadata": {},
   "outputs": [],
   "source": [
    "h(2)"
   ]
  },
  {
   "cell_type": "markdown",
   "metadata": {},
   "source": [
    "Neste caso, o primeiro parâmetro `a` foi fixado em 1 e o parâmetro `c` foi assumido como `3`, sendo que `b` é o parâmetro livre da função `h`.\n",
    "\n",
    "Na verdade, `c` foi apenas assumido, e podemos fornecer outro valor:"
   ]
  },
  {
   "cell_type": "code",
   "execution_count": null,
   "metadata": {},
   "outputs": [],
   "source": [
    "h(2,c=5)"
   ]
  },
  {
   "cell_type": "markdown",
   "metadata": {},
   "source": [
    "# Exercícios"
   ]
  },
  {
   "cell_type": "markdown",
   "metadata": {},
   "source": [
    "Responda aos exercícios abaixo **sempre** fazendo uso de funções do módulo `itertools`.\n",
    "\n",
    "1. Você tem a seguinte função geradora:\n",
    "    ```python\n",
    "    def sum_pow():\n",
    "        s, i = 0\n",
    "        while True:\n",
    "            yield s\n",
    "            i += 1\n",
    "            s += i ** 2\n",
    "    ```\n",
    "    Escreva um código que retorna a soma dos 5 primeiros números maiores do que 1000 retornados por esse gerador.\n",
    "    \n",
    "1. Escreva um código que dada uma lista de listas, retorna uma lista \"achatada\" com os valores de todas as listas, isto é, uma lista única com os valores da primeira lista, seguidos dos da segunda, etc. Por exemplo, a lista:\n",
    "    ```python\n",
    "    [[1, 2, 3], [40, 50], [600, 700, 800]]\n",
    "    ```\n",
    "    seria transformada em:\n",
    "    ```python\n",
    "    [1, 2, 3, 40, 50, 600, 700, 800]\n",
    "    ```\n",
    "\n",
    "1. Escreva uma função que recebe uma lista de tuplas no formato `(nome, nota)`, onde `nome` é uma `str` e nota um `float` entre 0.0 e 10.0, e retorna três listas diferentes de tuplas: a primeira com a lista de tuplas com nota menor do que 3.0 (excluído), a segunda com notas entre 3.0 e 5.0 (excluído) e a terceira com notas maiores ou iguais a 5.0. Use `groupby`.\n",
    "    \n",
    "1. Um baralho tem 4 naipes:\n",
    "    ```python\n",
    "    naipes = ['espadas', 'paus', 'copas', 'ouro']\n",
    "    ```\n",
    "    e 13 valores de cartas:\n",
    "    ```python\n",
    "    cartas = ['2', '3', '4', '5', '6', '7', '8', '9', '10', 'J', 'Q', 'K', 'A']\n",
    "    ```\n",
    "    Escreva um código para imprimir todos as 52 cartas do baralho, no formato:\n",
    "    ```\n",
    "    5 de paus\n",
    "    ```\n",
    "\n",
    "1. Uma pessoa tem quatro canetas:\n",
    "    ```python\n",
    "    canetas = ['azul', 'preta', 'vermelha', 'verde']\n",
    "    ```\n",
    "    e três lapis:\n",
    "    ```python\n",
    "    lapis = ['B', 'HB', 'H']\n",
    "    ```\n",
    "    Essa pessoa quer colocar duas canetas e dois lápis no estojo. Escreva um código que imprima todas as opções de que ela dispõe, no formato:\n",
    "    ```\n",
    "    Canetas azul e verde e lápis HB e H.\n",
    "    ```"
   ]
  }
 ],
 "metadata": {
  "kernelspec": {
   "display_name": "Python 3 (ipykernel)",
   "language": "python",
   "name": "python3"
  },
  "language_info": {
   "codemirror_mode": {
    "name": "ipython",
    "version": 3
   },
   "file_extension": ".py",
   "mimetype": "text/x-python",
   "name": "python",
   "nbconvert_exporter": "python",
   "pygments_lexer": "ipython3",
   "version": "3.11.2"
  }
 },
 "nbformat": 4,
 "nbformat_minor": 4
}
