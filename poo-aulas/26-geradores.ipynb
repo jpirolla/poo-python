{
 "cells": [
  {
   "cell_type": "markdown",
   "metadata": {},
   "source": [
    "# Geradores"
   ]
  },
  {
   "cell_type": "markdown",
   "metadata": {
    "slideshow": {
     "slide_type": "slide"
    }
   },
   "source": [
    "*Geradores*, ou *iteradores*, são objetos que entregam uma sequência de valores, um por vez, quando requisitados. Os valores podem estar armazenados em memória ou serem gerados quando solicitados."
   ]
  },
  {
   "cell_type": "markdown",
   "metadata": {},
   "source": [
    "## 1. Geradores pré-definidos"
   ]
  },
  {
   "cell_type": "markdown",
   "metadata": {},
   "source": [
    "A função `map`, que aplica uma função fornecida a todos os valores passados, retorna um objeto gerador. Isto é, a função será aplicada aos valores na medida do necessário, isto é, os valores serão calculados a cada vez que um novo valor for pedido."
   ]
  },
  {
   "cell_type": "code",
   "execution_count": null,
   "metadata": {
    "collapsed": false,
    "jupyter": {
     "outputs_hidden": false
    }
   },
   "outputs": [],
   "source": [
    "map(lambda x: 2*x - 3, [1, 4, 7, 9])"
   ]
  },
  {
   "cell_type": "markdown",
   "metadata": {},
   "source": [
    "Não acredita? Então veja as temporizações abaixo:"
   ]
  },
  {
   "cell_type": "code",
   "execution_count": null,
   "metadata": {
    "collapsed": false,
    "jupyter": {
     "outputs_hidden": false
    }
   },
   "outputs": [],
   "source": [
    "%timeit map(lambda x: x**2, range(10))"
   ]
  },
  {
   "cell_type": "code",
   "execution_count": null,
   "metadata": {
    "collapsed": false,
    "jupyter": {
     "outputs_hidden": false
    }
   },
   "outputs": [],
   "source": [
    "%timeit map(lambda x: x**2, range(1000))"
   ]
  },
  {
   "cell_type": "code",
   "execution_count": null,
   "metadata": {
    "collapsed": false,
    "jupyter": {
     "outputs_hidden": false
    }
   },
   "outputs": [],
   "source": [
    "%timeit map(lambda x: x**2, range(10000000))"
   ]
  },
  {
   "cell_type": "markdown",
   "metadata": {},
   "source": [
    "Se queremos ver todos os valores gerados, podemos converter o gerador para uma lista. O método de converter para lista solicita ao gerador os valores um por vez até que não haja mais valores a serem gerados."
   ]
  },
  {
   "cell_type": "code",
   "execution_count": null,
   "metadata": {
    "collapsed": false,
    "jupyter": {
     "outputs_hidden": false
    }
   },
   "outputs": [],
   "source": [
    "list(map(lambda x: 2*x - 3, [1, 4, 7, 9]))"
   ]
  },
  {
   "cell_type": "markdown",
   "metadata": {},
   "source": [
    "Outra função que retorna um gerador é a função `filter`."
   ]
  },
  {
   "cell_type": "code",
   "execution_count": null,
   "metadata": {
    "collapsed": false,
    "jupyter": {
     "outputs_hidden": false
    }
   },
   "outputs": [],
   "source": [
    "filter(lambda x: x ** 2 < 100, range(20))"
   ]
  },
  {
   "cell_type": "markdown",
   "metadata": {},
   "source": [
    "A função `zip` também retorna um gerador:"
   ]
  },
  {
   "cell_type": "code",
   "execution_count": null,
   "metadata": {},
   "outputs": [],
   "source": [
    "zip(range(10), range(0, 100, 10))"
   ]
  },
  {
   "cell_type": "markdown",
   "metadata": {},
   "source": [
    "Vamos parar de falar sobre funções que retornam geradores, pois elas são muitas. Ao usar uma função em Python, é interessante saber se ela retorna um gerador ou não. Isso é indicado na documentação de Python, mas você também pode testar diretamente no interpretador."
   ]
  },
  {
   "cell_type": "markdown",
   "metadata": {},
   "source": [
    "## 2. Geradores criados pelo usuário"
   ]
  },
  {
   "cell_type": "markdown",
   "metadata": {},
   "source": [
    "Podemos definir geradores de três formas:\n",
    "\n",
    "1. Expressões geradoras\n",
    "1. Funções geradoras\n",
    "1. Objetos geradores\n",
    "\n",
    "O terceiro caso estudaremos mais tarde, depois de falar sobre orientação a objetos. Vamos ver os dois primeiros agora (que na verdade são apenas casos especiais do terceiro)."
   ]
  },
  {
   "cell_type": "markdown",
   "metadata": {},
   "source": [
    "### 2.1. Expressões geradoras"
   ]
  },
  {
   "cell_type": "markdown",
   "metadata": {},
   "source": [
    "Expressões geradoras são criadas substituindo os `[]` de uma *list comprehension* por `()`.\n",
    "\n",
    "Abaixo temos uma *list comprehension*, que retorna uma lista com todos os valores:"
   ]
  },
  {
   "cell_type": "code",
   "execution_count": null,
   "metadata": {
    "collapsed": false,
    "jupyter": {
     "outputs_hidden": false
    }
   },
   "outputs": [],
   "source": [
    "[i ** 2 for i in range(10)]"
   ]
  },
  {
   "cell_type": "markdown",
   "metadata": {},
   "source": [
    "Podemos criar uma expressão geradora com os mesmo valores usando `()`:"
   ]
  },
  {
   "cell_type": "code",
   "execution_count": null,
   "metadata": {
    "collapsed": false,
    "jupyter": {
     "outputs_hidden": false
    }
   },
   "outputs": [],
   "source": [
    "valores = (i ** 2 for i in range(10))"
   ]
  },
  {
   "cell_type": "markdown",
   "metadata": {},
   "source": [
    "Isso é agora um gerador:"
   ]
  },
  {
   "cell_type": "code",
   "execution_count": null,
   "metadata": {},
   "outputs": [],
   "source": [
    "valores"
   ]
  },
  {
   "cell_type": "markdown",
   "metadata": {},
   "source": [
    "Esse objeto gerador pode, por exemplo, ser usado num `for`:"
   ]
  },
  {
   "cell_type": "code",
   "execution_count": null,
   "metadata": {
    "collapsed": false,
    "jupyter": {
     "outputs_hidden": false
    }
   },
   "outputs": [],
   "source": [
    "for x in valores:\n",
    "    print(x)"
   ]
  },
  {
   "cell_type": "markdown",
   "metadata": {},
   "source": [
    "Os parêntesis da expressão geradora podem ser **omitidos** em locais onde a sintaxe do Python já exige parêntesis, por exemplo, na passagem de parâmetros para funções ou métodos:"
   ]
  },
  {
   "cell_type": "code",
   "execution_count": null,
   "metadata": {
    "collapsed": false,
    "jupyter": {
     "outputs_hidden": false
    }
   },
   "outputs": [],
   "source": [
    "' '.join(v.strip().upper() for v in 'a  , b  ,c, x,   y,z'.split(','))"
   ]
  },
  {
   "cell_type": "code",
   "execution_count": null,
   "metadata": {
    "collapsed": false,
    "jupyter": {
     "outputs_hidden": false
    }
   },
   "outputs": [],
   "source": [
    "sum(x ** 2 for x in range(10000000))"
   ]
  },
  {
   "cell_type": "code",
   "execution_count": null,
   "metadata": {
    "collapsed": false,
    "jupyter": {
     "outputs_hidden": false
    }
   },
   "outputs": [],
   "source": [
    "values = [-4, -1,-2,3]\n",
    "sorted(2 * y - z for y, z in zip((abs(x) for x in values), values))"
   ]
  },
  {
   "cell_type": "markdown",
   "metadata": {},
   "source": [
    "### 2.2. Funções geradoras"
   ]
  },
  {
   "cell_type": "markdown",
   "metadata": {},
   "source": [
    "Funções geradoras são funções que criam um objeto gerador. Podemos conseguir uma função geradora usando `yield` ao invés de `return` para retornar um valor. Neste caso, o valor fornecido no `yield` será retornado, mas a função continuará ativa (não termina ainda). Quando for solicitado um novo valor, a função voltará a executar **continuando da instrução seguinte ao `yield`**.\n",
    "\n",
    "Por exemplo, a função geradora abaixo gera os `n` primeiros número pares a partir de `0` (e mostra uma mensagem para ajudar a entender o que está acontecendo):"
   ]
  },
  {
   "cell_type": "code",
   "execution_count": null,
   "metadata": {},
   "outputs": [],
   "source": [
    "def even_numbers(n):\n",
    "    for current in range(0, n, 2):\n",
    "        print('About to return', current)\n",
    "        yield current"
   ]
  },
  {
   "cell_type": "markdown",
   "metadata": {},
   "source": [
    "Quando a execução chega em `yield current` o valor atual da variável `current` é retornado como o próximo número gerado, e a execução da função é suspensa. Quando o código que usa o gerador solicitar o próximo valor, a execução retorna no comando seguinte ao `yield` (neste caso, retorna para pegar o próximo valor do `for`), como se não tivesse sido interrompida.\n",
    "\n",
    "A função pára de gerar novos números quando termina (por chegar ao fim do código ou por executar um `return`).\n",
    "\n",
    "Note que ao chamarmos a função, ela retorna um gerador:"
   ]
  },
  {
   "cell_type": "code",
   "execution_count": null,
   "metadata": {
    "collapsed": false,
    "jupyter": {
     "outputs_hidden": false
    }
   },
   "outputs": [],
   "source": [
    "even_numbers(10)"
   ]
  },
  {
   "cell_type": "code",
   "execution_count": null,
   "metadata": {
    "collapsed": false,
    "jupyter": {
     "outputs_hidden": false
    }
   },
   "outputs": [],
   "source": [
    "for x in even_numbers(5):\n",
    "    print('The value is now', x)"
   ]
  },
  {
   "cell_type": "markdown",
   "metadata": {},
   "source": [
    "A função pode ter o número de comandos `yield` que forem necessários. A execução é interrompida num `yield`, retorna no comando seguinte e continua até encontrar o próximo `yield`.\n",
    "\n",
    "Por exemplo, o gerador abaixo retorna alternadamente `'😀'` e `'😩'`."
   ]
  },
  {
   "cell_type": "code",
   "execution_count": null,
   "metadata": {},
   "outputs": [],
   "source": [
    "def bipolar(n):\n",
    "    for i in range(n):\n",
    "        yield '😀'\n",
    "        yield '😩'"
   ]
  },
  {
   "cell_type": "code",
   "execution_count": null,
   "metadata": {
    "collapsed": false,
    "jupyter": {
     "outputs_hidden": false
    }
   },
   "outputs": [],
   "source": [
    "for mood in bipolar(5):\n",
    "    print(mood)"
   ]
  },
  {
   "cell_type": "markdown",
   "metadata": {},
   "source": [
    "Vejamos agora uma comparação de desempenho de geradores e listas. Primeiro, duas funções idênticas, uma retornando uma lista de valores e outra sendo um gerador para a mesma sequência de valores."
   ]
  },
  {
   "cell_type": "code",
   "execution_count": null,
   "metadata": {},
   "outputs": [],
   "source": [
    "def get_list(n):\n",
    "    current = 0\n",
    "    res = []\n",
    "    for i in range(1, n):\n",
    "        current += i * i\n",
    "        res.append(current)\n",
    "    return res"
   ]
  },
  {
   "cell_type": "code",
   "execution_count": null,
   "metadata": {},
   "outputs": [],
   "source": [
    "def get_generator(n):\n",
    "    current = 0\n",
    "    for i in range(1, n):\n",
    "        current += i * i\n",
    "        yield current"
   ]
  },
  {
   "cell_type": "markdown",
   "metadata": {},
   "source": [
    "Vemos que as duas geram os mesmo valores, mas de forma diferente:"
   ]
  },
  {
   "cell_type": "code",
   "execution_count": null,
   "metadata": {
    "collapsed": false,
    "jupyter": {
     "outputs_hidden": false
    }
   },
   "outputs": [],
   "source": [
    "get_list(10)"
   ]
  },
  {
   "cell_type": "code",
   "execution_count": null,
   "metadata": {
    "collapsed": false,
    "jupyter": {
     "outputs_hidden": false
    }
   },
   "outputs": [],
   "source": [
    "list(get_generator(10))"
   ]
  },
  {
   "cell_type": "markdown",
   "metadata": {},
   "source": [
    "Para estas funções, o uso de um gerador evita a criação de uma lista muito grande, caso `n` seja grande.\n",
    "\n",
    "Agora vamos temporizar uma operação sobre esses valores (soma) de duas formas:"
   ]
  },
  {
   "cell_type": "code",
   "execution_count": null,
   "metadata": {
    "collapsed": false,
    "jupyter": {
     "outputs_hidden": false
    }
   },
   "outputs": [],
   "source": [
    "%timeit sum(get_list(1000000))"
   ]
  },
  {
   "cell_type": "code",
   "execution_count": null,
   "metadata": {
    "collapsed": false,
    "jupyter": {
     "outputs_hidden": false
    }
   },
   "outputs": [],
   "source": [
    "%timeit sum(get_generator(1000000))"
   ]
  },
  {
   "cell_type": "markdown",
   "metadata": {},
   "source": [
    "Vemos que neste caso o uso de geradores é ligeiramente mais eficiente.\n",
    "\n",
    "Por fim, vejamos uma função geradora para os `n` primeiros números da sequência de Fibonacci começada em 1, 1."
   ]
  },
  {
   "cell_type": "code",
   "execution_count": null,
   "metadata": {},
   "outputs": [],
   "source": [
    "def fibonacci(n):\n",
    "    a, b = 1, 1\n",
    "    for i in range(n):\n",
    "        yield a\n",
    "        a, b = b, a + b"
   ]
  },
  {
   "cell_type": "code",
   "execution_count": null,
   "metadata": {
    "collapsed": false,
    "jupyter": {
     "outputs_hidden": false
    }
   },
   "outputs": [],
   "source": [
    "list(fibonacci(10))"
   ]
  },
  {
   "cell_type": "markdown",
   "metadata": {},
   "source": [
    "Como geradores podem ser infinitos, podemos definir ao invés um gerador que gera toda a sequência de Fibonacci:"
   ]
  },
  {
   "cell_type": "code",
   "execution_count": 1,
   "metadata": {
    "tags": []
   },
   "outputs": [],
   "source": [
    "def all_fibonacci():\n",
    "    a, b = 1, 1\n",
    "    while True:\n",
    "        yield a\n",
    "        a, b = b, a + b"
   ]
  },
  {
   "cell_type": "markdown",
   "metadata": {},
   "source": [
    "Esse gerador nunca acaba, então seria um erro usá-lo diretamente num `for`:"
   ]
  },
  {
   "cell_type": "markdown",
   "metadata": {},
   "source": [
    "```\n",
    "# DON'T RUN THIS!\n",
    "for f in all_fibonacci():\n",
    "    pass\n",
    "```"
   ]
  },
  {
   "cell_type": "markdown",
   "metadata": {},
   "source": [
    "Mas então como podemos usar este gerador? Existem diversas formas, uma forma é usar em algum contexto onde apenas um certo número de valores é requerido:"
   ]
  },
  {
   "cell_type": "code",
   "execution_count": 2,
   "metadata": {
    "tags": []
   },
   "outputs": [
    {
     "name": "stdout",
     "output_type": "stream",
     "text": [
      "The 0-th element of the Fibonacci sequence is 1\n",
      "The 1-th element of the Fibonacci sequence is 1\n",
      "The 2-th element of the Fibonacci sequence is 2\n",
      "The 3-th element of the Fibonacci sequence is 3\n",
      "The 4-th element of the Fibonacci sequence is 5\n",
      "The 5-th element of the Fibonacci sequence is 8\n",
      "The 6-th element of the Fibonacci sequence is 13\n",
      "The 7-th element of the Fibonacci sequence is 21\n",
      "The 8-th element of the Fibonacci sequence is 34\n",
      "The 9-th element of the Fibonacci sequence is 55\n"
     ]
    }
   ],
   "source": [
    "for i, fib in zip(range(10), all_fibonacci()):\n",
    "    print(f'The {i}-th element of the Fibonacci sequence is {fib}')"
   ]
  },
  {
   "cell_type": "markdown",
   "metadata": {},
   "source": [
    "Neste código, como o `zip` termina assim que a sequência mais curta termina, apenas 10 valores serão requisitados para o gerador `all_fibonacci`."
   ]
  },
  {
   "cell_type": "markdown",
   "metadata": {},
   "source": [
    "## 3. Exaustão de geradores"
   ]
  },
  {
   "cell_type": "markdown",
   "metadata": {},
   "source": [
    "Ao usar geradores é importante lembrar que um gerador irá fornecer valores até terminar. Após fornecido o último valor, ele não fornecerá mais valores (dizemos que ele foi exaurido).\n",
    "\n",
    "Veja por exemplo o código abaixo."
   ]
  },
  {
   "cell_type": "code",
   "execution_count": null,
   "metadata": {
    "collapsed": false,
    "jupyter": {
     "outputs_hidden": false
    }
   },
   "outputs": [],
   "source": [
    "bipolar2 = bipolar(2) # Cria um objeto gerador e guarda referência\n",
    "print('Phase 1')\n",
    "for mood in bipolar2:\n",
    "    print(mood)\n",
    "print('Phase 2')\n",
    "for mood in bipolar2:\n",
    "    print(mood)\n",
    "print('Done')"
   ]
  },
  {
   "cell_type": "markdown",
   "metadata": {},
   "source": [
    "Isso acontece com todos os geradores. Por exemplo, o `map`."
   ]
  },
  {
   "cell_type": "code",
   "execution_count": null,
   "metadata": {
    "collapsed": false,
    "jupyter": {
     "outputs_hidden": false
    }
   },
   "outputs": [],
   "source": [
    "cubes = map(lambda x: x ** 3, range(5))\n",
    "print('First time')\n",
    "for q in cubes:\n",
    "    print(q)\n",
    "print('Second time')\n",
    "for q in cubes:\n",
    "    print(q)\n",
    "print('Done')"
   ]
  },
  {
   "cell_type": "markdown",
   "metadata": {},
   "source": [
    "Isso também acontece com o `zip`:"
   ]
  },
  {
   "cell_type": "code",
   "execution_count": null,
   "metadata": {},
   "outputs": [],
   "source": [
    "z1 = zip([1, 2], [3, 4])\n",
    "for i, j in z1:\n",
    "    print(i, j)\n",
    "for i, j in z1:\n",
    "    print(10 * i, 10 * j)    "
   ]
  },
  {
   "cell_type": "markdown",
   "metadata": {},
   "source": [
    "Portanto, sempre tome cuidado com a exaustão de geradores!"
   ]
  },
  {
   "cell_type": "markdown",
   "metadata": {},
   "source": [
    "# Exercícios"
   ]
  },
  {
   "cell_type": "markdown",
   "metadata": {},
   "source": [
    "1. Escreva uma função geradora que quando chamada como `sum_squares(n)` retorna um gerador dos `n` primeiros elementos da sequência definida por:\n",
    "\n",
    "    $$x_i = \\sum_{j=1}^{i} j^2.$$\n",
    "\n",
    "    começando em $i=1$. Por exemplo, o código\n",
    "    ```python\n",
    "    for x in sum_squares(5):\n",
    "        print(x)\n",
    "    ```\n",
    "    irá imprimir\n",
    "    ```\n",
    "    1\n",
    "    5\n",
    "    14\n",
    "    30\n",
    "    55\n",
    "    ```\n",
    "\n",
    "2. Escreva uma função geradora `primes()` que retorne um gerador para a sequência dos números primos (sem limite máximo). Por exemplo, o código\n",
    "    ```python\n",
    "    s = 0\n",
    "    for p in primes():\n",
    "        s += p\n",
    "        if s > 50:\n",
    "            break\n",
    "    print(s)\n",
    "    ```\n",
    "    \n",
    "    irá imprimir `58`, que é (2 + 3 + 5 + 7 + 11 + 13 + 17)."
   ]
  }
 ],
 "metadata": {
  "kernelspec": {
   "display_name": "Python 3 (ipykernel)",
   "language": "python",
   "name": "python3"
  },
  "language_info": {
   "codemirror_mode": {
    "name": "ipython",
    "version": 3
   },
   "file_extension": ".py",
   "mimetype": "text/x-python",
   "name": "python",
   "nbconvert_exporter": "python",
   "pygments_lexer": "ipython3",
   "version": "3.10.6"
  }
 },
 "nbformat": 4,
 "nbformat_minor": 4
}
