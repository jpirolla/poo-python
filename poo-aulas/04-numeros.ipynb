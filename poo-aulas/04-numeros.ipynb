{
 "cells": [
  {
   "cell_type": "markdown",
   "metadata": {
    "ein.tags": [
     "worksheet-0"
    ],
    "id": "R3Q4fIjOa84E"
   },
   "source": [
    "# Primeiro elementos no uso de Python e do notebook"
   ]
  },
  {
   "cell_type": "markdown",
   "metadata": {
    "id": "qsbeo3DBa84I"
   },
   "source": [
    "## 1. O notebook e o interpretador"
   ]
  },
  {
   "cell_type": "markdown",
   "metadata": {
    "ein.tags": [
     "worksheet-0"
    ],
    "id": "SAE_iFwaa84J"
   },
   "source": [
    "Python é uma linguagem interpretada. Isso significa que não existe a fase de compilação como em C, C++ ou Fortran, e os comandos podem ser executados diretamente no interpretador, fornecendo o resultado imediatamente.\n",
    "\n",
    "No notebook Jupyter, basta criar uma nova célula do tipo *código*, escrever os comandos na célula, e digitar `CTRL-ENTER` para executar. Na verdade, temos três formas distintas de executar a célula:\n",
    "- `CNTRL-ENTER` executa o código da célula **e permanece nela**.\n",
    "- `SHIFT-ENTER` executa o código da célula **e vai para a próxima**.\n",
    "- `ALT-ENTER` executa o código da célula **e cria uma nova embaixo**.\n",
    "\n",
    "Tente essas diversas formas na célula abaixo."
   ]
  },
  {
   "cell_type": "code",
   "execution_count": null,
   "metadata": {
    "autoscroll": "json-false",
    "collapsed": false,
    "ein.tags": [
     "worksheet-0"
    ],
    "id": "C5DB0DkZa84K",
    "jupyter": {
     "outputs_hidden": false
    }
   },
   "outputs": [],
   "source": [
    "1 + 2 + 1"
   ]
  },
  {
   "cell_type": "markdown",
   "metadata": {
    "ein.tags": [
     "worksheet-0"
    ],
    "id": "j6WFGP4Za84L"
   },
   "source": [
    "Como sempre, precisamos começar com um Hello, world!"
   ]
  },
  {
   "cell_type": "code",
   "execution_count": null,
   "metadata": {
    "autoscroll": "json-false",
    "collapsed": false,
    "ein.tags": [
     "worksheet-0"
    ],
    "id": "WNBeSCCSa84L",
    "jupyter": {
     "outputs_hidden": false
    }
   },
   "outputs": [],
   "source": [
    "print('Hello, world!')"
   ]
  },
  {
   "cell_type": "markdown",
   "metadata": {
    "ein.tags": [
     "worksheet-0"
    ],
    "id": "7tEcZ0MKa84M"
   },
   "source": [
    "Quando algo sai errado, a resposta do Python é *lançar uma exceção*. A exceção indica qual foi o erro e dá um contexto de onde ele ocorreu."
   ]
  },
  {
   "cell_type": "code",
   "execution_count": null,
   "metadata": {
    "autoscroll": "json-false",
    "collapsed": false,
    "ein.tags": [
     "worksheet-0"
    ],
    "id": "bhqZ4ZWDa84M",
    "jupyter": {
     "outputs_hidden": false
    }
   },
   "outputs": [],
   "source": [
    "1/0"
   ]
  },
  {
   "cell_type": "markdown",
   "metadata": {
    "ein.tags": [
     "worksheet-0"
    ],
    "id": "I8BniwTpa84M"
   },
   "source": [
    "## 2. Números"
   ]
  },
  {
   "cell_type": "markdown",
   "metadata": {
    "ein.tags": [
     "worksheet-0"
    ],
    "id": "CKhwnxOVa84N"
   },
   "source": [
    "Vamos começar falando sobre números em Python. A linguagem conhece três tipos de números:\n",
    "\n",
    "- Inteiros\n",
    "- Ponto flutuante\n",
    "- Complexos\n",
    "\n",
    "Outros tipos de números são definidos em módulos que podem ser usados quando necessário."
   ]
  },
  {
   "cell_type": "markdown",
   "metadata": {
    "ein.tags": [
     "worksheet-0"
    ],
    "id": "VIne0v61a84N"
   },
   "source": [
    "### 2.1. Números inteiros"
   ]
  },
  {
   "cell_type": "markdown",
   "metadata": {
    "ein.tags": [
     "worksheet-0"
    ],
    "id": "HIlV_lxxa84N"
   },
   "source": [
    "Números inteiros são o mais usado tipo de dados em computação. Seu uso em Python é simples."
   ]
  },
  {
   "cell_type": "code",
   "execution_count": null,
   "metadata": {
    "autoscroll": "json-false",
    "collapsed": false,
    "ein.tags": [
     "worksheet-0"
    ],
    "id": "1_Xvfs3Va84O",
    "jupyter": {
     "outputs_hidden": false
    }
   },
   "outputs": [],
   "source": [
    "1"
   ]
  },
  {
   "cell_type": "code",
   "execution_count": null,
   "metadata": {
    "autoscroll": "json-false",
    "collapsed": false,
    "ein.tags": [
     "worksheet-0"
    ],
    "id": "fIdqRab7a84O",
    "jupyter": {
     "outputs_hidden": false
    }
   },
   "outputs": [],
   "source": [
    "-2"
   ]
  },
  {
   "cell_type": "code",
   "execution_count": null,
   "metadata": {
    "autoscroll": "json-false",
    "collapsed": false,
    "ein.tags": [
     "worksheet-0"
    ],
    "id": "EebmULxJa84O",
    "jupyter": {
     "outputs_hidden": false
    }
   },
   "outputs": [],
   "source": [
    "100"
   ]
  },
  {
   "cell_type": "markdown",
   "metadata": {
    "ein.tags": [
     "worksheet-0"
    ],
    "id": "KrwHwcVpa84O"
   },
   "source": [
    "A principal diferença com C, C++ e Fortran é que os inteiros de Python não têm limitações de tamanho. Enquanto os `int` de C representam números até da ordem de $10^9$, em Python podemos aumentar o valor o quanto desejarmos, dentro das limitações do computador."
   ]
  },
  {
   "cell_type": "code",
   "execution_count": null,
   "metadata": {
    "autoscroll": "json-false",
    "collapsed": false,
    "ein.tags": [
     "worksheet-0"
    ],
    "id": "i7f7HakOa84P",
    "jupyter": {
     "outputs_hidden": false
    }
   },
   "outputs": [],
   "source": [
    "-1000 * 1000 * 1000 * 1000 * 1000 * 1000 * 1000 * 1000"
   ]
  },
  {
   "cell_type": "markdown",
   "metadata": {
    "ein.tags": [
     "worksheet-0"
    ],
    "id": "yFGNKvdwa84P"
   },
   "source": [
    "É possível usar representações em *hexadecimal*, *octal* e *binária* para os valores inteiros.\n",
    "\n",
    "Para indicar uma representação hexadecimal usamos o prefixo `'0x'`:"
   ]
  },
  {
   "cell_type": "code",
   "execution_count": null,
   "metadata": {
    "autoscroll": "json-false",
    "colab": {
     "base_uri": "https://localhost:8080/"
    },
    "collapsed": false,
    "ein.tags": [
     "worksheet-0"
    ],
    "id": "2ifThpgWa84P",
    "jupyter": {
     "outputs_hidden": false
    },
    "outputId": "7d5b4888-0ea2-4f5e-d6fb-932aa0e30d06"
   },
   "outputs": [
    {
     "data": {
      "text/plain": [
       "256"
      ]
     },
     "execution_count": 2,
     "metadata": {},
     "output_type": "execute_result"
    }
   ],
   "source": [
    "0x100 # indico que é hexadecimal com o 0x e depois digo o número\n",
    "# o resultado é a conversão do hexadecimal para decimal "
   ]
  },
  {
   "cell_type": "markdown",
   "metadata": {
    "ein.tags": [
     "worksheet-0"
    ],
    "id": "ImXWXJHJa84Q"
   },
   "source": [
    "Já para octal, o prefixo é `'0o'`:"
   ]
  },
  {
   "cell_type": "code",
   "execution_count": null,
   "metadata": {
    "autoscroll": "json-false",
    "colab": {
     "base_uri": "https://localhost:8080/"
    },
    "collapsed": false,
    "ein.tags": [
     "worksheet-0"
    ],
    "id": "8KNi0u6ka84Q",
    "jupyter": {
     "outputs_hidden": false
    },
    "outputId": "1fef3df7-b71b-44d8-d131-4f7ad592c1ee"
   },
   "outputs": [
    {
     "data": {
      "text/plain": [
       "64"
      ]
     },
     "execution_count": 4,
     "metadata": {},
     "output_type": "execute_result"
    }
   ],
   "source": [
    "0o100 # indico a base do número que tenho (octal 0o) e depois digo o número que quero converter\n",
    "# o resultado é o número 100 em octal convertido em decimal "
   ]
  },
  {
   "cell_type": "code",
   "execution_count": null,
   "metadata": {
    "colab": {
     "base_uri": "https://localhost:8080/"
    },
    "id": "yZLrp2RWgOqm",
    "outputId": "8e6c2bc5-f969-486d-e21d-c7d4732af97b"
   },
   "outputs": [
    {
     "data": {
      "text/plain": [
       "659"
      ]
     },
     "execution_count": 5,
     "metadata": {},
     "output_type": "execute_result"
    }
   ],
   "source": [
    "0o1223"
   ]
  },
  {
   "cell_type": "markdown",
   "metadata": {
    "id": "yYxfxREkfvRm"
   },
   "source": [
    "Note então que obtivemos, de hexadecimal e octal, respectivamente os valores:\n",
    "- $(100)_{16} = 256$\n",
    "-  $(100)_8 = 64$ "
   ]
  },
  {
   "cell_type": "markdown",
   "metadata": {
    "ein.tags": [
     "worksheet-0"
    ],
    "id": "zpXkonFda84Q"
   },
   "source": [
    "Por causa da forma como números octais são representados em C, colocando apenas um \"0\" à esquerda do valor desejado, e para evitar confusões, em Python um número que começa com 0 é um erro:"
   ]
  },
  {
   "cell_type": "code",
   "execution_count": null,
   "metadata": {
    "autoscroll": "json-false",
    "collapsed": false,
    "ein.tags": [
     "worksheet-0"
    ],
    "id": "lWP9y9Jma84Q",
    "jupyter": {
     "outputs_hidden": false
    }
   },
   "outputs": [],
   "source": [
    "0100"
   ]
  },
  {
   "cell_type": "markdown",
   "metadata": {
    "ein.tags": [
     "worksheet-0"
    ],
    "id": "xR77nrPUa84R"
   },
   "source": [
    "Além disso, podemos também dar a representação binária do número. Para isso, o prefixo é `'0b'`:"
   ]
  },
  {
   "cell_type": "code",
   "execution_count": null,
   "metadata": {
    "autoscroll": "json-false",
    "colab": {
     "base_uri": "https://localhost:8080/"
    },
    "collapsed": false,
    "ein.tags": [
     "worksheet-0"
    ],
    "id": "9LxQurwPa84R",
    "jupyter": {
     "outputs_hidden": false
    },
    "outputId": "e59f5310-2668-4383-d589-d8dfe9340299"
   },
   "outputs": [
    {
     "data": {
      "text/plain": [
       "4"
      ]
     },
     "execution_count": 6,
     "metadata": {},
     "output_type": "execute_result"
    }
   ],
   "source": [
    "0b100  # indico a base do número que tenho (binario 0b) e depois digo o número que quero converter\n",
    "# o resultado é o número 100 em binario convertido para decimal "
   ]
  },
  {
   "cell_type": "code",
   "execution_count": null,
   "metadata": {
    "colab": {
     "base_uri": "https://localhost:8080/"
    },
    "id": "RJQMT5qRhDbO",
    "outputId": "92df4ee3-daa5-4f3e-af08-f9bd1e66057b"
   },
   "outputs": [
    {
     "data": {
      "text/plain": [
       "int"
      ]
     },
     "execution_count": 7,
     "metadata": {},
     "output_type": "execute_result"
    }
   ],
   "source": [
    "type(0b100)"
   ]
  },
  {
   "cell_type": "markdown",
   "metadata": {
    "ein.tags": [
     "worksheet-0"
    ],
    "id": "TXPpBNX7a84R"
   },
   "source": [
    "Vejamos um exemplo de um mesmo número nas três representações:"
   ]
  },
  {
   "cell_type": "code",
   "execution_count": null,
   "metadata": {
    "autoscroll": "json-false",
    "colab": {
     "base_uri": "https://localhost:8080/"
    },
    "collapsed": false,
    "ein.tags": [
     "worksheet-0"
    ],
    "id": "RxrmfQ8ra84S",
    "jupyter": {
     "outputs_hidden": false
    },
    "outputId": "3fdfad7e-d596-45d4-d570-78bf1fa8fec8"
   },
   "outputs": [
    {
     "data": {
      "text/plain": [
       "11827"
      ]
     },
     "execution_count": 8,
     "metadata": {},
     "output_type": "execute_result"
    }
   ],
   "source": [
    "0x2e33"
   ]
  },
  {
   "cell_type": "code",
   "execution_count": null,
   "metadata": {
    "autoscroll": "json-false",
    "colab": {
     "base_uri": "https://localhost:8080/"
    },
    "collapsed": false,
    "ein.tags": [
     "worksheet-0"
    ],
    "id": "oF9ruryxa84S",
    "jupyter": {
     "outputs_hidden": false
    },
    "outputId": "b76d9653-f2c2-4888-8d9b-c1036d84be5d"
   },
   "outputs": [
    {
     "data": {
      "text/plain": [
       "11827"
      ]
     },
     "execution_count": 9,
     "metadata": {},
     "output_type": "execute_result"
    }
   ],
   "source": [
    "0o27063"
   ]
  },
  {
   "cell_type": "code",
   "execution_count": null,
   "metadata": {
    "autoscroll": "json-false",
    "colab": {
     "base_uri": "https://localhost:8080/"
    },
    "collapsed": false,
    "ein.tags": [
     "worksheet-0"
    ],
    "id": "Q7vDp_d3a84S",
    "jupyter": {
     "outputs_hidden": false
    },
    "outputId": "b69c04c1-b561-4b35-f259-b0ef75ab26f6"
   },
   "outputs": [
    {
     "data": {
      "text/plain": [
       "11827"
      ]
     },
     "execution_count": 10,
     "metadata": {},
     "output_type": "execute_result"
    }
   ],
   "source": [
    "0b10111000110011"
   ]
  },
  {
   "cell_type": "markdown",
   "metadata": {
    "ein.tags": [
     "worksheet-0"
    ],
    "id": "Hroj2LX0a84S"
   },
   "source": [
    "### 2.2. Números de ponto flutuante"
   ]
  },
  {
   "cell_type": "markdown",
   "metadata": {
    "ein.tags": [
     "worksheet-0"
    ],
    "id": "LRpXInfSa84T"
   },
   "source": [
    "Para números de ponto flutuante, a representação e a precisão correspondem a um número de ponto flutuante IEEE-754 com 64 bits:"
   ]
  },
  {
   "cell_type": "code",
   "execution_count": null,
   "metadata": {
    "autoscroll": "json-false",
    "colab": {
     "base_uri": "https://localhost:8080/"
    },
    "collapsed": false,
    "ein.tags": [
     "worksheet-0"
    ],
    "id": "ZSEbFvhXa84T",
    "jupyter": {
     "outputs_hidden": false
    },
    "outputId": "2673de4c-91f0-4627-9f55-3da4d57a85d2"
   },
   "outputs": [
    {
     "data": {
      "text/plain": [
       "12500000000.0"
      ]
     },
     "execution_count": 11,
     "metadata": {},
     "output_type": "execute_result"
    }
   ],
   "source": [
    "1.25E10"
   ]
  },
  {
   "cell_type": "markdown",
   "metadata": {
    "ein.tags": [
     "worksheet-0"
    ],
    "id": "hFSZmHtxa84T"
   },
   "source": [
    "Note que, conforme o número é escrito, ele é considerado um inteiro ou um número de ponto flutuante.\n",
    "\n",
    "O número abaixo é um inteiro:"
   ]
  },
  {
   "cell_type": "code",
   "execution_count": null,
   "metadata": {
    "autoscroll": "json-false",
    "colab": {
     "base_uri": "https://localhost:8080/"
    },
    "collapsed": false,
    "ein.tags": [
     "worksheet-0"
    ],
    "id": "yreXH2jMa84U",
    "jupyter": {
     "outputs_hidden": false
    },
    "outputId": "f9e75a41-8b9b-4c44-92fd-9db4e965edcb"
   },
   "outputs": [
    {
     "data": {
      "text/plain": [
       "2"
      ]
     },
     "execution_count": 12,
     "metadata": {},
     "output_type": "execute_result"
    }
   ],
   "source": [
    "2"
   ]
  },
  {
   "cell_type": "markdown",
   "metadata": {
    "ein.tags": [
     "worksheet-0"
    ],
    "id": "yfBddLesa84U"
   },
   "source": [
    "Já o próximo número é de ponto flutuante (note como o Python imprime os dois valores de forma distinta, para ajudar a visualizar a diferença nos tipos)."
   ]
  },
  {
   "cell_type": "code",
   "execution_count": null,
   "metadata": {
    "autoscroll": "json-false",
    "colab": {
     "base_uri": "https://localhost:8080/"
    },
    "collapsed": false,
    "ein.tags": [
     "worksheet-0"
    ],
    "id": "5iCrFAzia84U",
    "jupyter": {
     "outputs_hidden": false
    },
    "outputId": "463778dd-9954-4220-986f-39c721636827"
   },
   "outputs": [
    {
     "data": {
      "text/plain": [
       "2.0"
      ]
     },
     "execution_count": 13,
     "metadata": {},
     "output_type": "execute_result"
    }
   ],
   "source": [
    "2.0"
   ]
  },
  {
   "cell_type": "code",
   "execution_count": null,
   "metadata": {
    "colab": {
     "base_uri": "https://localhost:8080/"
    },
    "id": "Omo8a31Ia84U",
    "outputId": "373feb28-2a56-49de-eb1a-d280867c61e0"
   },
   "outputs": [
    {
     "data": {
      "text/plain": [
       "2.0"
      ]
     },
     "execution_count": 14,
     "metadata": {},
     "output_type": "execute_result"
    }
   ],
   "source": [
    "2."
   ]
  },
  {
   "cell_type": "code",
   "execution_count": null,
   "metadata": {
    "colab": {
     "base_uri": "https://localhost:8080/"
    },
    "id": "Q1xmuUJfa84V",
    "outputId": "10f192f0-8e03-40e5-8855-165333057fb1"
   },
   "outputs": [
    {
     "data": {
      "text/plain": [
       "2.0"
      ]
     },
     "execution_count": 15,
     "metadata": {},
     "output_type": "execute_result"
    }
   ],
   "source": [
    "2e0"
   ]
  },
  {
   "cell_type": "markdown",
   "metadata": {
    "ein.tags": [
     "worksheet-0"
    ],
    "id": "KrjKzQKMa84V"
   },
   "source": [
    "#### 2.2.1. Precisão"
   ]
  },
  {
   "cell_type": "markdown",
   "metadata": {
    "ein.tags": [
     "worksheet-0"
    ],
    "id": "qBTBmGY7a84V"
   },
   "source": [
    "Quando lidamos com números de ponto flutuante, devemos sempre nos lembrar de que os números têm representação com precisão limitada, e essa limitação vai se refletir em nossos resultados.\n",
    "\n",
    "Veja por exemplo as comparações de números abaixo:"
   ]
  },
  {
   "cell_type": "code",
   "execution_count": null,
   "metadata": {
    "autoscroll": "json-false",
    "colab": {
     "base_uri": "https://localhost:8080/"
    },
    "collapsed": false,
    "ein.tags": [
     "worksheet-0"
    ],
    "id": "T03LtxmOa84V",
    "jupyter": {
     "outputs_hidden": false
    },
    "outputId": "c11b7bf9-11d0-4acc-f9cc-d109080a8657"
   },
   "outputs": [
    {
     "data": {
      "text/plain": [
       "True"
      ]
     },
     "execution_count": 16,
     "metadata": {},
     "output_type": "execute_result"
    }
   ],
   "source": [
    "1.0 == 1.0"
   ]
  },
  {
   "cell_type": "code",
   "execution_count": null,
   "metadata": {
    "autoscroll": "json-false",
    "colab": {
     "base_uri": "https://localhost:8080/"
    },
    "collapsed": false,
    "ein.tags": [
     "worksheet-0"
    ],
    "id": "Y4JDVtISa84W",
    "jupyter": {
     "outputs_hidden": false
    },
    "outputId": "3bca50ca-4b22-42c9-e054-d66b568fd666"
   },
   "outputs": [
    {
     "data": {
      "text/plain": [
       "False"
      ]
     },
     "execution_count": 17,
     "metadata": {},
     "output_type": "execute_result"
    }
   ],
   "source": [
    "1.01 == 1.0"
   ]
  },
  {
   "cell_type": "code",
   "execution_count": null,
   "metadata": {
    "autoscroll": "json-false",
    "collapsed": false,
    "ein.tags": [
     "worksheet-0"
    ],
    "id": "qQWHWua6a84W",
    "jupyter": {
     "outputs_hidden": false
    }
   },
   "outputs": [],
   "source": [
    "1.0001 == 1.0"
   ]
  },
  {
   "cell_type": "code",
   "execution_count": null,
   "metadata": {
    "autoscroll": "json-false",
    "collapsed": false,
    "ein.tags": [
     "worksheet-0"
    ],
    "id": "1Q56LowRa84W",
    "jupyter": {
     "outputs_hidden": false
    }
   },
   "outputs": [],
   "source": [
    "1.0000001 == 1.0"
   ]
  },
  {
   "cell_type": "code",
   "execution_count": null,
   "metadata": {
    "autoscroll": "json-false",
    "collapsed": false,
    "ein.tags": [
     "worksheet-0"
    ],
    "id": "81s6Ksgsa84W",
    "jupyter": {
     "outputs_hidden": false
    }
   },
   "outputs": [],
   "source": [
    "1.00000001 == 1.0"
   ]
  },
  {
   "cell_type": "code",
   "execution_count": null,
   "metadata": {
    "autoscroll": "json-false",
    "collapsed": false,
    "ein.tags": [
     "worksheet-0"
    ],
    "id": "lJE1Gm8ma84W",
    "jupyter": {
     "outputs_hidden": false
    }
   },
   "outputs": [],
   "source": [
    "1.0000000001 == 1.0"
   ]
  },
  {
   "cell_type": "code",
   "execution_count": null,
   "metadata": {
    "autoscroll": "json-false",
    "collapsed": false,
    "ein.tags": [
     "worksheet-0"
    ],
    "id": "xCQQ98xEa84X",
    "jupyter": {
     "outputs_hidden": false
    }
   },
   "outputs": [],
   "source": [
    "1.00000000001 == 1.0"
   ]
  },
  {
   "cell_type": "code",
   "execution_count": null,
   "metadata": {
    "autoscroll": "json-false",
    "collapsed": false,
    "ein.tags": [
     "worksheet-0"
    ],
    "id": "LYb1GN8ra84X",
    "jupyter": {
     "outputs_hidden": false
    }
   },
   "outputs": [],
   "source": [
    "1.000000000001 == 1.0"
   ]
  },
  {
   "cell_type": "code",
   "execution_count": null,
   "metadata": {
    "autoscroll": "json-false",
    "collapsed": false,
    "ein.tags": [
     "worksheet-0"
    ],
    "id": "PZhhOsoWa84X",
    "jupyter": {
     "outputs_hidden": false
    }
   },
   "outputs": [],
   "source": [
    "1.0000000000001 == 1.0"
   ]
  },
  {
   "cell_type": "code",
   "execution_count": null,
   "metadata": {
    "autoscroll": "json-false",
    "collapsed": false,
    "ein.tags": [
     "worksheet-0"
    ],
    "id": "uz26ykXba84X",
    "jupyter": {
     "outputs_hidden": false
    }
   },
   "outputs": [],
   "source": [
    "1.00000000000001 == 1.0"
   ]
  },
  {
   "cell_type": "code",
   "execution_count": null,
   "metadata": {
    "autoscroll": "json-false",
    "collapsed": false,
    "ein.tags": [
     "worksheet-0"
    ],
    "id": "CnktTaz-a84Y",
    "jupyter": {
     "outputs_hidden": false
    }
   },
   "outputs": [],
   "source": [
    "1.000000000000001 == 1.0"
   ]
  },
  {
   "cell_type": "code",
   "execution_count": null,
   "metadata": {
    "autoscroll": "json-false",
    "collapsed": false,
    "ein.tags": [
     "worksheet-0"
    ],
    "id": "OEa59QQGa84Y",
    "jupyter": {
     "outputs_hidden": false
    }
   },
   "outputs": [],
   "source": [
    "1.0000000000000001 == 1.0"
   ]
  },
  {
   "cell_type": "markdown",
   "metadata": {
    "ein.tags": [
     "worksheet-0"
    ],
    "id": "tuf3ryWsa84Y"
   },
   "source": [
    "Veja como neste ponto o computador não consegue mais distinguir entre números distintos, pois a precisão de um número de ponto flutuante IEEE-754 de precisão dupla é de 52 dígitos binários, ou aproximadamente 16 dígitos decimais.\n",
    "\n",
    "Esse problema pode também ser visto em operações simples, quando os números não podem ser representados em IEEE-754 precisamente.\n",
    "\n",
    "O resultado pode ser o esperado:"
   ]
  },
  {
   "cell_type": "code",
   "execution_count": null,
   "metadata": {
    "autoscroll": "json-false",
    "collapsed": false,
    "ein.tags": [
     "worksheet-0"
    ],
    "id": "y9ePEaNUa84Y",
    "jupyter": {
     "outputs_hidden": false
    }
   },
   "outputs": [],
   "source": [
    "0.1 + 0.1 - 0.2"
   ]
  },
  {
   "cell_type": "markdown",
   "metadata": {
    "ein.tags": [
     "worksheet-0"
    ],
    "id": "qF1U_sLba84Y"
   },
   "source": [
    "Ou não:"
   ]
  },
  {
   "cell_type": "code",
   "execution_count": null,
   "metadata": {
    "autoscroll": "json-false",
    "collapsed": false,
    "ein.tags": [
     "worksheet-0"
    ],
    "id": "W8JY93Jfa84Z",
    "jupyter": {
     "outputs_hidden": false
    }
   },
   "outputs": [],
   "source": [
    "0.1 + 0.1 + 0.1 - 0.3"
   ]
  },
  {
   "cell_type": "markdown",
   "metadata": {
    "id": "6sAOGT0Ka84Z"
   },
   "source": [
    "O problema aqui é que 0.1 não tem representação exata em binário, mas é uma dízima periódica:\n",
    "\n",
    "```\n",
    "0.1 * 2 = 0.2, 0.2 * 2 = 0.4, 0.4 * 2 = 0.8, 0.8 * 2 = 1.6, 0.6 * 2 = 1.2, 0.2 * 2 = 0.4, 0.4 * 2 = 0.8 ....\n",
    "```\n",
    "\n",
    "Resultando no binário 0.00011001100110011..., que não pode ser representado exatamente com um número finito de dígitos."
   ]
  },
  {
   "cell_type": "code",
   "execution_count": null,
   "metadata": {
    "id": "9vORUEqva84Z"
   },
   "outputs": [],
   "source": [
    "0 * 1/2 + 0 * 1/4 + 0 * 1/8 + 1 * 1/16 + 1 * 1/32 + 0 * 1/64 + 0 * 1/128 + 1 * 1/256 + 1 * 1/512 "
   ]
  },
  {
   "cell_type": "code",
   "execution_count": null,
   "metadata": {
    "id": "IDFKXfDGa84Z"
   },
   "outputs": [],
   "source": [
    "print(f'{0.1:22.20}')"
   ]
  },
  {
   "cell_type": "markdown",
   "metadata": {
    "ein.tags": [
     "worksheet-0"
    ],
    "id": "TIovfjgja84Z"
   },
   "source": [
    "### 2.3. Números complexos"
   ]
  },
  {
   "cell_type": "markdown",
   "metadata": {
    "ein.tags": [
     "worksheet-0"
    ],
    "id": "1YHjrhela84a"
   },
   "source": [
    "Números complexos podem ser reprentados diretamente como uma soma de parte real e parte imaginária, sendo que a parte imaginária e indicada pela presença de um `j` no final do número."
   ]
  },
  {
   "cell_type": "code",
   "execution_count": null,
   "metadata": {
    "autoscroll": "json-false",
    "colab": {
     "base_uri": "https://localhost:8080/"
    },
    "collapsed": false,
    "ein.tags": [
     "worksheet-0"
    ],
    "id": "5CYw0TpKa84a",
    "jupyter": {
     "outputs_hidden": false
    },
    "outputId": "b063d9aa-feca-4769-ed40-6cdf75653349"
   },
   "outputs": [
    {
     "data": {
      "text/plain": [
       "(2+3j)"
      ]
     },
     "execution_count": 18,
     "metadata": {},
     "output_type": "execute_result"
    }
   ],
   "source": [
    "2.0 + 3.0j"
   ]
  },
  {
   "cell_type": "code",
   "execution_count": null,
   "metadata": {
    "colab": {
     "base_uri": "https://localhost:8080/"
    },
    "id": "xSE_oMsboO5I",
    "outputId": "425f76dc-6d9a-4372-a60e-1958086e7707"
   },
   "outputs": [
    {
     "name": "stdout",
     "output_type": "stream",
     "text": [
      "(3+4j)\n"
     ]
    }
   ],
   "source": [
    "z = complex(3,4)\n",
    "print(z)"
   ]
  },
  {
   "cell_type": "code",
   "execution_count": null,
   "metadata": {
    "colab": {
     "base_uri": "https://localhost:8080/"
    },
    "id": "u4EcRnjKo0RT",
    "outputId": "a53e7f4d-d1d9-4ba6-bae2-f5f70b4d7065"
   },
   "outputs": [
    {
     "name": "stdout",
     "output_type": "stream",
     "text": [
      "(3-4j)\n"
     ]
    }
   ],
   "source": [
    "print(z.conjugate())"
   ]
  },
  {
   "cell_type": "code",
   "execution_count": null,
   "metadata": {
    "autoscroll": "json-false",
    "colab": {
     "base_uri": "https://localhost:8080/"
    },
    "collapsed": false,
    "ein.tags": [
     "worksheet-0"
    ],
    "id": "vVzjSUtRa84a",
    "jupyter": {
     "outputs_hidden": false
    },
    "outputId": "a4b0063a-1e67-4a89-8742-a993607473ae"
   },
   "outputs": [
    {
     "data": {
      "text/plain": [
       "(8-1j)"
      ]
     },
     "execution_count": 19,
     "metadata": {},
     "output_type": "execute_result"
    }
   ],
   "source": [
    "(2 + 3j) * (1 - 2j)"
   ]
  },
  {
   "cell_type": "code",
   "execution_count": null,
   "metadata": {
    "autoscroll": "json-false",
    "colab": {
     "base_uri": "https://localhost:8080/"
    },
    "collapsed": false,
    "ein.tags": [
     "worksheet-0"
    ],
    "id": "Hx-juaeRa84a",
    "jupyter": {
     "outputs_hidden": false
    },
    "outputId": "302924f6-3a54-452e-a437-2ddc2a75df29"
   },
   "outputs": [
    {
     "data": {
      "text/plain": [
       "(-0.8+1.4j)"
      ]
     },
     "execution_count": 20,
     "metadata": {},
     "output_type": "execute_result"
    }
   ],
   "source": [
    "(2 + 3j) / (1 - 2j)"
   ]
  },
  {
   "cell_type": "code",
   "execution_count": null,
   "metadata": {
    "autoscroll": "json-false",
    "colab": {
     "base_uri": "https://localhost:8080/"
    },
    "collapsed": false,
    "ein.tags": [
     "worksheet-0"
    ],
    "id": "myjsvB2ka84b",
    "jupyter": {
     "outputs_hidden": false
    },
    "outputId": "a7d49b86-aed8-4b9b-a4c6-ffd7b6c272df"
   },
   "outputs": [
    {
     "data": {
      "text/plain": [
       "(-11-2j)"
      ]
     },
     "execution_count": 21,
     "metadata": {},
     "output_type": "execute_result"
    }
   ],
   "source": [
    "(1+2j)**3"
   ]
  },
  {
   "cell_type": "markdown",
   "metadata": {
    "ein.tags": [
     "worksheet-0"
    ],
    "id": "ltxhxzUea84b"
   },
   "source": [
    "Mas lembre-se que os números complexos que são representados usando números de ponto flutuante estão sujeitos e problemas de aproximação."
   ]
  },
  {
   "cell_type": "code",
   "execution_count": null,
   "metadata": {
    "autoscroll": "json-false",
    "colab": {
     "base_uri": "https://localhost:8080/"
    },
    "collapsed": false,
    "ein.tags": [
     "worksheet-0"
    ],
    "id": "PLAl8NiEa84b",
    "jupyter": {
     "outputs_hidden": false
    },
    "outputId": "8a403d32-a31e-41d6-adb2-062f0156b716"
   },
   "outputs": [
    {
     "data": {
      "text/plain": [
       "(6.123233995736766e-17+1j)"
      ]
     },
     "execution_count": 26,
     "metadata": {},
     "output_type": "execute_result"
    }
   ],
   "source": [
    "(-1.0)**(1/2)"
   ]
  },
  {
   "cell_type": "markdown",
   "metadata": {
    "id": "q2-OfpOza84b"
   },
   "source": [
    "Outra forma de representar um número complexo é pela função `complex`, que recebe a parte real e a parte imaginária:"
   ]
  },
  {
   "cell_type": "code",
   "execution_count": null,
   "metadata": {
    "colab": {
     "base_uri": "https://localhost:8080/"
    },
    "id": "tM7_Yt9Ta84b",
    "outputId": "9d907771-1fb4-46b5-8459-555788105720"
   },
   "outputs": [
    {
     "data": {
      "text/plain": [
       "1j"
      ]
     },
     "execution_count": 27,
     "metadata": {},
     "output_type": "execute_result"
    }
   ],
   "source": [
    "complex(0, 1)"
   ]
  },
  {
   "cell_type": "markdown",
   "metadata": {
    "ein.tags": [
     "worksheet-0"
    ],
    "id": "uRTDPyvoa84c"
   },
   "source": [
    "## 3. Operadores sobre números"
   ]
  },
  {
   "cell_type": "markdown",
   "metadata": {
    "id": "bZb2qZspa84c"
   },
   "source": [
    "### 3.1. Operações aritméticas"
   ]
  },
  {
   "cell_type": "markdown",
   "metadata": {
    "ein.tags": [
     "worksheet-0"
    ],
    "id": "pl_yS7OCa84c"
   },
   "source": [
    "Os operadores de adição, subtração e multiplicação funcionam em Python assim como em C, C++, Fortran e outras linguagens (levando em conta a diferença da precisão infinita dos inteiros)."
   ]
  },
  {
   "cell_type": "code",
   "execution_count": null,
   "metadata": {
    "autoscroll": "json-false",
    "colab": {
     "base_uri": "https://localhost:8080/"
    },
    "collapsed": false,
    "ein.tags": [
     "worksheet-0"
    ],
    "id": "KRhkZeeea84c",
    "jupyter": {
     "outputs_hidden": false
    },
    "outputId": "97fe81d8-8b9b-4b48-aada-1b09049d2653"
   },
   "outputs": [
    {
     "data": {
      "text/plain": [
       "4"
      ]
     },
     "execution_count": 28,
     "metadata": {},
     "output_type": "execute_result"
    }
   ],
   "source": [
    "2 + 2"
   ]
  },
  {
   "cell_type": "code",
   "execution_count": null,
   "metadata": {
    "autoscroll": "json-false",
    "colab": {
     "base_uri": "https://localhost:8080/"
    },
    "collapsed": false,
    "ein.tags": [
     "worksheet-0"
    ],
    "id": "UAZYdh0Wa84c",
    "jupyter": {
     "outputs_hidden": false
    },
    "outputId": "8aaeec26-0021-4cf1-bd1b-7d787c486bda"
   },
   "outputs": [
    {
     "data": {
      "text/plain": [
       "15"
      ]
     },
     "execution_count": 29,
     "metadata": {},
     "output_type": "execute_result"
    }
   ],
   "source": [
    "3 * 5"
   ]
  },
  {
   "cell_type": "code",
   "execution_count": null,
   "metadata": {
    "autoscroll": "json-false",
    "colab": {
     "base_uri": "https://localhost:8080/"
    },
    "collapsed": false,
    "ein.tags": [
     "worksheet-0"
    ],
    "id": "ztFwzLhya84d",
    "jupyter": {
     "outputs_hidden": false
    },
    "outputId": "89dbbb08-3793-43df-a259-6c93f225a493"
   },
   "outputs": [
    {
     "data": {
      "text/plain": [
       "-2"
      ]
     },
     "execution_count": 30,
     "metadata": {},
     "output_type": "execute_result"
    }
   ],
   "source": [
    "5 - 7"
   ]
  },
  {
   "cell_type": "code",
   "execution_count": null,
   "metadata": {
    "autoscroll": "json-false",
    "colab": {
     "base_uri": "https://localhost:8080/"
    },
    "collapsed": false,
    "ein.tags": [
     "worksheet-0"
    ],
    "id": "7SLo6Tlqa84d",
    "jupyter": {
     "outputs_hidden": false
    },
    "outputId": "86f9f66b-f051-42f0-a05f-9e55110d8b05"
   },
   "outputs": [
    {
     "data": {
      "text/plain": [
       "3.2000100000000002"
      ]
     },
     "execution_count": 31,
     "metadata": {},
     "output_type": "execute_result"
    }
   ],
   "source": [
    "3.2 + 1e-5"
   ]
  },
  {
   "cell_type": "markdown",
   "metadata": {
    "ein.tags": [
     "worksheet-0"
    ],
    "id": "svIICRkva84d"
   },
   "source": [
    "Já a divisão tem uma peculiaridade: O resultado da divisão é sempre um número de ponto flutuante, mesmo que os operandos sejam inteiros."
   ]
  },
  {
   "cell_type": "code",
   "execution_count": null,
   "metadata": {
    "autoscroll": "json-false",
    "colab": {
     "base_uri": "https://localhost:8080/"
    },
    "collapsed": false,
    "ein.tags": [
     "worksheet-0"
    ],
    "id": "TKih3UHia84d",
    "jupyter": {
     "outputs_hidden": false
    },
    "outputId": "98f914e2-7d8b-4b4d-8fa0-1d0e3367128b"
   },
   "outputs": [
    {
     "data": {
      "text/plain": [
       "2.0"
      ]
     },
     "execution_count": 32,
     "metadata": {},
     "output_type": "execute_result"
    }
   ],
   "source": [
    "4 / 2"
   ]
  },
  {
   "cell_type": "code",
   "execution_count": null,
   "metadata": {
    "autoscroll": "json-false",
    "colab": {
     "base_uri": "https://localhost:8080/"
    },
    "collapsed": false,
    "ein.tags": [
     "worksheet-0"
    ],
    "id": "OpFeDZkJa84d",
    "jupyter": {
     "outputs_hidden": false
    },
    "outputId": "9b17f6f9-e25e-48fa-a47a-e0074d97c663"
   },
   "outputs": [
    {
     "data": {
      "text/plain": [
       "1.4516129032258065"
      ]
     },
     "execution_count": 33,
     "metadata": {},
     "output_type": "execute_result"
    }
   ],
   "source": [
    "4.5 / 3.1"
   ]
  },
  {
   "cell_type": "markdown",
   "metadata": {
    "ein.tags": [
     "worksheet-0"
    ],
    "id": "jUNdeAVLa84e"
   },
   "source": [
    "Se quisermos a divisão inteira, devemos usar o operador `//`. Este operador retorna o resultado inteiro da divisão dos dois operandos."
   ]
  },
  {
   "cell_type": "code",
   "execution_count": null,
   "metadata": {
    "autoscroll": "json-false",
    "colab": {
     "base_uri": "https://localhost:8080/"
    },
    "collapsed": false,
    "ein.tags": [
     "worksheet-0"
    ],
    "id": "UCDF5d7Ia84e",
    "jupyter": {
     "outputs_hidden": false
    },
    "outputId": "38e26abb-2e74-4f47-ceb5-cd77cbee2588"
   },
   "outputs": [
    {
     "data": {
      "text/plain": [
       "2"
      ]
     },
     "execution_count": 34,
     "metadata": {},
     "output_type": "execute_result"
    }
   ],
   "source": [
    "5 // 2"
   ]
  },
  {
   "cell_type": "code",
   "execution_count": null,
   "metadata": {
    "autoscroll": "json-false",
    "colab": {
     "base_uri": "https://localhost:8080/"
    },
    "collapsed": false,
    "ein.tags": [
     "worksheet-0"
    ],
    "id": "71zvVuPPa84e",
    "jupyter": {
     "outputs_hidden": false
    },
    "outputId": "e7d066c2-3c3c-4bef-a74c-447fdb0b2a32"
   },
   "outputs": [
    {
     "data": {
      "text/plain": [
       "1.0"
      ]
     },
     "execution_count": 35,
     "metadata": {},
     "output_type": "execute_result"
    }
   ],
   "source": [
    "4.5 // 3.1"
   ]
  },
  {
   "cell_type": "code",
   "execution_count": null,
   "metadata": {
    "id": "pKNGCF88a84e"
   },
   "outputs": [],
   "source": []
  },
  {
   "cell_type": "markdown",
   "metadata": {
    "ein.tags": [
     "worksheet-0"
    ],
    "id": "hLUItxB4a84f"
   },
   "source": [
    "Mas tome cuidado quando um dos operandos é negativo:"
   ]
  },
  {
   "cell_type": "code",
   "execution_count": null,
   "metadata": {
    "autoscroll": "json-false",
    "colab": {
     "base_uri": "https://localhost:8080/"
    },
    "collapsed": false,
    "ein.tags": [
     "worksheet-0"
    ],
    "id": "O2Z6LKiSa84f",
    "jupyter": {
     "outputs_hidden": false
    },
    "outputId": "a365eb41-6b31-4021-d2b7-30389a37dde7"
   },
   "outputs": [
    {
     "data": {
      "text/plain": [
       "-2.5"
      ]
     },
     "execution_count": 36,
     "metadata": {},
     "output_type": "execute_result"
    }
   ],
   "source": [
    "-5 / 2"
   ]
  },
  {
   "cell_type": "code",
   "execution_count": null,
   "metadata": {
    "autoscroll": "json-false",
    "colab": {
     "base_uri": "https://localhost:8080/"
    },
    "collapsed": false,
    "ein.tags": [
     "worksheet-0"
    ],
    "id": "QLE3YYL3a84f",
    "jupyter": {
     "outputs_hidden": false
    },
    "outputId": "f7aff396-54c2-4e57-fa3f-6bb55d02e7c1"
   },
   "outputs": [
    {
     "data": {
      "text/plain": [
       "-3"
      ]
     },
     "execution_count": 37,
     "metadata": {},
     "output_type": "execute_result"
    }
   ],
   "source": [
    "-5 // 2"
   ]
  },
  {
   "cell_type": "markdown",
   "metadata": {
    "ein.tags": [
     "worksheet-0"
    ],
    "id": "4uYk42gqa84f"
   },
   "source": [
    "A explicação disso é que esse operador sempre arredonda para baixo (no exemplo acima, o inteiro imediatamente abaixo de -2.5 é -3). Isso funciona também no caso do denominador ser negativo."
   ]
  },
  {
   "cell_type": "code",
   "execution_count": null,
   "metadata": {
    "colab": {
     "base_uri": "https://localhost:8080/"
    },
    "id": "Mw-xl2hua84f",
    "outputId": "39e440a1-ab83-451c-c1a7-6026995589e2"
   },
   "outputs": [
    {
     "data": {
      "text/plain": [
       "-3"
      ]
     },
     "execution_count": 38,
     "metadata": {},
     "output_type": "execute_result"
    }
   ],
   "source": [
    "5 // -2"
   ]
  },
  {
   "cell_type": "code",
   "execution_count": null,
   "metadata": {
    "colab": {
     "base_uri": "https://localhost:8080/"
    },
    "id": "QTcoWGFCa84g",
    "outputId": "e73ba7f2-6274-4dd4-a2bb-c031c02941cc"
   },
   "outputs": [
    {
     "data": {
      "text/plain": [
       "2"
      ]
     },
     "execution_count": 39,
     "metadata": {},
     "output_type": "execute_result"
    }
   ],
   "source": [
    "-5 // -2"
   ]
  },
  {
   "cell_type": "markdown",
   "metadata": {
    "ein.tags": [
     "worksheet-0"
    ],
    "id": "2zWr44yna84g"
   },
   "source": [
    "Associado com a divisão inteira, existe o operador de resto de divisão, representado por `%`."
   ]
  },
  {
   "cell_type": "code",
   "execution_count": null,
   "metadata": {
    "autoscroll": "json-false",
    "colab": {
     "base_uri": "https://localhost:8080/"
    },
    "collapsed": false,
    "ein.tags": [
     "worksheet-0"
    ],
    "id": "UiEAZEKsa84g",
    "jupyter": {
     "outputs_hidden": false
    },
    "outputId": "8c5dae89-8bb2-4620-bee5-e8418db45a59"
   },
   "outputs": [
    {
     "data": {
      "text/plain": [
       "1"
      ]
     },
     "execution_count": 41,
     "metadata": {},
     "output_type": "execute_result"
    }
   ],
   "source": [
    "10 % 3"
   ]
  },
  {
   "cell_type": "markdown",
   "metadata": {
    "ein.tags": [
     "worksheet-0"
    ],
    "id": "60NB9aOLa84g"
   },
   "source": [
    "O resultado da operação de resto estará sempre entre 0 e o valor do denominador."
   ]
  },
  {
   "cell_type": "code",
   "execution_count": null,
   "metadata": {
    "autoscroll": "json-false",
    "colab": {
     "base_uri": "https://localhost:8080/"
    },
    "collapsed": false,
    "ein.tags": [
     "worksheet-0"
    ],
    "id": "pwY8Ydy_a84g",
    "jupyter": {
     "outputs_hidden": false
    },
    "outputId": "d04a5755-f378-40f9-df75-333f6cc57a10"
   },
   "outputs": [
    {
     "data": {
      "text/plain": [
       "1"
      ]
     },
     "execution_count": 40,
     "metadata": {},
     "output_type": "execute_result"
    }
   ],
   "source": [
    "-5 % 2"
   ]
  },
  {
   "cell_type": "code",
   "execution_count": null,
   "metadata": {
    "autoscroll": "json-false",
    "colab": {
     "base_uri": "https://localhost:8080/"
    },
    "collapsed": false,
    "ein.tags": [
     "worksheet-0"
    ],
    "id": "LLYKWR6ca84h",
    "jupyter": {
     "outputs_hidden": false
    },
    "outputId": "991e5dc1-4644-4471-f70b-caef73bfba09"
   },
   "outputs": [
    {
     "data": {
      "text/plain": [
       "-1"
      ]
     },
     "execution_count": 42,
     "metadata": {},
     "output_type": "execute_result"
    }
   ],
   "source": [
    "5 % -2"
   ]
  },
  {
   "cell_type": "markdown",
   "metadata": {
    "ein.tags": [
     "worksheet-0"
    ],
    "id": "LltBkBJna84h"
   },
   "source": [
    "Com essa regra, garante-se que `(a // b) * b + (a % b) == a`, como se espera matematicamente (quociente vezes denominador mais o resto dá o numerador)."
   ]
  },
  {
   "cell_type": "code",
   "execution_count": null,
   "metadata": {
    "autoscroll": "json-false",
    "colab": {
     "base_uri": "https://localhost:8080/"
    },
    "collapsed": false,
    "ein.tags": [
     "worksheet-0"
    ],
    "id": "kKd-iuoxa84h",
    "jupyter": {
     "outputs_hidden": false
    },
    "outputId": "eb43d50f-1e82-4e68-bd6a-0a03938661af"
   },
   "outputs": [
    {
     "data": {
      "text/plain": [
       "-3"
      ]
     },
     "execution_count": 43,
     "metadata": {},
     "output_type": "execute_result"
    }
   ],
   "source": [
    "5 // -2"
   ]
  },
  {
   "cell_type": "code",
   "execution_count": null,
   "metadata": {
    "autoscroll": "json-false",
    "colab": {
     "base_uri": "https://localhost:8080/"
    },
    "collapsed": false,
    "ein.tags": [
     "worksheet-0"
    ],
    "id": "7sOEBA9Oa84h",
    "jupyter": {
     "outputs_hidden": false
    },
    "outputId": "7ec85a33-08e6-4306-deb1-a3e7ec3fbca0"
   },
   "outputs": [
    {
     "data": {
      "text/plain": [
       "5"
      ]
     },
     "execution_count": 44,
     "metadata": {},
     "output_type": "execute_result"
    }
   ],
   "source": [
    "(5 // -2) * -2 + (5 % -2)"
   ]
  },
  {
   "cell_type": "markdown",
   "metadata": {
    "ein.tags": [
     "worksheet-0"
    ],
    "id": "b4yWNdfma84i"
   },
   "source": [
    "Um operador que Python tem e C não é o operador de exponenciação, denominado por `**`.\n",
    "\n",
    "Esse operador funciona para todos os tipos numéricos."
   ]
  },
  {
   "cell_type": "code",
   "execution_count": null,
   "metadata": {
    "colab": {
     "base_uri": "https://localhost:8080/"
    },
    "id": "PSWxvDfBa84i",
    "outputId": "577a4d49-8f78-4816-f70a-2e5b68d60382"
   },
   "outputs": [
    {
     "data": {
      "text/plain": [
       "1000"
      ]
     },
     "execution_count": 45,
     "metadata": {},
     "output_type": "execute_result"
    }
   ],
   "source": [
    "10 ** 3"
   ]
  },
  {
   "cell_type": "code",
   "execution_count": null,
   "metadata": {
    "autoscroll": "json-false",
    "colab": {
     "base_uri": "https://localhost:8080/"
    },
    "collapsed": false,
    "ein.tags": [
     "worksheet-0"
    ],
    "id": "CznQQKLZa84i",
    "jupyter": {
     "outputs_hidden": false
    },
    "outputId": "3276e901-fcab-440b-9f6b-44820e14de56"
   },
   "outputs": [
    {
     "data": {
      "text/plain": [
       "216.26268025493007"
      ]
     },
     "execution_count": 46,
     "metadata": {},
     "output_type": "execute_result"
    }
   ],
   "source": [
    "5.1 ** 3.3"
   ]
  },
  {
   "cell_type": "code",
   "execution_count": null,
   "metadata": {
    "colab": {
     "base_uri": "https://localhost:8080/"
    },
    "id": "gKol5AWJa84i",
    "outputId": "fc8e004f-ed13-4388-ce16-98ae3de477bb"
   },
   "outputs": [
    {
     "data": {
      "text/plain": [
       "(-3+4j)"
      ]
     },
     "execution_count": 47,
     "metadata": {},
     "output_type": "execute_result"
    }
   ],
   "source": [
    "(1 + 2j) ** 2"
   ]
  },
  {
   "cell_type": "code",
   "execution_count": null,
   "metadata": {
    "autoscroll": "json-false",
    "colab": {
     "base_uri": "https://localhost:8080/"
    },
    "collapsed": false,
    "ein.tags": [
     "worksheet-0"
    ],
    "id": "gS8o7BX1a84i",
    "jupyter": {
     "outputs_hidden": false
    },
    "outputId": "8375a3c9-ca51-4c01-efa2-b7c02979b015"
   },
   "outputs": [
    {
     "data": {
      "text/plain": [
       "1000000000000000000000000000000000000000000000000000000000000000000000000000000000000000000000000000000000000000000000000000000000000000000000000000000000000000000000000000000000000000000000000000000000000000000000000000000000000000000000000000000000000000000000000000000000000000000000000000000000000000000000000000000000000000000000000000000000000000000000000000000000000000000000000000000000000000000000000000000000000000000000000000000000000000000000000000000000000000000000000000000000000000000000000000000000000000000000000000000000000000000000000000000000000000000000000000000000000000000000000000000000000000000000000000000000000000000000000000000000000000000000000000000000000000000000000000000000000000000000000000000000000000000000000000000000000000000000000000000000000000000000000000000000000000000000000000000000000000000000000000000000000000000000000000000000000000000000000000000000000000000000000000000000000000000000000000000000000000000000000000000000000000000000000000000000000000000000000000000000000000000000000000000000000000000000000000000000000000000000000000000000000000000000000000000000000000000000000000000000000000000000000000000000000000000000000000000000000000000000000000000000000000000000000000000000000000000000000000000000000000000000000000000000000000000000000000000000000000000000000000000000000000000000000000000000000000000000000000000000000000000000000000000000000000000000000000000000000000000000000000000000000000000000000000000000000000000000000000000000000000000000000000000000000000000000000000000000000000000000000000000000000000000000000000000000000000000000000000000000000000000000000000000000000000000000000000000000000000000000000000000000000000000000000000000000000000000000000000000000000000000000000000000000000000000000000000000000000000000000000000000000000000000000000000000000000000000000000000000000000000000000000000000000000000000000000000000000000000000000000000000000000000000000000000000000000000000000000000000000000000000000000000000000000000000000000000000000000000000000000000000000000000000000000000000000000000000000000000000000000000000000000000000000000000000000000000000000000000000000000000000000000000000000000000000000000000000000000000000000000000000000000000000000000000000000000000000000000000000000000000000000000000000000000000000000000000000000000000000000000000000000000000000000000000000000000000000000000000000000000000000000000000000000000000000000000000000000000000000000000000000000000000000000000000000000000000000000000000000000000000000000000000000000000000000000000000000000000000000000000000000000000000000000000000000000000000000000000000000000000000000000000000000000000000000000000000000000000000000000000000000000000000000000000000000000000000000000000000000000000000000000000000000000000000000000000000000000000000000000000000000000000000000000000000000000000000000000000000000000000000000000000000000000000000000000000000000000000000000000000000000000000000000000000000000000000000000000000000000000000"
      ]
     },
     "execution_count": 48,
     "metadata": {},
     "output_type": "execute_result"
    }
   ],
   "source": [
    "1000**1000"
   ]
  },
  {
   "cell_type": "markdown",
   "metadata": {
    "ein.tags": [
     "worksheet-0"
    ],
    "id": "1H1dRoxGa84j"
   },
   "source": [
    "Também é permitido misturar tipos. O tipo do resultado depende dos tipos dos operandos."
   ]
  },
  {
   "cell_type": "code",
   "execution_count": null,
   "metadata": {
    "autoscroll": "json-false",
    "colab": {
     "base_uri": "https://localhost:8080/"
    },
    "collapsed": false,
    "ein.tags": [
     "worksheet-0"
    ],
    "id": "qRuBd2EJa84j",
    "jupyter": {
     "outputs_hidden": false
    },
    "outputId": "ce605a0e-7532-495c-e139-998ea24faaed"
   },
   "outputs": [
    {
     "data": {
      "text/plain": [
       "16"
      ]
     },
     "execution_count": 49,
     "metadata": {},
     "output_type": "execute_result"
    }
   ],
   "source": [
    "2**4"
   ]
  },
  {
   "cell_type": "code",
   "execution_count": null,
   "metadata": {
    "autoscroll": "json-false",
    "colab": {
     "base_uri": "https://localhost:8080/"
    },
    "collapsed": false,
    "ein.tags": [
     "worksheet-0"
    ],
    "id": "yyaga5DAa84j",
    "jupyter": {
     "outputs_hidden": false
    },
    "outputId": "a7fc152e-f6d1-482e-aac3-b93c26529b0b"
   },
   "outputs": [
    {
     "data": {
      "text/plain": [
       "16.0"
      ]
     },
     "execution_count": 50,
     "metadata": {},
     "output_type": "execute_result"
    }
   ],
   "source": [
    "2.0**4"
   ]
  },
  {
   "cell_type": "code",
   "execution_count": null,
   "metadata": {
    "autoscroll": "json-false",
    "colab": {
     "base_uri": "https://localhost:8080/"
    },
    "collapsed": false,
    "ein.tags": [
     "worksheet-0"
    ],
    "id": "ZmRznuMsa84j",
    "jupyter": {
     "outputs_hidden": false
    },
    "outputId": "0203b2c8-f48c-4b37-c966-12e9db48c8c0"
   },
   "outputs": [
    {
     "data": {
      "text/plain": [
       "16.0"
      ]
     },
     "execution_count": 51,
     "metadata": {},
     "output_type": "execute_result"
    }
   ],
   "source": [
    "2**4.0"
   ]
  },
  {
   "cell_type": "code",
   "execution_count": null,
   "metadata": {
    "autoscroll": "json-false",
    "colab": {
     "base_uri": "https://localhost:8080/"
    },
    "collapsed": false,
    "ein.tags": [
     "worksheet-0"
    ],
    "id": "xh0tbjXba84k",
    "jupyter": {
     "outputs_hidden": false
    },
    "outputId": "37cfe482-dcc5-481d-cf02-796b20590512"
   },
   "outputs": [
    {
     "data": {
      "text/plain": [
       "1.4142135623730951"
      ]
     },
     "execution_count": 52,
     "metadata": {},
     "output_type": "execute_result"
    }
   ],
   "source": [
    "2**(1/2)"
   ]
  },
  {
   "cell_type": "code",
   "execution_count": null,
   "metadata": {
    "colab": {
     "base_uri": "https://localhost:8080/"
    },
    "id": "48ufuHIya84k",
    "outputId": "fb35fbde-4b5b-4a81-d7cb-1964c27a3546"
   },
   "outputs": [
    {
     "data": {
      "text/plain": [
       "-2j"
      ]
     },
     "execution_count": 53,
     "metadata": {},
     "output_type": "execute_result"
    }
   ],
   "source": [
    "(1 - 1j)**2.0"
   ]
  },
  {
   "cell_type": "markdown",
   "metadata": {
    "id": "e0Yp3oPYa84k"
   },
   "source": [
    "### 3.2. Operações binárias"
   ]
  },
  {
   "cell_type": "markdown",
   "metadata": {
    "ein.tags": [
     "worksheet-0"
    ],
    "id": "mc4wTjZIa84k"
   },
   "source": [
    "Também temos operadores que realizam operações lógicas bit a bit. Isto é, **encaram os valores fornecidos como uma sequência de bits** e realizam a operação lógica **entre bits correspondentes**.\n",
    "\n",
    "Os operadores são `&` para a operação \"E\", `|` para \"OU\" e `^` para \"OU exclusivo\"."
   ]
  },
  {
   "cell_type": "code",
   "execution_count": null,
   "metadata": {
    "colab": {
     "base_uri": "https://localhost:8080/"
    },
    "id": "e5xVVFvVa84k",
    "outputId": "9a2ff296-d992-424f-e5be-b592849a201d"
   },
   "outputs": [
    {
     "data": {
      "text/plain": [
       "4"
      ]
     },
     "execution_count": 1,
     "metadata": {},
     "output_type": "execute_result"
    }
   ],
   "source": [
    "0b100 & 0b110  # mantém o que está em um E em outro"
   ]
  },
  {
   "cell_type": "code",
   "execution_count": null,
   "metadata": {
    "autoscroll": "json-false",
    "colab": {
     "base_uri": "https://localhost:8080/",
     "height": 35
    },
    "collapsed": false,
    "ein.tags": [
     "worksheet-0"
    ],
    "id": "8ckAtJz_a84l",
    "jupyter": {
     "outputs_hidden": false
    },
    "outputId": "65b4fdc1-e755-455b-948d-b409d2c83aef"
   },
   "outputs": [
    {
     "data": {
      "application/vnd.google.colaboratory.intrinsic+json": {
       "type": "string"
      },
      "text/plain": [
       "'0b100'"
      ]
     },
     "execution_count": 2,
     "metadata": {},
     "output_type": "execute_result"
    }
   ],
   "source": [
    "bin(0b100 & 0b110)"
   ]
  },
  {
   "cell_type": "markdown",
   "metadata": {
    "id": "K4y4aMfqa84l"
   },
   "source": [
    "Aqui usamos a função `bin` para mostrar a representação binária. Sem ela, o número seria impresso em representação decimal, como visto acima."
   ]
  },
  {
   "cell_type": "code",
   "execution_count": null,
   "metadata": {
    "colab": {
     "base_uri": "https://localhost:8080/"
    },
    "id": "AzMQjTmr4NyQ",
    "outputId": "6182622a-19f2-4941-bc26-d9c946f5b361"
   },
   "outputs": [
    {
     "data": {
      "text/plain": [
       "6"
      ]
     },
     "execution_count": 5,
     "metadata": {},
     "output_type": "execute_result"
    }
   ],
   "source": [
    "0b100 | 0b110  # basta estar em um dos dois para manter"
   ]
  },
  {
   "cell_type": "code",
   "execution_count": null,
   "metadata": {
    "autoscroll": "json-false",
    "colab": {
     "base_uri": "https://localhost:8080/",
     "height": 35
    },
    "collapsed": false,
    "ein.tags": [
     "worksheet-0"
    ],
    "id": "ZjtTnA3sa84l",
    "jupyter": {
     "outputs_hidden": false
    },
    "outputId": "42df8e85-8737-4a52-84a2-f5d6004d3fc4"
   },
   "outputs": [
    {
     "data": {
      "application/vnd.google.colaboratory.intrinsic+json": {
       "type": "string"
      },
      "text/plain": [
       "'0b110'"
      ]
     },
     "execution_count": 3,
     "metadata": {},
     "output_type": "execute_result"
    }
   ],
   "source": [
    "bin(0b100 | 0b110)"
   ]
  },
  {
   "cell_type": "code",
   "execution_count": null,
   "metadata": {
    "colab": {
     "base_uri": "https://localhost:8080/",
     "height": 35
    },
    "id": "CFI3jGWTa84l",
    "outputId": "552f1302-aa42-4f9e-f2cf-4e3c41e18b47"
   },
   "outputs": [
    {
     "data": {
      "application/vnd.google.colaboratory.intrinsic+json": {
       "type": "string"
      },
      "text/plain": [
       "'0b10'"
      ]
     },
     "execution_count": 4,
     "metadata": {},
     "output_type": "execute_result"
    }
   ],
   "source": [
    "bin(0b100 ^ 0b110)  # mantém apenas o que está ativo em um dos dois, se estiver ativo em ambos, retorna 0"
   ]
  },
  {
   "cell_type": "code",
   "execution_count": null,
   "metadata": {
    "colab": {
     "base_uri": "https://localhost:8080/"
    },
    "id": "c9jZxFB45ra1",
    "outputId": "a953e3f5-a3e2-4f96-be10-1d158d20e4de"
   },
   "outputs": [
    {
     "data": {
      "text/plain": [
       "2"
      ]
     },
     "execution_count": 6,
     "metadata": {},
     "output_type": "execute_result"
    }
   ],
   "source": [
    "0b100 ^ 0b110"
   ]
  },
  {
   "cell_type": "markdown",
   "metadata": {
    "ein.tags": [
     "worksheet-0"
    ],
    "id": "pmxTctVma84m"
   },
   "source": [
    "Também podemos fazer deslocamente do bits para a esquerda (`<<`) ou para a direita (`>>`), acrescentando zeros nas novas posições, descartando os bits que foram deslocados."
   ]
  },
  {
   "cell_type": "code",
   "execution_count": null,
   "metadata": {
    "colab": {
     "base_uri": "https://localhost:8080/"
    },
    "id": "YKSpRqrS7gGk",
    "outputId": "22a56cf5-b9d8-4f62-e719-7fdde91a1860"
   },
   "outputs": [
    {
     "data": {
      "text/plain": [
       "24"
      ]
     },
     "execution_count": 12,
     "metadata": {},
     "output_type": "execute_result"
    }
   ],
   "source": [
    "12 << 1"
   ]
  },
  {
   "cell_type": "code",
   "execution_count": null,
   "metadata": {
    "autoscroll": "json-false",
    "colab": {
     "base_uri": "https://localhost:8080/",
     "height": 35
    },
    "collapsed": false,
    "ein.tags": [
     "worksheet-0"
    ],
    "id": "_YKondMca84m",
    "jupyter": {
     "outputs_hidden": false
    },
    "outputId": "a71b6b81-bab9-4621-948d-254b1ae02204"
   },
   "outputs": [
    {
     "data": {
      "application/vnd.google.colaboratory.intrinsic+json": {
       "type": "string"
      },
      "text/plain": [
       "'0b10000'"
      ]
     },
     "execution_count": 7,
     "metadata": {},
     "output_type": "execute_result"
    }
   ],
   "source": [
    "bin(0b1 << 4)"
   ]
  },
  {
   "cell_type": "code",
   "execution_count": null,
   "metadata": {
    "autoscroll": "json-false",
    "colab": {
     "base_uri": "https://localhost:8080/",
     "height": 35
    },
    "collapsed": false,
    "ein.tags": [
     "worksheet-0"
    ],
    "id": "JJ02QvMDa84m",
    "jupyter": {
     "outputs_hidden": false
    },
    "outputId": "314426d2-2f82-44e0-9afe-b594bc3a4bb5"
   },
   "outputs": [
    {
     "data": {
      "application/vnd.google.colaboratory.intrinsic+json": {
       "type": "string"
      },
      "text/plain": [
       "'0b111011'"
      ]
     },
     "execution_count": 8,
     "metadata": {},
     "output_type": "execute_result"
    }
   ],
   "source": [
    "bin(0b111011001 >> 3)"
   ]
  },
  {
   "cell_type": "code",
   "execution_count": null,
   "metadata": {
    "colab": {
     "base_uri": "https://localhost:8080/"
    },
    "id": "lCkFP2Z56Ezj",
    "outputId": "40d5d0fe-6ed0-4746-aec3-556df91f20c4"
   },
   "outputs": [
    {
     "name": "stdout",
     "output_type": "stream",
     "text": [
      "12\n",
      "0b1100\n",
      "-13\n",
      "-0b1101\n"
     ]
    }
   ],
   "source": [
    "a = 12\n",
    "c = ~a \n",
    "print(a)\n",
    "print(bin(a))\n",
    "print(c)\n",
    "print(bin(c))"
   ]
  },
  {
   "cell_type": "markdown",
   "metadata": {
    "ein.tags": [
     "worksheet-0"
    ],
    "id": "hXQsXhRKa84m"
   },
   "source": [
    "Quando uma expressão tem mais do que um operador, as operações são realizadas seguindo a ordem matemática convencional (exponenciações, depois produtos ou divisões, depois somas ou subtrações). Em caso de empate, executa-se da esquerda para a direita."
   ]
  },
  {
   "cell_type": "code",
   "execution_count": null,
   "metadata": {
    "autoscroll": "json-false",
    "colab": {
     "base_uri": "https://localhost:8080/"
    },
    "collapsed": false,
    "ein.tags": [
     "worksheet-0"
    ],
    "id": "_h1nxyYma84n",
    "jupyter": {
     "outputs_hidden": false
    },
    "outputId": "29ad55a1-a1b8-4d00-e2d9-c580edff2d48"
   },
   "outputs": [
    {
     "data": {
      "text/plain": [
       "87"
      ]
     },
     "execution_count": 13,
     "metadata": {},
     "output_type": "execute_result"
    }
   ],
   "source": [
    "12 + 3 * 25"
   ]
  },
  {
   "cell_type": "code",
   "execution_count": null,
   "metadata": {
    "autoscroll": "json-false",
    "colab": {
     "base_uri": "https://localhost:8080/"
    },
    "collapsed": false,
    "ein.tags": [
     "worksheet-0"
    ],
    "id": "pFRlCmgYa84n",
    "jupyter": {
     "outputs_hidden": false
    },
    "outputId": "a5622b3b-486e-4045-d074-710f6d8c61d1"
   },
   "outputs": [
    {
     "data": {
      "text/plain": [
       "19"
      ]
     },
     "execution_count": 14,
     "metadata": {},
     "output_type": "execute_result"
    }
   ],
   "source": [
    "1 + 2 * 3 ** 2"
   ]
  },
  {
   "cell_type": "code",
   "execution_count": null,
   "metadata": {
    "autoscroll": "json-false",
    "colab": {
     "base_uri": "https://localhost:8080/"
    },
    "collapsed": false,
    "ein.tags": [
     "worksheet-0"
    ],
    "id": "3gURyaRoa84n",
    "jupyter": {
     "outputs_hidden": false
    },
    "outputId": "3474650c-ed7f-4688-897d-a0fa6750201b"
   },
   "outputs": [
    {
     "data": {
      "text/plain": [
       "1"
      ]
     },
     "execution_count": 15,
     "metadata": {},
     "output_type": "execute_result"
    }
   ],
   "source": [
    "2 + 3 - 4"
   ]
  },
  {
   "cell_type": "markdown",
   "metadata": {
    "id": "rVUmueLVa84n"
   },
   "source": [
    "### 3.3. Operações de comparação"
   ]
  },
  {
   "cell_type": "markdown",
   "metadata": {
    "id": "bbrIsz11a84o"
   },
   "source": [
    "Dados dois valores, podemos querer compará-los. A forma mais simples é verificar se eles são iguais (com o operador `==`) ou se eles são diferentes (com o operador `!=`)."
   ]
  },
  {
   "cell_type": "code",
   "execution_count": null,
   "metadata": {
    "colab": {
     "base_uri": "https://localhost:8080/"
    },
    "id": "Ro0HEpSJa84o",
    "outputId": "590c6bc4-dc07-4bab-b1ce-1486f96ba4ea"
   },
   "outputs": [
    {
     "data": {
      "text/plain": [
       "True"
      ]
     },
     "execution_count": 16,
     "metadata": {},
     "output_type": "execute_result"
    }
   ],
   "source": [
    "2 == 1 + 1"
   ]
  },
  {
   "cell_type": "markdown",
   "metadata": {
    "id": "c1lxsW3pa84o"
   },
   "source": [
    "O resultados das operações de comparação é do tipo `bool`, e pode ter dois valores `True` ou `False`."
   ]
  },
  {
   "cell_type": "code",
   "execution_count": null,
   "metadata": {
    "colab": {
     "base_uri": "https://localhost:8080/"
    },
    "id": "k_WPFvUXa84o",
    "outputId": "adf42040-01de-4ae0-8ad2-0c803123df4c"
   },
   "outputs": [
    {
     "data": {
      "text/plain": [
       "False"
      ]
     },
     "execution_count": 17,
     "metadata": {},
     "output_type": "execute_result"
    }
   ],
   "source": [
    "2 != 1 + 1"
   ]
  },
  {
   "cell_type": "code",
   "execution_count": null,
   "metadata": {
    "colab": {
     "base_uri": "https://localhost:8080/"
    },
    "id": "zQuYc9V-a84o",
    "outputId": "3495c047-98ff-46cf-a92a-d4485a3dff97"
   },
   "outputs": [
    {
     "data": {
      "text/plain": [
       "True"
      ]
     },
     "execution_count": 18,
     "metadata": {},
     "output_type": "execute_result"
    }
   ],
   "source": [
    "'abobora' == 'abo' + 'bora'"
   ]
  },
  {
   "cell_type": "markdown",
   "metadata": {
    "id": "OW9u0R-Da84p"
   },
   "source": [
    "Mas **tome extremo cuidado ao comparar números de ponto flutuante por igualdade ou desigualdade** (lembre-se da precisão):"
   ]
  },
  {
   "cell_type": "code",
   "execution_count": null,
   "metadata": {
    "colab": {
     "base_uri": "https://localhost:8080/"
    },
    "id": "F0Cy6QGIa84p",
    "outputId": "121a76e2-4c24-4c44-8a20-058807d50165"
   },
   "outputs": [
    {
     "data": {
      "text/plain": [
       "False"
      ]
     },
     "execution_count": 19,
     "metadata": {},
     "output_type": "execute_result"
    }
   ],
   "source": [
    "1.1 * 2 == 6.6 / 3"
   ]
  },
  {
   "cell_type": "code",
   "execution_count": null,
   "metadata": {
    "colab": {
     "base_uri": "https://localhost:8080/"
    },
    "id": "XYKb7xZka84p",
    "outputId": "f1ef3280-552a-4b06-d3fe-e20b62692228"
   },
   "outputs": [
    {
     "name": "stdout",
     "output_type": "stream",
     "text": [
      " 2.2000000000000001776\n",
      " 2.1999999999999997335\n"
     ]
    }
   ],
   "source": [
    "print(f'{1.1 * 2:22.20}')  # tudo que vem depois do : é sobre a formatação do numero\n",
    "print(f'{6.6 / 3:22.20}')  # :22.20 indica que quero que o número contenha 22 caracteres, sendo 20 deles da parte fracionária (da virgula em diante)\n",
    "\n",
    "# note que como o número 2 nao tem duas casas inteiras, ele coloca um espaço em branco "
   ]
  },
  {
   "cell_type": "markdown",
   "metadata": {
    "id": "L0ahyfiFa84p"
   },
   "source": [
    "Para alguns tipos de dados, são também definidos operadores de ordem: `<`, `>`, `<=` e `>=`:"
   ]
  },
  {
   "cell_type": "code",
   "execution_count": null,
   "metadata": {
    "colab": {
     "base_uri": "https://localhost:8080/"
    },
    "id": "f1eWauXya84p",
    "outputId": "d9c980ae-cbb6-4e71-85bf-46146034f253"
   },
   "outputs": [
    {
     "name": "stdout",
     "output_type": "stream",
     "text": [
      "True\n",
      "False\n",
      "True\n",
      "False\n"
     ]
    }
   ],
   "source": [
    "print(2.1 > 2.0)\n",
    "print(2.1 < 2.0)\n",
    "print(3 - 2 <= 4 - 3)\n",
    "print(6 / 3 >= 6 / 2.9)"
   ]
  },
  {
   "cell_type": "markdown",
   "metadata": {
    "id": "ILEjSQz-a84q"
   },
   "source": [
    "Também aqui precisamos tomar cuidado com números de ponto flutuante:"
   ]
  },
  {
   "cell_type": "code",
   "execution_count": null,
   "metadata": {
    "colab": {
     "base_uri": "https://localhost:8080/"
    },
    "id": "0kegmnrKa84q",
    "outputId": "9fc7508e-54be-40f0-a809-d3bcf002f3a2"
   },
   "outputs": [
    {
     "data": {
      "text/plain": [
       "True"
      ]
     },
     "execution_count": 14,
     "metadata": {},
     "output_type": "execute_result"
    }
   ],
   "source": [
    "0.1 + 0.1 + 0.1 > 0.3\n"
   ]
  },
  {
   "cell_type": "code",
   "execution_count": null,
   "metadata": {
    "colab": {
     "base_uri": "https://localhost:8080/"
    },
    "id": "fLfAD7IpA5qn",
    "outputId": "a8d3f1d8-5ade-4916-ae00-c7710aac7ce1"
   },
   "outputs": [
    {
     "name": "stdout",
     "output_type": "stream",
     "text": [
      "0.30000000000000004441\n"
     ]
    }
   ],
   "source": [
    "a = 0.1 + 0.1 + 0.1\n",
    "print(f'{a:22.20}')"
   ]
  },
  {
   "cell_type": "markdown",
   "metadata": {
    "id": "BE-FtrgNA8w-"
   },
   "source": [
    "Note então que por tratar-se de valores de ponto flutuante, estamos lidando com aproximações numéricas e, portanto, devemos especificar sua precisão e sempre manter em mente que nunca será o número exato. "
   ]
  },
  {
   "cell_type": "markdown",
   "metadata": {
    "id": "rZ9PnlDfa84q"
   },
   "source": [
    "### 3.4. Operadores lógicos"
   ]
  },
  {
   "cell_type": "markdown",
   "metadata": {
    "id": "wtAneljda84q"
   },
   "source": [
    "Sobre valores booleanos (`False` e `True`) podemos realizar operações lógicas, com os operadores `and`, `or` e `not`:"
   ]
  },
  {
   "cell_type": "markdown",
   "metadata": {
    "id": "spkX6iOqSIbB"
   },
   "source": [
    "- **and**: Retorna True se ambas as afirmações forem verdadeiras\n",
    "- **or**:  Retorna True se uma das afirmações for verdadeira\n",
    "- **not**: Retorna Falso se o resultado for verdadeiro"
   ]
  },
  {
   "cell_type": "code",
   "execution_count": null,
   "metadata": {
    "colab": {
     "base_uri": "https://localhost:8080/"
    },
    "id": "GVjbVLaEa84r",
    "outputId": "f9c3be12-1177-409f-ccef-20c38efca0b1"
   },
   "outputs": [
    {
     "data": {
      "text/plain": [
       "True"
      ]
     },
     "execution_count": 1,
     "metadata": {},
     "output_type": "execute_result"
    }
   ],
   "source": [
    "True and True"
   ]
  },
  {
   "cell_type": "code",
   "execution_count": null,
   "metadata": {
    "colab": {
     "base_uri": "https://localhost:8080/"
    },
    "id": "CrgwInlOa84r",
    "outputId": "cfb95099-8ffb-4952-f3ca-79c010c4c886"
   },
   "outputs": [
    {
     "data": {
      "text/plain": [
       "False"
      ]
     },
     "execution_count": 2,
     "metadata": {},
     "output_type": "execute_result"
    }
   ],
   "source": [
    "True and False"
   ]
  },
  {
   "cell_type": "code",
   "execution_count": null,
   "metadata": {
    "colab": {
     "base_uri": "https://localhost:8080/"
    },
    "id": "Gj1ANjFaa84r",
    "outputId": "37292d61-268e-4718-dd91-34caa05e7d81"
   },
   "outputs": [
    {
     "data": {
      "text/plain": [
       "True"
      ]
     },
     "execution_count": 3,
     "metadata": {},
     "output_type": "execute_result"
    }
   ],
   "source": [
    "(1 < 2) and (2 < 3)"
   ]
  },
  {
   "cell_type": "code",
   "execution_count": null,
   "metadata": {
    "colab": {
     "base_uri": "https://localhost:8080/"
    },
    "id": "ol0bNNRoa84r",
    "outputId": "8c3fd6a5-9de4-43cc-f724-ef76e4ac6439"
   },
   "outputs": [
    {
     "data": {
      "text/plain": [
       "False"
      ]
     },
     "execution_count": 4,
     "metadata": {},
     "output_type": "execute_result"
    }
   ],
   "source": [
    "(1 < 2) and (3 < 2)"
   ]
  },
  {
   "cell_type": "code",
   "execution_count": null,
   "metadata": {
    "colab": {
     "base_uri": "https://localhost:8080/"
    },
    "id": "HboFcQ-Na84r",
    "outputId": "55729241-249c-4e71-fc7e-71573e76a9b8"
   },
   "outputs": [
    {
     "data": {
      "text/plain": [
       "True"
      ]
     },
     "execution_count": 5,
     "metadata": {},
     "output_type": "execute_result"
    }
   ],
   "source": [
    "(1 < 2) or (3 < 2)"
   ]
  },
  {
   "cell_type": "code",
   "execution_count": null,
   "metadata": {
    "colab": {
     "base_uri": "https://localhost:8080/"
    },
    "id": "QOCsSnuMa84s",
    "outputId": "bbde2184-bc1b-49c0-f765-a836f68dbe84"
   },
   "outputs": [
    {
     "data": {
      "text/plain": [
       "True"
      ]
     },
     "execution_count": 6,
     "metadata": {},
     "output_type": "execute_result"
    }
   ],
   "source": [
    "(1 < 2) and not (3 < 2)"
   ]
  },
  {
   "cell_type": "code",
   "execution_count": null,
   "metadata": {
    "colab": {
     "base_uri": "https://localhost:8080/"
    },
    "id": "yXELtOgYa84s",
    "outputId": "d6b4a5be-9044-4cf6-8939-4af2fa0e959e"
   },
   "outputs": [
    {
     "data": {
      "text/plain": [
       "False"
      ]
     },
     "execution_count": 7,
     "metadata": {},
     "output_type": "execute_result"
    }
   ],
   "source": [
    "not (1 < 2) or (3 < 2)"
   ]
  },
  {
   "cell_type": "markdown",
   "metadata": {
    "id": "bDsSMBUVa84s"
   },
   "source": [
    "#### 3.4.1. Curto-circuito"
   ]
  },
  {
   "cell_type": "markdown",
   "metadata": {
    "id": "_Vf-zuHGa84t"
   },
   "source": [
    "Os operadores `and` e `or` operam com \"curto-circuito\". Com isso queremos dizer que, *assim que o valor resultante é conhecido, nenhuma outra operação é realizada*. Por exemplo, na expressão:"
   ]
  },
  {
   "cell_type": "code",
   "execution_count": null,
   "metadata": {
    "colab": {
     "base_uri": "https://localhost:8080/"
    },
    "id": "3WAo-Ftva84t",
    "outputId": "f05049a3-c75b-4018-a546-4940cdb201be"
   },
   "outputs": [
    {
     "data": {
      "text/plain": [
       "False"
      ]
     },
     "execution_count": 8,
     "metadata": {},
     "output_type": "execute_result"
    }
   ],
   "source": [
    "(1 > 2) and (2 < 4)"
   ]
  },
  {
   "cell_type": "markdown",
   "metadata": {
    "id": "PvRECF5ka84t"
   },
   "source": [
    "a comparação `2 < 4` não é realizada, pois como `1 > 2` é `False` e um `and` é sempre `False` se qualquer de seus operandos é falso, então a avaliação de `1 > 2` já permite definir o resultado. No caso da expressão seguinte:"
   ]
  },
  {
   "cell_type": "code",
   "execution_count": null,
   "metadata": {
    "colab": {
     "base_uri": "https://localhost:8080/"
    },
    "id": "Fa2Kvn1ba84t",
    "outputId": "52d0e3f3-c930-426c-f908-695b5c41d2c5"
   },
   "outputs": [
    {
     "data": {
      "text/plain": [
       "True"
      ]
     },
     "execution_count": 11,
     "metadata": {},
     "output_type": "execute_result"
    }
   ],
   "source": [
    "(1 > 2) or (2 < 4)"
   ]
  },
  {
   "cell_type": "markdown",
   "metadata": {
    "id": "qQp9ULmsa84t"
   },
   "source": [
    "a comparação `2 < 4` precisa ser realizada, pois um `or` só é falso se *todos* os seus operandos forem `False`. Já na operação abaixo:"
   ]
  },
  {
   "cell_type": "code",
   "execution_count": null,
   "metadata": {
    "colab": {
     "base_uri": "https://localhost:8080/"
    },
    "id": "k_70HTZBa84u",
    "outputId": "b19d6128-b9fb-4fb5-e3dc-3dc7d7a21590"
   },
   "outputs": [
    {
     "data": {
      "text/plain": [
       "True"
      ]
     },
     "execution_count": 10,
     "metadata": {},
     "output_type": "execute_result"
    }
   ],
   "source": [
    "(1 < 2) or (2 < 4)"
   ]
  },
  {
   "cell_type": "markdown",
   "metadata": {
    "id": "foMODLC6a84u"
   },
   "source": [
    "a comparação `2 < 4` não precisa ser realizada, pois o `1 < 2` já é `True`, o que nos permite concluir que a expressão do `or` vai ter resultado `True`.\n",
    "\n",
    "Nos exemplos acima não fica claro a vantagem disso, mas na prática esse comportamento é bastante conveniente em diversas situações."
   ]
  },
  {
   "cell_type": "markdown",
   "metadata": {
    "ein.tags": [
     "worksheet-0"
    ],
    "id": "_rTGuZ8Ia84u"
   },
   "source": [
    "# 4. Conversões de tipos"
   ]
  },
  {
   "cell_type": "markdown",
   "metadata": {
    "ein.tags": [
     "worksheet-0"
    ],
    "id": "CednS5Fxa84v"
   },
   "source": [
    "**Não é possível realizar operações aritméticas (e outras) diretamente sobre tipos diferentes**. Considere como exemplo a soma. Uma soma de números em complemento de dois é completamente diferente de uma soma de ponto flutuante. Se temos um número de cada tipo para somar, precisamos primeiro fazer com com os dois números sejam do mesmo tipo, e para isso realizamos uma **conversão de tipo**.\n",
    "\n",
    "O Python é capaz de fazer algumas conversões **automaticamente**, para permitir expressões naturais:"
   ]
  },
  {
   "cell_type": "code",
   "execution_count": null,
   "metadata": {
    "colab": {
     "base_uri": "https://localhost:8080/"
    },
    "id": "dNAeEFdYa84v",
    "outputId": "f56252d2-1c00-4c77-bce9-9677703026c1"
   },
   "outputs": [
    {
     "data": {
      "text/plain": [
       "3.1"
      ]
     },
     "execution_count": 12,
     "metadata": {},
     "output_type": "execute_result"
    }
   ],
   "source": [
    "1 + 2.1"
   ]
  },
  {
   "cell_type": "markdown",
   "metadata": {
    "ein.tags": [
     "worksheet-0"
    ],
    "id": "W7I5-WDda84v"
   },
   "source": [
    "Quando misturamos um `int` com um `float`, o Python converte o `int` para `float`, e então realiza a operação de ponto flutuante. Isso é chamado uma **conversão implícita**.\n",
    "\n",
    "Se quisermos outro comportamento, por exemplo, queremos que a soma seja de inteiros em uma mistura de `float` com `int`, então precisamos de uma **conversão explícita**. É possível fazer conversão explícita entre os tipos. Para isso, usamos o nome do tipo como se fosse uma função:"
   ]
  },
  {
   "cell_type": "code",
   "execution_count": null,
   "metadata": {
    "autoscroll": "json-false",
    "colab": {
     "base_uri": "https://localhost:8080/"
    },
    "collapsed": false,
    "ein.tags": [
     "worksheet-0"
    ],
    "id": "HiCRUiFCa84v",
    "jupyter": {
     "outputs_hidden": false
    },
    "outputId": "99286764-b68d-47de-89d3-a68ce393626c"
   },
   "outputs": [
    {
     "data": {
      "text/plain": [
       "2"
      ]
     },
     "execution_count": 13,
     "metadata": {},
     "output_type": "execute_result"
    }
   ],
   "source": [
    "int(2)"
   ]
  },
  {
   "cell_type": "code",
   "execution_count": null,
   "metadata": {
    "colab": {
     "base_uri": "https://localhost:8080/"
    },
    "id": "j_5wR13Ua84w",
    "outputId": "cf42fade-593a-43c8-894d-aca46a3c8706"
   },
   "outputs": [
    {
     "data": {
      "text/plain": [
       "3"
      ]
     },
     "execution_count": 14,
     "metadata": {},
     "output_type": "execute_result"
    }
   ],
   "source": [
    "1 + int(2.1)"
   ]
  },
  {
   "cell_type": "code",
   "execution_count": null,
   "metadata": {
    "autoscroll": "json-false",
    "colab": {
     "base_uri": "https://localhost:8080/"
    },
    "collapsed": false,
    "ein.tags": [
     "worksheet-0"
    ],
    "id": "wYy9RkaPa84w",
    "jupyter": {
     "outputs_hidden": false
    },
    "outputId": "4267ecd9-5612-4384-a9d0-50160734ca5d"
   },
   "outputs": [
    {
     "data": {
      "text/plain": [
       "1"
      ]
     },
     "execution_count": 15,
     "metadata": {},
     "output_type": "execute_result"
    }
   ],
   "source": [
    "int(3.0/2.0)"
   ]
  },
  {
   "cell_type": "markdown",
   "metadata": {
    "id": "e8mw-7AQa84w"
   },
   "source": [
    "Diferente da divisão inteira (operador `//`), que arredonda os resultados para baixo, a conversão para inteiro descarta a parte fracionária."
   ]
  },
  {
   "cell_type": "code",
   "execution_count": null,
   "metadata": {
    "colab": {
     "base_uri": "https://localhost:8080/"
    },
    "id": "-yZoTJFoNqaX",
    "outputId": "7d5857c3-6ba9-4939-9623-eb6e95cc63c4"
   },
   "outputs": [
    {
     "data": {
      "text/plain": [
       "1.0"
      ]
     },
     "execution_count": 18,
     "metadata": {},
     "output_type": "execute_result"
    }
   ],
   "source": [
    "3.0//2.0"
   ]
  },
  {
   "cell_type": "code",
   "execution_count": null,
   "metadata": {
    "colab": {
     "base_uri": "https://localhost:8080/"
    },
    "id": "_8oClR1Ta84w",
    "outputId": "16598f38-18e9-444c-f486-75a69969ee60"
   },
   "outputs": [
    {
     "data": {
      "text/plain": [
       "-2.0"
      ]
     },
     "execution_count": 16,
     "metadata": {},
     "output_type": "execute_result"
    }
   ],
   "source": [
    "-3.0 // 2.0"
   ]
  },
  {
   "cell_type": "code",
   "execution_count": null,
   "metadata": {
    "colab": {
     "base_uri": "https://localhost:8080/"
    },
    "collapsed": false,
    "id": "BEQ3-4D1a84w",
    "jupyter": {
     "outputs_hidden": false
    },
    "outputId": "66af7c7b-9944-4a86-e0b6-afed260b8c0a"
   },
   "outputs": [
    {
     "data": {
      "text/plain": [
       "-1"
      ]
     },
     "execution_count": 17,
     "metadata": {},
     "output_type": "execute_result"
    }
   ],
   "source": [
    "int(-3.0/2.0)"
   ]
  },
  {
   "cell_type": "code",
   "execution_count": null,
   "metadata": {
    "autoscroll": "json-false",
    "colab": {
     "base_uri": "https://localhost:8080/"
    },
    "collapsed": false,
    "ein.tags": [
     "worksheet-0"
    ],
    "id": "grPCSG56a84x",
    "jupyter": {
     "outputs_hidden": false
    },
    "outputId": "a825ddeb-25c2-43b9-bbcc-8215bf078873"
   },
   "outputs": [
    {
     "data": {
      "text/plain": [
       "2.0"
      ]
     },
     "execution_count": 19,
     "metadata": {},
     "output_type": "execute_result"
    }
   ],
   "source": [
    "float(2)"
   ]
  },
  {
   "cell_type": "code",
   "execution_count": null,
   "metadata": {
    "autoscroll": "json-false",
    "colab": {
     "base_uri": "https://localhost:8080/"
    },
    "collapsed": false,
    "ein.tags": [
     "worksheet-0"
    ],
    "id": "PSlu1KP_a84x",
    "jupyter": {
     "outputs_hidden": false
    },
    "outputId": "93fb8f6e-0c53-4704-8184-a7cbc6ed6394"
   },
   "outputs": [
    {
     "data": {
      "text/plain": [
       "1073741824.0"
      ]
     },
     "execution_count": 20,
     "metadata": {},
     "output_type": "execute_result"
    }
   ],
   "source": [
    "float(2 ** 30)"
   ]
  },
  {
   "cell_type": "code",
   "execution_count": null,
   "metadata": {
    "autoscroll": "json-false",
    "colab": {
     "base_uri": "https://localhost:8080/"
    },
    "collapsed": false,
    "ein.tags": [
     "worksheet-0"
    ],
    "id": "bi8IQKpxa84x",
    "jupyter": {
     "outputs_hidden": false
    },
    "outputId": "7583f7db-fb6c-4cd3-9465-a903f3d5f9e4"
   },
   "outputs": [
    {
     "data": {
      "text/plain": [
       "1125899906842624.0"
      ]
     },
     "execution_count": 21,
     "metadata": {},
     "output_type": "execute_result"
    }
   ],
   "source": [
    "float(2 ** 50)"
   ]
  },
  {
   "cell_type": "markdown",
   "metadata": {
    "id": "CDkTPhKQa84x"
   },
   "source": [
    "Podemos converter um `int` ou um `float` para um `complex` usando a função `complex` com apenas um parâmetro."
   ]
  },
  {
   "cell_type": "code",
   "execution_count": null,
   "metadata": {
    "autoscroll": "json-false",
    "colab": {
     "base_uri": "https://localhost:8080/"
    },
    "collapsed": false,
    "ein.tags": [
     "worksheet-0"
    ],
    "id": "wzhdgdh7a84y",
    "jupyter": {
     "outputs_hidden": false
    },
    "outputId": "db0ffad6-402e-4c41-f0d4-1867d2d2ef32"
   },
   "outputs": [
    {
     "data": {
      "text/plain": [
       "(2+0j)"
      ]
     },
     "execution_count": 22,
     "metadata": {},
     "output_type": "execute_result"
    }
   ],
   "source": [
    "complex(2)"
   ]
  },
  {
   "cell_type": "markdown",
   "metadata": {
    "id": "AP_pswLwa84y"
   },
   "source": [
    "O valor fornecido é considerado a parte real.\n",
    "\n",
    "Outra situação onde queremos conversão explícita é quando não existe conversão implícita:"
   ]
  },
  {
   "cell_type": "code",
   "execution_count": null,
   "metadata": {
    "colab": {
     "base_uri": "https://localhost:8080/",
     "height": 167
    },
    "id": "u--pvHFka84z",
    "outputId": "29ed947b-99ba-486c-f0a2-49bd14ac7b8a"
   },
   "outputs": [
    {
     "ename": "TypeError",
     "evalue": "ignored",
     "output_type": "error",
     "traceback": [
      "\u001b[0;31m---------------------------------------------------------------------------\u001b[0m",
      "\u001b[0;31mTypeError\u001b[0m                                 Traceback (most recent call last)",
      "\u001b[0;32m<ipython-input-23-cb7afbc27288>\u001b[0m in \u001b[0;36m<module>\u001b[0;34m\u001b[0m\n\u001b[0;32m----> 1\u001b[0;31m \u001b[0;36m10\u001b[0m \u001b[0;34m+\u001b[0m \u001b[0;34m'20'\u001b[0m\u001b[0;34m\u001b[0m\u001b[0;34m\u001b[0m\u001b[0m\n\u001b[0m",
      "\u001b[0;31mTypeError\u001b[0m: unsupported operand type(s) for +: 'int' and 'str'"
     ]
    }
   ],
   "source": [
    "10 + '20'"
   ]
  },
  {
   "cell_type": "code",
   "execution_count": null,
   "metadata": {
    "colab": {
     "base_uri": "https://localhost:8080/"
    },
    "id": "dtCaDvFqa84z",
    "outputId": "d2940a8b-ba64-4500-8e14-4732a6f67de3"
   },
   "outputs": [
    {
     "data": {
      "text/plain": [
       "30"
      ]
     },
     "execution_count": 24,
     "metadata": {},
     "output_type": "execute_result"
    }
   ],
   "source": [
    "10 + int('20')"
   ]
  },
  {
   "cell_type": "code",
   "execution_count": null,
   "metadata": {
    "colab": {
     "base_uri": "https://localhost:8080/"
    },
    "id": "4kmIHRkFa84z",
    "outputId": "91d3255d-9917-44ab-b152-e73de1949e88"
   },
   "outputs": [
    {
     "data": {
      "text/plain": [
       "2.469"
      ]
     },
     "execution_count": 25,
     "metadata": {},
     "output_type": "execute_result"
    }
   ],
   "source": [
    "float('1.2345') * 2"
   ]
  },
  {
   "cell_type": "markdown",
   "metadata": {
    "id": "ShJqGhlMa84z"
   },
   "source": [
    "No caso específico de conversão de `str` para valores numéricos, se a cadeia fornecida não representa um valor válido do tipo teremos um erro:"
   ]
  },
  {
   "cell_type": "code",
   "execution_count": null,
   "metadata": {
    "colab": {
     "base_uri": "https://localhost:8080/",
     "height": 167
    },
    "id": "0fKe5rHya84z",
    "outputId": "51890cdf-b20a-4e99-a249-2752f6ac6b4b"
   },
   "outputs": [
    {
     "ename": "ValueError",
     "evalue": "ignored",
     "output_type": "error",
     "traceback": [
      "\u001b[0;31m---------------------------------------------------------------------------\u001b[0m",
      "\u001b[0;31mValueError\u001b[0m                                Traceback (most recent call last)",
      "\u001b[0;32m<ipython-input-26-1e11daa61250>\u001b[0m in \u001b[0;36m<module>\u001b[0;34m\u001b[0m\n\u001b[0;32m----> 1\u001b[0;31m \u001b[0mint\u001b[0m\u001b[0;34m(\u001b[0m\u001b[0;34m'abc'\u001b[0m\u001b[0;34m)\u001b[0m\u001b[0;34m\u001b[0m\u001b[0;34m\u001b[0m\u001b[0m\n\u001b[0m",
      "\u001b[0;31mValueError\u001b[0m: invalid literal for int() with base 10: 'abc'"
     ]
    }
   ],
   "source": [
    "int('abc')"
   ]
  },
  {
   "cell_type": "code",
   "execution_count": null,
   "metadata": {
    "colab": {
     "base_uri": "https://localhost:8080/",
     "height": 167
    },
    "id": "5xtDpC_la840",
    "outputId": "4f33e508-cc93-42b0-f6f5-8c5adb2d6d7e"
   },
   "outputs": [
    {
     "ename": "ValueError",
     "evalue": "ignored",
     "output_type": "error",
     "traceback": [
      "\u001b[0;31m---------------------------------------------------------------------------\u001b[0m",
      "\u001b[0;31mValueError\u001b[0m                                Traceback (most recent call last)",
      "\u001b[0;32m<ipython-input-27-24a9bf77383c>\u001b[0m in \u001b[0;36m<module>\u001b[0;34m\u001b[0m\n\u001b[0;32m----> 1\u001b[0;31m \u001b[0mint\u001b[0m\u001b[0;34m(\u001b[0m\u001b[0;34m'3.2'\u001b[0m\u001b[0;34m)\u001b[0m\u001b[0;34m\u001b[0m\u001b[0;34m\u001b[0m\u001b[0m\n\u001b[0m",
      "\u001b[0;31mValueError\u001b[0m: invalid literal for int() with base 10: '3.2'"
     ]
    }
   ],
   "source": [
    "int('3.2')"
   ]
  },
  {
   "cell_type": "markdown",
   "metadata": {
    "id": "u25Gdc-Ja840"
   },
   "source": [
    "Outro caso é quando a operação especificada entre tipos diferentes existe, mas não faz o que queremos:"
   ]
  },
  {
   "cell_type": "code",
   "execution_count": null,
   "metadata": {
    "colab": {
     "base_uri": "https://localhost:8080/",
     "height": 35
    },
    "id": "s8BR-NrTa840",
    "outputId": "77d24e18-a5fe-4ee1-cadd-fbb16da44d15"
   },
   "outputs": [
    {
     "data": {
      "application/vnd.google.colaboratory.intrinsic+json": {
       "type": "string"
      },
      "text/plain": [
       "'12121212'"
      ]
     },
     "execution_count": 28,
     "metadata": {},
     "output_type": "execute_result"
    }
   ],
   "source": [
    "'12' * 4"
   ]
  },
  {
   "cell_type": "code",
   "execution_count": null,
   "metadata": {
    "id": "WJ7xuTcea840"
   },
   "outputs": [],
   "source": [
    "int('12') * 4"
   ]
  },
  {
   "cell_type": "markdown",
   "metadata": {
    "ein.tags": [
     "worksheet-0"
    ],
    "id": "MF4lenL9a840"
   },
   "source": [
    "Mas cuidado com as limitações da precisão ao fazer conversão!"
   ]
  },
  {
   "cell_type": "code",
   "execution_count": null,
   "metadata": {
    "autoscroll": "json-false",
    "colab": {
     "base_uri": "https://localhost:8080/"
    },
    "collapsed": false,
    "ein.tags": [
     "worksheet-0"
    ],
    "id": "rvzDAsgna841",
    "jupyter": {
     "outputs_hidden": false
    },
    "outputId": "045eac12-b794-474c-aace-5d803be1e0f5"
   },
   "outputs": [
    {
     "data": {
      "text/plain": [
       "717897987691852588770249"
      ]
     },
     "execution_count": 29,
     "metadata": {},
     "output_type": "execute_result"
    }
   ],
   "source": [
    "3 ** 50"
   ]
  },
  {
   "cell_type": "code",
   "execution_count": null,
   "metadata": {
    "autoscroll": "json-false",
    "colab": {
     "base_uri": "https://localhost:8080/"
    },
    "collapsed": false,
    "ein.tags": [
     "worksheet-0"
    ],
    "id": "4Z97mdS-a841",
    "jupyter": {
     "outputs_hidden": false
    },
    "outputId": "2a3877e3-f44d-4e9e-a568-baee31101235"
   },
   "outputs": [
    {
     "name": "stdout",
     "output_type": "stream",
     "text": [
      "717897987691852578422784.0\n"
     ]
    }
   ],
   "source": [
    "print(f'{float(3 ** 50):26.25}')"
   ]
  },
  {
   "cell_type": "markdown",
   "metadata": {
    "id": "RHuUrTN_a842"
   },
   "source": [
    "Uma conversão implícita é importante: a conversão de diversos tipos para `bool`: Se o Python espera um `bool` e encontra um objeto de outro tipo, ele vai tentar converter o valor desse objeto para `bool`. Em geral, valores \"nulos\" são considerados `False`, enquanto outros valores são `True`."
   ]
  },
  {
   "cell_type": "markdown",
   "metadata": {
    "id": "5c5TqH5OTA6B"
   },
   "source": [
    "### Analisando operadores aplicados em booleanos\n",
    "\n",
    "Em Python, o operador \"and\" é um operador lógico que retorna o primeiro operando se o primeiro operando for falso (False), caso contrário, retorna o segundo operando.\n",
    "Quando você usa o operador \"and\" entre dois valores, o Python avalia o primeiro operando. Se o primeiro operando for avaliado como falso, o Python retorna o primeiro operando. Caso contrário, o Python avalia e retorna o segundo operando."
   ]
  },
  {
   "cell_type": "markdown",
   "metadata": {
    "id": "XQy72j7FTFNQ"
   },
   "source": [
    "- No caso de **True and 1**, o valor de True é avaliado como verdadeiro (True) e, portanto, o Python avalia o segundo operando, que é o valor 1. Como 1 é avaliado como verdadeiro (True) em Python, o resultado da expressão é o segundo operando, que é 1."
   ]
  },
  {
   "cell_type": "code",
   "execution_count": null,
   "metadata": {
    "colab": {
     "base_uri": "https://localhost:8080/"
    },
    "id": "TdHxii35a842",
    "outputId": "07acff1d-adf8-40b7-940d-aa9039cf1408"
   },
   "outputs": [
    {
     "data": {
      "text/plain": [
       "True"
      ]
     },
     "execution_count": 31,
     "metadata": {},
     "output_type": "execute_result"
    }
   ],
   "source": [
    "True and True "
   ]
  },
  {
   "cell_type": "code",
   "execution_count": null,
   "metadata": {
    "colab": {
     "base_uri": "https://localhost:8080/"
    },
    "id": "0ju7TipEa843",
    "outputId": "5fd236fa-fd44-4ce6-aa34-9124d1c74ce3"
   },
   "outputs": [
    {
     "data": {
      "text/plain": [
       "True"
      ]
     },
     "execution_count": 32,
     "metadata": {},
     "output_type": "execute_result"
    }
   ],
   "source": [
    "1 and True"
   ]
  },
  {
   "cell_type": "markdown",
   "metadata": {
    "id": "3wHe5kVlTVjR"
   },
   "source": [
    "\n",
    "- No caso de **1 and True**, o primeiro valor é True então o python avalia o segundo valor. Como 'True' é True, ele retorna esse segundo valor"
   ]
  },
  {
   "cell_type": "code",
   "execution_count": null,
   "metadata": {
    "colab": {
     "base_uri": "https://localhost:8080/"
    },
    "id": "Imx9wmK4a843",
    "outputId": "735434a5-3e26-4a89-b9d7-5557aef8ed71"
   },
   "outputs": [
    {
     "data": {
      "text/plain": [
       "1"
      ]
     },
     "execution_count": 16,
     "metadata": {},
     "output_type": "execute_result"
    }
   ],
   "source": [
    "True and 1 "
   ]
  },
  {
   "cell_type": "code",
   "execution_count": null,
   "metadata": {
    "colab": {
     "base_uri": "https://localhost:8080/"
    },
    "id": "DUHDaGs0a843",
    "outputId": "787687ff-e2dd-41db-8392-9240bcd15b1d"
   },
   "outputs": [
    {
     "data": {
      "text/plain": [
       "0"
      ]
     },
     "execution_count": 34,
     "metadata": {},
     "output_type": "execute_result"
    }
   ],
   "source": [
    "0 and True"
   ]
  },
  {
   "cell_type": "markdown",
   "metadata": {
    "id": "-pl2KPRCT3bg"
   },
   "source": [
    "No python zero é tomado como false, enquanto qualquer outro valor diferente como true"
   ]
  },
  {
   "cell_type": "code",
   "execution_count": null,
   "metadata": {
    "colab": {
     "base_uri": "https://localhost:8080/"
    },
    "id": "aQe-6tsmXCUl",
    "outputId": "c8d14dc4-be47-4340-accc-2aeb205f42d7"
   },
   "outputs": [
    {
     "data": {
      "text/plain": [
       "True"
      ]
     },
     "execution_count": 36,
     "metadata": {},
     "output_type": "execute_result"
    }
   ],
   "source": [
    "-1 and True"
   ]
  },
  {
   "cell_type": "code",
   "execution_count": null,
   "metadata": {
    "colab": {
     "base_uri": "https://localhost:8080/"
    },
    "id": "8hukkdAga843",
    "outputId": "9903d53b-0fd7-414c-f2a4-8205af9d3342"
   },
   "outputs": [
    {
     "data": {
      "text/plain": [
       "0"
      ]
     },
     "execution_count": 35,
     "metadata": {},
     "output_type": "execute_result"
    }
   ],
   "source": [
    "True and 0"
   ]
  },
  {
   "cell_type": "code",
   "execution_count": null,
   "metadata": {
    "colab": {
     "base_uri": "https://localhost:8080/"
    },
    "id": "TDlqmED4a843",
    "outputId": "c8574f36-0753-47f2-e6bf-1921a530ed6d"
   },
   "outputs": [
    {
     "data": {
      "text/plain": [
       "1"
      ]
     },
     "execution_count": 34,
     "metadata": {},
     "output_type": "execute_result"
    }
   ],
   "source": [
    "False or 1  "
   ]
  },
  {
   "cell_type": "code",
   "execution_count": null,
   "metadata": {
    "colab": {
     "base_uri": "https://localhost:8080/"
    },
    "id": "B9ZKnB4oa844",
    "outputId": "893eaea2-e491-4f6c-cdc4-8a8afaba8e50"
   },
   "outputs": [
    {
     "data": {
      "text/plain": [
       "0"
      ]
     },
     "execution_count": 35,
     "metadata": {},
     "output_type": "execute_result"
    }
   ],
   "source": [
    "False or 0 "
   ]
  },
  {
   "cell_type": "code",
   "execution_count": null,
   "metadata": {
    "colab": {
     "base_uri": "https://localhost:8080/"
    },
    "id": "hde7itfea844",
    "outputId": "692d6bd8-bec0-4cc1-c4c8-cfd5ea5faeb0"
   },
   "outputs": [
    {
     "data": {
      "text/plain": [
       "True"
      ]
     },
     "execution_count": 1,
     "metadata": {},
     "output_type": "execute_result"
    }
   ],
   "source": [
    "True or 1"
   ]
  },
  {
   "cell_type": "markdown",
   "metadata": {
    "id": "5yEmU8cWXJUE"
   },
   "source": [
    "O operador **or** retorna o primeiro valor verdadeiro encontrado. Se todos os valores forem falsos, retorna o ultimo valor"
   ]
  },
  {
   "cell_type": "code",
   "execution_count": null,
   "metadata": {
    "colab": {
     "base_uri": "https://localhost:8080/"
    },
    "id": "HXGnJ0tqa844",
    "outputId": "6fc9955e-66bf-47f5-f5d3-9db753adb9e1"
   },
   "outputs": [
    {
     "data": {
      "text/plain": [
       "1"
      ]
     },
     "execution_count": 37,
     "metadata": {},
     "output_type": "execute_result"
    }
   ],
   "source": [
    "1 or 0"
   ]
  },
  {
   "cell_type": "code",
   "execution_count": null,
   "metadata": {
    "colab": {
     "base_uri": "https://localhost:8080/"
    },
    "id": "BFMQZTa2a844",
    "outputId": "fc14cbc8-021b-4630-f002-dd342a37ba66"
   },
   "outputs": [
    {
     "data": {
      "text/plain": [
       "1"
      ]
     },
     "execution_count": 38,
     "metadata": {},
     "output_type": "execute_result"
    }
   ],
   "source": [
    "1 or 2"
   ]
  },
  {
   "cell_type": "code",
   "execution_count": null,
   "metadata": {
    "colab": {
     "base_uri": "https://localhost:8080/"
    },
    "id": "xJ7QMAh4XYOi",
    "outputId": "4e859dab-8091-406d-8ed9-e757951fd2e4"
   },
   "outputs": [
    {
     "data": {
      "text/plain": [
       "False"
      ]
     },
     "execution_count": 41,
     "metadata": {},
     "output_type": "execute_result"
    }
   ],
   "source": [
    "0 or False"
   ]
  },
  {
   "cell_type": "code",
   "execution_count": null,
   "metadata": {
    "colab": {
     "base_uri": "https://localhost:8080/"
    },
    "id": "-IDL626Ha844",
    "outputId": "07a72522-8489-4ff3-8a3c-6629780da690"
   },
   "outputs": [
    {
     "data": {
      "text/plain": [
       "0"
      ]
     },
     "execution_count": 39,
     "metadata": {},
     "output_type": "execute_result"
    }
   ],
   "source": [
    "1 and 0"
   ]
  },
  {
   "cell_type": "code",
   "execution_count": null,
   "metadata": {
    "colab": {
     "base_uri": "https://localhost:8080/"
    },
    "id": "GnHPmSOxX_xM",
    "outputId": "c7320a9f-f35b-40ce-9c51-f37d6ea2b779"
   },
   "outputs": [
    {
     "data": {
      "text/plain": [
       "False"
      ]
     },
     "execution_count": 42,
     "metadata": {},
     "output_type": "execute_result"
    }
   ],
   "source": [
    "1 and False"
   ]
  },
  {
   "cell_type": "code",
   "execution_count": null,
   "metadata": {
    "colab": {
     "base_uri": "https://localhost:8080/"
    },
    "id": "dQOYRWi9a845",
    "outputId": "83713e6c-dd14-447c-ce3d-a00de8ddc976"
   },
   "outputs": [
    {
     "data": {
      "text/plain": [
       "2"
      ]
     },
     "execution_count": 40,
     "metadata": {},
     "output_type": "execute_result"
    }
   ],
   "source": [
    "1 and 2"
   ]
  },
  {
   "cell_type": "markdown",
   "metadata": {
    "id": "Hw2CExL4a845"
   },
   "source": [
    "Nestes exemplos vemos o funcionamento de curto-circuito de `and` e `or`: Caso o valor à esquerda já permite deduzir o resultado, a avaliação termina, se não, ela prossegue. Em qualquer caso, o resultado da expressão `and` ou `or` é o resultado do último operando avaliado.\n",
    "\n",
    "Mais algumas conversões:"
   ]
  },
  {
   "cell_type": "code",
   "execution_count": null,
   "metadata": {
    "colab": {
     "base_uri": "https://localhost:8080/"
    },
    "id": "I4Cse99na845",
    "outputId": "82dbcfea-55fa-4cb2-d797-8e33b5ef6982",
    "tags": []
   },
   "outputs": [
    {
     "name": "stdout",
     "output_type": "stream",
     "text": [
      "0.1: True\n",
      "0.0: False\n",
      "-2: True\n",
      "0: False\n",
      "'Oi': True\n",
      "'0': True\n",
      "'': False\n",
      "[1, 2]: True\n",
      "[]: False\n",
      "[0]: True\n",
      "{'a': 1}: True\n",
      "{}: False\n",
      "{1, 2}: True\n",
      "set() :  False\n"
     ]
    }
   ],
   "source": [
    "print(0.1, ': ', bool(0.1), sep='')\n",
    "print(0.0, ': ', bool(0.0), sep='')\n",
    "print(-2, ': ', bool(-2), sep='')\n",
    "print(0, ': ', bool(0), sep='')\n",
    "print(\"'Oi'\", ': ', bool(\"Oi\"), sep='')\n",
    "print(\"'0'\", ': ', bool(\"0\"), sep='')\n",
    "print(\"''\", ': ', bool(\"\"), sep='')\n",
    "print([1, 2], ': ', bool([1, 2]), sep='')\n",
    "print([], ': ', bool([]), sep='')\n",
    "print([0], ': ', bool([0]), sep='')\n",
    "print({'a': 1}, ': ', bool({'a', 1}), sep='')\n",
    "print({}, ': ', bool({}), sep='')\n",
    "print({1, 2}, ': ', bool({1, 2}), sep='')\n",
    "print(set(), ': ', bool(set()))"
   ]
  },
  {
   "cell_type": "markdown",
   "metadata": {
    "id": "pYYBuMQBa845"
   },
   "source": [
    "# Exercícios\n",
    "\n",
    "Tente encontrar manualmente as respostas antes de conferir o resultado no Python."
   ]
  },
  {
   "cell_type": "markdown",
   "metadata": {
    "id": "AVLDsu_Ma846"
   },
   "source": [
    "1. Qual o valor decimal correspondente aos seguintes números?\n",
    "\n",
    "- `0x1`\n",
    "- `0x10`\n",
    "- `0x100`\n",
    "- `0o1`\n",
    "- `0o10`\n",
    "- `0o100`\n",
    "- `0b1`\n",
    "- `0b10`\n",
    "- `0b100`\n",
    "- `0x2af`\n",
    "- `0o167`\n",
    "- `0b10001010`\n"
   ]
  },
  {
   "cell_type": "markdown",
   "metadata": {
    "id": "qj7nL4l1DdjD"
   },
   "source": [
    "Avaliando os resultados obtidos manualmente"
   ]
  },
  {
   "cell_type": "code",
   "execution_count": null,
   "metadata": {
    "colab": {
     "base_uri": "https://localhost:8080/"
    },
    "id": "9grd2TNkDVQB",
    "outputId": "fe83d12d-a017-44fd-82fb-5333231947b1"
   },
   "outputs": [
    {
     "data": {
      "text/plain": [
       "1"
      ]
     },
     "execution_count": 19,
     "metadata": {},
     "output_type": "execute_result"
    }
   ],
   "source": [
    "0x1"
   ]
  },
  {
   "cell_type": "code",
   "execution_count": null,
   "metadata": {
    "colab": {
     "base_uri": "https://localhost:8080/"
    },
    "id": "kKgrAIASG01N",
    "outputId": "33872183-2374-4170-9682-c84f183f303e"
   },
   "outputs": [
    {
     "data": {
      "text/plain": [
       "16"
      ]
     },
     "execution_count": 20,
     "metadata": {},
     "output_type": "execute_result"
    }
   ],
   "source": [
    "0x10"
   ]
  },
  {
   "cell_type": "code",
   "execution_count": null,
   "metadata": {
    "colab": {
     "base_uri": "https://localhost:8080/"
    },
    "id": "psFfcLZ7G3ry",
    "outputId": "5b9eb5df-8489-45b8-c15d-97d321c28c46"
   },
   "outputs": [
    {
     "data": {
      "text/plain": [
       "256"
      ]
     },
     "execution_count": 22,
     "metadata": {},
     "output_type": "execute_result"
    }
   ],
   "source": [
    "0x100"
   ]
  },
  {
   "cell_type": "code",
   "execution_count": null,
   "metadata": {
    "colab": {
     "base_uri": "https://localhost:8080/"
    },
    "id": "01Gd1nepG6_9",
    "outputId": "d91555c5-456b-4d23-ea2c-a3b8a4e6e173"
   },
   "outputs": [
    {
     "data": {
      "text/plain": [
       "1"
      ]
     },
     "execution_count": 23,
     "metadata": {},
     "output_type": "execute_result"
    }
   ],
   "source": [
    "0o1"
   ]
  },
  {
   "cell_type": "code",
   "execution_count": null,
   "metadata": {
    "colab": {
     "base_uri": "https://localhost:8080/"
    },
    "id": "0n6UVosdG9B5",
    "outputId": "fda119b3-71de-4140-f4cb-789288876ac5"
   },
   "outputs": [
    {
     "data": {
      "text/plain": [
       "8"
      ]
     },
     "execution_count": 24,
     "metadata": {},
     "output_type": "execute_result"
    }
   ],
   "source": [
    "0o10"
   ]
  },
  {
   "cell_type": "code",
   "execution_count": null,
   "metadata": {
    "colab": {
     "base_uri": "https://localhost:8080/"
    },
    "id": "gLa5EERxG-1B",
    "outputId": "fed91db6-4863-4e13-a7b5-287b04f1ad9d"
   },
   "outputs": [
    {
     "data": {
      "text/plain": [
       "64"
      ]
     },
     "execution_count": 25,
     "metadata": {},
     "output_type": "execute_result"
    }
   ],
   "source": [
    "0o100"
   ]
  },
  {
   "cell_type": "code",
   "execution_count": null,
   "metadata": {
    "colab": {
     "base_uri": "https://localhost:8080/"
    },
    "id": "Rb1-TS7bHBJj",
    "outputId": "7ad89da3-792d-4b2a-908d-cd67e638e955"
   },
   "outputs": [
    {
     "data": {
      "text/plain": [
       "1"
      ]
     },
     "execution_count": 26,
     "metadata": {},
     "output_type": "execute_result"
    }
   ],
   "source": [
    "0b1"
   ]
  },
  {
   "cell_type": "code",
   "execution_count": null,
   "metadata": {
    "colab": {
     "base_uri": "https://localhost:8080/"
    },
    "id": "hohGHdTEHDRR",
    "outputId": "4dc9f96a-4fac-4bf6-e744-990f0eb035a3"
   },
   "outputs": [
    {
     "data": {
      "text/plain": [
       "2"
      ]
     },
     "execution_count": 27,
     "metadata": {},
     "output_type": "execute_result"
    }
   ],
   "source": [
    "0b10"
   ]
  },
  {
   "cell_type": "code",
   "execution_count": null,
   "metadata": {
    "colab": {
     "base_uri": "https://localhost:8080/"
    },
    "id": "EZLDHNWlHEOK",
    "outputId": "d06e50dc-e472-40d5-aa56-e0ede1751df5"
   },
   "outputs": [
    {
     "data": {
      "text/plain": [
       "4"
      ]
     },
     "execution_count": 28,
     "metadata": {},
     "output_type": "execute_result"
    }
   ],
   "source": [
    "0b100"
   ]
  },
  {
   "cell_type": "code",
   "execution_count": null,
   "metadata": {
    "colab": {
     "base_uri": "https://localhost:8080/"
    },
    "id": "TMk3MUttHGIZ",
    "outputId": "54361fbb-5e5a-4587-d77d-61f163e106a9"
   },
   "outputs": [
    {
     "data": {
      "text/plain": [
       "687"
      ]
     },
     "execution_count": 29,
     "metadata": {},
     "output_type": "execute_result"
    }
   ],
   "source": [
    "0x2af"
   ]
  },
  {
   "cell_type": "code",
   "execution_count": null,
   "metadata": {
    "colab": {
     "base_uri": "https://localhost:8080/"
    },
    "id": "zVqVeymNHJR-",
    "outputId": "913abe15-159c-4405-cf52-58100e367f1e"
   },
   "outputs": [
    {
     "data": {
      "text/plain": [
       "119"
      ]
     },
     "execution_count": 30,
     "metadata": {},
     "output_type": "execute_result"
    }
   ],
   "source": [
    "0o167"
   ]
  },
  {
   "cell_type": "code",
   "execution_count": null,
   "metadata": {
    "colab": {
     "base_uri": "https://localhost:8080/"
    },
    "id": "cVYGAlO9HLIJ",
    "outputId": "20839f8d-a46a-4783-dfcc-a4a11aba50ae"
   },
   "outputs": [
    {
     "data": {
      "text/plain": [
       "138"
      ]
     },
     "execution_count": 31,
     "metadata": {},
     "output_type": "execute_result"
    }
   ],
   "source": [
    "0b10001010"
   ]
  },
  {
   "cell_type": "markdown",
   "metadata": {
    "id": "IxpABPUAa846"
   },
   "source": [
    "2. Quais as representações hexadecimal, octal e binária dos seguintes números:\n",
    "\n",
    "- `2`\n",
    "- `8`\n",
    "- `32`\n",
    "- `53`\n",
    "- `179`\n",
    "- `1999`\n",
    "- `1023`"
   ]
  },
  {
   "cell_type": "code",
   "execution_count": null,
   "metadata": {
    "colab": {
     "base_uri": "https://localhost:8080/"
    },
    "id": "0rlLKemCR60d",
    "outputId": "ae91442a-c170-40c3-bf1f-f9e5fe4bdcff"
   },
   "outputs": [
    {
     "name": "stdout",
     "output_type": "stream",
     "text": [
      "0x2\n",
      "0o2\n",
      "0b10\n"
     ]
    }
   ],
   "source": [
    "print(hex(2))\n",
    "print(oct(2))\n",
    "print(bin(2))\n"
   ]
  },
  {
   "cell_type": "code",
   "execution_count": null,
   "metadata": {
    "colab": {
     "base_uri": "https://localhost:8080/"
    },
    "id": "3BtJS4cVST0c",
    "outputId": "0daba969-e149-42c3-b87f-facea5e6d641"
   },
   "outputs": [
    {
     "name": "stdout",
     "output_type": "stream",
     "text": [
      "0x8\n",
      "0o10\n",
      "0b1000\n"
     ]
    }
   ],
   "source": [
    "print(hex(8))\n",
    "print(oct(8))\n",
    "print(bin(8))"
   ]
  },
  {
   "cell_type": "code",
   "execution_count": null,
   "metadata": {
    "colab": {
     "base_uri": "https://localhost:8080/"
    },
    "id": "BTLiEgBCSYKM",
    "outputId": "2acef937-d351-4ca5-bdae-e97e2c04da18"
   },
   "outputs": [
    {
     "name": "stdout",
     "output_type": "stream",
     "text": [
      "0x20\n",
      "0o40\n",
      "0b100000\n"
     ]
    }
   ],
   "source": [
    "print(hex(32))\n",
    "print(oct(32))\n",
    "print(bin(32))"
   ]
  },
  {
   "cell_type": "code",
   "execution_count": null,
   "metadata": {
    "colab": {
     "base_uri": "https://localhost:8080/"
    },
    "id": "ByGC03dGSZdU",
    "outputId": "c1928d9f-8c51-421b-88c1-7ae97d0630f6"
   },
   "outputs": [
    {
     "name": "stdout",
     "output_type": "stream",
     "text": [
      "0x35\n",
      "0o65\n",
      "0b110101\n"
     ]
    }
   ],
   "source": [
    "print(hex(53))\n",
    "print(oct(53))\n",
    "print(bin(53))"
   ]
  },
  {
   "cell_type": "code",
   "execution_count": null,
   "metadata": {
    "colab": {
     "base_uri": "https://localhost:8080/"
    },
    "id": "Ac2ds5ULSecT",
    "outputId": "cb41e3ec-f245-45f0-af66-020d60ebde11"
   },
   "outputs": [
    {
     "name": "stdout",
     "output_type": "stream",
     "text": [
      "0xb3\n",
      "0o263\n",
      "0b10110011\n"
     ]
    }
   ],
   "source": [
    "print(hex(179))\n",
    "print(oct(179))\n",
    "print(bin(179))"
   ]
  },
  {
   "cell_type": "code",
   "execution_count": null,
   "metadata": {
    "colab": {
     "base_uri": "https://localhost:8080/"
    },
    "id": "Q65En9gDSj9a",
    "outputId": "e5f955dd-0a34-41d8-c291-d61a7acdd5e7"
   },
   "outputs": [
    {
     "name": "stdout",
     "output_type": "stream",
     "text": [
      "0x7cf\n",
      "0o3717\n",
      "0b11111001111\n"
     ]
    }
   ],
   "source": [
    "print(hex(1999))\n",
    "print(oct(1999))\n",
    "print(bin(1999))"
   ]
  },
  {
   "cell_type": "code",
   "execution_count": null,
   "metadata": {
    "colab": {
     "base_uri": "https://localhost:8080/"
    },
    "id": "3LVjJOsZSrBf",
    "outputId": "cabf798e-601a-49b0-f508-8bc1cf637e66"
   },
   "outputs": [
    {
     "name": "stdout",
     "output_type": "stream",
     "text": [
      "0x3ff\n",
      "0o1777\n",
      "0b1111111111\n"
     ]
    }
   ],
   "source": [
    "print(hex(1023))\n",
    "print(oct(1023))\n",
    "print(bin(1023))"
   ]
  },
  {
   "cell_type": "markdown",
   "metadata": {
    "id": "VqfVGoq1a84-"
   },
   "source": [
    "3. Encontre o valor resultante das operações abaixo. Procure calcular manualmente os valores, e só depois conferir o resultado no Python.\n",
    "\n",
    "- `12 * 3 - 5`\n",
    "- `12 - 5 * 3`\n",
    "- `12 // 4 + 3 * 2`\n",
    "- `10 // 2 * 3`\n",
    "- `2 * 3 ** 2`\n",
    "- `2 ** 8 - 1`\n",
    "- `2 ** 6 // 3`\n",
    "- `2 ** 6 / 3`\n",
    "- `1 << 3 - 1`\n",
    "- `15 >> 3 + 1`\n",
    "- `1 << 4 << 2`\n",
    "- `1 << (4 + 2)`\n",
    "- `15 << 3`\n",
    "- `53 & 179`\n",
    "- `53 | 179`\n",
    "- `32 | 8 | 2`"
   ]
  },
  {
   "cell_type": "markdown",
   "metadata": {
    "id": "Rsasj-tCBSa2"
   },
   "source": [
    "#### Resolvendo as operações aritméticas"
   ]
  },
  {
   "cell_type": "code",
   "execution_count": null,
   "metadata": {
    "colab": {
     "base_uri": "https://localhost:8080/"
    },
    "id": "8v4G6SG8a84-",
    "outputId": "2e495b7f-d47b-42ea-ffe7-931ee7a071da"
   },
   "outputs": [
    {
     "data": {
      "text/plain": [
       "31"
      ]
     },
     "execution_count": 51,
     "metadata": {},
     "output_type": "execute_result"
    }
   ],
   "source": [
    "(12 * 3 - 5)"
   ]
  },
  {
   "cell_type": "code",
   "execution_count": null,
   "metadata": {
    "colab": {
     "base_uri": "https://localhost:8080/"
    },
    "id": "AMAqFNQ0TlPj",
    "outputId": "e3a916bc-b39a-42f9-c5dc-44208a3a8a45"
   },
   "outputs": [
    {
     "name": "stdout",
     "output_type": "stream",
     "text": [
      "-3\n"
     ]
    }
   ],
   "source": [
    "(12 - 5 * 3)"
   ]
  },
  {
   "cell_type": "markdown",
   "metadata": {
    "id": "zQ2Mp64G__dW"
   },
   "source": [
    "**Importante**: \n",
    "No caso abaixo, o python executa as operações na seguinte ordem: \n",
    "1. **Divisão inteira**: 12 // 4 = 3 \n",
    "2. Multiplicação: 3 * 2 = 6\n",
    "3. Soma: 3 + 6 = 9 "
   ]
  },
  {
   "cell_type": "code",
   "execution_count": null,
   "metadata": {
    "colab": {
     "base_uri": "https://localhost:8080/"
    },
    "id": "5SoyumROTmle",
    "outputId": "0c4a0f8f-865b-4c9c-8064-271387bbc4d3"
   },
   "outputs": [
    {
     "name": "stdout",
     "output_type": "stream",
     "text": [
      "9\n"
     ]
    }
   ],
   "source": [
    "print(12 // 4 + 3 * 2)  # ok"
   ]
  },
  {
   "cell_type": "code",
   "execution_count": null,
   "metadata": {
    "colab": {
     "base_uri": "https://localhost:8080/"
    },
    "id": "AL8qwk8mTn5b",
    "outputId": "8cf5c125-2856-487e-fe35-4cd955b49def"
   },
   "outputs": [
    {
     "data": {
      "text/plain": [
       "15"
      ]
     },
     "execution_count": 50,
     "metadata": {},
     "output_type": "execute_result"
    }
   ],
   "source": [
    "(10 // 2 * 3)  # ok\n"
   ]
  },
  {
   "cell_type": "code",
   "execution_count": null,
   "metadata": {
    "colab": {
     "base_uri": "https://localhost:8080/"
    },
    "id": "3edFu_vtTpFM",
    "outputId": "01e6a896-26fe-4c22-f4db-67526489cf9f"
   },
   "outputs": [
    {
     "data": {
      "text/plain": [
       "18"
      ]
     },
     "execution_count": 49,
     "metadata": {},
     "output_type": "execute_result"
    }
   ],
   "source": [
    "(2 * 3 ** 2)  \n"
   ]
  },
  {
   "cell_type": "code",
   "execution_count": null,
   "metadata": {
    "colab": {
     "base_uri": "https://localhost:8080/"
    },
    "id": "yD56C10iTqes",
    "outputId": "15dea786-61f2-4777-e7ac-58d589911349"
   },
   "outputs": [
    {
     "name": "stdout",
     "output_type": "stream",
     "text": [
      "255\n"
     ]
    }
   ],
   "source": [
    "print(2 ** 8 - 1)\n"
   ]
  },
  {
   "cell_type": "code",
   "execution_count": null,
   "metadata": {
    "colab": {
     "base_uri": "https://localhost:8080/"
    },
    "id": "oREHxUKDTrsc",
    "outputId": "d910fd18-420e-4a67-d5fb-03c268c81a49"
   },
   "outputs": [
    {
     "data": {
      "text/plain": [
       "21"
      ]
     },
     "execution_count": 48,
     "metadata": {},
     "output_type": "execute_result"
    }
   ],
   "source": [
    "(2 ** 6 // 3) \n"
   ]
  },
  {
   "cell_type": "code",
   "execution_count": null,
   "metadata": {
    "colab": {
     "base_uri": "https://localhost:8080/"
    },
    "id": "5mXkLu37Ts9G",
    "outputId": "56d42d9b-d0dc-45e4-b97b-203e33f02cdc"
   },
   "outputs": [
    {
     "data": {
      "text/plain": [
       "21.333333333333332"
      ]
     },
     "execution_count": 52,
     "metadata": {},
     "output_type": "execute_result"
    }
   ],
   "source": [
    "(2 ** 6 / 3)\n"
   ]
  },
  {
   "cell_type": "markdown",
   "metadata": {
    "id": "bG5RUSghCSy9"
   },
   "source": [
    "#### Resolvendo as operações bitwise "
   ]
  },
  {
   "cell_type": "markdown",
   "metadata": {
    "id": "ic4U7a7dCZks"
   },
   "source": [
    "Quando temos operações atirméticas e bit a bit numa mesma linha de código, a ordem de execução é:\n",
    "1. Operações aritméticas\n",
    "2. Operações bit a bit"
   ]
  },
  {
   "cell_type": "markdown",
   "metadata": {
    "id": "jJ5wbisSDgHA"
   },
   "source": [
    "**Operadores >> e <<**\n",
    "- **Right shift (>>)**: Este operador desloca os bits de um número para a direita, adicionando zeros à esquerda.\n",
    "- **Left shift (<<)**: Este operador desloca os bits de um número para a esquerda, adicionando zeros à direita.\n"
   ]
  },
  {
   "cell_type": "code",
   "execution_count": null,
   "metadata": {
    "colab": {
     "base_uri": "https://localhost:8080/"
    },
    "id": "tojLSa-hTt3o",
    "outputId": "d354675f-7fa6-40a6-a4be-3fac7aaa8362"
   },
   "outputs": [
    {
     "name": "stdout",
     "output_type": "stream",
     "text": [
      "Resultado binário já convertido em decimal: 4\n",
      "Em binário: 0b100\n"
     ]
    }
   ],
   "source": [
    "a = (1 << 3 - 1)  \n",
    "\n",
    "print(f'Resultado binário já convertido em decimal: {a}')\n",
    "print(f'Em binário: {bin(a)}')"
   ]
  },
  {
   "cell_type": "markdown",
   "metadata": {
    "id": "VcHQ5fmYHc2A"
   },
   "source": [
    "**Dúvida**: se o número binário tem 4 casas, depois de deslocar com o operador (>>) devo permanecer com o mesmo número de casas?? \n",
    "Obs: note que o << acrescenta casas (dado que zero a direita do número é significativo). "
   ]
  },
  {
   "cell_type": "code",
   "execution_count": null,
   "metadata": {
    "colab": {
     "base_uri": "https://localhost:8080/"
    },
    "id": "CQQZObVMTu4v",
    "outputId": "a6f3eb79-a57e-4ce4-cae3-3f5887093a4a"
   },
   "outputs": [
    {
     "name": "stdout",
     "output_type": "stream",
     "text": [
      "Número 15 em binário: 0b1111\n",
      "Deslocando 4 para direita obtemos: 0b0, ou seja, ficamos com (Ob0000), retornando 0.\n",
      "Resultado binário já convertido em decimal: 0\n"
     ]
    }
   ],
   "source": [
    "b = (15 >> 3 + 1)  # confirmar a dúvida\n",
    "\n",
    "print(f'Número 15 em binário: {bin(15)}')\n",
    "print(f'Deslocando 4 para direita obtemos: {bin(b)}, ou seja, ficamos com (Ob0000), retornando 0.')\n",
    "\n",
    "print(f'Resultado binário já convertido em decimal: {b}')\n"
   ]
  },
  {
   "cell_type": "markdown",
   "metadata": {
    "id": "FeCvMFIxH9PC"
   },
   "source": [
    "**Importante!**: Lembre-se que quando temos operadores que estão \"empatados\" na ordem de execução, o python segue a execução da esquerda para a direita!"
   ]
  },
  {
   "cell_type": "code",
   "execution_count": null,
   "metadata": {
    "colab": {
     "base_uri": "https://localhost:8080/"
    },
    "id": "YRKxvhe2Tv4y",
    "outputId": "b9595561-fd9d-409b-9561-4fe0123b204d"
   },
   "outputs": [
    {
     "name": "stdout",
     "output_type": "stream",
     "text": [
      "Para visualizar passo a passo temos as seguintes execuções: \n",
      "1º) 1 << 4 = 0b10000 (crescenta 4 zeros na direita de 1) \n",
      "2º) 0b10000 << 2 = 0b1000000 (acrescenta mais 2 zeros)\n",
      "Resultado binário já convertido em decimal: 64\n"
     ]
    }
   ],
   "source": [
    "c = (1 << 4 << 2)  # execução da esquerda para direita \n",
    "c1 = 1 << 4\n",
    "\n",
    "print(f'Para visualizar passo a passo temos as seguintes execuções: \\n1º) 1 << 4 = {bin(c1)} (crescenta 4 zeros na direita de 1) \\n2º) {bin(c1)} << 2 = {bin(c)} (acrescenta mais 2 zeros)')\n",
    "\n",
    "print(f'Resultado binário já convertido em decimal: {c}')"
   ]
  },
  {
   "cell_type": "code",
   "execution_count": null,
   "metadata": {
    "colab": {
     "base_uri": "https://localhost:8080/"
    },
    "id": "WlIffygcTw_X",
    "outputId": "f8ec48e2-2b4d-4bbd-c99c-6b5f36bc7d41"
   },
   "outputs": [
    {
     "name": "stdout",
     "output_type": "stream",
     "text": [
      "Resultado binário já convertido em decimal: 64\n",
      "Em binário: 0b1000000\n"
     ]
    }
   ],
   "source": [
    "d = (1 << (4 + 2))\n",
    "print(f'Resultado binário já convertido em decimal: {d}')\n",
    "print(f'Em binário: {bin(d)}')\n"
   ]
  },
  {
   "cell_type": "code",
   "execution_count": null,
   "metadata": {
    "colab": {
     "base_uri": "https://localhost:8080/"
    },
    "id": "MjJjVQsHTyA3",
    "outputId": "9e99dc20-96be-492e-b6e1-014cb200ada0"
   },
   "outputs": [
    {
     "name": "stdout",
     "output_type": "stream",
     "text": [
      "Número 15 em binário 0b1111\n",
      "Resultado da operação em binário: 0b1111000\n",
      "Resultado binário já convertido em decimal: 120\n"
     ]
    }
   ],
   "source": [
    "e = (15 << 3)\n",
    "\n",
    "print(f'Número 15 em binário {bin(15)}\\nResultado da operação em binário: {bin(e)}')\n",
    "print(f'Resultado binário já convertido em decimal: {e}')"
   ]
  },
  {
   "cell_type": "markdown",
   "metadata": {
    "id": "XLwYRdD8OPVQ"
   },
   "source": [
    "**Importante**: caso precisarmos fazer as operações na mão, lembre-se sempre de começar a comparação alinhando sempre a direite os números binários e avaliar começando da \"unidade\""
   ]
  },
  {
   "cell_type": "code",
   "execution_count": null,
   "metadata": {
    "colab": {
     "base_uri": "https://localhost:8080/"
    },
    "id": "QHCv1uesTy25",
    "outputId": "4464c465-4c77-4db5-b5e4-2352e66299ff"
   },
   "outputs": [
    {
     "name": "stdout",
     "output_type": "stream",
     "text": [
      "Primeiro número em binário:         0b110101\n",
      "Segundo número em binário:        0b10110011\n",
      "Aplicando o operador & bit a bit:   0b110001\n",
      "Resultado binário já convertido em decimal: 49\n"
     ]
    }
   ],
   "source": [
    "f = (53 & 179) \n",
    "\n",
    "print(f'Primeiro número em binário:         {bin(53)}')\n",
    "print(f'Segundo número em binário:        {bin(179)}')\n",
    "print(f'Aplicando o operador & bit a bit:   {bin(f)}')  # Permanece ativo quem está ativo no primeiro E no segundo\n",
    "print(f'Resultado binário já convertido em decimal: {f}')"
   ]
  },
  {
   "cell_type": "code",
   "execution_count": null,
   "metadata": {
    "colab": {
     "base_uri": "https://localhost:8080/"
    },
    "id": "6QMr-xjtTzyH",
    "outputId": "d4fd1a86-4d7b-4264-c0ba-48d0bbefe07c"
   },
   "outputs": [
    {
     "name": "stdout",
     "output_type": "stream",
     "text": [
      "Primeiro número em binário:         0b110101\n",
      "Segundo número em binário:        0b10110011\n",
      "Aplicando o operador & bit a bit: 0b10110111\n",
      "Resultado binário já convertido em decimal: 183\n"
     ]
    }
   ],
   "source": [
    "g = (53 | 179)\n",
    "\n",
    "print(f'Primeiro número em binário:         {bin(53)}')\n",
    "print(f'Segundo número em binário:        {bin(179)}')\n",
    "print(f'Aplicando o operador & bit a bit: {bin(g)}')  # Permanece ativo quem está ativo ou primeiro ou no segundo\n",
    "print(f'Resultado binário já convertido em decimal: {g}')"
   ]
  },
  {
   "cell_type": "code",
   "execution_count": null,
   "metadata": {
    "colab": {
     "base_uri": "https://localhost:8080/"
    },
    "id": "FzDbKi4XT04M",
    "outputId": "07732a67-898a-49d4-e964-fb7b4dd4cc0d"
   },
   "outputs": [
    {
     "name": "stdout",
     "output_type": "stream",
     "text": [
      "Primeiro número em binário:           0b100000\n",
      "Segundo número em binário:              0b1000\n",
      "Aplicando o operador nos 2 primeiros: 0b101000\n",
      "Terceiro número em binário:               0b10\n",
      "Aplicando no terceiro termo:          0b101010\n",
      "Resultado binário já convertido em decimal: 183\n"
     ]
    }
   ],
   "source": [
    "h = (32 | 8 | 2)  # lembre-se da ordem de execução da esquerda p direita quando os operadores são de mesmo tipo \n",
    "h1 = 32 | 8\n",
    "h2 = h1 | 2\n",
    "\n",
    "print(f'Primeiro número em binário:           {bin(32)}')\n",
    "print(f'Segundo número em binário:              {bin(8)}')\n",
    "print(f'Aplicando o operador nos 2 primeiros: {bin(h1)}') \n",
    "print(f'Terceiro número em binário:               {bin(2)}')\n",
    "print(f'Aplicando no terceiro termo:          {bin(h2)}')\n",
    "print(f'Resultado binário já convertido em decimal: {g}')"
   ]
  },
  {
   "cell_type": "markdown",
   "metadata": {
    "id": "t9SM87vnQL_1"
   },
   "source": [
    "**Duvida**: tem uma forma mais efetiva de deixar os números tabulados na hora de fazer o print? Sem ser dando espaço até ficar bom para comparar?"
   ]
  }
 ],
 "metadata": {
  "anaconda-cloud": {},
  "colab": {
   "provenance": []
  },
  "kernelspec": {
   "display_name": "Python 3 (ipykernel)",
   "language": "python",
   "name": "python3"
  },
  "language_info": {
   "codemirror_mode": {
    "name": "ipython",
    "version": 3
   },
   "file_extension": ".py",
   "mimetype": "text/x-python",
   "name": "python",
   "nbconvert_exporter": "python",
   "pygments_lexer": "ipython3",
   "version": "3.10.6"
  },
  "name": "Aula01.ipynb"
 },
 "nbformat": 4,
 "nbformat_minor": 4
}
