{
 "cells": [
  {
   "cell_type": "markdown",
   "metadata": {
    "tags": []
   },
   "source": [
    "# Sobrecarga de operadores"
   ]
  },
  {
   "cell_type": "markdown",
   "metadata": {},
   "source": [
    "O Python permite definir o que deve ser executado quando um operador for usado em conjunto com os objetos de uma classe."
   ]
  },
  {
   "cell_type": "markdown",
   "metadata": {},
   "source": [
    "## 1. Operadores aritméticos"
   ]
  },
  {
   "cell_type": "markdown",
   "metadata": {},
   "source": [
    "Por exemplo, ao encontrar o código `a + b` o Python tentará executar um código da seguinte forma `a.__add__(b)`. Portanto, se definirmos o método `__add__` para a classe do objeto `a`, podemos definir como esses tipos de objetos fazem somas.\n",
    "\n",
    "A classe abaixo define uma operação de soma que não é matematicamente correta."
   ]
  },
  {
   "cell_type": "code",
   "execution_count": 2,
   "metadata": {},
   "outputs": [],
   "source": [
    "class StonedNumber:\n",
    "    def __init__(self, val):\n",
    "        self._val = val\n",
    "    def get_value(self):\n",
    "        return self._val\n",
    "    def set_value(self, val):\n",
    "        self._val = val\n",
    "    def __add__(self, other):\n",
    "        return self._val + other._val / 2"
   ]
  },
  {
   "cell_type": "markdown",
   "metadata": {},
   "source": [
    "Com essa definição, podemos executar o método pela forma tradicional:"
   ]
  },
  {
   "cell_type": "code",
   "execution_count": 3,
   "metadata": {},
   "outputs": [],
   "source": [
    "a = StonedNumber(2); b = StonedNumber(8)"
   ]
  },
  {
   "cell_type": "code",
   "execution_count": 4,
   "metadata": {},
   "outputs": [
    {
     "data": {
      "text/plain": [
       "(2, 8)"
      ]
     },
     "execution_count": 4,
     "metadata": {},
     "output_type": "execute_result"
    }
   ],
   "source": [
    "a.get_value(), b.get_value()"
   ]
  },
  {
   "cell_type": "code",
   "execution_count": null,
   "metadata": {},
   "outputs": [],
   "source": [
    "a.__add__(b)"
   ]
  },
  {
   "cell_type": "markdown",
   "metadata": {},
   "source": [
    "Ou podemos simplesmente usar o operador `+`:"
   ]
  },
  {
   "cell_type": "code",
   "execution_count": null,
   "metadata": {},
   "outputs": [],
   "source": [
    "a + b"
   ]
  },
  {
   "cell_type": "markdown",
   "metadata": {},
   "source": [
    "### 1.1. Variantes"
   ]
  },
  {
   "cell_type": "markdown",
   "metadata": {},
   "source": [
    "No caso de operadores aritméticos, podemos definir para cada um **três** operações. Para o exemplo do `+`, temos as seguintes possibilidades (sendo `obj` um objeto de classe e `x` o objeto que queremos somar com `obj`):\n",
    "\n",
    "    obj + x\n",
    "    x + obj\n",
    "    obj += x\n",
    "\n",
    "Podemos definir as operações separadamente (se necessário) para cada um desses casos, com os métodos `__add__`, `__radd__` e `__iadd__`, respectivamente."
   ]
  },
  {
   "cell_type": "code",
   "execution_count": null,
   "metadata": {},
   "outputs": [],
   "source": [
    "class Useless:\n",
    "    def __init__(self, ini):\n",
    "        self._val = ini\n",
    "    def value(self):\n",
    "        return self._val\n",
    "    def set_value(self, newv):\n",
    "        self._val = newv\n",
    "    def __add__(self, other):\n",
    "        print('Useless.__add__')\n",
    "        if isinstance(other, Useless):\n",
    "            return Useless(self._val + other._val)\n",
    "        else:\n",
    "            return Useless(self._val + other)\n",
    "    def __radd__(self, other):\n",
    "        print('Useless.__radd__')\n",
    "        return self.__add__(other)\n",
    "    \n",
    "    def __iadd__(self, other):\n",
    "        print('Useless.__iadd__')\n",
    "        if isinstance(other, Useless):\n",
    "            self._val += other._val\n",
    "        else:\n",
    "            self._val += other\n",
    "        return self\n",
    "    def __sub__(self, other):\n",
    "        print('Useless.__sub__')\n",
    "        if isinstance(other, Useless):\n",
    "            return Useless(self._val - other._val)\n",
    "        else:\n",
    "            return Useless(self._val - other)\n",
    "    def __rsub__(self, other):\n",
    "        print('Useless.__rsub__')\n",
    "        return Useless(other - self._val)\n",
    "    def __isub__(self, other):\n",
    "        print('Useless.__isub__')\n",
    "        if isinstance(other, Useless):\n",
    "            self._val -= other._val\n",
    "        else:\n",
    "            self._val -= other\n",
    "        return self"
   ]
  },
  {
   "cell_type": "markdown",
   "metadata": {},
   "source": [
    "Note como os métodos do tipo `a + b` retornam um novo objeto, enquanto os método do tipo `+=` retornam `self`. Isso é a forma correta e deve ser seguida.\n",
    "\n",
    "Veja as mensagens nas execuções abaixo, para entender qual método é chamado em qual situação (veja o código acima)."
   ]
  },
  {
   "cell_type": "code",
   "execution_count": null,
   "metadata": {},
   "outputs": [],
   "source": [
    "a = Useless(5); b = Useless(3)"
   ]
  },
  {
   "cell_type": "code",
   "execution_count": null,
   "metadata": {},
   "outputs": [],
   "source": [
    "c = a + b"
   ]
  },
  {
   "cell_type": "code",
   "execution_count": null,
   "metadata": {},
   "outputs": [],
   "source": [
    "c.value()"
   ]
  },
  {
   "cell_type": "code",
   "execution_count": null,
   "metadata": {},
   "outputs": [],
   "source": [
    "d = a + 3"
   ]
  },
  {
   "cell_type": "code",
   "execution_count": null,
   "metadata": {},
   "outputs": [],
   "source": [
    "d.value()"
   ]
  },
  {
   "cell_type": "code",
   "execution_count": null,
   "metadata": {},
   "outputs": [],
   "source": [
    "e = 3 + a"
   ]
  },
  {
   "cell_type": "code",
   "execution_count": null,
   "metadata": {},
   "outputs": [],
   "source": [
    "e.value()"
   ]
  },
  {
   "cell_type": "code",
   "execution_count": null,
   "metadata": {},
   "outputs": [],
   "source": [
    "c = a - b"
   ]
  },
  {
   "cell_type": "code",
   "execution_count": null,
   "metadata": {},
   "outputs": [],
   "source": [
    "c.value()"
   ]
  },
  {
   "cell_type": "code",
   "execution_count": null,
   "metadata": {},
   "outputs": [],
   "source": [
    "d = a - 2"
   ]
  },
  {
   "cell_type": "code",
   "execution_count": null,
   "metadata": {},
   "outputs": [],
   "source": [
    "d.value()"
   ]
  },
  {
   "cell_type": "code",
   "execution_count": null,
   "metadata": {},
   "outputs": [],
   "source": [
    "e = 2 - b"
   ]
  },
  {
   "cell_type": "code",
   "execution_count": null,
   "metadata": {},
   "outputs": [],
   "source": [
    "e.value()"
   ]
  },
  {
   "cell_type": "code",
   "execution_count": null,
   "metadata": {},
   "outputs": [],
   "source": [
    "a += 4"
   ]
  },
  {
   "cell_type": "code",
   "execution_count": null,
   "metadata": {},
   "outputs": [],
   "source": [
    "a.value()"
   ]
  },
  {
   "cell_type": "code",
   "execution_count": null,
   "metadata": {},
   "outputs": [],
   "source": [
    "a -= b\n",
    "a.value()"
   ]
  },
  {
   "cell_type": "markdown",
   "metadata": {},
   "source": [
    "Uma das características do `__iadd__` que o diferencia do `__add__` é que ele em geral não cria um novo objeto (a exceção é quando o objeto é de um tipo imutável, como string ou int, onde um novo objeto deve ser criado)."
   ]
  },
  {
   "cell_type": "code",
   "execution_count": null,
   "metadata": {},
   "outputs": [],
   "source": [
    "b = a"
   ]
  },
  {
   "cell_type": "code",
   "execution_count": null,
   "metadata": {},
   "outputs": [],
   "source": [
    "b is a"
   ]
  },
  {
   "cell_type": "code",
   "execution_count": null,
   "metadata": {},
   "outputs": [],
   "source": [
    "a += 1"
   ]
  },
  {
   "cell_type": "code",
   "execution_count": null,
   "metadata": {},
   "outputs": [],
   "source": [
    "b is a"
   ]
  },
  {
   "cell_type": "code",
   "execution_count": null,
   "metadata": {},
   "outputs": [],
   "source": [
    "b = b + a"
   ]
  },
  {
   "cell_type": "code",
   "execution_count": null,
   "metadata": {},
   "outputs": [],
   "source": [
    "b is a"
   ]
  },
  {
   "cell_type": "markdown",
   "metadata": {},
   "source": [
    "## 2. Diversos operadores"
   ]
  },
  {
   "cell_type": "markdown",
   "metadata": {},
   "source": [
    "Abaixo uma tabela resumida das operações aritméticas:\n",
    "\n",
    "| Operação | Tradução |\n",
    "|----------|----------|\n",
    "| `a + b`  | `a.__add__(b)` |\n",
    "| `a - b`  | `a.__sub__(b)` |\n",
    "| `a * b`  | `a.__mul__(b)` |\n",
    "| `a / b`  | `a.__truediv__(b)` |\n",
    "| `a // b`  | `a.__floordiv__(b)` |\n",
    "| `a % b`  | `a.__mod__(b)` |\n",
    "| `-a`  | `a.__neg__()` |\n",
    "| `+a`  | `a.__pos__()` |\n",
    "| `a ** b`  | `a.__pow__(b)` |\n",
    "\n",
    "Também operações lógicas bit a bit podem ser sobrecarregadas. Por exemplo:\n",
    "\n",
    "| Operação | Tradução |\n",
    "|----------|----------|\n",
    "| `a & b`  | `a.__and__(b)` |\n",
    "| `a \\| b`  | `a.__or__(b)` |\n",
    "| `a ^ b`  | `a.__xor__(b)` |\n",
    "| `a << b`  | `a.__lshift__(b)` |\n",
    "| `a >> b`  | `a.__rshift__(b)` |\n",
    "| `~a` | `a.__inv__()` |\n",
    "\n",
    "Quando apropriado, temos também as versões `__r*` e `__i*`  desses métodos."
   ]
  },
  {
   "cell_type": "markdown",
   "metadata": {},
   "source": [
    "## 3. Indexação"
   ]
  },
  {
   "cell_type": "markdown",
   "metadata": {},
   "source": [
    "### 3.1. Leitura"
   ]
  },
  {
   "cell_type": "markdown",
   "metadata": {},
   "source": [
    "Um outro operador que pode ser definido para suas classes é o de indexação, chamado quando usamos o objeto da forma `obj[i]` (para leitura). O método a ser implementado se chama `__getitem__` e deve receber o índice do ítem a ser retornado.\n",
    "\n",
    "O caso mais simples é quando queremos apenas indexar com um valor, como no caso da classe abaixo, que representa uma lista com os quadrados dos valores de `0` a `maximo - 1`."
   ]
  },
  {
   "cell_type": "code",
   "execution_count": null,
   "metadata": {},
   "outputs": [],
   "source": [
    "class Squares:\n",
    "    def __init__(self, max_):\n",
    "        self._max = max_\n",
    "    def __getitem__(self, i):\n",
    "        if i < 0:\n",
    "            i += self._max\n",
    "        if i < 0 or i >= self._max: \n",
    "            raise IndexError()\n",
    "        return i ** 2"
   ]
  },
  {
   "cell_type": "code",
   "execution_count": null,
   "metadata": {},
   "outputs": [],
   "source": [
    "q = Squares(10)\n",
    "for i in range(10): print(q[i], end=' ')"
   ]
  },
  {
   "cell_type": "code",
   "execution_count": null,
   "metadata": {},
   "outputs": [],
   "source": [
    "q[1], q[0], q[9]"
   ]
  },
  {
   "cell_type": "code",
   "execution_count": null,
   "metadata": {},
   "outputs": [],
   "source": [
    "q[10]"
   ]
  },
  {
   "cell_type": "markdown",
   "metadata": {},
   "source": [
    "Por ter o método `__getitem__`, os objetos do tipo `Squares` podem ser usados como uma lista em operações `for`."
   ]
  },
  {
   "cell_type": "code",
   "execution_count": null,
   "metadata": {},
   "outputs": [],
   "source": [
    "for x in q:\n",
    "    print(x)"
   ]
  },
  {
   "cell_type": "markdown",
   "metadata": {},
   "source": [
    "Este foi apenas um exemplo. A forma mais simples de realizar isso é:"
   ]
  },
  {
   "cell_type": "code",
   "execution_count": null,
   "metadata": {},
   "outputs": [],
   "source": [
    "for x in (i ** 2 for i in range(10)):\n",
    "    print(x)"
   ]
  },
  {
   "cell_type": "markdown",
   "metadata": {},
   "source": [
    "### 3.2. Escrita"
   ]
  },
  {
   "cell_type": "markdown",
   "metadata": {},
   "source": [
    "Se quisermos **alterar** o valor de um índice, devemos usar o `__setitem__`.\n",
    "\n",
    "Esse método não faz sentido para o objeto de quadrados, então não o definimos, o que faz com que atribuições sejam proibidas."
   ]
  },
  {
   "cell_type": "code",
   "execution_count": null,
   "metadata": {},
   "outputs": [],
   "source": [
    "q[2] = 5"
   ]
  },
  {
   "cell_type": "markdown",
   "metadata": {},
   "source": [
    "Vejamos um exemplo que possibilita alteração, na classe abaixo que guarda o valor absoluto dos elementos inseridos."
   ]
  },
  {
   "cell_type": "code",
   "execution_count": null,
   "metadata": {},
   "outputs": [],
   "source": [
    "class AbsoluteValues:\n",
    "    def __init__(self, size):\n",
    "        self._values = [0 for i in range(size)]\n",
    "    def __getitem__(self, i):\n",
    "        return self._values[i]\n",
    "    def __setitem__(self, i, val):\n",
    "        self._values[i] = abs(val)"
   ]
  },
  {
   "cell_type": "code",
   "execution_count": null,
   "metadata": {},
   "outputs": [],
   "source": [
    "va = AbsoluteValues(5)"
   ]
  },
  {
   "cell_type": "code",
   "execution_count": null,
   "metadata": {},
   "outputs": [],
   "source": [
    "va[0:5]"
   ]
  },
  {
   "cell_type": "code",
   "execution_count": null,
   "metadata": {},
   "outputs": [],
   "source": [
    "va[3] = -4; va[1] = 10"
   ]
  },
  {
   "cell_type": "code",
   "execution_count": null,
   "metadata": {},
   "outputs": [],
   "source": [
    "va[0:5]"
   ]
  },
  {
   "cell_type": "markdown",
   "metadata": {},
   "source": [
    "O código anterior nos lembra que as listas de Python aceitam indexação com faixas de índices (denominados *slices*).\n",
    "\n",
    "Para permitir indexação com *slices* na sua classe, o seu método `__getitem__` deve saber lidar com um objeto do tipo `slice` sendo passado como índice ao invés de um inteiro.\n",
    "\n",
    "No código anterior isso funciona pois o `__getitem__` usa o valor recebido no argumento `i` apenas para diretamente indexar uma lista, que já sabe lidar com *slices*."
   ]
  },
  {
   "cell_type": "code",
   "execution_count": null,
   "metadata": {},
   "outputs": [],
   "source": [
    "va[-3]"
   ]
  },
  {
   "cell_type": "code",
   "execution_count": null,
   "metadata": {},
   "outputs": [],
   "source": [
    "va[1:-2]"
   ]
  },
  {
   "cell_type": "markdown",
   "metadata": {},
   "source": [
    "No caso normal, precisamos programar especialmente o `__getitem__` para funcionar corretamente com *slices*.\n",
    "\n",
    "Os objetos do tipo `slice` possuem atributos `start`, `stop` e `step` que definem os valores do slice (similares aos parâmetros de `range`). Os valores desses atributos serão `None` se não forem especificados (por exemplo, usando `[1:10:2]` teremos `start=1`, `stop=10` e `step=2`; com `[:10]` teremos `start=None`, `stop=10` e `step=None`.\n",
    "\n",
    "No exemplo abaixo, redefinimos `Squares` para aceitar slices."
   ]
  },
  {
   "cell_type": "code",
   "execution_count": null,
   "metadata": {},
   "outputs": [],
   "source": [
    "class Squares:\n",
    "    def __init__(self, max_):\n",
    "        self._max = max_\n",
    "    def __getitem__(self, i):\n",
    "        if isinstance(i, slice):\n",
    "            # We got a slice\n",
    "            # Take care of the None values\n",
    "            start = 0 if i.start is None else i.start\n",
    "            stop = self._max if i.stop is None else i.stop\n",
    "            step = 1 if i.step is None else i.step\n",
    "            # The negative values must be converted\n",
    "            if start < 0: start += self._max\n",
    "            if stop < 0: stop += self._max\n",
    "            if (start < 0 or start > self._max or\n",
    "                stop < 0 or stop > self._max):\n",
    "                raise IndexError()\n",
    "            # Returns a generator with the required values\n",
    "            return (x ** 2 for x in range(start, stop, step))\n",
    "        else:\n",
    "            if i < 0:\n",
    "                i += self._max\n",
    "            if i < 0 or i >= self._max: \n",
    "                raise IndexError()\n",
    "            return i ** 2"
   ]
  },
  {
   "cell_type": "code",
   "execution_count": null,
   "metadata": {},
   "outputs": [],
   "source": [
    "q = Squares(10)"
   ]
  },
  {
   "cell_type": "code",
   "execution_count": null,
   "metadata": {},
   "outputs": [],
   "source": [
    "m = list(i**2 for i in range(10))\n",
    "m"
   ]
  },
  {
   "cell_type": "code",
   "execution_count": null,
   "metadata": {},
   "outputs": [],
   "source": [
    "[q[i] for i in range(10)]"
   ]
  },
  {
   "cell_type": "code",
   "execution_count": null,
   "metadata": {},
   "outputs": [],
   "source": [
    "list(q[1:3])"
   ]
  },
  {
   "cell_type": "code",
   "execution_count": null,
   "metadata": {},
   "outputs": [],
   "source": [
    "list(q[:-1])"
   ]
  },
  {
   "cell_type": "code",
   "execution_count": null,
   "metadata": {},
   "outputs": [],
   "source": [
    "list(q[::2])"
   ]
  },
  {
   "cell_type": "code",
   "execution_count": null,
   "metadata": {},
   "outputs": [],
   "source": [
    "q[2]"
   ]
  },
  {
   "cell_type": "code",
   "execution_count": null,
   "metadata": {},
   "outputs": [],
   "source": [
    "list(q[-5:-1])"
   ]
  },
  {
   "cell_type": "code",
   "execution_count": null,
   "metadata": {},
   "outputs": [],
   "source": [
    "list(q[-5:1:-1])"
   ]
  },
  {
   "cell_type": "code",
   "execution_count": null,
   "metadata": {
    "tags": []
   },
   "outputs": [],
   "source": [
    "list(q[:])"
   ]
  },
  {
   "cell_type": "code",
   "execution_count": null,
   "metadata": {},
   "outputs": [],
   "source": [
    "q[:15]"
   ]
  },
  {
   "cell_type": "markdown",
   "metadata": {},
   "source": [
    "# Exercício"
   ]
  },
  {
   "cell_type": "markdown",
   "metadata": {},
   "source": [
    "1. O código abaixo usa funções (métodos) com nomes arbitrários para as operações aritméticas. Re-escreva o código para substituir esses métodos por operadores aritméticos. (Não ligue para o fato de que o código é inútil.)\n",
    "```python\n",
    "class GrowingInt:\n",
    "    def __init__(self, val):\n",
    "        self._value = val\n",
    "\n",
    "    def get_value(self):\n",
    "        return self._value\n",
    "\n",
    "    def add(self, other):\n",
    "        if other._value > 0:\n",
    "            result = GrowingInt(self._value + other._value)\n",
    "        else:\n",
    "            result = GrowingInt(self._value)\n",
    "        return result\n",
    "\n",
    "    def sub(self, other):\n",
    "        if other._value < 0:\n",
    "            result = GrowingInt(self._value - other._value)\n",
    "        else:\n",
    "            result = GrowingInt(self._value)\n",
    "        return result\n",
    "\n",
    "    def mul(self, other):\n",
    "        if ((self._value > 0 and other._value > 1)\n",
    "            or (self._value < 0 and other._value < 1)):\n",
    "            result = GrowingInt(self._value * other._value)\n",
    "        else:\n",
    "            result = GrowingInt(self._value)\n",
    "        return result\n",
    "\n",
    "    def div(self, other):\n",
    "        if ((self._value > 0 and other._value < 1)\n",
    "            or (self._value < 0 and other._value > 1)):\n",
    "            result = GrowingInt(self._value * other._value)\n",
    "        else:\n",
    "            result = GrowingInt(self._value)\n",
    "        return result\n",
    "\n",
    "a = GrowingInt(10)\n",
    "b = GrowingInt(2)\n",
    "c = GrowingInt(-3)\n",
    "d = GrowingInt(0.5)\n",
    "\n",
    "apb = a.add(b); print(apb.get_value())\n",
    "apc = a.add(c); print(apc.get_value())\n",
    "cpb = c.add(b); print(cpb.get_value())\n",
    "cpc = c.add(c); print(cpc.get_value())\n",
    "amb = a.mul(b); print(amb.get_value())\n",
    "amc = a.mul(c); print(amc.get_value())\n",
    "amd = a.mul(d); print(amd.get_value())\n",
    "cmb = c.mul(b); print(cmb.get_value())\n",
    "cmd = c.mul(d); print(cmd.get_value())\n",
    "```\n",
    "\n",
    "2. Escreva uma classe `Multiples` cujos objetos quando criados com `Multiples(a, n)` representam a sequência dos `n` primeiros múltiplos de `a` começando de 0. Isto é, se `m3 = Multiples(3, 10)`, então `m3[0]` deve ser 0, `m3[1]` dever ser 3, etc, até `m3[9]` que deve ser 27. Fora dessa faixa (incluindo negativos) os índices devem ser inválidos. O objeto deve também funcionar com *slice*, com por exemplo `m3[1:5]` devendo retornar um gerador que fornece os valores múltiplos de 3 de 3 (incluido) a 15 (excluido)."
   ]
  }
 ],
 "metadata": {
  "kernelspec": {
   "display_name": "Python 3 (ipykernel)",
   "language": "python",
   "name": "python3"
  },
  "language_info": {
   "codemirror_mode": {
    "name": "ipython",
    "version": 3
   },
   "file_extension": ".py",
   "mimetype": "text/x-python",
   "name": "python",
   "nbconvert_exporter": "python",
   "pygments_lexer": "ipython3",
   "version": "3.11.2"
  }
 },
 "nbformat": 4,
 "nbformat_minor": 4
}
